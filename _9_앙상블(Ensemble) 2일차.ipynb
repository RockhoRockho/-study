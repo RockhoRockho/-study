{
 "cells": [
  {
   "cell_type": "markdown",
   "metadata": {
    "id": "b2MQEkXAYQeB"
   },
   "source": [
    "# 앙상블(Ensemble)\n",
    "\n",
    "* 일반화와 강건성(Robustness)을 향상시키기 위해 여러 모델의 예측 값을 결합하는 방법\n",
    "* 앙상블에는 크게 두가지 종류가 존재\n",
    "  * 평균 방법\n",
    "    * 여러개의 추정값을 독립적으로 구한뒤 평균을 취함\n",
    "    * 결합 추정값은 분산이 줄어들기 때문에 단일 추정값보다 좋은 성능을 보임\n",
    "  * 부스팅 방법\n",
    "    * 순차적으로 모델 생성\n",
    "    * 결합된 모델의 편향을 감소 시키기 위해 노력\n",
    "    * 부스팅 방법의 목표는 여러개의 약한 모델들을 결합해 하나의 강력한 앙상블 모델을 구축하는 것"
   ]
  },
  {
   "cell_type": "markdown",
   "metadata": {
    "id": "nT_iMqd0do5N"
   },
   "source": [
    "## Bagging meta-estimator\n",
    "\n",
    "* bagging은 bootstrap aggregating의 줄임말\n",
    "* 원래 훈련 데이터셋의 일부를 사용해 여러 모델을 훈련\n",
    "* 각각의 결과를 결합해 최종 결과를 생성\n",
    "* 분산을 줄이고 과적합을 막음\n",
    "* 강력하고 복잡한 모델에서 잘 동작"
   ]
  },
  {
   "cell_type": "code",
   "execution_count": 1,
   "metadata": {
    "id": "DeBq-DEl4Mxc"
   },
   "outputs": [],
   "source": [
    "from sklearn.datasets import load_iris, load_wine, load_breast_cancer\n",
    "from sklearn.datasets import load_boston, load_diabetes\n",
    "from sklearn.preprocessing import StandardScaler\n",
    "from sklearn.pipeline import make_pipeline\n",
    "from sklearn.model_selection import cross_validate"
   ]
  },
  {
   "cell_type": "code",
   "execution_count": 2,
   "metadata": {},
   "outputs": [],
   "source": [
    "from sklearn.ensemble import BaggingClassifier\n",
    "from sklearn.neighbors import KNeighborsClassifier\n",
    "from sklearn.svm import SVC\n",
    "from sklearn.tree import DecisionTreeClassifier"
   ]
  },
  {
   "cell_type": "code",
   "execution_count": 3,
   "metadata": {
    "id": "sJK4QMLlYN3G"
   },
   "outputs": [],
   "source": [
    "from sklearn.ensemble import BaggingRegressor\n",
    "from sklearn.neighbors import KNeighborsRegressor\n",
    "from sklearn.svm import SVR\n",
    "from sklearn.tree import DecisionTreeRegressor"
   ]
  },
  {
   "cell_type": "markdown",
   "metadata": {
    "id": "bnC_CfiDf3kC"
   },
   "source": [
    "### Bagging을 사용한 분류"
   ]
  },
  {
   "cell_type": "markdown",
   "metadata": {
    "id": "yw2FY84r4zQR"
   },
   "source": [
    "#### 데이터셋 불러오기"
   ]
  },
  {
   "cell_type": "code",
   "execution_count": 4,
   "metadata": {
    "id": "6DlynlPmf-3Y"
   },
   "outputs": [],
   "source": [
    "iris = load_iris()\n",
    "wine = load_wine()\n",
    "cancer = load_breast_cancer()"
   ]
  },
  {
   "cell_type": "markdown",
   "metadata": {
    "id": "9XzfsGdL4_YF"
   },
   "source": [
    "#### KNN"
   ]
  },
  {
   "cell_type": "markdown",
   "metadata": {
    "id": "h5TYJLtQ8k70"
   },
   "source": [
    "##### 붓꽃 데이터"
   ]
  },
  {
   "cell_type": "code",
   "execution_count": 5,
   "metadata": {
    "id": "vqMhwq26gIl9"
   },
   "outputs": [],
   "source": [
    "base_model = make_pipeline(\n",
    "    StandardScaler(),\n",
    "    KNeighborsRegressor()\n",
    ")\n",
    "\n",
    "bagging_model = BaggingClassifier(base_model, n_estimators=10, max_samples=0.5, max_features=0.5)"
   ]
  },
  {
   "cell_type": "code",
   "execution_count": 6,
   "metadata": {
    "colab": {
     "base_uri": "https://localhost:8080/",
     "height": 69
    },
    "id": "m-fGDZoD52eY",
    "outputId": "d4567e74-e3ee-4ca6-a8e2-7d3d00233931"
   },
   "outputs": [
    {
     "name": "stdout",
     "output_type": "stream",
     "text": [
      "avg fit time: 0.00120697021484375 (+/- 0.00040988453378211596)\n",
      "avg score time: 0.0005950450897216797 (+/- 0.000486018069383018)\n",
      "avg test score: 0.522 (+/- 0.4397526577520595)\n"
     ]
    }
   ],
   "source": [
    "cross_val = cross_validate(\n",
    "    estimator=base_model,\n",
    "    X=iris.data, y=iris.target,\n",
    "    cv=5\n",
    ")\n",
    "\n",
    "print('avg fit time: {} (+/- {})'.format(cross_val['fit_time'].mean(), cross_val['fit_time'].std()))\n",
    "print('avg score time: {} (+/- {})'.format(cross_val['score_time'].mean(), cross_val['score_time'].std()))\n",
    "print('avg test score: {} (+/- {})'.format(cross_val['test_score'].mean(), cross_val['test_score'].std()))"
   ]
  },
  {
   "cell_type": "code",
   "execution_count": 7,
   "metadata": {
    "colab": {
     "base_uri": "https://localhost:8080/",
     "height": 69
    },
    "id": "j8UhV67NgiC0",
    "outputId": "be7059c2-0555-448f-cf78-e545169e2c4f"
   },
   "outputs": [
    {
     "name": "stdout",
     "output_type": "stream",
     "text": [
      "avg fit time: 0.01516566276550293 (+/- 0.0009819136377617256)\n",
      "avg score time: 0.006416988372802734 (+/- 0.008858591252100069)\n",
      "avg test score: nan (+/- nan)\n"
     ]
    },
    {
     "name": "stderr",
     "output_type": "stream",
     "text": [
      "C:\\Users\\2020 M\\anaconda3\\lib\\site-packages\\sklearn\\model_selection\\_validation.py:683: UserWarning: Scoring failed. The score on this train-test partition for these parameters will be set to nan. Details: \n",
      "Traceback (most recent call last):\n",
      "  File \"C:\\Users\\2020 M\\anaconda3\\lib\\site-packages\\sklearn\\model_selection\\_validation.py\", line 674, in _score\n",
      "    scores = scorer(estimator, X_test, y_test)\n",
      "  File \"C:\\Users\\2020 M\\anaconda3\\lib\\site-packages\\sklearn\\metrics\\_scorer.py\", line 397, in _passthrough_scorer\n",
      "    return estimator.score(*args, **kwargs)\n",
      "  File \"C:\\Users\\2020 M\\anaconda3\\lib\\site-packages\\sklearn\\base.py\", line 500, in score\n",
      "    return accuracy_score(y, self.predict(X), sample_weight=sample_weight)\n",
      "  File \"C:\\Users\\2020 M\\anaconda3\\lib\\site-packages\\sklearn\\ensemble\\_bagging.py\", line 677, in predict\n",
      "    predicted_probabilitiy = self.predict_proba(X)\n",
      "  File \"C:\\Users\\2020 M\\anaconda3\\lib\\site-packages\\sklearn\\ensemble\\_bagging.py\", line 720, in predict_proba\n",
      "    all_proba = Parallel(n_jobs=n_jobs, verbose=self.verbose,\n",
      "  File \"C:\\Users\\2020 M\\anaconda3\\lib\\site-packages\\joblib\\parallel.py\", line 1041, in __call__\n",
      "    if self.dispatch_one_batch(iterator):\n",
      "  File \"C:\\Users\\2020 M\\anaconda3\\lib\\site-packages\\joblib\\parallel.py\", line 859, in dispatch_one_batch\n",
      "    self._dispatch(tasks)\n",
      "  File \"C:\\Users\\2020 M\\anaconda3\\lib\\site-packages\\joblib\\parallel.py\", line 777, in _dispatch\n",
      "    job = self._backend.apply_async(batch, callback=cb)\n",
      "  File \"C:\\Users\\2020 M\\anaconda3\\lib\\site-packages\\joblib\\_parallel_backends.py\", line 208, in apply_async\n",
      "    result = ImmediateResult(func)\n",
      "  File \"C:\\Users\\2020 M\\anaconda3\\lib\\site-packages\\joblib\\_parallel_backends.py\", line 572, in __init__\n",
      "    self.results = batch()\n",
      "  File \"C:\\Users\\2020 M\\anaconda3\\lib\\site-packages\\joblib\\parallel.py\", line 262, in __call__\n",
      "    return [func(*args, **kwargs)\n",
      "  File \"C:\\Users\\2020 M\\anaconda3\\lib\\site-packages\\joblib\\parallel.py\", line 262, in <listcomp>\n",
      "    return [func(*args, **kwargs)\n",
      "  File \"C:\\Users\\2020 M\\anaconda3\\lib\\site-packages\\sklearn\\utils\\fixes.py\", line 222, in __call__\n",
      "    return self.function(*args, **kwargs)\n",
      "  File \"C:\\Users\\2020 M\\anaconda3\\lib\\site-packages\\sklearn\\ensemble\\_bagging.py\", line 143, in _parallel_predict_proba\n",
      "    proba[i, predictions[i]] += 1\n",
      "IndexError: only integers, slices (`:`), ellipsis (`...`), numpy.newaxis (`None`) and integer or boolean arrays are valid indices\n",
      "\n",
      "  warnings.warn(\n",
      "C:\\Users\\2020 M\\anaconda3\\lib\\site-packages\\sklearn\\model_selection\\_validation.py:683: UserWarning: Scoring failed. The score on this train-test partition for these parameters will be set to nan. Details: \n",
      "Traceback (most recent call last):\n",
      "  File \"C:\\Users\\2020 M\\anaconda3\\lib\\site-packages\\sklearn\\model_selection\\_validation.py\", line 674, in _score\n",
      "    scores = scorer(estimator, X_test, y_test)\n",
      "  File \"C:\\Users\\2020 M\\anaconda3\\lib\\site-packages\\sklearn\\metrics\\_scorer.py\", line 397, in _passthrough_scorer\n",
      "    return estimator.score(*args, **kwargs)\n",
      "  File \"C:\\Users\\2020 M\\anaconda3\\lib\\site-packages\\sklearn\\base.py\", line 500, in score\n",
      "    return accuracy_score(y, self.predict(X), sample_weight=sample_weight)\n",
      "  File \"C:\\Users\\2020 M\\anaconda3\\lib\\site-packages\\sklearn\\ensemble\\_bagging.py\", line 677, in predict\n",
      "    predicted_probabilitiy = self.predict_proba(X)\n",
      "  File \"C:\\Users\\2020 M\\anaconda3\\lib\\site-packages\\sklearn\\ensemble\\_bagging.py\", line 720, in predict_proba\n",
      "    all_proba = Parallel(n_jobs=n_jobs, verbose=self.verbose,\n",
      "  File \"C:\\Users\\2020 M\\anaconda3\\lib\\site-packages\\joblib\\parallel.py\", line 1041, in __call__\n",
      "    if self.dispatch_one_batch(iterator):\n",
      "  File \"C:\\Users\\2020 M\\anaconda3\\lib\\site-packages\\joblib\\parallel.py\", line 859, in dispatch_one_batch\n",
      "    self._dispatch(tasks)\n",
      "  File \"C:\\Users\\2020 M\\anaconda3\\lib\\site-packages\\joblib\\parallel.py\", line 777, in _dispatch\n",
      "    job = self._backend.apply_async(batch, callback=cb)\n",
      "  File \"C:\\Users\\2020 M\\anaconda3\\lib\\site-packages\\joblib\\_parallel_backends.py\", line 208, in apply_async\n",
      "    result = ImmediateResult(func)\n",
      "  File \"C:\\Users\\2020 M\\anaconda3\\lib\\site-packages\\joblib\\_parallel_backends.py\", line 572, in __init__\n",
      "    self.results = batch()\n",
      "  File \"C:\\Users\\2020 M\\anaconda3\\lib\\site-packages\\joblib\\parallel.py\", line 262, in __call__\n",
      "    return [func(*args, **kwargs)\n",
      "  File \"C:\\Users\\2020 M\\anaconda3\\lib\\site-packages\\joblib\\parallel.py\", line 262, in <listcomp>\n",
      "    return [func(*args, **kwargs)\n",
      "  File \"C:\\Users\\2020 M\\anaconda3\\lib\\site-packages\\sklearn\\utils\\fixes.py\", line 222, in __call__\n",
      "    return self.function(*args, **kwargs)\n",
      "  File \"C:\\Users\\2020 M\\anaconda3\\lib\\site-packages\\sklearn\\ensemble\\_bagging.py\", line 143, in _parallel_predict_proba\n",
      "    proba[i, predictions[i]] += 1\n",
      "IndexError: only integers, slices (`:`), ellipsis (`...`), numpy.newaxis (`None`) and integer or boolean arrays are valid indices\n",
      "\n",
      "  warnings.warn(\n",
      "C:\\Users\\2020 M\\anaconda3\\lib\\site-packages\\sklearn\\model_selection\\_validation.py:683: UserWarning: Scoring failed. The score on this train-test partition for these parameters will be set to nan. Details: \n",
      "Traceback (most recent call last):\n",
      "  File \"C:\\Users\\2020 M\\anaconda3\\lib\\site-packages\\sklearn\\model_selection\\_validation.py\", line 674, in _score\n",
      "    scores = scorer(estimator, X_test, y_test)\n",
      "  File \"C:\\Users\\2020 M\\anaconda3\\lib\\site-packages\\sklearn\\metrics\\_scorer.py\", line 397, in _passthrough_scorer\n",
      "    return estimator.score(*args, **kwargs)\n",
      "  File \"C:\\Users\\2020 M\\anaconda3\\lib\\site-packages\\sklearn\\base.py\", line 500, in score\n",
      "    return accuracy_score(y, self.predict(X), sample_weight=sample_weight)\n",
      "  File \"C:\\Users\\2020 M\\anaconda3\\lib\\site-packages\\sklearn\\ensemble\\_bagging.py\", line 677, in predict\n",
      "    predicted_probabilitiy = self.predict_proba(X)\n",
      "  File \"C:\\Users\\2020 M\\anaconda3\\lib\\site-packages\\sklearn\\ensemble\\_bagging.py\", line 720, in predict_proba\n",
      "    all_proba = Parallel(n_jobs=n_jobs, verbose=self.verbose,\n",
      "  File \"C:\\Users\\2020 M\\anaconda3\\lib\\site-packages\\joblib\\parallel.py\", line 1041, in __call__\n",
      "    if self.dispatch_one_batch(iterator):\n",
      "  File \"C:\\Users\\2020 M\\anaconda3\\lib\\site-packages\\joblib\\parallel.py\", line 859, in dispatch_one_batch\n",
      "    self._dispatch(tasks)\n",
      "  File \"C:\\Users\\2020 M\\anaconda3\\lib\\site-packages\\joblib\\parallel.py\", line 777, in _dispatch\n",
      "    job = self._backend.apply_async(batch, callback=cb)\n",
      "  File \"C:\\Users\\2020 M\\anaconda3\\lib\\site-packages\\joblib\\_parallel_backends.py\", line 208, in apply_async\n",
      "    result = ImmediateResult(func)\n",
      "  File \"C:\\Users\\2020 M\\anaconda3\\lib\\site-packages\\joblib\\_parallel_backends.py\", line 572, in __init__\n",
      "    self.results = batch()\n",
      "  File \"C:\\Users\\2020 M\\anaconda3\\lib\\site-packages\\joblib\\parallel.py\", line 262, in __call__\n",
      "    return [func(*args, **kwargs)\n",
      "  File \"C:\\Users\\2020 M\\anaconda3\\lib\\site-packages\\joblib\\parallel.py\", line 262, in <listcomp>\n",
      "    return [func(*args, **kwargs)\n",
      "  File \"C:\\Users\\2020 M\\anaconda3\\lib\\site-packages\\sklearn\\utils\\fixes.py\", line 222, in __call__\n",
      "    return self.function(*args, **kwargs)\n",
      "  File \"C:\\Users\\2020 M\\anaconda3\\lib\\site-packages\\sklearn\\ensemble\\_bagging.py\", line 143, in _parallel_predict_proba\n",
      "    proba[i, predictions[i]] += 1\n",
      "IndexError: only integers, slices (`:`), ellipsis (`...`), numpy.newaxis (`None`) and integer or boolean arrays are valid indices\n",
      "\n",
      "  warnings.warn(\n",
      "C:\\Users\\2020 M\\anaconda3\\lib\\site-packages\\sklearn\\model_selection\\_validation.py:683: UserWarning: Scoring failed. The score on this train-test partition for these parameters will be set to nan. Details: \n",
      "Traceback (most recent call last):\n",
      "  File \"C:\\Users\\2020 M\\anaconda3\\lib\\site-packages\\sklearn\\model_selection\\_validation.py\", line 674, in _score\n",
      "    scores = scorer(estimator, X_test, y_test)\n",
      "  File \"C:\\Users\\2020 M\\anaconda3\\lib\\site-packages\\sklearn\\metrics\\_scorer.py\", line 397, in _passthrough_scorer\n",
      "    return estimator.score(*args, **kwargs)\n",
      "  File \"C:\\Users\\2020 M\\anaconda3\\lib\\site-packages\\sklearn\\base.py\", line 500, in score\n",
      "    return accuracy_score(y, self.predict(X), sample_weight=sample_weight)\n",
      "  File \"C:\\Users\\2020 M\\anaconda3\\lib\\site-packages\\sklearn\\ensemble\\_bagging.py\", line 677, in predict\n",
      "    predicted_probabilitiy = self.predict_proba(X)\n",
      "  File \"C:\\Users\\2020 M\\anaconda3\\lib\\site-packages\\sklearn\\ensemble\\_bagging.py\", line 720, in predict_proba\n",
      "    all_proba = Parallel(n_jobs=n_jobs, verbose=self.verbose,\n",
      "  File \"C:\\Users\\2020 M\\anaconda3\\lib\\site-packages\\joblib\\parallel.py\", line 1041, in __call__\n",
      "    if self.dispatch_one_batch(iterator):\n",
      "  File \"C:\\Users\\2020 M\\anaconda3\\lib\\site-packages\\joblib\\parallel.py\", line 859, in dispatch_one_batch\n",
      "    self._dispatch(tasks)\n",
      "  File \"C:\\Users\\2020 M\\anaconda3\\lib\\site-packages\\joblib\\parallel.py\", line 777, in _dispatch\n",
      "    job = self._backend.apply_async(batch, callback=cb)\n",
      "  File \"C:\\Users\\2020 M\\anaconda3\\lib\\site-packages\\joblib\\_parallel_backends.py\", line 208, in apply_async\n",
      "    result = ImmediateResult(func)\n",
      "  File \"C:\\Users\\2020 M\\anaconda3\\lib\\site-packages\\joblib\\_parallel_backends.py\", line 572, in __init__\n",
      "    self.results = batch()\n",
      "  File \"C:\\Users\\2020 M\\anaconda3\\lib\\site-packages\\joblib\\parallel.py\", line 262, in __call__\n",
      "    return [func(*args, **kwargs)\n",
      "  File \"C:\\Users\\2020 M\\anaconda3\\lib\\site-packages\\joblib\\parallel.py\", line 262, in <listcomp>\n",
      "    return [func(*args, **kwargs)\n",
      "  File \"C:\\Users\\2020 M\\anaconda3\\lib\\site-packages\\sklearn\\utils\\fixes.py\", line 222, in __call__\n",
      "    return self.function(*args, **kwargs)\n",
      "  File \"C:\\Users\\2020 M\\anaconda3\\lib\\site-packages\\sklearn\\ensemble\\_bagging.py\", line 143, in _parallel_predict_proba\n",
      "    proba[i, predictions[i]] += 1\n",
      "IndexError: only integers, slices (`:`), ellipsis (`...`), numpy.newaxis (`None`) and integer or boolean arrays are valid indices\n",
      "\n",
      "  warnings.warn(\n",
      "C:\\Users\\2020 M\\anaconda3\\lib\\site-packages\\sklearn\\model_selection\\_validation.py:683: UserWarning: Scoring failed. The score on this train-test partition for these parameters will be set to nan. Details: \n",
      "Traceback (most recent call last):\n",
      "  File \"C:\\Users\\2020 M\\anaconda3\\lib\\site-packages\\sklearn\\model_selection\\_validation.py\", line 674, in _score\n",
      "    scores = scorer(estimator, X_test, y_test)\n",
      "  File \"C:\\Users\\2020 M\\anaconda3\\lib\\site-packages\\sklearn\\metrics\\_scorer.py\", line 397, in _passthrough_scorer\n",
      "    return estimator.score(*args, **kwargs)\n",
      "  File \"C:\\Users\\2020 M\\anaconda3\\lib\\site-packages\\sklearn\\base.py\", line 500, in score\n",
      "    return accuracy_score(y, self.predict(X), sample_weight=sample_weight)\n",
      "  File \"C:\\Users\\2020 M\\anaconda3\\lib\\site-packages\\sklearn\\ensemble\\_bagging.py\", line 677, in predict\n",
      "    predicted_probabilitiy = self.predict_proba(X)\n",
      "  File \"C:\\Users\\2020 M\\anaconda3\\lib\\site-packages\\sklearn\\ensemble\\_bagging.py\", line 720, in predict_proba\n",
      "    all_proba = Parallel(n_jobs=n_jobs, verbose=self.verbose,\n",
      "  File \"C:\\Users\\2020 M\\anaconda3\\lib\\site-packages\\joblib\\parallel.py\", line 1041, in __call__\n",
      "    if self.dispatch_one_batch(iterator):\n",
      "  File \"C:\\Users\\2020 M\\anaconda3\\lib\\site-packages\\joblib\\parallel.py\", line 859, in dispatch_one_batch\n",
      "    self._dispatch(tasks)\n",
      "  File \"C:\\Users\\2020 M\\anaconda3\\lib\\site-packages\\joblib\\parallel.py\", line 777, in _dispatch\n",
      "    job = self._backend.apply_async(batch, callback=cb)\n",
      "  File \"C:\\Users\\2020 M\\anaconda3\\lib\\site-packages\\joblib\\_parallel_backends.py\", line 208, in apply_async\n",
      "    result = ImmediateResult(func)\n",
      "  File \"C:\\Users\\2020 M\\anaconda3\\lib\\site-packages\\joblib\\_parallel_backends.py\", line 572, in __init__\n",
      "    self.results = batch()\n",
      "  File \"C:\\Users\\2020 M\\anaconda3\\lib\\site-packages\\joblib\\parallel.py\", line 262, in __call__\n",
      "    return [func(*args, **kwargs)\n",
      "  File \"C:\\Users\\2020 M\\anaconda3\\lib\\site-packages\\joblib\\parallel.py\", line 262, in <listcomp>\n",
      "    return [func(*args, **kwargs)\n",
      "  File \"C:\\Users\\2020 M\\anaconda3\\lib\\site-packages\\sklearn\\utils\\fixes.py\", line 222, in __call__\n",
      "    return self.function(*args, **kwargs)\n",
      "  File \"C:\\Users\\2020 M\\anaconda3\\lib\\site-packages\\sklearn\\ensemble\\_bagging.py\", line 143, in _parallel_predict_proba\n",
      "    proba[i, predictions[i]] += 1\n",
      "IndexError: only integers, slices (`:`), ellipsis (`...`), numpy.newaxis (`None`) and integer or boolean arrays are valid indices\n",
      "\n",
      "  warnings.warn(\n"
     ]
    }
   ],
   "source": [
    "cross_val = cross_validate(\n",
    "    estimator=bagging_model,\n",
    "    X=iris.data, y=iris.target,\n",
    "    cv=5\n",
    ")\n",
    "\n",
    "print('avg fit time: {} (+/- {})'.format(cross_val['fit_time'].mean(), cross_val['fit_time'].std()))\n",
    "print('avg score time: {} (+/- {})'.format(cross_val['score_time'].mean(), cross_val['score_time'].std()))\n",
    "print('avg test score: {} (+/- {})'.format(cross_val['test_score'].mean(), cross_val['test_score'].std()))"
   ]
  },
  {
   "cell_type": "markdown",
   "metadata": {
    "id": "aake5r8-_FLh"
   },
   "source": [
    "##### 와인 데이터"
   ]
  },
  {
   "cell_type": "code",
   "execution_count": 8,
   "metadata": {
    "id": "kSNvIhxp_FLl"
   },
   "outputs": [],
   "source": [
    "base_model = make_pipeline(\n",
    "    StandardScaler(),\n",
    "    KNeighborsRegressor()\n",
    ")\n",
    "\n",
    "bagging_model = BaggingClassifier(base_model, n_estimators=10, max_samples=0.5, max_features=0.5)"
   ]
  },
  {
   "cell_type": "code",
   "execution_count": 9,
   "metadata": {
    "colab": {
     "base_uri": "https://localhost:8080/",
     "height": 69
    },
    "id": "_gyzWbDi_FLt",
    "outputId": "a2276c69-32e5-41ee-b811-aebd9c7d9fae"
   },
   "outputs": [
    {
     "name": "stdout",
     "output_type": "stream",
     "text": [
      "avg fit time: 0.0011909008026123047 (+/- 0.0003899184067762099)\n",
      "avg score time: 0.0006031036376953125 (+/- 0.000492699700001522)\n",
      "avg test score: 0.2833079963514746 (+/- 0.3484717614319225)\n"
     ]
    }
   ],
   "source": [
    "cross_val = cross_validate(\n",
    "    estimator=base_model,\n",
    "    X=wine.data, y=wine.target,\n",
    "    cv=5\n",
    ")\n",
    "\n",
    "print('avg fit time: {} (+/- {})'.format(cross_val['fit_time'].mean(), cross_val['fit_time'].std()))\n",
    "print('avg score time: {} (+/- {})'.format(cross_val['score_time'].mean(), cross_val['score_time'].std()))\n",
    "print('avg test score: {} (+/- {})'.format(cross_val['test_score'].mean(), cross_val['test_score'].std()))"
   ]
  },
  {
   "cell_type": "code",
   "execution_count": 10,
   "metadata": {
    "colab": {
     "base_uri": "https://localhost:8080/",
     "height": 69
    },
    "id": "omJWcpZ0_FLx",
    "outputId": "db143ca1-1485-4d28-fb5b-19c2859435f1"
   },
   "outputs": [
    {
     "name": "stderr",
     "output_type": "stream",
     "text": [
      "C:\\Users\\2020 M\\anaconda3\\lib\\site-packages\\sklearn\\model_selection\\_validation.py:683: UserWarning: Scoring failed. The score on this train-test partition for these parameters will be set to nan. Details: \n",
      "Traceback (most recent call last):\n",
      "  File \"C:\\Users\\2020 M\\anaconda3\\lib\\site-packages\\sklearn\\model_selection\\_validation.py\", line 674, in _score\n",
      "    scores = scorer(estimator, X_test, y_test)\n",
      "  File \"C:\\Users\\2020 M\\anaconda3\\lib\\site-packages\\sklearn\\metrics\\_scorer.py\", line 397, in _passthrough_scorer\n",
      "    return estimator.score(*args, **kwargs)\n",
      "  File \"C:\\Users\\2020 M\\anaconda3\\lib\\site-packages\\sklearn\\base.py\", line 500, in score\n",
      "    return accuracy_score(y, self.predict(X), sample_weight=sample_weight)\n",
      "  File \"C:\\Users\\2020 M\\anaconda3\\lib\\site-packages\\sklearn\\ensemble\\_bagging.py\", line 677, in predict\n",
      "    predicted_probabilitiy = self.predict_proba(X)\n",
      "  File \"C:\\Users\\2020 M\\anaconda3\\lib\\site-packages\\sklearn\\ensemble\\_bagging.py\", line 720, in predict_proba\n",
      "    all_proba = Parallel(n_jobs=n_jobs, verbose=self.verbose,\n",
      "  File \"C:\\Users\\2020 M\\anaconda3\\lib\\site-packages\\joblib\\parallel.py\", line 1041, in __call__\n",
      "    if self.dispatch_one_batch(iterator):\n",
      "  File \"C:\\Users\\2020 M\\anaconda3\\lib\\site-packages\\joblib\\parallel.py\", line 859, in dispatch_one_batch\n",
      "    self._dispatch(tasks)\n",
      "  File \"C:\\Users\\2020 M\\anaconda3\\lib\\site-packages\\joblib\\parallel.py\", line 777, in _dispatch\n",
      "    job = self._backend.apply_async(batch, callback=cb)\n",
      "  File \"C:\\Users\\2020 M\\anaconda3\\lib\\site-packages\\joblib\\_parallel_backends.py\", line 208, in apply_async\n",
      "    result = ImmediateResult(func)\n",
      "  File \"C:\\Users\\2020 M\\anaconda3\\lib\\site-packages\\joblib\\_parallel_backends.py\", line 572, in __init__\n",
      "    self.results = batch()\n",
      "  File \"C:\\Users\\2020 M\\anaconda3\\lib\\site-packages\\joblib\\parallel.py\", line 262, in __call__\n",
      "    return [func(*args, **kwargs)\n",
      "  File \"C:\\Users\\2020 M\\anaconda3\\lib\\site-packages\\joblib\\parallel.py\", line 262, in <listcomp>\n",
      "    return [func(*args, **kwargs)\n",
      "  File \"C:\\Users\\2020 M\\anaconda3\\lib\\site-packages\\sklearn\\utils\\fixes.py\", line 222, in __call__\n",
      "    return self.function(*args, **kwargs)\n",
      "  File \"C:\\Users\\2020 M\\anaconda3\\lib\\site-packages\\sklearn\\ensemble\\_bagging.py\", line 143, in _parallel_predict_proba\n",
      "    proba[i, predictions[i]] += 1\n",
      "IndexError: only integers, slices (`:`), ellipsis (`...`), numpy.newaxis (`None`) and integer or boolean arrays are valid indices\n",
      "\n",
      "  warnings.warn(\n",
      "C:\\Users\\2020 M\\anaconda3\\lib\\site-packages\\sklearn\\model_selection\\_validation.py:683: UserWarning: Scoring failed. The score on this train-test partition for these parameters will be set to nan. Details: \n",
      "Traceback (most recent call last):\n",
      "  File \"C:\\Users\\2020 M\\anaconda3\\lib\\site-packages\\sklearn\\model_selection\\_validation.py\", line 674, in _score\n",
      "    scores = scorer(estimator, X_test, y_test)\n",
      "  File \"C:\\Users\\2020 M\\anaconda3\\lib\\site-packages\\sklearn\\metrics\\_scorer.py\", line 397, in _passthrough_scorer\n",
      "    return estimator.score(*args, **kwargs)\n",
      "  File \"C:\\Users\\2020 M\\anaconda3\\lib\\site-packages\\sklearn\\base.py\", line 500, in score\n",
      "    return accuracy_score(y, self.predict(X), sample_weight=sample_weight)\n",
      "  File \"C:\\Users\\2020 M\\anaconda3\\lib\\site-packages\\sklearn\\ensemble\\_bagging.py\", line 677, in predict\n",
      "    predicted_probabilitiy = self.predict_proba(X)\n",
      "  File \"C:\\Users\\2020 M\\anaconda3\\lib\\site-packages\\sklearn\\ensemble\\_bagging.py\", line 720, in predict_proba\n",
      "    all_proba = Parallel(n_jobs=n_jobs, verbose=self.verbose,\n",
      "  File \"C:\\Users\\2020 M\\anaconda3\\lib\\site-packages\\joblib\\parallel.py\", line 1041, in __call__\n",
      "    if self.dispatch_one_batch(iterator):\n",
      "  File \"C:\\Users\\2020 M\\anaconda3\\lib\\site-packages\\joblib\\parallel.py\", line 859, in dispatch_one_batch\n",
      "    self._dispatch(tasks)\n",
      "  File \"C:\\Users\\2020 M\\anaconda3\\lib\\site-packages\\joblib\\parallel.py\", line 777, in _dispatch\n",
      "    job = self._backend.apply_async(batch, callback=cb)\n",
      "  File \"C:\\Users\\2020 M\\anaconda3\\lib\\site-packages\\joblib\\_parallel_backends.py\", line 208, in apply_async\n",
      "    result = ImmediateResult(func)\n",
      "  File \"C:\\Users\\2020 M\\anaconda3\\lib\\site-packages\\joblib\\_parallel_backends.py\", line 572, in __init__\n",
      "    self.results = batch()\n",
      "  File \"C:\\Users\\2020 M\\anaconda3\\lib\\site-packages\\joblib\\parallel.py\", line 262, in __call__\n",
      "    return [func(*args, **kwargs)\n",
      "  File \"C:\\Users\\2020 M\\anaconda3\\lib\\site-packages\\joblib\\parallel.py\", line 262, in <listcomp>\n",
      "    return [func(*args, **kwargs)\n",
      "  File \"C:\\Users\\2020 M\\anaconda3\\lib\\site-packages\\sklearn\\utils\\fixes.py\", line 222, in __call__\n",
      "    return self.function(*args, **kwargs)\n",
      "  File \"C:\\Users\\2020 M\\anaconda3\\lib\\site-packages\\sklearn\\ensemble\\_bagging.py\", line 143, in _parallel_predict_proba\n",
      "    proba[i, predictions[i]] += 1\n",
      "IndexError: only integers, slices (`:`), ellipsis (`...`), numpy.newaxis (`None`) and integer or boolean arrays are valid indices\n",
      "\n",
      "  warnings.warn(\n",
      "C:\\Users\\2020 M\\anaconda3\\lib\\site-packages\\sklearn\\model_selection\\_validation.py:683: UserWarning: Scoring failed. The score on this train-test partition for these parameters will be set to nan. Details: \n",
      "Traceback (most recent call last):\n",
      "  File \"C:\\Users\\2020 M\\anaconda3\\lib\\site-packages\\sklearn\\model_selection\\_validation.py\", line 674, in _score\n",
      "    scores = scorer(estimator, X_test, y_test)\n",
      "  File \"C:\\Users\\2020 M\\anaconda3\\lib\\site-packages\\sklearn\\metrics\\_scorer.py\", line 397, in _passthrough_scorer\n",
      "    return estimator.score(*args, **kwargs)\n",
      "  File \"C:\\Users\\2020 M\\anaconda3\\lib\\site-packages\\sklearn\\base.py\", line 500, in score\n",
      "    return accuracy_score(y, self.predict(X), sample_weight=sample_weight)\n",
      "  File \"C:\\Users\\2020 M\\anaconda3\\lib\\site-packages\\sklearn\\ensemble\\_bagging.py\", line 677, in predict\n",
      "    predicted_probabilitiy = self.predict_proba(X)\n",
      "  File \"C:\\Users\\2020 M\\anaconda3\\lib\\site-packages\\sklearn\\ensemble\\_bagging.py\", line 720, in predict_proba\n",
      "    all_proba = Parallel(n_jobs=n_jobs, verbose=self.verbose,\n",
      "  File \"C:\\Users\\2020 M\\anaconda3\\lib\\site-packages\\joblib\\parallel.py\", line 1041, in __call__\n",
      "    if self.dispatch_one_batch(iterator):\n",
      "  File \"C:\\Users\\2020 M\\anaconda3\\lib\\site-packages\\joblib\\parallel.py\", line 859, in dispatch_one_batch\n",
      "    self._dispatch(tasks)\n",
      "  File \"C:\\Users\\2020 M\\anaconda3\\lib\\site-packages\\joblib\\parallel.py\", line 777, in _dispatch\n",
      "    job = self._backend.apply_async(batch, callback=cb)\n",
      "  File \"C:\\Users\\2020 M\\anaconda3\\lib\\site-packages\\joblib\\_parallel_backends.py\", line 208, in apply_async\n",
      "    result = ImmediateResult(func)\n",
      "  File \"C:\\Users\\2020 M\\anaconda3\\lib\\site-packages\\joblib\\_parallel_backends.py\", line 572, in __init__\n",
      "    self.results = batch()\n",
      "  File \"C:\\Users\\2020 M\\anaconda3\\lib\\site-packages\\joblib\\parallel.py\", line 262, in __call__\n",
      "    return [func(*args, **kwargs)\n",
      "  File \"C:\\Users\\2020 M\\anaconda3\\lib\\site-packages\\joblib\\parallel.py\", line 262, in <listcomp>\n",
      "    return [func(*args, **kwargs)\n",
      "  File \"C:\\Users\\2020 M\\anaconda3\\lib\\site-packages\\sklearn\\utils\\fixes.py\", line 222, in __call__\n",
      "    return self.function(*args, **kwargs)\n",
      "  File \"C:\\Users\\2020 M\\anaconda3\\lib\\site-packages\\sklearn\\ensemble\\_bagging.py\", line 143, in _parallel_predict_proba\n",
      "    proba[i, predictions[i]] += 1\n",
      "IndexError: only integers, slices (`:`), ellipsis (`...`), numpy.newaxis (`None`) and integer or boolean arrays are valid indices\n",
      "\n",
      "  warnings.warn(\n",
      "C:\\Users\\2020 M\\anaconda3\\lib\\site-packages\\sklearn\\model_selection\\_validation.py:683: UserWarning: Scoring failed. The score on this train-test partition for these parameters will be set to nan. Details: \n",
      "Traceback (most recent call last):\n",
      "  File \"C:\\Users\\2020 M\\anaconda3\\lib\\site-packages\\sklearn\\model_selection\\_validation.py\", line 674, in _score\n",
      "    scores = scorer(estimator, X_test, y_test)\n",
      "  File \"C:\\Users\\2020 M\\anaconda3\\lib\\site-packages\\sklearn\\metrics\\_scorer.py\", line 397, in _passthrough_scorer\n",
      "    return estimator.score(*args, **kwargs)\n",
      "  File \"C:\\Users\\2020 M\\anaconda3\\lib\\site-packages\\sklearn\\base.py\", line 500, in score\n",
      "    return accuracy_score(y, self.predict(X), sample_weight=sample_weight)\n",
      "  File \"C:\\Users\\2020 M\\anaconda3\\lib\\site-packages\\sklearn\\ensemble\\_bagging.py\", line 677, in predict\n",
      "    predicted_probabilitiy = self.predict_proba(X)\n",
      "  File \"C:\\Users\\2020 M\\anaconda3\\lib\\site-packages\\sklearn\\ensemble\\_bagging.py\", line 720, in predict_proba\n",
      "    all_proba = Parallel(n_jobs=n_jobs, verbose=self.verbose,\n",
      "  File \"C:\\Users\\2020 M\\anaconda3\\lib\\site-packages\\joblib\\parallel.py\", line 1041, in __call__\n",
      "    if self.dispatch_one_batch(iterator):\n",
      "  File \"C:\\Users\\2020 M\\anaconda3\\lib\\site-packages\\joblib\\parallel.py\", line 859, in dispatch_one_batch\n",
      "    self._dispatch(tasks)\n",
      "  File \"C:\\Users\\2020 M\\anaconda3\\lib\\site-packages\\joblib\\parallel.py\", line 777, in _dispatch\n",
      "    job = self._backend.apply_async(batch, callback=cb)\n",
      "  File \"C:\\Users\\2020 M\\anaconda3\\lib\\site-packages\\joblib\\_parallel_backends.py\", line 208, in apply_async\n",
      "    result = ImmediateResult(func)\n",
      "  File \"C:\\Users\\2020 M\\anaconda3\\lib\\site-packages\\joblib\\_parallel_backends.py\", line 572, in __init__\n",
      "    self.results = batch()\n",
      "  File \"C:\\Users\\2020 M\\anaconda3\\lib\\site-packages\\joblib\\parallel.py\", line 262, in __call__\n",
      "    return [func(*args, **kwargs)\n",
      "  File \"C:\\Users\\2020 M\\anaconda3\\lib\\site-packages\\joblib\\parallel.py\", line 262, in <listcomp>\n",
      "    return [func(*args, **kwargs)\n",
      "  File \"C:\\Users\\2020 M\\anaconda3\\lib\\site-packages\\sklearn\\utils\\fixes.py\", line 222, in __call__\n",
      "    return self.function(*args, **kwargs)\n",
      "  File \"C:\\Users\\2020 M\\anaconda3\\lib\\site-packages\\sklearn\\ensemble\\_bagging.py\", line 143, in _parallel_predict_proba\n",
      "    proba[i, predictions[i]] += 1\n",
      "IndexError: only integers, slices (`:`), ellipsis (`...`), numpy.newaxis (`None`) and integer or boolean arrays are valid indices\n",
      "\n",
      "  warnings.warn(\n"
     ]
    },
    {
     "name": "stdout",
     "output_type": "stream",
     "text": [
      "avg fit time: 0.01594882011413574 (+/- 0.0010917892014648011)\n",
      "avg score time: 0.0021982192993164062 (+/- 0.0004097199523175423)\n",
      "avg test score: nan (+/- nan)\n"
     ]
    },
    {
     "name": "stderr",
     "output_type": "stream",
     "text": [
      "C:\\Users\\2020 M\\anaconda3\\lib\\site-packages\\sklearn\\model_selection\\_validation.py:683: UserWarning: Scoring failed. The score on this train-test partition for these parameters will be set to nan. Details: \n",
      "Traceback (most recent call last):\n",
      "  File \"C:\\Users\\2020 M\\anaconda3\\lib\\site-packages\\sklearn\\model_selection\\_validation.py\", line 674, in _score\n",
      "    scores = scorer(estimator, X_test, y_test)\n",
      "  File \"C:\\Users\\2020 M\\anaconda3\\lib\\site-packages\\sklearn\\metrics\\_scorer.py\", line 397, in _passthrough_scorer\n",
      "    return estimator.score(*args, **kwargs)\n",
      "  File \"C:\\Users\\2020 M\\anaconda3\\lib\\site-packages\\sklearn\\base.py\", line 500, in score\n",
      "    return accuracy_score(y, self.predict(X), sample_weight=sample_weight)\n",
      "  File \"C:\\Users\\2020 M\\anaconda3\\lib\\site-packages\\sklearn\\ensemble\\_bagging.py\", line 677, in predict\n",
      "    predicted_probabilitiy = self.predict_proba(X)\n",
      "  File \"C:\\Users\\2020 M\\anaconda3\\lib\\site-packages\\sklearn\\ensemble\\_bagging.py\", line 720, in predict_proba\n",
      "    all_proba = Parallel(n_jobs=n_jobs, verbose=self.verbose,\n",
      "  File \"C:\\Users\\2020 M\\anaconda3\\lib\\site-packages\\joblib\\parallel.py\", line 1041, in __call__\n",
      "    if self.dispatch_one_batch(iterator):\n",
      "  File \"C:\\Users\\2020 M\\anaconda3\\lib\\site-packages\\joblib\\parallel.py\", line 859, in dispatch_one_batch\n",
      "    self._dispatch(tasks)\n",
      "  File \"C:\\Users\\2020 M\\anaconda3\\lib\\site-packages\\joblib\\parallel.py\", line 777, in _dispatch\n",
      "    job = self._backend.apply_async(batch, callback=cb)\n",
      "  File \"C:\\Users\\2020 M\\anaconda3\\lib\\site-packages\\joblib\\_parallel_backends.py\", line 208, in apply_async\n",
      "    result = ImmediateResult(func)\n",
      "  File \"C:\\Users\\2020 M\\anaconda3\\lib\\site-packages\\joblib\\_parallel_backends.py\", line 572, in __init__\n",
      "    self.results = batch()\n",
      "  File \"C:\\Users\\2020 M\\anaconda3\\lib\\site-packages\\joblib\\parallel.py\", line 262, in __call__\n",
      "    return [func(*args, **kwargs)\n",
      "  File \"C:\\Users\\2020 M\\anaconda3\\lib\\site-packages\\joblib\\parallel.py\", line 262, in <listcomp>\n",
      "    return [func(*args, **kwargs)\n",
      "  File \"C:\\Users\\2020 M\\anaconda3\\lib\\site-packages\\sklearn\\utils\\fixes.py\", line 222, in __call__\n",
      "    return self.function(*args, **kwargs)\n",
      "  File \"C:\\Users\\2020 M\\anaconda3\\lib\\site-packages\\sklearn\\ensemble\\_bagging.py\", line 143, in _parallel_predict_proba\n",
      "    proba[i, predictions[i]] += 1\n",
      "IndexError: only integers, slices (`:`), ellipsis (`...`), numpy.newaxis (`None`) and integer or boolean arrays are valid indices\n",
      "\n",
      "  warnings.warn(\n"
     ]
    }
   ],
   "source": [
    "cross_val = cross_validate(\n",
    "    estimator=bagging_model,\n",
    "    X=wine.data, y=wine.target,\n",
    "    cv=5\n",
    ")\n",
    "\n",
    "print('avg fit time: {} (+/- {})'.format(cross_val['fit_time'].mean(), cross_val['fit_time'].std()))\n",
    "print('avg score time: {} (+/- {})'.format(cross_val['score_time'].mean(), cross_val['score_time'].std()))\n",
    "print('avg test score: {} (+/- {})'.format(cross_val['test_score'].mean(), cross_val['test_score'].std()))"
   ]
  },
  {
   "cell_type": "markdown",
   "metadata": {
    "id": "iPKP6KIy8nso"
   },
   "source": [
    "##### 유방암 데이터"
   ]
  },
  {
   "cell_type": "code",
   "execution_count": 11,
   "metadata": {
    "id": "ehkY0oDU8piY"
   },
   "outputs": [],
   "source": [
    "base_model = make_pipeline(\n",
    "    StandardScaler(),\n",
    "    KNeighborsRegressor()\n",
    ")\n",
    "\n",
    "bagging_model = BaggingClassifier(base_model, n_estimators=10, max_samples=0.5, max_features=0.5)"
   ]
  },
  {
   "cell_type": "code",
   "execution_count": 12,
   "metadata": {
    "colab": {
     "base_uri": "https://localhost:8080/",
     "height": 69
    },
    "id": "3RKRD3sN9Z0k",
    "outputId": "0bb8c1db-a9f7-490e-8568-c50de5d03293"
   },
   "outputs": [
    {
     "name": "stdout",
     "output_type": "stream",
     "text": [
      "avg fit time: 0.0007920265197753906 (+/- 0.0003961564717409545)\n",
      "avg score time: 0.01010432243347168 (+/- 0.017719116173452336)\n",
      "avg test score: 0.8599944875385843 (+/- 0.03865048644951847)\n"
     ]
    }
   ],
   "source": [
    "cross_val = cross_validate(\n",
    "    estimator=base_model,\n",
    "    X=cancer.data, y=cancer.target,\n",
    "    cv=5\n",
    ")\n",
    "\n",
    "print('avg fit time: {} (+/- {})'.format(cross_val['fit_time'].mean(), cross_val['fit_time'].std()))\n",
    "print('avg score time: {} (+/- {})'.format(cross_val['score_time'].mean(), cross_val['score_time'].std()))\n",
    "print('avg test score: {} (+/- {})'.format(cross_val['test_score'].mean(), cross_val['test_score'].std()))"
   ]
  },
  {
   "cell_type": "code",
   "execution_count": 13,
   "metadata": {
    "colab": {
     "base_uri": "https://localhost:8080/",
     "height": 69
    },
    "id": "xcNn5ihb9etn",
    "outputId": "8988ae57-aabc-4d1e-ff5c-201f6e6440ec"
   },
   "outputs": [
    {
     "name": "stderr",
     "output_type": "stream",
     "text": [
      "C:\\Users\\2020 M\\anaconda3\\lib\\site-packages\\sklearn\\model_selection\\_validation.py:683: UserWarning: Scoring failed. The score on this train-test partition for these parameters will be set to nan. Details: \n",
      "Traceback (most recent call last):\n",
      "  File \"C:\\Users\\2020 M\\anaconda3\\lib\\site-packages\\sklearn\\model_selection\\_validation.py\", line 674, in _score\n",
      "    scores = scorer(estimator, X_test, y_test)\n",
      "  File \"C:\\Users\\2020 M\\anaconda3\\lib\\site-packages\\sklearn\\metrics\\_scorer.py\", line 397, in _passthrough_scorer\n",
      "    return estimator.score(*args, **kwargs)\n",
      "  File \"C:\\Users\\2020 M\\anaconda3\\lib\\site-packages\\sklearn\\base.py\", line 500, in score\n",
      "    return accuracy_score(y, self.predict(X), sample_weight=sample_weight)\n",
      "  File \"C:\\Users\\2020 M\\anaconda3\\lib\\site-packages\\sklearn\\ensemble\\_bagging.py\", line 677, in predict\n",
      "    predicted_probabilitiy = self.predict_proba(X)\n",
      "  File \"C:\\Users\\2020 M\\anaconda3\\lib\\site-packages\\sklearn\\ensemble\\_bagging.py\", line 720, in predict_proba\n",
      "    all_proba = Parallel(n_jobs=n_jobs, verbose=self.verbose,\n",
      "  File \"C:\\Users\\2020 M\\anaconda3\\lib\\site-packages\\joblib\\parallel.py\", line 1041, in __call__\n",
      "    if self.dispatch_one_batch(iterator):\n",
      "  File \"C:\\Users\\2020 M\\anaconda3\\lib\\site-packages\\joblib\\parallel.py\", line 859, in dispatch_one_batch\n",
      "    self._dispatch(tasks)\n",
      "  File \"C:\\Users\\2020 M\\anaconda3\\lib\\site-packages\\joblib\\parallel.py\", line 777, in _dispatch\n",
      "    job = self._backend.apply_async(batch, callback=cb)\n",
      "  File \"C:\\Users\\2020 M\\anaconda3\\lib\\site-packages\\joblib\\_parallel_backends.py\", line 208, in apply_async\n",
      "    result = ImmediateResult(func)\n",
      "  File \"C:\\Users\\2020 M\\anaconda3\\lib\\site-packages\\joblib\\_parallel_backends.py\", line 572, in __init__\n",
      "    self.results = batch()\n",
      "  File \"C:\\Users\\2020 M\\anaconda3\\lib\\site-packages\\joblib\\parallel.py\", line 262, in __call__\n",
      "    return [func(*args, **kwargs)\n",
      "  File \"C:\\Users\\2020 M\\anaconda3\\lib\\site-packages\\joblib\\parallel.py\", line 262, in <listcomp>\n",
      "    return [func(*args, **kwargs)\n",
      "  File \"C:\\Users\\2020 M\\anaconda3\\lib\\site-packages\\sklearn\\utils\\fixes.py\", line 222, in __call__\n",
      "    return self.function(*args, **kwargs)\n",
      "  File \"C:\\Users\\2020 M\\anaconda3\\lib\\site-packages\\sklearn\\ensemble\\_bagging.py\", line 143, in _parallel_predict_proba\n",
      "    proba[i, predictions[i]] += 1\n",
      "IndexError: only integers, slices (`:`), ellipsis (`...`), numpy.newaxis (`None`) and integer or boolean arrays are valid indices\n",
      "\n",
      "  warnings.warn(\n",
      "C:\\Users\\2020 M\\anaconda3\\lib\\site-packages\\sklearn\\model_selection\\_validation.py:683: UserWarning: Scoring failed. The score on this train-test partition for these parameters will be set to nan. Details: \n",
      "Traceback (most recent call last):\n",
      "  File \"C:\\Users\\2020 M\\anaconda3\\lib\\site-packages\\sklearn\\model_selection\\_validation.py\", line 674, in _score\n",
      "    scores = scorer(estimator, X_test, y_test)\n",
      "  File \"C:\\Users\\2020 M\\anaconda3\\lib\\site-packages\\sklearn\\metrics\\_scorer.py\", line 397, in _passthrough_scorer\n",
      "    return estimator.score(*args, **kwargs)\n",
      "  File \"C:\\Users\\2020 M\\anaconda3\\lib\\site-packages\\sklearn\\base.py\", line 500, in score\n",
      "    return accuracy_score(y, self.predict(X), sample_weight=sample_weight)\n",
      "  File \"C:\\Users\\2020 M\\anaconda3\\lib\\site-packages\\sklearn\\ensemble\\_bagging.py\", line 677, in predict\n",
      "    predicted_probabilitiy = self.predict_proba(X)\n",
      "  File \"C:\\Users\\2020 M\\anaconda3\\lib\\site-packages\\sklearn\\ensemble\\_bagging.py\", line 720, in predict_proba\n",
      "    all_proba = Parallel(n_jobs=n_jobs, verbose=self.verbose,\n",
      "  File \"C:\\Users\\2020 M\\anaconda3\\lib\\site-packages\\joblib\\parallel.py\", line 1041, in __call__\n",
      "    if self.dispatch_one_batch(iterator):\n",
      "  File \"C:\\Users\\2020 M\\anaconda3\\lib\\site-packages\\joblib\\parallel.py\", line 859, in dispatch_one_batch\n",
      "    self._dispatch(tasks)\n",
      "  File \"C:\\Users\\2020 M\\anaconda3\\lib\\site-packages\\joblib\\parallel.py\", line 777, in _dispatch\n",
      "    job = self._backend.apply_async(batch, callback=cb)\n",
      "  File \"C:\\Users\\2020 M\\anaconda3\\lib\\site-packages\\joblib\\_parallel_backends.py\", line 208, in apply_async\n",
      "    result = ImmediateResult(func)\n",
      "  File \"C:\\Users\\2020 M\\anaconda3\\lib\\site-packages\\joblib\\_parallel_backends.py\", line 572, in __init__\n",
      "    self.results = batch()\n",
      "  File \"C:\\Users\\2020 M\\anaconda3\\lib\\site-packages\\joblib\\parallel.py\", line 262, in __call__\n",
      "    return [func(*args, **kwargs)\n",
      "  File \"C:\\Users\\2020 M\\anaconda3\\lib\\site-packages\\joblib\\parallel.py\", line 262, in <listcomp>\n",
      "    return [func(*args, **kwargs)\n",
      "  File \"C:\\Users\\2020 M\\anaconda3\\lib\\site-packages\\sklearn\\utils\\fixes.py\", line 222, in __call__\n",
      "    return self.function(*args, **kwargs)\n",
      "  File \"C:\\Users\\2020 M\\anaconda3\\lib\\site-packages\\sklearn\\ensemble\\_bagging.py\", line 143, in _parallel_predict_proba\n",
      "    proba[i, predictions[i]] += 1\n",
      "IndexError: only integers, slices (`:`), ellipsis (`...`), numpy.newaxis (`None`) and integer or boolean arrays are valid indices\n",
      "\n",
      "  warnings.warn(\n",
      "C:\\Users\\2020 M\\anaconda3\\lib\\site-packages\\sklearn\\model_selection\\_validation.py:683: UserWarning: Scoring failed. The score on this train-test partition for these parameters will be set to nan. Details: \n",
      "Traceback (most recent call last):\n",
      "  File \"C:\\Users\\2020 M\\anaconda3\\lib\\site-packages\\sklearn\\model_selection\\_validation.py\", line 674, in _score\n",
      "    scores = scorer(estimator, X_test, y_test)\n",
      "  File \"C:\\Users\\2020 M\\anaconda3\\lib\\site-packages\\sklearn\\metrics\\_scorer.py\", line 397, in _passthrough_scorer\n",
      "    return estimator.score(*args, **kwargs)\n",
      "  File \"C:\\Users\\2020 M\\anaconda3\\lib\\site-packages\\sklearn\\base.py\", line 500, in score\n",
      "    return accuracy_score(y, self.predict(X), sample_weight=sample_weight)\n",
      "  File \"C:\\Users\\2020 M\\anaconda3\\lib\\site-packages\\sklearn\\ensemble\\_bagging.py\", line 677, in predict\n",
      "    predicted_probabilitiy = self.predict_proba(X)\n",
      "  File \"C:\\Users\\2020 M\\anaconda3\\lib\\site-packages\\sklearn\\ensemble\\_bagging.py\", line 720, in predict_proba\n",
      "    all_proba = Parallel(n_jobs=n_jobs, verbose=self.verbose,\n",
      "  File \"C:\\Users\\2020 M\\anaconda3\\lib\\site-packages\\joblib\\parallel.py\", line 1041, in __call__\n",
      "    if self.dispatch_one_batch(iterator):\n",
      "  File \"C:\\Users\\2020 M\\anaconda3\\lib\\site-packages\\joblib\\parallel.py\", line 859, in dispatch_one_batch\n",
      "    self._dispatch(tasks)\n",
      "  File \"C:\\Users\\2020 M\\anaconda3\\lib\\site-packages\\joblib\\parallel.py\", line 777, in _dispatch\n",
      "    job = self._backend.apply_async(batch, callback=cb)\n",
      "  File \"C:\\Users\\2020 M\\anaconda3\\lib\\site-packages\\joblib\\_parallel_backends.py\", line 208, in apply_async\n",
      "    result = ImmediateResult(func)\n",
      "  File \"C:\\Users\\2020 M\\anaconda3\\lib\\site-packages\\joblib\\_parallel_backends.py\", line 572, in __init__\n",
      "    self.results = batch()\n",
      "  File \"C:\\Users\\2020 M\\anaconda3\\lib\\site-packages\\joblib\\parallel.py\", line 262, in __call__\n",
      "    return [func(*args, **kwargs)\n",
      "  File \"C:\\Users\\2020 M\\anaconda3\\lib\\site-packages\\joblib\\parallel.py\", line 262, in <listcomp>\n",
      "    return [func(*args, **kwargs)\n",
      "  File \"C:\\Users\\2020 M\\anaconda3\\lib\\site-packages\\sklearn\\utils\\fixes.py\", line 222, in __call__\n",
      "    return self.function(*args, **kwargs)\n",
      "  File \"C:\\Users\\2020 M\\anaconda3\\lib\\site-packages\\sklearn\\ensemble\\_bagging.py\", line 143, in _parallel_predict_proba\n",
      "    proba[i, predictions[i]] += 1\n",
      "IndexError: only integers, slices (`:`), ellipsis (`...`), numpy.newaxis (`None`) and integer or boolean arrays are valid indices\n",
      "\n",
      "  warnings.warn(\n",
      "C:\\Users\\2020 M\\anaconda3\\lib\\site-packages\\sklearn\\model_selection\\_validation.py:683: UserWarning: Scoring failed. The score on this train-test partition for these parameters will be set to nan. Details: \n",
      "Traceback (most recent call last):\n",
      "  File \"C:\\Users\\2020 M\\anaconda3\\lib\\site-packages\\sklearn\\model_selection\\_validation.py\", line 674, in _score\n",
      "    scores = scorer(estimator, X_test, y_test)\n",
      "  File \"C:\\Users\\2020 M\\anaconda3\\lib\\site-packages\\sklearn\\metrics\\_scorer.py\", line 397, in _passthrough_scorer\n",
      "    return estimator.score(*args, **kwargs)\n",
      "  File \"C:\\Users\\2020 M\\anaconda3\\lib\\site-packages\\sklearn\\base.py\", line 500, in score\n",
      "    return accuracy_score(y, self.predict(X), sample_weight=sample_weight)\n",
      "  File \"C:\\Users\\2020 M\\anaconda3\\lib\\site-packages\\sklearn\\ensemble\\_bagging.py\", line 677, in predict\n",
      "    predicted_probabilitiy = self.predict_proba(X)\n",
      "  File \"C:\\Users\\2020 M\\anaconda3\\lib\\site-packages\\sklearn\\ensemble\\_bagging.py\", line 720, in predict_proba\n",
      "    all_proba = Parallel(n_jobs=n_jobs, verbose=self.verbose,\n",
      "  File \"C:\\Users\\2020 M\\anaconda3\\lib\\site-packages\\joblib\\parallel.py\", line 1041, in __call__\n",
      "    if self.dispatch_one_batch(iterator):\n",
      "  File \"C:\\Users\\2020 M\\anaconda3\\lib\\site-packages\\joblib\\parallel.py\", line 859, in dispatch_one_batch\n",
      "    self._dispatch(tasks)\n",
      "  File \"C:\\Users\\2020 M\\anaconda3\\lib\\site-packages\\joblib\\parallel.py\", line 777, in _dispatch\n",
      "    job = self._backend.apply_async(batch, callback=cb)\n",
      "  File \"C:\\Users\\2020 M\\anaconda3\\lib\\site-packages\\joblib\\_parallel_backends.py\", line 208, in apply_async\n",
      "    result = ImmediateResult(func)\n",
      "  File \"C:\\Users\\2020 M\\anaconda3\\lib\\site-packages\\joblib\\_parallel_backends.py\", line 572, in __init__\n",
      "    self.results = batch()\n",
      "  File \"C:\\Users\\2020 M\\anaconda3\\lib\\site-packages\\joblib\\parallel.py\", line 262, in __call__\n",
      "    return [func(*args, **kwargs)\n",
      "  File \"C:\\Users\\2020 M\\anaconda3\\lib\\site-packages\\joblib\\parallel.py\", line 262, in <listcomp>\n",
      "    return [func(*args, **kwargs)\n",
      "  File \"C:\\Users\\2020 M\\anaconda3\\lib\\site-packages\\sklearn\\utils\\fixes.py\", line 222, in __call__\n",
      "    return self.function(*args, **kwargs)\n",
      "  File \"C:\\Users\\2020 M\\anaconda3\\lib\\site-packages\\sklearn\\ensemble\\_bagging.py\", line 143, in _parallel_predict_proba\n",
      "    proba[i, predictions[i]] += 1\n",
      "IndexError: only integers, slices (`:`), ellipsis (`...`), numpy.newaxis (`None`) and integer or boolean arrays are valid indices\n",
      "\n",
      "  warnings.warn(\n"
     ]
    },
    {
     "name": "stdout",
     "output_type": "stream",
     "text": [
      "avg fit time: 0.017353343963623046 (+/- 0.0010167282121299347)\n",
      "avg score time: 0.00299220085144043 (+/- 5.519789172549355e-07)\n",
      "avg test score: nan (+/- nan)\n"
     ]
    },
    {
     "name": "stderr",
     "output_type": "stream",
     "text": [
      "C:\\Users\\2020 M\\anaconda3\\lib\\site-packages\\sklearn\\model_selection\\_validation.py:683: UserWarning: Scoring failed. The score on this train-test partition for these parameters will be set to nan. Details: \n",
      "Traceback (most recent call last):\n",
      "  File \"C:\\Users\\2020 M\\anaconda3\\lib\\site-packages\\sklearn\\model_selection\\_validation.py\", line 674, in _score\n",
      "    scores = scorer(estimator, X_test, y_test)\n",
      "  File \"C:\\Users\\2020 M\\anaconda3\\lib\\site-packages\\sklearn\\metrics\\_scorer.py\", line 397, in _passthrough_scorer\n",
      "    return estimator.score(*args, **kwargs)\n",
      "  File \"C:\\Users\\2020 M\\anaconda3\\lib\\site-packages\\sklearn\\base.py\", line 500, in score\n",
      "    return accuracy_score(y, self.predict(X), sample_weight=sample_weight)\n",
      "  File \"C:\\Users\\2020 M\\anaconda3\\lib\\site-packages\\sklearn\\ensemble\\_bagging.py\", line 677, in predict\n",
      "    predicted_probabilitiy = self.predict_proba(X)\n",
      "  File \"C:\\Users\\2020 M\\anaconda3\\lib\\site-packages\\sklearn\\ensemble\\_bagging.py\", line 720, in predict_proba\n",
      "    all_proba = Parallel(n_jobs=n_jobs, verbose=self.verbose,\n",
      "  File \"C:\\Users\\2020 M\\anaconda3\\lib\\site-packages\\joblib\\parallel.py\", line 1041, in __call__\n",
      "    if self.dispatch_one_batch(iterator):\n",
      "  File \"C:\\Users\\2020 M\\anaconda3\\lib\\site-packages\\joblib\\parallel.py\", line 859, in dispatch_one_batch\n",
      "    self._dispatch(tasks)\n",
      "  File \"C:\\Users\\2020 M\\anaconda3\\lib\\site-packages\\joblib\\parallel.py\", line 777, in _dispatch\n",
      "    job = self._backend.apply_async(batch, callback=cb)\n",
      "  File \"C:\\Users\\2020 M\\anaconda3\\lib\\site-packages\\joblib\\_parallel_backends.py\", line 208, in apply_async\n",
      "    result = ImmediateResult(func)\n",
      "  File \"C:\\Users\\2020 M\\anaconda3\\lib\\site-packages\\joblib\\_parallel_backends.py\", line 572, in __init__\n",
      "    self.results = batch()\n",
      "  File \"C:\\Users\\2020 M\\anaconda3\\lib\\site-packages\\joblib\\parallel.py\", line 262, in __call__\n",
      "    return [func(*args, **kwargs)\n",
      "  File \"C:\\Users\\2020 M\\anaconda3\\lib\\site-packages\\joblib\\parallel.py\", line 262, in <listcomp>\n",
      "    return [func(*args, **kwargs)\n",
      "  File \"C:\\Users\\2020 M\\anaconda3\\lib\\site-packages\\sklearn\\utils\\fixes.py\", line 222, in __call__\n",
      "    return self.function(*args, **kwargs)\n",
      "  File \"C:\\Users\\2020 M\\anaconda3\\lib\\site-packages\\sklearn\\ensemble\\_bagging.py\", line 143, in _parallel_predict_proba\n",
      "    proba[i, predictions[i]] += 1\n",
      "IndexError: only integers, slices (`:`), ellipsis (`...`), numpy.newaxis (`None`) and integer or boolean arrays are valid indices\n",
      "\n",
      "  warnings.warn(\n"
     ]
    }
   ],
   "source": [
    "cross_val = cross_validate(\n",
    "    estimator=bagging_model,\n",
    "    X=cancer.data, y=cancer.target,\n",
    "    cv=5\n",
    ")\n",
    "\n",
    "print('avg fit time: {} (+/- {})'.format(cross_val['fit_time'].mean(), cross_val['fit_time'].std()))\n",
    "print('avg score time: {} (+/- {})'.format(cross_val['score_time'].mean(), cross_val['score_time'].std()))\n",
    "print('avg test score: {} (+/- {})'.format(cross_val['test_score'].mean(), cross_val['test_score'].std()))"
   ]
  },
  {
   "cell_type": "markdown",
   "metadata": {
    "id": "c6cXnxEZ90NR"
   },
   "source": [
    "#### SVC"
   ]
  },
  {
   "cell_type": "markdown",
   "metadata": {
    "id": "yFolvlY393Pv"
   },
   "source": [
    "##### 붓꽃 데이터"
   ]
  },
  {
   "cell_type": "code",
   "execution_count": 14,
   "metadata": {
    "id": "p8sUZEe798Wn"
   },
   "outputs": [],
   "source": [
    "base_model = make_pipeline(\n",
    "    StandardScaler(),\n",
    "    SVC()\n",
    ")\n",
    "\n",
    "bagging_model = BaggingClassifier(base_model, n_estimators=10, max_samples=0.5, max_features=0.5)"
   ]
  },
  {
   "cell_type": "code",
   "execution_count": 15,
   "metadata": {
    "colab": {
     "base_uri": "https://localhost:8080/",
     "height": 69
    },
    "id": "OsPUpJp19_rt",
    "outputId": "7f90d957-df48-4811-fea2-16350e3549ca"
   },
   "outputs": [
    {
     "name": "stdout",
     "output_type": "stream",
     "text": [
      "avg fit time: 0.001396322250366211 (+/- 0.0007982730936686502)\n",
      "avg score time: 0.0009972572326660157 (+/- 4.370284743266907e-07)\n",
      "avg test score: 0.9666666666666666 (+/- 0.02108185106778919)\n"
     ]
    }
   ],
   "source": [
    "cross_val = cross_validate(\n",
    "    estimator=base_model,\n",
    "    X=iris.data, y=iris.target,\n",
    "    cv=5\n",
    ")\n",
    "\n",
    "print('avg fit time: {} (+/- {})'.format(cross_val['fit_time'].mean(), cross_val['fit_time'].std()))\n",
    "print('avg score time: {} (+/- {})'.format(cross_val['score_time'].mean(), cross_val['score_time'].std()))\n",
    "print('avg test score: {} (+/- {})'.format(cross_val['test_score'].mean(), cross_val['test_score'].std()))"
   ]
  },
  {
   "cell_type": "code",
   "execution_count": 16,
   "metadata": {
    "colab": {
     "base_uri": "https://localhost:8080/",
     "height": 69
    },
    "id": "3pynPIPD-FtO",
    "outputId": "25f9ba02-7456-4727-ed4d-fcc6b3cfa025"
   },
   "outputs": [
    {
     "name": "stdout",
     "output_type": "stream",
     "text": [
      "avg fit time: 0.01975846290588379 (+/- 0.00040559792221496623)\n",
      "avg score time: 0.0031848430633544924 (+/- 0.00040324614405337986)\n",
      "avg test score: 0.9400000000000001 (+/- 0.038873012632301994)\n"
     ]
    }
   ],
   "source": [
    "cross_val = cross_validate(\n",
    "    estimator=bagging_model,\n",
    "    X=iris.data, y=iris.target,\n",
    "    cv=5\n",
    ")\n",
    "\n",
    "print('avg fit time: {} (+/- {})'.format(cross_val['fit_time'].mean(), cross_val['fit_time'].std()))\n",
    "print('avg score time: {} (+/- {})'.format(cross_val['score_time'].mean(), cross_val['score_time'].std()))\n",
    "print('avg test score: {} (+/- {})'.format(cross_val['test_score'].mean(), cross_val['test_score'].std()))"
   ]
  },
  {
   "cell_type": "markdown",
   "metadata": {
    "id": "BAVcL_DG_HgP"
   },
   "source": [
    "##### 와인 데이터"
   ]
  },
  {
   "cell_type": "code",
   "execution_count": 17,
   "metadata": {
    "id": "ue77eENh_HgQ"
   },
   "outputs": [],
   "source": [
    "base_model = make_pipeline(\n",
    "    StandardScaler(),\n",
    "    SVC()\n",
    ")\n",
    "\n",
    "bagging_model = BaggingClassifier(base_model, n_estimators=10, max_samples=0.5, max_features=0.5)"
   ]
  },
  {
   "cell_type": "code",
   "execution_count": 18,
   "metadata": {
    "colab": {
     "base_uri": "https://localhost:8080/",
     "height": 69
    },
    "id": "V_dzw9UH_HgS",
    "outputId": "85f82796-56f0-445c-f114-bea0fe96471a"
   },
   "outputs": [
    {
     "name": "stdout",
     "output_type": "stream",
     "text": [
      "avg fit time: 0.002000856399536133 (+/- 0.0008980249577449377)\n",
      "avg score time: 0.00040268898010253906 (+/- 0.000493225429704387)\n",
      "avg test score: 0.9833333333333334 (+/- 0.022222222222222233)\n"
     ]
    }
   ],
   "source": [
    "cross_val = cross_validate(\n",
    "    estimator=base_model,\n",
    "    X=wine.data, y=wine.target,\n",
    "    cv=5\n",
    ")\n",
    "\n",
    "print('avg fit time: {} (+/- {})'.format(cross_val['fit_time'].mean(), cross_val['fit_time'].std()))\n",
    "print('avg score time: {} (+/- {})'.format(cross_val['score_time'].mean(), cross_val['score_time'].std()))\n",
    "print('avg test score: {} (+/- {})'.format(cross_val['test_score'].mean(), cross_val['test_score'].std()))"
   ]
  },
  {
   "cell_type": "code",
   "execution_count": 19,
   "metadata": {
    "colab": {
     "base_uri": "https://localhost:8080/",
     "height": 69
    },
    "id": "VBxzVY2V_HgT",
    "outputId": "540c0922-7965-4d06-98e9-add91b554dd8"
   },
   "outputs": [
    {
     "name": "stdout",
     "output_type": "stream",
     "text": [
      "avg fit time: 0.020745563507080077 (+/- 0.0007483416398176859)\n",
      "avg score time: 0.0035904884338378907 (+/- 0.0004878635501160244)\n",
      "avg test score: 0.9609523809523809 (+/- 0.028267341226138717)\n"
     ]
    }
   ],
   "source": [
    "cross_val = cross_validate(\n",
    "    estimator=bagging_model,\n",
    "    X=wine.data, y=wine.target,\n",
    "    cv=5\n",
    ")\n",
    "\n",
    "print('avg fit time: {} (+/- {})'.format(cross_val['fit_time'].mean(), cross_val['fit_time'].std()))\n",
    "print('avg score time: {} (+/- {})'.format(cross_val['score_time'].mean(), cross_val['score_time'].std()))\n",
    "print('avg test score: {} (+/- {})'.format(cross_val['test_score'].mean(), cross_val['test_score'].std()))"
   ]
  },
  {
   "cell_type": "markdown",
   "metadata": {
    "id": "59r3mE7H92wX"
   },
   "source": [
    "##### 유방암 데이터"
   ]
  },
  {
   "cell_type": "code",
   "execution_count": 20,
   "metadata": {
    "id": "eyPt59pf92Fg"
   },
   "outputs": [],
   "source": [
    "base_model = make_pipeline(\n",
    "    StandardScaler(),\n",
    "    SVC()\n",
    ")\n",
    "\n",
    "bagging_model = BaggingClassifier(base_model, n_estimators=10, max_samples=0.5, max_features=0.5)"
   ]
  },
  {
   "cell_type": "code",
   "execution_count": 21,
   "metadata": {
    "colab": {
     "base_uri": "https://localhost:8080/",
     "height": 69
    },
    "id": "7IU4SKDX-UEn",
    "outputId": "b399c527-2474-4f7b-a322-9d6d3967ea2f"
   },
   "outputs": [
    {
     "name": "stdout",
     "output_type": "stream",
     "text": [
      "avg fit time: 0.003991603851318359 (+/- 1.0284660121568993e-05)\n",
      "avg score time: 0.0014014244079589844 (+/- 0.00048248720197319016)\n",
      "avg test score: 0.9736376339077782 (+/- 0.014678541667933545)\n"
     ]
    }
   ],
   "source": [
    "cross_val = cross_validate(\n",
    "    estimator=base_model,\n",
    "    X=cancer.data, y=cancer.target,\n",
    "    cv=5\n",
    ")\n",
    "\n",
    "print('avg fit time: {} (+/- {})'.format(cross_val['fit_time'].mean(), cross_val['fit_time'].std()))\n",
    "print('avg score time: {} (+/- {})'.format(cross_val['score_time'].mean(), cross_val['score_time'].std()))\n",
    "print('avg test score: {} (+/- {})'.format(cross_val['test_score'].mean(), cross_val['test_score'].std()))"
   ]
  },
  {
   "cell_type": "code",
   "execution_count": 22,
   "metadata": {
    "colab": {
     "base_uri": "https://localhost:8080/",
     "height": 69
    },
    "id": "yJimG-mr-X2E",
    "outputId": "2f7120d5-f6b1-4e2c-dcd8-be1a3c021f94"
   },
   "outputs": [
    {
     "name": "stdout",
     "output_type": "stream",
     "text": [
      "avg fit time: 0.02853403091430664 (+/- 0.001352684138436391)\n",
      "avg score time: 0.009974288940429687 (+/- 1.7589022649228674e-05)\n",
      "avg test score: 0.968390001552554 (+/- 0.015265987557220655)\n"
     ]
    }
   ],
   "source": [
    "cross_val = cross_validate(\n",
    "    estimator=bagging_model,\n",
    "    X=cancer.data, y=cancer.target,\n",
    "    cv=5\n",
    ")\n",
    "\n",
    "print('avg fit time: {} (+/- {})'.format(cross_val['fit_time'].mean(), cross_val['fit_time'].std()))\n",
    "print('avg score time: {} (+/- {})'.format(cross_val['score_time'].mean(), cross_val['score_time'].std()))\n",
    "print('avg test score: {} (+/- {})'.format(cross_val['test_score'].mean(), cross_val['test_score'].std()))"
   ]
  },
  {
   "cell_type": "markdown",
   "metadata": {
    "id": "Gtpz-2Ly-gF2"
   },
   "source": [
    "#### Decision Tree"
   ]
  },
  {
   "cell_type": "markdown",
   "metadata": {
    "id": "3A4T9Bv--jF-"
   },
   "source": [
    "##### 붓꽃 데이터"
   ]
  },
  {
   "cell_type": "code",
   "execution_count": 23,
   "metadata": {
    "id": "uIoFBCuG-nZo"
   },
   "outputs": [],
   "source": [
    "base_model = make_pipeline(\n",
    "    StandardScaler(),\n",
    "    DecisionTreeClassifier()\n",
    ")\n",
    "\n",
    "bagging_model = BaggingClassifier(base_model, n_estimators=10, max_samples=0.5, max_features=0.5)"
   ]
  },
  {
   "cell_type": "code",
   "execution_count": 24,
   "metadata": {
    "colab": {
     "base_uri": "https://localhost:8080/",
     "height": 69
    },
    "id": "uXfCtpMp-rZm",
    "outputId": "45ea24c2-3caf-4d00-8d40-d45c98449757"
   },
   "outputs": [
    {
     "name": "stdout",
     "output_type": "stream",
     "text": [
      "avg fit time: 0.0011966228485107422 (+/- 0.0003988671715439367)\n",
      "avg score time: 0.0003991127014160156 (+/- 0.0004888116062914885)\n",
      "avg test score: 0.9533333333333334 (+/- 0.03399346342395189)\n"
     ]
    }
   ],
   "source": [
    "cross_val = cross_validate(\n",
    "    estimator=base_model,\n",
    "    X=iris.data, y=iris.target,\n",
    "    cv=5\n",
    ")\n",
    "\n",
    "print('avg fit time: {} (+/- {})'.format(cross_val['fit_time'].mean(), cross_val['fit_time'].std()))\n",
    "print('avg score time: {} (+/- {})'.format(cross_val['score_time'].mean(), cross_val['score_time'].std()))\n",
    "print('avg test score: {} (+/- {})'.format(cross_val['test_score'].mean(), cross_val['test_score'].std()))"
   ]
  },
  {
   "cell_type": "code",
   "execution_count": 25,
   "metadata": {
    "colab": {
     "base_uri": "https://localhost:8080/",
     "height": 69
    },
    "id": "b5Rx77at-xaC",
    "outputId": "f2482819-cd8f-4500-eec1-f33d39cfc540"
   },
   "outputs": [
    {
     "name": "stdout",
     "output_type": "stream",
     "text": [
      "avg fit time: 0.0010082244873046875 (+/- 0.0006309711439798601)\n",
      "avg score time: 0.00039424896240234373 (+/- 0.00048291325302982503)\n",
      "avg test score: 0.9600000000000002 (+/- 0.03265986323710903)\n"
     ]
    }
   ],
   "source": [
    "cross_val = cross_validate(\n",
    "    estimator=base_model,\n",
    "    X=iris.data, y=iris.target,\n",
    "    cv=5\n",
    ")\n",
    "\n",
    "print('avg fit time: {} (+/- {})'.format(cross_val['fit_time'].mean(), cross_val['fit_time'].std()))\n",
    "print('avg score time: {} (+/- {})'.format(cross_val['score_time'].mean(), cross_val['score_time'].std()))\n",
    "print('avg test score: {} (+/- {})'.format(cross_val['test_score'].mean(), cross_val['test_score'].std()))"
   ]
  },
  {
   "cell_type": "markdown",
   "metadata": {
    "id": "Ninof3DO_IO3"
   },
   "source": [
    "##### 와인 데이터"
   ]
  },
  {
   "cell_type": "code",
   "execution_count": 26,
   "metadata": {
    "id": "L_ZwogKE_IO5"
   },
   "outputs": [],
   "source": [
    "base_model = make_pipeline(\n",
    "    StandardScaler(),\n",
    "    DecisionTreeClassifier()\n",
    ")\n",
    "\n",
    "bagging_model = BaggingClassifier(base_model, n_estimators=10, max_samples=0.5, max_features=0.5)"
   ]
  },
  {
   "cell_type": "code",
   "execution_count": 27,
   "metadata": {
    "colab": {
     "base_uri": "https://localhost:8080/",
     "height": 69
    },
    "id": "xlO4uHnn_IPA",
    "outputId": "3a40ef9f-27a7-4a85-f45f-1158f0aa934d"
   },
   "outputs": [
    {
     "name": "stdout",
     "output_type": "stream",
     "text": [
      "avg fit time: 0.0009991645812988282 (+/- 1.5034668792664995e-05)\n",
      "avg score time: 0.000995492935180664 (+/- 2.8394842016142664e-06)\n",
      "avg test score: 0.8765079365079365 (+/- 0.03321445165041705)\n"
     ]
    }
   ],
   "source": [
    "cross_val = cross_validate(\n",
    "    estimator=base_model,\n",
    "    X=wine.data, y=wine.target,\n",
    "    cv=5\n",
    ")\n",
    "\n",
    "print('avg fit time: {} (+/- {})'.format(cross_val['fit_time'].mean(), cross_val['fit_time'].std()))\n",
    "print('avg score time: {} (+/- {})'.format(cross_val['score_time'].mean(), cross_val['score_time'].std()))\n",
    "print('avg test score: {} (+/- {})'.format(cross_val['test_score'].mean(), cross_val['test_score'].std()))"
   ]
  },
  {
   "cell_type": "code",
   "execution_count": 28,
   "metadata": {
    "colab": {
     "base_uri": "https://localhost:8080/",
     "height": 69
    },
    "id": "6l5RCMWI_IPI",
    "outputId": "62b41562-6e9a-4b83-9849-23814216c566"
   },
   "outputs": [
    {
     "name": "stdout",
     "output_type": "stream",
     "text": [
      "avg fit time: 0.018154668807983398 (+/- 0.0009871799437935812)\n",
      "avg score time: 0.0019972801208496095 (+/- 3.032324427716188e-06)\n",
      "avg test score: 0.9609523809523809 (+/- 0.028267341226138717)\n"
     ]
    }
   ],
   "source": [
    "cross_val = cross_validate(\n",
    "    estimator=bagging_model,\n",
    "    X=wine.data, y=wine.target,\n",
    "    cv=5\n",
    ")\n",
    "\n",
    "print('avg fit time: {} (+/- {})'.format(cross_val['fit_time'].mean(), cross_val['fit_time'].std()))\n",
    "print('avg score time: {} (+/- {})'.format(cross_val['score_time'].mean(), cross_val['score_time'].std()))\n",
    "print('avg test score: {} (+/- {})'.format(cross_val['test_score'].mean(), cross_val['test_score'].std()))"
   ]
  },
  {
   "cell_type": "markdown",
   "metadata": {
    "id": "uVlALN6t-i3T"
   },
   "source": [
    "##### 유방암 데이터"
   ]
  },
  {
   "cell_type": "code",
   "execution_count": 29,
   "metadata": {
    "id": "cQF4b3Jw_GbO"
   },
   "outputs": [],
   "source": [
    "base_model = make_pipeline(\n",
    "    StandardScaler(),\n",
    "    DecisionTreeClassifier()\n",
    ")\n",
    "\n",
    "bagging_model = BaggingClassifier(base_model, n_estimators=10, max_samples=0.5, max_features=0.5)"
   ]
  },
  {
   "cell_type": "code",
   "execution_count": 30,
   "metadata": {
    "colab": {
     "base_uri": "https://localhost:8080/",
     "height": 69
    },
    "id": "NNXg71CM_JZR",
    "outputId": "25f755a2-0fae-4ad1-e350-6132efcee347"
   },
   "outputs": [
    {
     "name": "stdout",
     "output_type": "stream",
     "text": [
      "avg fit time: 0.005986547470092774 (+/- 1.8199694377617518e-05)\n",
      "avg score time: 0.00039806365966796873 (+/- 0.0004875275683009058)\n",
      "avg test score: 0.9191274646793974 (+/- 0.018878213359305104)\n"
     ]
    }
   ],
   "source": [
    "cross_val = cross_validate(\n",
    "    estimator=base_model,\n",
    "    X=cancer.data, y=cancer.target,\n",
    "    cv=5\n",
    ")\n",
    "\n",
    "print('avg fit time: {} (+/- {})'.format(cross_val['fit_time'].mean(), cross_val['fit_time'].std()))\n",
    "print('avg score time: {} (+/- {})'.format(cross_val['score_time'].mean(), cross_val['score_time'].std()))\n",
    "print('avg test score: {} (+/- {})'.format(cross_val['test_score'].mean(), cross_val['test_score'].std()))"
   ]
  },
  {
   "cell_type": "code",
   "execution_count": 31,
   "metadata": {
    "colab": {
     "base_uri": "https://localhost:8080/",
     "height": 69
    },
    "id": "DQ0zpCGU_NXO",
    "outputId": "e1aa8630-e498-4ad1-ea5b-885322539ae3"
   },
   "outputs": [
    {
     "name": "stdout",
     "output_type": "stream",
     "text": [
      "avg fit time: 0.02534494400024414 (+/- 0.0007913331459493278)\n",
      "avg score time: 0.0019905567169189453 (+/- 1.210358868633904e-05)\n",
      "avg test score: 0.943766495885732 (+/- 0.020444347352344395)\n"
     ]
    }
   ],
   "source": [
    "cross_val = cross_validate(\n",
    "    estimator=bagging_model,\n",
    "    X=cancer.data, y=cancer.target,\n",
    "    cv=5\n",
    ")\n",
    "\n",
    "print('avg fit time: {} (+/- {})'.format(cross_val['fit_time'].mean(), cross_val['fit_time'].std()))\n",
    "print('avg score time: {} (+/- {})'.format(cross_val['score_time'].mean(), cross_val['score_time'].std()))\n",
    "print('avg test score: {} (+/- {})'.format(cross_val['test_score'].mean(), cross_val['test_score'].std()))"
   ]
  },
  {
   "cell_type": "markdown",
   "metadata": {
    "id": "G8m4pTeC_Y7Q"
   },
   "source": [
    "### Bagging을 사용한 회귀"
   ]
  },
  {
   "cell_type": "markdown",
   "metadata": {
    "id": "47h6mi6D_cu3"
   },
   "source": [
    "#### 데이터셋 불러오기"
   ]
  },
  {
   "cell_type": "code",
   "execution_count": 32,
   "metadata": {
    "id": "UN7-vRcK_pKZ"
   },
   "outputs": [],
   "source": [
    "boston = load_boston()\n",
    "diabetes = load_diabetes()"
   ]
  },
  {
   "cell_type": "markdown",
   "metadata": {
    "id": "lBSK7rhp_gMV"
   },
   "source": [
    "#### KNN"
   ]
  },
  {
   "cell_type": "markdown",
   "metadata": {
    "id": "Ze7yqMOL_t34"
   },
   "source": [
    "##### 보스턴 주택 가격 데이터"
   ]
  },
  {
   "cell_type": "code",
   "execution_count": 33,
   "metadata": {
    "id": "IE8Slxcu_7jg"
   },
   "outputs": [],
   "source": [
    "base_model = make_pipeline(\n",
    "    StandardScaler(),\n",
    "    KNeighborsRegressor()\n",
    ")\n",
    "\n",
    "bagging_model = BaggingRegressor(base_model, n_estimators=10, max_samples=0.5, max_features=0.5)"
   ]
  },
  {
   "cell_type": "code",
   "execution_count": 34,
   "metadata": {
    "colab": {
     "base_uri": "https://localhost:8080/",
     "height": 69
    },
    "id": "keEufZavATxq",
    "outputId": "43d2dd17-d375-4767-cbea-5d6d48f1d0c4"
   },
   "outputs": [
    {
     "name": "stdout",
     "output_type": "stream",
     "text": [
      "avg fit time: 0.0024453163146972655 (+/- 0.0013413527881952724)\n",
      "avg score time: 0.002001237869262695 (+/- 0.0006274290370046633)\n",
      "avg test score: 0.47357748833823543 (+/- 0.13243123464477455)\n"
     ]
    }
   ],
   "source": [
    "cross_val = cross_validate(\n",
    "    estimator=base_model,\n",
    "    X=boston.data, y=boston.target,\n",
    "    cv=5\n",
    ")\n",
    "\n",
    "print('avg fit time: {} (+/- {})'.format(cross_val['fit_time'].mean(), cross_val['fit_time'].std()))\n",
    "print('avg score time: {} (+/- {})'.format(cross_val['score_time'].mean(), cross_val['score_time'].std()))\n",
    "print('avg test score: {} (+/- {})'.format(cross_val['test_score'].mean(), cross_val['test_score'].std()))"
   ]
  },
  {
   "cell_type": "code",
   "execution_count": 35,
   "metadata": {
    "colab": {
     "base_uri": "https://localhost:8080/",
     "height": 69
    },
    "id": "oJbcuQntAXzE",
    "outputId": "d3352f85-3f52-4769-aab1-5d75b882d6d9"
   },
   "outputs": [
    {
     "name": "stdout",
     "output_type": "stream",
     "text": [
      "avg fit time: 0.015364551544189453 (+/- 0.0010152367538562258)\n",
      "avg score time: 0.00718073844909668 (+/- 0.0003847961057725269)\n",
      "avg test score: 0.4848731884545838 (+/- 0.12176520791113705)\n"
     ]
    }
   ],
   "source": [
    "cross_val = cross_validate(\n",
    "    estimator=bagging_model,\n",
    "    X=boston.data, y=boston.target,\n",
    "    cv=5\n",
    ")\n",
    "\n",
    "print('avg fit time: {} (+/- {})'.format(cross_val['fit_time'].mean(), cross_val['fit_time'].std()))\n",
    "print('avg score time: {} (+/- {})'.format(cross_val['score_time'].mean(), cross_val['score_time'].std()))\n",
    "print('avg test score: {} (+/- {})'.format(cross_val['test_score'].mean(), cross_val['test_score'].std()))"
   ]
  },
  {
   "cell_type": "markdown",
   "metadata": {
    "id": "vsCxrkMO_td0"
   },
   "source": [
    "##### 당뇨병 데이터"
   ]
  },
  {
   "cell_type": "code",
   "execution_count": 36,
   "metadata": {
    "id": "WnsTBoTOAmki"
   },
   "outputs": [],
   "source": [
    "base_model = make_pipeline(\n",
    "    StandardScaler(),\n",
    "    KNeighborsRegressor()\n",
    ")\n",
    "\n",
    "bagging_model = BaggingRegressor(base_model, n_estimators=10, max_samples=0.5, max_features=0.5)"
   ]
  },
  {
   "cell_type": "code",
   "execution_count": 37,
   "metadata": {
    "colab": {
     "base_uri": "https://localhost:8080/",
     "height": 69
    },
    "id": "014edZXTAmPb",
    "outputId": "f32f11ed-cf9d-4f7c-a1b3-7718a0cc52b6"
   },
   "outputs": [
    {
     "name": "stdout",
     "output_type": "stream",
     "text": [
      "avg fit time: 0.0014030933380126953 (+/- 0.00048423077541741007)\n",
      "avg score time: 0.001395845413208008 (+/- 0.00048587339959435473)\n",
      "avg test score: 0.3689720650295623 (+/- 0.044659049060165365)\n"
     ]
    }
   ],
   "source": [
    "cross_val = cross_validate(\n",
    "    estimator=base_model,\n",
    "    X=diabetes.data, y=diabetes.target,\n",
    "    cv=5\n",
    ")\n",
    "\n",
    "print('avg fit time: {} (+/- {})'.format(cross_val['fit_time'].mean(), cross_val['fit_time'].std()))\n",
    "print('avg score time: {} (+/- {})'.format(cross_val['score_time'].mean(), cross_val['score_time'].std()))\n",
    "print('avg test score: {} (+/- {})'.format(cross_val['test_score'].mean(), cross_val['test_score'].std()))"
   ]
  },
  {
   "cell_type": "code",
   "execution_count": 38,
   "metadata": {
    "colab": {
     "base_uri": "https://localhost:8080/",
     "height": 69
    },
    "id": "kq3vs4juAl2_",
    "outputId": "9bd47031-59f8-486c-f5af-e660984680ac"
   },
   "outputs": [
    {
     "name": "stdout",
     "output_type": "stream",
     "text": [
      "avg fit time: 0.014762449264526366 (+/- 0.0007454130913753129)\n",
      "avg score time: 0.0071846961975097655 (+/- 0.00040891741487352054)\n",
      "avg test score: 0.4062151111439939 (+/- 0.08202507823702035)\n"
     ]
    }
   ],
   "source": [
    "cross_val = cross_validate(\n",
    "    estimator=bagging_model,\n",
    "    X=diabetes.data, y=diabetes.target,\n",
    "    cv=5\n",
    ")\n",
    "\n",
    "print('avg fit time: {} (+/- {})'.format(cross_val['fit_time'].mean(), cross_val['fit_time'].std()))\n",
    "print('avg score time: {} (+/- {})'.format(cross_val['score_time'].mean(), cross_val['score_time'].std()))\n",
    "print('avg test score: {} (+/- {})'.format(cross_val['test_score'].mean(), cross_val['test_score'].std()))"
   ]
  },
  {
   "cell_type": "markdown",
   "metadata": {
    "id": "UNWloxDa_fvn"
   },
   "source": [
    "#### SVR"
   ]
  },
  {
   "cell_type": "markdown",
   "metadata": {
    "id": "NRDHG3iX_ygt"
   },
   "source": [
    "##### 보스턴 주택 가격 데이터"
   ]
  },
  {
   "cell_type": "code",
   "execution_count": 39,
   "metadata": {
    "id": "yvYMEUkXAyOz"
   },
   "outputs": [],
   "source": [
    "base_model = make_pipeline(\n",
    "    StandardScaler(),\n",
    "    SVR()\n",
    ")\n",
    "\n",
    "bagging_model = BaggingRegressor(base_model, n_estimators=10, max_samples=0.5, max_features=0.5)"
   ]
  },
  {
   "cell_type": "code",
   "execution_count": 40,
   "metadata": {
    "colab": {
     "base_uri": "https://localhost:8080/",
     "height": 69
    },
    "id": "Swm8VEn1A2oZ",
    "outputId": "fb4d1154-df5d-4347-917f-3714f95ea178"
   },
   "outputs": [
    {
     "name": "stdout",
     "output_type": "stream",
     "text": [
      "avg fit time: 0.009575319290161134 (+/- 0.00048711961257957295)\n",
      "avg score time: 0.003987789154052734 (+/- 1.5597750886722684e-06)\n",
      "avg test score: 0.17631266230186618 (+/- 0.5224914915128981)\n"
     ]
    }
   ],
   "source": [
    "cross_val = cross_validate(\n",
    "    estimator=base_model,\n",
    "    X=boston.data, y=boston.target,\n",
    "    cv=5\n",
    ")\n",
    "\n",
    "print('avg fit time: {} (+/- {})'.format(cross_val['fit_time'].mean(), cross_val['fit_time'].std()))\n",
    "print('avg score time: {} (+/- {})'.format(cross_val['score_time'].mean(), cross_val['score_time'].std()))\n",
    "print('avg test score: {} (+/- {})'.format(cross_val['test_score'].mean(), cross_val['test_score'].std()))"
   ]
  },
  {
   "cell_type": "code",
   "execution_count": 41,
   "metadata": {
    "colab": {
     "base_uri": "https://localhost:8080/",
     "height": 69
    },
    "id": "gI_Vf2NXA570",
    "outputId": "a9d7fec1-9c07-4c94-cae8-22c41691eef2"
   },
   "outputs": [
    {
     "name": "stdout",
     "output_type": "stream",
     "text": [
      "avg fit time: 0.03543663024902344 (+/- 0.0009203841730209619)\n",
      "avg score time: 0.019353389739990234 (+/- 0.0004824896760465556)\n",
      "avg test score: 0.14535031032088266 (+/- 0.3643498664171372)\n"
     ]
    }
   ],
   "source": [
    "cross_val = cross_validate(\n",
    "    estimator=bagging_model,\n",
    "    X=boston.data, y=boston.target,\n",
    "    cv=5\n",
    ")\n",
    "\n",
    "print('avg fit time: {} (+/- {})'.format(cross_val['fit_time'].mean(), cross_val['fit_time'].std()))\n",
    "print('avg score time: {} (+/- {})'.format(cross_val['score_time'].mean(), cross_val['score_time'].std()))\n",
    "print('avg test score: {} (+/- {})'.format(cross_val['test_score'].mean(), cross_val['test_score'].std()))"
   ]
  },
  {
   "cell_type": "markdown",
   "metadata": {
    "id": "dB98AXg7_004"
   },
   "source": [
    "##### 당뇨병 데이터"
   ]
  },
  {
   "cell_type": "code",
   "execution_count": 42,
   "metadata": {
    "id": "u2_GMYGIA9-J"
   },
   "outputs": [],
   "source": [
    "base_model = make_pipeline(\n",
    "    StandardScaler(),\n",
    "    SVR()\n",
    ")\n",
    "\n",
    "bagging_model = BaggingRegressor(base_model, n_estimators=10, max_samples=0.5, max_features=0.5)"
   ]
  },
  {
   "cell_type": "code",
   "execution_count": 43,
   "metadata": {
    "colab": {
     "base_uri": "https://localhost:8080/",
     "height": 69
    },
    "id": "E-p61kkSA_Ow",
    "outputId": "c909002d-4bdf-46fb-f37c-9f3eb86f1c42"
   },
   "outputs": [
    {
     "name": "stdout",
     "output_type": "stream",
     "text": [
      "avg fit time: 0.007169198989868164 (+/- 0.0004046968229626889)\n",
      "avg score time: 0.0032027721405029296 (+/- 0.00040744371039790414)\n",
      "avg test score: 0.14659936199629428 (+/- 0.021907980033429305)\n"
     ]
    }
   ],
   "source": [
    "cross_val = cross_validate(\n",
    "    estimator=base_model,\n",
    "    X=diabetes.data, y=diabetes.target,\n",
    "    cv=5\n",
    ")\n",
    "\n",
    "print('avg fit time: {} (+/- {})'.format(cross_val['fit_time'].mean(), cross_val['fit_time'].std()))\n",
    "print('avg score time: {} (+/- {})'.format(cross_val['score_time'].mean(), cross_val['score_time'].std()))\n",
    "print('avg test score: {} (+/- {})'.format(cross_val['test_score'].mean(), cross_val['test_score'].std()))"
   ]
  },
  {
   "cell_type": "code",
   "execution_count": 44,
   "metadata": {
    "colab": {
     "base_uri": "https://localhost:8080/",
     "height": 69
    },
    "id": "zYRTb9hPBCDv",
    "outputId": "543b5beb-67a1-48d0-bf38-6fb657bf08dc"
   },
   "outputs": [
    {
     "name": "stdout",
     "output_type": "stream",
     "text": [
      "avg fit time: 0.02992086410522461 (+/- 0.0006456796373179175)\n",
      "avg score time: 0.015564298629760743 (+/- 0.0004943353041731612)\n",
      "avg test score: 0.06693854911979195 (+/- 0.034810473748392655)\n"
     ]
    }
   ],
   "source": [
    "cross_val = cross_validate(\n",
    "    estimator=bagging_model,\n",
    "    X=diabetes.data, y=diabetes.target,\n",
    "    cv=5\n",
    ")\n",
    "\n",
    "print('avg fit time: {} (+/- {})'.format(cross_val['fit_time'].mean(), cross_val['fit_time'].std()))\n",
    "print('avg score time: {} (+/- {})'.format(cross_val['score_time'].mean(), cross_val['score_time'].std()))\n",
    "print('avg test score: {} (+/- {})'.format(cross_val['test_score'].mean(), cross_val['test_score'].std()))"
   ]
  },
  {
   "cell_type": "markdown",
   "metadata": {
    "id": "Ffge42tG_fFc"
   },
   "source": [
    "#### Decision Tree"
   ]
  },
  {
   "cell_type": "markdown",
   "metadata": {
    "id": "MWWTfD6T_44c"
   },
   "source": [
    "##### 보스턴 주택 가격 데이터"
   ]
  },
  {
   "cell_type": "code",
   "execution_count": 45,
   "metadata": {
    "id": "IdfQuNoLBIk8"
   },
   "outputs": [],
   "source": [
    "base_model = make_pipeline(\n",
    "    StandardScaler(),\n",
    "    DecisionTreeRegressor()\n",
    ")\n",
    "\n",
    "bagging_model = BaggingRegressor(base_model, n_estimators=10, max_samples=0.5, max_features=0.5)"
   ]
  },
  {
   "cell_type": "code",
   "execution_count": 46,
   "metadata": {
    "colab": {
     "base_uri": "https://localhost:8080/",
     "height": 69
    },
    "id": "uMToSfgzBL3v",
    "outputId": "fc27d43f-13d0-429e-b4ac-88b42982466f"
   },
   "outputs": [
    {
     "name": "stdout",
     "output_type": "stream",
     "text": [
      "avg fit time: 0.0031890392303466795 (+/- 0.00038493866206640065)\n",
      "avg score time: 0.00019965171813964843 (+/- 0.00039930343627929686)\n",
      "avg test score: 0.0900527180780255 (+/- 0.9786396374730755)\n"
     ]
    }
   ],
   "source": [
    "cross_val = cross_validate(\n",
    "    estimator=base_model,\n",
    "    X=boston.data, y=boston.target,\n",
    "    cv=5\n",
    ")\n",
    "\n",
    "print('avg fit time: {} (+/- {})'.format(cross_val['fit_time'].mean(), cross_val['fit_time'].std()))\n",
    "print('avg score time: {} (+/- {})'.format(cross_val['score_time'].mean(), cross_val['score_time'].std()))\n",
    "print('avg test score: {} (+/- {})'.format(cross_val['test_score'].mean(), cross_val['test_score'].std()))"
   ]
  },
  {
   "cell_type": "code",
   "execution_count": 47,
   "metadata": {
    "colab": {
     "base_uri": "https://localhost:8080/",
     "height": 69
    },
    "id": "PyI5bERuBPLx",
    "outputId": "59cce144-c62b-44c9-8b19-d8f39c50091d"
   },
   "outputs": [
    {
     "name": "stdout",
     "output_type": "stream",
     "text": [
      "avg fit time: 0.021749401092529298 (+/- 0.0007417465178928477)\n",
      "avg score time: 0.0017946243286132812 (+/- 0.00039937722135051205)\n",
      "avg test score: 0.48472926980873837 (+/- 0.22532466049680125)\n"
     ]
    }
   ],
   "source": [
    "cross_val = cross_validate(\n",
    "    estimator=bagging_model,\n",
    "    X=boston.data, y=boston.target,\n",
    "    cv=5\n",
    ")\n",
    "\n",
    "print('avg fit time: {} (+/- {})'.format(cross_val['fit_time'].mean(), cross_val['fit_time'].std()))\n",
    "print('avg score time: {} (+/- {})'.format(cross_val['score_time'].mean(), cross_val['score_time'].std()))\n",
    "print('avg test score: {} (+/- {})'.format(cross_val['test_score'].mean(), cross_val['test_score'].std()))"
   ]
  },
  {
   "cell_type": "markdown",
   "metadata": {
    "id": "djcuGIS-_4kG"
   },
   "source": [
    "##### 당뇨병 데이터"
   ]
  },
  {
   "cell_type": "code",
   "execution_count": 48,
   "metadata": {
    "id": "MavauM2gBeuu"
   },
   "outputs": [],
   "source": [
    "base_model = make_pipeline(\n",
    "    StandardScaler(),\n",
    "    DecisionTreeRegressor()\n",
    ")\n",
    "\n",
    "bagging_model = BaggingRegressor(base_model, n_estimators=10, max_samples=0.5, max_features=0.5)"
   ]
  },
  {
   "cell_type": "code",
   "execution_count": 49,
   "metadata": {
    "colab": {
     "base_uri": "https://localhost:8080/",
     "height": 69
    },
    "id": "eiCiUfMaBg6S",
    "outputId": "82b9259a-9577-478f-e554-c867fe1583c7"
   },
   "outputs": [
    {
     "name": "stdout",
     "output_type": "stream",
     "text": [
      "avg fit time: 0.0025879383087158204 (+/- 0.000502016044311698)\n",
      "avg score time: 0.0005985736846923828 (+/- 0.0007981777404811589)\n",
      "avg test score: -0.11808926029780065 (+/- 0.13091291293413765)\n"
     ]
    }
   ],
   "source": [
    "cross_val = cross_validate(\n",
    "    estimator=base_model,\n",
    "    X=diabetes.data, y=diabetes.target,\n",
    "    cv=5\n",
    ")\n",
    "\n",
    "print('avg fit time: {} (+/- {})'.format(cross_val['fit_time'].mean(), cross_val['fit_time'].std()))\n",
    "print('avg score time: {} (+/- {})'.format(cross_val['score_time'].mean(), cross_val['score_time'].std()))\n",
    "print('avg test score: {} (+/- {})'.format(cross_val['test_score'].mean(), cross_val['test_score'].std()))"
   ]
  },
  {
   "cell_type": "code",
   "execution_count": 50,
   "metadata": {
    "colab": {
     "base_uri": "https://localhost:8080/",
     "height": 69
    },
    "id": "hDpNFOCpBldg",
    "outputId": "d76a6a0b-7736-47c9-8944-f43740c46a1d"
   },
   "outputs": [
    {
     "name": "stdout",
     "output_type": "stream",
     "text": [
      "avg fit time: 0.020742464065551757 (+/- 0.0011584637060898114)\n",
      "avg score time: 0.0017973423004150391 (+/- 0.0007377600349299915)\n",
      "avg test score: 0.39350080614420085 (+/- 0.022430657868841616)\n"
     ]
    }
   ],
   "source": [
    "cross_val = cross_validate(\n",
    "    estimator=bagging_model,\n",
    "    X=diabetes.data, y=diabetes.target,\n",
    "    cv=5\n",
    ")\n",
    "\n",
    "print('avg fit time: {} (+/- {})'.format(cross_val['fit_time'].mean(), cross_val['fit_time'].std()))\n",
    "print('avg score time: {} (+/- {})'.format(cross_val['score_time'].mean(), cross_val['score_time'].std()))\n",
    "print('avg test score: {} (+/- {})'.format(cross_val['test_score'].mean(), cross_val['test_score'].std()))"
   ]
  },
  {
   "cell_type": "markdown",
   "metadata": {
    "id": "Hve567xWbywt"
   },
   "source": [
    "## Forests of randomized trees\n",
    "\n",
    "* `sklearn.ensemble` 모듈에는 무작위 결정 트리를 기반으로하는 두 개의 평균화 알고리즘이 존재\n",
    "  * Random Forest\n",
    "  * Extra-Trees\n",
    "* 모델 구성에 임의성을 추가해 다양한 모델 집합이 생성\n",
    "* 앙상블 모델의 예측은 각 모델의 평균"
   ]
  },
  {
   "cell_type": "code",
   "execution_count": 51,
   "metadata": {
    "id": "9dLhSVb7CMIV"
   },
   "outputs": [],
   "source": [
    "from sklearn.ensemble import RandomForestClassifier, ExtraTreesClassifier\n",
    "from sklearn.ensemble import RandomForestRegressor, ExtraTreesRegressor"
   ]
  },
  {
   "cell_type": "markdown",
   "metadata": {
    "id": "oDLPV0rHk_kG"
   },
   "source": [
    "### Random Forests 분류"
   ]
  },
  {
   "cell_type": "code",
   "execution_count": 52,
   "metadata": {
    "id": "rpQvJshtlc-r"
   },
   "outputs": [],
   "source": [
    "model = make_pipeline(\n",
    "    StandardScaler(),\n",
    "    RandomForestClassifier()\n",
    ")"
   ]
  },
  {
   "cell_type": "code",
   "execution_count": 53,
   "metadata": {
    "colab": {
     "base_uri": "https://localhost:8080/",
     "height": 69
    },
    "id": "Vtf-Qegjlsz6",
    "outputId": "9b8b25db-6779-4b6e-bebc-fbdd6bf98dbb"
   },
   "outputs": [
    {
     "name": "stdout",
     "output_type": "stream",
     "text": [
      "avg fit time: 0.09006714820861816 (+/- 0.0018952139068081038)\n",
      "avg score time: 0.006989192962646484 (+/- 1.3881940962457552e-05)\n",
      "avg test score: 0.96 (+/- 0.024944382578492935)\n"
     ]
    }
   ],
   "source": [
    "cross_val = cross_validate(\n",
    "    estimator=model,\n",
    "    X=iris.data, y=iris.target,\n",
    "    cv=5\n",
    ")\n",
    "\n",
    "print('avg fit time: {} (+/- {})'.format(cross_val['fit_time'].mean(), cross_val['fit_time'].std()))\n",
    "print('avg score time: {} (+/- {})'.format(cross_val['score_time'].mean(), cross_val['score_time'].std()))\n",
    "print('avg test score: {} (+/- {})'.format(cross_val['test_score'].mean(), cross_val['test_score'].std()))"
   ]
  },
  {
   "cell_type": "code",
   "execution_count": 54,
   "metadata": {
    "colab": {
     "base_uri": "https://localhost:8080/",
     "height": 69
    },
    "id": "Zb64WqN6_QGS",
    "outputId": "a64eeffb-dda6-4a6c-807b-ff85c7deebae"
   },
   "outputs": [
    {
     "name": "stdout",
     "output_type": "stream",
     "text": [
      "avg fit time: 0.09427032470703126 (+/- 0.0014436488783436678)\n",
      "avg score time: 0.00718073844909668 (+/- 0.0003988504516678635)\n",
      "avg test score: 0.9776190476190475 (+/- 0.020831783767013237)\n"
     ]
    }
   ],
   "source": [
    "cross_val = cross_validate(\n",
    "    estimator=model,\n",
    "    X=wine.data, y=wine.target,\n",
    "    cv=5\n",
    ")\n",
    "\n",
    "print('avg fit time: {} (+/- {})'.format(cross_val['fit_time'].mean(), cross_val['fit_time'].std()))\n",
    "print('avg score time: {} (+/- {})'.format(cross_val['score_time'].mean(), cross_val['score_time'].std()))\n",
    "print('avg test score: {} (+/- {})'.format(cross_val['test_score'].mean(), cross_val['test_score'].std()))"
   ]
  },
  {
   "cell_type": "code",
   "execution_count": 55,
   "metadata": {
    "colab": {
     "base_uri": "https://localhost:8080/",
     "height": 69
    },
    "id": "0bMs-TucC1CH",
    "outputId": "169c0445-4d3c-4ae2-b0fa-9fb9b47ca34f"
   },
   "outputs": [
    {
     "name": "stdout",
     "output_type": "stream",
     "text": [
      "avg fit time: 0.1318502426147461 (+/- 0.0007537164366886055)\n",
      "avg score time: 0.007781982421875 (+/- 0.0004003208542283769)\n",
      "avg test score: 0.9613414066138798 (+/- 0.021188408593400723)\n"
     ]
    }
   ],
   "source": [
    "cross_val = cross_validate(\n",
    "    estimator=model,\n",
    "    X=cancer.data, y=cancer.target,\n",
    "    cv=5\n",
    ")\n",
    "\n",
    "print('avg fit time: {} (+/- {})'.format(cross_val['fit_time'].mean(), cross_val['fit_time'].std()))\n",
    "print('avg score time: {} (+/- {})'.format(cross_val['score_time'].mean(), cross_val['score_time'].std()))\n",
    "print('avg test score: {} (+/- {})'.format(cross_val['test_score'].mean(), cross_val['test_score'].std()))"
   ]
  },
  {
   "cell_type": "markdown",
   "metadata": {
    "id": "a3earvlLl2RE"
   },
   "source": [
    "### Random Forests 회귀"
   ]
  },
  {
   "cell_type": "code",
   "execution_count": 56,
   "metadata": {
    "id": "KGx4DhJlmNpP"
   },
   "outputs": [],
   "source": [
    "model = make_pipeline(\n",
    "    StandardScaler(),\n",
    "    RandomForestRegressor()\n",
    ")"
   ]
  },
  {
   "cell_type": "code",
   "execution_count": 57,
   "metadata": {
    "colab": {
     "base_uri": "https://localhost:8080/",
     "height": 69
    },
    "id": "1Jb0M9T9mQ6a",
    "outputId": "2ef1205d-907e-42a3-aad1-f9891b2e3149"
   },
   "outputs": [
    {
     "name": "stdout",
     "output_type": "stream",
     "text": [
      "avg fit time: 0.19887423515319824 (+/- 0.0019513210041327777)\n",
      "avg score time: 0.006580877304077149 (+/- 0.0005020436672116235)\n",
      "avg test score: 0.6129817557885099 (+/- 0.2296087168415705)\n"
     ]
    }
   ],
   "source": [
    "cross_val = cross_validate(\n",
    "    estimator=model,\n",
    "    X=boston.data, y=boston.target,\n",
    "    cv=5\n",
    ")\n",
    "\n",
    "print('avg fit time: {} (+/- {})'.format(cross_val['fit_time'].mean(), cross_val['fit_time'].std()))\n",
    "print('avg score time: {} (+/- {})'.format(cross_val['score_time'].mean(), cross_val['score_time'].std()))\n",
    "print('avg test score: {} (+/- {})'.format(cross_val['test_score'].mean(), cross_val['test_score'].std()))"
   ]
  },
  {
   "cell_type": "code",
   "execution_count": 58,
   "metadata": {
    "colab": {
     "base_uri": "https://localhost:8080/",
     "height": 69
    },
    "id": "cfhpqlGdDLGP",
    "outputId": "d465d0e5-c174-4ea8-fa08-1e63c0435b94"
   },
   "outputs": [
    {
     "name": "stdout",
     "output_type": "stream",
     "text": [
      "avg fit time: 0.16633787155151367 (+/- 0.00184281831269879)\n",
      "avg score time: 0.006577396392822265 (+/- 0.0004847691418885242)\n",
      "avg test score: 0.42526010476314935 (+/- 0.0501811313228912)\n"
     ]
    }
   ],
   "source": [
    "cross_val = cross_validate(\n",
    "    estimator=model,\n",
    "    X=diabetes.data, y=diabetes.target,\n",
    "    cv=5\n",
    ")\n",
    "\n",
    "print('avg fit time: {} (+/- {})'.format(cross_val['fit_time'].mean(), cross_val['fit_time'].std()))\n",
    "print('avg score time: {} (+/- {})'.format(cross_val['score_time'].mean(), cross_val['score_time'].std()))\n",
    "print('avg test score: {} (+/- {})'.format(cross_val['test_score'].mean(), cross_val['test_score'].std()))"
   ]
  },
  {
   "cell_type": "markdown",
   "metadata": {
    "id": "EBHcDHNvmot4"
   },
   "source": [
    "### Extremely Randomized Trees 분류"
   ]
  },
  {
   "cell_type": "code",
   "execution_count": 59,
   "metadata": {
    "id": "B_ujy6vHm7H4"
   },
   "outputs": [],
   "source": [
    "model = make_pipeline(\n",
    "    StandardScaler(),\n",
    "    ExtraTreesClassifier()\n",
    ")"
   ]
  },
  {
   "cell_type": "code",
   "execution_count": 60,
   "metadata": {
    "colab": {
     "base_uri": "https://localhost:8080/",
     "height": 69
    },
    "id": "pkzBXVMem_bM",
    "outputId": "12ecc97f-e7c6-4b46-a1ef-cf1f1cb9309b"
   },
   "outputs": [
    {
     "name": "stdout",
     "output_type": "stream",
     "text": [
      "avg fit time: 0.06642780303955079 (+/- 0.002327250857893032)\n",
      "avg score time: 0.007773637771606445 (+/- 0.0007523415583011764)\n",
      "avg test score: 0.9533333333333334 (+/- 0.03399346342395189)\n"
     ]
    }
   ],
   "source": [
    "cross_val = cross_validate(\n",
    "    estimator=model,\n",
    "    X=iris.data, y=iris.target,\n",
    "    cv=5\n",
    ")\n",
    "\n",
    "print('avg fit time: {} (+/- {})'.format(cross_val['fit_time'].mean(), cross_val['fit_time'].std()))\n",
    "print('avg score time: {} (+/- {})'.format(cross_val['score_time'].mean(), cross_val['score_time'].std()))\n",
    "print('avg test score: {} (+/- {})'.format(cross_val['test_score'].mean(), cross_val['test_score'].std()))"
   ]
  },
  {
   "cell_type": "code",
   "execution_count": 61,
   "metadata": {
    "colab": {
     "base_uri": "https://localhost:8080/",
     "height": 69
    },
    "id": "iV9QX51m_Re6",
    "outputId": "0b9d5c3b-c866-4e65-9e50-bd4586cc599a"
   },
   "outputs": [
    {
     "name": "stdout",
     "output_type": "stream",
     "text": [
      "avg fit time: 0.07102665901184083 (+/- 0.0014742414111558284)\n",
      "avg score time: 0.0077670574188232425 (+/- 0.00039588560714493525)\n",
      "avg test score: 0.9665079365079364 (+/- 0.020746948644437477)\n"
     ]
    }
   ],
   "source": [
    "cross_val = cross_validate(\n",
    "    estimator=model,\n",
    "    X=wine.data, y=wine.target,\n",
    "    cv=5\n",
    ")\n",
    "\n",
    "print('avg fit time: {} (+/- {})'.format(cross_val['fit_time'].mean(), cross_val['fit_time'].std()))\n",
    "print('avg score time: {} (+/- {})'.format(cross_val['score_time'].mean(), cross_val['score_time'].std()))\n",
    "print('avg test score: {} (+/- {})'.format(cross_val['test_score'].mean(), cross_val['test_score'].std()))"
   ]
  },
  {
   "cell_type": "code",
   "execution_count": 62,
   "metadata": {
    "colab": {
     "base_uri": "https://localhost:8080/",
     "height": 69
    },
    "id": "qH_ZkUvlDbs2",
    "outputId": "369b97da-d931-4b53-f88c-a1d5c1db8ea5"
   },
   "outputs": [
    {
     "name": "stdout",
     "output_type": "stream",
     "text": [
      "avg fit time: 0.08078474998474121 (+/- 0.0017997269062795427)\n",
      "avg score time: 0.007784080505371094 (+/- 0.0004025701033421691)\n",
      "avg test score: 0.9666200900481291 (+/- 0.011609532962591908)\n"
     ]
    }
   ],
   "source": [
    "cross_val = cross_validate(\n",
    "    estimator=model,\n",
    "    X=cancer.data, y=cancer.target,\n",
    "    cv=5\n",
    ")\n",
    "\n",
    "print('avg fit time: {} (+/- {})'.format(cross_val['fit_time'].mean(), cross_val['fit_time'].std()))\n",
    "print('avg score time: {} (+/- {})'.format(cross_val['score_time'].mean(), cross_val['score_time'].std()))\n",
    "print('avg test score: {} (+/- {})'.format(cross_val['test_score'].mean(), cross_val['test_score'].std()))"
   ]
  },
  {
   "cell_type": "markdown",
   "metadata": {
    "id": "JspHMW4YnDON"
   },
   "source": [
    "### Extremely Randomized Trees 회귀"
   ]
  },
  {
   "cell_type": "code",
   "execution_count": 63,
   "metadata": {
    "id": "6_dqUbdCnRbP"
   },
   "outputs": [],
   "source": [
    "model = make_pipeline(\n",
    "    StandardScaler(),\n",
    "    ExtraTreesRegressor()\n",
    ")"
   ]
  },
  {
   "cell_type": "code",
   "execution_count": 64,
   "metadata": {
    "colab": {
     "base_uri": "https://localhost:8080/",
     "height": 69
    },
    "id": "SHfpp5NBnVDU",
    "outputId": "c71c5053-ae88-4f0b-ef15-94affe0e6fb6"
   },
   "outputs": [
    {
     "name": "stdout",
     "output_type": "stream",
     "text": [
      "avg fit time: 0.13564391136169435 (+/- 0.002822110973746965)\n",
      "avg score time: 0.006776332855224609 (+/- 0.0003963054696214769)\n",
      "avg test score: 0.6586708466473583 (+/- 0.2110359344103442)\n"
     ]
    }
   ],
   "source": [
    "cross_val = cross_validate(\n",
    "    estimator=model,\n",
    "    X=boston.data, y=boston.target,\n",
    "    cv=5\n",
    ")\n",
    "\n",
    "print('avg fit time: {} (+/- {})'.format(cross_val['fit_time'].mean(), cross_val['fit_time'].std()))\n",
    "print('avg score time: {} (+/- {})'.format(cross_val['score_time'].mean(), cross_val['score_time'].std()))\n",
    "print('avg test score: {} (+/- {})'.format(cross_val['test_score'].mean(), cross_val['test_score'].std()))"
   ]
  },
  {
   "cell_type": "code",
   "execution_count": 65,
   "metadata": {
    "colab": {
     "base_uri": "https://localhost:8080/",
     "height": 69
    },
    "id": "2CuQvitCDv77",
    "outputId": "a498ecc4-53b4-4efa-d714-e5e66e27ded6"
   },
   "outputs": [
    {
     "name": "stdout",
     "output_type": "stream",
     "text": [
      "avg fit time: 0.12525973320007325 (+/- 0.010667639808215968)\n",
      "avg score time: 0.006985950469970703 (+/- 1.1738719788188847e-05)\n",
      "avg test score: 0.4456014654934089 (+/- 0.04006042033853565)\n"
     ]
    }
   ],
   "source": [
    "cross_val = cross_validate(\n",
    "    estimator=model,\n",
    "    X=diabetes.data, y=diabetes.target,\n",
    "    cv=5\n",
    ")\n",
    "\n",
    "print('avg fit time: {} (+/- {})'.format(cross_val['fit_time'].mean(), cross_val['fit_time'].std()))\n",
    "print('avg score time: {} (+/- {})'.format(cross_val['score_time'].mean(), cross_val['score_time'].std()))\n",
    "print('avg test score: {} (+/- {})'.format(cross_val['test_score'].mean(), cross_val['test_score'].std()))"
   ]
  },
  {
   "cell_type": "markdown",
   "metadata": {
    "id": "L4_4LPoirXV2"
   },
   "source": [
    "### Random Forest, Extra Tree 시각화\n",
    "\n",
    "* 결정 트리, Random Forest, Extra Tree의 결정 경계와 회귀식 시각화"
   ]
  },
  {
   "cell_type": "code",
   "execution_count": 66,
   "metadata": {
    "id": "RH-wTt7PzpB_"
   },
   "outputs": [],
   "source": [
    "import numpy as np\n",
    "import matplotlib.pyplot as plt\n",
    "plt.style.use(['seaborn-whitegrid'])\n",
    "from matplotlib.colors import ListedColormap\n",
    "from sklearn.tree import DecisionTreeClassifier"
   ]
  },
  {
   "cell_type": "code",
   "execution_count": 67,
   "metadata": {
    "id": "J-rQtFGZz3r7"
   },
   "outputs": [],
   "source": [
    "n_classes = 3\n",
    "n_estimators = 30\n",
    "cmap = plt.cm.RdYlBu\n",
    "plot_step = 0.02\n",
    "plot_step_coarser = 0.5\n",
    "RANDOM_SEED = 13"
   ]
  },
  {
   "cell_type": "code",
   "execution_count": 68,
   "metadata": {
    "id": "V7F-qnp60DO1"
   },
   "outputs": [],
   "source": [
    "iris = load_iris()\n",
    "plot_idx = 1\n",
    "models = [DecisionTreeClassifier(max_depth=None), \n",
    "         RandomForestClassifier(n_estimators=n_estimators),\n",
    "         ExtraTreesClassifier(n_estimators=n_estimators)]"
   ]
  },
  {
   "cell_type": "code",
   "execution_count": 69,
   "metadata": {
    "colab": {
     "base_uri": "https://localhost:8080/",
     "height": 432
    },
    "id": "frixj9rPnW5w",
    "outputId": "373cce09-80a6-459e-b8b1-0422349bbe44"
   },
   "outputs": [
    {
     "name": "stderr",
     "output_type": "stream",
     "text": [
      "<ipython-input-69-4aebf8a412c1>:24: MatplotlibDeprecationWarning: Adding an axes using the same arguments as a previous axes currently reuses the earlier instance.  In a future version, a new instance will always be created and returned.  Meanwhile, this warning can be suppressed, and the future behavior ensured, by passing a unique label to each axes instance.\n",
      "  plt.subplot(3, 3, plot_idx)\n",
      "<ipython-input-69-4aebf8a412c1>:24: MatplotlibDeprecationWarning: Adding an axes using the same arguments as a previous axes currently reuses the earlier instance.  In a future version, a new instance will always be created and returned.  Meanwhile, this warning can be suppressed, and the future behavior ensured, by passing a unique label to each axes instance.\n",
      "  plt.subplot(3, 3, plot_idx)\n",
      "<ipython-input-69-4aebf8a412c1>:24: MatplotlibDeprecationWarning: Adding an axes using the same arguments as a previous axes currently reuses the earlier instance.  In a future version, a new instance will always be created and returned.  Meanwhile, this warning can be suppressed, and the future behavior ensured, by passing a unique label to each axes instance.\n",
      "  plt.subplot(3, 3, plot_idx)\n",
      "<ipython-input-69-4aebf8a412c1>:24: MatplotlibDeprecationWarning: Adding an axes using the same arguments as a previous axes currently reuses the earlier instance.  In a future version, a new instance will always be created and returned.  Meanwhile, this warning can be suppressed, and the future behavior ensured, by passing a unique label to each axes instance.\n",
      "  plt.subplot(3, 3, plot_idx)\n",
      "<ipython-input-69-4aebf8a412c1>:24: MatplotlibDeprecationWarning: Adding an axes using the same arguments as a previous axes currently reuses the earlier instance.  In a future version, a new instance will always be created and returned.  Meanwhile, this warning can be suppressed, and the future behavior ensured, by passing a unique label to each axes instance.\n",
      "  plt.subplot(3, 3, plot_idx)\n",
      "<ipython-input-69-4aebf8a412c1>:24: MatplotlibDeprecationWarning: Adding an axes using the same arguments as a previous axes currently reuses the earlier instance.  In a future version, a new instance will always be created and returned.  Meanwhile, this warning can be suppressed, and the future behavior ensured, by passing a unique label to each axes instance.\n",
      "  plt.subplot(3, 3, plot_idx)\n"
     ]
    },
    {
     "data": {
      "image/png": "[encoded data removed]",
      "text/plain": [
       "<Figure size 1152x576 with 3 Axes>"
      ]
     },
     "metadata": {},
     "output_type": "display_data"
    }
   ],
   "source": [
    "plt.figure(figsize=(16, 8))\n",
    "\n",
    "for pair in ([0, 1], [0, 2], [2, 3]):\n",
    "    \n",
    "    for model in models:\n",
    "        \n",
    "        X = iris.data[:, pair]\n",
    "        y = iris.target\n",
    "        \n",
    "        idx = np.arange(X.shape[0])\n",
    "        np.random.seed(RANDOM_SEED)\n",
    "        np.random.shuffle(idx)\n",
    "        X = X[idx]\n",
    "        y = y[idx]\n",
    "        \n",
    "        mean = X.mean(axis=0)\n",
    "        std = X.std(axis=0)\n",
    "        X = (X - mean) / std\n",
    "        \n",
    "        model.fit(X, y)\n",
    "        \n",
    "        model_title = str(type(model)).split(\".\")[-1][:-2][:-len(\"Classifier\")]\n",
    "        \n",
    "        plt.subplot(3, 3, plot_idx)\n",
    "        if plot_idx <= len(models):\n",
    "            plt.title(model_title, fontsize=9)\n",
    "            \n",
    "        x_min, x_max = X[:, 0].min()-1, X[:, 0].max()+1\n",
    "        y_min, y_max = X[:, 1].min()-1, X[:, 1].max()+1\n",
    "        xx, yy = np.meshgrid(np.arange(x_min, x_max, plot_step),\n",
    "                             np.arange(y_min, y_max, plot_step))\n",
    "                             \n",
    "        if isinstance(model, DecisionTreeClassifier):\n",
    "            Z = model.predict(np.c_[xx.ravel(), yy.ravel()])\n",
    "            Z = Z.reshape(xx.shape)\n",
    "            cs = plt.contourf(xx, yy, Z, cmap=cmap)\n",
    "        else:\n",
    "            estimator_alpha = 1.0 / len(model.estimators_)\n",
    "            for tree in model.estimators_:\n",
    "                Z = model.predict(np.c_[xx.ravel(), yy.ravel()])\n",
    "            Z = Z.reshape(xx.shape)\n",
    "            cs = plt.contourf(xx, yy, Z, alpha=estimator_alpha, cmap=cmap)\n",
    "            \n",
    "    xx_coarser, yy_coarser = np.meshgrid(np.arange(x_min, x_max, plot_step_coarser),\n",
    "                                         np.arange(y_min, y_max, plot_step_coarser))\n",
    "    Z_points_coarser = model.predict(np.c_[xx_coarser.ravel(),\n",
    "                                          yy_coarser.ravel()]).reshape(xx_coarser.shape)\n",
    "    cs_points = plt.scatter(xx_coarser, yy_coarser, s=15,\n",
    "                           c=Z_points_coarser, cmap=cmap,\n",
    "                           edgecolors='none')\n",
    "    plt.scatter(X[:, 0], X[:, 1], c=y,\n",
    "               cmap=ListedColormap(['r', 'y', 'b']),\n",
    "               edgecolor='k', s=20)\n",
    "    plot_idx += 1\n",
    "    \n",
    "plt.suptitle(\"Classifiers\", fontsize=12)\n",
    "plt.axis('tight')\n",
    "plt.tight_layout(h_pad=0.2, w_pad=0.2, pad=2.5)\n",
    "plt.show()"
   ]
  },
  {
   "cell_type": "code",
   "execution_count": 72,
   "metadata": {
    "id": "8nqpZSlUEf9P"
   },
   "outputs": [],
   "source": [
    "plot_idx = 1\n",
    "models =[DecisionTreeRegressor(max_depth=None),\n",
    "        RandomForestRegressor(n_estimators=n_estimators),\n",
    "        ExtraTreesRegressor(n_estimators=n_estimators)]"
   ]
  },
  {
   "cell_type": "code",
   "execution_count": 73,
   "metadata": {
    "colab": {
     "base_uri": "https://localhost:8080/",
     "height": 432
    },
    "id": "LN5ECiI5EQmZ",
    "outputId": "ad342d1d-c1d4-4417-c69a-884e043363b4"
   },
   "outputs": [
    {
     "data": {
      "image/png": "[encoded data removed]",
      "text/plain": [
       "<Figure size 1152x576 with 9 Axes>"
      ]
     },
     "metadata": {},
     "output_type": "display_data"
    }
   ],
   "source": [
    "plt.figure(figsize=(16, 8))\n",
    "\n",
    "for pair in (0, 1, 2):\n",
    "    \n",
    "    for model in models:\n",
    "        \n",
    "        X = boston.data[:, pair]\n",
    "        y = boston.target\n",
    "        \n",
    "        idx = np.arange(X.shape[0])\n",
    "        np.random.seed(RANDOM_SEED)\n",
    "        np.random.shuffle(idx)\n",
    "        X = X[idx]\n",
    "        y = y[idx]\n",
    "        \n",
    "        mean = X.mean(axis=0)\n",
    "        std = X.std(axis=0)    \n",
    "        X = (X - mean) / std\n",
    "        \n",
    "        model.fit(X.reshape(-1, 1), y)\n",
    "        \n",
    "        model_title = str(type(model)).split(\".\")[-1][:-2][:-len('Regressor')]\n",
    "        \n",
    "        plt.subplot(3, 3, plot_idx)\n",
    "        if plot_idx <=len(models):\n",
    "            plt.title(model_title, fontsize=9)\n",
    "            \n",
    "        x_min, x_max = X.min()-1, X.max()+1\n",
    "        y_min, y_max = y.min()-1, y.max()+1\n",
    "        xx, yy = np.arange(x_min-1, x_max+1, plot_step), np.arange(y_min-1, y_max+1, plot_step)\n",
    "        \n",
    "        if isinstance(model, DecisionTreeRegressor):\n",
    "            Z = model.predict(xx.reshape(-1, 1))\n",
    "            cs = plt.plot(xx, Z)\n",
    "        else:\n",
    "            estimator_alpha = 1.0 / len(model.estimators_)\n",
    "            for tree in model.estimators_:\n",
    "                Z = tree.predict(xx.reshape(-1, 1))\n",
    "                cs = plt.plot(xx, Z, alpha=estimator_alpha)\n",
    "                \n",
    "        plt.scatter(X, y, edgecolors='k', s=20)\n",
    "        plot_idx += 1\n",
    "        \n",
    "plt.suptitle(\"Regressor\", fontsize=12)\n",
    "plt.axis('tight')\n",
    "plt.tight_layout(h_pad=0.2, w_pad=0.2, pad=2.5)\n",
    "plt.show()"
   ]
  },
  {
   "cell_type": "markdown",
   "metadata": {
    "id": "KBBCR19i3JNP"
   },
   "source": [
    "## AdaBoost\n",
    "\n",
    "* 대표적인 부스팅 알고리즘\n",
    "* 일련의 약한 모델들을 학습\n",
    "* 수정된 버전의 데이터를 반복 학습 (가중치가 적용된)\n",
    "* 가중치 투표(또는 합)을 통해 각 모델의 예측 값을 결합\n",
    "* 첫 단계에서는 원본 데이터를 학습하고 연속적인 반복마다 개별 샘플에 대한 가중치가 수정되고 다시 모델이 학습\n",
    "  * 잘못 예측된 샘플은 가중치 증가, 올바르게 예측된 샘플은 가중치 감소\n",
    "  * 각각의 약한 모델들은 예측하기 어려운 샘플에 집중하게 됨\n",
    "\n",
    "![AdaBoost](https://scikit-learn.org/stable/_images/sphx_glr_plot_adaboost_hastie_10_2_0011.png)"
   ]
  },
  {
   "cell_type": "code",
   "execution_count": 76,
   "metadata": {
    "id": "5QjTkuxWrm2a"
   },
   "outputs": [],
   "source": [
    "from sklearn.ensemble import AdaBoostClassifier\n",
    "from sklearn.ensemble import AdaBoostRegressor"
   ]
  },
  {
   "cell_type": "markdown",
   "metadata": {
    "id": "Za_gsbAZ6o5j"
   },
   "source": [
    "### AdaBoost 분류"
   ]
  },
  {
   "cell_type": "code",
   "execution_count": 77,
   "metadata": {
    "id": "4RHbd5Xs6K49"
   },
   "outputs": [],
   "source": [
    "model = make_pipeline(\n",
    "    StandardScaler(),\n",
    "    AdaBoostClassifier()\n",
    ")"
   ]
  },
  {
   "cell_type": "code",
   "execution_count": 78,
   "metadata": {
    "colab": {
     "base_uri": "https://localhost:8080/",
     "height": 69
    },
    "id": "SQ0bYdUqHt23",
    "outputId": "ab921a0c-e2ae-4b47-9a6f-8816dda6c5b6"
   },
   "outputs": [
    {
     "name": "stdout",
     "output_type": "stream",
     "text": [
      "avg fit time: 0.049260950088500975 (+/- 0.003015898433842351)\n",
      "avg score time: 0.005592155456542969 (+/- 0.0004946772983310309)\n",
      "avg test score: 0.9466666666666667 (+/- 0.03399346342395189)\n"
     ]
    }
   ],
   "source": [
    "cross_val = cross_validate(\n",
    "    estimator=model,\n",
    "    X=iris.data, y=iris.target,\n",
    "    cv=5\n",
    ")\n",
    "\n",
    "print('avg fit time: {} (+/- {})'.format(cross_val['fit_time'].mean(), cross_val['fit_time'].std()))\n",
    "print('avg score time: {} (+/- {})'.format(cross_val['score_time'].mean(), cross_val['score_time'].std()))\n",
    "print('avg test score: {} (+/- {})'.format(cross_val['test_score'].mean(), cross_val['test_score'].std()))"
   ]
  },
  {
   "cell_type": "code",
   "execution_count": 79,
   "metadata": {
    "colab": {
     "base_uri": "https://localhost:8080/",
     "height": 69
    },
    "id": "_7NzxxKr_UBY",
    "outputId": "9f02c595-0ffb-403c-f038-a88d68461bb4"
   },
   "outputs": [
    {
     "name": "stdout",
     "output_type": "stream",
     "text": [
      "avg fit time: 0.05326886177062988 (+/- 0.0004927634685302968)\n",
      "avg score time: 0.00577545166015625 (+/- 0.00039304932322460693)\n",
      "avg test score: 0.8085714285714285 (+/- 0.16822356718459935)\n"
     ]
    }
   ],
   "source": [
    "cross_val = cross_validate(\n",
    "    estimator=model,\n",
    "    X=wine.data, y=wine.target,\n",
    "    cv=5\n",
    ")\n",
    "\n",
    "print('avg fit time: {} (+/- {})'.format(cross_val['fit_time'].mean(), cross_val['fit_time'].std()))\n",
    "print('avg score time: {} (+/- {})'.format(cross_val['score_time'].mean(), cross_val['score_time'].std()))\n",
    "print('avg test score: {} (+/- {})'.format(cross_val['test_score'].mean(), cross_val['test_score'].std()))"
   ]
  },
  {
   "cell_type": "code",
   "execution_count": 80,
   "metadata": {
    "colab": {
     "base_uri": "https://localhost:8080/",
     "height": 69
    },
    "id": "yk2jId1LH6Xl",
    "outputId": "239e8737-e432-42fc-f57e-c6ed9519273e"
   },
   "outputs": [
    {
     "name": "stdout",
     "output_type": "stream",
     "text": [
      "avg fit time: 0.09994850158691407 (+/- 0.001167464649455429)\n",
      "avg score time: 0.006583404541015625 (+/- 0.0004898560078466244)\n",
      "avg test score: 0.9701133364384411 (+/- 0.019709915473893072)\n"
     ]
    }
   ],
   "source": [
    "cross_val = cross_validate(\n",
    "    estimator=model,\n",
    "    X=cancer.data, y=cancer.target,\n",
    "    cv=5\n",
    ")\n",
    "\n",
    "print('avg fit time: {} (+/- {})'.format(cross_val['fit_time'].mean(), cross_val['fit_time'].std()))\n",
    "print('avg score time: {} (+/- {})'.format(cross_val['score_time'].mean(), cross_val['score_time'].std()))\n",
    "print('avg test score: {} (+/- {})'.format(cross_val['test_score'].mean(), cross_val['test_score'].std()))"
   ]
  },
  {
   "cell_type": "markdown",
   "metadata": {
    "id": "NFx-ob7q6zK1"
   },
   "source": [
    "### AdaBoost 회귀"
   ]
  },
  {
   "cell_type": "code",
   "execution_count": 81,
   "metadata": {
    "id": "xd3DBHFi68tC"
   },
   "outputs": [],
   "source": [
    "model = make_pipeline(\n",
    "    StandardScaler(),\n",
    "    AdaBoostRegressor()\n",
    ")"
   ]
  },
  {
   "cell_type": "code",
   "execution_count": 82,
   "metadata": {
    "colab": {
     "base_uri": "https://localhost:8080/",
     "height": 69
    },
    "id": "W45kcSVKIJnq",
    "outputId": "ad55d70f-cfae-4ad7-d287-759b43e6f499"
   },
   "outputs": [
    {
     "name": "stdout",
     "output_type": "stream",
     "text": [
      "avg fit time: 0.06427907943725586 (+/- 0.0013123998469407004)\n",
      "avg score time: 0.003589344024658203 (+/- 0.00048809265335258636)\n",
      "avg test score: 0.5985744583807469 (+/- 0.20937548598257683)\n"
     ]
    }
   ],
   "source": [
    "cross_val = cross_validate(\n",
    "    estimator=model,\n",
    "    X=boston.data, y=boston.target,\n",
    "    cv=5\n",
    ")\n",
    "\n",
    "print('avg fit time: {} (+/- {})'.format(cross_val['fit_time'].mean(), cross_val['fit_time'].std()))\n",
    "print('avg score time: {} (+/- {})'.format(cross_val['score_time'].mean(), cross_val['score_time'].std()))\n",
    "print('avg test score: {} (+/- {})'.format(cross_val['test_score'].mean(), cross_val['test_score'].std()))"
   ]
  },
  {
   "cell_type": "code",
   "execution_count": 83,
   "metadata": {
    "colab": {
     "base_uri": "https://localhost:8080/",
     "height": 69
    },
    "id": "ka-BHFVWIMnQ",
    "outputId": "f8c4153c-ab9c-4d89-ead1-a844010f2c79"
   },
   "outputs": [
    {
     "name": "stdout",
     "output_type": "stream",
     "text": [
      "avg fit time: 0.0556884765625 (+/- 0.008910069116886724)\n",
      "avg score time: 0.0027927398681640626 (+/- 0.00040119426472036277)\n",
      "avg test score: 0.41312084500745616 (+/- 0.04091835944493939)\n"
     ]
    }
   ],
   "source": [
    "cross_val = cross_validate(\n",
    "    estimator=model,\n",
    "    X=diabetes.data, y=diabetes.target,\n",
    "    cv=5\n",
    ")\n",
    "\n",
    "print('avg fit time: {} (+/- {})'.format(cross_val['fit_time'].mean(), cross_val['fit_time'].std()))\n",
    "print('avg score time: {} (+/- {})'.format(cross_val['score_time'].mean(), cross_val['score_time'].std()))\n",
    "print('avg test score: {} (+/- {})'.format(cross_val['test_score'].mean(), cross_val['test_score'].std()))"
   ]
  },
  {
   "cell_type": "markdown",
   "metadata": {
    "id": "YeG2y1JB7T6z"
   },
   "source": [
    "## Gradient Tree Boosting\n",
    "\n",
    "* 임의의 차별화 가능한 손실함수로 일반화한 부스팅 알고리즘\n",
    "* 웹 검색, 분류 및 회귀 등 다양한 분야에서 모두 사용 가능"
   ]
  },
  {
   "cell_type": "code",
   "execution_count": 84,
   "metadata": {
    "id": "0K_scQYk7DRm"
   },
   "outputs": [],
   "source": [
    "from sklearn.ensemble import GradientBoostingClassifier\n",
    "from sklearn.ensemble import GradientBoostingRegressor"
   ]
  },
  {
   "cell_type": "markdown",
   "metadata": {
    "id": "UnXayCIq-ANR"
   },
   "source": [
    "### Gradient Tree Boosting 분류"
   ]
  },
  {
   "cell_type": "code",
   "execution_count": 85,
   "metadata": {
    "id": "US57OYu39_IS"
   },
   "outputs": [],
   "source": [
    "model = make_pipeline(\n",
    "    StandardScaler(),\n",
    "    GradientBoostingClassifier()\n",
    ")"
   ]
  },
  {
   "cell_type": "code",
   "execution_count": 86,
   "metadata": {
    "colab": {
     "base_uri": "https://localhost:8080/",
     "height": 69
    },
    "id": "i5m3pir6Ia02",
    "outputId": "9e12841d-9a0b-4367-c2d5-ad7bccecc32d"
   },
   "outputs": [
    {
     "name": "stdout",
     "output_type": "stream",
     "text": [
      "avg fit time: 0.14490628242492676 (+/- 0.0005709695401688162)\n",
      "avg score time: 0.0007979869842529297 (+/- 0.0003990060112205531)\n",
      "avg test score: 0.9666666666666668 (+/- 0.02108185106778919)\n"
     ]
    }
   ],
   "source": [
    "cross_val = cross_validate(\n",
    "    estimator=model,\n",
    "    X=iris.data, y=iris.target,\n",
    "    cv=5\n",
    ")\n",
    "\n",
    "print('avg fit time: {} (+/- {})'.format(cross_val['fit_time'].mean(), cross_val['fit_time'].std()))\n",
    "print('avg score time: {} (+/- {})'.format(cross_val['score_time'].mean(), cross_val['score_time'].std()))\n",
    "print('avg test score: {} (+/- {})'.format(cross_val['test_score'].mean(), cross_val['test_score'].std()))"
   ]
  },
  {
   "cell_type": "code",
   "execution_count": 87,
   "metadata": {
    "colab": {
     "base_uri": "https://localhost:8080/",
     "height": 69
    },
    "id": "MmkKzQKU_WHg",
    "outputId": "8e740557-7625-468f-995e-c19cb3ebfef2"
   },
   "outputs": [
    {
     "name": "stdout",
     "output_type": "stream",
     "text": [
      "avg fit time: 0.2175478458404541 (+/- 0.006143636647984179)\n",
      "avg score time: 0.000597381591796875 (+/- 0.0004877639662380707)\n",
      "avg test score: 0.9330158730158731 (+/- 0.04127777701479872)\n"
     ]
    }
   ],
   "source": [
    "cross_val = cross_validate(\n",
    "    estimator=model,\n",
    "    X=wine.data, y=wine.target,\n",
    "    cv=5\n",
    ")\n",
    "\n",
    "print('avg fit time: {} (+/- {})'.format(cross_val['fit_time'].mean(), cross_val['fit_time'].std()))\n",
    "print('avg score time: {} (+/- {})'.format(cross_val['score_time'].mean(), cross_val['score_time'].std()))\n",
    "print('avg test score: {} (+/- {})'.format(cross_val['test_score'].mean(), cross_val['test_score'].std()))"
   ]
  },
  {
   "cell_type": "code",
   "execution_count": 88,
   "metadata": {
    "colab": {
     "base_uri": "https://localhost:8080/",
     "height": 69
    },
    "id": "VBitsXUmIe9B",
    "outputId": "c6fa8383-4274-4fdd-f68a-3996649fd1ac"
   },
   "outputs": [
    {
     "name": "stdout",
     "output_type": "stream",
     "text": [
      "avg fit time: 0.2725778579711914 (+/- 0.0029249083758524394)\n",
      "avg score time: 0.00059814453125 (+/- 0.0004883830189820749)\n",
      "avg test score: 0.9596180717279925 (+/- 0.02453263202329889)\n"
     ]
    }
   ],
   "source": [
    "cross_val = cross_validate(\n",
    "    estimator=model,\n",
    "    X=cancer.data, y=cancer.target,\n",
    "    cv=5\n",
    ")\n",
    "\n",
    "print('avg fit time: {} (+/- {})'.format(cross_val['fit_time'].mean(), cross_val['fit_time'].std()))\n",
    "print('avg score time: {} (+/- {})'.format(cross_val['score_time'].mean(), cross_val['score_time'].std()))\n",
    "print('avg test score: {} (+/- {})'.format(cross_val['test_score'].mean(), cross_val['test_score'].std()))"
   ]
  },
  {
   "cell_type": "markdown",
   "metadata": {
    "id": "-DeP90dJ-Sy2"
   },
   "source": [
    "### Gradient Tree Boosting 회귀"
   ]
  },
  {
   "cell_type": "code",
   "execution_count": 89,
   "metadata": {
    "id": "Cy3cq6VL-Q1v"
   },
   "outputs": [],
   "source": [
    "model = make_pipeline(\n",
    "    StandardScaler(),\n",
    "    GradientBoostingRegressor()\n",
    ")    "
   ]
  },
  {
   "cell_type": "code",
   "execution_count": 90,
   "metadata": {
    "colab": {
     "base_uri": "https://localhost:8080/",
     "height": 69
    },
    "id": "ZYw5ymXCIowr",
    "outputId": "4375c812-149e-45cb-ea0b-756ca6905afc"
   },
   "outputs": [
    {
     "name": "stdout",
     "output_type": "stream",
     "text": [
      "avg fit time: 0.07770123481750488 (+/- 0.002285800576554367)\n",
      "avg score time: 0.0007972240447998047 (+/- 0.00039861810795238596)\n",
      "avg test score: 0.6752372690883461 (+/- 0.16121836382662494)\n"
     ]
    }
   ],
   "source": [
    "cross_val = cross_validate(\n",
    "    estimator=model,\n",
    "    X=boston.data, y=boston.target,\n",
    "    cv=5\n",
    ")\n",
    "\n",
    "print('avg fit time: {} (+/- {})'.format(cross_val['fit_time'].mean(), cross_val['fit_time'].std()))\n",
    "print('avg score time: {} (+/- {})'.format(cross_val['score_time'].mean(), cross_val['score_time'].std()))\n",
    "print('avg test score: {} (+/- {})'.format(cross_val['test_score'].mean(), cross_val['test_score'].std()))"
   ]
  },
  {
   "cell_type": "code",
   "execution_count": 91,
   "metadata": {
    "colab": {
     "base_uri": "https://localhost:8080/",
     "height": 69
    },
    "id": "S6gdorDUIsYv",
    "outputId": "a6e95858-a0ea-43e3-ceed-454562bee243"
   },
   "outputs": [
    {
     "name": "stdout",
     "output_type": "stream",
     "text": [
      "avg fit time: 0.05996580123901367 (+/- 0.0010653346709223477)\n",
      "avg score time: 0.0003989219665527344 (+/- 0.0004885776558898482)\n",
      "avg test score: 0.4029450867301339 (+/- 0.0688801507855847)\n"
     ]
    }
   ],
   "source": [
    "cross_val = cross_validate(\n",
    "    estimator=model,\n",
    "    X=diabetes.data, y=diabetes.target,\n",
    "    cv=5\n",
    ")\n",
    "\n",
    "print('avg fit time: {} (+/- {})'.format(cross_val['fit_time'].mean(), cross_val['fit_time'].std()))\n",
    "print('avg score time: {} (+/- {})'.format(cross_val['score_time'].mean(), cross_val['score_time'].std()))\n",
    "print('avg test score: {} (+/- {})'.format(cross_val['test_score'].mean(), cross_val['test_score'].std()))"
   ]
  },
  {
   "cell_type": "markdown",
   "metadata": {
    "id": "u7RRhGKEBVdq"
   },
   "source": [
    "## 투표 기반 분류 (Voting Classifier)\n",
    "\n",
    "* 서로 다른 모델들의 결과를 투표를 통해 결합\n",
    "* 두가지 방법으로 투표 가능\n",
    "  * 가장 많이 예측된 클래스를 정답으로 채택 (hard voting)\n",
    "  * 예측된 확률의 가중치 평균 (soft voting)"
   ]
  },
  {
   "cell_type": "code",
   "execution_count": 95,
   "metadata": {
    "id": "a5eAt-Yy-iBz"
   },
   "outputs": [],
   "source": [
    "from sklearn.svm import SVC\n",
    "from sklearn.naive_bayes import GaussianNB\n",
    "from sklearn.ensemble import RandomForestClassifier\n",
    "from sklearn.ensemble import VotingClassifier\n",
    "from sklearn.model_selection import train_test_split, cross_val_score"
   ]
  },
  {
   "cell_type": "code",
   "execution_count": 96,
   "metadata": {
    "id": "toBoZ5I_EEy3"
   },
   "outputs": [],
   "source": [
    "model1 = SVC()\n",
    "model2 = GaussianNB()\n",
    "model3 = RandomForestClassifier()\n",
    "vote_model = VotingClassifier(\n",
    "    estimators = [('svc', model1), ('naive', model2), ('forest', model3)],\n",
    "    voting = 'hard'\n",
    ")"
   ]
  },
  {
   "cell_type": "code",
   "execution_count": 97,
   "metadata": {
    "colab": {
     "base_uri": "https://localhost:8080/",
     "height": 87
    },
    "id": "jvwefdFDEYvz",
    "outputId": "598cbee9-7a8c-46bf-8eec-8de7f8aad2cc"
   },
   "outputs": [
    {
     "name": "stdout",
     "output_type": "stream",
     "text": [
      "Accuracy: 0.97 (+/- 0.02) [SVC]\n",
      "Accuracy: 0.95 (+/- 0.03) [GaussianNB]\n",
      "Accuracy: 0.97 (+/- 0.02) [RandomForestClassifier]\n",
      "Accuracy: 0.97 (+/- 0.02) [VotingClassifier]\n"
     ]
    }
   ],
   "source": [
    "for model in (model1, model2, model3, vote_model):\n",
    "    model_name = str(type(model)).split('.')[-1][:-2]\n",
    "    scores = cross_val_score(model, iris.data, iris.target, cv=5)\n",
    "    print('Accuracy: %0.2f (+/- %0.2f) [%s]' % (scores.mean(), scores.std(), model_name))"
   ]
  },
  {
   "cell_type": "code",
   "execution_count": 98,
   "metadata": {
    "id": "YNhj3WNzFCAb"
   },
   "outputs": [],
   "source": [
    "model1 = SVC(probability=True)\n",
    "model2 = GaussianNB()\n",
    "model3 = RandomForestClassifier()\n",
    "vote_model = VotingClassifier(\n",
    "    estimators = [('svc', model1), ('naive', model2), ('forest', model3)],\n",
    "    voting = 'soft',\n",
    "    weights=[2, 1, 2]\n",
    ")"
   ]
  },
  {
   "cell_type": "code",
   "execution_count": 99,
   "metadata": {
    "colab": {
     "base_uri": "https://localhost:8080/",
     "height": 87
    },
    "id": "g89TYHdZOKL8",
    "outputId": "5e42f758-7c6c-4f07-d412-cfa58dbb74ae"
   },
   "outputs": [
    {
     "name": "stdout",
     "output_type": "stream",
     "text": [
      "Accuracy: 0.97 (+/- 0.02) [SVC]\n",
      "Accuracy: 0.95 (+/- 0.03) [GaussianNB]\n",
      "Accuracy: 0.95 (+/- 0.03) [RandomForestClassifier]\n",
      "Accuracy: 0.96 (+/- 0.02) [VotingClassifier]\n"
     ]
    }
   ],
   "source": [
    "for model in (model1, model2, model3, vote_model):\n",
    "    model_name = str(type(model)).split('.')[-1][:-2]\n",
    "    scores = cross_val_score(model, iris.data, iris.target, cv=5)\n",
    "    print('Accuracy: %0.2f (+/- %0.2f) [%s]' % (scores.mean(), scores.std(), model_name))"
   ]
  },
  {
   "cell_type": "markdown",
   "metadata": {
    "id": "cjNwB2zaPItX"
   },
   "source": [
    "### 결정 경계 시각화"
   ]
  },
  {
   "cell_type": "code",
   "execution_count": 100,
   "metadata": {
    "id": "nn8lgvWYPner"
   },
   "outputs": [],
   "source": [
    "from sklearn.tree import DecisionTreeClassifier\n",
    "from sklearn.neighbors import KNeighborsClassifier\n",
    "from sklearn.ensemble import VotingClassifier\n",
    "from itertools import product"
   ]
  },
  {
   "cell_type": "code",
   "execution_count": 101,
   "metadata": {
    "id": "SB_Bx4hKPs9-"
   },
   "outputs": [],
   "source": [
    "X = iris.data[:, [0, 2]]\n",
    "y = iris.target"
   ]
  },
  {
   "cell_type": "code",
   "execution_count": 102,
   "metadata": {
    "id": "FEpQ0g-0Pwn8"
   },
   "outputs": [],
   "source": [
    "model1 = DecisionTreeClassifier(max_depth=4)\n",
    "model2 = KNeighborsClassifier(n_neighbors=7)\n",
    "model3 = SVC(gamma=.1, kernel='rbf', probability=True)\n",
    "vote_model = VotingClassifier(estimators=[('dt', model1), ('knn', model2), ('svc', model3)],\n",
    "                             voting='soft', weights=[2, 1, 2])\n",
    "model1 = model1.fit(X, y)\n",
    "model2 = model2.fit(X, y)\n",
    "model3 = model3.fit(X, y)\n",
    "vote_model = vote_model.fit(X, y)"
   ]
  },
  {
   "cell_type": "code",
   "execution_count": 104,
   "metadata": {
    "id": "z1o_9XWKQthC"
   },
   "outputs": [],
   "source": [
    "x_min, x_max = X[:, 0].min()-1, X[:, 0].max()+1\n",
    "y_min, y_max = X[:, 1].min()-1, X[:, 1].max()+1\n",
    "xx, yy = np.meshgrid(np.arange(x_min, x_max, 0.1),\n",
    "                     np.arange(y_min, y_max, 0.1))"
   ]
  },
  {
   "cell_type": "code",
   "execution_count": 105,
   "metadata": {
    "colab": {
     "base_uri": "https://localhost:8080/",
     "height": 494
    },
    "id": "umDuzyVDOML5",
    "outputId": "3ddb2381-8133-4a31-d19a-b2269491646a"
   },
   "outputs": [
    {
     "data": {
      "image/png": "[encoded data removed]",
      "text/plain": [
       "<Figure size 864x576 with 4 Axes>"
      ]
     },
     "metadata": {},
     "output_type": "display_data"
    }
   ],
   "source": [
    "f, axarr = plt.subplots(2, 2, sharex='col', sharey='row', figsize=(12, 8))\n",
    "\n",
    "for idx, model, tt in zip(product([0, 1], [0, 1]),\n",
    "                                 [model1, model2, model3, vote_model],\n",
    "                                 ['Decision Tree (depth=4)', 'KNN (k=7)',\n",
    "                                 'Kernel SVM', 'Soft Voting']):\n",
    "    Z = model.predict(np.c_[xx.ravel(), yy.ravel()])\n",
    "    Z = Z.reshape(xx.shape)\n",
    "    \n",
    "    axarr[idx[0], idx[1]].contourf(xx, yy, Z, alpha=0.4)\n",
    "    axarr[idx[0], idx[1]].scatter(X[:, 0], X[:, 1], c=y, s=20, edgecolors='k')\n",
    "    axarr[idx[0], idx[1]].set_title(tt)\n",
    "    \n",
    "plt.show()"
   ]
  },
  {
   "cell_type": "markdown",
   "metadata": {
    "id": "0m5WCAyLSOdK"
   },
   "source": [
    "## 투표 기반 회귀 (Voting Regressor)\n",
    "\n",
    "* 서로 다른 모델의 예측 값의 평균을 사용"
   ]
  },
  {
   "cell_type": "code",
   "execution_count": 111,
   "metadata": {
    "id": "uMQxrXDAPNuf"
   },
   "outputs": [],
   "source": [
    "from sklearn.linear_model import LinearRegression\n",
    "from sklearn.ensemble import GradientBoostingRegressor\n",
    "from sklearn.ensemble import RandomForestRegressor\n",
    "from sklearn.ensemble import VotingRegressor"
   ]
  },
  {
   "cell_type": "code",
   "execution_count": 114,
   "metadata": {
    "id": "eKyebVgqUHdN"
   },
   "outputs": [],
   "source": [
    "model1 = LinearRegression()\n",
    "model2 = GradientBoostingRegressor()\n",
    "model3 = RandomForestRegressor()\n",
    "vote_model = VotingRegressor(\n",
    "    estimators=[('linear', model1), ('gbr', model2), ('rfr', model3)],\n",
    "    weights=[1, 1, 1]\n",
    ")"
   ]
  },
  {
   "cell_type": "code",
   "execution_count": 115,
   "metadata": {
    "colab": {
     "base_uri": "https://localhost:8080/",
     "height": 87
    },
    "id": "aYMKZc96UGoA",
    "outputId": "2157352f-32f6-407d-f68b-ae7c0733aaf8"
   },
   "outputs": [
    {
     "name": "stdout",
     "output_type": "stream",
     "text": [
      "R2: 0.35 (+/- 0.38) [[\"<class 'sklearn\"]]\n",
      "R2: 0.67 (+/- 0.16) [[\"<class 'sklearn\"]]\n",
      "R2: 0.63 (+/- 0.20) [[\"<class 'sklearn\"]]\n",
      "R2: 0.66 (+/- 0.20) [[\"<class 'sklearn\"]]\n"
     ]
    }
   ],
   "source": [
    "for model in (model1, model2, model3 , vote_model):\n",
    "    model_name = str(type(model)).split('.')[:-1][:-2]\n",
    "    scores = cross_val_score(model, boston.data, boston.target, cv=5)\n",
    "    print('R2: %0.2f (+/- %0.2f) [%s]' % (scores.mean(), scores.std(), model_name))"
   ]
  },
  {
   "cell_type": "markdown",
   "metadata": {
    "id": "ArvS3YLlMgvM"
   },
   "source": [
    "### 회귀식 시각화"
   ]
  },
  {
   "cell_type": "code",
   "execution_count": 116,
   "metadata": {
    "id": "NDby8qq_NpI6"
   },
   "outputs": [],
   "source": [
    "X = boston.data[:, 0].reshape(-1, 1)\n",
    "y = boston.target"
   ]
  },
  {
   "cell_type": "code",
   "execution_count": 117,
   "metadata": {
    "id": "afUEA95cMfik"
   },
   "outputs": [],
   "source": [
    "model1 = LinearRegression()\n",
    "model2 = GradientBoostingRegressor()\n",
    "model3 = RandomForestRegressor()\n",
    "vote_model = VotingRegressor(\n",
    "    estimators=[('linear', model1), ('gbr', model2), ('rfr', model3)],\n",
    "    weights=[1, 1, 1]\n",
    ")\n",
    "\n",
    "model1 = model1.fit(X, y)\n",
    "model2 = model2.fit(X, y)\n",
    "model3 = model3.fit(X, y)\n",
    "vote_model = vote_model.fit(X, y)"
   ]
  },
  {
   "cell_type": "code",
   "execution_count": 118,
   "metadata": {
    "id": "jsy4R-0PMwER"
   },
   "outputs": [],
   "source": [
    "x_min, x_max = X.min()-1, X.max()+1\n",
    "xx = np.arange(x_min-1, x_max+1, 0.1)"
   ]
  },
  {
   "cell_type": "code",
   "execution_count": 119,
   "metadata": {
    "colab": {
     "base_uri": "https://localhost:8080/",
     "height": 494
    },
    "id": "TjgHFKa8M8O9",
    "outputId": "bbe0ce63-8ca9-47d9-cf2e-aa942d5ca2a6"
   },
   "outputs": [
    {
     "data": {
      "image/png": "[encoded data removed]",
      "text/plain": [
       "<Figure size 864x576 with 4 Axes>"
      ]
     },
     "metadata": {},
     "output_type": "display_data"
    }
   ],
   "source": [
    "f, axarr = plt.subplots(2, 2, sharex='col', sharey='row', figsize=(12, 8))\n",
    "\n",
    "for idx, model, tt in zip(product([0, 1], [0, 1]),\n",
    "                         [model1, model2, model3, vote_model],\n",
    "                         ['Linear Regression', 'Gradient Boosting', 'Random Forest', 'Voting']):\n",
    "    Z = model.predict(xx.reshape(-1, 1))\n",
    "    \n",
    "    axarr[idx[0], idx[1]].plot(xx, Z, c='r')\n",
    "    axarr[idx[0], idx[1]].scatter(X, y, s=20, edgecolors='k')\n",
    "    axarr[idx[0], idx[1]].set_title(tt)\n",
    "    \n",
    "plt.show()"
   ]
  },
  {
   "cell_type": "markdown",
   "metadata": {
    "id": "kWWPpi2hVaGe"
   },
   "source": [
    "## 스택 일반화 (Stacked Generalization)\n",
    "\n",
    "* 각 모델의 예측 값을 최종 모델의 입력으로 사용\n",
    "* 모델의 편향을 줄이는데 효과적"
   ]
  },
  {
   "cell_type": "markdown",
   "metadata": {
    "id": "EfJBCBFSXaa3"
   },
   "source": [
    "### 스택 회귀"
   ]
  },
  {
   "cell_type": "code",
   "execution_count": 130,
   "metadata": {
    "id": "Ai4cpbSpUanA"
   },
   "outputs": [],
   "source": [
    "from sklearn.linear_model import Ridge, Lasso\n",
    "from sklearn.svm import SVR\n",
    "from sklearn.ensemble import GradientBoostingRegressor\n",
    "from sklearn.ensemble import StackingRegressor"
   ]
  },
  {
   "cell_type": "code",
   "execution_count": 131,
   "metadata": {
    "id": "22wwT8jDXf6D"
   },
   "outputs": [],
   "source": [
    "estimators = [('ridge', Ridge()),\n",
    "             ('lasso', Lasso()),\n",
    "             ('svr', SVR())]"
   ]
  },
  {
   "cell_type": "code",
   "execution_count": 132,
   "metadata": {
    "id": "GcWHiyQ7YAsh"
   },
   "outputs": [],
   "source": [
    "reg = make_pipeline(\n",
    "    StandardScaler(),\n",
    "    StackingRegressor(\n",
    "        estimators=estimators,\n",
    "        final_estimator=GradientBoostingRegressor()\n",
    "    )\n",
    ")"
   ]
  },
  {
   "cell_type": "code",
   "execution_count": 137,
   "metadata": {
    "colab": {
     "base_uri": "https://localhost:8080/",
     "height": 69
    },
    "id": "IJskro0HYKOe",
    "outputId": "37c0bccf-8326-464b-d9ef-5e39b8575fbf"
   },
   "outputs": [
    {
     "name": "stdout",
     "output_type": "stream",
     "text": [
      "avg fit time: 0.10212187767028809 (+/- 0.003909042676661816)\n",
      "avg score time: 0.004188680648803711 (+/- 0.00039892202354976095)\n",
      "avg test score: 0.3291483240782266 (+/- 0.32935020932314446)\n"
     ]
    }
   ],
   "source": [
    "cross_val = cross_validate(\n",
    "    estimator=reg,\n",
    "    X=boston.data, y=boston.target,\n",
    "    cv=5\n",
    ")\n",
    "\n",
    "print('avg fit time: {} (+/- {})'.format(cross_val['fit_time'].mean(), cross_val['fit_time'].std()))\n",
    "print('avg score time: {} (+/- {})'.format(cross_val['score_time'].mean(), cross_val['score_time'].std()))\n",
    "print('avg test score: {} (+/- {})'.format(cross_val['test_score'].mean(), cross_val['test_score'].std()))"
   ]
  },
  {
   "cell_type": "markdown",
   "metadata": {
    "id": "Is4akp2ePaax"
   },
   "source": [
    "#### 회귀식 시각화"
   ]
  },
  {
   "cell_type": "code",
   "execution_count": 134,
   "metadata": {
    "id": "vzcOBF80Pd1q"
   },
   "outputs": [],
   "source": [
    "X = boston.data[:, 0].reshape(-1, 1)\n",
    "y = boston.target"
   ]
  },
  {
   "cell_type": "code",
   "execution_count": 135,
   "metadata": {
    "id": "-EjdXk9-Phm-"
   },
   "outputs": [],
   "source": [
    "model1 = Ridge()\n",
    "model2 = Lasso()\n",
    "model3 = SVR()\n",
    "reg = make_pipeline(\n",
    "    StandardScaler(),\n",
    "    StackingRegressor(\n",
    "        estimators=estimators,\n",
    "        final_estimator=GradientBoostingRegressor()\n",
    "    )\n",
    ")\n",
    "\n",
    "model1 = model1.fit(X, y)\n",
    "model2 = model2.fit(X, y)\n",
    "model3 = model3.fit(X, y)\n",
    "reg = reg.fit(X, y)"
   ]
  },
  {
   "cell_type": "code",
   "execution_count": 136,
   "metadata": {
    "colab": {
     "base_uri": "https://localhost:8080/",
     "height": 494
    },
    "id": "DrC6uxPsP0Ga",
    "outputId": "fef9ffac-7f4b-41ef-f77b-15074c550802"
   },
   "outputs": [
    {
     "data": {
      "image/png": "[encoded data removed]",
      "text/plain": [
       "<Figure size 864x576 with 4 Axes>"
      ]
     },
     "metadata": {},
     "output_type": "display_data"
    }
   ],
   "source": [
    "x_min, x_max = X.min()-1, X.max()+1\n",
    "xx = np.arange(x_min-1, x_max+1, 0.1)\n",
    "\n",
    "f, axarr = plt.subplots(2, 2, sharex='col', sharey='row', figsize=(12, 8))\n",
    "\n",
    "for idx, model, tt in zip(product([0, 1], [0, 1]),\n",
    "                         [model1, model2, model3, vote_model],\n",
    "                         ['Ridge', 'Lasso', 'SVR', 'Stack']):\n",
    "    Z = model.predict(xx.reshape(-1, 1))\n",
    "    \n",
    "    axarr[idx[0], idx[1]].plot(xx, Z, c='r')\n",
    "    axarr[idx[0], idx[1]].scatter(X, y, s=20, edgecolors='k')\n",
    "    axarr[idx[0], idx[1]].set_title(tt)\n",
    "    \n",
    "plt.show()"
   ]
  },
  {
   "cell_type": "markdown",
   "metadata": {
    "id": "qcDf7iN1ZybO"
   },
   "source": [
    "### 스택 분류"
   ]
  },
  {
   "cell_type": "code",
   "execution_count": 138,
   "metadata": {
    "id": "_5HNrFRtZxqZ"
   },
   "outputs": [],
   "source": [
    "from sklearn.linear_model import LogisticRegression\n",
    "from sklearn.svm import SVC\n",
    "from sklearn.naive_bayes import GaussianNB\n",
    "from sklearn.ensemble import RandomForestClassifier\n",
    "from sklearn.ensemble import StackingClassifier"
   ]
  },
  {
   "cell_type": "code",
   "execution_count": 142,
   "metadata": {
    "id": "IZn3h6vDaJ8i"
   },
   "outputs": [],
   "source": [
    "estimators = [('logistic', LogisticRegression(max_iter=10000)),\n",
    "              ('svc', SVC()),\n",
    "              ('naive', GaussianNB())]"
   ]
  },
  {
   "cell_type": "code",
   "execution_count": 143,
   "metadata": {
    "id": "KTFUC1IsaarE"
   },
   "outputs": [],
   "source": [
    "clf = StackingClassifier(\n",
    "    estimators=estimators,\n",
    "    final_estimator=RandomForestClassifier()\n",
    ")"
   ]
  },
  {
   "cell_type": "code",
   "execution_count": 144,
   "metadata": {
    "colab": {
     "base_uri": "https://localhost:8080/",
     "height": 69
    },
    "id": "oYhRPbcWanfY",
    "outputId": "01e00138-43c9-4aa5-fc81-d2746f1d8f97"
   },
   "outputs": [
    {
     "name": "stdout",
     "output_type": "stream",
     "text": [
      "avg fit time: 0.2300022602081299 (+/- 0.008061709121993893)\n",
      "avg score time: 0.007781076431274414 (+/- 0.0003981042984222502)\n",
      "avg test score: 0.9733333333333334 (+/- 0.02494438257849294)\n"
     ]
    }
   ],
   "source": [
    "cross_val = cross_validate(\n",
    "    estimator=clf,\n",
    "    X=iris.data, y=iris.target,\n",
    "    cv=5\n",
    ")\n",
    "\n",
    "print('avg fit time: {} (+/- {})'.format(cross_val['fit_time'].mean(), cross_val['fit_time'].std()))\n",
    "print('avg score time: {} (+/- {})'.format(cross_val['score_time'].mean(), cross_val['score_time'].std()))\n",
    "print('avg test score: {} (+/- {})'.format(cross_val['test_score'].mean(), cross_val['test_score'].std()))"
   ]
  },
  {
   "cell_type": "markdown",
   "metadata": {
    "id": "m2NyQnIqQxg9"
   },
   "source": [
    "#### 결정 경계 시각화"
   ]
  },
  {
   "cell_type": "code",
   "execution_count": 146,
   "metadata": {
    "id": "SB_Bx4hKPs9-"
   },
   "outputs": [],
   "source": [
    "X = iris.data[:, [0, 2]]\n",
    "y = iris.target"
   ]
  },
  {
   "cell_type": "code",
   "execution_count": 147,
   "metadata": {
    "id": "FEpQ0g-0Pwn8"
   },
   "outputs": [],
   "source": [
    "model1 = LogisticRegression(max_iter=10000)\n",
    "model2 = SVC()\n",
    "model3 = GaussianNB()\n",
    "stack = StackingClassifier(\n",
    "    estimators=estimators,\n",
    "    final_estimator=RandomForestClassifier()\n",
    ")\n",
    "model1 = model1.fit(X, y)\n",
    "model2 = model2.fit(X, y)\n",
    "model3 = model3.fit(X, y)\n",
    "stack = stack.fit(X, y)"
   ]
  },
  {
   "cell_type": "code",
   "execution_count": 148,
   "metadata": {
    "id": "z1o_9XWKQthC"
   },
   "outputs": [],
   "source": [
    "x_min, x_max = X[:, 0].min()-1, X[:, 0].max()+1\n",
    "y_min, y_max = X[:, 1].min()-1, X[:, 1].max()+1\n",
    "xx, yy = np.meshgrid(np.arange(x_min, x_max, 0.1),\n",
    "                     np.arange(y_min, y_max, 0.1))"
   ]
  },
  {
   "cell_type": "code",
   "execution_count": 149,
   "metadata": {
    "colab": {
     "base_uri": "https://localhost:8080/",
     "height": 494
    },
    "id": "umDuzyVDOML5",
    "outputId": "3ddb2381-8133-4a31-d19a-b2269491646a"
   },
   "outputs": [
    {
     "data": {
      "image/png": "[encoded data removed]",
      "text/plain": [
       "<Figure size 864x576 with 4 Axes>"
      ]
     },
     "metadata": {},
     "output_type": "display_data"
    }
   ],
   "source": [
    "f, axarr = plt.subplots(2, 2, sharex='col', sharey='row', figsize=(12, 8))\n",
    "\n",
    "for idx, model, tt in zip(product([0, 1], [0, 1]),\n",
    "                                 [model1, model2, model3, stack],\n",
    "                                 ['Logistic Regression', 'SVC',\n",
    "                                 'GaussianNB', 'Stack']):\n",
    "    Z = model.predict(np.c_[xx.ravel(), yy.ravel()])\n",
    "    Z = Z.reshape(xx.shape)\n",
    "    \n",
    "    axarr[idx[0], idx[1]].contourf(xx, yy, Z, alpha=0.4)\n",
    "    axarr[idx[0], idx[1]].scatter(X[:, 0], X[:, 1], c=y, s=20, edgecolors='k')\n",
    "    axarr[idx[0], idx[1]].set_title(tt)\n",
    "    \n",
    "plt.show()"
   ]
  }
 ],
 "metadata": {
  "colab": {
   "collapsed_sections": [],
   "name": "_9 앙상블(Ensemble).ipynb",
   "provenance": []
  },
  "kernelspec": {
   "display_name": "Python 3",
   "language": "python",
   "name": "python3"
  },
  "language_info": {
   "codemirror_mode": {
    "name": "ipython",
    "version": 3
   },
   "file_extension": ".py",
   "mimetype": "text/x-python",
   "name": "python",
   "nbconvert_exporter": "python",
   "pygments_lexer": "ipython3",
   "version": "3.8.8"
  }
 },
 "nbformat": 4,
 "nbformat_minor": 1
}
