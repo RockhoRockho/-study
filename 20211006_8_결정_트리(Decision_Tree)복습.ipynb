{
 "cells": [
  {
   "cell_type": "markdown",
   "metadata": {
    "id": "zn3AJtaOnrN5"
   },
   "source": [
    "# 결정 트리(Decision Tree)\n",
    "\n",
    "* 분류와 회귀에 사용되는 지도 학습 방법\n",
    "* 데이터 특성으로 부터 추론된 결정 규칙을 통해 값을 예측\n",
    "* **if-then-else** 결정 규칙을 통해 데이터 학습\n",
    "* 트리의 깊이가 깊을 수록 복잡한 모델\n",
    "* 결정 트리 장점\n",
    "  * 이해와 해석이 쉽다\n",
    "  * 시각화가 용이하다\n",
    "  * 많은 데이터 전처리가 필요하지 않다\n",
    "  * 수치형과 범주형 데이터 모두를 다룰 수 있다\n",
    "  * ..."
   ]
  },
  {
   "cell_type": "code",
   "execution_count": 1,
   "metadata": {
    "id": "89FZ4_7qeJIe"
   },
   "outputs": [],
   "source": [
    "import os\n",
    "os.environ[\"PATH\"]+=os.pathsep+'C:/Program Files (x86)/Graphviz2.38/bin/'"
   ]
  },
  {
   "cell_type": "code",
   "execution_count": 2,
   "metadata": {
    "id": "ciPFp2NHqfPM"
   },
   "outputs": [],
   "source": [
    "import numpy as np\n",
    "import pandas as pd\n",
    "import graphviz\n",
    "import multiprocessing\n",
    "import matplotlib.pyplot as plt\n",
    "plt.style.use(['seaborn-whitegrid'])"
   ]
  },
  {
   "cell_type": "code",
   "execution_count": 3,
   "metadata": {},
   "outputs": [],
   "source": [
    "from sklearn.datasets import load_iris, load_wine, load_breast_cancer\n",
    "from sklearn.datasets import load_boston, load_diabetes\n",
    "from sklearn import tree\n",
    "from sklearn.tree import DecisionTreeClassifier, DecisionTreeRegressor\n",
    "from sklearn.preprocessing import StandardScaler\n",
    "from sklearn.model_selection import cross_val_score\n",
    "from sklearn.pipeline import make_pipeline"
   ]
  },
  {
   "cell_type": "markdown",
   "metadata": {
    "id": "vDPbkuSzcWH9"
   },
   "source": [
    "## 분류를 위한 데이터"
   ]
  },
  {
   "cell_type": "markdown",
   "metadata": {
    "id": "q_sRgXQGceAj"
   },
   "source": [
    "### 붓꽃 데이터"
   ]
  },
  {
   "cell_type": "code",
   "execution_count": 4,
   "metadata": {
    "id": "760ImD9fc0YJ"
   },
   "outputs": [],
   "source": [
    "iris = load_iris()"
   ]
  },
  {
   "cell_type": "code",
   "execution_count": 5,
   "metadata": {
    "id": "xwJvYvx2d0S_"
   },
   "outputs": [
    {
     "data": {
      "text/html": [
       "<div>\n",
       "<style scoped>\n",
       "    .dataframe tbody tr th:only-of-type {\n",
       "        vertical-align: middle;\n",
       "    }\n",
       "\n",
       "    .dataframe tbody tr th {\n",
       "        vertical-align: top;\n",
       "    }\n",
       "\n",
       "    .dataframe thead th {\n",
       "        text-align: right;\n",
       "    }\n",
       "</style>\n",
       "<table border=\"1\" class=\"dataframe\">\n",
       "  <thead>\n",
       "    <tr style=\"text-align: right;\">\n",
       "      <th></th>\n",
       "      <th>sepal length (cm)</th>\n",
       "      <th>sepal width (cm)</th>\n",
       "      <th>petal length (cm)</th>\n",
       "      <th>petal width (cm)</th>\n",
       "      <th>target</th>\n",
       "    </tr>\n",
       "  </thead>\n",
       "  <tbody>\n",
       "    <tr>\n",
       "      <th>0</th>\n",
       "      <td>5.1</td>\n",
       "      <td>3.5</td>\n",
       "      <td>1.4</td>\n",
       "      <td>0.2</td>\n",
       "      <td>0</td>\n",
       "    </tr>\n",
       "    <tr>\n",
       "      <th>1</th>\n",
       "      <td>4.9</td>\n",
       "      <td>3.0</td>\n",
       "      <td>1.4</td>\n",
       "      <td>0.2</td>\n",
       "      <td>0</td>\n",
       "    </tr>\n",
       "    <tr>\n",
       "      <th>2</th>\n",
       "      <td>4.7</td>\n",
       "      <td>3.2</td>\n",
       "      <td>1.3</td>\n",
       "      <td>0.2</td>\n",
       "      <td>0</td>\n",
       "    </tr>\n",
       "    <tr>\n",
       "      <th>3</th>\n",
       "      <td>4.6</td>\n",
       "      <td>3.1</td>\n",
       "      <td>1.5</td>\n",
       "      <td>0.2</td>\n",
       "      <td>0</td>\n",
       "    </tr>\n",
       "    <tr>\n",
       "      <th>4</th>\n",
       "      <td>5.0</td>\n",
       "      <td>3.6</td>\n",
       "      <td>1.4</td>\n",
       "      <td>0.2</td>\n",
       "      <td>0</td>\n",
       "    </tr>\n",
       "    <tr>\n",
       "      <th>...</th>\n",
       "      <td>...</td>\n",
       "      <td>...</td>\n",
       "      <td>...</td>\n",
       "      <td>...</td>\n",
       "      <td>...</td>\n",
       "    </tr>\n",
       "    <tr>\n",
       "      <th>145</th>\n",
       "      <td>6.7</td>\n",
       "      <td>3.0</td>\n",
       "      <td>5.2</td>\n",
       "      <td>2.3</td>\n",
       "      <td>2</td>\n",
       "    </tr>\n",
       "    <tr>\n",
       "      <th>146</th>\n",
       "      <td>6.3</td>\n",
       "      <td>2.5</td>\n",
       "      <td>5.0</td>\n",
       "      <td>1.9</td>\n",
       "      <td>2</td>\n",
       "    </tr>\n",
       "    <tr>\n",
       "      <th>147</th>\n",
       "      <td>6.5</td>\n",
       "      <td>3.0</td>\n",
       "      <td>5.2</td>\n",
       "      <td>2.0</td>\n",
       "      <td>2</td>\n",
       "    </tr>\n",
       "    <tr>\n",
       "      <th>148</th>\n",
       "      <td>6.2</td>\n",
       "      <td>3.4</td>\n",
       "      <td>5.4</td>\n",
       "      <td>2.3</td>\n",
       "      <td>2</td>\n",
       "    </tr>\n",
       "    <tr>\n",
       "      <th>149</th>\n",
       "      <td>5.9</td>\n",
       "      <td>3.0</td>\n",
       "      <td>5.1</td>\n",
       "      <td>1.8</td>\n",
       "      <td>2</td>\n",
       "    </tr>\n",
       "  </tbody>\n",
       "</table>\n",
       "<p>150 rows × 5 columns</p>\n",
       "</div>"
      ],
      "text/plain": [
       "     sepal length (cm)  sepal width (cm)  petal length (cm)  petal width (cm)  \\\n",
       "0                  5.1               3.5                1.4               0.2   \n",
       "1                  4.9               3.0                1.4               0.2   \n",
       "2                  4.7               3.2                1.3               0.2   \n",
       "3                  4.6               3.1                1.5               0.2   \n",
       "4                  5.0               3.6                1.4               0.2   \n",
       "..                 ...               ...                ...               ...   \n",
       "145                6.7               3.0                5.2               2.3   \n",
       "146                6.3               2.5                5.0               1.9   \n",
       "147                6.5               3.0                5.2               2.0   \n",
       "148                6.2               3.4                5.4               2.3   \n",
       "149                5.9               3.0                5.1               1.8   \n",
       "\n",
       "     target  \n",
       "0         0  \n",
       "1         0  \n",
       "2         0  \n",
       "3         0  \n",
       "4         0  \n",
       "..      ...  \n",
       "145       2  \n",
       "146       2  \n",
       "147       2  \n",
       "148       2  \n",
       "149       2  \n",
       "\n",
       "[150 rows x 5 columns]"
      ]
     },
     "execution_count": 5,
     "metadata": {},
     "output_type": "execute_result"
    }
   ],
   "source": [
    "iris_df = pd.DataFrame(data=iris.data, columns=iris.feature_names)\n",
    "iris_df['target'] = iris.target\n",
    "iris_df"
   ]
  },
  {
   "cell_type": "markdown",
   "metadata": {
    "id": "nOVqeGk5rxPJ"
   },
   "source": [
    "### 와인 데이터"
   ]
  },
  {
   "cell_type": "code",
   "execution_count": 6,
   "metadata": {
    "id": "Uwb4jnXmr0x9"
   },
   "outputs": [],
   "source": [
    "wine = load_wine()"
   ]
  },
  {
   "cell_type": "code",
   "execution_count": 7,
   "metadata": {
    "id": "sE3ZWt-Kr3dH"
   },
   "outputs": [
    {
     "data": {
      "text/html": [
       "<div>\n",
       "<style scoped>\n",
       "    .dataframe tbody tr th:only-of-type {\n",
       "        vertical-align: middle;\n",
       "    }\n",
       "\n",
       "    .dataframe tbody tr th {\n",
       "        vertical-align: top;\n",
       "    }\n",
       "\n",
       "    .dataframe thead th {\n",
       "        text-align: right;\n",
       "    }\n",
       "</style>\n",
       "<table border=\"1\" class=\"dataframe\">\n",
       "  <thead>\n",
       "    <tr style=\"text-align: right;\">\n",
       "      <th></th>\n",
       "      <th>alcohol</th>\n",
       "      <th>malic_acid</th>\n",
       "      <th>ash</th>\n",
       "      <th>alcalinity_of_ash</th>\n",
       "      <th>magnesium</th>\n",
       "      <th>total_phenols</th>\n",
       "      <th>flavanoids</th>\n",
       "      <th>nonflavanoid_phenols</th>\n",
       "      <th>proanthocyanins</th>\n",
       "      <th>color_intensity</th>\n",
       "      <th>hue</th>\n",
       "      <th>od280/od315_of_diluted_wines</th>\n",
       "      <th>proline</th>\n",
       "      <th>target</th>\n",
       "    </tr>\n",
       "  </thead>\n",
       "  <tbody>\n",
       "    <tr>\n",
       "      <th>0</th>\n",
       "      <td>14.23</td>\n",
       "      <td>1.71</td>\n",
       "      <td>2.43</td>\n",
       "      <td>15.6</td>\n",
       "      <td>127.0</td>\n",
       "      <td>2.80</td>\n",
       "      <td>3.06</td>\n",
       "      <td>0.28</td>\n",
       "      <td>2.29</td>\n",
       "      <td>5.64</td>\n",
       "      <td>1.04</td>\n",
       "      <td>3.92</td>\n",
       "      <td>1065.0</td>\n",
       "      <td>0</td>\n",
       "    </tr>\n",
       "    <tr>\n",
       "      <th>1</th>\n",
       "      <td>13.20</td>\n",
       "      <td>1.78</td>\n",
       "      <td>2.14</td>\n",
       "      <td>11.2</td>\n",
       "      <td>100.0</td>\n",
       "      <td>2.65</td>\n",
       "      <td>2.76</td>\n",
       "      <td>0.26</td>\n",
       "      <td>1.28</td>\n",
       "      <td>4.38</td>\n",
       "      <td>1.05</td>\n",
       "      <td>3.40</td>\n",
       "      <td>1050.0</td>\n",
       "      <td>0</td>\n",
       "    </tr>\n",
       "    <tr>\n",
       "      <th>2</th>\n",
       "      <td>13.16</td>\n",
       "      <td>2.36</td>\n",
       "      <td>2.67</td>\n",
       "      <td>18.6</td>\n",
       "      <td>101.0</td>\n",
       "      <td>2.80</td>\n",
       "      <td>3.24</td>\n",
       "      <td>0.30</td>\n",
       "      <td>2.81</td>\n",
       "      <td>5.68</td>\n",
       "      <td>1.03</td>\n",
       "      <td>3.17</td>\n",
       "      <td>1185.0</td>\n",
       "      <td>0</td>\n",
       "    </tr>\n",
       "    <tr>\n",
       "      <th>3</th>\n",
       "      <td>14.37</td>\n",
       "      <td>1.95</td>\n",
       "      <td>2.50</td>\n",
       "      <td>16.8</td>\n",
       "      <td>113.0</td>\n",
       "      <td>3.85</td>\n",
       "      <td>3.49</td>\n",
       "      <td>0.24</td>\n",
       "      <td>2.18</td>\n",
       "      <td>7.80</td>\n",
       "      <td>0.86</td>\n",
       "      <td>3.45</td>\n",
       "      <td>1480.0</td>\n",
       "      <td>0</td>\n",
       "    </tr>\n",
       "    <tr>\n",
       "      <th>4</th>\n",
       "      <td>13.24</td>\n",
       "      <td>2.59</td>\n",
       "      <td>2.87</td>\n",
       "      <td>21.0</td>\n",
       "      <td>118.0</td>\n",
       "      <td>2.80</td>\n",
       "      <td>2.69</td>\n",
       "      <td>0.39</td>\n",
       "      <td>1.82</td>\n",
       "      <td>4.32</td>\n",
       "      <td>1.04</td>\n",
       "      <td>2.93</td>\n",
       "      <td>735.0</td>\n",
       "      <td>0</td>\n",
       "    </tr>\n",
       "    <tr>\n",
       "      <th>...</th>\n",
       "      <td>...</td>\n",
       "      <td>...</td>\n",
       "      <td>...</td>\n",
       "      <td>...</td>\n",
       "      <td>...</td>\n",
       "      <td>...</td>\n",
       "      <td>...</td>\n",
       "      <td>...</td>\n",
       "      <td>...</td>\n",
       "      <td>...</td>\n",
       "      <td>...</td>\n",
       "      <td>...</td>\n",
       "      <td>...</td>\n",
       "      <td>...</td>\n",
       "    </tr>\n",
       "    <tr>\n",
       "      <th>173</th>\n",
       "      <td>13.71</td>\n",
       "      <td>5.65</td>\n",
       "      <td>2.45</td>\n",
       "      <td>20.5</td>\n",
       "      <td>95.0</td>\n",
       "      <td>1.68</td>\n",
       "      <td>0.61</td>\n",
       "      <td>0.52</td>\n",
       "      <td>1.06</td>\n",
       "      <td>7.70</td>\n",
       "      <td>0.64</td>\n",
       "      <td>1.74</td>\n",
       "      <td>740.0</td>\n",
       "      <td>2</td>\n",
       "    </tr>\n",
       "    <tr>\n",
       "      <th>174</th>\n",
       "      <td>13.40</td>\n",
       "      <td>3.91</td>\n",
       "      <td>2.48</td>\n",
       "      <td>23.0</td>\n",
       "      <td>102.0</td>\n",
       "      <td>1.80</td>\n",
       "      <td>0.75</td>\n",
       "      <td>0.43</td>\n",
       "      <td>1.41</td>\n",
       "      <td>7.30</td>\n",
       "      <td>0.70</td>\n",
       "      <td>1.56</td>\n",
       "      <td>750.0</td>\n",
       "      <td>2</td>\n",
       "    </tr>\n",
       "    <tr>\n",
       "      <th>175</th>\n",
       "      <td>13.27</td>\n",
       "      <td>4.28</td>\n",
       "      <td>2.26</td>\n",
       "      <td>20.0</td>\n",
       "      <td>120.0</td>\n",
       "      <td>1.59</td>\n",
       "      <td>0.69</td>\n",
       "      <td>0.43</td>\n",
       "      <td>1.35</td>\n",
       "      <td>10.20</td>\n",
       "      <td>0.59</td>\n",
       "      <td>1.56</td>\n",
       "      <td>835.0</td>\n",
       "      <td>2</td>\n",
       "    </tr>\n",
       "    <tr>\n",
       "      <th>176</th>\n",
       "      <td>13.17</td>\n",
       "      <td>2.59</td>\n",
       "      <td>2.37</td>\n",
       "      <td>20.0</td>\n",
       "      <td>120.0</td>\n",
       "      <td>1.65</td>\n",
       "      <td>0.68</td>\n",
       "      <td>0.53</td>\n",
       "      <td>1.46</td>\n",
       "      <td>9.30</td>\n",
       "      <td>0.60</td>\n",
       "      <td>1.62</td>\n",
       "      <td>840.0</td>\n",
       "      <td>2</td>\n",
       "    </tr>\n",
       "    <tr>\n",
       "      <th>177</th>\n",
       "      <td>14.13</td>\n",
       "      <td>4.10</td>\n",
       "      <td>2.74</td>\n",
       "      <td>24.5</td>\n",
       "      <td>96.0</td>\n",
       "      <td>2.05</td>\n",
       "      <td>0.76</td>\n",
       "      <td>0.56</td>\n",
       "      <td>1.35</td>\n",
       "      <td>9.20</td>\n",
       "      <td>0.61</td>\n",
       "      <td>1.60</td>\n",
       "      <td>560.0</td>\n",
       "      <td>2</td>\n",
       "    </tr>\n",
       "  </tbody>\n",
       "</table>\n",
       "<p>178 rows × 14 columns</p>\n",
       "</div>"
      ],
      "text/plain": [
       "     alcohol  malic_acid   ash  alcalinity_of_ash  magnesium  total_phenols  \\\n",
       "0      14.23        1.71  2.43               15.6      127.0           2.80   \n",
       "1      13.20        1.78  2.14               11.2      100.0           2.65   \n",
       "2      13.16        2.36  2.67               18.6      101.0           2.80   \n",
       "3      14.37        1.95  2.50               16.8      113.0           3.85   \n",
       "4      13.24        2.59  2.87               21.0      118.0           2.80   \n",
       "..       ...         ...   ...                ...        ...            ...   \n",
       "173    13.71        5.65  2.45               20.5       95.0           1.68   \n",
       "174    13.40        3.91  2.48               23.0      102.0           1.80   \n",
       "175    13.27        4.28  2.26               20.0      120.0           1.59   \n",
       "176    13.17        2.59  2.37               20.0      120.0           1.65   \n",
       "177    14.13        4.10  2.74               24.5       96.0           2.05   \n",
       "\n",
       "     flavanoids  nonflavanoid_phenols  proanthocyanins  color_intensity   hue  \\\n",
       "0          3.06                  0.28             2.29             5.64  1.04   \n",
       "1          2.76                  0.26             1.28             4.38  1.05   \n",
       "2          3.24                  0.30             2.81             5.68  1.03   \n",
       "3          3.49                  0.24             2.18             7.80  0.86   \n",
       "4          2.69                  0.39             1.82             4.32  1.04   \n",
       "..          ...                   ...              ...              ...   ...   \n",
       "173        0.61                  0.52             1.06             7.70  0.64   \n",
       "174        0.75                  0.43             1.41             7.30  0.70   \n",
       "175        0.69                  0.43             1.35            10.20  0.59   \n",
       "176        0.68                  0.53             1.46             9.30  0.60   \n",
       "177        0.76                  0.56             1.35             9.20  0.61   \n",
       "\n",
       "     od280/od315_of_diluted_wines  proline  target  \n",
       "0                            3.92   1065.0       0  \n",
       "1                            3.40   1050.0       0  \n",
       "2                            3.17   1185.0       0  \n",
       "3                            3.45   1480.0       0  \n",
       "4                            2.93    735.0       0  \n",
       "..                            ...      ...     ...  \n",
       "173                          1.74    740.0       2  \n",
       "174                          1.56    750.0       2  \n",
       "175                          1.56    835.0       2  \n",
       "176                          1.62    840.0       2  \n",
       "177                          1.60    560.0       2  \n",
       "\n",
       "[178 rows x 14 columns]"
      ]
     },
     "execution_count": 7,
     "metadata": {},
     "output_type": "execute_result"
    }
   ],
   "source": [
    "wine_df = pd.DataFrame(data=wine.data, columns=wine.feature_names)\n",
    "wine_df['target'] = wine.target\n",
    "wine_df"
   ]
  },
  {
   "cell_type": "markdown",
   "metadata": {
    "id": "gpoDftYRchLv"
   },
   "source": [
    "### 유방암 데이터"
   ]
  },
  {
   "cell_type": "code",
   "execution_count": 8,
   "metadata": {
    "id": "wP_oWX-TejP_"
   },
   "outputs": [],
   "source": [
    "cancer = load_breast_cancer()"
   ]
  },
  {
   "cell_type": "code",
   "execution_count": 9,
   "metadata": {
    "id": "MPgE2yqYelI1"
   },
   "outputs": [
    {
     "data": {
      "text/html": [
       "<div>\n",
       "<style scoped>\n",
       "    .dataframe tbody tr th:only-of-type {\n",
       "        vertical-align: middle;\n",
       "    }\n",
       "\n",
       "    .dataframe tbody tr th {\n",
       "        vertical-align: top;\n",
       "    }\n",
       "\n",
       "    .dataframe thead th {\n",
       "        text-align: right;\n",
       "    }\n",
       "</style>\n",
       "<table border=\"1\" class=\"dataframe\">\n",
       "  <thead>\n",
       "    <tr style=\"text-align: right;\">\n",
       "      <th></th>\n",
       "      <th>mean radius</th>\n",
       "      <th>mean texture</th>\n",
       "      <th>mean perimeter</th>\n",
       "      <th>mean area</th>\n",
       "      <th>mean smoothness</th>\n",
       "      <th>mean compactness</th>\n",
       "      <th>mean concavity</th>\n",
       "      <th>mean concave points</th>\n",
       "      <th>mean symmetry</th>\n",
       "      <th>mean fractal dimension</th>\n",
       "      <th>...</th>\n",
       "      <th>worst texture</th>\n",
       "      <th>worst perimeter</th>\n",
       "      <th>worst area</th>\n",
       "      <th>worst smoothness</th>\n",
       "      <th>worst compactness</th>\n",
       "      <th>worst concavity</th>\n",
       "      <th>worst concave points</th>\n",
       "      <th>worst symmetry</th>\n",
       "      <th>worst fractal dimension</th>\n",
       "      <th>target</th>\n",
       "    </tr>\n",
       "  </thead>\n",
       "  <tbody>\n",
       "    <tr>\n",
       "      <th>0</th>\n",
       "      <td>17.99</td>\n",
       "      <td>10.38</td>\n",
       "      <td>122.80</td>\n",
       "      <td>1001.0</td>\n",
       "      <td>0.11840</td>\n",
       "      <td>0.27760</td>\n",
       "      <td>0.30010</td>\n",
       "      <td>0.14710</td>\n",
       "      <td>0.2419</td>\n",
       "      <td>0.07871</td>\n",
       "      <td>...</td>\n",
       "      <td>17.33</td>\n",
       "      <td>184.60</td>\n",
       "      <td>2019.0</td>\n",
       "      <td>0.16220</td>\n",
       "      <td>0.66560</td>\n",
       "      <td>0.7119</td>\n",
       "      <td>0.2654</td>\n",
       "      <td>0.4601</td>\n",
       "      <td>0.11890</td>\n",
       "      <td>0</td>\n",
       "    </tr>\n",
       "    <tr>\n",
       "      <th>1</th>\n",
       "      <td>20.57</td>\n",
       "      <td>17.77</td>\n",
       "      <td>132.90</td>\n",
       "      <td>1326.0</td>\n",
       "      <td>0.08474</td>\n",
       "      <td>0.07864</td>\n",
       "      <td>0.08690</td>\n",
       "      <td>0.07017</td>\n",
       "      <td>0.1812</td>\n",
       "      <td>0.05667</td>\n",
       "      <td>...</td>\n",
       "      <td>23.41</td>\n",
       "      <td>158.80</td>\n",
       "      <td>1956.0</td>\n",
       "      <td>0.12380</td>\n",
       "      <td>0.18660</td>\n",
       "      <td>0.2416</td>\n",
       "      <td>0.1860</td>\n",
       "      <td>0.2750</td>\n",
       "      <td>0.08902</td>\n",
       "      <td>0</td>\n",
       "    </tr>\n",
       "    <tr>\n",
       "      <th>2</th>\n",
       "      <td>19.69</td>\n",
       "      <td>21.25</td>\n",
       "      <td>130.00</td>\n",
       "      <td>1203.0</td>\n",
       "      <td>0.10960</td>\n",
       "      <td>0.15990</td>\n",
       "      <td>0.19740</td>\n",
       "      <td>0.12790</td>\n",
       "      <td>0.2069</td>\n",
       "      <td>0.05999</td>\n",
       "      <td>...</td>\n",
       "      <td>25.53</td>\n",
       "      <td>152.50</td>\n",
       "      <td>1709.0</td>\n",
       "      <td>0.14440</td>\n",
       "      <td>0.42450</td>\n",
       "      <td>0.4504</td>\n",
       "      <td>0.2430</td>\n",
       "      <td>0.3613</td>\n",
       "      <td>0.08758</td>\n",
       "      <td>0</td>\n",
       "    </tr>\n",
       "    <tr>\n",
       "      <th>3</th>\n",
       "      <td>11.42</td>\n",
       "      <td>20.38</td>\n",
       "      <td>77.58</td>\n",
       "      <td>386.1</td>\n",
       "      <td>0.14250</td>\n",
       "      <td>0.28390</td>\n",
       "      <td>0.24140</td>\n",
       "      <td>0.10520</td>\n",
       "      <td>0.2597</td>\n",
       "      <td>0.09744</td>\n",
       "      <td>...</td>\n",
       "      <td>26.50</td>\n",
       "      <td>98.87</td>\n",
       "      <td>567.7</td>\n",
       "      <td>0.20980</td>\n",
       "      <td>0.86630</td>\n",
       "      <td>0.6869</td>\n",
       "      <td>0.2575</td>\n",
       "      <td>0.6638</td>\n",
       "      <td>0.17300</td>\n",
       "      <td>0</td>\n",
       "    </tr>\n",
       "    <tr>\n",
       "      <th>4</th>\n",
       "      <td>20.29</td>\n",
       "      <td>14.34</td>\n",
       "      <td>135.10</td>\n",
       "      <td>1297.0</td>\n",
       "      <td>0.10030</td>\n",
       "      <td>0.13280</td>\n",
       "      <td>0.19800</td>\n",
       "      <td>0.10430</td>\n",
       "      <td>0.1809</td>\n",
       "      <td>0.05883</td>\n",
       "      <td>...</td>\n",
       "      <td>16.67</td>\n",
       "      <td>152.20</td>\n",
       "      <td>1575.0</td>\n",
       "      <td>0.13740</td>\n",
       "      <td>0.20500</td>\n",
       "      <td>0.4000</td>\n",
       "      <td>0.1625</td>\n",
       "      <td>0.2364</td>\n",
       "      <td>0.07678</td>\n",
       "      <td>0</td>\n",
       "    </tr>\n",
       "    <tr>\n",
       "      <th>...</th>\n",
       "      <td>...</td>\n",
       "      <td>...</td>\n",
       "      <td>...</td>\n",
       "      <td>...</td>\n",
       "      <td>...</td>\n",
       "      <td>...</td>\n",
       "      <td>...</td>\n",
       "      <td>...</td>\n",
       "      <td>...</td>\n",
       "      <td>...</td>\n",
       "      <td>...</td>\n",
       "      <td>...</td>\n",
       "      <td>...</td>\n",
       "      <td>...</td>\n",
       "      <td>...</td>\n",
       "      <td>...</td>\n",
       "      <td>...</td>\n",
       "      <td>...</td>\n",
       "      <td>...</td>\n",
       "      <td>...</td>\n",
       "      <td>...</td>\n",
       "    </tr>\n",
       "    <tr>\n",
       "      <th>564</th>\n",
       "      <td>21.56</td>\n",
       "      <td>22.39</td>\n",
       "      <td>142.00</td>\n",
       "      <td>1479.0</td>\n",
       "      <td>0.11100</td>\n",
       "      <td>0.11590</td>\n",
       "      <td>0.24390</td>\n",
       "      <td>0.13890</td>\n",
       "      <td>0.1726</td>\n",
       "      <td>0.05623</td>\n",
       "      <td>...</td>\n",
       "      <td>26.40</td>\n",
       "      <td>166.10</td>\n",
       "      <td>2027.0</td>\n",
       "      <td>0.14100</td>\n",
       "      <td>0.21130</td>\n",
       "      <td>0.4107</td>\n",
       "      <td>0.2216</td>\n",
       "      <td>0.2060</td>\n",
       "      <td>0.07115</td>\n",
       "      <td>0</td>\n",
       "    </tr>\n",
       "    <tr>\n",
       "      <th>565</th>\n",
       "      <td>20.13</td>\n",
       "      <td>28.25</td>\n",
       "      <td>131.20</td>\n",
       "      <td>1261.0</td>\n",
       "      <td>0.09780</td>\n",
       "      <td>0.10340</td>\n",
       "      <td>0.14400</td>\n",
       "      <td>0.09791</td>\n",
       "      <td>0.1752</td>\n",
       "      <td>0.05533</td>\n",
       "      <td>...</td>\n",
       "      <td>38.25</td>\n",
       "      <td>155.00</td>\n",
       "      <td>1731.0</td>\n",
       "      <td>0.11660</td>\n",
       "      <td>0.19220</td>\n",
       "      <td>0.3215</td>\n",
       "      <td>0.1628</td>\n",
       "      <td>0.2572</td>\n",
       "      <td>0.06637</td>\n",
       "      <td>0</td>\n",
       "    </tr>\n",
       "    <tr>\n",
       "      <th>566</th>\n",
       "      <td>16.60</td>\n",
       "      <td>28.08</td>\n",
       "      <td>108.30</td>\n",
       "      <td>858.1</td>\n",
       "      <td>0.08455</td>\n",
       "      <td>0.10230</td>\n",
       "      <td>0.09251</td>\n",
       "      <td>0.05302</td>\n",
       "      <td>0.1590</td>\n",
       "      <td>0.05648</td>\n",
       "      <td>...</td>\n",
       "      <td>34.12</td>\n",
       "      <td>126.70</td>\n",
       "      <td>1124.0</td>\n",
       "      <td>0.11390</td>\n",
       "      <td>0.30940</td>\n",
       "      <td>0.3403</td>\n",
       "      <td>0.1418</td>\n",
       "      <td>0.2218</td>\n",
       "      <td>0.07820</td>\n",
       "      <td>0</td>\n",
       "    </tr>\n",
       "    <tr>\n",
       "      <th>567</th>\n",
       "      <td>20.60</td>\n",
       "      <td>29.33</td>\n",
       "      <td>140.10</td>\n",
       "      <td>1265.0</td>\n",
       "      <td>0.11780</td>\n",
       "      <td>0.27700</td>\n",
       "      <td>0.35140</td>\n",
       "      <td>0.15200</td>\n",
       "      <td>0.2397</td>\n",
       "      <td>0.07016</td>\n",
       "      <td>...</td>\n",
       "      <td>39.42</td>\n",
       "      <td>184.60</td>\n",
       "      <td>1821.0</td>\n",
       "      <td>0.16500</td>\n",
       "      <td>0.86810</td>\n",
       "      <td>0.9387</td>\n",
       "      <td>0.2650</td>\n",
       "      <td>0.4087</td>\n",
       "      <td>0.12400</td>\n",
       "      <td>0</td>\n",
       "    </tr>\n",
       "    <tr>\n",
       "      <th>568</th>\n",
       "      <td>7.76</td>\n",
       "      <td>24.54</td>\n",
       "      <td>47.92</td>\n",
       "      <td>181.0</td>\n",
       "      <td>0.05263</td>\n",
       "      <td>0.04362</td>\n",
       "      <td>0.00000</td>\n",
       "      <td>0.00000</td>\n",
       "      <td>0.1587</td>\n",
       "      <td>0.05884</td>\n",
       "      <td>...</td>\n",
       "      <td>30.37</td>\n",
       "      <td>59.16</td>\n",
       "      <td>268.6</td>\n",
       "      <td>0.08996</td>\n",
       "      <td>0.06444</td>\n",
       "      <td>0.0000</td>\n",
       "      <td>0.0000</td>\n",
       "      <td>0.2871</td>\n",
       "      <td>0.07039</td>\n",
       "      <td>1</td>\n",
       "    </tr>\n",
       "  </tbody>\n",
       "</table>\n",
       "<p>569 rows × 31 columns</p>\n",
       "</div>"
      ],
      "text/plain": [
       "     mean radius  mean texture  mean perimeter  mean area  mean smoothness  \\\n",
       "0          17.99         10.38          122.80     1001.0          0.11840   \n",
       "1          20.57         17.77          132.90     1326.0          0.08474   \n",
       "2          19.69         21.25          130.00     1203.0          0.10960   \n",
       "3          11.42         20.38           77.58      386.1          0.14250   \n",
       "4          20.29         14.34          135.10     1297.0          0.10030   \n",
       "..           ...           ...             ...        ...              ...   \n",
       "564        21.56         22.39          142.00     1479.0          0.11100   \n",
       "565        20.13         28.25          131.20     1261.0          0.09780   \n",
       "566        16.60         28.08          108.30      858.1          0.08455   \n",
       "567        20.60         29.33          140.10     1265.0          0.11780   \n",
       "568         7.76         24.54           47.92      181.0          0.05263   \n",
       "\n",
       "     mean compactness  mean concavity  mean concave points  mean symmetry  \\\n",
       "0             0.27760         0.30010              0.14710         0.2419   \n",
       "1             0.07864         0.08690              0.07017         0.1812   \n",
       "2             0.15990         0.19740              0.12790         0.2069   \n",
       "3             0.28390         0.24140              0.10520         0.2597   \n",
       "4             0.13280         0.19800              0.10430         0.1809   \n",
       "..                ...             ...                  ...            ...   \n",
       "564           0.11590         0.24390              0.13890         0.1726   \n",
       "565           0.10340         0.14400              0.09791         0.1752   \n",
       "566           0.10230         0.09251              0.05302         0.1590   \n",
       "567           0.27700         0.35140              0.15200         0.2397   \n",
       "568           0.04362         0.00000              0.00000         0.1587   \n",
       "\n",
       "     mean fractal dimension  ...  worst texture  worst perimeter  worst area  \\\n",
       "0                   0.07871  ...          17.33           184.60      2019.0   \n",
       "1                   0.05667  ...          23.41           158.80      1956.0   \n",
       "2                   0.05999  ...          25.53           152.50      1709.0   \n",
       "3                   0.09744  ...          26.50            98.87       567.7   \n",
       "4                   0.05883  ...          16.67           152.20      1575.0   \n",
       "..                      ...  ...            ...              ...         ...   \n",
       "564                 0.05623  ...          26.40           166.10      2027.0   \n",
       "565                 0.05533  ...          38.25           155.00      1731.0   \n",
       "566                 0.05648  ...          34.12           126.70      1124.0   \n",
       "567                 0.07016  ...          39.42           184.60      1821.0   \n",
       "568                 0.05884  ...          30.37            59.16       268.6   \n",
       "\n",
       "     worst smoothness  worst compactness  worst concavity  \\\n",
       "0             0.16220            0.66560           0.7119   \n",
       "1             0.12380            0.18660           0.2416   \n",
       "2             0.14440            0.42450           0.4504   \n",
       "3             0.20980            0.86630           0.6869   \n",
       "4             0.13740            0.20500           0.4000   \n",
       "..                ...                ...              ...   \n",
       "564           0.14100            0.21130           0.4107   \n",
       "565           0.11660            0.19220           0.3215   \n",
       "566           0.11390            0.30940           0.3403   \n",
       "567           0.16500            0.86810           0.9387   \n",
       "568           0.08996            0.06444           0.0000   \n",
       "\n",
       "     worst concave points  worst symmetry  worst fractal dimension  target  \n",
       "0                  0.2654          0.4601                  0.11890       0  \n",
       "1                  0.1860          0.2750                  0.08902       0  \n",
       "2                  0.2430          0.3613                  0.08758       0  \n",
       "3                  0.2575          0.6638                  0.17300       0  \n",
       "4                  0.1625          0.2364                  0.07678       0  \n",
       "..                    ...             ...                      ...     ...  \n",
       "564                0.2216          0.2060                  0.07115       0  \n",
       "565                0.1628          0.2572                  0.06637       0  \n",
       "566                0.1418          0.2218                  0.07820       0  \n",
       "567                0.2650          0.4087                  0.12400       0  \n",
       "568                0.0000          0.2871                  0.07039       1  \n",
       "\n",
       "[569 rows x 31 columns]"
      ]
     },
     "execution_count": 9,
     "metadata": {},
     "output_type": "execute_result"
    }
   ],
   "source": [
    "cancer_df = pd.DataFrame(data=cancer.data, columns=cancer.feature_names)\n",
    "cancer_df['target'] = cancer.target\n",
    "cancer_df"
   ]
  },
  {
   "cell_type": "markdown",
   "metadata": {
    "id": "uDXi89M2cYJu"
   },
   "source": [
    "## 회귀를 위한 데이터"
   ]
  },
  {
   "cell_type": "markdown",
   "metadata": {
    "id": "mjESncZLckBn"
   },
   "source": [
    "### 보스턴 주택 가격 데이터"
   ]
  },
  {
   "cell_type": "code",
   "execution_count": 10,
   "metadata": {
    "id": "XaZrNOWxe7WR"
   },
   "outputs": [],
   "source": [
    "boston = load_boston()"
   ]
  },
  {
   "cell_type": "code",
   "execution_count": 11,
   "metadata": {
    "id": "_am1Rayne8zn"
   },
   "outputs": [
    {
     "data": {
      "text/html": [
       "<div>\n",
       "<style scoped>\n",
       "    .dataframe tbody tr th:only-of-type {\n",
       "        vertical-align: middle;\n",
       "    }\n",
       "\n",
       "    .dataframe tbody tr th {\n",
       "        vertical-align: top;\n",
       "    }\n",
       "\n",
       "    .dataframe thead th {\n",
       "        text-align: right;\n",
       "    }\n",
       "</style>\n",
       "<table border=\"1\" class=\"dataframe\">\n",
       "  <thead>\n",
       "    <tr style=\"text-align: right;\">\n",
       "      <th></th>\n",
       "      <th>CRIM</th>\n",
       "      <th>ZN</th>\n",
       "      <th>INDUS</th>\n",
       "      <th>CHAS</th>\n",
       "      <th>NOX</th>\n",
       "      <th>RM</th>\n",
       "      <th>AGE</th>\n",
       "      <th>DIS</th>\n",
       "      <th>RAD</th>\n",
       "      <th>TAX</th>\n",
       "      <th>PTRATIO</th>\n",
       "      <th>B</th>\n",
       "      <th>LSTAT</th>\n",
       "      <th>target</th>\n",
       "    </tr>\n",
       "  </thead>\n",
       "  <tbody>\n",
       "    <tr>\n",
       "      <th>0</th>\n",
       "      <td>0.00632</td>\n",
       "      <td>18.0</td>\n",
       "      <td>2.31</td>\n",
       "      <td>0.0</td>\n",
       "      <td>0.538</td>\n",
       "      <td>6.575</td>\n",
       "      <td>65.2</td>\n",
       "      <td>4.0900</td>\n",
       "      <td>1.0</td>\n",
       "      <td>296.0</td>\n",
       "      <td>15.3</td>\n",
       "      <td>396.90</td>\n",
       "      <td>4.98</td>\n",
       "      <td>24.0</td>\n",
       "    </tr>\n",
       "    <tr>\n",
       "      <th>1</th>\n",
       "      <td>0.02731</td>\n",
       "      <td>0.0</td>\n",
       "      <td>7.07</td>\n",
       "      <td>0.0</td>\n",
       "      <td>0.469</td>\n",
       "      <td>6.421</td>\n",
       "      <td>78.9</td>\n",
       "      <td>4.9671</td>\n",
       "      <td>2.0</td>\n",
       "      <td>242.0</td>\n",
       "      <td>17.8</td>\n",
       "      <td>396.90</td>\n",
       "      <td>9.14</td>\n",
       "      <td>21.6</td>\n",
       "    </tr>\n",
       "    <tr>\n",
       "      <th>2</th>\n",
       "      <td>0.02729</td>\n",
       "      <td>0.0</td>\n",
       "      <td>7.07</td>\n",
       "      <td>0.0</td>\n",
       "      <td>0.469</td>\n",
       "      <td>7.185</td>\n",
       "      <td>61.1</td>\n",
       "      <td>4.9671</td>\n",
       "      <td>2.0</td>\n",
       "      <td>242.0</td>\n",
       "      <td>17.8</td>\n",
       "      <td>392.83</td>\n",
       "      <td>4.03</td>\n",
       "      <td>34.7</td>\n",
       "    </tr>\n",
       "    <tr>\n",
       "      <th>3</th>\n",
       "      <td>0.03237</td>\n",
       "      <td>0.0</td>\n",
       "      <td>2.18</td>\n",
       "      <td>0.0</td>\n",
       "      <td>0.458</td>\n",
       "      <td>6.998</td>\n",
       "      <td>45.8</td>\n",
       "      <td>6.0622</td>\n",
       "      <td>3.0</td>\n",
       "      <td>222.0</td>\n",
       "      <td>18.7</td>\n",
       "      <td>394.63</td>\n",
       "      <td>2.94</td>\n",
       "      <td>33.4</td>\n",
       "    </tr>\n",
       "    <tr>\n",
       "      <th>4</th>\n",
       "      <td>0.06905</td>\n",
       "      <td>0.0</td>\n",
       "      <td>2.18</td>\n",
       "      <td>0.0</td>\n",
       "      <td>0.458</td>\n",
       "      <td>7.147</td>\n",
       "      <td>54.2</td>\n",
       "      <td>6.0622</td>\n",
       "      <td>3.0</td>\n",
       "      <td>222.0</td>\n",
       "      <td>18.7</td>\n",
       "      <td>396.90</td>\n",
       "      <td>5.33</td>\n",
       "      <td>36.2</td>\n",
       "    </tr>\n",
       "    <tr>\n",
       "      <th>...</th>\n",
       "      <td>...</td>\n",
       "      <td>...</td>\n",
       "      <td>...</td>\n",
       "      <td>...</td>\n",
       "      <td>...</td>\n",
       "      <td>...</td>\n",
       "      <td>...</td>\n",
       "      <td>...</td>\n",
       "      <td>...</td>\n",
       "      <td>...</td>\n",
       "      <td>...</td>\n",
       "      <td>...</td>\n",
       "      <td>...</td>\n",
       "      <td>...</td>\n",
       "    </tr>\n",
       "    <tr>\n",
       "      <th>501</th>\n",
       "      <td>0.06263</td>\n",
       "      <td>0.0</td>\n",
       "      <td>11.93</td>\n",
       "      <td>0.0</td>\n",
       "      <td>0.573</td>\n",
       "      <td>6.593</td>\n",
       "      <td>69.1</td>\n",
       "      <td>2.4786</td>\n",
       "      <td>1.0</td>\n",
       "      <td>273.0</td>\n",
       "      <td>21.0</td>\n",
       "      <td>391.99</td>\n",
       "      <td>9.67</td>\n",
       "      <td>22.4</td>\n",
       "    </tr>\n",
       "    <tr>\n",
       "      <th>502</th>\n",
       "      <td>0.04527</td>\n",
       "      <td>0.0</td>\n",
       "      <td>11.93</td>\n",
       "      <td>0.0</td>\n",
       "      <td>0.573</td>\n",
       "      <td>6.120</td>\n",
       "      <td>76.7</td>\n",
       "      <td>2.2875</td>\n",
       "      <td>1.0</td>\n",
       "      <td>273.0</td>\n",
       "      <td>21.0</td>\n",
       "      <td>396.90</td>\n",
       "      <td>9.08</td>\n",
       "      <td>20.6</td>\n",
       "    </tr>\n",
       "    <tr>\n",
       "      <th>503</th>\n",
       "      <td>0.06076</td>\n",
       "      <td>0.0</td>\n",
       "      <td>11.93</td>\n",
       "      <td>0.0</td>\n",
       "      <td>0.573</td>\n",
       "      <td>6.976</td>\n",
       "      <td>91.0</td>\n",
       "      <td>2.1675</td>\n",
       "      <td>1.0</td>\n",
       "      <td>273.0</td>\n",
       "      <td>21.0</td>\n",
       "      <td>396.90</td>\n",
       "      <td>5.64</td>\n",
       "      <td>23.9</td>\n",
       "    </tr>\n",
       "    <tr>\n",
       "      <th>504</th>\n",
       "      <td>0.10959</td>\n",
       "      <td>0.0</td>\n",
       "      <td>11.93</td>\n",
       "      <td>0.0</td>\n",
       "      <td>0.573</td>\n",
       "      <td>6.794</td>\n",
       "      <td>89.3</td>\n",
       "      <td>2.3889</td>\n",
       "      <td>1.0</td>\n",
       "      <td>273.0</td>\n",
       "      <td>21.0</td>\n",
       "      <td>393.45</td>\n",
       "      <td>6.48</td>\n",
       "      <td>22.0</td>\n",
       "    </tr>\n",
       "    <tr>\n",
       "      <th>505</th>\n",
       "      <td>0.04741</td>\n",
       "      <td>0.0</td>\n",
       "      <td>11.93</td>\n",
       "      <td>0.0</td>\n",
       "      <td>0.573</td>\n",
       "      <td>6.030</td>\n",
       "      <td>80.8</td>\n",
       "      <td>2.5050</td>\n",
       "      <td>1.0</td>\n",
       "      <td>273.0</td>\n",
       "      <td>21.0</td>\n",
       "      <td>396.90</td>\n",
       "      <td>7.88</td>\n",
       "      <td>11.9</td>\n",
       "    </tr>\n",
       "  </tbody>\n",
       "</table>\n",
       "<p>506 rows × 14 columns</p>\n",
       "</div>"
      ],
      "text/plain": [
       "        CRIM    ZN  INDUS  CHAS    NOX     RM   AGE     DIS  RAD    TAX  \\\n",
       "0    0.00632  18.0   2.31   0.0  0.538  6.575  65.2  4.0900  1.0  296.0   \n",
       "1    0.02731   0.0   7.07   0.0  0.469  6.421  78.9  4.9671  2.0  242.0   \n",
       "2    0.02729   0.0   7.07   0.0  0.469  7.185  61.1  4.9671  2.0  242.0   \n",
       "3    0.03237   0.0   2.18   0.0  0.458  6.998  45.8  6.0622  3.0  222.0   \n",
       "4    0.06905   0.0   2.18   0.0  0.458  7.147  54.2  6.0622  3.0  222.0   \n",
       "..       ...   ...    ...   ...    ...    ...   ...     ...  ...    ...   \n",
       "501  0.06263   0.0  11.93   0.0  0.573  6.593  69.1  2.4786  1.0  273.0   \n",
       "502  0.04527   0.0  11.93   0.0  0.573  6.120  76.7  2.2875  1.0  273.0   \n",
       "503  0.06076   0.0  11.93   0.0  0.573  6.976  91.0  2.1675  1.0  273.0   \n",
       "504  0.10959   0.0  11.93   0.0  0.573  6.794  89.3  2.3889  1.0  273.0   \n",
       "505  0.04741   0.0  11.93   0.0  0.573  6.030  80.8  2.5050  1.0  273.0   \n",
       "\n",
       "     PTRATIO       B  LSTAT  target  \n",
       "0       15.3  396.90   4.98    24.0  \n",
       "1       17.8  396.90   9.14    21.6  \n",
       "2       17.8  392.83   4.03    34.7  \n",
       "3       18.7  394.63   2.94    33.4  \n",
       "4       18.7  396.90   5.33    36.2  \n",
       "..       ...     ...    ...     ...  \n",
       "501     21.0  391.99   9.67    22.4  \n",
       "502     21.0  396.90   9.08    20.6  \n",
       "503     21.0  396.90   5.64    23.9  \n",
       "504     21.0  393.45   6.48    22.0  \n",
       "505     21.0  396.90   7.88    11.9  \n",
       "\n",
       "[506 rows x 14 columns]"
      ]
     },
     "execution_count": 11,
     "metadata": {},
     "output_type": "execute_result"
    }
   ],
   "source": [
    "boston_df = pd.DataFrame(data=boston.data, columns=boston.feature_names)\n",
    "boston_df['target'] = boston.target\n",
    "boston_df"
   ]
  },
  {
   "cell_type": "markdown",
   "metadata": {
    "id": "e9Xpw7Neqm5c"
   },
   "source": [
    "### 당뇨병 데이터"
   ]
  },
  {
   "cell_type": "code",
   "execution_count": 12,
   "metadata": {
    "id": "qAgjuhWRqqkj"
   },
   "outputs": [],
   "source": [
    "diabetes = load_diabetes()"
   ]
  },
  {
   "cell_type": "code",
   "execution_count": 13,
   "metadata": {
    "id": "OS3ipMyLrDgi"
   },
   "outputs": [
    {
     "data": {
      "text/html": [
       "<div>\n",
       "<style scoped>\n",
       "    .dataframe tbody tr th:only-of-type {\n",
       "        vertical-align: middle;\n",
       "    }\n",
       "\n",
       "    .dataframe tbody tr th {\n",
       "        vertical-align: top;\n",
       "    }\n",
       "\n",
       "    .dataframe thead th {\n",
       "        text-align: right;\n",
       "    }\n",
       "</style>\n",
       "<table border=\"1\" class=\"dataframe\">\n",
       "  <thead>\n",
       "    <tr style=\"text-align: right;\">\n",
       "      <th></th>\n",
       "      <th>age</th>\n",
       "      <th>sex</th>\n",
       "      <th>bmi</th>\n",
       "      <th>bp</th>\n",
       "      <th>s1</th>\n",
       "      <th>s2</th>\n",
       "      <th>s3</th>\n",
       "      <th>s4</th>\n",
       "      <th>s5</th>\n",
       "      <th>s6</th>\n",
       "      <th>target</th>\n",
       "    </tr>\n",
       "  </thead>\n",
       "  <tbody>\n",
       "    <tr>\n",
       "      <th>0</th>\n",
       "      <td>0.038076</td>\n",
       "      <td>0.050680</td>\n",
       "      <td>0.061696</td>\n",
       "      <td>0.021872</td>\n",
       "      <td>-0.044223</td>\n",
       "      <td>-0.034821</td>\n",
       "      <td>-0.043401</td>\n",
       "      <td>-0.002592</td>\n",
       "      <td>0.019908</td>\n",
       "      <td>-0.017646</td>\n",
       "      <td>151.0</td>\n",
       "    </tr>\n",
       "    <tr>\n",
       "      <th>1</th>\n",
       "      <td>-0.001882</td>\n",
       "      <td>-0.044642</td>\n",
       "      <td>-0.051474</td>\n",
       "      <td>-0.026328</td>\n",
       "      <td>-0.008449</td>\n",
       "      <td>-0.019163</td>\n",
       "      <td>0.074412</td>\n",
       "      <td>-0.039493</td>\n",
       "      <td>-0.068330</td>\n",
       "      <td>-0.092204</td>\n",
       "      <td>75.0</td>\n",
       "    </tr>\n",
       "    <tr>\n",
       "      <th>2</th>\n",
       "      <td>0.085299</td>\n",
       "      <td>0.050680</td>\n",
       "      <td>0.044451</td>\n",
       "      <td>-0.005671</td>\n",
       "      <td>-0.045599</td>\n",
       "      <td>-0.034194</td>\n",
       "      <td>-0.032356</td>\n",
       "      <td>-0.002592</td>\n",
       "      <td>0.002864</td>\n",
       "      <td>-0.025930</td>\n",
       "      <td>141.0</td>\n",
       "    </tr>\n",
       "    <tr>\n",
       "      <th>3</th>\n",
       "      <td>-0.089063</td>\n",
       "      <td>-0.044642</td>\n",
       "      <td>-0.011595</td>\n",
       "      <td>-0.036656</td>\n",
       "      <td>0.012191</td>\n",
       "      <td>0.024991</td>\n",
       "      <td>-0.036038</td>\n",
       "      <td>0.034309</td>\n",
       "      <td>0.022692</td>\n",
       "      <td>-0.009362</td>\n",
       "      <td>206.0</td>\n",
       "    </tr>\n",
       "    <tr>\n",
       "      <th>4</th>\n",
       "      <td>0.005383</td>\n",
       "      <td>-0.044642</td>\n",
       "      <td>-0.036385</td>\n",
       "      <td>0.021872</td>\n",
       "      <td>0.003935</td>\n",
       "      <td>0.015596</td>\n",
       "      <td>0.008142</td>\n",
       "      <td>-0.002592</td>\n",
       "      <td>-0.031991</td>\n",
       "      <td>-0.046641</td>\n",
       "      <td>135.0</td>\n",
       "    </tr>\n",
       "    <tr>\n",
       "      <th>...</th>\n",
       "      <td>...</td>\n",
       "      <td>...</td>\n",
       "      <td>...</td>\n",
       "      <td>...</td>\n",
       "      <td>...</td>\n",
       "      <td>...</td>\n",
       "      <td>...</td>\n",
       "      <td>...</td>\n",
       "      <td>...</td>\n",
       "      <td>...</td>\n",
       "      <td>...</td>\n",
       "    </tr>\n",
       "    <tr>\n",
       "      <th>437</th>\n",
       "      <td>0.041708</td>\n",
       "      <td>0.050680</td>\n",
       "      <td>0.019662</td>\n",
       "      <td>0.059744</td>\n",
       "      <td>-0.005697</td>\n",
       "      <td>-0.002566</td>\n",
       "      <td>-0.028674</td>\n",
       "      <td>-0.002592</td>\n",
       "      <td>0.031193</td>\n",
       "      <td>0.007207</td>\n",
       "      <td>178.0</td>\n",
       "    </tr>\n",
       "    <tr>\n",
       "      <th>438</th>\n",
       "      <td>-0.005515</td>\n",
       "      <td>0.050680</td>\n",
       "      <td>-0.015906</td>\n",
       "      <td>-0.067642</td>\n",
       "      <td>0.049341</td>\n",
       "      <td>0.079165</td>\n",
       "      <td>-0.028674</td>\n",
       "      <td>0.034309</td>\n",
       "      <td>-0.018118</td>\n",
       "      <td>0.044485</td>\n",
       "      <td>104.0</td>\n",
       "    </tr>\n",
       "    <tr>\n",
       "      <th>439</th>\n",
       "      <td>0.041708</td>\n",
       "      <td>0.050680</td>\n",
       "      <td>-0.015906</td>\n",
       "      <td>0.017282</td>\n",
       "      <td>-0.037344</td>\n",
       "      <td>-0.013840</td>\n",
       "      <td>-0.024993</td>\n",
       "      <td>-0.011080</td>\n",
       "      <td>-0.046879</td>\n",
       "      <td>0.015491</td>\n",
       "      <td>132.0</td>\n",
       "    </tr>\n",
       "    <tr>\n",
       "      <th>440</th>\n",
       "      <td>-0.045472</td>\n",
       "      <td>-0.044642</td>\n",
       "      <td>0.039062</td>\n",
       "      <td>0.001215</td>\n",
       "      <td>0.016318</td>\n",
       "      <td>0.015283</td>\n",
       "      <td>-0.028674</td>\n",
       "      <td>0.026560</td>\n",
       "      <td>0.044528</td>\n",
       "      <td>-0.025930</td>\n",
       "      <td>220.0</td>\n",
       "    </tr>\n",
       "    <tr>\n",
       "      <th>441</th>\n",
       "      <td>-0.045472</td>\n",
       "      <td>-0.044642</td>\n",
       "      <td>-0.073030</td>\n",
       "      <td>-0.081414</td>\n",
       "      <td>0.083740</td>\n",
       "      <td>0.027809</td>\n",
       "      <td>0.173816</td>\n",
       "      <td>-0.039493</td>\n",
       "      <td>-0.004220</td>\n",
       "      <td>0.003064</td>\n",
       "      <td>57.0</td>\n",
       "    </tr>\n",
       "  </tbody>\n",
       "</table>\n",
       "<p>442 rows × 11 columns</p>\n",
       "</div>"
      ],
      "text/plain": [
       "          age       sex       bmi        bp        s1        s2        s3  \\\n",
       "0    0.038076  0.050680  0.061696  0.021872 -0.044223 -0.034821 -0.043401   \n",
       "1   -0.001882 -0.044642 -0.051474 -0.026328 -0.008449 -0.019163  0.074412   \n",
       "2    0.085299  0.050680  0.044451 -0.005671 -0.045599 -0.034194 -0.032356   \n",
       "3   -0.089063 -0.044642 -0.011595 -0.036656  0.012191  0.024991 -0.036038   \n",
       "4    0.005383 -0.044642 -0.036385  0.021872  0.003935  0.015596  0.008142   \n",
       "..        ...       ...       ...       ...       ...       ...       ...   \n",
       "437  0.041708  0.050680  0.019662  0.059744 -0.005697 -0.002566 -0.028674   \n",
       "438 -0.005515  0.050680 -0.015906 -0.067642  0.049341  0.079165 -0.028674   \n",
       "439  0.041708  0.050680 -0.015906  0.017282 -0.037344 -0.013840 -0.024993   \n",
       "440 -0.045472 -0.044642  0.039062  0.001215  0.016318  0.015283 -0.028674   \n",
       "441 -0.045472 -0.044642 -0.073030 -0.081414  0.083740  0.027809  0.173816   \n",
       "\n",
       "           s4        s5        s6  target  \n",
       "0   -0.002592  0.019908 -0.017646   151.0  \n",
       "1   -0.039493 -0.068330 -0.092204    75.0  \n",
       "2   -0.002592  0.002864 -0.025930   141.0  \n",
       "3    0.034309  0.022692 -0.009362   206.0  \n",
       "4   -0.002592 -0.031991 -0.046641   135.0  \n",
       "..        ...       ...       ...     ...  \n",
       "437 -0.002592  0.031193  0.007207   178.0  \n",
       "438  0.034309 -0.018118  0.044485   104.0  \n",
       "439 -0.011080 -0.046879  0.015491   132.0  \n",
       "440  0.026560  0.044528 -0.025930   220.0  \n",
       "441 -0.039493 -0.004220  0.003064    57.0  \n",
       "\n",
       "[442 rows x 11 columns]"
      ]
     },
     "execution_count": 13,
     "metadata": {},
     "output_type": "execute_result"
    }
   ],
   "source": [
    "diabetes_df = pd.DataFrame(data=diabetes.data, columns=diabetes.feature_names)\n",
    "diabetes_df['target'] = diabetes.target\n",
    "diabetes_df"
   ]
  },
  {
   "cell_type": "markdown",
   "metadata": {
    "id": "C9SE86hTuooq"
   },
   "source": [
    "## 분류 - `DecisionTreeClassifier()`\n",
    "\n",
    "* `DecisionTreeClassifier`는 분류를 위한 결정트리 모델\n",
    "* 두개의 배열 X, y를 입력 받음\n",
    "  * X는 [n_samples, n_features] 크기의 데이터 특성 배열\n",
    "  * y는 [n_samples] 크기의 정답 배열"
   ]
  },
  {
   "cell_type": "code",
   "execution_count": 14,
   "metadata": {
    "id": "d2KmFO55nXp2"
   },
   "outputs": [],
   "source": [
    "X = [[0, 0], [1, 1]]\n",
    "y = [0, 1]\n",
    "\n",
    "model = tree.DecisionTreeClassifier()\n",
    "model = model.fit(X, y)"
   ]
  },
  {
   "cell_type": "code",
   "execution_count": 15,
   "metadata": {
    "id": "4QSnrXsdwP-s"
   },
   "outputs": [
    {
     "data": {
      "text/plain": [
       "array([1])"
      ]
     },
     "execution_count": 15,
     "metadata": {},
     "output_type": "execute_result"
    }
   ],
   "source": [
    "model.predict([[2., 2.]])"
   ]
  },
  {
   "cell_type": "code",
   "execution_count": 16,
   "metadata": {
    "id": "QV2DPs7KwbAN"
   },
   "outputs": [
    {
     "data": {
      "text/plain": [
       "array([[0., 1.]])"
      ]
     },
     "execution_count": 16,
     "metadata": {},
     "output_type": "execute_result"
    }
   ],
   "source": [
    "model.predict_proba([[2., 2.]])"
   ]
  },
  {
   "cell_type": "markdown",
   "metadata": {
    "id": "q3zsYbBnwsxv"
   },
   "source": [
    "### 붓꽃 데이터 학습"
   ]
  },
  {
   "cell_type": "markdown",
   "metadata": {
    "id": "Ab213yKXkOBx"
   },
   "source": [
    "#### 교차검증"
   ]
  },
  {
   "cell_type": "markdown",
   "metadata": {
    "id": "VB1eyWcslWpr"
   },
   "source": [
    "##### 전처리 없이 학습"
   ]
  },
  {
   "cell_type": "code",
   "execution_count": 17,
   "metadata": {
    "id": "tYMA6_qhg5EM"
   },
   "outputs": [],
   "source": [
    "model = DecisionTreeClassifier()"
   ]
  },
  {
   "cell_type": "code",
   "execution_count": 18,
   "metadata": {
    "id": "SFFybhvChGlB"
   },
   "outputs": [
    {
     "data": {
      "text/plain": [
       "array([0.96666667, 0.96666667, 0.9       , 0.93333333, 1.        ])"
      ]
     },
     "execution_count": 18,
     "metadata": {},
     "output_type": "execute_result"
    }
   ],
   "source": [
    "cross_val_score(\n",
    "    estimator=model,\n",
    "    X=iris.data, y=iris.target,\n",
    "    cv=5,\n",
    "    n_jobs=multiprocessing.cpu_count()\n",
    "               )"
   ]
  },
  {
   "cell_type": "markdown",
   "metadata": {
    "id": "04yVAwpllbuW"
   },
   "source": [
    "##### 전처리 후 학습\n",
    "* 결정 트리는 규칙을 학습하기 때문에 전처리에 큰 영향을 받지 않는다."
   ]
  },
  {
   "cell_type": "code",
   "execution_count": 19,
   "metadata": {
    "id": "-qb7NpeKi5vi"
   },
   "outputs": [],
   "source": [
    "model = make_pipeline(\n",
    "    StandardScaler(),\n",
    "    DecisionTreeClassifier()\n",
    ")"
   ]
  },
  {
   "cell_type": "code",
   "execution_count": 20,
   "metadata": {
    "id": "1Gar4cXjjFzm"
   },
   "outputs": [
    {
     "data": {
      "text/plain": [
       "array([0.96666667, 0.96666667, 0.9       , 0.96666667, 1.        ])"
      ]
     },
     "execution_count": 20,
     "metadata": {},
     "output_type": "execute_result"
    }
   ],
   "source": [
    "cross_val_score(\n",
    "    estimator=model,\n",
    "    X=iris.data, y=iris.target,\n",
    "    cv=5,\n",
    "    n_jobs=multiprocessing.cpu_count()\n",
    ")"
   ]
  },
  {
   "cell_type": "markdown",
   "metadata": {
    "id": "mBDxGGoVyRnO"
   },
   "source": [
    "#### 학습된 결정 트리 시각화"
   ]
  },
  {
   "cell_type": "code",
   "execution_count": 21,
   "metadata": {
    "id": "jasfz-4UiQEF"
   },
   "outputs": [
    {
     "data": {
      "text/plain": [
       "DecisionTreeClassifier()"
      ]
     },
     "execution_count": 21,
     "metadata": {},
     "output_type": "execute_result"
    }
   ],
   "source": [
    "model = DecisionTreeClassifier()\n",
    "model.fit(iris.data, iris.target)"
   ]
  },
  {
   "cell_type": "markdown",
   "metadata": {
    "id": "ESB60z8ZckQ5"
   },
   "source": [
    "##### 텍스트를 통한 시각화"
   ]
  },
  {
   "cell_type": "code",
   "execution_count": 22,
   "metadata": {
    "id": "WE8F0oQjzTSK"
   },
   "outputs": [
    {
     "name": "stdout",
     "output_type": "stream",
     "text": [
      "|--- petal width (cm) <= 0.80\n",
      "|   |--- class: 0\n",
      "|--- petal width (cm) >  0.80\n",
      "|   |--- petal width (cm) <= 1.75\n",
      "|   |   |--- petal length (cm) <= 4.95\n",
      "|   |   |   |--- petal width (cm) <= 1.65\n",
      "|   |   |   |   |--- class: 1\n",
      "|   |   |   |--- petal width (cm) >  1.65\n",
      "|   |   |   |   |--- class: 2\n",
      "|   |   |--- petal length (cm) >  4.95\n",
      "|   |   |   |--- petal width (cm) <= 1.55\n",
      "|   |   |   |   |--- class: 2\n",
      "|   |   |   |--- petal width (cm) >  1.55\n",
      "|   |   |   |   |--- sepal length (cm) <= 6.95\n",
      "|   |   |   |   |   |--- class: 1\n",
      "|   |   |   |   |--- sepal length (cm) >  6.95\n",
      "|   |   |   |   |   |--- class: 2\n",
      "|   |--- petal width (cm) >  1.75\n",
      "|   |   |--- petal length (cm) <= 4.85\n",
      "|   |   |   |--- sepal width (cm) <= 3.10\n",
      "|   |   |   |   |--- class: 2\n",
      "|   |   |   |--- sepal width (cm) >  3.10\n",
      "|   |   |   |   |--- class: 1\n",
      "|   |   |--- petal length (cm) >  4.85\n",
      "|   |   |   |--- class: 2\n",
      "\n"
     ]
    }
   ],
   "source": [
    "r = tree.export_text(decision_tree=model,\n",
    "                    feature_names=iris.feature_names)\n",
    "print(r)"
   ]
  },
  {
   "cell_type": "markdown",
   "metadata": {
    "id": "FL1M2O2ZcZn2"
   },
   "source": [
    "##### plot_tree를 사용한 시각화"
   ]
  },
  {
   "cell_type": "code",
   "execution_count": 23,
   "metadata": {
    "id": "Pvq9HEXQyEgu"
   },
   "outputs": [
    {
     "data": {
      "text/plain": [
       "[Text(167.4, 199.32, 'X[3] <= 0.8\\ngini = 0.667\\nsamples = 150\\nvalue = [50, 50, 50]'),\n",
       " Text(141.64615384615385, 163.07999999999998, 'gini = 0.0\\nsamples = 50\\nvalue = [50, 0, 0]'),\n",
       " Text(193.15384615384616, 163.07999999999998, 'X[3] <= 1.75\\ngini = 0.5\\nsamples = 100\\nvalue = [0, 50, 50]'),\n",
       " Text(103.01538461538462, 126.83999999999999, 'X[2] <= 4.95\\ngini = 0.168\\nsamples = 54\\nvalue = [0, 49, 5]'),\n",
       " Text(51.50769230769231, 90.6, 'X[3] <= 1.65\\ngini = 0.041\\nsamples = 48\\nvalue = [0, 47, 1]'),\n",
       " Text(25.753846153846155, 54.359999999999985, 'gini = 0.0\\nsamples = 47\\nvalue = [0, 47, 0]'),\n",
       " Text(77.26153846153846, 54.359999999999985, 'gini = 0.0\\nsamples = 1\\nvalue = [0, 0, 1]'),\n",
       " Text(154.52307692307693, 90.6, 'X[3] <= 1.55\\ngini = 0.444\\nsamples = 6\\nvalue = [0, 2, 4]'),\n",
       " Text(128.76923076923077, 54.359999999999985, 'gini = 0.0\\nsamples = 3\\nvalue = [0, 0, 3]'),\n",
       " Text(180.27692307692308, 54.359999999999985, 'X[0] <= 6.95\\ngini = 0.444\\nsamples = 3\\nvalue = [0, 2, 1]'),\n",
       " Text(154.52307692307693, 18.119999999999976, 'gini = 0.0\\nsamples = 2\\nvalue = [0, 2, 0]'),\n",
       " Text(206.03076923076924, 18.119999999999976, 'gini = 0.0\\nsamples = 1\\nvalue = [0, 0, 1]'),\n",
       " Text(283.2923076923077, 126.83999999999999, 'X[2] <= 4.85\\ngini = 0.043\\nsamples = 46\\nvalue = [0, 1, 45]'),\n",
       " Text(257.53846153846155, 90.6, 'X[1] <= 3.1\\ngini = 0.444\\nsamples = 3\\nvalue = [0, 1, 2]'),\n",
       " Text(231.7846153846154, 54.359999999999985, 'gini = 0.0\\nsamples = 2\\nvalue = [0, 0, 2]'),\n",
       " Text(283.2923076923077, 54.359999999999985, 'gini = 0.0\\nsamples = 1\\nvalue = [0, 1, 0]'),\n",
       " Text(309.04615384615386, 90.6, 'gini = 0.0\\nsamples = 43\\nvalue = [0, 0, 43]')]"
      ]
     },
     "execution_count": 23,
     "metadata": {},
     "output_type": "execute_result"
    },
    {
     "data": {
      "image/png": "[encoded data removed]",
      "text/plain": [
       "<Figure size 432x288 with 1 Axes>"
      ]
     },
     "metadata": {},
     "output_type": "display_data"
    }
   ],
   "source": [
    "tree.plot_tree(model)"
   ]
  },
  {
   "cell_type": "markdown",
   "metadata": {
    "id": "AROy5ZJZcf0Z"
   },
   "source": [
    "##### graphviz를 사용한 시각화"
   ]
  },
  {
   "cell_type": "code",
   "execution_count": 24,
   "metadata": {
    "id": "YORbOln-yYZB"
   },
   "outputs": [
    {
     "ename": "ExecutableNotFound",
     "evalue": "failed to execute 'dot', make sure the Graphviz executables are on your systems' PATH",
     "output_type": "error",
     "traceback": [
      "\u001b[1;31m---------------------------------------------------------------------------\u001b[0m",
      "\u001b[1;31mFileNotFoundError\u001b[0m                         Traceback (most recent call last)",
      "\u001b[1;32m~\\anaconda3\\lib\\site-packages\\graphviz\\backend.py\u001b[0m in \u001b[0;36mrun\u001b[1;34m(cmd, input, capture_output, check, encoding, quiet, **kwargs)\u001b[0m\n\u001b[0;32m    169\u001b[0m     \u001b[1;32mtry\u001b[0m\u001b[1;33m:\u001b[0m\u001b[1;33m\u001b[0m\u001b[1;33m\u001b[0m\u001b[0m\n\u001b[1;32m--> 170\u001b[1;33m         \u001b[0mproc\u001b[0m \u001b[1;33m=\u001b[0m \u001b[0msubprocess\u001b[0m\u001b[1;33m.\u001b[0m\u001b[0mPopen\u001b[0m\u001b[1;33m(\u001b[0m\u001b[0mcmd\u001b[0m\u001b[1;33m,\u001b[0m \u001b[0mstartupinfo\u001b[0m\u001b[1;33m=\u001b[0m\u001b[0mget_startupinfo\u001b[0m\u001b[1;33m(\u001b[0m\u001b[1;33m)\u001b[0m\u001b[1;33m,\u001b[0m \u001b[1;33m**\u001b[0m\u001b[0mkwargs\u001b[0m\u001b[1;33m)\u001b[0m\u001b[1;33m\u001b[0m\u001b[1;33m\u001b[0m\u001b[0m\n\u001b[0m\u001b[0;32m    171\u001b[0m     \u001b[1;32mexcept\u001b[0m \u001b[0mOSError\u001b[0m \u001b[1;32mas\u001b[0m \u001b[0me\u001b[0m\u001b[1;33m:\u001b[0m\u001b[1;33m\u001b[0m\u001b[1;33m\u001b[0m\u001b[0m\n",
      "\u001b[1;32m~\\anaconda3\\lib\\subprocess.py\u001b[0m in \u001b[0;36m__init__\u001b[1;34m(self, args, bufsize, executable, stdin, stdout, stderr, preexec_fn, close_fds, shell, cwd, env, universal_newlines, startupinfo, creationflags, restore_signals, start_new_session, pass_fds, encoding, errors, text)\u001b[0m\n\u001b[0;32m    857\u001b[0m \u001b[1;33m\u001b[0m\u001b[0m\n\u001b[1;32m--> 858\u001b[1;33m             self._execute_child(args, executable, preexec_fn, close_fds,\n\u001b[0m\u001b[0;32m    859\u001b[0m                                 \u001b[0mpass_fds\u001b[0m\u001b[1;33m,\u001b[0m \u001b[0mcwd\u001b[0m\u001b[1;33m,\u001b[0m \u001b[0menv\u001b[0m\u001b[1;33m,\u001b[0m\u001b[1;33m\u001b[0m\u001b[1;33m\u001b[0m\u001b[0m\n",
      "\u001b[1;32m~\\anaconda3\\lib\\subprocess.py\u001b[0m in \u001b[0;36m_execute_child\u001b[1;34m(self, args, executable, preexec_fn, close_fds, pass_fds, cwd, env, startupinfo, creationflags, shell, p2cread, p2cwrite, c2pread, c2pwrite, errread, errwrite, unused_restore_signals, unused_start_new_session)\u001b[0m\n\u001b[0;32m   1310\u001b[0m             \u001b[1;32mtry\u001b[0m\u001b[1;33m:\u001b[0m\u001b[1;33m\u001b[0m\u001b[1;33m\u001b[0m\u001b[0m\n\u001b[1;32m-> 1311\u001b[1;33m                 hp, ht, pid, tid = _winapi.CreateProcess(executable, args,\n\u001b[0m\u001b[0;32m   1312\u001b[0m                                          \u001b[1;31m# no special security\u001b[0m\u001b[1;33m\u001b[0m\u001b[1;33m\u001b[0m\u001b[1;33m\u001b[0m\u001b[0m\n",
      "\u001b[1;31mFileNotFoundError\u001b[0m: [WinError 2] 지정된 파일을 찾을 수 없습니다",
      "\nThe above exception was the direct cause of the following exception:\n",
      "\u001b[1;31mExecutableNotFound\u001b[0m                        Traceback (most recent call last)",
      "\u001b[1;32m~\\anaconda3\\lib\\site-packages\\IPython\\core\\formatters.py\u001b[0m in \u001b[0;36m__call__\u001b[1;34m(self, obj)\u001b[0m\n\u001b[0;32m    343\u001b[0m             \u001b[0mmethod\u001b[0m \u001b[1;33m=\u001b[0m \u001b[0mget_real_method\u001b[0m\u001b[1;33m(\u001b[0m\u001b[0mobj\u001b[0m\u001b[1;33m,\u001b[0m \u001b[0mself\u001b[0m\u001b[1;33m.\u001b[0m\u001b[0mprint_method\u001b[0m\u001b[1;33m)\u001b[0m\u001b[1;33m\u001b[0m\u001b[1;33m\u001b[0m\u001b[0m\n\u001b[0;32m    344\u001b[0m             \u001b[1;32mif\u001b[0m \u001b[0mmethod\u001b[0m \u001b[1;32mis\u001b[0m \u001b[1;32mnot\u001b[0m \u001b[1;32mNone\u001b[0m\u001b[1;33m:\u001b[0m\u001b[1;33m\u001b[0m\u001b[1;33m\u001b[0m\u001b[0m\n\u001b[1;32m--> 345\u001b[1;33m                 \u001b[1;32mreturn\u001b[0m \u001b[0mmethod\u001b[0m\u001b[1;33m(\u001b[0m\u001b[1;33m)\u001b[0m\u001b[1;33m\u001b[0m\u001b[1;33m\u001b[0m\u001b[0m\n\u001b[0m\u001b[0;32m    346\u001b[0m             \u001b[1;32mreturn\u001b[0m \u001b[1;32mNone\u001b[0m\u001b[1;33m\u001b[0m\u001b[1;33m\u001b[0m\u001b[0m\n\u001b[0;32m    347\u001b[0m         \u001b[1;32melse\u001b[0m\u001b[1;33m:\u001b[0m\u001b[1;33m\u001b[0m\u001b[1;33m\u001b[0m\u001b[0m\n",
      "\u001b[1;32m~\\anaconda3\\lib\\site-packages\\graphviz\\files.py\u001b[0m in \u001b[0;36m_repr_svg_\u001b[1;34m(self)\u001b[0m\n\u001b[0;32m    139\u001b[0m \u001b[1;33m\u001b[0m\u001b[0m\n\u001b[0;32m    140\u001b[0m     \u001b[1;32mdef\u001b[0m \u001b[0m_repr_svg_\u001b[0m\u001b[1;33m(\u001b[0m\u001b[0mself\u001b[0m\u001b[1;33m)\u001b[0m\u001b[1;33m:\u001b[0m\u001b[1;33m\u001b[0m\u001b[1;33m\u001b[0m\u001b[0m\n\u001b[1;32m--> 141\u001b[1;33m         \u001b[1;32mreturn\u001b[0m \u001b[0mself\u001b[0m\u001b[1;33m.\u001b[0m\u001b[0mpipe\u001b[0m\u001b[1;33m(\u001b[0m\u001b[0mformat\u001b[0m\u001b[1;33m=\u001b[0m\u001b[1;34m'svg'\u001b[0m\u001b[1;33m)\u001b[0m\u001b[1;33m.\u001b[0m\u001b[0mdecode\u001b[0m\u001b[1;33m(\u001b[0m\u001b[0mself\u001b[0m\u001b[1;33m.\u001b[0m\u001b[0m_encoding\u001b[0m\u001b[1;33m)\u001b[0m\u001b[1;33m\u001b[0m\u001b[1;33m\u001b[0m\u001b[0m\n\u001b[0m\u001b[0;32m    142\u001b[0m \u001b[1;33m\u001b[0m\u001b[0m\n\u001b[0;32m    143\u001b[0m     \u001b[1;32mdef\u001b[0m \u001b[0mpipe\u001b[0m\u001b[1;33m(\u001b[0m\u001b[0mself\u001b[0m\u001b[1;33m,\u001b[0m \u001b[0mformat\u001b[0m\u001b[1;33m=\u001b[0m\u001b[1;32mNone\u001b[0m\u001b[1;33m,\u001b[0m \u001b[0mrenderer\u001b[0m\u001b[1;33m=\u001b[0m\u001b[1;32mNone\u001b[0m\u001b[1;33m,\u001b[0m \u001b[0mformatter\u001b[0m\u001b[1;33m=\u001b[0m\u001b[1;32mNone\u001b[0m\u001b[1;33m,\u001b[0m \u001b[0mquiet\u001b[0m\u001b[1;33m=\u001b[0m\u001b[1;32mFalse\u001b[0m\u001b[1;33m)\u001b[0m\u001b[1;33m:\u001b[0m\u001b[1;33m\u001b[0m\u001b[1;33m\u001b[0m\u001b[0m\n",
      "\u001b[1;32m~\\anaconda3\\lib\\site-packages\\graphviz\\files.py\u001b[0m in \u001b[0;36mpipe\u001b[1;34m(self, format, renderer, formatter, quiet)\u001b[0m\n\u001b[0;32m    164\u001b[0m         \u001b[0mdata\u001b[0m \u001b[1;33m=\u001b[0m \u001b[0mself\u001b[0m\u001b[1;33m.\u001b[0m\u001b[0msource\u001b[0m\u001b[1;33m.\u001b[0m\u001b[0mencode\u001b[0m\u001b[1;33m(\u001b[0m\u001b[0mself\u001b[0m\u001b[1;33m.\u001b[0m\u001b[0m_encoding\u001b[0m\u001b[1;33m)\u001b[0m\u001b[1;33m\u001b[0m\u001b[1;33m\u001b[0m\u001b[0m\n\u001b[0;32m    165\u001b[0m \u001b[1;33m\u001b[0m\u001b[0m\n\u001b[1;32m--> 166\u001b[1;33m         out = backend.pipe(self._engine, format, data,\n\u001b[0m\u001b[0;32m    167\u001b[0m                            \u001b[0mrenderer\u001b[0m\u001b[1;33m=\u001b[0m\u001b[0mrenderer\u001b[0m\u001b[1;33m,\u001b[0m \u001b[0mformatter\u001b[0m\u001b[1;33m=\u001b[0m\u001b[0mformatter\u001b[0m\u001b[1;33m,\u001b[0m\u001b[1;33m\u001b[0m\u001b[1;33m\u001b[0m\u001b[0m\n\u001b[0;32m    168\u001b[0m                            quiet=quiet)\n",
      "\u001b[1;32m~\\anaconda3\\lib\\site-packages\\graphviz\\backend.py\u001b[0m in \u001b[0;36mpipe\u001b[1;34m(engine, format, data, renderer, formatter, quiet)\u001b[0m\n\u001b[0;32m    266\u001b[0m     \"\"\"\n\u001b[0;32m    267\u001b[0m     \u001b[0mcmd\u001b[0m\u001b[1;33m,\u001b[0m \u001b[0m_\u001b[0m \u001b[1;33m=\u001b[0m \u001b[0mcommand\u001b[0m\u001b[1;33m(\u001b[0m\u001b[0mengine\u001b[0m\u001b[1;33m,\u001b[0m \u001b[0mformat\u001b[0m\u001b[1;33m,\u001b[0m \u001b[1;32mNone\u001b[0m\u001b[1;33m,\u001b[0m \u001b[0mrenderer\u001b[0m\u001b[1;33m,\u001b[0m \u001b[0mformatter\u001b[0m\u001b[1;33m)\u001b[0m\u001b[1;33m\u001b[0m\u001b[1;33m\u001b[0m\u001b[0m\n\u001b[1;32m--> 268\u001b[1;33m     \u001b[0mout\u001b[0m\u001b[1;33m,\u001b[0m \u001b[0m_\u001b[0m \u001b[1;33m=\u001b[0m \u001b[0mrun\u001b[0m\u001b[1;33m(\u001b[0m\u001b[0mcmd\u001b[0m\u001b[1;33m,\u001b[0m \u001b[0minput\u001b[0m\u001b[1;33m=\u001b[0m\u001b[0mdata\u001b[0m\u001b[1;33m,\u001b[0m \u001b[0mcapture_output\u001b[0m\u001b[1;33m=\u001b[0m\u001b[1;32mTrue\u001b[0m\u001b[1;33m,\u001b[0m \u001b[0mcheck\u001b[0m\u001b[1;33m=\u001b[0m\u001b[1;32mTrue\u001b[0m\u001b[1;33m,\u001b[0m \u001b[0mquiet\u001b[0m\u001b[1;33m=\u001b[0m\u001b[0mquiet\u001b[0m\u001b[1;33m)\u001b[0m\u001b[1;33m\u001b[0m\u001b[1;33m\u001b[0m\u001b[0m\n\u001b[0m\u001b[0;32m    269\u001b[0m     \u001b[1;32mreturn\u001b[0m \u001b[0mout\u001b[0m\u001b[1;33m\u001b[0m\u001b[1;33m\u001b[0m\u001b[0m\n\u001b[0;32m    270\u001b[0m \u001b[1;33m\u001b[0m\u001b[0m\n",
      "\u001b[1;32m~\\anaconda3\\lib\\site-packages\\graphviz\\backend.py\u001b[0m in \u001b[0;36mrun\u001b[1;34m(cmd, input, capture_output, check, encoding, quiet, **kwargs)\u001b[0m\n\u001b[0;32m    171\u001b[0m     \u001b[1;32mexcept\u001b[0m \u001b[0mOSError\u001b[0m \u001b[1;32mas\u001b[0m \u001b[0me\u001b[0m\u001b[1;33m:\u001b[0m\u001b[1;33m\u001b[0m\u001b[1;33m\u001b[0m\u001b[0m\n\u001b[0;32m    172\u001b[0m         \u001b[1;32mif\u001b[0m \u001b[0me\u001b[0m\u001b[1;33m.\u001b[0m\u001b[0merrno\u001b[0m \u001b[1;33m==\u001b[0m \u001b[0merrno\u001b[0m\u001b[1;33m.\u001b[0m\u001b[0mENOENT\u001b[0m\u001b[1;33m:\u001b[0m\u001b[1;33m\u001b[0m\u001b[1;33m\u001b[0m\u001b[0m\n\u001b[1;32m--> 173\u001b[1;33m             \u001b[1;32mraise\u001b[0m \u001b[0mExecutableNotFound\u001b[0m\u001b[1;33m(\u001b[0m\u001b[0mcmd\u001b[0m\u001b[1;33m)\u001b[0m \u001b[1;32mfrom\u001b[0m \u001b[0me\u001b[0m\u001b[1;33m\u001b[0m\u001b[1;33m\u001b[0m\u001b[0m\n\u001b[0m\u001b[0;32m    174\u001b[0m         \u001b[1;32melse\u001b[0m\u001b[1;33m:\u001b[0m\u001b[1;33m\u001b[0m\u001b[1;33m\u001b[0m\u001b[0m\n\u001b[0;32m    175\u001b[0m             \u001b[1;32mraise\u001b[0m\u001b[1;33m\u001b[0m\u001b[1;33m\u001b[0m\u001b[0m\n",
      "\u001b[1;31mExecutableNotFound\u001b[0m: failed to execute 'dot', make sure the Graphviz executables are on your systems' PATH"
     ]
    },
    {
     "data": {
      "text/plain": [
       "<graphviz.files.Source at 0x21ef3624b50>"
      ]
     },
     "execution_count": 24,
     "metadata": {},
     "output_type": "execute_result"
    }
   ],
   "source": [
    "dot_data = tree.export_graphviz(decision_tree=model,\n",
    "                               feature_names=iris.feature_names,\n",
    "                               class_names=iris.target_names,\n",
    "                               filled=True, rounded=True,\n",
    "                               special_characters=True)\n",
    "graph = graphviz.Source(dot_data)\n",
    "graph"
   ]
  },
  {
   "cell_type": "markdown",
   "metadata": {
    "id": "5oBojyy9wxZ4"
   },
   "source": [
    "#### 시각화"
   ]
  },
  {
   "cell_type": "code",
   "execution_count": 25,
   "metadata": {
    "id": "YHlSKnLN3Lva"
   },
   "outputs": [],
   "source": [
    "n_classes = 3\n",
    "plot_colors = 'ryb'\n",
    "plot_step = 0.02"
   ]
  },
  {
   "cell_type": "markdown",
   "metadata": {
    "id": "JDfF8OOX2XkP"
   },
   "source": [
    "##### 결정 경계 시각화"
   ]
  },
  {
   "cell_type": "code",
   "execution_count": 26,
   "metadata": {
    "id": "Hy9nQO9s1D5M"
   },
   "outputs": [
    {
     "data": {
      "text/plain": [
       "(0.0, 7.88, -0.9, 3.4800000000000044)"
      ]
     },
     "execution_count": 26,
     "metadata": {},
     "output_type": "execute_result"
    },
    {
     "data": {
      "image/png": "[encoded data removed]",
      "text/plain": [
       "<Figure size 1152x576 with 6 Axes>"
      ]
     },
     "metadata": {},
     "output_type": "display_data"
    }
   ],
   "source": [
    "plt.figure(figsize=(16,8))\n",
    "\n",
    "for pairidx, pair in enumerate([[0, 1], [0, 2], [0, 3],\n",
    "                               [1, 2], [1, 3], [2, 3]]):\n",
    "    X = iris.data[:, pair]\n",
    "    y = iris.target\n",
    "    \n",
    "    model = DecisionTreeClassifier()\n",
    "    model = model.fit(X, y)\n",
    "    \n",
    "    plt.subplot(2, 3, pairidx + 1)\n",
    "    \n",
    "    x_min, x_max = X[:, 0].min()-1, X[:, 0].max()+1\n",
    "    y_min, y_max = X[:, 1].min()-1, X[:, 1].max()+1\n",
    "    xx, yy = np.meshgrid(np.arange(x_min, x_max, plot_step),\n",
    "                        np.arange(y_min, y_max, plot_step))\n",
    "    plt.tight_layout(h_pad=0.5, w_pad=0.5, pad=2.5)\n",
    "    \n",
    "    Z = model.predict(np.c_[xx.ravel(), yy.ravel()])\n",
    "    Z = Z.reshape(xx.shape)\n",
    "    cs = plt.contourf(xx, yy, Z, cmap=plt.cm.RdYlBu)\n",
    "    \n",
    "    plt.xlabel(iris.feature_names[pair[0]])\n",
    "    plt.ylabel(iris.feature_names[pair[1]])\n",
    "    \n",
    "    for i, color in zip(range(n_classes), plot_colors):\n",
    "        idx = np.where(y == i)\n",
    "        plt.scatter(X[idx, 0], X[idx, 1], c=color, label=iris.target_names[i],\n",
    "                   cmap=plt.cm.RdYlBu, edgecolors='b', s=15)\n",
    "\n",
    "plt.suptitle('Decision surface')\n",
    "plt.legend(loc='lower right', borderpad=0, handletextpad=0)\n",
    "plt.axis('tight')"
   ]
  },
  {
   "cell_type": "markdown",
   "metadata": {
    "id": "RIkiV_lm5eKu"
   },
   "source": [
    "##### 하이퍼파리미터를 변경해 보면서 결정 경계의 변화 확인"
   ]
  },
  {
   "cell_type": "code",
   "execution_count": 27,
   "metadata": {
    "id": "F97kaCJV1yQZ"
   },
   "outputs": [
    {
     "data": {
      "text/plain": [
       "(0.0, 7.88, -0.9, 3.4800000000000044)"
      ]
     },
     "execution_count": 27,
     "metadata": {},
     "output_type": "execute_result"
    },
    {
     "data": {
      "image/png": "[encoded data removed]",
      "text/plain": [
       "<Figure size 1152x576 with 6 Axes>"
      ]
     },
     "metadata": {},
     "output_type": "display_data"
    }
   ],
   "source": [
    "plt.figure(figsize=(16,8))\n",
    "\n",
    "for pairidx, pair in enumerate([[0, 1], [0, 2], [0, 3],\n",
    "                               [1, 2], [1, 3], [2, 3]]):\n",
    "    X = iris.data[:, pair]\n",
    "    y = iris.target\n",
    "    \n",
    "    model = DecisionTreeClassifier(max_depth=2)\n",
    "    model = model.fit(X, y)\n",
    "    \n",
    "    plt.subplot(2, 3, pairidx + 1)\n",
    "    \n",
    "    x_min, x_max = X[:, 0].min()-1, X[:, 0].max()+1\n",
    "    y_min, y_max = X[:, 1].min()-1, X[:, 1].max()+1\n",
    "    xx, yy = np.meshgrid(np.arange(x_min, x_max, plot_step),\n",
    "                        np.arange(y_min, y_max, plot_step))\n",
    "    plt.tight_layout(h_pad=0.5, w_pad=0.5, pad=2.5)\n",
    "    \n",
    "    Z = model.predict(np.c_[xx.ravel(), yy.ravel()])\n",
    "    Z = Z.reshape(xx.shape)\n",
    "    cs = plt.contourf(xx, yy, Z, cmap=plt.cm.RdYlBu)\n",
    "    \n",
    "    plt.xlabel(iris.feature_names[pair[0]])\n",
    "    plt.ylabel(iris.feature_names[pair[1]])\n",
    "    \n",
    "    for i, color in zip(range(n_classes), plot_colors):\n",
    "        idx = np.where(y == i)\n",
    "        plt.scatter(X[idx, 0], X[idx, 1], c=color, label=iris.target_names[i],\n",
    "                   cmap=plt.cm.RdYlBu, edgecolors='b', s=15)\n",
    "\n",
    "plt.suptitle('Decision surface')\n",
    "plt.legend(loc='lower right', borderpad=0, handletextpad=0)\n",
    "plt.axis('tight')"
   ]
  },
  {
   "cell_type": "markdown",
   "metadata": {
    "id": "gWjcDyF-uuOf"
   },
   "source": [
    "### 와인 데이터 학습"
   ]
  },
  {
   "cell_type": "markdown",
   "metadata": {
    "id": "NnO_P36HuyU9"
   },
   "source": [
    "#### 교차 검증"
   ]
  },
  {
   "cell_type": "markdown",
   "metadata": {
    "id": "VB1eyWcslWpr"
   },
   "source": [
    "##### 전처리 없이 학습"
   ]
  },
  {
   "cell_type": "code",
   "execution_count": 28,
   "metadata": {
    "id": "tYMA6_qhg5EM"
   },
   "outputs": [],
   "source": [
    "model = DecisionTreeClassifier()"
   ]
  },
  {
   "cell_type": "code",
   "execution_count": 29,
   "metadata": {
    "id": "SFFybhvChGlB"
   },
   "outputs": [
    {
     "data": {
      "text/plain": [
       "array([0.94444444, 0.77777778, 0.91666667, 0.91428571, 0.85714286])"
      ]
     },
     "execution_count": 29,
     "metadata": {},
     "output_type": "execute_result"
    }
   ],
   "source": [
    "cross_val_score(\n",
    "    estimator=model,\n",
    "    X=wine.data, y=wine.target,\n",
    "    cv=5,\n",
    "    n_jobs=multiprocessing.cpu_count()\n",
    "               )"
   ]
  },
  {
   "cell_type": "markdown",
   "metadata": {
    "id": "04yVAwpllbuW"
   },
   "source": [
    "##### 전처리 후 학습\n",
    "* 결정 트리는 규칙을 학습하기 때문에 전처리에 큰 영향을 받지 않는다."
   ]
  },
  {
   "cell_type": "code",
   "execution_count": 30,
   "metadata": {
    "id": "-qb7NpeKi5vi"
   },
   "outputs": [],
   "source": [
    "model = make_pipeline(\n",
    "    StandardScaler(),\n",
    "    DecisionTreeClassifier()\n",
    ")"
   ]
  },
  {
   "cell_type": "code",
   "execution_count": 31,
   "metadata": {
    "id": "1Gar4cXjjFzm"
   },
   "outputs": [
    {
     "data": {
      "text/plain": [
       "array([0.91666667, 0.80555556, 0.88888889, 0.91428571, 0.82857143])"
      ]
     },
     "execution_count": 31,
     "metadata": {},
     "output_type": "execute_result"
    }
   ],
   "source": [
    "cross_val_score(\n",
    "    estimator=model,\n",
    "    X=wine.data, y=wine.target,\n",
    "    cv=5,\n",
    "    n_jobs=multiprocessing.cpu_count()\n",
    ")"
   ]
  },
  {
   "cell_type": "markdown",
   "metadata": {
    "id": "mBDxGGoVyRnO"
   },
   "source": [
    "#### 학습된 결정 트리 시각화"
   ]
  },
  {
   "cell_type": "code",
   "execution_count": 32,
   "metadata": {
    "id": "jasfz-4UiQEF"
   },
   "outputs": [
    {
     "data": {
      "text/plain": [
       "DecisionTreeClassifier()"
      ]
     },
     "execution_count": 32,
     "metadata": {},
     "output_type": "execute_result"
    }
   ],
   "source": [
    "model = DecisionTreeClassifier()\n",
    "model.fit(wine.data, wine.target)"
   ]
  },
  {
   "cell_type": "markdown",
   "metadata": {
    "id": "ESB60z8ZckQ5"
   },
   "source": [
    "##### 텍스트를 통한 시각화"
   ]
  },
  {
   "cell_type": "code",
   "execution_count": 33,
   "metadata": {
    "id": "WE8F0oQjzTSK"
   },
   "outputs": [
    {
     "name": "stdout",
     "output_type": "stream",
     "text": [
      "|--- proline <= 755.00\n",
      "|   |--- od280/od315_of_diluted_wines <= 2.11\n",
      "|   |   |--- hue <= 0.94\n",
      "|   |   |   |--- flavanoids <= 1.58\n",
      "|   |   |   |   |--- class: 2\n",
      "|   |   |   |--- flavanoids >  1.58\n",
      "|   |   |   |   |--- class: 1\n",
      "|   |   |--- hue >  0.94\n",
      "|   |   |   |--- flavanoids <= 0.56\n",
      "|   |   |   |   |--- class: 2\n",
      "|   |   |   |--- flavanoids >  0.56\n",
      "|   |   |   |   |--- class: 1\n",
      "|   |--- od280/od315_of_diluted_wines >  2.11\n",
      "|   |   |--- flavanoids <= 0.80\n",
      "|   |   |   |--- class: 2\n",
      "|   |   |--- flavanoids >  0.80\n",
      "|   |   |   |--- alcohol <= 13.17\n",
      "|   |   |   |   |--- class: 1\n",
      "|   |   |   |--- alcohol >  13.17\n",
      "|   |   |   |   |--- color_intensity <= 4.06\n",
      "|   |   |   |   |   |--- class: 1\n",
      "|   |   |   |   |--- color_intensity >  4.06\n",
      "|   |   |   |   |   |--- class: 0\n",
      "|--- proline >  755.00\n",
      "|   |--- flavanoids <= 2.17\n",
      "|   |   |--- color_intensity <= 3.61\n",
      "|   |   |   |--- class: 1\n",
      "|   |   |--- color_intensity >  3.61\n",
      "|   |   |   |--- class: 2\n",
      "|   |--- flavanoids >  2.17\n",
      "|   |   |--- color_intensity <= 3.43\n",
      "|   |   |   |--- class: 1\n",
      "|   |   |--- color_intensity >  3.43\n",
      "|   |   |   |--- class: 0\n",
      "\n"
     ]
    }
   ],
   "source": [
    "r = tree.export_text(decision_tree=model,\n",
    "                    feature_names=wine.feature_names)\n",
    "print(r)"
   ]
  },
  {
   "cell_type": "markdown",
   "metadata": {
    "id": "FL1M2O2ZcZn2"
   },
   "source": [
    "##### plot_tree를 사용한 시각화"
   ]
  },
  {
   "cell_type": "code",
   "execution_count": 34,
   "metadata": {
    "id": "Pvq9HEXQyEgu"
   },
   "outputs": [
    {
     "data": {
      "text/plain": [
       "[Text(189.42631578947368, 199.32, 'X[12] <= 755.0\\ngini = 0.658\\nsamples = 178\\nvalue = [59, 71, 48]'),\n",
       " Text(114.53684210526316, 163.07999999999998, 'X[11] <= 2.115\\ngini = 0.492\\nsamples = 111\\nvalue = [2, 67, 42]'),\n",
       " Text(70.48421052631579, 126.83999999999999, 'X[10] <= 0.935\\ngini = 0.227\\nsamples = 46\\nvalue = [0, 6, 40]'),\n",
       " Text(35.242105263157896, 90.6, 'X[6] <= 1.58\\ngini = 0.049\\nsamples = 40\\nvalue = [0, 1, 39]'),\n",
       " Text(17.621052631578948, 54.359999999999985, 'gini = 0.0\\nsamples = 39\\nvalue = [0, 0, 39]'),\n",
       " Text(52.863157894736844, 54.359999999999985, 'gini = 0.0\\nsamples = 1\\nvalue = [0, 1, 0]'),\n",
       " Text(105.72631578947369, 90.6, 'X[6] <= 0.565\\ngini = 0.278\\nsamples = 6\\nvalue = [0, 5, 1]'),\n",
       " Text(88.10526315789474, 54.359999999999985, 'gini = 0.0\\nsamples = 1\\nvalue = [0, 0, 1]'),\n",
       " Text(123.34736842105264, 54.359999999999985, 'gini = 0.0\\nsamples = 5\\nvalue = [0, 5, 0]'),\n",
       " Text(158.58947368421053, 126.83999999999999, 'X[6] <= 0.795\\ngini = 0.117\\nsamples = 65\\nvalue = [2, 61, 2]'),\n",
       " Text(140.96842105263158, 90.6, 'gini = 0.0\\nsamples = 2\\nvalue = [0, 0, 2]'),\n",
       " Text(176.21052631578948, 90.6, 'X[0] <= 13.175\\ngini = 0.061\\nsamples = 63\\nvalue = [2, 61, 0]'),\n",
       " Text(158.58947368421053, 54.359999999999985, 'gini = 0.0\\nsamples = 58\\nvalue = [0, 58, 0]'),\n",
       " Text(193.83157894736843, 54.359999999999985, 'X[9] <= 4.06\\ngini = 0.48\\nsamples = 5\\nvalue = [2, 3, 0]'),\n",
       " Text(176.21052631578948, 18.119999999999976, 'gini = 0.0\\nsamples = 3\\nvalue = [0, 3, 0]'),\n",
       " Text(211.45263157894738, 18.119999999999976, 'gini = 0.0\\nsamples = 2\\nvalue = [2, 0, 0]'),\n",
       " Text(264.3157894736842, 163.07999999999998, 'X[6] <= 2.165\\ngini = 0.265\\nsamples = 67\\nvalue = [57, 4, 6]'),\n",
       " Text(229.07368421052632, 126.83999999999999, 'X[9] <= 3.605\\ngini = 0.375\\nsamples = 8\\nvalue = [0, 2, 6]'),\n",
       " Text(211.45263157894738, 90.6, 'gini = 0.0\\nsamples = 2\\nvalue = [0, 2, 0]'),\n",
       " Text(246.69473684210527, 90.6, 'gini = 0.0\\nsamples = 6\\nvalue = [0, 0, 6]'),\n",
       " Text(299.5578947368421, 126.83999999999999, 'X[9] <= 3.435\\ngini = 0.065\\nsamples = 59\\nvalue = [57, 2, 0]'),\n",
       " Text(281.93684210526317, 90.6, 'gini = 0.0\\nsamples = 2\\nvalue = [0, 2, 0]'),\n",
       " Text(317.17894736842106, 90.6, 'gini = 0.0\\nsamples = 57\\nvalue = [57, 0, 0]')]"
      ]
     },
     "execution_count": 34,
     "metadata": {},
     "output_type": "execute_result"
    },
    {
     "data": {
      "image/png": "[encoded data removed]",
      "text/plain": [
       "<Figure size 432x288 with 1 Axes>"
      ]
     },
     "metadata": {},
     "output_type": "display_data"
    }
   ],
   "source": [
    "tree.plot_tree(model)"
   ]
  },
  {
   "cell_type": "markdown",
   "metadata": {
    "id": "AROy5ZJZcf0Z"
   },
   "source": [
    "##### graphviz를 사용한 시각화"
   ]
  },
  {
   "cell_type": "code",
   "execution_count": 35,
   "metadata": {
    "id": "YORbOln-yYZB"
   },
   "outputs": [
    {
     "ename": "ExecutableNotFound",
     "evalue": "failed to execute 'dot', make sure the Graphviz executables are on your systems' PATH",
     "output_type": "error",
     "traceback": [
      "\u001b[1;31m---------------------------------------------------------------------------\u001b[0m",
      "\u001b[1;31mFileNotFoundError\u001b[0m                         Traceback (most recent call last)",
      "\u001b[1;32m~\\anaconda3\\lib\\site-packages\\graphviz\\backend.py\u001b[0m in \u001b[0;36mrun\u001b[1;34m(cmd, input, capture_output, check, encoding, quiet, **kwargs)\u001b[0m\n\u001b[0;32m    169\u001b[0m     \u001b[1;32mtry\u001b[0m\u001b[1;33m:\u001b[0m\u001b[1;33m\u001b[0m\u001b[1;33m\u001b[0m\u001b[0m\n\u001b[1;32m--> 170\u001b[1;33m         \u001b[0mproc\u001b[0m \u001b[1;33m=\u001b[0m \u001b[0msubprocess\u001b[0m\u001b[1;33m.\u001b[0m\u001b[0mPopen\u001b[0m\u001b[1;33m(\u001b[0m\u001b[0mcmd\u001b[0m\u001b[1;33m,\u001b[0m \u001b[0mstartupinfo\u001b[0m\u001b[1;33m=\u001b[0m\u001b[0mget_startupinfo\u001b[0m\u001b[1;33m(\u001b[0m\u001b[1;33m)\u001b[0m\u001b[1;33m,\u001b[0m \u001b[1;33m**\u001b[0m\u001b[0mkwargs\u001b[0m\u001b[1;33m)\u001b[0m\u001b[1;33m\u001b[0m\u001b[1;33m\u001b[0m\u001b[0m\n\u001b[0m\u001b[0;32m    171\u001b[0m     \u001b[1;32mexcept\u001b[0m \u001b[0mOSError\u001b[0m \u001b[1;32mas\u001b[0m \u001b[0me\u001b[0m\u001b[1;33m:\u001b[0m\u001b[1;33m\u001b[0m\u001b[1;33m\u001b[0m\u001b[0m\n",
      "\u001b[1;32m~\\anaconda3\\lib\\subprocess.py\u001b[0m in \u001b[0;36m__init__\u001b[1;34m(self, args, bufsize, executable, stdin, stdout, stderr, preexec_fn, close_fds, shell, cwd, env, universal_newlines, startupinfo, creationflags, restore_signals, start_new_session, pass_fds, encoding, errors, text)\u001b[0m\n\u001b[0;32m    857\u001b[0m \u001b[1;33m\u001b[0m\u001b[0m\n\u001b[1;32m--> 858\u001b[1;33m             self._execute_child(args, executable, preexec_fn, close_fds,\n\u001b[0m\u001b[0;32m    859\u001b[0m                                 \u001b[0mpass_fds\u001b[0m\u001b[1;33m,\u001b[0m \u001b[0mcwd\u001b[0m\u001b[1;33m,\u001b[0m \u001b[0menv\u001b[0m\u001b[1;33m,\u001b[0m\u001b[1;33m\u001b[0m\u001b[1;33m\u001b[0m\u001b[0m\n",
      "\u001b[1;32m~\\anaconda3\\lib\\subprocess.py\u001b[0m in \u001b[0;36m_execute_child\u001b[1;34m(self, args, executable, preexec_fn, close_fds, pass_fds, cwd, env, startupinfo, creationflags, shell, p2cread, p2cwrite, c2pread, c2pwrite, errread, errwrite, unused_restore_signals, unused_start_new_session)\u001b[0m\n\u001b[0;32m   1310\u001b[0m             \u001b[1;32mtry\u001b[0m\u001b[1;33m:\u001b[0m\u001b[1;33m\u001b[0m\u001b[1;33m\u001b[0m\u001b[0m\n\u001b[1;32m-> 1311\u001b[1;33m                 hp, ht, pid, tid = _winapi.CreateProcess(executable, args,\n\u001b[0m\u001b[0;32m   1312\u001b[0m                                          \u001b[1;31m# no special security\u001b[0m\u001b[1;33m\u001b[0m\u001b[1;33m\u001b[0m\u001b[1;33m\u001b[0m\u001b[0m\n",
      "\u001b[1;31mFileNotFoundError\u001b[0m: [WinError 2] 지정된 파일을 찾을 수 없습니다",
      "\nThe above exception was the direct cause of the following exception:\n",
      "\u001b[1;31mExecutableNotFound\u001b[0m                        Traceback (most recent call last)",
      "\u001b[1;32m~\\anaconda3\\lib\\site-packages\\IPython\\core\\formatters.py\u001b[0m in \u001b[0;36m__call__\u001b[1;34m(self, obj)\u001b[0m\n\u001b[0;32m    343\u001b[0m             \u001b[0mmethod\u001b[0m \u001b[1;33m=\u001b[0m \u001b[0mget_real_method\u001b[0m\u001b[1;33m(\u001b[0m\u001b[0mobj\u001b[0m\u001b[1;33m,\u001b[0m \u001b[0mself\u001b[0m\u001b[1;33m.\u001b[0m\u001b[0mprint_method\u001b[0m\u001b[1;33m)\u001b[0m\u001b[1;33m\u001b[0m\u001b[1;33m\u001b[0m\u001b[0m\n\u001b[0;32m    344\u001b[0m             \u001b[1;32mif\u001b[0m \u001b[0mmethod\u001b[0m \u001b[1;32mis\u001b[0m \u001b[1;32mnot\u001b[0m \u001b[1;32mNone\u001b[0m\u001b[1;33m:\u001b[0m\u001b[1;33m\u001b[0m\u001b[1;33m\u001b[0m\u001b[0m\n\u001b[1;32m--> 345\u001b[1;33m                 \u001b[1;32mreturn\u001b[0m \u001b[0mmethod\u001b[0m\u001b[1;33m(\u001b[0m\u001b[1;33m)\u001b[0m\u001b[1;33m\u001b[0m\u001b[1;33m\u001b[0m\u001b[0m\n\u001b[0m\u001b[0;32m    346\u001b[0m             \u001b[1;32mreturn\u001b[0m \u001b[1;32mNone\u001b[0m\u001b[1;33m\u001b[0m\u001b[1;33m\u001b[0m\u001b[0m\n\u001b[0;32m    347\u001b[0m         \u001b[1;32melse\u001b[0m\u001b[1;33m:\u001b[0m\u001b[1;33m\u001b[0m\u001b[1;33m\u001b[0m\u001b[0m\n",
      "\u001b[1;32m~\\anaconda3\\lib\\site-packages\\graphviz\\files.py\u001b[0m in \u001b[0;36m_repr_svg_\u001b[1;34m(self)\u001b[0m\n\u001b[0;32m    139\u001b[0m \u001b[1;33m\u001b[0m\u001b[0m\n\u001b[0;32m    140\u001b[0m     \u001b[1;32mdef\u001b[0m \u001b[0m_repr_svg_\u001b[0m\u001b[1;33m(\u001b[0m\u001b[0mself\u001b[0m\u001b[1;33m)\u001b[0m\u001b[1;33m:\u001b[0m\u001b[1;33m\u001b[0m\u001b[1;33m\u001b[0m\u001b[0m\n\u001b[1;32m--> 141\u001b[1;33m         \u001b[1;32mreturn\u001b[0m \u001b[0mself\u001b[0m\u001b[1;33m.\u001b[0m\u001b[0mpipe\u001b[0m\u001b[1;33m(\u001b[0m\u001b[0mformat\u001b[0m\u001b[1;33m=\u001b[0m\u001b[1;34m'svg'\u001b[0m\u001b[1;33m)\u001b[0m\u001b[1;33m.\u001b[0m\u001b[0mdecode\u001b[0m\u001b[1;33m(\u001b[0m\u001b[0mself\u001b[0m\u001b[1;33m.\u001b[0m\u001b[0m_encoding\u001b[0m\u001b[1;33m)\u001b[0m\u001b[1;33m\u001b[0m\u001b[1;33m\u001b[0m\u001b[0m\n\u001b[0m\u001b[0;32m    142\u001b[0m \u001b[1;33m\u001b[0m\u001b[0m\n\u001b[0;32m    143\u001b[0m     \u001b[1;32mdef\u001b[0m \u001b[0mpipe\u001b[0m\u001b[1;33m(\u001b[0m\u001b[0mself\u001b[0m\u001b[1;33m,\u001b[0m \u001b[0mformat\u001b[0m\u001b[1;33m=\u001b[0m\u001b[1;32mNone\u001b[0m\u001b[1;33m,\u001b[0m \u001b[0mrenderer\u001b[0m\u001b[1;33m=\u001b[0m\u001b[1;32mNone\u001b[0m\u001b[1;33m,\u001b[0m \u001b[0mformatter\u001b[0m\u001b[1;33m=\u001b[0m\u001b[1;32mNone\u001b[0m\u001b[1;33m,\u001b[0m \u001b[0mquiet\u001b[0m\u001b[1;33m=\u001b[0m\u001b[1;32mFalse\u001b[0m\u001b[1;33m)\u001b[0m\u001b[1;33m:\u001b[0m\u001b[1;33m\u001b[0m\u001b[1;33m\u001b[0m\u001b[0m\n",
      "\u001b[1;32m~\\anaconda3\\lib\\site-packages\\graphviz\\files.py\u001b[0m in \u001b[0;36mpipe\u001b[1;34m(self, format, renderer, formatter, quiet)\u001b[0m\n\u001b[0;32m    164\u001b[0m         \u001b[0mdata\u001b[0m \u001b[1;33m=\u001b[0m \u001b[0mself\u001b[0m\u001b[1;33m.\u001b[0m\u001b[0msource\u001b[0m\u001b[1;33m.\u001b[0m\u001b[0mencode\u001b[0m\u001b[1;33m(\u001b[0m\u001b[0mself\u001b[0m\u001b[1;33m.\u001b[0m\u001b[0m_encoding\u001b[0m\u001b[1;33m)\u001b[0m\u001b[1;33m\u001b[0m\u001b[1;33m\u001b[0m\u001b[0m\n\u001b[0;32m    165\u001b[0m \u001b[1;33m\u001b[0m\u001b[0m\n\u001b[1;32m--> 166\u001b[1;33m         out = backend.pipe(self._engine, format, data,\n\u001b[0m\u001b[0;32m    167\u001b[0m                            \u001b[0mrenderer\u001b[0m\u001b[1;33m=\u001b[0m\u001b[0mrenderer\u001b[0m\u001b[1;33m,\u001b[0m \u001b[0mformatter\u001b[0m\u001b[1;33m=\u001b[0m\u001b[0mformatter\u001b[0m\u001b[1;33m,\u001b[0m\u001b[1;33m\u001b[0m\u001b[1;33m\u001b[0m\u001b[0m\n\u001b[0;32m    168\u001b[0m                            quiet=quiet)\n",
      "\u001b[1;32m~\\anaconda3\\lib\\site-packages\\graphviz\\backend.py\u001b[0m in \u001b[0;36mpipe\u001b[1;34m(engine, format, data, renderer, formatter, quiet)\u001b[0m\n\u001b[0;32m    266\u001b[0m     \"\"\"\n\u001b[0;32m    267\u001b[0m     \u001b[0mcmd\u001b[0m\u001b[1;33m,\u001b[0m \u001b[0m_\u001b[0m \u001b[1;33m=\u001b[0m \u001b[0mcommand\u001b[0m\u001b[1;33m(\u001b[0m\u001b[0mengine\u001b[0m\u001b[1;33m,\u001b[0m \u001b[0mformat\u001b[0m\u001b[1;33m,\u001b[0m \u001b[1;32mNone\u001b[0m\u001b[1;33m,\u001b[0m \u001b[0mrenderer\u001b[0m\u001b[1;33m,\u001b[0m \u001b[0mformatter\u001b[0m\u001b[1;33m)\u001b[0m\u001b[1;33m\u001b[0m\u001b[1;33m\u001b[0m\u001b[0m\n\u001b[1;32m--> 268\u001b[1;33m     \u001b[0mout\u001b[0m\u001b[1;33m,\u001b[0m \u001b[0m_\u001b[0m \u001b[1;33m=\u001b[0m \u001b[0mrun\u001b[0m\u001b[1;33m(\u001b[0m\u001b[0mcmd\u001b[0m\u001b[1;33m,\u001b[0m \u001b[0minput\u001b[0m\u001b[1;33m=\u001b[0m\u001b[0mdata\u001b[0m\u001b[1;33m,\u001b[0m \u001b[0mcapture_output\u001b[0m\u001b[1;33m=\u001b[0m\u001b[1;32mTrue\u001b[0m\u001b[1;33m,\u001b[0m \u001b[0mcheck\u001b[0m\u001b[1;33m=\u001b[0m\u001b[1;32mTrue\u001b[0m\u001b[1;33m,\u001b[0m \u001b[0mquiet\u001b[0m\u001b[1;33m=\u001b[0m\u001b[0mquiet\u001b[0m\u001b[1;33m)\u001b[0m\u001b[1;33m\u001b[0m\u001b[1;33m\u001b[0m\u001b[0m\n\u001b[0m\u001b[0;32m    269\u001b[0m     \u001b[1;32mreturn\u001b[0m \u001b[0mout\u001b[0m\u001b[1;33m\u001b[0m\u001b[1;33m\u001b[0m\u001b[0m\n\u001b[0;32m    270\u001b[0m \u001b[1;33m\u001b[0m\u001b[0m\n",
      "\u001b[1;32m~\\anaconda3\\lib\\site-packages\\graphviz\\backend.py\u001b[0m in \u001b[0;36mrun\u001b[1;34m(cmd, input, capture_output, check, encoding, quiet, **kwargs)\u001b[0m\n\u001b[0;32m    171\u001b[0m     \u001b[1;32mexcept\u001b[0m \u001b[0mOSError\u001b[0m \u001b[1;32mas\u001b[0m \u001b[0me\u001b[0m\u001b[1;33m:\u001b[0m\u001b[1;33m\u001b[0m\u001b[1;33m\u001b[0m\u001b[0m\n\u001b[0;32m    172\u001b[0m         \u001b[1;32mif\u001b[0m \u001b[0me\u001b[0m\u001b[1;33m.\u001b[0m\u001b[0merrno\u001b[0m \u001b[1;33m==\u001b[0m \u001b[0merrno\u001b[0m\u001b[1;33m.\u001b[0m\u001b[0mENOENT\u001b[0m\u001b[1;33m:\u001b[0m\u001b[1;33m\u001b[0m\u001b[1;33m\u001b[0m\u001b[0m\n\u001b[1;32m--> 173\u001b[1;33m             \u001b[1;32mraise\u001b[0m \u001b[0mExecutableNotFound\u001b[0m\u001b[1;33m(\u001b[0m\u001b[0mcmd\u001b[0m\u001b[1;33m)\u001b[0m \u001b[1;32mfrom\u001b[0m \u001b[0me\u001b[0m\u001b[1;33m\u001b[0m\u001b[1;33m\u001b[0m\u001b[0m\n\u001b[0m\u001b[0;32m    174\u001b[0m         \u001b[1;32melse\u001b[0m\u001b[1;33m:\u001b[0m\u001b[1;33m\u001b[0m\u001b[1;33m\u001b[0m\u001b[0m\n\u001b[0;32m    175\u001b[0m             \u001b[1;32mraise\u001b[0m\u001b[1;33m\u001b[0m\u001b[1;33m\u001b[0m\u001b[0m\n",
      "\u001b[1;31mExecutableNotFound\u001b[0m: failed to execute 'dot', make sure the Graphviz executables are on your systems' PATH"
     ]
    },
    {
     "data": {
      "text/plain": [
       "<graphviz.files.Source at 0x21ef5ba81c0>"
      ]
     },
     "execution_count": 35,
     "metadata": {},
     "output_type": "execute_result"
    }
   ],
   "source": [
    "dot_data = tree.export_graphviz(decision_tree=model,\n",
    "                               feature_names=wine.feature_names,\n",
    "                               class_names=wine.target_names,\n",
    "                               filled=True, rounded=True,\n",
    "                               special_characters=True)\n",
    "graph = graphviz.Source(dot_data)\n",
    "graph"
   ]
  },
  {
   "cell_type": "markdown",
   "metadata": {
    "id": "5oBojyy9wxZ4"
   },
   "source": [
    "#### 시각화"
   ]
  },
  {
   "cell_type": "code",
   "execution_count": 36,
   "metadata": {
    "id": "YHlSKnLN3Lva"
   },
   "outputs": [],
   "source": [
    "n_classes = 3\n",
    "plot_colors = 'ryb'\n",
    "plot_step = 0.02"
   ]
  },
  {
   "cell_type": "markdown",
   "metadata": {
    "id": "JDfF8OOX2XkP"
   },
   "source": [
    "##### 결정 경계 시각화"
   ]
  },
  {
   "cell_type": "code",
   "execution_count": 37,
   "metadata": {
    "id": "Hy9nQO9s1D5M"
   },
   "outputs": [
    {
     "data": {
      "text/plain": [
       "(0.3600000000000001, 4.220000000000003, 9.6, 30.979999999999542)"
      ]
     },
     "execution_count": 37,
     "metadata": {},
     "output_type": "execute_result"
    },
    {
     "data": {
      "image/png": "[encoded data removed]",
      "text/plain": [
       "<Figure size 1152x576 with 6 Axes>"
      ]
     },
     "metadata": {},
     "output_type": "display_data"
    }
   ],
   "source": [
    "plt.figure(figsize=(16,8))\n",
    "\n",
    "for pairidx, pair in enumerate([[0, 1], [0, 2], [0, 3],\n",
    "                               [1, 2], [1, 3], [2, 3]]):\n",
    "    X = wine.data[:, pair]\n",
    "    y = wine.target\n",
    "    \n",
    "    model = DecisionTreeClassifier()\n",
    "    model = model.fit(X, y)\n",
    "    \n",
    "    plt.subplot(2, 3, pairidx + 1)\n",
    "    \n",
    "    x_min, x_max = X[:, 0].min()-1, X[:, 0].max()+1\n",
    "    y_min, y_max = X[:, 1].min()-1, X[:, 1].max()+1\n",
    "    xx, yy = np.meshgrid(np.arange(x_min, x_max, plot_step),\n",
    "                        np.arange(y_min, y_max, plot_step))\n",
    "    plt.tight_layout(h_pad=0.5, w_pad=0.5, pad=2.5)\n",
    "    \n",
    "    Z = model.predict(np.c_[xx.ravel(), yy.ravel()])\n",
    "    Z = Z.reshape(xx.shape)\n",
    "    cs = plt.contourf(xx, yy, Z, cmap=plt.cm.RdYlBu)\n",
    "    \n",
    "    plt.xlabel(wine.feature_names[pair[0]])\n",
    "    plt.ylabel(wine.feature_names[pair[1]])\n",
    "    \n",
    "    for i, color in zip(range(n_classes), plot_colors):\n",
    "        idx = np.where(y == i)\n",
    "        plt.scatter(X[idx, 0], X[idx, 1], c=color, label=wine.target_names[i],\n",
    "                   cmap=plt.cm.RdYlBu, edgecolors='b', s=15)\n",
    "\n",
    "plt.suptitle('Decision surface')\n",
    "plt.legend(loc='lower right', borderpad=0, handletextpad=0)\n",
    "plt.axis('tight')"
   ]
  },
  {
   "cell_type": "markdown",
   "metadata": {
    "id": "RIkiV_lm5eKu"
   },
   "source": [
    "##### 하이퍼파리미터를 변경해 보면서 결정 경계의 변화 확인"
   ]
  },
  {
   "cell_type": "code",
   "execution_count": 38,
   "metadata": {
    "id": "F97kaCJV1yQZ"
   },
   "outputs": [
    {
     "data": {
      "text/plain": [
       "(0.3600000000000001, 4.220000000000003, 9.6, 30.979999999999542)"
      ]
     },
     "execution_count": 38,
     "metadata": {},
     "output_type": "execute_result"
    },
    {
     "data": {
      "image/png": "[encoded data removed]",
      "text/plain": [
       "<Figure size 1152x576 with 6 Axes>"
      ]
     },
     "metadata": {},
     "output_type": "display_data"
    }
   ],
   "source": [
    "plt.figure(figsize=(16,8))\n",
    "\n",
    "for pairidx, pair in enumerate([[0, 1], [0, 2], [0, 3],\n",
    "                               [1, 2], [1, 3], [2, 3]]):\n",
    "    X = wine.data[:, pair]\n",
    "    y = wine.target\n",
    "    \n",
    "    model = DecisionTreeClassifier(max_depth=2)\n",
    "    model = model.fit(X, y)\n",
    "    \n",
    "    plt.subplot(2, 3, pairidx + 1)\n",
    "    \n",
    "    x_min, x_max = X[:, 0].min()-1, X[:, 0].max()+1\n",
    "    y_min, y_max = X[:, 1].min()-1, X[:, 1].max()+1\n",
    "    xx, yy = np.meshgrid(np.arange(x_min, x_max, plot_step),\n",
    "                        np.arange(y_min, y_max, plot_step))\n",
    "    plt.tight_layout(h_pad=0.5, w_pad=0.5, pad=2.5)\n",
    "    \n",
    "    Z = model.predict(np.c_[xx.ravel(), yy.ravel()])\n",
    "    Z = Z.reshape(xx.shape)\n",
    "    cs = plt.contourf(xx, yy, Z, cmap=plt.cm.RdYlBu)\n",
    "    \n",
    "    plt.xlabel(wine.feature_names[pair[0]])\n",
    "    plt.ylabel(wine.feature_names[pair[1]])\n",
    "    \n",
    "    for i, color in zip(range(n_classes), plot_colors):\n",
    "        idx = np.where(y == i)\n",
    "        plt.scatter(X[idx, 0], X[idx, 1], c=color, label=wine.target_names[i],\n",
    "                   cmap=plt.cm.RdYlBu, edgecolors='b', s=15)\n",
    "\n",
    "plt.suptitle('Decision surface')\n",
    "plt.legend(loc='lower right', borderpad=0, handletextpad=0)\n",
    "plt.axis('tight')"
   ]
  },
  {
   "cell_type": "markdown",
   "metadata": {
    "id": "ekUCUhanvlhs"
   },
   "source": [
    "##### 전처리 없이 학습"
   ]
  },
  {
   "cell_type": "code",
   "execution_count": null,
   "metadata": {
    "id": "z74Ov-kVvf-b"
   },
   "outputs": [],
   "source": []
  },
  {
   "cell_type": "code",
   "execution_count": null,
   "metadata": {
    "id": "wQwLy-rGvoEg"
   },
   "outputs": [],
   "source": []
  },
  {
   "cell_type": "markdown",
   "metadata": {
    "id": "iqaeZ9szvxbi"
   },
   "source": [
    "##### 전처리 후 학습"
   ]
  },
  {
   "cell_type": "code",
   "execution_count": null,
   "metadata": {
    "id": "2VymgUWZv0JS"
   },
   "outputs": [],
   "source": []
  },
  {
   "cell_type": "code",
   "execution_count": null,
   "metadata": {
    "id": "w555gJvLv195"
   },
   "outputs": [],
   "source": []
  },
  {
   "cell_type": "markdown",
   "metadata": {
    "id": "Wg3vEchTu1G_"
   },
   "source": [
    "#### 학습된 결정 트리 시각화"
   ]
  },
  {
   "cell_type": "code",
   "execution_count": null,
   "metadata": {
    "id": "u1zgjL8OwMdl"
   },
   "outputs": [],
   "source": []
  },
  {
   "cell_type": "markdown",
   "metadata": {
    "id": "0BQEXGQywJf2"
   },
   "source": [
    "##### 텍스트를 통한 시각화"
   ]
  },
  {
   "cell_type": "code",
   "execution_count": null,
   "metadata": {
    "id": "T3TrGtd_weG2"
   },
   "outputs": [],
   "source": []
  },
  {
   "cell_type": "markdown",
   "metadata": {
    "id": "AMxRRbwMwEOb"
   },
   "source": [
    "##### plot_tree를 사용한 시각화"
   ]
  },
  {
   "cell_type": "code",
   "execution_count": null,
   "metadata": {
    "id": "0HsfQU1gwUR6"
   },
   "outputs": [],
   "source": []
  },
  {
   "cell_type": "markdown",
   "metadata": {
    "id": "CINtdIuuwG-Q"
   },
   "source": [
    "##### graphviz를 사용한 시각화"
   ]
  },
  {
   "cell_type": "code",
   "execution_count": null,
   "metadata": {
    "id": "H-gF0vb6wWs5"
   },
   "outputs": [],
   "source": []
  },
  {
   "cell_type": "markdown",
   "metadata": {
    "id": "m2FQuyUJw7RM"
   },
   "source": [
    "#### 시각화"
   ]
  },
  {
   "cell_type": "code",
   "execution_count": null,
   "metadata": {
    "id": "Sddsudldw8sj"
   },
   "outputs": [],
   "source": []
  },
  {
   "cell_type": "markdown",
   "metadata": {
    "id": "nIv0041tu3MD"
   },
   "source": [
    "##### 결정 경계 시각화"
   ]
  },
  {
   "cell_type": "code",
   "execution_count": null,
   "metadata": {
    "id": "0CPefKSIxB7f"
   },
   "outputs": [],
   "source": []
  },
  {
   "cell_type": "markdown",
   "metadata": {
    "id": "Kc5T4Bhru5cd"
   },
   "source": [
    "##### 하이퍼파리미터를 변경해 보면서 결정 경계의 변화 확인"
   ]
  },
  {
   "cell_type": "code",
   "execution_count": null,
   "metadata": {
    "id": "3QK4mgIaxchX"
   },
   "outputs": [],
   "source": []
  },
  {
   "cell_type": "markdown",
   "metadata": {
    "id": "m0_mrHabjfUk"
   },
   "source": [
    "### 유방암 데이터 학습"
   ]
  },
  {
   "cell_type": "markdown",
   "metadata": {
    "id": "PgT-Bd4Njk2Y"
   },
   "source": [
    "#### 교차 검증"
   ]
  },
  {
   "cell_type": "markdown",
   "metadata": {
    "id": "VB1eyWcslWpr"
   },
   "source": [
    "##### 전처리 없이 학습"
   ]
  },
  {
   "cell_type": "code",
   "execution_count": 39,
   "metadata": {
    "id": "tYMA6_qhg5EM"
   },
   "outputs": [],
   "source": [
    "model = DecisionTreeClassifier()"
   ]
  },
  {
   "cell_type": "code",
   "execution_count": 40,
   "metadata": {
    "id": "SFFybhvChGlB"
   },
   "outputs": [
    {
     "data": {
      "text/plain": [
       "array([0.9122807 , 0.9122807 , 0.92982456, 0.92982456, 0.89380531])"
      ]
     },
     "execution_count": 40,
     "metadata": {},
     "output_type": "execute_result"
    }
   ],
   "source": [
    "cross_val_score(\n",
    "    estimator=model,\n",
    "    X=cancer.data, y=cancer.target,\n",
    "    cv=5,\n",
    "    n_jobs=multiprocessing.cpu_count()\n",
    "               )"
   ]
  },
  {
   "cell_type": "markdown",
   "metadata": {
    "id": "04yVAwpllbuW"
   },
   "source": [
    "##### 전처리 후 학습\n",
    "* 결정 트리는 규칙을 학습하기 때문에 전처리에 큰 영향을 받지 않는다."
   ]
  },
  {
   "cell_type": "code",
   "execution_count": 41,
   "metadata": {
    "id": "-qb7NpeKi5vi"
   },
   "outputs": [],
   "source": [
    "model = make_pipeline(\n",
    "    StandardScaler(),\n",
    "    DecisionTreeClassifier()\n",
    ")"
   ]
  },
  {
   "cell_type": "code",
   "execution_count": 42,
   "metadata": {
    "id": "1Gar4cXjjFzm"
   },
   "outputs": [
    {
     "data": {
      "text/plain": [
       "array([0.9122807 , 0.90350877, 0.92105263, 0.96491228, 0.88495575])"
      ]
     },
     "execution_count": 42,
     "metadata": {},
     "output_type": "execute_result"
    }
   ],
   "source": [
    "cross_val_score(\n",
    "    estimator=model,\n",
    "    X=cancer.data, y=cancer.target,\n",
    "    cv=5,\n",
    "    n_jobs=multiprocessing.cpu_count()\n",
    ")"
   ]
  },
  {
   "cell_type": "markdown",
   "metadata": {
    "id": "mBDxGGoVyRnO"
   },
   "source": [
    "#### 학습된 결정 트리 시각화"
   ]
  },
  {
   "cell_type": "code",
   "execution_count": 43,
   "metadata": {
    "id": "jasfz-4UiQEF"
   },
   "outputs": [
    {
     "data": {
      "text/plain": [
       "DecisionTreeClassifier()"
      ]
     },
     "execution_count": 43,
     "metadata": {},
     "output_type": "execute_result"
    }
   ],
   "source": [
    "model = DecisionTreeClassifier()\n",
    "model.fit(cancer.data, cancer.target)"
   ]
  },
  {
   "cell_type": "markdown",
   "metadata": {
    "id": "ESB60z8ZckQ5"
   },
   "source": [
    "##### 텍스트를 통한 시각화"
   ]
  },
  {
   "cell_type": "code",
   "execution_count": 44,
   "metadata": {
    "id": "WE8F0oQjzTSK"
   },
   "outputs": [
    {
     "name": "stdout",
     "output_type": "stream",
     "text": [
      "|--- feature_20 <= 16.80\n",
      "|   |--- feature_27 <= 0.14\n",
      "|   |   |--- feature_28 <= 0.16\n",
      "|   |   |   |--- class: 0\n",
      "|   |   |--- feature_28 >  0.16\n",
      "|   |   |   |--- feature_13 <= 38.60\n",
      "|   |   |   |   |--- feature_14 <= 0.00\n",
      "|   |   |   |   |   |--- feature_21 <= 27.76\n",
      "|   |   |   |   |   |   |--- class: 1\n",
      "|   |   |   |   |   |--- feature_21 >  27.76\n",
      "|   |   |   |   |   |   |--- class: 0\n",
      "|   |   |   |   |--- feature_14 >  0.00\n",
      "|   |   |   |   |   |--- feature_21 <= 33.27\n",
      "|   |   |   |   |   |   |--- class: 1\n",
      "|   |   |   |   |   |--- feature_21 >  33.27\n",
      "|   |   |   |   |   |   |--- feature_21 <= 33.56\n",
      "|   |   |   |   |   |   |   |--- class: 0\n",
      "|   |   |   |   |   |   |--- feature_21 >  33.56\n",
      "|   |   |   |   |   |   |   |--- class: 1\n",
      "|   |   |   |--- feature_13 >  38.60\n",
      "|   |   |   |   |--- feature_18 <= 0.02\n",
      "|   |   |   |   |   |--- class: 0\n",
      "|   |   |   |   |--- feature_18 >  0.02\n",
      "|   |   |   |   |   |--- feature_10 <= 0.42\n",
      "|   |   |   |   |   |   |--- class: 0\n",
      "|   |   |   |   |   |--- feature_10 >  0.42\n",
      "|   |   |   |   |   |   |--- class: 1\n",
      "|   |--- feature_27 >  0.14\n",
      "|   |   |--- feature_21 <= 25.67\n",
      "|   |   |   |--- feature_23 <= 810.30\n",
      "|   |   |   |   |--- feature_4 <= 0.12\n",
      "|   |   |   |   |   |--- class: 1\n",
      "|   |   |   |   |--- feature_4 >  0.12\n",
      "|   |   |   |   |   |--- class: 0\n",
      "|   |   |   |--- feature_23 >  810.30\n",
      "|   |   |   |   |--- feature_20 <= 16.62\n",
      "|   |   |   |   |   |--- class: 0\n",
      "|   |   |   |   |--- feature_20 >  16.62\n",
      "|   |   |   |   |   |--- class: 1\n",
      "|   |   |--- feature_21 >  25.67\n",
      "|   |   |   |--- feature_6 <= 0.10\n",
      "|   |   |   |   |--- feature_1 <= 19.44\n",
      "|   |   |   |   |   |--- class: 1\n",
      "|   |   |   |   |--- feature_1 >  19.44\n",
      "|   |   |   |   |   |--- class: 0\n",
      "|   |   |   |--- feature_6 >  0.10\n",
      "|   |   |   |   |--- class: 0\n",
      "|--- feature_20 >  16.80\n",
      "|   |--- feature_21 <= 19.91\n",
      "|   |   |--- feature_7 <= 0.07\n",
      "|   |   |   |--- class: 1\n",
      "|   |   |--- feature_7 >  0.07\n",
      "|   |   |   |--- class: 0\n",
      "|   |--- feature_21 >  19.91\n",
      "|   |   |--- feature_24 <= 0.09\n",
      "|   |   |   |--- class: 1\n",
      "|   |   |--- feature_24 >  0.09\n",
      "|   |   |   |--- feature_26 <= 0.18\n",
      "|   |   |   |   |--- feature_4 <= 0.09\n",
      "|   |   |   |   |   |--- class: 0\n",
      "|   |   |   |   |--- feature_4 >  0.09\n",
      "|   |   |   |   |   |--- class: 1\n",
      "|   |   |   |--- feature_26 >  0.18\n",
      "|   |   |   |   |--- class: 0\n",
      "\n"
     ]
    }
   ],
   "source": [
    "r = tree.export_text(decision_tree=model)\n",
    "print(r)"
   ]
  },
  {
   "cell_type": "markdown",
   "metadata": {
    "id": "FL1M2O2ZcZn2"
   },
   "source": [
    "##### plot_tree를 사용한 시각화"
   ]
  },
  {
   "cell_type": "code",
   "execution_count": 45,
   "metadata": {
    "id": "Pvq9HEXQyEgu"
   },
   "outputs": [
    {
     "data": {
      "text/plain": [
       "[Text(204.01875, 203.85, 'X[20] <= 16.795\\ngini = 0.468\\nsamples = 569\\nvalue = [212, 357]'),\n",
       " Text(125.55000000000001, 176.67000000000002, 'X[27] <= 0.136\\ngini = 0.159\\nsamples = 379\\nvalue = [33, 346]'),\n",
       " Text(57.54375, 149.49, 'X[28] <= 0.157\\ngini = 0.03\\nsamples = 333\\nvalue = [5, 328]'),\n",
       " Text(47.081250000000004, 122.31, 'gini = 0.0\\nsamples = 1\\nvalue = [1, 0]'),\n",
       " Text(68.00625000000001, 122.31, 'X[13] <= 38.605\\ngini = 0.024\\nsamples = 332\\nvalue = [4, 328]'),\n",
       " Text(41.85, 95.13, 'X[14] <= 0.003\\ngini = 0.012\\nsamples = 319\\nvalue = [2, 317]'),\n",
       " Text(20.925, 67.94999999999999, 'X[21] <= 27.755\\ngini = 0.245\\nsamples = 7\\nvalue = [1, 6]'),\n",
       " Text(10.4625, 40.77000000000001, 'gini = 0.0\\nsamples = 6\\nvalue = [0, 6]'),\n",
       " Text(31.387500000000003, 40.77000000000001, 'gini = 0.0\\nsamples = 1\\nvalue = [1, 0]'),\n",
       " Text(62.775000000000006, 67.94999999999999, 'X[21] <= 33.27\\ngini = 0.006\\nsamples = 312\\nvalue = [1, 311]'),\n",
       " Text(52.3125, 40.77000000000001, 'gini = 0.0\\nsamples = 292\\nvalue = [0, 292]'),\n",
       " Text(73.2375, 40.77000000000001, 'X[21] <= 33.56\\ngini = 0.095\\nsamples = 20\\nvalue = [1, 19]'),\n",
       " Text(62.775000000000006, 13.590000000000003, 'gini = 0.0\\nsamples = 1\\nvalue = [1, 0]'),\n",
       " Text(83.7, 13.590000000000003, 'gini = 0.0\\nsamples = 19\\nvalue = [0, 19]'),\n",
       " Text(94.16250000000001, 95.13, 'X[18] <= 0.016\\ngini = 0.26\\nsamples = 13\\nvalue = [2, 11]'),\n",
       " Text(83.7, 67.94999999999999, 'gini = 0.0\\nsamples = 1\\nvalue = [1, 0]'),\n",
       " Text(104.625, 67.94999999999999, 'X[10] <= 0.421\\ngini = 0.153\\nsamples = 12\\nvalue = [1, 11]'),\n",
       " Text(94.16250000000001, 40.77000000000001, 'gini = 0.0\\nsamples = 1\\nvalue = [1, 0]'),\n",
       " Text(115.0875, 40.77000000000001, 'gini = 0.0\\nsamples = 11\\nvalue = [0, 11]'),\n",
       " Text(193.55625, 149.49, 'X[21] <= 25.67\\ngini = 0.476\\nsamples = 46\\nvalue = [28, 18]'),\n",
       " Text(156.9375, 122.31, 'X[23] <= 810.3\\ngini = 0.332\\nsamples = 19\\nvalue = [4, 15]'),\n",
       " Text(136.01250000000002, 95.13, 'X[4] <= 0.123\\ngini = 0.124\\nsamples = 15\\nvalue = [1, 14]'),\n",
       " Text(125.55000000000001, 67.94999999999999, 'gini = 0.0\\nsamples = 14\\nvalue = [0, 14]'),\n",
       " Text(146.475, 67.94999999999999, 'gini = 0.0\\nsamples = 1\\nvalue = [1, 0]'),\n",
       " Text(177.8625, 95.13, 'X[20] <= 16.62\\ngini = 0.375\\nsamples = 4\\nvalue = [3, 1]'),\n",
       " Text(167.4, 67.94999999999999, 'gini = 0.0\\nsamples = 3\\nvalue = [3, 0]'),\n",
       " Text(188.32500000000002, 67.94999999999999, 'gini = 0.0\\nsamples = 1\\nvalue = [0, 1]'),\n",
       " Text(230.175, 122.31, 'X[6] <= 0.097\\ngini = 0.198\\nsamples = 27\\nvalue = [24, 3]'),\n",
       " Text(219.7125, 95.13, 'X[1] <= 19.435\\ngini = 0.5\\nsamples = 6\\nvalue = [3, 3]'),\n",
       " Text(209.25, 67.94999999999999, 'gini = 0.0\\nsamples = 3\\nvalue = [0, 3]'),\n",
       " Text(230.175, 67.94999999999999, 'gini = 0.0\\nsamples = 3\\nvalue = [3, 0]'),\n",
       " Text(240.63750000000002, 95.13, 'gini = 0.0\\nsamples = 21\\nvalue = [21, 0]'),\n",
       " Text(282.4875, 176.67000000000002, 'X[21] <= 19.91\\ngini = 0.109\\nsamples = 190\\nvalue = [179, 11]'),\n",
       " Text(261.5625, 149.49, 'X[7] <= 0.071\\ngini = 0.498\\nsamples = 17\\nvalue = [8, 9]'),\n",
       " Text(251.10000000000002, 122.31, 'gini = 0.0\\nsamples = 9\\nvalue = [0, 9]'),\n",
       " Text(272.02500000000003, 122.31, 'gini = 0.0\\nsamples = 8\\nvalue = [8, 0]'),\n",
       " Text(303.4125, 149.49, 'X[24] <= 0.088\\ngini = 0.023\\nsamples = 173\\nvalue = [171, 2]'),\n",
       " Text(292.95, 122.31, 'gini = 0.0\\nsamples = 1\\nvalue = [0, 1]'),\n",
       " Text(313.875, 122.31, 'X[26] <= 0.18\\ngini = 0.012\\nsamples = 172\\nvalue = [171, 1]'),\n",
       " Text(303.4125, 95.13, 'X[4] <= 0.092\\ngini = 0.375\\nsamples = 4\\nvalue = [3, 1]'),\n",
       " Text(292.95, 67.94999999999999, 'gini = 0.0\\nsamples = 3\\nvalue = [3, 0]'),\n",
       " Text(313.875, 67.94999999999999, 'gini = 0.0\\nsamples = 1\\nvalue = [0, 1]'),\n",
       " Text(324.33750000000003, 95.13, 'gini = 0.0\\nsamples = 168\\nvalue = [168, 0]')]"
      ]
     },
     "execution_count": 45,
     "metadata": {},
     "output_type": "execute_result"
    },
    {
     "data": {
      "image/png": "[encoded data removed]",
      "text/plain": [
       "<Figure size 432x288 with 1 Axes>"
      ]
     },
     "metadata": {},
     "output_type": "display_data"
    }
   ],
   "source": [
    "tree.plot_tree(model)"
   ]
  },
  {
   "cell_type": "markdown",
   "metadata": {
    "id": "AROy5ZJZcf0Z"
   },
   "source": [
    "##### graphviz를 사용한 시각화"
   ]
  },
  {
   "cell_type": "code",
   "execution_count": 46,
   "metadata": {
    "id": "YORbOln-yYZB"
   },
   "outputs": [
    {
     "ename": "ExecutableNotFound",
     "evalue": "failed to execute 'dot', make sure the Graphviz executables are on your systems' PATH",
     "output_type": "error",
     "traceback": [
      "\u001b[1;31m---------------------------------------------------------------------------\u001b[0m",
      "\u001b[1;31mFileNotFoundError\u001b[0m                         Traceback (most recent call last)",
      "\u001b[1;32m~\\anaconda3\\lib\\site-packages\\graphviz\\backend.py\u001b[0m in \u001b[0;36mrun\u001b[1;34m(cmd, input, capture_output, check, encoding, quiet, **kwargs)\u001b[0m\n\u001b[0;32m    169\u001b[0m     \u001b[1;32mtry\u001b[0m\u001b[1;33m:\u001b[0m\u001b[1;33m\u001b[0m\u001b[1;33m\u001b[0m\u001b[0m\n\u001b[1;32m--> 170\u001b[1;33m         \u001b[0mproc\u001b[0m \u001b[1;33m=\u001b[0m \u001b[0msubprocess\u001b[0m\u001b[1;33m.\u001b[0m\u001b[0mPopen\u001b[0m\u001b[1;33m(\u001b[0m\u001b[0mcmd\u001b[0m\u001b[1;33m,\u001b[0m \u001b[0mstartupinfo\u001b[0m\u001b[1;33m=\u001b[0m\u001b[0mget_startupinfo\u001b[0m\u001b[1;33m(\u001b[0m\u001b[1;33m)\u001b[0m\u001b[1;33m,\u001b[0m \u001b[1;33m**\u001b[0m\u001b[0mkwargs\u001b[0m\u001b[1;33m)\u001b[0m\u001b[1;33m\u001b[0m\u001b[1;33m\u001b[0m\u001b[0m\n\u001b[0m\u001b[0;32m    171\u001b[0m     \u001b[1;32mexcept\u001b[0m \u001b[0mOSError\u001b[0m \u001b[1;32mas\u001b[0m \u001b[0me\u001b[0m\u001b[1;33m:\u001b[0m\u001b[1;33m\u001b[0m\u001b[1;33m\u001b[0m\u001b[0m\n",
      "\u001b[1;32m~\\anaconda3\\lib\\subprocess.py\u001b[0m in \u001b[0;36m__init__\u001b[1;34m(self, args, bufsize, executable, stdin, stdout, stderr, preexec_fn, close_fds, shell, cwd, env, universal_newlines, startupinfo, creationflags, restore_signals, start_new_session, pass_fds, encoding, errors, text)\u001b[0m\n\u001b[0;32m    857\u001b[0m \u001b[1;33m\u001b[0m\u001b[0m\n\u001b[1;32m--> 858\u001b[1;33m             self._execute_child(args, executable, preexec_fn, close_fds,\n\u001b[0m\u001b[0;32m    859\u001b[0m                                 \u001b[0mpass_fds\u001b[0m\u001b[1;33m,\u001b[0m \u001b[0mcwd\u001b[0m\u001b[1;33m,\u001b[0m \u001b[0menv\u001b[0m\u001b[1;33m,\u001b[0m\u001b[1;33m\u001b[0m\u001b[1;33m\u001b[0m\u001b[0m\n",
      "\u001b[1;32m~\\anaconda3\\lib\\subprocess.py\u001b[0m in \u001b[0;36m_execute_child\u001b[1;34m(self, args, executable, preexec_fn, close_fds, pass_fds, cwd, env, startupinfo, creationflags, shell, p2cread, p2cwrite, c2pread, c2pwrite, errread, errwrite, unused_restore_signals, unused_start_new_session)\u001b[0m\n\u001b[0;32m   1310\u001b[0m             \u001b[1;32mtry\u001b[0m\u001b[1;33m:\u001b[0m\u001b[1;33m\u001b[0m\u001b[1;33m\u001b[0m\u001b[0m\n\u001b[1;32m-> 1311\u001b[1;33m                 hp, ht, pid, tid = _winapi.CreateProcess(executable, args,\n\u001b[0m\u001b[0;32m   1312\u001b[0m                                          \u001b[1;31m# no special security\u001b[0m\u001b[1;33m\u001b[0m\u001b[1;33m\u001b[0m\u001b[1;33m\u001b[0m\u001b[0m\n",
      "\u001b[1;31mFileNotFoundError\u001b[0m: [WinError 2] 지정된 파일을 찾을 수 없습니다",
      "\nThe above exception was the direct cause of the following exception:\n",
      "\u001b[1;31mExecutableNotFound\u001b[0m                        Traceback (most recent call last)",
      "\u001b[1;32m~\\anaconda3\\lib\\site-packages\\IPython\\core\\formatters.py\u001b[0m in \u001b[0;36m__call__\u001b[1;34m(self, obj)\u001b[0m\n\u001b[0;32m    343\u001b[0m             \u001b[0mmethod\u001b[0m \u001b[1;33m=\u001b[0m \u001b[0mget_real_method\u001b[0m\u001b[1;33m(\u001b[0m\u001b[0mobj\u001b[0m\u001b[1;33m,\u001b[0m \u001b[0mself\u001b[0m\u001b[1;33m.\u001b[0m\u001b[0mprint_method\u001b[0m\u001b[1;33m)\u001b[0m\u001b[1;33m\u001b[0m\u001b[1;33m\u001b[0m\u001b[0m\n\u001b[0;32m    344\u001b[0m             \u001b[1;32mif\u001b[0m \u001b[0mmethod\u001b[0m \u001b[1;32mis\u001b[0m \u001b[1;32mnot\u001b[0m \u001b[1;32mNone\u001b[0m\u001b[1;33m:\u001b[0m\u001b[1;33m\u001b[0m\u001b[1;33m\u001b[0m\u001b[0m\n\u001b[1;32m--> 345\u001b[1;33m                 \u001b[1;32mreturn\u001b[0m \u001b[0mmethod\u001b[0m\u001b[1;33m(\u001b[0m\u001b[1;33m)\u001b[0m\u001b[1;33m\u001b[0m\u001b[1;33m\u001b[0m\u001b[0m\n\u001b[0m\u001b[0;32m    346\u001b[0m             \u001b[1;32mreturn\u001b[0m \u001b[1;32mNone\u001b[0m\u001b[1;33m\u001b[0m\u001b[1;33m\u001b[0m\u001b[0m\n\u001b[0;32m    347\u001b[0m         \u001b[1;32melse\u001b[0m\u001b[1;33m:\u001b[0m\u001b[1;33m\u001b[0m\u001b[1;33m\u001b[0m\u001b[0m\n",
      "\u001b[1;32m~\\anaconda3\\lib\\site-packages\\graphviz\\files.py\u001b[0m in \u001b[0;36m_repr_svg_\u001b[1;34m(self)\u001b[0m\n\u001b[0;32m    139\u001b[0m \u001b[1;33m\u001b[0m\u001b[0m\n\u001b[0;32m    140\u001b[0m     \u001b[1;32mdef\u001b[0m \u001b[0m_repr_svg_\u001b[0m\u001b[1;33m(\u001b[0m\u001b[0mself\u001b[0m\u001b[1;33m)\u001b[0m\u001b[1;33m:\u001b[0m\u001b[1;33m\u001b[0m\u001b[1;33m\u001b[0m\u001b[0m\n\u001b[1;32m--> 141\u001b[1;33m         \u001b[1;32mreturn\u001b[0m \u001b[0mself\u001b[0m\u001b[1;33m.\u001b[0m\u001b[0mpipe\u001b[0m\u001b[1;33m(\u001b[0m\u001b[0mformat\u001b[0m\u001b[1;33m=\u001b[0m\u001b[1;34m'svg'\u001b[0m\u001b[1;33m)\u001b[0m\u001b[1;33m.\u001b[0m\u001b[0mdecode\u001b[0m\u001b[1;33m(\u001b[0m\u001b[0mself\u001b[0m\u001b[1;33m.\u001b[0m\u001b[0m_encoding\u001b[0m\u001b[1;33m)\u001b[0m\u001b[1;33m\u001b[0m\u001b[1;33m\u001b[0m\u001b[0m\n\u001b[0m\u001b[0;32m    142\u001b[0m \u001b[1;33m\u001b[0m\u001b[0m\n\u001b[0;32m    143\u001b[0m     \u001b[1;32mdef\u001b[0m \u001b[0mpipe\u001b[0m\u001b[1;33m(\u001b[0m\u001b[0mself\u001b[0m\u001b[1;33m,\u001b[0m \u001b[0mformat\u001b[0m\u001b[1;33m=\u001b[0m\u001b[1;32mNone\u001b[0m\u001b[1;33m,\u001b[0m \u001b[0mrenderer\u001b[0m\u001b[1;33m=\u001b[0m\u001b[1;32mNone\u001b[0m\u001b[1;33m,\u001b[0m \u001b[0mformatter\u001b[0m\u001b[1;33m=\u001b[0m\u001b[1;32mNone\u001b[0m\u001b[1;33m,\u001b[0m \u001b[0mquiet\u001b[0m\u001b[1;33m=\u001b[0m\u001b[1;32mFalse\u001b[0m\u001b[1;33m)\u001b[0m\u001b[1;33m:\u001b[0m\u001b[1;33m\u001b[0m\u001b[1;33m\u001b[0m\u001b[0m\n",
      "\u001b[1;32m~\\anaconda3\\lib\\site-packages\\graphviz\\files.py\u001b[0m in \u001b[0;36mpipe\u001b[1;34m(self, format, renderer, formatter, quiet)\u001b[0m\n\u001b[0;32m    164\u001b[0m         \u001b[0mdata\u001b[0m \u001b[1;33m=\u001b[0m \u001b[0mself\u001b[0m\u001b[1;33m.\u001b[0m\u001b[0msource\u001b[0m\u001b[1;33m.\u001b[0m\u001b[0mencode\u001b[0m\u001b[1;33m(\u001b[0m\u001b[0mself\u001b[0m\u001b[1;33m.\u001b[0m\u001b[0m_encoding\u001b[0m\u001b[1;33m)\u001b[0m\u001b[1;33m\u001b[0m\u001b[1;33m\u001b[0m\u001b[0m\n\u001b[0;32m    165\u001b[0m \u001b[1;33m\u001b[0m\u001b[0m\n\u001b[1;32m--> 166\u001b[1;33m         out = backend.pipe(self._engine, format, data,\n\u001b[0m\u001b[0;32m    167\u001b[0m                            \u001b[0mrenderer\u001b[0m\u001b[1;33m=\u001b[0m\u001b[0mrenderer\u001b[0m\u001b[1;33m,\u001b[0m \u001b[0mformatter\u001b[0m\u001b[1;33m=\u001b[0m\u001b[0mformatter\u001b[0m\u001b[1;33m,\u001b[0m\u001b[1;33m\u001b[0m\u001b[1;33m\u001b[0m\u001b[0m\n\u001b[0;32m    168\u001b[0m                            quiet=quiet)\n",
      "\u001b[1;32m~\\anaconda3\\lib\\site-packages\\graphviz\\backend.py\u001b[0m in \u001b[0;36mpipe\u001b[1;34m(engine, format, data, renderer, formatter, quiet)\u001b[0m\n\u001b[0;32m    266\u001b[0m     \"\"\"\n\u001b[0;32m    267\u001b[0m     \u001b[0mcmd\u001b[0m\u001b[1;33m,\u001b[0m \u001b[0m_\u001b[0m \u001b[1;33m=\u001b[0m \u001b[0mcommand\u001b[0m\u001b[1;33m(\u001b[0m\u001b[0mengine\u001b[0m\u001b[1;33m,\u001b[0m \u001b[0mformat\u001b[0m\u001b[1;33m,\u001b[0m \u001b[1;32mNone\u001b[0m\u001b[1;33m,\u001b[0m \u001b[0mrenderer\u001b[0m\u001b[1;33m,\u001b[0m \u001b[0mformatter\u001b[0m\u001b[1;33m)\u001b[0m\u001b[1;33m\u001b[0m\u001b[1;33m\u001b[0m\u001b[0m\n\u001b[1;32m--> 268\u001b[1;33m     \u001b[0mout\u001b[0m\u001b[1;33m,\u001b[0m \u001b[0m_\u001b[0m \u001b[1;33m=\u001b[0m \u001b[0mrun\u001b[0m\u001b[1;33m(\u001b[0m\u001b[0mcmd\u001b[0m\u001b[1;33m,\u001b[0m \u001b[0minput\u001b[0m\u001b[1;33m=\u001b[0m\u001b[0mdata\u001b[0m\u001b[1;33m,\u001b[0m \u001b[0mcapture_output\u001b[0m\u001b[1;33m=\u001b[0m\u001b[1;32mTrue\u001b[0m\u001b[1;33m,\u001b[0m \u001b[0mcheck\u001b[0m\u001b[1;33m=\u001b[0m\u001b[1;32mTrue\u001b[0m\u001b[1;33m,\u001b[0m \u001b[0mquiet\u001b[0m\u001b[1;33m=\u001b[0m\u001b[0mquiet\u001b[0m\u001b[1;33m)\u001b[0m\u001b[1;33m\u001b[0m\u001b[1;33m\u001b[0m\u001b[0m\n\u001b[0m\u001b[0;32m    269\u001b[0m     \u001b[1;32mreturn\u001b[0m \u001b[0mout\u001b[0m\u001b[1;33m\u001b[0m\u001b[1;33m\u001b[0m\u001b[0m\n\u001b[0;32m    270\u001b[0m \u001b[1;33m\u001b[0m\u001b[0m\n",
      "\u001b[1;32m~\\anaconda3\\lib\\site-packages\\graphviz\\backend.py\u001b[0m in \u001b[0;36mrun\u001b[1;34m(cmd, input, capture_output, check, encoding, quiet, **kwargs)\u001b[0m\n\u001b[0;32m    171\u001b[0m     \u001b[1;32mexcept\u001b[0m \u001b[0mOSError\u001b[0m \u001b[1;32mas\u001b[0m \u001b[0me\u001b[0m\u001b[1;33m:\u001b[0m\u001b[1;33m\u001b[0m\u001b[1;33m\u001b[0m\u001b[0m\n\u001b[0;32m    172\u001b[0m         \u001b[1;32mif\u001b[0m \u001b[0me\u001b[0m\u001b[1;33m.\u001b[0m\u001b[0merrno\u001b[0m \u001b[1;33m==\u001b[0m \u001b[0merrno\u001b[0m\u001b[1;33m.\u001b[0m\u001b[0mENOENT\u001b[0m\u001b[1;33m:\u001b[0m\u001b[1;33m\u001b[0m\u001b[1;33m\u001b[0m\u001b[0m\n\u001b[1;32m--> 173\u001b[1;33m             \u001b[1;32mraise\u001b[0m \u001b[0mExecutableNotFound\u001b[0m\u001b[1;33m(\u001b[0m\u001b[0mcmd\u001b[0m\u001b[1;33m)\u001b[0m \u001b[1;32mfrom\u001b[0m \u001b[0me\u001b[0m\u001b[1;33m\u001b[0m\u001b[1;33m\u001b[0m\u001b[0m\n\u001b[0m\u001b[0;32m    174\u001b[0m         \u001b[1;32melse\u001b[0m\u001b[1;33m:\u001b[0m\u001b[1;33m\u001b[0m\u001b[1;33m\u001b[0m\u001b[0m\n\u001b[0;32m    175\u001b[0m             \u001b[1;32mraise\u001b[0m\u001b[1;33m\u001b[0m\u001b[1;33m\u001b[0m\u001b[0m\n",
      "\u001b[1;31mExecutableNotFound\u001b[0m: failed to execute 'dot', make sure the Graphviz executables are on your systems' PATH"
     ]
    },
    {
     "data": {
      "text/plain": [
       "<graphviz.files.Source at 0x21ef66d5d00>"
      ]
     },
     "execution_count": 46,
     "metadata": {},
     "output_type": "execute_result"
    }
   ],
   "source": [
    "dot_data = tree.export_graphviz(decision_tree=model,\n",
    "                               feature_names=cancer.feature_names,\n",
    "                               class_names=cancer.target_names,\n",
    "                               filled=True, rounded=True,\n",
    "                               special_characters=True)\n",
    "graph = graphviz.Source(dot_data)\n",
    "graph"
   ]
  },
  {
   "cell_type": "markdown",
   "metadata": {
    "id": "5oBojyy9wxZ4"
   },
   "source": [
    "#### 시각화"
   ]
  },
  {
   "cell_type": "code",
   "execution_count": 47,
   "metadata": {
    "id": "YHlSKnLN3Lva"
   },
   "outputs": [],
   "source": [
    "n_classes = 3\n",
    "plot_colors = 'ryb'\n",
    "plot_step = 0.02"
   ]
  },
  {
   "cell_type": "markdown",
   "metadata": {
    "id": "JDfF8OOX2XkP"
   },
   "source": [
    "##### 결정 경계 시각화"
   ]
  },
  {
   "cell_type": "code",
   "execution_count": 48,
   "metadata": {
    "id": "Hy9nQO9s1D5M"
   },
   "outputs": [
    {
     "ename": "IndexError",
     "evalue": "index 2 is out of bounds for axis 0 with size 2",
     "output_type": "error",
     "traceback": [
      "\u001b[1;31m---------------------------------------------------------------------------\u001b[0m",
      "\u001b[1;31mIndexError\u001b[0m                                Traceback (most recent call last)",
      "\u001b[1;32m<ipython-input-48-840e68e8b02c>\u001b[0m in \u001b[0;36m<module>\u001b[1;34m\u001b[0m\n\u001b[0;32m     25\u001b[0m     \u001b[1;32mfor\u001b[0m \u001b[0mi\u001b[0m\u001b[1;33m,\u001b[0m \u001b[0mcolor\u001b[0m \u001b[1;32min\u001b[0m \u001b[0mzip\u001b[0m\u001b[1;33m(\u001b[0m\u001b[0mrange\u001b[0m\u001b[1;33m(\u001b[0m\u001b[0mn_classes\u001b[0m\u001b[1;33m)\u001b[0m\u001b[1;33m,\u001b[0m \u001b[0mplot_colors\u001b[0m\u001b[1;33m)\u001b[0m\u001b[1;33m:\u001b[0m\u001b[1;33m\u001b[0m\u001b[1;33m\u001b[0m\u001b[0m\n\u001b[0;32m     26\u001b[0m         \u001b[0midx\u001b[0m \u001b[1;33m=\u001b[0m \u001b[0mnp\u001b[0m\u001b[1;33m.\u001b[0m\u001b[0mwhere\u001b[0m\u001b[1;33m(\u001b[0m\u001b[0my\u001b[0m \u001b[1;33m==\u001b[0m \u001b[0mi\u001b[0m\u001b[1;33m)\u001b[0m\u001b[1;33m\u001b[0m\u001b[1;33m\u001b[0m\u001b[0m\n\u001b[1;32m---> 27\u001b[1;33m         plt.scatter(X[idx, 0], X[idx, 1], c=color, label=cancer.target_names[i],\n\u001b[0m\u001b[0;32m     28\u001b[0m                    cmap=plt.cm.RdYlBu, edgecolors='b', s=15)\n\u001b[0;32m     29\u001b[0m \u001b[1;33m\u001b[0m\u001b[0m\n",
      "\u001b[1;31mIndexError\u001b[0m: index 2 is out of bounds for axis 0 with size 2"
     ]
    },
    {
     "data": {
      "image/png": "[encoded data removed]",
      "text/plain": [
       "<Figure size 1152x576 with 1 Axes>"
      ]
     },
     "metadata": {},
     "output_type": "display_data"
    }
   ],
   "source": [
    "plt.figure(figsize=(16,8))\n",
    "\n",
    "for pairidx, pair in enumerate([[0, 1], [0, 2], [0, 3]]):\n",
    "    X = cancer.data[:, pair]\n",
    "    y = cancer.target\n",
    "    \n",
    "    model = DecisionTreeClassifier()\n",
    "    model = model.fit(X, y)\n",
    "    \n",
    "    plt.subplot(2, 3, pairidx + 1)\n",
    "    \n",
    "    x_min, x_max = X[:, 0].min()-1, X[:, 0].max()+1\n",
    "    y_min, y_max = X[:, 1].min()-1, X[:, 1].max()+1\n",
    "    xx, yy = np.meshgrid(np.arange(x_min, x_max, plot_step),\n",
    "                        np.arange(y_min, y_max, plot_step))\n",
    "    plt.tight_layout(h_pad=0.5, w_pad=0.5, pad=2.5)\n",
    "    \n",
    "    Z = model.predict(np.c_[xx.ravel(), yy.ravel()])\n",
    "    Z = Z.reshape(xx.shape)\n",
    "    cs = plt.contourf(xx, yy, Z, cmap=plt.cm.RdYlBu)\n",
    "    \n",
    "    plt.xlabel(cancer.feature_names[pair[0]])\n",
    "    plt.ylabel(cancer.feature_names[pair[1]])\n",
    "    \n",
    "    for i, color in zip(range(n_classes), plot_colors):\n",
    "        idx = np.where(y == i)\n",
    "        plt.scatter(X[idx, 0], X[idx, 1], c=color, label=cancer.target_names[i],\n",
    "                   cmap=plt.cm.RdYlBu, edgecolors='b', s=15)\n",
    "\n",
    "plt.suptitle('Decision surface')\n",
    "plt.legend(loc='lower right', borderpad=0, handletextpad=0)\n",
    "plt.axis('tight')"
   ]
  },
  {
   "cell_type": "markdown",
   "metadata": {
    "id": "RIkiV_lm5eKu"
   },
   "source": [
    "##### 하이퍼파리미터를 변경해 보면서 결정 경계의 변화 확인"
   ]
  },
  {
   "cell_type": "code",
   "execution_count": null,
   "metadata": {
    "id": "F97kaCJV1yQZ"
   },
   "outputs": [],
   "source": [
    "plt.figure(figsize=(16,8))\n",
    "\n",
    "for pairidx, pair in enumerate([[0, 1], [0, 2], [0, 3],\n",
    "                               [1, 2], [1, 3], [2, 3]]):\n",
    "    X = cancer.data[:, pair]\n",
    "    y = cancer.target\n",
    "    \n",
    "    model = DecisionTreeClassifier(max_depth=2)\n",
    "    model = model.fit(X, y)\n",
    "    \n",
    "    plt.subplot(2, 3, pairidx + 1)\n",
    "    \n",
    "    x_min, x_max = X[:, 0].min()-1, X[:, 0].max()+1\n",
    "    y_min, y_max = X[:, 1].min()-1, X[:, 1].max()+1\n",
    "    xx, yy = np.meshgrid(np.arange(x_min, x_max, plot_step),\n",
    "                        np.arange(y_min, y_max, plot_step))\n",
    "    plt.tight_layout(h_pad=0.5, w_pad=0.5, pad=2.5)\n",
    "    \n",
    "    Z = model.predict(np.c_[xx.ravel(), yy.ravel()])\n",
    "    Z = Z.reshape(xx.shape)\n",
    "    cs = plt.contourf(xx, yy, Z, cmap=plt.cm.RdYlBu)\n",
    "    \n",
    "    plt.xlabel(cancer.feature_names[pair[0]])\n",
    "    plt.ylabel(cancer.feature_names[pair[1]])\n",
    "    \n",
    "    for i, color in zip(range(n_classes), plot_colors):\n",
    "        idx = np.where(y == i)\n",
    "        plt.scatter(X[idx, 0], X[idx, 1], c=color, label=cancer.target_names[i],\n",
    "                   cmap=plt.cm.RdYlBu, edgecolors='b', s=15)\n",
    "\n",
    "plt.suptitle('Decision surface')\n",
    "plt.legend(loc='lower right', borderpad=0, handletextpad=0)\n",
    "plt.axis('tight')"
   ]
  },
  {
   "cell_type": "markdown",
   "metadata": {
    "id": "o1fFfCpT6MRl"
   },
   "source": [
    "## 회귀 - `DecisionTreeRegressor()`"
   ]
  },
  {
   "cell_type": "markdown",
   "metadata": {
    "id": "Cxbymvlnxzs-"
   },
   "source": [
    "### 보스턴 주택 가격 데이터 학습"
   ]
  },
  {
   "cell_type": "markdown",
   "metadata": {
    "id": "jGaVhVYLydAe"
   },
   "source": [
    "#### 교차 검증"
   ]
  },
  {
   "cell_type": "markdown",
   "metadata": {
    "id": "aJxph6Vyyoks"
   },
   "source": [
    "##### 전처리 없이 학습"
   ]
  },
  {
   "cell_type": "code",
   "execution_count": 50,
   "metadata": {
    "id": "tYMA6_qhg5EM"
   },
   "outputs": [],
   "source": [
    "model = DecisionTreeRegressor()"
   ]
  },
  {
   "cell_type": "code",
   "execution_count": 51,
   "metadata": {
    "id": "SFFybhvChGlB"
   },
   "outputs": [
    {
     "data": {
      "text/plain": [
       "array([ 0.67318364,  0.67509369,  0.66267092,  0.41579635, -1.07114343])"
      ]
     },
     "execution_count": 51,
     "metadata": {},
     "output_type": "execute_result"
    }
   ],
   "source": [
    "cross_val_score(\n",
    "    estimator=model,\n",
    "    X=boston.data, y=boston.target,\n",
    "    cv=5,\n",
    "    n_jobs=multiprocessing.cpu_count()\n",
    "               )"
   ]
  },
  {
   "cell_type": "markdown",
   "metadata": {
    "id": "04yVAwpllbuW"
   },
   "source": [
    "##### 전처리 후 학습\n",
    "* 결정 트리는 규칙을 학습하기 때문에 전처리에 큰 영향을 받지 않는다."
   ]
  },
  {
   "cell_type": "code",
   "execution_count": 52,
   "metadata": {
    "id": "-qb7NpeKi5vi"
   },
   "outputs": [],
   "source": [
    "model = make_pipeline(\n",
    "    StandardScaler(),\n",
    "    DecisionTreeRegressor()\n",
    ")"
   ]
  },
  {
   "cell_type": "code",
   "execution_count": 53,
   "metadata": {
    "id": "1Gar4cXjjFzm"
   },
   "outputs": [
    {
     "data": {
      "text/plain": [
       "array([ 0.65684623,  0.43775292,  0.62994174,  0.40299114, -1.85189654])"
      ]
     },
     "execution_count": 53,
     "metadata": {},
     "output_type": "execute_result"
    }
   ],
   "source": [
    "cross_val_score(\n",
    "    estimator=model,\n",
    "    X=boston.data, y=boston.target,\n",
    "    cv=5,\n",
    "    n_jobs=multiprocessing.cpu_count()\n",
    ")"
   ]
  },
  {
   "cell_type": "markdown",
   "metadata": {
    "id": "mBDxGGoVyRnO"
   },
   "source": [
    "#### 학습된 결정 트리 시각화"
   ]
  },
  {
   "cell_type": "code",
   "execution_count": 54,
   "metadata": {
    "id": "jasfz-4UiQEF"
   },
   "outputs": [
    {
     "data": {
      "text/plain": [
       "DecisionTreeRegressor()"
      ]
     },
     "execution_count": 54,
     "metadata": {},
     "output_type": "execute_result"
    }
   ],
   "source": [
    "model = DecisionTreeRegressor()\n",
    "model.fit(boston.data, boston.target)"
   ]
  },
  {
   "cell_type": "markdown",
   "metadata": {
    "id": "ESB60z8ZckQ5"
   },
   "source": [
    "##### 텍스트를 통한 시각화"
   ]
  },
  {
   "cell_type": "code",
   "execution_count": 55,
   "metadata": {
    "id": "WE8F0oQjzTSK"
   },
   "outputs": [
    {
     "name": "stdout",
     "output_type": "stream",
     "text": [
      "|--- feature_5 <= 6.94\n",
      "|   |--- feature_12 <= 14.40\n",
      "|   |   |--- feature_7 <= 1.38\n",
      "|   |   |   |--- feature_11 <= 339.99\n",
      "|   |   |   |   |--- value: [27.90]\n",
      "|   |   |   |--- feature_11 >  339.99\n",
      "|   |   |   |   |--- value: [50.00]\n",
      "|   |   |--- feature_7 >  1.38\n",
      "|   |   |   |--- feature_5 <= 6.54\n",
      "|   |   |   |   |--- feature_12 <= 7.57\n",
      "|   |   |   |   |   |--- feature_9 <= 222.50\n",
      "|   |   |   |   |   |   |--- value: [28.70]\n",
      "|   |   |   |   |   |--- feature_9 >  222.50\n",
      "|   |   |   |   |   |   |--- feature_2 <= 5.48\n",
      "|   |   |   |   |   |   |   |--- feature_10 <= 19.95\n",
      "|   |   |   |   |   |   |   |   |--- feature_11 <= 393.33\n",
      "|   |   |   |   |   |   |   |   |   |--- feature_2 <= 3.90\n",
      "|   |   |   |   |   |   |   |   |   |   |--- feature_5 <= 6.22\n",
      "|   |   |   |   |   |   |   |   |   |   |   |--- value: [21.90]\n",
      "|   |   |   |   |   |   |   |   |   |   |--- feature_5 >  6.22\n",
      "|   |   |   |   |   |   |   |   |   |   |   |--- truncated branch of depth 2\n",
      "|   |   |   |   |   |   |   |   |   |--- feature_2 >  3.90\n",
      "|   |   |   |   |   |   |   |   |   |   |--- feature_11 <= 385.03\n",
      "|   |   |   |   |   |   |   |   |   |   |   |--- value: [23.70]\n",
      "|   |   |   |   |   |   |   |   |   |   |--- feature_11 >  385.03\n",
      "|   |   |   |   |   |   |   |   |   |   |   |--- truncated branch of depth 3\n",
      "|   |   |   |   |   |   |   |   |--- feature_11 >  393.33\n",
      "|   |   |   |   |   |   |   |   |   |--- feature_5 <= 6.42\n",
      "|   |   |   |   |   |   |   |   |   |   |--- feature_4 <= 0.41\n",
      "|   |   |   |   |   |   |   |   |   |   |   |--- truncated branch of depth 2\n",
      "|   |   |   |   |   |   |   |   |   |   |--- feature_4 >  0.41\n",
      "|   |   |   |   |   |   |   |   |   |   |   |--- truncated branch of depth 4\n",
      "|   |   |   |   |   |   |   |   |   |--- feature_5 >  6.42\n",
      "|   |   |   |   |   |   |   |   |   |   |--- feature_7 <= 8.01\n",
      "|   |   |   |   |   |   |   |   |   |   |   |--- value: [22.20]\n",
      "|   |   |   |   |   |   |   |   |   |   |--- feature_7 >  8.01\n",
      "|   |   |   |   |   |   |   |   |   |   |   |--- value: [22.90]\n",
      "|   |   |   |   |   |   |   |--- feature_10 >  19.95\n",
      "|   |   |   |   |   |   |   |   |--- feature_5 <= 6.31\n",
      "|   |   |   |   |   |   |   |   |   |--- feature_11 <= 382.72\n",
      "|   |   |   |   |   |   |   |   |   |   |--- value: [20.60]\n",
      "|   |   |   |   |   |   |   |   |   |--- feature_11 >  382.72\n",
      "|   |   |   |   |   |   |   |   |   |   |--- value: [20.70]\n",
      "|   |   |   |   |   |   |   |   |--- feature_5 >  6.31\n",
      "|   |   |   |   |   |   |   |   |   |--- value: [22.20]\n",
      "|   |   |   |   |   |   |--- feature_2 >  5.48\n",
      "|   |   |   |   |   |   |   |--- feature_1 <= 34.00\n",
      "|   |   |   |   |   |   |   |   |--- feature_11 <= 359.51\n",
      "|   |   |   |   |   |   |   |   |   |--- feature_6 <= 96.30\n",
      "|   |   |   |   |   |   |   |   |   |   |--- feature_6 <= 90.25\n",
      "|   |   |   |   |   |   |   |   |   |   |   |--- value: [27.50]\n",
      "|   |   |   |   |   |   |   |   |   |   |--- feature_6 >  90.25\n",
      "|   |   |   |   |   |   |   |   |   |   |   |--- value: [27.00]\n",
      "|   |   |   |   |   |   |   |   |   |--- feature_6 >  96.30\n",
      "|   |   |   |   |   |   |   |   |   |   |--- value: [24.30]\n",
      "|   |   |   |   |   |   |   |   |--- feature_11 >  359.51\n",
      "|   |   |   |   |   |   |   |   |   |--- feature_5 <= 6.15\n",
      "|   |   |   |   |   |   |   |   |   |   |--- feature_6 <= 41.05\n",
      "|   |   |   |   |   |   |   |   |   |   |   |--- truncated branch of depth 2\n",
      "|   |   |   |   |   |   |   |   |   |   |--- feature_6 >  41.05\n",
      "|   |   |   |   |   |   |   |   |   |   |   |--- value: [22.10]\n",
      "|   |   |   |   |   |   |   |   |   |--- feature_5 >  6.15\n",
      "|   |   |   |   |   |   |   |   |   |   |--- feature_9 <= 278.50\n",
      "|   |   |   |   |   |   |   |   |   |   |   |--- truncated branch of depth 4\n",
      "|   |   |   |   |   |   |   |   |   |   |--- feature_9 >  278.50\n",
      "|   |   |   |   |   |   |   |   |   |   |   |--- truncated branch of depth 5\n",
      "|   |   |   |   |   |   |   |--- feature_1 >  34.00\n",
      "|   |   |   |   |   |   |   |   |--- value: [29.10]\n",
      "|   |   |   |   |--- feature_12 >  7.57\n",
      "|   |   |   |   |   |--- feature_9 <= 208.00\n",
      "|   |   |   |   |   |   |--- feature_5 <= 6.07\n",
      "|   |   |   |   |   |   |   |--- feature_7 <= 2.62\n",
      "|   |   |   |   |   |   |   |   |--- feature_0 <= 0.07\n",
      "|   |   |   |   |   |   |   |   |   |--- value: [22.00]\n",
      "|   |   |   |   |   |   |   |   |--- feature_0 >  0.07\n",
      "|   |   |   |   |   |   |   |   |   |--- value: [20.30]\n",
      "|   |   |   |   |   |   |   |--- feature_7 >  2.62\n",
      "|   |   |   |   |   |   |   |   |--- value: [26.40]\n",
      "|   |   |   |   |   |   |--- feature_5 >  6.07\n",
      "|   |   |   |   |   |   |   |--- feature_12 <= 11.30\n",
      "|   |   |   |   |   |   |   |   |--- value: [36.20]\n",
      "|   |   |   |   |   |   |   |--- feature_12 >  11.30\n",
      "|   |   |   |   |   |   |   |   |--- value: [29.60]\n",
      "|   |   |   |   |   |--- feature_9 >  208.00\n",
      "|   |   |   |   |   |   |--- feature_5 <= 6.08\n",
      "|   |   |   |   |   |   |   |--- feature_6 <= 69.10\n",
      "|   |   |   |   |   |   |   |   |--- feature_7 <= 4.46\n",
      "|   |   |   |   |   |   |   |   |   |--- feature_5 <= 5.21\n",
      "|   |   |   |   |   |   |   |   |   |   |--- value: [16.10]\n",
      "|   |   |   |   |   |   |   |   |   |--- feature_5 >  5.21\n",
      "|   |   |   |   |   |   |   |   |   |   |--- feature_10 <= 17.60\n",
      "|   |   |   |   |   |   |   |   |   |   |   |--- truncated branch of depth 4\n",
      "|   |   |   |   |   |   |   |   |   |   |--- feature_10 >  17.60\n",
      "|   |   |   |   |   |   |   |   |   |   |   |--- truncated branch of depth 8\n",
      "|   |   |   |   |   |   |   |   |--- feature_7 >  4.46\n",
      "|   |   |   |   |   |   |   |   |   |--- feature_5 <= 5.76\n",
      "|   |   |   |   |   |   |   |   |   |   |--- feature_4 <= 0.44\n",
      "|   |   |   |   |   |   |   |   |   |   |   |--- truncated branch of depth 3\n",
      "|   |   |   |   |   |   |   |   |   |   |--- feature_4 >  0.44\n",
      "|   |   |   |   |   |   |   |   |   |   |   |--- truncated branch of depth 2\n",
      "|   |   |   |   |   |   |   |   |   |--- feature_5 >  5.76\n",
      "|   |   |   |   |   |   |   |   |   |   |--- feature_2 <= 5.41\n",
      "|   |   |   |   |   |   |   |   |   |   |   |--- truncated branch of depth 7\n",
      "|   |   |   |   |   |   |   |   |   |   |--- feature_2 >  5.41\n",
      "|   |   |   |   |   |   |   |   |   |   |   |--- truncated branch of depth 7\n",
      "|   |   |   |   |   |   |   |--- feature_6 >  69.10\n",
      "|   |   |   |   |   |   |   |   |--- feature_5 <= 6.03\n",
      "|   |   |   |   |   |   |   |   |   |--- feature_4 <= 0.60\n",
      "|   |   |   |   |   |   |   |   |   |   |--- feature_7 <= 2.62\n",
      "|   |   |   |   |   |   |   |   |   |   |   |--- truncated branch of depth 2\n",
      "|   |   |   |   |   |   |   |   |   |   |--- feature_7 >  2.62\n",
      "|   |   |   |   |   |   |   |   |   |   |   |--- truncated branch of depth 6\n",
      "|   |   |   |   |   |   |   |   |   |--- feature_4 >  0.60\n",
      "|   |   |   |   |   |   |   |   |   |   |--- feature_3 <= 0.50\n",
      "|   |   |   |   |   |   |   |   |   |   |   |--- truncated branch of depth 7\n",
      "|   |   |   |   |   |   |   |   |   |   |--- feature_3 >  0.50\n",
      "|   |   |   |   |   |   |   |   |   |   |   |--- value: [15.30]\n",
      "|   |   |   |   |   |   |   |   |--- feature_5 >  6.03\n",
      "|   |   |   |   |   |   |   |   |   |--- feature_8 <= 2.50\n",
      "|   |   |   |   |   |   |   |   |   |   |--- value: [11.90]\n",
      "|   |   |   |   |   |   |   |   |   |--- feature_8 >  2.50\n",
      "|   |   |   |   |   |   |   |   |   |   |--- value: [14.50]\n",
      "|   |   |   |   |   |   |--- feature_5 >  6.08\n",
      "|   |   |   |   |   |   |   |--- feature_12 <= 9.98\n",
      "|   |   |   |   |   |   |   |   |--- feature_0 <= 0.05\n",
      "|   |   |   |   |   |   |   |   |   |--- feature_5 <= 6.50\n",
      "|   |   |   |   |   |   |   |   |   |   |--- feature_5 <= 6.23\n",
      "|   |   |   |   |   |   |   |   |   |   |   |--- truncated branch of depth 3\n",
      "|   |   |   |   |   |   |   |   |   |   |--- feature_5 >  6.23\n",
      "|   |   |   |   |   |   |   |   |   |   |   |--- truncated branch of depth 4\n",
      "|   |   |   |   |   |   |   |   |   |--- feature_5 >  6.50\n",
      "|   |   |   |   |   |   |   |   |   |   |--- value: [16.50]\n",
      "|   |   |   |   |   |   |   |   |--- feature_0 >  0.05\n",
      "|   |   |   |   |   |   |   |   |   |--- feature_6 <= 33.60\n",
      "|   |   |   |   |   |   |   |   |   |   |--- feature_10 <= 16.05\n",
      "|   |   |   |   |   |   |   |   |   |   |   |--- value: [23.90]\n",
      "|   |   |   |   |   |   |   |   |   |   |--- feature_10 >  16.05\n",
      "|   |   |   |   |   |   |   |   |   |   |   |--- truncated branch of depth 2\n",
      "|   |   |   |   |   |   |   |   |   |--- feature_6 >  33.60\n",
      "|   |   |   |   |   |   |   |   |   |   |--- feature_12 <= 9.10\n",
      "|   |   |   |   |   |   |   |   |   |   |   |--- truncated branch of depth 5\n",
      "|   |   |   |   |   |   |   |   |   |   |--- feature_12 >  9.10\n",
      "|   |   |   |   |   |   |   |   |   |   |   |--- truncated branch of depth 4\n",
      "|   |   |   |   |   |   |   |--- feature_12 >  9.98\n",
      "|   |   |   |   |   |   |   |   |--- feature_11 <= 197.52\n",
      "|   |   |   |   |   |   |   |   |   |--- feature_12 <= 11.33\n",
      "|   |   |   |   |   |   |   |   |   |   |--- value: [18.60]\n",
      "|   |   |   |   |   |   |   |   |   |--- feature_12 >  11.33\n",
      "|   |   |   |   |   |   |   |   |   |   |--- value: [16.10]\n",
      "|   |   |   |   |   |   |   |   |--- feature_11 >  197.52\n",
      "|   |   |   |   |   |   |   |   |   |--- feature_10 <= 20.55\n",
      "|   |   |   |   |   |   |   |   |   |   |--- feature_5 <= 6.32\n",
      "|   |   |   |   |   |   |   |   |   |   |   |--- truncated branch of depth 9\n",
      "|   |   |   |   |   |   |   |   |   |   |--- feature_5 >  6.32\n",
      "|   |   |   |   |   |   |   |   |   |   |   |--- truncated branch of depth 6\n",
      "|   |   |   |   |   |   |   |   |   |--- feature_10 >  20.55\n",
      "|   |   |   |   |   |   |   |   |   |   |--- feature_7 <= 3.62\n",
      "|   |   |   |   |   |   |   |   |   |   |   |--- truncated branch of depth 6\n",
      "|   |   |   |   |   |   |   |   |   |   |--- feature_7 >  3.62\n",
      "|   |   |   |   |   |   |   |   |   |   |   |--- truncated branch of depth 2\n",
      "|   |   |   |--- feature_5 >  6.54\n",
      "|   |   |   |   |--- feature_9 <= 269.00\n",
      "|   |   |   |   |   |--- feature_10 <= 17.85\n",
      "|   |   |   |   |   |   |--- feature_11 <= 393.41\n",
      "|   |   |   |   |   |   |   |--- feature_11 <= 392.41\n",
      "|   |   |   |   |   |   |   |   |--- feature_5 <= 6.67\n",
      "|   |   |   |   |   |   |   |   |   |--- value: [29.10]\n",
      "|   |   |   |   |   |   |   |   |--- feature_5 >  6.67\n",
      "|   |   |   |   |   |   |   |   |   |--- value: [30.10]\n",
      "|   |   |   |   |   |   |   |--- feature_11 >  392.41\n",
      "|   |   |   |   |   |   |   |   |--- feature_4 <= 0.41\n",
      "|   |   |   |   |   |   |   |   |   |--- value: [31.10]\n",
      "|   |   |   |   |   |   |   |   |--- feature_4 >  0.41\n",
      "|   |   |   |   |   |   |   |   |   |--- value: [31.60]\n",
      "|   |   |   |   |   |   |--- feature_11 >  393.41\n",
      "|   |   |   |   |   |   |   |--- feature_10 <= 16.25\n",
      "|   |   |   |   |   |   |   |   |--- value: [35.10]\n",
      "|   |   |   |   |   |   |   |--- feature_10 >  16.25\n",
      "|   |   |   |   |   |   |   |   |--- feature_11 <= 395.18\n",
      "|   |   |   |   |   |   |   |   |   |--- value: [33.10]\n",
      "|   |   |   |   |   |   |   |   |--- feature_11 >  395.18\n",
      "|   |   |   |   |   |   |   |   |   |--- feature_7 <= 4.17\n",
      "|   |   |   |   |   |   |   |   |   |   |--- feature_0 <= 0.08\n",
      "|   |   |   |   |   |   |   |   |   |   |   |--- value: [32.40]\n",
      "|   |   |   |   |   |   |   |   |   |   |--- feature_0 >  0.08\n",
      "|   |   |   |   |   |   |   |   |   |   |   |--- value: [32.50]\n",
      "|   |   |   |   |   |   |   |   |   |--- feature_7 >  4.17\n",
      "|   |   |   |   |   |   |   |   |   |   |--- value: [32.00]\n",
      "|   |   |   |   |   |--- feature_10 >  17.85\n",
      "|   |   |   |   |   |   |--- feature_5 <= 6.61\n",
      "|   |   |   |   |   |   |   |--- value: [30.80]\n",
      "|   |   |   |   |   |   |--- feature_5 >  6.61\n",
      "|   |   |   |   |   |   |   |--- feature_1 <= 16.50\n",
      "|   |   |   |   |   |   |   |   |--- value: [26.60]\n",
      "|   |   |   |   |   |   |   |--- feature_1 >  16.50\n",
      "|   |   |   |   |   |   |   |   |--- feature_6 <= 25.65\n",
      "|   |   |   |   |   |   |   |   |   |--- value: [27.90]\n",
      "|   |   |   |   |   |   |   |   |--- feature_6 >  25.65\n",
      "|   |   |   |   |   |   |   |   |   |--- feature_7 <= 3.28\n",
      "|   |   |   |   |   |   |   |   |   |   |--- value: [28.20]\n",
      "|   |   |   |   |   |   |   |   |   |--- feature_7 >  3.28\n",
      "|   |   |   |   |   |   |   |   |   |   |--- feature_8 <= 5.50\n",
      "|   |   |   |   |   |   |   |   |   |   |   |--- value: [28.50]\n",
      "|   |   |   |   |   |   |   |   |   |   |--- feature_8 >  5.50\n",
      "|   |   |   |   |   |   |   |   |   |   |   |--- value: [28.40]\n",
      "|   |   |   |   |--- feature_9 >  269.00\n",
      "|   |   |   |   |   |--- feature_4 <= 0.53\n",
      "|   |   |   |   |   |   |--- feature_4 <= 0.44\n",
      "|   |   |   |   |   |   |   |--- feature_6 <= 35.20\n",
      "|   |   |   |   |   |   |   |   |--- feature_10 <= 18.00\n",
      "|   |   |   |   |   |   |   |   |   |--- feature_11 <= 381.33\n",
      "|   |   |   |   |   |   |   |   |   |   |--- value: [24.80]\n",
      "|   |   |   |   |   |   |   |   |   |--- feature_11 >  381.33\n",
      "|   |   |   |   |   |   |   |   |   |   |--- value: [24.50]\n",
      "|   |   |   |   |   |   |   |   |--- feature_10 >  18.00\n",
      "|   |   |   |   |   |   |   |   |   |--- feature_11 <= 395.32\n",
      "|   |   |   |   |   |   |   |   |   |   |--- feature_4 <= 0.43\n",
      "|   |   |   |   |   |   |   |   |   |   |   |--- value: [26.60]\n",
      "|   |   |   |   |   |   |   |   |   |   |--- feature_4 >  0.43\n",
      "|   |   |   |   |   |   |   |   |   |   |   |--- value: [26.20]\n",
      "|   |   |   |   |   |   |   |   |   |--- feature_11 >  395.32\n",
      "|   |   |   |   |   |   |   |   |   |   |--- value: [28.00]\n",
      "|   |   |   |   |   |   |   |--- feature_6 >  35.20\n",
      "|   |   |   |   |   |   |   |   |--- feature_12 <= 8.43\n",
      "|   |   |   |   |   |   |   |   |   |--- feature_4 <= 0.41\n",
      "|   |   |   |   |   |   |   |   |   |   |--- value: [24.80]\n",
      "|   |   |   |   |   |   |   |   |   |--- feature_4 >  0.41\n",
      "|   |   |   |   |   |   |   |   |   |   |--- feature_10 <= 17.45\n",
      "|   |   |   |   |   |   |   |   |   |   |   |--- value: [23.30]\n",
      "|   |   |   |   |   |   |   |   |   |   |--- feature_10 >  17.45\n",
      "|   |   |   |   |   |   |   |   |   |   |   |--- truncated branch of depth 2\n",
      "|   |   |   |   |   |   |   |   |--- feature_12 >  8.43\n",
      "|   |   |   |   |   |   |   |   |   |--- value: [22.00]\n",
      "|   |   |   |   |   |   |--- feature_4 >  0.44\n",
      "|   |   |   |   |   |   |   |--- feature_12 <= 7.05\n",
      "|   |   |   |   |   |   |   |   |--- feature_9 <= 301.50\n",
      "|   |   |   |   |   |   |   |   |   |--- feature_9 <= 292.50\n",
      "|   |   |   |   |   |   |   |   |   |   |--- feature_11 <= 377.44\n",
      "|   |   |   |   |   |   |   |   |   |   |   |--- value: [28.40]\n",
      "|   |   |   |   |   |   |   |   |   |   |--- feature_11 >  377.44\n",
      "|   |   |   |   |   |   |   |   |   |   |   |--- value: [28.60]\n",
      "|   |   |   |   |   |   |   |   |   |--- feature_9 >  292.50\n",
      "|   |   |   |   |   |   |   |   |   |   |--- feature_11 <= 391.11\n",
      "|   |   |   |   |   |   |   |   |   |   |   |--- value: [29.40]\n",
      "|   |   |   |   |   |   |   |   |   |   |--- feature_11 >  391.11\n",
      "|   |   |   |   |   |   |   |   |   |   |   |--- value: [29.90]\n",
      "|   |   |   |   |   |   |   |   |--- feature_9 >  301.50\n",
      "|   |   |   |   |   |   |   |   |   |--- feature_7 <= 4.18\n",
      "|   |   |   |   |   |   |   |   |   |   |--- feature_12 <= 5.22\n",
      "|   |   |   |   |   |   |   |   |   |   |   |--- value: [31.50]\n",
      "|   |   |   |   |   |   |   |   |   |   |--- feature_12 >  5.22\n",
      "|   |   |   |   |   |   |   |   |   |   |   |--- value: [32.00]\n",
      "|   |   |   |   |   |   |   |   |   |--- feature_7 >  4.18\n",
      "|   |   |   |   |   |   |   |   |   |   |--- feature_1 <= 50.00\n",
      "|   |   |   |   |   |   |   |   |   |   |   |--- truncated branch of depth 2\n",
      "|   |   |   |   |   |   |   |   |   |   |--- feature_1 >  50.00\n",
      "|   |   |   |   |   |   |   |   |   |   |   |--- value: [31.20]\n",
      "|   |   |   |   |   |   |   |--- feature_12 >  7.05\n",
      "|   |   |   |   |   |   |   |   |--- feature_7 <= 3.90\n",
      "|   |   |   |   |   |   |   |   |   |--- feature_5 <= 6.73\n",
      "|   |   |   |   |   |   |   |   |   |   |--- feature_6 <= 73.65\n",
      "|   |   |   |   |   |   |   |   |   |   |   |--- value: [29.00]\n",
      "|   |   |   |   |   |   |   |   |   |   |--- feature_6 >  73.65\n",
      "|   |   |   |   |   |   |   |   |   |   |   |--- value: [30.10]\n",
      "|   |   |   |   |   |   |   |   |   |--- feature_5 >  6.73\n",
      "|   |   |   |   |   |   |   |   |   |   |--- feature_6 <= 74.50\n",
      "|   |   |   |   |   |   |   |   |   |   |   |--- value: [26.50]\n",
      "|   |   |   |   |   |   |   |   |   |   |--- feature_6 >  74.50\n",
      "|   |   |   |   |   |   |   |   |   |   |   |--- value: [27.50]\n",
      "|   |   |   |   |   |   |   |   |--- feature_7 >  3.90\n",
      "|   |   |   |   |   |   |   |   |   |--- feature_8 <= 4.50\n",
      "|   |   |   |   |   |   |   |   |   |   |--- value: [27.10]\n",
      "|   |   |   |   |   |   |   |   |   |--- feature_8 >  4.50\n",
      "|   |   |   |   |   |   |   |   |   |   |--- feature_9 <= 338.50\n",
      "|   |   |   |   |   |   |   |   |   |   |   |--- truncated branch of depth 2\n",
      "|   |   |   |   |   |   |   |   |   |   |--- feature_9 >  338.50\n",
      "|   |   |   |   |   |   |   |   |   |   |   |--- value: [23.90]\n",
      "|   |   |   |   |   |--- feature_4 >  0.53\n",
      "|   |   |   |   |   |   |--- feature_10 <= 17.10\n",
      "|   |   |   |   |   |   |   |--- feature_12 <= 7.33\n",
      "|   |   |   |   |   |   |   |   |--- value: [24.00]\n",
      "|   |   |   |   |   |   |   |--- feature_12 >  7.33\n",
      "|   |   |   |   |   |   |   |   |--- value: [28.70]\n",
      "|   |   |   |   |   |   |--- feature_10 >  17.10\n",
      "|   |   |   |   |   |   |   |--- feature_10 <= 20.60\n",
      "|   |   |   |   |   |   |   |   |--- feature_7 <= 3.32\n",
      "|   |   |   |   |   |   |   |   |   |--- value: [22.80]\n",
      "|   |   |   |   |   |   |   |   |--- feature_7 >  3.32\n",
      "|   |   |   |   |   |   |   |   |   |--- feature_11 <= 394.38\n",
      "|   |   |   |   |   |   |   |   |   |   |--- value: [23.70]\n",
      "|   |   |   |   |   |   |   |   |   |--- feature_11 >  394.38\n",
      "|   |   |   |   |   |   |   |   |   |   |--- value: [23.80]\n",
      "|   |   |   |   |   |   |   |--- feature_10 >  20.60\n",
      "|   |   |   |   |   |   |   |   |--- feature_12 <= 10.82\n",
      "|   |   |   |   |   |   |   |   |   |--- feature_5 <= 6.69\n",
      "|   |   |   |   |   |   |   |   |   |   |--- value: [22.40]\n",
      "|   |   |   |   |   |   |   |   |   |--- feature_5 >  6.69\n",
      "|   |   |   |   |   |   |   |   |   |   |--- value: [22.00]\n",
      "|   |   |   |   |   |   |   |   |--- feature_12 >  10.82\n",
      "|   |   |   |   |   |   |   |   |   |--- value: [21.00]\n",
      "|   |--- feature_12 >  14.40\n",
      "|   |   |--- feature_0 <= 6.99\n",
      "|   |   |   |--- feature_4 <= 0.53\n",
      "|   |   |   |   |--- feature_7 <= 5.57\n",
      "|   |   |   |   |   |--- feature_6 <= 88.55\n",
      "|   |   |   |   |   |   |--- feature_11 <= 385.38\n",
      "|   |   |   |   |   |   |   |--- feature_3 <= 0.50\n",
      "|   |   |   |   |   |   |   |   |--- value: [23.70]\n",
      "|   |   |   |   |   |   |   |--- feature_3 >  0.50\n",
      "|   |   |   |   |   |   |   |   |--- value: [24.40]\n",
      "|   |   |   |   |   |   |--- feature_11 >  385.38\n",
      "|   |   |   |   |   |   |   |--- feature_1 <= 6.25\n",
      "|   |   |   |   |   |   |   |   |--- feature_4 <= 0.50\n",
      "|   |   |   |   |   |   |   |   |   |--- feature_7 <= 4.00\n",
      "|   |   |   |   |   |   |   |   |   |   |--- value: [22.40]\n",
      "|   |   |   |   |   |   |   |   |   |--- feature_7 >  4.00\n",
      "|   |   |   |   |   |   |   |   |   |   |--- value: [22.50]\n",
      "|   |   |   |   |   |   |   |   |--- feature_4 >  0.50\n",
      "|   |   |   |   |   |   |   |   |   |--- value: [23.10]\n",
      "|   |   |   |   |   |   |   |--- feature_1 >  6.25\n",
      "|   |   |   |   |   |   |   |   |--- value: [21.70]\n",
      "|   |   |   |   |   |--- feature_6 >  88.55\n",
      "|   |   |   |   |   |   |--- feature_5 <= 5.91\n",
      "|   |   |   |   |   |   |   |--- feature_7 <= 3.77\n",
      "|   |   |   |   |   |   |   |   |--- feature_6 <= 90.25\n",
      "|   |   |   |   |   |   |   |   |   |--- value: [19.30]\n",
      "|   |   |   |   |   |   |   |   |--- feature_6 >  90.25\n",
      "|   |   |   |   |   |   |   |   |   |--- value: [19.50]\n",
      "|   |   |   |   |   |   |   |--- feature_7 >  3.77\n",
      "|   |   |   |   |   |   |   |   |--- value: [20.00]\n",
      "|   |   |   |   |   |   |--- feature_5 >  5.91\n",
      "|   |   |   |   |   |   |   |--- feature_5 <= 6.20\n",
      "|   |   |   |   |   |   |   |   |--- value: [21.70]\n",
      "|   |   |   |   |   |   |   |--- feature_5 >  6.20\n",
      "|   |   |   |   |   |   |   |   |--- value: [19.40]\n",
      "|   |   |   |   |--- feature_7 >  5.57\n",
      "|   |   |   |   |   |--- feature_0 <= 0.16\n",
      "|   |   |   |   |   |   |--- feature_6 <= 77.05\n",
      "|   |   |   |   |   |   |   |--- feature_1 <= 37.50\n",
      "|   |   |   |   |   |   |   |   |--- value: [20.30]\n",
      "|   |   |   |   |   |   |   |--- feature_1 >  37.50\n",
      "|   |   |   |   |   |   |   |   |--- value: [18.90]\n",
      "|   |   |   |   |   |   |--- feature_6 >  77.05\n",
      "|   |   |   |   |   |   |   |--- value: [27.10]\n",
      "|   |   |   |   |   |--- feature_0 >  0.16\n",
      "|   |   |   |   |   |   |--- feature_6 <= 89.65\n",
      "|   |   |   |   |   |   |   |--- feature_7 <= 5.89\n",
      "|   |   |   |   |   |   |   |   |--- value: [16.60]\n",
      "|   |   |   |   |   |   |   |--- feature_7 >  5.89\n",
      "|   |   |   |   |   |   |   |   |--- feature_6 <= 66.10\n",
      "|   |   |   |   |   |   |   |   |   |--- value: [19.40]\n",
      "|   |   |   |   |   |   |   |   |--- feature_6 >  66.10\n",
      "|   |   |   |   |   |   |   |   |   |--- feature_7 <= 7.27\n",
      "|   |   |   |   |   |   |   |   |   |   |--- value: [18.90]\n",
      "|   |   |   |   |   |   |   |   |   |--- feature_7 >  7.27\n",
      "|   |   |   |   |   |   |   |   |   |   |--- value: [18.50]\n",
      "|   |   |   |   |   |   |--- feature_6 >  89.65\n",
      "|   |   |   |   |   |   |   |--- feature_0 <= 0.22\n",
      "|   |   |   |   |   |   |   |   |--- feature_0 <= 0.19\n",
      "|   |   |   |   |   |   |   |   |   |--- value: [16.00]\n",
      "|   |   |   |   |   |   |   |   |--- feature_0 >  0.19\n",
      "|   |   |   |   |   |   |   |   |   |--- value: [16.50]\n",
      "|   |   |   |   |   |   |   |--- feature_0 >  0.22\n",
      "|   |   |   |   |   |   |   |   |--- feature_2 <= 7.39\n",
      "|   |   |   |   |   |   |   |   |   |--- value: [14.40]\n",
      "|   |   |   |   |   |   |   |   |--- feature_2 >  7.39\n",
      "|   |   |   |   |   |   |   |   |   |--- value: [15.00]\n",
      "|   |   |   |--- feature_4 >  0.53\n",
      "|   |   |   |   |--- feature_12 <= 18.89\n",
      "|   |   |   |   |   |--- feature_6 <= 85.20\n",
      "|   |   |   |   |   |   |--- feature_12 <= 15.24\n",
      "|   |   |   |   |   |   |   |--- feature_9 <= 534.50\n",
      "|   |   |   |   |   |   |   |   |--- feature_9 <= 397.00\n",
      "|   |   |   |   |   |   |   |   |   |--- value: [17.50]\n",
      "|   |   |   |   |   |   |   |   |--- feature_9 >  397.00\n",
      "|   |   |   |   |   |   |   |   |   |--- value: [15.60]\n",
      "|   |   |   |   |   |   |   |--- feature_9 >  534.50\n",
      "|   |   |   |   |   |   |   |   |--- feature_4 <= 0.65\n",
      "|   |   |   |   |   |   |   |   |   |--- value: [19.10]\n",
      "|   |   |   |   |   |   |   |   |--- feature_4 >  0.65\n",
      "|   |   |   |   |   |   |   |   |   |--- value: [20.00]\n",
      "|   |   |   |   |   |   |--- feature_12 >  15.24\n",
      "|   |   |   |   |   |   |   |--- feature_7 <= 2.84\n",
      "|   |   |   |   |   |   |   |   |--- feature_11 <= 358.51\n",
      "|   |   |   |   |   |   |   |   |   |--- value: [20.40]\n",
      "|   |   |   |   |   |   |   |   |--- feature_11 >  358.51\n",
      "|   |   |   |   |   |   |   |   |   |--- feature_8 <= 15.00\n",
      "|   |   |   |   |   |   |   |   |   |   |--- value: [23.10]\n",
      "|   |   |   |   |   |   |   |   |   |--- feature_8 >  15.00\n",
      "|   |   |   |   |   |   |   |   |   |   |--- value: [23.20]\n",
      "|   |   |   |   |   |   |   |--- feature_7 >  2.84\n",
      "|   |   |   |   |   |   |   |   |--- feature_12 <= 17.74\n",
      "|   |   |   |   |   |   |   |   |   |--- feature_6 <= 84.35\n",
      "|   |   |   |   |   |   |   |   |   |   |--- feature_2 <= 14.00\n",
      "|   |   |   |   |   |   |   |   |   |   |   |--- value: [19.80]\n",
      "|   |   |   |   |   |   |   |   |   |   |--- feature_2 >  14.00\n",
      "|   |   |   |   |   |   |   |   |   |   |   |--- value: [19.90]\n",
      "|   |   |   |   |   |   |   |   |   |--- feature_6 >  84.35\n",
      "|   |   |   |   |   |   |   |   |   |   |--- value: [19.00]\n",
      "|   |   |   |   |   |   |   |   |--- feature_12 >  17.74\n",
      "|   |   |   |   |   |   |   |   |   |--- value: [17.80]\n",
      "|   |   |   |   |   |--- feature_6 >  85.20\n",
      "|   |   |   |   |   |   |--- feature_9 <= 291.50\n",
      "|   |   |   |   |   |   |   |--- feature_5 <= 5.92\n",
      "|   |   |   |   |   |   |   |   |--- value: [18.80]\n",
      "|   |   |   |   |   |   |   |--- feature_5 >  5.92\n",
      "|   |   |   |   |   |   |   |   |--- feature_11 <= 381.55\n",
      "|   |   |   |   |   |   |   |   |   |--- value: [20.50]\n",
      "|   |   |   |   |   |   |   |   |--- feature_11 >  381.55\n",
      "|   |   |   |   |   |   |   |   |   |--- feature_11 <= 390.96\n",
      "|   |   |   |   |   |   |   |   |   |   |--- value: [21.40]\n",
      "|   |   |   |   |   |   |   |   |   |--- feature_11 >  390.96\n",
      "|   |   |   |   |   |   |   |   |   |   |--- value: [21.50]\n",
      "|   |   |   |   |   |   |--- feature_9 >  291.50\n",
      "|   |   |   |   |   |   |   |--- feature_12 <= 17.10\n",
      "|   |   |   |   |   |   |   |   |--- feature_5 <= 5.67\n",
      "|   |   |   |   |   |   |   |   |   |--- feature_6 <= 97.00\n",
      "|   |   |   |   |   |   |   |   |   |   |--- feature_11 <= 196.03\n",
      "|   |   |   |   |   |   |   |   |   |   |   |--- value: [13.10]\n",
      "|   |   |   |   |   |   |   |   |   |   |--- feature_11 >  196.03\n",
      "|   |   |   |   |   |   |   |   |   |   |   |--- value: [13.90]\n",
      "|   |   |   |   |   |   |   |   |   |--- feature_6 >  97.00\n",
      "|   |   |   |   |   |   |   |   |   |   |--- value: [15.60]\n",
      "|   |   |   |   |   |   |   |   |--- feature_5 >  5.67\n",
      "|   |   |   |   |   |   |   |   |   |--- feature_11 <= 177.71\n",
      "|   |   |   |   |   |   |   |   |   |   |--- value: [14.30]\n",
      "|   |   |   |   |   |   |   |   |   |--- feature_11 >  177.71\n",
      "|   |   |   |   |   |   |   |   |   |   |--- feature_7 <= 2.58\n",
      "|   |   |   |   |   |   |   |   |   |   |   |--- truncated branch of depth 7\n",
      "|   |   |   |   |   |   |   |   |   |   |--- feature_7 >  2.58\n",
      "|   |   |   |   |   |   |   |   |   |   |   |--- truncated branch of depth 3\n",
      "|   |   |   |   |   |   |   |--- feature_12 >  17.10\n",
      "|   |   |   |   |   |   |   |   |--- feature_7 <= 1.80\n",
      "|   |   |   |   |   |   |   |   |   |--- feature_5 <= 5.92\n",
      "|   |   |   |   |   |   |   |   |   |   |--- value: [16.20]\n",
      "|   |   |   |   |   |   |   |   |   |--- feature_5 >  5.92\n",
      "|   |   |   |   |   |   |   |   |   |   |--- value: [17.80]\n",
      "|   |   |   |   |   |   |   |   |--- feature_7 >  1.80\n",
      "|   |   |   |   |   |   |   |   |   |--- feature_12 <= 18.52\n",
      "|   |   |   |   |   |   |   |   |   |   |--- feature_12 <= 18.06\n",
      "|   |   |   |   |   |   |   |   |   |   |   |--- truncated branch of depth 6\n",
      "|   |   |   |   |   |   |   |   |   |   |--- feature_12 >  18.06\n",
      "|   |   |   |   |   |   |   |   |   |   |   |--- truncated branch of depth 3\n",
      "|   |   |   |   |   |   |   |   |   |--- feature_12 >  18.52\n",
      "|   |   |   |   |   |   |   |   |   |   |--- feature_8 <= 14.00\n",
      "|   |   |   |   |   |   |   |   |   |   |   |--- value: [15.20]\n",
      "|   |   |   |   |   |   |   |   |   |   |--- feature_8 >  14.00\n",
      "|   |   |   |   |   |   |   |   |   |   |   |--- value: [16.70]\n",
      "|   |   |   |   |--- feature_12 >  18.89\n",
      "|   |   |   |   |   |--- feature_9 <= 688.50\n",
      "|   |   |   |   |   |   |--- feature_6 <= 77.45\n",
      "|   |   |   |   |   |   |   |--- value: [19.70]\n",
      "|   |   |   |   |   |   |--- feature_6 >  77.45\n",
      "|   |   |   |   |   |   |   |--- feature_2 <= 23.77\n",
      "|   |   |   |   |   |   |   |   |--- feature_6 <= 95.85\n",
      "|   |   |   |   |   |   |   |   |   |--- feature_7 <= 2.56\n",
      "|   |   |   |   |   |   |   |   |   |   |--- feature_11 <= 372.53\n",
      "|   |   |   |   |   |   |   |   |   |   |   |--- truncated branch of depth 3\n",
      "|   |   |   |   |   |   |   |   |   |   |--- feature_11 >  372.53\n",
      "|   |   |   |   |   |   |   |   |   |   |   |--- truncated branch of depth 2\n",
      "|   |   |   |   |   |   |   |   |   |--- feature_7 >  2.56\n",
      "|   |   |   |   |   |   |   |   |   |   |--- feature_12 <= 25.15\n",
      "|   |   |   |   |   |   |   |   |   |   |   |--- truncated branch of depth 2\n",
      "|   |   |   |   |   |   |   |   |   |   |--- feature_12 >  25.15\n",
      "|   |   |   |   |   |   |   |   |   |   |   |--- value: [13.20]\n",
      "|   |   |   |   |   |   |   |   |--- feature_6 >  95.85\n",
      "|   |   |   |   |   |   |   |   |   |--- feature_6 <= 99.10\n",
      "|   |   |   |   |   |   |   |   |   |   |--- feature_11 <= 394.47\n",
      "|   |   |   |   |   |   |   |   |   |   |   |--- truncated branch of depth 3\n",
      "|   |   |   |   |   |   |   |   |   |   |--- feature_11 >  394.47\n",
      "|   |   |   |   |   |   |   |   |   |   |   |--- truncated branch of depth 2\n",
      "|   |   |   |   |   |   |   |   |   |--- feature_6 >  99.10\n",
      "|   |   |   |   |   |   |   |   |   |   |--- feature_0 <= 3.71\n",
      "|   |   |   |   |   |   |   |   |   |   |   |--- truncated branch of depth 3\n",
      "|   |   |   |   |   |   |   |   |   |   |--- feature_0 >  3.71\n",
      "|   |   |   |   |   |   |   |   |   |   |   |--- value: [15.60]\n",
      "|   |   |   |   |   |   |   |--- feature_2 >  23.77\n",
      "|   |   |   |   |   |   |   |   |--- feature_0 <= 0.27\n",
      "|   |   |   |   |   |   |   |   |   |--- value: [17.30]\n",
      "|   |   |   |   |   |   |   |   |--- feature_0 >  0.27\n",
      "|   |   |   |   |   |   |   |   |   |--- value: [15.70]\n",
      "|   |   |   |   |   |--- feature_9 >  688.50\n",
      "|   |   |   |   |   |   |--- feature_11 <= 331.24\n",
      "|   |   |   |   |   |   |   |--- value: [8.10]\n",
      "|   |   |   |   |   |   |--- feature_11 >  331.24\n",
      "|   |   |   |   |   |   |   |--- value: [7.00]\n",
      "|   |   |--- feature_0 >  6.99\n",
      "|   |   |   |--- feature_4 <= 0.61\n",
      "|   |   |   |   |--- feature_5 <= 6.84\n",
      "|   |   |   |   |   |--- feature_0 <= 12.66\n",
      "|   |   |   |   |   |   |--- feature_6 <= 78.35\n",
      "|   |   |   |   |   |   |   |--- feature_5 <= 5.70\n",
      "|   |   |   |   |   |   |   |   |--- value: [11.70]\n",
      "|   |   |   |   |   |   |   |--- feature_5 >  5.70\n",
      "|   |   |   |   |   |   |   |   |--- value: [10.20]\n",
      "|   |   |   |   |   |   |--- feature_6 >  78.35\n",
      "|   |   |   |   |   |   |   |--- feature_4 <= 0.59\n",
      "|   |   |   |   |   |   |   |   |--- feature_7 <= 2.07\n",
      "|   |   |   |   |   |   |   |   |   |--- value: [14.50]\n",
      "|   |   |   |   |   |   |   |   |--- feature_7 >  2.07\n",
      "|   |   |   |   |   |   |   |   |   |--- feature_11 <= 216.95\n",
      "|   |   |   |   |   |   |   |   |   |   |--- value: [14.10]\n",
      "|   |   |   |   |   |   |   |   |   |--- feature_11 >  216.95\n",
      "|   |   |   |   |   |   |   |   |   |   |--- value: [13.80]\n",
      "|   |   |   |   |   |   |   |--- feature_4 >  0.59\n",
      "|   |   |   |   |   |   |   |   |--- value: [17.20]\n",
      "|   |   |   |   |   |--- feature_0 >  12.66\n",
      "|   |   |   |   |   |   |--- feature_12 <= 19.10\n",
      "|   |   |   |   |   |   |   |--- feature_7 <= 2.87\n",
      "|   |   |   |   |   |   |   |   |--- value: [20.10]\n",
      "|   |   |   |   |   |   |   |--- feature_7 >  2.87\n",
      "|   |   |   |   |   |   |   |   |--- value: [19.10]\n",
      "|   |   |   |   |   |   |--- feature_12 >  19.10\n",
      "|   |   |   |   |   |   |   |--- feature_7 <= 1.57\n",
      "|   |   |   |   |   |   |   |   |--- feature_11 <= 31.92\n",
      "|   |   |   |   |   |   |   |   |   |--- value: [17.90]\n",
      "|   |   |   |   |   |   |   |   |--- feature_11 >  31.92\n",
      "|   |   |   |   |   |   |   |   |   |--- value: [17.20]\n",
      "|   |   |   |   |   |   |   |--- feature_7 >  1.57\n",
      "|   |   |   |   |   |   |   |   |--- value: [16.30]\n",
      "|   |   |   |   |--- feature_5 >  6.84\n",
      "|   |   |   |   |   |--- value: [27.50]\n",
      "|   |   |   |--- feature_4 >  0.61\n",
      "|   |   |   |   |--- feature_12 <= 19.65\n",
      "|   |   |   |   |   |--- feature_0 <= 12.22\n",
      "|   |   |   |   |   |   |--- feature_3 <= 0.50\n",
      "|   |   |   |   |   |   |   |--- feature_12 <= 19.41\n",
      "|   |   |   |   |   |   |   |   |--- feature_6 <= 99.40\n",
      "|   |   |   |   |   |   |   |   |   |--- feature_4 <= 0.73\n",
      "|   |   |   |   |   |   |   |   |   |   |--- feature_6 <= 97.50\n",
      "|   |   |   |   |   |   |   |   |   |   |   |--- truncated branch of depth 4\n",
      "|   |   |   |   |   |   |   |   |   |   |--- feature_6 >  97.50\n",
      "|   |   |   |   |   |   |   |   |   |   |   |--- truncated branch of depth 3\n",
      "|   |   |   |   |   |   |   |   |   |--- feature_4 >  0.73\n",
      "|   |   |   |   |   |   |   |   |   |   |--- value: [12.60]\n",
      "|   |   |   |   |   |   |   |   |--- feature_6 >  99.40\n",
      "|   |   |   |   |   |   |   |   |   |--- feature_0 <= 10.53\n",
      "|   |   |   |   |   |   |   |   |   |   |--- value: [15.40]\n",
      "|   |   |   |   |   |   |   |   |   |--- feature_0 >  10.53\n",
      "|   |   |   |   |   |   |   |   |   |   |--- value: [16.70]\n",
      "|   |   |   |   |   |   |   |--- feature_12 >  19.41\n",
      "|   |   |   |   |   |   |   |   |--- value: [17.10]\n",
      "|   |   |   |   |   |   |--- feature_3 >  0.50\n",
      "|   |   |   |   |   |   |   |--- value: [17.80]\n",
      "|   |   |   |   |   |--- feature_0 >  12.22\n",
      "|   |   |   |   |   |   |--- feature_11 <= 64.06\n",
      "|   |   |   |   |   |   |   |--- feature_7 <= 1.93\n",
      "|   |   |   |   |   |   |   |   |--- value: [10.90]\n",
      "|   |   |   |   |   |   |   |--- feature_7 >  1.93\n",
      "|   |   |   |   |   |   |   |   |--- value: [9.60]\n",
      "|   |   |   |   |   |   |--- feature_11 >  64.06\n",
      "|   |   |   |   |   |   |   |--- feature_11 <= 248.76\n",
      "|   |   |   |   |   |   |   |   |--- value: [11.70]\n",
      "|   |   |   |   |   |   |   |--- feature_11 >  248.76\n",
      "|   |   |   |   |   |   |   |   |--- value: [12.70]\n",
      "|   |   |   |   |--- feature_12 >  19.65\n",
      "|   |   |   |   |   |--- feature_4 <= 0.68\n",
      "|   |   |   |   |   |   |--- feature_12 <= 22.51\n",
      "|   |   |   |   |   |   |   |--- feature_6 <= 98.95\n",
      "|   |   |   |   |   |   |   |   |--- value: [13.30]\n",
      "|   |   |   |   |   |   |   |--- feature_6 >  98.95\n",
      "|   |   |   |   |   |   |   |   |--- feature_7 <= 1.45\n",
      "|   |   |   |   |   |   |   |   |   |--- value: [10.20]\n",
      "|   |   |   |   |   |   |   |   |--- feature_7 >  1.45\n",
      "|   |   |   |   |   |   |   |   |   |--- value: [10.90]\n",
      "|   |   |   |   |   |   |--- feature_12 >  22.51\n",
      "|   |   |   |   |   |   |   |--- feature_4 <= 0.66\n",
      "|   |   |   |   |   |   |   |   |--- feature_12 <= 23.32\n",
      "|   |   |   |   |   |   |   |   |   |--- value: [13.40]\n",
      "|   |   |   |   |   |   |   |   |--- feature_12 >  23.32\n",
      "|   |   |   |   |   |   |   |   |   |--- feature_5 <= 4.72\n",
      "|   |   |   |   |   |   |   |   |   |   |--- value: [11.90]\n",
      "|   |   |   |   |   |   |   |   |   |--- feature_5 >  4.72\n",
      "|   |   |   |   |   |   |   |   |   |   |--- value: [12.00]\n",
      "|   |   |   |   |   |   |   |--- feature_4 >  0.66\n",
      "|   |   |   |   |   |   |   |   |--- feature_7 <= 1.37\n",
      "|   |   |   |   |   |   |   |   |   |--- feature_12 <= 29.01\n",
      "|   |   |   |   |   |   |   |   |   |   |--- value: [13.90]\n",
      "|   |   |   |   |   |   |   |   |   |--- feature_12 >  29.01\n",
      "|   |   |   |   |   |   |   |   |   |   |--- value: [13.80]\n",
      "|   |   |   |   |   |   |   |   |--- feature_7 >  1.37\n",
      "|   |   |   |   |   |   |   |   |   |--- value: [13.10]\n",
      "|   |   |   |   |   |--- feature_4 >  0.68\n",
      "|   |   |   |   |   |   |--- feature_0 <= 13.24\n",
      "|   |   |   |   |   |   |   |--- feature_12 <= 25.74\n",
      "|   |   |   |   |   |   |   |   |--- feature_4 <= 0.73\n",
      "|   |   |   |   |   |   |   |   |   |--- feature_6 <= 99.45\n",
      "|   |   |   |   |   |   |   |   |   |   |--- feature_0 <= 11.70\n",
      "|   |   |   |   |   |   |   |   |   |   |   |--- truncated branch of depth 4\n",
      "|   |   |   |   |   |   |   |   |   |   |--- feature_0 >  11.70\n",
      "|   |   |   |   |   |   |   |   |   |   |   |--- value: [8.40]\n",
      "|   |   |   |   |   |   |   |   |   |--- feature_6 >  99.45\n",
      "|   |   |   |   |   |   |   |   |   |   |--- feature_7 <= 1.56\n",
      "|   |   |   |   |   |   |   |   |   |   |   |--- value: [12.30]\n",
      "|   |   |   |   |   |   |   |   |   |   |--- feature_7 >  1.56\n",
      "|   |   |   |   |   |   |   |   |   |   |   |--- truncated branch of depth 2\n",
      "|   |   |   |   |   |   |   |   |--- feature_4 >  0.73\n",
      "|   |   |   |   |   |   |   |   |   |--- feature_12 <= 23.53\n",
      "|   |   |   |   |   |   |   |   |   |   |--- feature_6 <= 94.25\n",
      "|   |   |   |   |   |   |   |   |   |   |   |--- value: [12.80]\n",
      "|   |   |   |   |   |   |   |   |   |   |--- feature_6 >  94.25\n",
      "|   |   |   |   |   |   |   |   |   |   |   |--- value: [13.40]\n",
      "|   |   |   |   |   |   |   |   |   |--- feature_12 >  23.53\n",
      "|   |   |   |   |   |   |   |   |   |   |--- feature_7 <= 1.94\n",
      "|   |   |   |   |   |   |   |   |   |   |   |--- value: [10.80]\n",
      "|   |   |   |   |   |   |   |   |   |   |--- feature_7 >  1.94\n",
      "|   |   |   |   |   |   |   |   |   |   |   |--- value: [11.80]\n",
      "|   |   |   |   |   |   |   |--- feature_12 >  25.74\n",
      "|   |   |   |   |   |   |   |   |--- feature_4 <= 0.69\n",
      "|   |   |   |   |   |   |   |   |   |--- value: [7.50]\n",
      "|   |   |   |   |   |   |   |   |--- feature_4 >  0.69\n",
      "|   |   |   |   |   |   |   |   |   |--- value: [6.30]\n",
      "|   |   |   |   |   |   |--- feature_0 >  13.24\n",
      "|   |   |   |   |   |   |   |--- feature_7 <= 1.59\n",
      "|   |   |   |   |   |   |   |   |--- feature_5 <= 4.83\n",
      "|   |   |   |   |   |   |   |   |   |--- feature_6 <= 95.60\n",
      "|   |   |   |   |   |   |   |   |   |   |--- value: [8.80]\n",
      "|   |   |   |   |   |   |   |   |   |--- feature_6 >  95.60\n",
      "|   |   |   |   |   |   |   |   |   |   |--- value: [10.50]\n",
      "|   |   |   |   |   |   |   |   |--- feature_5 >  4.83\n",
      "|   |   |   |   |   |   |   |   |   |--- feature_0 <= 23.82\n",
      "|   |   |   |   |   |   |   |   |   |   |--- feature_6 <= 93.80\n",
      "|   |   |   |   |   |   |   |   |   |   |   |--- value: [7.40]\n",
      "|   |   |   |   |   |   |   |   |   |   |--- feature_6 >  93.80\n",
      "|   |   |   |   |   |   |   |   |   |   |   |--- value: [7.20]\n",
      "|   |   |   |   |   |   |   |   |   |--- feature_0 >  23.82\n",
      "|   |   |   |   |   |   |   |   |   |   |--- feature_5 <= 5.84\n",
      "|   |   |   |   |   |   |   |   |   |   |   |--- value: [5.00]\n",
      "|   |   |   |   |   |   |   |   |   |   |--- feature_5 >  5.84\n",
      "|   |   |   |   |   |   |   |   |   |   |   |--- value: [5.60]\n",
      "|   |   |   |   |   |   |   |--- feature_7 >  1.59\n",
      "|   |   |   |   |   |   |   |   |--- feature_11 <= 107.81\n",
      "|   |   |   |   |   |   |   |   |   |--- feature_11 <= 21.85\n",
      "|   |   |   |   |   |   |   |   |   |   |--- feature_5 <= 5.93\n",
      "|   |   |   |   |   |   |   |   |   |   |   |--- value: [8.30]\n",
      "|   |   |   |   |   |   |   |   |   |   |--- feature_5 >  5.93\n",
      "|   |   |   |   |   |   |   |   |   |   |   |--- truncated branch of depth 2\n",
      "|   |   |   |   |   |   |   |   |   |--- feature_11 >  21.85\n",
      "|   |   |   |   |   |   |   |   |   |   |--- feature_0 <= 15.88\n",
      "|   |   |   |   |   |   |   |   |   |   |   |--- value: [8.40]\n",
      "|   |   |   |   |   |   |   |   |   |   |--- feature_0 >  15.88\n",
      "|   |   |   |   |   |   |   |   |   |   |   |--- truncated branch of depth 2\n",
      "|   |   |   |   |   |   |   |   |--- feature_11 >  107.81\n",
      "|   |   |   |   |   |   |   |   |   |--- feature_12 <= 20.94\n",
      "|   |   |   |   |   |   |   |   |   |   |--- value: [8.30]\n",
      "|   |   |   |   |   |   |   |   |   |--- feature_12 >  20.94\n",
      "|   |   |   |   |   |   |   |   |   |   |--- feature_0 <= 33.73\n",
      "|   |   |   |   |   |   |   |   |   |   |   |--- truncated branch of depth 3\n",
      "|   |   |   |   |   |   |   |   |   |   |--- feature_0 >  33.73\n",
      "|   |   |   |   |   |   |   |   |   |   |   |--- value: [8.50]\n",
      "|--- feature_5 >  6.94\n",
      "|   |--- feature_5 <= 7.44\n",
      "|   |   |--- feature_4 <= 0.66\n",
      "|   |   |   |--- feature_7 <= 1.89\n",
      "|   |   |   |   |--- feature_9 <= 534.50\n",
      "|   |   |   |   |   |--- value: [41.30]\n",
      "|   |   |   |   |--- feature_9 >  534.50\n",
      "|   |   |   |   |   |--- value: [50.00]\n",
      "|   |   |   |--- feature_7 >  1.89\n",
      "|   |   |   |   |--- feature_4 <= 0.49\n",
      "|   |   |   |   |   |--- feature_6 <= 11.95\n",
      "|   |   |   |   |   |   |--- feature_6 <= 8.40\n",
      "|   |   |   |   |   |   |   |--- value: [29.60]\n",
      "|   |   |   |   |   |   |--- feature_6 >  8.40\n",
      "|   |   |   |   |   |   |   |--- value: [29.00]\n",
      "|   |   |   |   |   |--- feature_6 >  11.95\n",
      "|   |   |   |   |   |   |--- feature_12 <= 5.44\n",
      "|   |   |   |   |   |   |   |--- feature_0 <= 0.05\n",
      "|   |   |   |   |   |   |   |   |--- feature_12 <= 4.50\n",
      "|   |   |   |   |   |   |   |   |   |--- feature_7 <= 5.73\n",
      "|   |   |   |   |   |   |   |   |   |   |--- feature_0 <= 0.03\n",
      "|   |   |   |   |   |   |   |   |   |   |   |--- value: [34.70]\n",
      "|   |   |   |   |   |   |   |   |   |   |--- feature_0 >  0.03\n",
      "|   |   |   |   |   |   |   |   |   |   |   |--- value: [34.90]\n",
      "|   |   |   |   |   |   |   |   |   |--- feature_7 >  5.73\n",
      "|   |   |   |   |   |   |   |   |   |   |--- feature_1 <= 87.50\n",
      "|   |   |   |   |   |   |   |   |   |   |   |--- truncated branch of depth 2\n",
      "|   |   |   |   |   |   |   |   |   |   |--- feature_1 >  87.50\n",
      "|   |   |   |   |   |   |   |   |   |   |   |--- value: [32.90]\n",
      "|   |   |   |   |   |   |   |   |--- feature_12 >  4.50\n",
      "|   |   |   |   |   |   |   |   |   |--- feature_8 <= 4.00\n",
      "|   |   |   |   |   |   |   |   |   |   |--- value: [34.90]\n",
      "|   |   |   |   |   |   |   |   |   |--- feature_8 >  4.00\n",
      "|   |   |   |   |   |   |   |   |   |   |--- feature_6 <= 29.55\n",
      "|   |   |   |   |   |   |   |   |   |   |   |--- value: [35.40]\n",
      "|   |   |   |   |   |   |   |   |   |   |--- feature_6 >  29.55\n",
      "|   |   |   |   |   |   |   |   |   |   |   |--- value: [35.40]\n",
      "|   |   |   |   |   |   |   |--- feature_0 >  0.05\n",
      "|   |   |   |   |   |   |   |   |--- feature_2 <= 5.52\n",
      "|   |   |   |   |   |   |   |   |   |--- feature_12 <= 5.36\n",
      "|   |   |   |   |   |   |   |   |   |   |--- feature_7 <= 5.59\n",
      "|   |   |   |   |   |   |   |   |   |   |   |--- truncated branch of depth 3\n",
      "|   |   |   |   |   |   |   |   |   |   |--- feature_7 >  5.59\n",
      "|   |   |   |   |   |   |   |   |   |   |   |--- truncated branch of depth 3\n",
      "|   |   |   |   |   |   |   |   |   |--- feature_12 >  5.36\n",
      "|   |   |   |   |   |   |   |   |   |   |--- value: [34.90]\n",
      "|   |   |   |   |   |   |   |   |--- feature_2 >  5.52\n",
      "|   |   |   |   |   |   |   |   |   |--- value: [33.10]\n",
      "|   |   |   |   |   |   |--- feature_12 >  5.44\n",
      "|   |   |   |   |   |   |   |--- feature_6 <= 37.45\n",
      "|   |   |   |   |   |   |   |   |--- feature_1 <= 85.00\n",
      "|   |   |   |   |   |   |   |   |   |--- value: [30.30]\n",
      "|   |   |   |   |   |   |   |   |--- feature_1 >  85.00\n",
      "|   |   |   |   |   |   |   |   |   |--- value: [32.20]\n",
      "|   |   |   |   |   |   |   |--- feature_6 >  37.45\n",
      "|   |   |   |   |   |   |   |   |--- feature_6 <= 45.05\n",
      "|   |   |   |   |   |   |   |   |   |--- feature_5 <= 7.26\n",
      "|   |   |   |   |   |   |   |   |   |   |--- value: [36.10]\n",
      "|   |   |   |   |   |   |   |   |   |--- feature_5 >  7.26\n",
      "|   |   |   |   |   |   |   |   |   |   |--- value: [34.60]\n",
      "|   |   |   |   |   |   |   |   |--- feature_6 >  45.05\n",
      "|   |   |   |   |   |   |   |   |   |--- feature_4 <= 0.44\n",
      "|   |   |   |   |   |   |   |   |   |   |--- feature_9 <= 250.00\n",
      "|   |   |   |   |   |   |   |   |   |   |   |--- value: [33.00]\n",
      "|   |   |   |   |   |   |   |   |   |   |--- feature_9 >  250.00\n",
      "|   |   |   |   |   |   |   |   |   |   |   |--- value: [32.70]\n",
      "|   |   |   |   |   |   |   |   |   |--- feature_4 >  0.44\n",
      "|   |   |   |   |   |   |   |   |   |   |--- feature_2 <= 2.54\n",
      "|   |   |   |   |   |   |   |   |   |   |   |--- value: [33.40]\n",
      "|   |   |   |   |   |   |   |   |   |   |--- feature_2 >  2.54\n",
      "|   |   |   |   |   |   |   |   |   |   |   |--- value: [33.20]\n",
      "|   |   |   |   |--- feature_4 >  0.49\n",
      "|   |   |   |   |   |--- feature_5 <= 7.12\n",
      "|   |   |   |   |   |   |--- feature_12 <= 10.68\n",
      "|   |   |   |   |   |   |   |--- feature_6 <= 70.05\n",
      "|   |   |   |   |   |   |   |   |--- value: [28.70]\n",
      "|   |   |   |   |   |   |   |--- feature_6 >  70.05\n",
      "|   |   |   |   |   |   |   |   |--- feature_5 <= 6.96\n",
      "|   |   |   |   |   |   |   |   |   |--- value: [26.70]\n",
      "|   |   |   |   |   |   |   |   |--- feature_5 >  6.96\n",
      "|   |   |   |   |   |   |   |   |   |--- feature_12 <= 6.33\n",
      "|   |   |   |   |   |   |   |   |   |   |--- feature_10 <= 19.40\n",
      "|   |   |   |   |   |   |   |   |   |   |   |--- value: [23.60]\n",
      "|   |   |   |   |   |   |   |   |   |   |--- feature_10 >  19.40\n",
      "|   |   |   |   |   |   |   |   |   |   |   |--- value: [23.90]\n",
      "|   |   |   |   |   |   |   |   |   |--- feature_12 >  6.33\n",
      "|   |   |   |   |   |   |   |   |   |   |--- value: [25.00]\n",
      "|   |   |   |   |   |   |--- feature_12 >  10.68\n",
      "|   |   |   |   |   |   |   |--- feature_12 <= 13.22\n",
      "|   |   |   |   |   |   |   |   |--- value: [29.80]\n",
      "|   |   |   |   |   |   |   |--- feature_12 >  13.22\n",
      "|   |   |   |   |   |   |   |   |--- value: [30.70]\n",
      "|   |   |   |   |   |--- feature_5 >  7.12\n",
      "|   |   |   |   |   |   |--- feature_7 <= 2.00\n",
      "|   |   |   |   |   |   |   |--- feature_11 <= 385.59\n",
      "|   |   |   |   |   |   |   |   |--- value: [36.00]\n",
      "|   |   |   |   |   |   |   |--- feature_11 >  385.59\n",
      "|   |   |   |   |   |   |   |   |--- value: [36.50]\n",
      "|   |   |   |   |   |   |--- feature_7 >  2.00\n",
      "|   |   |   |   |   |   |   |--- feature_5 <= 7.27\n",
      "|   |   |   |   |   |   |   |   |--- feature_12 <= 7.98\n",
      "|   |   |   |   |   |   |   |   |   |--- value: [31.60]\n",
      "|   |   |   |   |   |   |   |   |--- feature_12 >  7.98\n",
      "|   |   |   |   |   |   |   |   |   |--- value: [33.80]\n",
      "|   |   |   |   |   |   |   |--- feature_5 >  7.27\n",
      "|   |   |   |   |   |   |   |   |--- feature_7 <= 2.88\n",
      "|   |   |   |   |   |   |   |   |   |--- value: [31.00]\n",
      "|   |   |   |   |   |   |   |   |--- feature_7 >  2.88\n",
      "|   |   |   |   |   |   |   |   |   |--- feature_6 <= 74.25\n",
      "|   |   |   |   |   |   |   |   |   |   |--- value: [31.50]\n",
      "|   |   |   |   |   |   |   |   |   |--- feature_6 >  74.25\n",
      "|   |   |   |   |   |   |   |   |   |   |--- value: [31.70]\n",
      "|   |   |--- feature_4 >  0.66\n",
      "|   |   |   |--- feature_6 <= 94.90\n",
      "|   |   |   |   |--- value: [10.40]\n",
      "|   |   |   |--- feature_6 >  94.90\n",
      "|   |   |   |   |--- feature_5 <= 7.35\n",
      "|   |   |   |   |   |--- value: [15.00]\n",
      "|   |   |   |   |--- feature_5 >  7.35\n",
      "|   |   |   |   |   |--- value: [17.80]\n",
      "|   |--- feature_5 >  7.44\n",
      "|   |   |--- feature_10 <= 19.65\n",
      "|   |   |   |--- feature_10 <= 14.80\n",
      "|   |   |   |   |--- feature_5 <= 7.71\n",
      "|   |   |   |   |   |--- feature_0 <= 1.00\n",
      "|   |   |   |   |   |   |--- feature_9 <= 306.00\n",
      "|   |   |   |   |   |   |   |--- feature_0 <= 0.54\n",
      "|   |   |   |   |   |   |   |   |--- value: [43.10]\n",
      "|   |   |   |   |   |   |   |--- feature_0 >  0.54\n",
      "|   |   |   |   |   |   |   |   |--- value: [43.50]\n",
      "|   |   |   |   |   |   |--- feature_9 >  306.00\n",
      "|   |   |   |   |   |   |   |--- value: [42.30]\n",
      "|   |   |   |   |   |--- feature_0 >  1.00\n",
      "|   |   |   |   |   |   |--- value: [50.00]\n",
      "|   |   |   |   |--- feature_5 >  7.71\n",
      "|   |   |   |   |   |--- feature_12 <= 3.75\n",
      "|   |   |   |   |   |   |--- value: [50.00]\n",
      "|   |   |   |   |   |--- feature_12 >  3.75\n",
      "|   |   |   |   |   |   |--- feature_0 <= 0.55\n",
      "|   |   |   |   |   |   |   |--- feature_9 <= 244.00\n",
      "|   |   |   |   |   |   |   |   |--- value: [48.50]\n",
      "|   |   |   |   |   |   |   |--- feature_9 >  244.00\n",
      "|   |   |   |   |   |   |   |   |--- value: [48.80]\n",
      "|   |   |   |   |   |   |--- feature_0 >  0.55\n",
      "|   |   |   |   |   |   |   |--- value: [50.00]\n",
      "|   |   |   |--- feature_10 >  14.80\n",
      "|   |   |   |   |--- feature_11 <= 385.48\n",
      "|   |   |   |   |   |--- feature_0 <= 0.32\n",
      "|   |   |   |   |   |   |--- feature_5 <= 7.98\n",
      "|   |   |   |   |   |   |   |--- feature_6 <= 33.35\n",
      "|   |   |   |   |   |   |   |   |--- value: [46.70]\n",
      "|   |   |   |   |   |   |   |--- feature_6 >  33.35\n",
      "|   |   |   |   |   |   |   |   |--- value: [46.00]\n",
      "|   |   |   |   |   |   |--- feature_5 >  7.98\n",
      "|   |   |   |   |   |   |   |--- value: [44.80]\n",
      "|   |   |   |   |   |--- feature_0 >  0.32\n",
      "|   |   |   |   |   |   |--- feature_11 <= 380.48\n",
      "|   |   |   |   |   |   |   |--- value: [48.30]\n",
      "|   |   |   |   |   |   |--- feature_11 >  380.48\n",
      "|   |   |   |   |   |   |   |--- value: [50.00]\n",
      "|   |   |   |   |--- feature_11 >  385.48\n",
      "|   |   |   |   |   |--- feature_0 <= 0.06\n",
      "|   |   |   |   |   |   |--- feature_4 <= 0.47\n",
      "|   |   |   |   |   |   |   |--- feature_10 <= 15.40\n",
      "|   |   |   |   |   |   |   |   |--- value: [45.40]\n",
      "|   |   |   |   |   |   |   |--- feature_10 >  15.40\n",
      "|   |   |   |   |   |   |   |   |--- value: [44.00]\n",
      "|   |   |   |   |   |   |--- feature_4 >  0.47\n",
      "|   |   |   |   |   |   |   |--- value: [50.00]\n",
      "|   |   |   |   |   |--- feature_0 >  0.06\n",
      "|   |   |   |   |   |   |--- feature_6 <= 44.35\n",
      "|   |   |   |   |   |   |   |--- feature_8 <= 4.50\n",
      "|   |   |   |   |   |   |   |   |--- value: [43.80]\n",
      "|   |   |   |   |   |   |   |--- feature_8 >  4.50\n",
      "|   |   |   |   |   |   |   |   |--- value: [42.80]\n",
      "|   |   |   |   |   |   |--- feature_6 >  44.35\n",
      "|   |   |   |   |   |   |   |--- feature_6 <= 62.55\n",
      "|   |   |   |   |   |   |   |   |--- value: [35.20]\n",
      "|   |   |   |   |   |   |   |--- feature_6 >  62.55\n",
      "|   |   |   |   |   |   |   |   |--- feature_0 <= 0.48\n",
      "|   |   |   |   |   |   |   |   |   |--- feature_6 <= 84.90\n",
      "|   |   |   |   |   |   |   |   |   |   |--- feature_4 <= 0.47\n",
      "|   |   |   |   |   |   |   |   |   |   |   |--- value: [38.70]\n",
      "|   |   |   |   |   |   |   |   |   |   |--- feature_4 >  0.47\n",
      "|   |   |   |   |   |   |   |   |   |   |   |--- value: [39.80]\n",
      "|   |   |   |   |   |   |   |   |   |--- feature_6 >  84.90\n",
      "|   |   |   |   |   |   |   |   |   |   |--- value: [37.60]\n",
      "|   |   |   |   |   |   |   |   |--- feature_0 >  0.48\n",
      "|   |   |   |   |   |   |   |   |   |--- value: [41.70]\n",
      "|   |   |--- feature_10 >  19.65\n",
      "|   |   |   |--- value: [21.90]\n",
      "\n"
     ]
    }
   ],
   "source": [
    "print(tree.export_text(model))"
   ]
  },
  {
   "cell_type": "markdown",
   "metadata": {
    "id": "FL1M2O2ZcZn2"
   },
   "source": [
    "##### plot_tree를 사용한 시각화"
   ]
  },
  {
   "cell_type": "code",
   "execution_count": 56,
   "metadata": {
    "id": "Pvq9HEXQyEgu"
   },
   "outputs": [
    {
     "data": {
      "text/plain": [
       "[Text(227.93429103450882, 212.004, 'X[5] <= 6.941\\nmse = 84.42\\nsamples = 506\\nvalue = 22.533'),\n",
       " Text(142.03211798061983, 201.132, 'X[12] <= 14.4\\nmse = 40.273\\nsamples = 430\\nvalue = 19.934'),\n",
       " Text(63.15832694880871, 190.26, 'X[7] <= 1.385\\nmse = 26.009\\nsamples = 255\\nvalue = 23.35'),\n",
       " Text(36.124707570787294, 179.388, 'X[11] <= 339.985\\nmse = 78.146\\nsamples = 5\\nvalue = 45.58'),\n",
       " Text(35.50813298515194, 168.516, 'mse = 0.0\\nsamples = 1\\nvalue = 27.9'),\n",
       " Text(36.741282156422656, 168.516, 'mse = 0.0\\nsamples = 4\\nvalue = 50.0'),\n",
       " Text(90.19194632683012, 179.388, 'X[5] <= 6.543\\nmse = 14.885\\nsamples = 250\\nvalue = 22.905'),\n",
       " Text(37.974431327693374, 168.516, 'X[12] <= 7.57\\nmse = 8.39\\nsamples = 195\\nvalue = 21.63'),\n",
       " Text(13.477935082872929, 157.644, 'X[9] <= 222.5\\nmse = 3.015\\nsamples = 43\\nvalue = 23.97'),\n",
       " Text(12.86136049723757, 146.772, 'mse = 0.0\\nsamples = 1\\nvalue = 28.7'),\n",
       " Text(14.09450966850829, 146.772, 'X[2] <= 5.48\\nmse = 2.541\\nsamples = 42\\nvalue = 23.857'),\n",
       " Text(9.788121546961326, 135.9, 'X[10] <= 19.95\\nmse = 1.328\\nsamples = 19\\nvalue = 23.011'),\n",
       " Text(6.011602209944752, 125.02799999999999, 'X[11] <= 393.33\\nmse = 0.72\\nsamples = 16\\nvalue = 23.356'),\n",
       " Text(2.4662983425414367, 114.156, 'X[2] <= 3.895\\nmse = 0.337\\nsamples = 8\\nvalue = 22.962'),\n",
       " Text(1.2331491712707183, 103.28399999999999, 'X[5] <= 6.22\\nmse = 0.096\\nsamples = 3\\nvalue = 22.333'),\n",
       " Text(0.6165745856353592, 92.412, 'mse = 0.0\\nsamples = 1\\nvalue = 21.9'),\n",
       " Text(1.8497237569060774, 92.412, 'X[2] <= 2.74\\nmse = 0.002\\nsamples = 2\\nvalue = 22.55'),\n",
       " Text(1.2331491712707183, 81.53999999999999, 'mse = 0.0\\nsamples = 1\\nvalue = 22.5'),\n",
       " Text(2.4662983425414367, 81.53999999999999, 'mse = -0.0\\nsamples = 1\\nvalue = 22.6'),\n",
       " Text(3.6994475138121548, 103.28399999999999, 'X[11] <= 385.025\\nmse = 0.102\\nsamples = 5\\nvalue = 23.34'),\n",
       " Text(3.082872928176796, 92.412, 'mse = 0.0\\nsamples = 2\\nvalue = 23.7'),\n",
       " Text(4.3160220994475145, 92.412, 'X[4] <= 0.427\\nmse = 0.027\\nsamples = 3\\nvalue = 23.1'),\n",
       " Text(3.6994475138121548, 81.53999999999999, 'mse = 0.0\\nsamples = 1\\nvalue = 22.9'),\n",
       " Text(4.932596685082873, 81.53999999999999, 'X[4] <= 0.441\\nmse = 0.01\\nsamples = 2\\nvalue = 23.2'),\n",
       " Text(4.3160220994475145, 70.668, 'mse = 0.0\\nsamples = 1\\nvalue = 23.1'),\n",
       " Text(5.549171270718232, 70.668, 'mse = -0.0\\nsamples = 1\\nvalue = 23.3'),\n",
       " Text(9.556906077348067, 114.156, 'X[5] <= 6.419\\nmse = 0.793\\nsamples = 8\\nvalue = 23.75'),\n",
       " Text(8.015469613259668, 103.28399999999999, 'X[4] <= 0.407\\nmse = 0.376\\nsamples = 6\\nvalue = 24.15'),\n",
       " Text(6.782320441988951, 92.412, 'X[10] <= 16.35\\nmse = 0.022\\nsamples = 2\\nvalue = 23.35'),\n",
       " Text(6.165745856353592, 81.53999999999999, 'mse = 0.0\\nsamples = 1\\nvalue = 23.5'),\n",
       " Text(7.3988950276243095, 81.53999999999999, 'mse = -0.0\\nsamples = 1\\nvalue = 23.2'),\n",
       " Text(9.248618784530388, 92.412, 'X[12] <= 7.075\\nmse = 0.073\\nsamples = 4\\nvalue = 24.55'),\n",
       " Text(8.632044198895029, 81.53999999999999, 'X[8] <= 4.5\\nmse = 0.007\\nsamples = 3\\nvalue = 24.7'),\n",
       " Text(8.015469613259668, 70.668, 'X[1] <= 55.0\\nmse = 0.003\\nsamples = 2\\nvalue = 24.75'),\n",
       " Text(7.3988950276243095, 59.79599999999999, 'mse = 0.0\\nsamples = 1\\nvalue = 24.8'),\n",
       " Text(8.632044198895029, 59.79599999999999, 'mse = 0.0\\nsamples = 1\\nvalue = 24.7'),\n",
       " Text(9.248618784530388, 70.668, 'mse = -0.0\\nsamples = 1\\nvalue = 24.6'),\n",
       " Text(9.865193370165747, 81.53999999999999, 'mse = 0.0\\nsamples = 1\\nvalue = 24.1'),\n",
       " Text(11.098342541436464, 103.28399999999999, 'X[7] <= 8.009\\nmse = 0.122\\nsamples = 2\\nvalue = 22.55'),\n",
       " Text(10.481767955801105, 92.412, 'mse = 0.0\\nsamples = 1\\nvalue = 22.2'),\n",
       " Text(11.714917127071825, 92.412, 'mse = 0.0\\nsamples = 1\\nvalue = 22.9'),\n",
       " Text(13.564640883977901, 125.02799999999999, 'X[5] <= 6.313\\nmse = 0.536\\nsamples = 3\\nvalue = 21.167'),\n",
       " Text(12.948066298342543, 114.156, 'X[11] <= 382.72\\nmse = 0.003\\nsamples = 2\\nvalue = 20.65'),\n",
       " Text(12.331491712707184, 103.28399999999999, 'mse = 0.0\\nsamples = 1\\nvalue = 20.6'),\n",
       " Text(13.564640883977901, 103.28399999999999, 'mse = 0.0\\nsamples = 1\\nvalue = 20.7'),\n",
       " Text(14.18121546961326, 114.156, 'mse = -0.0\\nsamples = 1\\nvalue = 22.2'),\n",
       " Text(18.40089779005525, 135.9, 'X[1] <= 34.0\\nmse = 2.462\\nsamples = 23\\nvalue = 24.557'),\n",
       " Text(17.78432320441989, 125.02799999999999, 'X[11] <= 359.505\\nmse = 1.593\\nsamples = 22\\nvalue = 24.35'),\n",
       " Text(15.41436464088398, 114.156, 'X[6] <= 96.3\\nmse = 1.976\\nsamples = 3\\nvalue = 26.267'),\n",
       " Text(14.797790055248619, 103.28399999999999, 'X[6] <= 90.25\\nmse = 0.062\\nsamples = 2\\nvalue = 27.25'),\n",
       " Text(14.18121546961326, 92.412, 'mse = 0.0\\nsamples = 1\\nvalue = 27.5'),\n",
       " Text(15.41436464088398, 92.412, 'mse = 0.0\\nsamples = 1\\nvalue = 27.0'),\n",
       " Text(16.030939226519337, 103.28399999999999, 'mse = -0.0\\nsamples = 1\\nvalue = 24.3'),\n",
       " Text(20.1542817679558, 114.156, 'X[5] <= 6.146\\nmse = 0.86\\nsamples = 19\\nvalue = 24.047'),\n",
       " Text(17.264088397790058, 103.28399999999999, 'X[6] <= 41.05\\nmse = 0.176\\nsamples = 3\\nvalue = 22.667'),\n",
       " Text(16.6475138121547, 92.412, 'X[12] <= 6.05\\nmse = 0.023\\nsamples = 2\\nvalue = 22.95'),\n",
       " Text(16.030939226519337, 81.53999999999999, 'mse = 0.0\\nsamples = 1\\nvalue = 22.8'),\n",
       " Text(17.264088397790058, 81.53999999999999, 'mse = -0.0\\nsamples = 1\\nvalue = 23.1'),\n",
       " Text(17.880662983425417, 92.412, 'mse = 0.0\\nsamples = 1\\nvalue = 22.1'),\n",
       " Text(23.04447513812155, 103.28399999999999, 'X[9] <= 278.5\\nmse = 0.564\\nsamples = 16\\nvalue = 24.306'),\n",
       " Text(19.113812154696134, 92.412, 'X[6] <= 6.55\\nmse = 0.042\\nsamples = 5\\nvalue = 25.04'),\n",
       " Text(18.497237569060776, 81.53999999999999, 'mse = 0.0\\nsamples = 1\\nvalue = 24.7'),\n",
       " Text(19.730386740331493, 81.53999999999999, 'X[0] <= 0.098\\nmse = 0.017\\nsamples = 4\\nvalue = 25.125'),\n",
       " Text(19.113812154696134, 70.668, 'mse = 0.0\\nsamples = 2\\nvalue = 25.0'),\n",
       " Text(20.346961325966852, 70.668, 'X[1] <= 10.0\\nmse = 0.003\\nsamples = 2\\nvalue = 25.25'),\n",
       " Text(19.730386740331493, 59.79599999999999, 'mse = 0.0\\nsamples = 1\\nvalue = 25.3'),\n",
       " Text(20.96353591160221, 59.79599999999999, 'mse = 0.0\\nsamples = 1\\nvalue = 25.2'),\n",
       " Text(26.975138121546962, 92.412, 'X[12] <= 6.135\\nmse = 0.446\\nsamples = 11\\nvalue = 23.973'),\n",
       " Text(24.04640883977901, 81.53999999999999, 'X[0] <= 0.203\\nmse = 0.05\\nsamples = 4\\nvalue = 24.7'),\n",
       " Text(22.813259668508287, 70.668, 'X[8] <= 6.0\\nmse = 0.01\\nsamples = 2\\nvalue = 24.5'),\n",
       " Text(22.19668508287293, 59.79599999999999, 'mse = 0.0\\nsamples = 1\\nvalue = 24.6'),\n",
       " Text(23.42983425414365, 59.79599999999999, 'mse = 0.0\\nsamples = 1\\nvalue = 24.4'),\n",
       " Text(25.279558011049726, 70.668, 'X[1] <= 11.0\\nmse = 0.01\\nsamples = 2\\nvalue = 24.9'),\n",
       " Text(24.662983425414367, 59.79599999999999, 'mse = 0.0\\nsamples = 1\\nvalue = 25.0'),\n",
       " Text(25.896132596685085, 59.79599999999999, 'mse = 0.0\\nsamples = 1\\nvalue = 24.8'),\n",
       " Text(29.90386740331492, 81.53999999999999, 'X[0] <= 0.175\\nmse = 0.197\\nsamples = 7\\nvalue = 23.557'),\n",
       " Text(27.74585635359116, 70.668, 'X[9] <= 296.0\\nmse = 0.029\\nsamples = 3\\nvalue = 24.033'),\n",
       " Text(27.129281767955803, 59.79599999999999, 'mse = 0.0\\nsamples = 1\\nvalue = 23.8'),\n",
       " Text(28.36243093922652, 59.79599999999999, 'X[11] <= 389.325\\nmse = 0.002\\nsamples = 2\\nvalue = 24.15'),\n",
       " Text(27.74585635359116, 48.92400000000001, 'mse = 0.0\\nsamples = 1\\nvalue = 24.2'),\n",
       " Text(28.97900552486188, 48.92400000000001, 'mse = 0.0\\nsamples = 1\\nvalue = 24.1'),\n",
       " Text(32.06187845303867, 70.668, 'X[10] <= 19.4\\nmse = 0.025\\nsamples = 4\\nvalue = 23.2'),\n",
       " Text(30.82872928176796, 59.79599999999999, 'X[9] <= 354.0\\nmse = 0.002\\nsamples = 2\\nvalue = 23.35'),\n",
       " Text(30.2121546961326, 48.92400000000001, 'mse = 0.0\\nsamples = 1\\nvalue = 23.4'),\n",
       " Text(31.445303867403318, 48.92400000000001, 'mse = -0.0\\nsamples = 1\\nvalue = 23.3'),\n",
       " Text(33.2950276243094, 59.79599999999999, 'X[12] <= 6.51\\nmse = 0.002\\nsamples = 2\\nvalue = 23.05'),\n",
       " Text(32.678453038674036, 48.92400000000001, 'mse = 0.0\\nsamples = 1\\nvalue = 23.0'),\n",
       " Text(33.91160220994475, 48.92400000000001, 'mse = 0.0\\nsamples = 1\\nvalue = 23.1'),\n",
       " Text(19.01747237569061, 125.02799999999999, 'mse = -0.0\\nsamples = 1\\nvalue = 29.1'),\n",
       " Text(62.470927572513816, 157.644, 'X[9] <= 208.0\\nmse = 7.924\\nsamples = 152\\nvalue = 20.968'),\n",
       " Text(39.61491712707183, 146.772, 'X[5] <= 6.074\\nmse = 32.32\\nsamples = 5\\nvalue = 26.9'),\n",
       " Text(38.38176795580111, 135.9, 'X[7] <= 2.623\\nmse = 6.607\\nsamples = 3\\nvalue = 22.9'),\n",
       " Text(37.76519337016575, 125.02799999999999, 'X[0] <= 0.07\\nmse = 0.722\\nsamples = 2\\nvalue = 21.15'),\n",
       " Text(37.14861878453039, 114.156, 'mse = 0.0\\nsamples = 1\\nvalue = 22.0'),\n",
       " Text(38.38176795580111, 114.156, 'mse = 0.0\\nsamples = 1\\nvalue = 20.3'),\n",
       " Text(38.998342541436465, 125.02799999999999, 'mse = 0.0\\nsamples = 1\\nvalue = 26.4'),\n",
       " Text(40.848066298342545, 135.9, 'X[12] <= 11.3\\nmse = 10.89\\nsamples = 2\\nvalue = 32.9'),\n",
       " Text(40.23149171270718, 125.02799999999999, 'mse = 0.0\\nsamples = 1\\nvalue = 36.2'),\n",
       " Text(41.46464088397791, 125.02799999999999, 'mse = -0.0\\nsamples = 1\\nvalue = 29.6'),\n",
       " Text(85.32693801795581, 146.772, 'X[5] <= 6.078\\nmse = 5.856\\nsamples = 147\\nvalue = 20.766'),\n",
       " Text(65.06547824585635, 135.9, 'X[6] <= 69.1\\nmse = 5.537\\nsamples = 79\\nvalue = 19.997'),\n",
       " Text(47.77971339779006, 125.02799999999999, 'X[7] <= 4.464\\nmse = 3.664\\nsamples = 55\\nvalue = 20.513'),\n",
       " Text(39.61491712707183, 114.156, 'X[5] <= 5.214\\nmse = 3.847\\nsamples = 23\\nvalue = 21.465'),\n",
       " Text(38.998342541436465, 103.28399999999999, 'mse = 0.0\\nsamples = 1\\nvalue = 16.1'),\n",
       " Text(40.23149171270718, 103.28399999999999, 'X[10] <= 17.6\\nmse = 2.654\\nsamples = 22\\nvalue = 21.709'),\n",
       " Text(35.76132596685083, 92.412, 'X[11] <= 385.375\\nmse = 0.346\\nsamples = 5\\nvalue = 23.24'),\n",
       " Text(35.14475138121547, 81.53999999999999, 'mse = 0.0\\nsamples = 1\\nvalue = 24.3'),\n",
       " Text(36.37790055248619, 81.53999999999999, 'X[7] <= 2.907\\nmse = 0.082\\nsamples = 4\\nvalue = 22.975'),\n",
       " Text(35.14475138121547, 70.668, 'X[2] <= 4.01\\nmse = 0.01\\nsamples = 2\\nvalue = 22.7'),\n",
       " Text(34.528176795580116, 59.79599999999999, 'mse = 0.0\\nsamples = 1\\nvalue = 22.8'),\n",
       " Text(35.76132596685083, 59.79599999999999, 'mse = -0.0\\nsamples = 1\\nvalue = 22.6'),\n",
       " Text(37.611049723756906, 70.668, 'X[5] <= 5.954\\nmse = 0.002\\nsamples = 2\\nvalue = 23.25'),\n",
       " Text(36.99447513812155, 59.79599999999999, 'mse = 0.0\\nsamples = 1\\nvalue = 23.3'),\n",
       " Text(38.22762430939227, 59.79599999999999, 'mse = 0.0\\nsamples = 1\\nvalue = 23.2'),\n",
       " Text(44.70165745856354, 92.412, 'X[11] <= 392.21\\nmse = 2.441\\nsamples = 17\\nvalue = 21.259'),\n",
       " Text(41.92707182320442, 81.53999999999999, 'X[5] <= 5.849\\nmse = 0.28\\nsamples = 8\\nvalue = 20.3'),\n",
       " Text(40.07734806629835, 70.668, 'X[7] <= 2.913\\nmse = 0.112\\nsamples = 4\\nvalue = 19.85'),\n",
       " Text(39.460773480662986, 59.79599999999999, 'mse = 0.0\\nsamples = 1\\nvalue = 19.3'),\n",
       " Text(40.693922651933704, 59.79599999999999, 'X[10] <= 20.6\\nmse = 0.016\\nsamples = 3\\nvalue = 20.033'),\n",
       " Text(40.07734806629835, 48.92400000000001, 'X[5] <= 5.8\\nmse = 0.003\\nsamples = 2\\nvalue = 19.95'),\n",
       " Text(39.460773480662986, 38.05199999999999, 'mse = 0.0\\nsamples = 1\\nvalue = 19.9'),\n",
       " Text(40.693922651933704, 38.05199999999999, 'mse = 0.0\\nsamples = 1\\nvalue = 20.0'),\n",
       " Text(41.310497237569066, 48.92400000000001, 'mse = -0.0\\nsamples = 1\\nvalue = 20.2'),\n",
       " Text(43.7767955801105, 70.668, 'X[7] <= 4.173\\nmse = 0.043\\nsamples = 4\\nvalue = 20.75'),\n",
       " Text(43.16022099447514, 59.79599999999999, 'X[0] <= 1.235\\nmse = 0.002\\nsamples = 3\\nvalue = 20.633'),\n",
       " Text(42.543646408839784, 48.92400000000001, 'mse = 0.0\\nsamples = 1\\nvalue = 20.7'),\n",
       " Text(43.7767955801105, 48.92400000000001, 'mse = -0.0\\nsamples = 2\\nvalue = 20.6'),\n",
       " Text(44.39337016574586, 59.79599999999999, 'mse = 0.0\\nsamples = 1\\nvalue = 21.1'),\n",
       " Text(47.476243093922655, 81.53999999999999, 'X[12] <= 9.905\\nmse = 2.819\\nsamples = 9\\nvalue = 22.111'),\n",
       " Text(46.24309392265194, 70.668, 'X[0] <= 0.072\\nmse = 1.102\\nsamples = 2\\nvalue = 19.95'),\n",
       " Text(45.626519337016575, 59.79599999999999, 'mse = 0.0\\nsamples = 1\\nvalue = 18.9'),\n",
       " Text(46.8596685082873, 59.79599999999999, 'mse = 0.0\\nsamples = 1\\nvalue = 21.0'),\n",
       " Text(48.70939226519337, 70.668, 'X[12] <= 10.275\\nmse = 1.593\\nsamples = 7\\nvalue = 22.729'),\n",
       " Text(48.09281767955802, 59.79599999999999, 'mse = 0.0\\nsamples = 1\\nvalue = 24.7'),\n",
       " Text(49.325966850828735, 59.79599999999999, 'X[12] <= 13.255\\nmse = 1.103\\nsamples = 6\\nvalue = 22.4'),\n",
       " Text(48.70939226519337, 48.92400000000001, 'X[4] <= 0.51\\nmse = 0.266\\nsamples = 5\\nvalue = 21.98'),\n",
       " Text(47.476243093922655, 38.05199999999999, 'X[2] <= 7.54\\nmse = 0.002\\nsamples = 2\\nvalue = 22.55'),\n",
       " Text(46.8596685082873, 27.180000000000007, 'mse = 0.0\\nsamples = 1\\nvalue = 22.5'),\n",
       " Text(48.09281767955802, 27.180000000000007, 'mse = -0.0\\nsamples = 1\\nvalue = 22.6'),\n",
       " Text(49.94254143646409, 38.05199999999999, 'X[5] <= 5.891\\nmse = 0.08\\nsamples = 3\\nvalue = 21.6'),\n",
       " Text(49.325966850828735, 27.180000000000007, 'X[5] <= 5.734\\nmse = 0.0\\nsamples = 2\\nvalue = 21.8'),\n",
       " Text(48.70939226519337, 16.307999999999993, 'mse = 0.0\\nsamples = 1\\nvalue = 21.8'),\n",
       " Text(49.94254143646409, 16.307999999999993, 'mse = 0.0\\nsamples = 1\\nvalue = 21.8'),\n",
       " Text(50.55911602209945, 27.180000000000007, 'mse = -0.0\\nsamples = 1\\nvalue = 21.2'),\n",
       " Text(49.94254143646409, 48.92400000000001, 'mse = -0.0\\nsamples = 1\\nvalue = 24.5'),\n",
       " Text(55.94450966850829, 114.156, 'X[5] <= 5.763\\nmse = 2.411\\nsamples = 32\\nvalue = 19.828'),\n",
       " Text(51.17569060773481, 103.28399999999999, 'X[4] <= 0.443\\nmse = 0.658\\nsamples = 5\\nvalue = 18.14'),\n",
       " Text(49.94254143646409, 92.412, 'X[0] <= 0.047\\nmse = 0.216\\nsamples = 3\\nvalue = 17.567'),\n",
       " Text(49.325966850828735, 81.53999999999999, 'mse = 0.0\\nsamples = 1\\nvalue = 18.2'),\n",
       " Text(50.55911602209945, 81.53999999999999, 'X[1] <= 23.75\\nmse = 0.022\\nsamples = 2\\nvalue = 17.25'),\n",
       " Text(49.94254143646409, 70.668, 'mse = 0.0\\nsamples = 1\\nvalue = 17.4'),\n",
       " Text(51.17569060773481, 70.668, 'mse = 0.0\\nsamples = 1\\nvalue = 17.1'),\n",
       " Text(52.408839779005525, 92.412, 'X[10] <= 18.8\\nmse = 0.09\\nsamples = 2\\nvalue = 19.0'),\n",
       " Text(51.79226519337017, 81.53999999999999, 'mse = 0.0\\nsamples = 1\\nvalue = 19.3'),\n",
       " Text(53.02541436464089, 81.53999999999999, 'mse = 0.0\\nsamples = 1\\nvalue = 18.7'),\n",
       " Text(60.71332872928177, 103.28399999999999, 'X[2] <= 5.415\\nmse = 2.11\\nsamples = 27\\nvalue = 20.141'),\n",
       " Text(56.72486187845304, 92.412, 'X[6] <= 47.85\\nmse = 1.291\\nsamples = 13\\nvalue = 19.223'),\n",
       " Text(54.258563535911605, 81.53999999999999, 'X[0] <= 0.042\\nmse = 0.684\\nsamples = 9\\nvalue = 19.778'),\n",
       " Text(53.02541436464089, 70.668, 'X[12] <= 9.525\\nmse = 0.382\\nsamples = 4\\nvalue = 20.525'),\n",
       " Text(52.408839779005525, 59.79599999999999, 'X[6] <= 35.9\\nmse = 0.042\\nsamples = 3\\nvalue = 20.867'),\n",
       " Text(51.79226519337017, 48.92400000000001, 'X[12] <= 8.63\\nmse = 0.01\\nsamples = 2\\nvalue = 21.0'),\n",
       " Text(51.17569060773481, 38.05199999999999, 'mse = 0.0\\nsamples = 1\\nvalue = 21.1'),\n",
       " Text(52.408839779005525, 38.05199999999999, 'mse = 0.0\\nsamples = 1\\nvalue = 20.9'),\n",
       " Text(53.02541436464089, 48.92400000000001, 'mse = 0.0\\nsamples = 1\\nvalue = 20.6'),\n",
       " Text(53.64198895027625, 59.79599999999999, 'mse = 0.0\\nsamples = 1\\nvalue = 19.5'),\n",
       " Text(55.49171270718232, 70.668, 'X[2] <= 2.465\\nmse = 0.122\\nsamples = 5\\nvalue = 19.18'),\n",
       " Text(54.87513812154697, 59.79599999999999, 'mse = 0.0\\nsamples = 1\\nvalue = 18.6'),\n",
       " Text(56.108287292817685, 59.79599999999999, 'X[9] <= 254.0\\nmse = 0.047\\nsamples = 4\\nvalue = 19.325'),\n",
       " Text(55.49171270718232, 48.92400000000001, 'mse = 0.0\\nsamples = 1\\nvalue = 19.0'),\n",
       " Text(56.72486187845304, 48.92400000000001, 'X[10] <= 18.3\\nmse = 0.016\\nsamples = 3\\nvalue = 19.433'),\n",
       " Text(56.108287292817685, 38.05199999999999, 'X[7] <= 5.913\\nmse = 0.003\\nsamples = 2\\nvalue = 19.35'),\n",
       " Text(55.49171270718232, 27.180000000000007, 'mse = 0.0\\nsamples = 1\\nvalue = 19.3'),\n",
       " Text(56.72486187845304, 27.180000000000007, 'mse = -0.0\\nsamples = 1\\nvalue = 19.4'),\n",
       " Text(57.3414364640884, 38.05199999999999, 'mse = 0.0\\nsamples = 1\\nvalue = 19.6'),\n",
       " Text(59.191160220994476, 81.53999999999999, 'X[6] <= 55.4\\nmse = 0.407\\nsamples = 4\\nvalue = 17.975'),\n",
       " Text(57.95801104972376, 70.668, 'X[5] <= 5.956\\nmse = 0.022\\nsamples = 2\\nvalue = 17.35'),\n",
       " Text(57.3414364640884, 59.79599999999999, 'mse = 0.0\\nsamples = 1\\nvalue = 17.2'),\n",
       " Text(58.57458563535912, 59.79599999999999, 'mse = -0.0\\nsamples = 1\\nvalue = 17.5'),\n",
       " Text(60.4243093922652, 70.668, 'X[11] <= 395.855\\nmse = 0.01\\nsamples = 2\\nvalue = 18.6'),\n",
       " Text(59.80773480662984, 59.79599999999999, 'mse = 0.0\\nsamples = 1\\nvalue = 18.5'),\n",
       " Text(61.040883977900556, 59.79599999999999, 'mse = -0.0\\nsamples = 1\\nvalue = 18.7'),\n",
       " Text(64.7017955801105, 92.412, 'X[6] <= 22.35\\nmse = 1.362\\nsamples = 14\\nvalue = 20.993'),\n",
       " Text(62.274033149171274, 81.53999999999999, 'X[2] <= 5.855\\nmse = 0.549\\nsamples = 3\\nvalue = 22.367'),\n",
       " Text(61.65745856353592, 70.668, 'mse = 0.0\\nsamples = 1\\nvalue = 23.4'),\n",
       " Text(62.890607734806636, 70.668, 'X[12] <= 8.99\\nmse = 0.023\\nsamples = 2\\nvalue = 21.85'),\n",
       " Text(62.274033149171274, 59.79599999999999, 'mse = 0.0\\nsamples = 1\\nvalue = 22.0'),\n",
       " Text(63.50718232044199, 59.79599999999999, 'mse = -0.0\\nsamples = 1\\nvalue = 21.7'),\n",
       " Text(67.12955801104972, 81.53999999999999, 'X[10] <= 16.4\\nmse = 0.929\\nsamples = 11\\nvalue = 20.618'),\n",
       " Text(65.35690607734807, 70.668, 'X[7] <= 5.532\\nmse = 0.36\\nsamples = 2\\nvalue = 22.3'),\n",
       " Text(64.74033149171271, 59.79599999999999, 'mse = 0.0\\nsamples = 1\\nvalue = 21.7'),\n",
       " Text(65.97348066298343, 59.79599999999999, 'mse = 0.0\\nsamples = 1\\nvalue = 22.9'),\n",
       " Text(68.90220994475139, 70.668, 'X[10] <= 17.4\\nmse = 0.287\\nsamples = 9\\nvalue = 20.244'),\n",
       " Text(67.20662983425414, 59.79599999999999, 'X[10] <= 16.85\\nmse = 0.023\\nsamples = 2\\nvalue = 19.55'),\n",
       " Text(66.5900552486188, 48.92400000000001, 'mse = 0.0\\nsamples = 1\\nvalue = 19.7'),\n",
       " Text(67.8232044198895, 48.92400000000001, 'mse = 0.0\\nsamples = 1\\nvalue = 19.4'),\n",
       " Text(70.59779005524862, 59.79599999999999, 'X[7] <= 5.411\\nmse = 0.185\\nsamples = 7\\nvalue = 20.443'),\n",
       " Text(69.05635359116023, 48.92400000000001, 'X[5] <= 5.854\\nmse = 0.044\\nsamples = 5\\nvalue = 20.2'),\n",
       " Text(67.8232044198895, 38.05199999999999, 'X[7] <= 4.799\\nmse = 0.002\\nsamples = 2\\nvalue = 19.95'),\n",
       " Text(67.20662983425414, 27.180000000000007, 'mse = 0.0\\nsamples = 1\\nvalue = 19.9'),\n",
       " Text(68.43977900552487, 27.180000000000007, 'mse = 0.0\\nsamples = 1\\nvalue = 20.0'),\n",
       " Text(70.28950276243094, 38.05199999999999, 'X[9] <= 352.5\\nmse = 0.002\\nsamples = 3\\nvalue = 20.367'),\n",
       " Text(69.67292817679558, 27.180000000000007, 'mse = 0.0\\nsamples = 2\\nvalue = 20.4'),\n",
       " Text(70.9060773480663, 27.180000000000007, 'mse = -0.0\\nsamples = 1\\nvalue = 20.3'),\n",
       " Text(72.13922651933702, 48.92400000000001, 'X[0] <= 0.125\\nmse = 0.023\\nsamples = 2\\nvalue = 21.05'),\n",
       " Text(71.52265193370167, 38.05199999999999, 'mse = 0.0\\nsamples = 1\\nvalue = 21.2'),\n",
       " Text(72.75580110497238, 38.05199999999999, 'mse = 0.0\\nsamples = 1\\nvalue = 20.9'),\n",
       " Text(82.35124309392266, 125.02799999999999, 'X[5] <= 6.029\\nmse = 7.826\\nsamples = 24\\nvalue = 18.817'),\n",
       " Text(79.30690607734807, 114.156, 'X[4] <= 0.601\\nmse = 5.256\\nsamples = 22\\nvalue = 19.327'),\n",
       " Text(75.06795580110497, 103.28399999999999, 'X[7] <= 2.623\\nmse = 2.162\\nsamples = 12\\nvalue = 18.167'),\n",
       " Text(73.37237569060774, 92.412, 'X[6] <= 89.85\\nmse = 0.81\\nsamples = 2\\nvalue = 15.9'),\n",
       " Text(72.75580110497238, 81.53999999999999, 'mse = 0.0\\nsamples = 1\\nvalue = 16.8'),\n",
       " Text(73.9889502762431, 81.53999999999999, 'mse = 0.0\\nsamples = 1\\nvalue = 15.0'),\n",
       " Text(76.76353591160222, 92.412, 'X[5] <= 5.88\\nmse = 1.2\\nsamples = 10\\nvalue = 18.62'),\n",
       " Text(75.22209944751381, 81.53999999999999, 'X[10] <= 18.75\\nmse = 0.698\\nsamples = 5\\nvalue = 17.76'),\n",
       " Text(74.60552486187846, 70.668, 'mse = 0.0\\nsamples = 1\\nvalue = 16.2'),\n",
       " Text(75.83867403314918, 70.668, 'X[7] <= 6.338\\nmse = 0.112\\nsamples = 4\\nvalue = 18.15'),\n",
       " Text(75.22209944751381, 59.79599999999999, 'X[7] <= 4.259\\nmse = 0.016\\nsamples = 3\\nvalue = 18.333'),\n",
       " Text(74.60552486187846, 48.92400000000001, 'X[10] <= 20.1\\nmse = 0.002\\nsamples = 2\\nvalue = 18.25'),\n",
       " Text(73.9889502762431, 38.05199999999999, 'mse = 0.0\\nsamples = 1\\nvalue = 18.3'),\n",
       " Text(75.22209944751381, 38.05199999999999, 'mse = 0.0\\nsamples = 1\\nvalue = 18.2'),\n",
       " Text(75.83867403314918, 48.92400000000001, 'mse = 0.0\\nsamples = 1\\nvalue = 18.5'),\n",
       " Text(76.45524861878454, 59.79599999999999, 'mse = -0.0\\nsamples = 1\\nvalue = 17.6'),\n",
       " Text(78.30497237569061, 81.53999999999999, 'X[6] <= 79.65\\nmse = 0.222\\nsamples = 5\\nvalue = 19.48'),\n",
       " Text(77.68839779005525, 70.668, 'mse = 0.0\\nsamples = 1\\nvalue = 20.3'),\n",
       " Text(78.92154696132597, 70.668, 'X[9] <= 309.0\\nmse = 0.067\\nsamples = 4\\nvalue = 19.275'),\n",
       " Text(77.68839779005525, 59.79599999999999, 'X[7] <= 3.423\\nmse = 0.01\\nsamples = 2\\nvalue = 19.5'),\n",
       " Text(77.0718232044199, 48.92400000000001, 'mse = 0.0\\nsamples = 1\\nvalue = 19.4'),\n",
       " Text(78.30497237569061, 48.92400000000001, 'mse = -0.0\\nsamples = 1\\nvalue = 19.6'),\n",
       " Text(80.1546961325967, 59.79599999999999, 'X[12] <= 11.785\\nmse = 0.023\\nsamples = 2\\nvalue = 19.05'),\n",
       " Text(79.53812154696134, 48.92400000000001, 'mse = 0.0\\nsamples = 1\\nvalue = 19.2'),\n",
       " Text(80.77127071823205, 48.92400000000001, 'mse = 0.0\\nsamples = 1\\nvalue = 18.9'),\n",
       " Text(83.54585635359116, 103.28399999999999, 'X[3] <= 0.5\\nmse = 5.412\\nsamples = 10\\nvalue = 20.72'),\n",
       " Text(82.92928176795581, 92.412, 'X[11] <= 259.58\\nmse = 2.386\\nsamples = 9\\nvalue = 21.322'),\n",
       " Text(81.38784530386741, 81.53999999999999, 'X[2] <= 18.84\\nmse = 0.122\\nsamples = 2\\nvalue = 23.45'),\n",
       " Text(80.77127071823205, 70.668, 'mse = 0.0\\nsamples = 1\\nvalue = 23.1'),\n",
       " Text(82.00441988950277, 70.668, 'mse = 0.0\\nsamples = 1\\nvalue = 23.8'),\n",
       " Text(84.4707182320442, 81.53999999999999, 'X[6] <= 96.75\\nmse = 1.37\\nsamples = 7\\nvalue = 20.714'),\n",
       " Text(83.23756906077348, 70.668, 'X[7] <= 2.266\\nmse = 0.85\\nsamples = 5\\nvalue = 21.26'),\n",
       " Text(82.62099447513813, 59.79599999999999, 'X[7] <= 1.852\\nmse = 0.415\\nsamples = 4\\nvalue = 20.9'),\n",
       " Text(82.00441988950277, 48.92400000000001, 'mse = 0.0\\nsamples = 1\\nvalue = 21.9'),\n",
       " Text(83.23756906077348, 48.92400000000001, 'X[8] <= 14.0\\nmse = 0.109\\nsamples = 3\\nvalue = 20.567'),\n",
       " Text(82.62099447513813, 38.05199999999999, 'mse = 0.0\\nsamples = 1\\nvalue = 20.1'),\n",
       " Text(83.85414364640884, 38.05199999999999, 'X[4] <= 0.692\\nmse = 0.0\\nsamples = 2\\nvalue = 20.8'),\n",
       " Text(83.23756906077348, 27.180000000000007, 'mse = 0.0\\nsamples = 1\\nvalue = 20.8'),\n",
       " Text(84.4707182320442, 27.180000000000007, 'mse = 0.0\\nsamples = 1\\nvalue = 20.8'),\n",
       " Text(83.85414364640884, 59.79599999999999, 'mse = -0.0\\nsamples = 1\\nvalue = 22.7'),\n",
       " Text(85.70386740331493, 70.668, 'X[12] <= 12.655\\nmse = 0.063\\nsamples = 2\\nvalue = 19.35'),\n",
       " Text(85.08729281767957, 59.79599999999999, 'mse = 0.0\\nsamples = 1\\nvalue = 19.1'),\n",
       " Text(86.32044198895028, 59.79599999999999, 'mse = 0.0\\nsamples = 1\\nvalue = 19.6'),\n",
       " Text(84.16243093922652, 92.412, 'mse = -0.0\\nsamples = 1\\nvalue = 15.3'),\n",
       " Text(85.39558011049725, 114.156, 'X[8] <= 2.5\\nmse = 1.69\\nsamples = 2\\nvalue = 13.2'),\n",
       " Text(84.77900552486189, 103.28399999999999, 'mse = 0.0\\nsamples = 1\\nvalue = 11.9'),\n",
       " Text(86.0121546961326, 103.28399999999999, 'mse = 0.0\\nsamples = 1\\nvalue = 14.5'),\n",
       " Text(105.58839779005525, 135.9, 'X[12] <= 9.98\\nmse = 4.744\\nsamples = 68\\nvalue = 21.659'),\n",
       " Text(92.75593922651935, 125.02799999999999, 'X[0] <= 0.046\\nmse = 5.482\\nsamples = 24\\nvalue = 22.921'),\n",
       " Text(89.40331491712708, 114.156, 'X[5] <= 6.497\\nmse = 3.299\\nsamples = 9\\nvalue = 20.911'),\n",
       " Text(88.78674033149171, 103.28399999999999, 'X[5] <= 6.23\\nmse = 0.975\\nsamples = 8\\nvalue = 21.463'),\n",
       " Text(86.93701657458564, 92.412, 'X[2] <= 4.44\\nmse = 0.127\\nsamples = 3\\nvalue = 20.3'),\n",
       " Text(86.32044198895028, 81.53999999999999, 'mse = 0.0\\nsamples = 1\\nvalue = 19.8'),\n",
       " Text(87.553591160221, 81.53999999999999, 'X[2] <= 8.785\\nmse = 0.002\\nsamples = 2\\nvalue = 20.55'),\n",
       " Text(86.93701657458564, 70.668, 'mse = 0.0\\nsamples = 1\\nvalue = 20.5'),\n",
       " Text(88.17016574585637, 70.668, 'mse = 0.0\\nsamples = 1\\nvalue = 20.6'),\n",
       " Text(90.6364640883978, 92.412, 'X[2] <= 11.055\\nmse = 0.186\\nsamples = 5\\nvalue = 22.16'),\n",
       " Text(90.01988950276244, 81.53999999999999, 'X[9] <= 256.0\\nmse = 0.062\\nsamples = 4\\nvalue = 21.975'),\n",
       " Text(89.40331491712708, 70.668, 'mse = 0.0\\nsamples = 1\\nvalue = 21.6'),\n",
       " Text(90.6364640883978, 70.668, 'X[11] <= 395.81\\nmse = 0.02\\nsamples = 3\\nvalue = 22.1'),\n",
       " Text(90.01988950276244, 59.79599999999999, 'mse = 0.0\\nsamples = 2\\nvalue = 22.0'),\n",
       " Text(91.25303867403315, 59.79599999999999, 'mse = 0.0\\nsamples = 1\\nvalue = 22.3'),\n",
       " Text(91.25303867403315, 81.53999999999999, 'mse = 0.0\\nsamples = 1\\nvalue = 22.9'),\n",
       " Text(90.01988950276244, 103.28399999999999, 'mse = 0.0\\nsamples = 1\\nvalue = 16.5'),\n",
       " Text(96.10856353591161, 114.156, 'X[6] <= 33.6\\nmse = 2.915\\nsamples = 15\\nvalue = 24.127'),\n",
       " Text(92.48618784530387, 103.28399999999999, 'X[10] <= 16.05\\nmse = 2.976\\nsamples = 3\\nvalue = 26.133'),\n",
       " Text(91.86961325966851, 92.412, 'mse = 0.0\\nsamples = 1\\nvalue = 23.9'),\n",
       " Text(93.10276243093924, 92.412, 'X[0] <= 0.117\\nmse = 0.722\\nsamples = 2\\nvalue = 27.25'),\n",
       " Text(92.48618784530387, 81.53999999999999, 'mse = 0.0\\nsamples = 1\\nvalue = 26.4'),\n",
       " Text(93.7193370165746, 81.53999999999999, 'mse = 0.0\\nsamples = 1\\nvalue = 28.1'),\n",
       " Text(99.73093922651934, 103.28399999999999, 'X[12] <= 9.1\\nmse = 1.642\\nsamples = 12\\nvalue = 23.625'),\n",
       " Text(96.49392265193372, 92.412, 'X[12] <= 7.845\\nmse = 1.662\\nsamples = 7\\nvalue = 22.971'),\n",
       " Text(94.95248618784531, 81.53999999999999, 'X[6] <= 73.35\\nmse = 0.09\\nsamples = 2\\nvalue = 24.7'),\n",
       " Text(94.33591160220995, 70.668, 'mse = 0.0\\nsamples = 1\\nvalue = 24.4'),\n",
       " Text(95.56906077348067, 70.668, 'mse = 0.0\\nsamples = 1\\nvalue = 25.0'),\n",
       " Text(98.03535911602211, 81.53999999999999, 'X[5] <= 6.351\\nmse = 0.618\\nsamples = 5\\nvalue = 22.28'),\n",
       " Text(96.80220994475138, 70.668, 'X[11] <= 394.27\\nmse = 0.116\\nsamples = 3\\nvalue = 21.733'),\n",
       " Text(96.18563535911603, 59.79599999999999, 'X[7] <= 3.883\\nmse = 0.01\\nsamples = 2\\nvalue = 21.5'),\n",
       " Text(95.56906077348067, 48.92400000000001, 'mse = 0.0\\nsamples = 1\\nvalue = 21.6'),\n",
       " Text(96.80220994475138, 48.92400000000001, 'mse = 0.0\\nsamples = 1\\nvalue = 21.4'),\n",
       " Text(97.41878453038674, 59.79599999999999, 'mse = 0.0\\nsamples = 1\\nvalue = 22.2'),\n",
       " Text(99.26850828729283, 70.668, 'X[12] <= 8.925\\nmse = 0.25\\nsamples = 2\\nvalue = 23.1'),\n",
       " Text(98.65193370165747, 59.79599999999999, 'mse = 0.0\\nsamples = 1\\nvalue = 22.6'),\n",
       " Text(99.88508287292818, 59.79599999999999, 'mse = 0.0\\nsamples = 1\\nvalue = 23.6'),\n",
       " Text(102.96795580110498, 92.412, 'X[2] <= 8.225\\nmse = 0.178\\nsamples = 5\\nvalue = 24.54'),\n",
       " Text(102.35138121546962, 81.53999999999999, 'X[4] <= 0.44\\nmse = 0.062\\nsamples = 3\\nvalue = 24.233'),\n",
       " Text(101.73480662983427, 70.668, 'X[0] <= 0.252\\nmse = 0.01\\nsamples = 2\\nvalue = 24.4'),\n",
       " Text(101.1182320441989, 59.79599999999999, 'mse = 0.0\\nsamples = 1\\nvalue = 24.5'),\n",
       " Text(102.35138121546962, 59.79599999999999, 'mse = 0.0\\nsamples = 1\\nvalue = 24.3'),\n",
       " Text(102.96795580110498, 70.668, 'mse = 0.0\\nsamples = 1\\nvalue = 23.9'),\n",
       " Text(103.58453038674034, 81.53999999999999, 'mse = -0.0\\nsamples = 2\\nvalue = 25.0'),\n",
       " Text(118.42085635359116, 125.02799999999999, 'X[11] <= 197.52\\nmse = 2.998\\nsamples = 44\\nvalue = 20.97'),\n",
       " Text(114.52872928176797, 114.156, 'X[12] <= 11.33\\nmse = 1.562\\nsamples = 2\\nvalue = 17.35'),\n",
       " Text(113.9121546961326, 103.28399999999999, 'mse = 0.0\\nsamples = 1\\nvalue = 18.6'),\n",
       " Text(115.14530386740333, 103.28399999999999, 'mse = 0.0\\nsamples = 1\\nvalue = 16.1'),\n",
       " Text(122.31298342541437, 114.156, 'X[10] <= 20.55\\nmse = 2.412\\nsamples = 42\\nvalue = 21.143'),\n",
       " Text(116.37845303867404, 103.28399999999999, 'X[5] <= 6.318\\nmse = 2.003\\nsamples = 32\\nvalue = 21.509'),\n",
       " Text(110.52099447513812, 92.412, 'X[5] <= 6.246\\nmse = 1.539\\nsamples = 23\\nvalue = 21.061'),\n",
       " Text(106.35911602209946, 81.53999999999999, 'X[5] <= 6.09\\nmse = 1.24\\nsamples = 17\\nvalue = 21.453'),\n",
       " Text(104.2011049723757, 70.668, 'X[0] <= 0.286\\nmse = 0.81\\nsamples = 2\\nvalue = 23.1'),\n",
       " Text(103.58453038674034, 59.79599999999999, 'mse = 0.0\\nsamples = 1\\nvalue = 22.2'),\n",
       " Text(104.81767955801105, 59.79599999999999, 'mse = -0.0\\nsamples = 1\\nvalue = 24.0'),\n",
       " Text(108.51712707182321, 70.668, 'X[0] <= 4.15\\nmse = 0.888\\nsamples = 15\\nvalue = 21.233'),\n",
       " Text(106.05082872928178, 59.79599999999999, 'X[8] <= 15.5\\nmse = 0.368\\nsamples = 10\\nvalue = 20.74'),\n",
       " Text(105.43425414364641, 48.92400000000001, 'X[4] <= 0.434\\nmse = 0.249\\nsamples = 9\\nvalue = 20.867'),\n",
       " Text(103.58453038674034, 38.05199999999999, 'X[1] <= 26.0\\nmse = 0.036\\nsamples = 3\\nvalue = 20.233'),\n",
       " Text(102.96795580110498, 27.180000000000007, 'mse = 0.0\\nsamples = 1\\nvalue = 20.5'),\n",
       " Text(104.2011049723757, 27.180000000000007, 'mse = -0.0\\nsamples = 2\\nvalue = 20.1'),\n",
       " Text(107.2839779005525, 38.05199999999999, 'X[6] <= 64.2\\nmse = 0.055\\nsamples = 6\\nvalue = 21.183'),\n",
       " Text(105.43425414364641, 27.180000000000007, 'X[12] <= 11.305\\nmse = 0.027\\nsamples = 3\\nvalue = 21.0'),\n",
       " Text(104.81767955801105, 16.307999999999993, 'mse = 0.0\\nsamples = 1\\nvalue = 20.8'),\n",
       " Text(106.05082872928178, 16.307999999999993, 'X[6] <= 56.25\\nmse = 0.01\\nsamples = 2\\nvalue = 21.1'),\n",
       " Text(105.43425414364641, 5.436000000000007, 'mse = 0.0\\nsamples = 1\\nvalue = 21.2'),\n",
       " Text(106.66740331491714, 5.436000000000007, 'mse = -0.0\\nsamples = 1\\nvalue = 21.0'),\n",
       " Text(109.13370165745857, 27.180000000000007, 'X[9] <= 417.5\\nmse = 0.016\\nsamples = 3\\nvalue = 21.367'),\n",
       " Text(108.51712707182321, 16.307999999999993, 'X[9] <= 339.5\\nmse = 0.003\\nsamples = 2\\nvalue = 21.45'),\n",
       " Text(107.90055248618785, 5.436000000000007, 'mse = 0.0\\nsamples = 1\\nvalue = 21.4'),\n",
       " Text(109.13370165745857, 5.436000000000007, 'mse = 0.0\\nsamples = 1\\nvalue = 21.5'),\n",
       " Text(109.75027624309394, 16.307999999999993, 'mse = 0.0\\nsamples = 1\\nvalue = 21.2'),\n",
       " Text(106.66740331491714, 48.92400000000001, 'mse = 0.0\\nsamples = 1\\nvalue = 19.6'),\n",
       " Text(110.98342541436465, 59.79599999999999, 'X[12] <= 12.89\\nmse = 0.466\\nsamples = 5\\nvalue = 22.22'),\n",
       " Text(110.36685082872928, 48.92400000000001, 'X[4] <= 0.651\\nmse = 0.029\\nsamples = 3\\nvalue = 22.767'),\n",
       " Text(109.75027624309394, 38.05199999999999, 'mse = 0.0\\nsamples = 1\\nvalue = 23.0'),\n",
       " Text(110.98342541436465, 38.05199999999999, 'X[6] <= 82.35\\nmse = 0.002\\nsamples = 2\\nvalue = 22.65'),\n",
       " Text(110.36685082872928, 27.180000000000007, 'mse = 0.0\\nsamples = 1\\nvalue = 22.6'),\n",
       " Text(111.60000000000001, 27.180000000000007, 'mse = 0.0\\nsamples = 1\\nvalue = 22.7'),\n",
       " Text(111.60000000000001, 48.92400000000001, 'mse = -0.0\\nsamples = 2\\nvalue = 21.4'),\n",
       " Text(114.6828729281768, 81.53999999999999, 'X[7] <= 3.175\\nmse = 0.716\\nsamples = 6\\nvalue = 19.95'),\n",
       " Text(112.83314917127073, 70.668, 'X[8] <= 15.0\\nmse = 0.347\\nsamples = 3\\nvalue = 19.3'),\n",
       " Text(112.21657458563537, 59.79599999999999, 'mse = 0.0\\nsamples = 1\\nvalue = 18.5'),\n",
       " Text(113.44972375690608, 59.79599999999999, 'X[12] <= 14.09\\nmse = 0.04\\nsamples = 2\\nvalue = 19.7'),\n",
       " Text(112.83314917127073, 48.92400000000001, 'mse = 0.0\\nsamples = 1\\nvalue = 19.5'),\n",
       " Text(114.06629834254144, 48.92400000000001, 'mse = 0.0\\nsamples = 1\\nvalue = 19.9'),\n",
       " Text(116.53259668508288, 70.668, 'X[9] <= 532.0\\nmse = 0.24\\nsamples = 3\\nvalue = 20.6'),\n",
       " Text(115.91602209944752, 59.79599999999999, 'X[0] <= 0.072\\nmse = 0.09\\nsamples = 2\\nvalue = 20.3'),\n",
       " Text(115.29944751381217, 48.92400000000001, 'mse = 0.0\\nsamples = 1\\nvalue = 20.6'),\n",
       " Text(116.53259668508288, 48.92400000000001, 'mse = 0.0\\nsamples = 1\\nvalue = 20.0'),\n",
       " Text(117.14917127071824, 59.79599999999999, 'mse = -0.0\\nsamples = 1\\nvalue = 21.2'),\n",
       " Text(122.23591160220995, 92.412, 'X[4] <= 0.659\\nmse = 1.36\\nsamples = 9\\nvalue = 22.656'),\n",
       " Text(120.54033149171272, 81.53999999999999, 'X[5] <= 6.342\\nmse = 0.52\\nsamples = 7\\nvalue = 23.143'),\n",
       " Text(118.99889502762431, 70.668, 'X[7] <= 3.227\\nmse = 0.09\\nsamples = 2\\nvalue = 24.1'),\n",
       " Text(118.38232044198895, 59.79599999999999, 'mse = 0.0\\nsamples = 1\\nvalue = 23.8'),\n",
       " Text(119.61546961325968, 59.79599999999999, 'mse = -0.0\\nsamples = 1\\nvalue = 24.4'),\n",
       " Text(122.08176795580111, 70.668, 'X[11] <= 383.06\\nmse = 0.178\\nsamples = 5\\nvalue = 22.76'),\n",
       " Text(120.8486187845304, 59.79599999999999, 'X[7] <= 4.649\\nmse = 0.002\\nsamples = 2\\nvalue = 22.25'),\n",
       " Text(120.23204419889504, 48.92400000000001, 'mse = 0.0\\nsamples = 1\\nvalue = 22.3'),\n",
       " Text(121.46519337016575, 48.92400000000001, 'mse = 0.0\\nsamples = 1\\nvalue = 22.2'),\n",
       " Text(123.31491712707184, 59.79599999999999, 'X[3] <= 0.5\\nmse = 0.007\\nsamples = 3\\nvalue = 23.1'),\n",
       " Text(122.69834254143647, 48.92400000000001, 'X[4] <= 0.562\\nmse = 0.002\\nsamples = 2\\nvalue = 23.15'),\n",
       " Text(122.08176795580111, 38.05199999999999, 'mse = 0.0\\nsamples = 1\\nvalue = 23.1'),\n",
       " Text(123.31491712707184, 38.05199999999999, 'mse = 0.0\\nsamples = 1\\nvalue = 23.2'),\n",
       " Text(123.93149171270719, 48.92400000000001, 'mse = 0.0\\nsamples = 1\\nvalue = 23.0'),\n",
       " Text(123.93149171270719, 81.53999999999999, 'X[12] <= 11.78\\nmse = 0.562\\nsamples = 2\\nvalue = 20.95'),\n",
       " Text(123.31491712707184, 70.668, 'mse = 0.0\\nsamples = 1\\nvalue = 20.2'),\n",
       " Text(124.54806629834255, 70.668, 'mse = 0.0\\nsamples = 1\\nvalue = 21.7'),\n",
       " Text(128.2475138121547, 103.28399999999999, 'X[7] <= 3.616\\nmse = 1.918\\nsamples = 10\\nvalue = 19.97'),\n",
       " Text(127.01436464088398, 92.412, 'X[12] <= 11.69\\nmse = 1.524\\nsamples = 8\\nvalue = 20.388'),\n",
       " Text(126.39779005524863, 81.53999999999999, 'mse = 0.0\\nsamples = 1\\nvalue = 23.0'),\n",
       " Text(127.63093922651935, 81.53999999999999, 'X[7] <= 2.746\\nmse = 0.627\\nsamples = 7\\nvalue = 20.014'),\n",
       " Text(127.01436464088398, 70.668, 'X[0] <= 0.176\\nmse = 0.179\\nsamples = 6\\nvalue = 19.733'),\n",
       " Text(125.78121546961327, 59.79599999999999, 'X[12] <= 13.21\\nmse = 0.06\\nsamples = 3\\nvalue = 20.1'),\n",
       " Text(125.16464088397791, 48.92400000000001, 'X[6] <= 93.55\\nmse = 0.022\\nsamples = 2\\nvalue = 19.95'),\n",
       " Text(124.54806629834255, 38.05199999999999, 'mse = 0.0\\nsamples = 1\\nvalue = 20.1'),\n",
       " Text(125.78121546961327, 38.05199999999999, 'mse = -0.0\\nsamples = 1\\nvalue = 19.8'),\n",
       " Text(126.39779005524863, 48.92400000000001, 'mse = 0.0\\nsamples = 1\\nvalue = 20.4'),\n",
       " Text(128.2475138121547, 59.79599999999999, 'X[0] <= 0.766\\nmse = 0.029\\nsamples = 3\\nvalue = 19.367'),\n",
       " Text(127.63093922651935, 48.92400000000001, 'X[5] <= 6.298\\nmse = 0.003\\nsamples = 2\\nvalue = 19.25'),\n",
       " Text(127.01436464088398, 38.05199999999999, 'mse = 0.0\\nsamples = 1\\nvalue = 19.3'),\n",
       " Text(128.2475138121547, 38.05199999999999, 'mse = 0.0\\nsamples = 1\\nvalue = 19.2'),\n",
       " Text(128.86408839779006, 48.92400000000001, 'mse = -0.0\\nsamples = 1\\nvalue = 19.6'),\n",
       " Text(128.2475138121547, 70.668, 'mse = -0.0\\nsamples = 1\\nvalue = 21.7'),\n",
       " Text(129.48066298342542, 92.412, 'X[0] <= 0.705\\nmse = 0.01\\nsamples = 2\\nvalue = 18.3'),\n",
       " Text(128.86408839779006, 81.53999999999999, 'mse = 0.0\\nsamples = 1\\nvalue = 18.2'),\n",
       " Text(130.09723756906078, 81.53999999999999, 'mse = 0.0\\nsamples = 1\\nvalue = 18.4'),\n",
       " Text(142.40946132596687, 168.516, 'X[9] <= 269.0\\nmse = 11.694\\nsamples = 55\\nvalue = 27.427'),\n",
       " Text(130.86795580110498, 157.644, 'X[10] <= 17.85\\nmse = 5.38\\nsamples = 17\\nvalue = 30.241'),\n",
       " Text(129.17237569060774, 146.772, 'X[11] <= 393.41\\nmse = 2.699\\nsamples = 10\\nvalue = 31.71'),\n",
       " Text(127.63093922651935, 135.9, 'X[11] <= 392.415\\nmse = 0.76\\nsamples = 5\\nvalue = 30.4'),\n",
       " Text(126.39779005524863, 125.02799999999999, 'X[5] <= 6.666\\nmse = 0.222\\nsamples = 3\\nvalue = 29.767'),\n",
       " Text(125.78121546961327, 114.156, 'mse = 0.0\\nsamples = 1\\nvalue = 29.1'),\n",
       " Text(127.01436464088398, 114.156, 'mse = -0.0\\nsamples = 2\\nvalue = 30.1'),\n",
       " Text(128.86408839779006, 125.02799999999999, 'X[4] <= 0.406\\nmse = 0.063\\nsamples = 2\\nvalue = 31.35'),\n",
       " Text(128.2475138121547, 114.156, 'mse = 0.0\\nsamples = 1\\nvalue = 31.1'),\n",
       " Text(129.48066298342542, 114.156, 'mse = -0.0\\nsamples = 1\\nvalue = 31.6'),\n",
       " Text(130.71381215469614, 135.9, 'X[10] <= 16.25\\nmse = 1.206\\nsamples = 5\\nvalue = 33.02'),\n",
       " Text(130.09723756906078, 125.02799999999999, 'mse = 0.0\\nsamples = 1\\nvalue = 35.1'),\n",
       " Text(131.3303867403315, 125.02799999999999, 'X[11] <= 395.175\\nmse = 0.155\\nsamples = 4\\nvalue = 32.5'),\n",
       " Text(130.71381215469614, 114.156, 'mse = 0.0\\nsamples = 1\\nvalue = 33.1'),\n",
       " Text(131.94696132596687, 114.156, 'X[7] <= 4.172\\nmse = 0.047\\nsamples = 3\\nvalue = 32.3'),\n",
       " Text(131.3303867403315, 103.28399999999999, 'X[0] <= 0.078\\nmse = 0.002\\nsamples = 2\\nvalue = 32.45'),\n",
       " Text(130.71381215469614, 92.412, 'mse = 0.0\\nsamples = 1\\nvalue = 32.4'),\n",
       " Text(131.94696132596687, 92.412, 'mse = -0.0\\nsamples = 1\\nvalue = 32.5'),\n",
       " Text(132.56353591160223, 103.28399999999999, 'mse = 0.0\\nsamples = 1\\nvalue = 32.0'),\n",
       " Text(132.56353591160223, 146.772, 'X[5] <= 6.605\\nmse = 1.725\\nsamples = 7\\nvalue = 28.143'),\n",
       " Text(131.94696132596687, 135.9, 'mse = 0.0\\nsamples = 1\\nvalue = 30.8'),\n",
       " Text(133.1801104972376, 135.9, 'X[1] <= 16.5\\nmse = 0.64\\nsamples = 6\\nvalue = 27.7'),\n",
       " Text(132.56353591160223, 125.02799999999999, 'mse = 0.0\\nsamples = 2\\nvalue = 26.6'),\n",
       " Text(133.79668508287293, 125.02799999999999, 'X[6] <= 25.65\\nmse = 0.053\\nsamples = 4\\nvalue = 28.25'),\n",
       " Text(133.1801104972376, 114.156, 'mse = 0.0\\nsamples = 1\\nvalue = 27.9'),\n",
       " Text(134.4132596685083, 114.156, 'X[7] <= 3.276\\nmse = 0.016\\nsamples = 3\\nvalue = 28.367'),\n",
       " Text(133.79668508287293, 103.28399999999999, 'mse = 0.0\\nsamples = 1\\nvalue = 28.2'),\n",
       " Text(135.02983425414365, 103.28399999999999, 'X[8] <= 5.5\\nmse = 0.003\\nsamples = 2\\nvalue = 28.45'),\n",
       " Text(134.4132596685083, 92.412, 'mse = 0.0\\nsamples = 1\\nvalue = 28.5'),\n",
       " Text(135.646408839779, 92.412, 'mse = 0.0\\nsamples = 1\\nvalue = 28.4'),\n",
       " Text(153.95096685082873, 157.644, 'X[4] <= 0.526\\nmse = 9.392\\nsamples = 38\\nvalue = 26.168'),\n",
       " Text(146.66767955801106, 146.772, 'X[4] <= 0.436\\nmse = 8.024\\nsamples = 29\\nvalue = 27.007'),\n",
       " Text(140.2707182320442, 135.9, 'X[6] <= 35.2\\nmse = 3.104\\nsamples = 11\\nvalue = 24.564'),\n",
       " Text(138.11270718232046, 125.02799999999999, 'X[10] <= 18.0\\nmse = 1.618\\nsamples = 5\\nvalue = 26.02'),\n",
       " Text(136.87955801104974, 114.156, 'X[11] <= 381.33\\nmse = 0.023\\nsamples = 2\\nvalue = 24.65'),\n",
       " Text(136.26298342541438, 103.28399999999999, 'mse = 0.0\\nsamples = 1\\nvalue = 24.8'),\n",
       " Text(137.4961325966851, 103.28399999999999, 'mse = 0.0\\nsamples = 1\\nvalue = 24.5'),\n",
       " Text(139.34585635359116, 114.156, 'X[11] <= 395.32\\nmse = 0.596\\nsamples = 3\\nvalue = 26.933'),\n",
       " Text(138.72928176795583, 103.28399999999999, 'X[4] <= 0.43\\nmse = 0.04\\nsamples = 2\\nvalue = 26.4'),\n",
       " Text(138.11270718232046, 92.412, 'mse = 0.0\\nsamples = 1\\nvalue = 26.6'),\n",
       " Text(139.34585635359116, 92.412, 'mse = 0.0\\nsamples = 1\\nvalue = 26.2'),\n",
       " Text(139.96243093922652, 103.28399999999999, 'mse = 0.0\\nsamples = 1\\nvalue = 28.0'),\n",
       " Text(142.42872928176797, 125.02799999999999, 'X[12] <= 8.435\\nmse = 1.102\\nsamples = 6\\nvalue = 23.35'),\n",
       " Text(141.8121546961326, 114.156, 'X[4] <= 0.406\\nmse = 0.287\\nsamples = 4\\nvalue = 24.025'),\n",
       " Text(141.19558011049725, 103.28399999999999, 'mse = 0.0\\nsamples = 1\\nvalue = 24.8'),\n",
       " Text(142.42872928176797, 103.28399999999999, 'X[10] <= 17.45\\nmse = 0.116\\nsamples = 3\\nvalue = 23.767'),\n",
       " Text(141.8121546961326, 92.412, 'mse = 0.0\\nsamples = 1\\nvalue = 23.3'),\n",
       " Text(143.04530386740333, 92.412, 'X[9] <= 346.0\\nmse = 0.01\\nsamples = 2\\nvalue = 24.0'),\n",
       " Text(142.42872928176797, 81.53999999999999, 'mse = 0.0\\nsamples = 1\\nvalue = 23.9'),\n",
       " Text(143.6618784530387, 81.53999999999999, 'mse = 0.0\\nsamples = 1\\nvalue = 24.1'),\n",
       " Text(143.04530386740333, 114.156, 'mse = -0.0\\nsamples = 2\\nvalue = 22.0'),\n",
       " Text(153.06464088397792, 135.9, 'X[12] <= 7.05\\nmse = 5.153\\nsamples = 18\\nvalue = 28.5'),\n",
       " Text(148.59447513812157, 125.02799999999999, 'X[9] <= 301.5\\nmse = 1.409\\nsamples = 9\\nvalue = 30.144'),\n",
       " Text(146.12817679558012, 114.156, 'X[9] <= 292.5\\nmse = 0.367\\nsamples = 4\\nvalue = 29.075'),\n",
       " Text(144.8950276243094, 103.28399999999999, 'X[11] <= 377.44\\nmse = 0.01\\nsamples = 2\\nvalue = 28.5'),\n",
       " Text(144.27845303867403, 92.412, 'mse = 0.0\\nsamples = 1\\nvalue = 28.4'),\n",
       " Text(145.51160220994475, 92.412, 'mse = 0.0\\nsamples = 1\\nvalue = 28.6'),\n",
       " Text(147.36132596685084, 103.28399999999999, 'X[11] <= 391.115\\nmse = 0.062\\nsamples = 2\\nvalue = 29.65'),\n",
       " Text(146.74475138121548, 92.412, 'mse = 0.0\\nsamples = 1\\nvalue = 29.4'),\n",
       " Text(147.9779005524862, 92.412, 'mse = 0.0\\nsamples = 1\\nvalue = 29.9'),\n",
       " Text(151.060773480663, 114.156, 'X[7] <= 4.178\\nmse = 0.596\\nsamples = 5\\nvalue = 31.0'),\n",
       " Text(149.82762430939226, 103.28399999999999, 'X[12] <= 5.22\\nmse = 0.062\\nsamples = 2\\nvalue = 31.75'),\n",
       " Text(149.21104972375693, 92.412, 'mse = 0.0\\nsamples = 1\\nvalue = 31.5'),\n",
       " Text(150.44419889502763, 92.412, 'mse = 0.0\\nsamples = 1\\nvalue = 32.0'),\n",
       " Text(152.2939226519337, 103.28399999999999, 'X[1] <= 50.0\\nmse = 0.327\\nsamples = 3\\nvalue = 30.5'),\n",
       " Text(151.67734806629835, 92.412, 'X[6] <= 29.95\\nmse = 0.123\\nsamples = 2\\nvalue = 30.15'),\n",
       " Text(151.060773480663, 81.53999999999999, 'mse = 0.0\\nsamples = 1\\nvalue = 29.8'),\n",
       " Text(152.2939226519337, 81.53999999999999, 'mse = 0.0\\nsamples = 1\\nvalue = 30.5'),\n",
       " Text(152.91049723756907, 92.412, 'mse = -0.0\\nsamples = 1\\nvalue = 31.2'),\n",
       " Text(157.53480662983426, 125.02799999999999, 'X[7] <= 3.9\\nmse = 3.489\\nsamples = 9\\nvalue = 26.856'),\n",
       " Text(155.99337016574586, 114.156, 'X[5] <= 6.727\\nmse = 1.618\\nsamples = 5\\nvalue = 28.12'),\n",
       " Text(154.76022099447516, 103.28399999999999, 'X[6] <= 73.65\\nmse = 0.303\\nsamples = 2\\nvalue = 29.55'),\n",
       " Text(154.1436464088398, 92.412, 'mse = 0.0\\nsamples = 1\\nvalue = 29.0'),\n",
       " Text(155.3767955801105, 92.412, 'mse = 0.0\\nsamples = 1\\nvalue = 30.1'),\n",
       " Text(157.22651933701658, 103.28399999999999, 'X[6] <= 74.5\\nmse = 0.222\\nsamples = 3\\nvalue = 27.167'),\n",
       " Text(156.60994475138122, 92.412, 'mse = 0.0\\nsamples = 1\\nvalue = 26.5'),\n",
       " Text(157.84309392265195, 92.412, 'mse = 0.0\\nsamples = 2\\nvalue = 27.5'),\n",
       " Text(159.07624309392267, 114.156, 'X[8] <= 4.5\\nmse = 1.332\\nsamples = 4\\nvalue = 25.275'),\n",
       " Text(158.4596685082873, 103.28399999999999, 'mse = 0.0\\nsamples = 1\\nvalue = 27.1'),\n",
       " Text(159.69281767955803, 103.28399999999999, 'X[9] <= 338.5\\nmse = 0.296\\nsamples = 3\\nvalue = 24.667'),\n",
       " Text(159.07624309392267, 92.412, 'X[2] <= 5.665\\nmse = 0.003\\nsamples = 2\\nvalue = 25.05'),\n",
       " Text(158.4596685082873, 81.53999999999999, 'mse = 0.0\\nsamples = 1\\nvalue = 25.0'),\n",
       " Text(159.69281767955803, 81.53999999999999, 'mse = 0.0\\nsamples = 1\\nvalue = 25.1'),\n",
       " Text(160.3093922651934, 92.412, 'mse = -0.0\\nsamples = 1\\nvalue = 23.9'),\n",
       " Text(161.2342541436464, 146.772, 'X[10] <= 17.1\\nmse = 4.233\\nsamples = 9\\nvalue = 23.467'),\n",
       " Text(159.38453038674035, 135.9, 'X[12] <= 7.335\\nmse = 5.522\\nsamples = 2\\nvalue = 26.35'),\n",
       " Text(158.767955801105, 125.02799999999999, 'mse = 0.0\\nsamples = 1\\nvalue = 24.0'),\n",
       " Text(160.0011049723757, 125.02799999999999, 'mse = -0.0\\nsamples = 1\\nvalue = 28.7'),\n",
       " Text(163.0839779005525, 135.9, 'X[10] <= 20.6\\nmse = 0.811\\nsamples = 7\\nvalue = 22.643'),\n",
       " Text(161.2342541436464, 125.02799999999999, 'X[7] <= 3.325\\nmse = 0.227\\nsamples = 4\\nvalue = 23.275'),\n",
       " Text(160.61767955801105, 114.156, 'mse = 0.0\\nsamples = 2\\nvalue = 22.8'),\n",
       " Text(161.85082872928177, 114.156, 'X[11] <= 394.38\\nmse = 0.003\\nsamples = 2\\nvalue = 23.75'),\n",
       " Text(161.2342541436464, 103.28399999999999, 'mse = 0.0\\nsamples = 1\\nvalue = 23.7'),\n",
       " Text(162.46740331491714, 103.28399999999999, 'mse = 0.0\\nsamples = 1\\nvalue = 23.8'),\n",
       " Text(164.93370165745858, 125.02799999999999, 'X[12] <= 10.825\\nmse = 0.347\\nsamples = 3\\nvalue = 21.8'),\n",
       " Text(164.31712707182322, 114.156, 'X[5] <= 6.694\\nmse = 0.04\\nsamples = 2\\nvalue = 22.2'),\n",
       " Text(163.70055248618786, 103.28399999999999, 'mse = 0.0\\nsamples = 1\\nvalue = 22.4'),\n",
       " Text(164.93370165745858, 103.28399999999999, 'mse = 0.0\\nsamples = 1\\nvalue = 22.0'),\n",
       " Text(165.55027624309395, 114.156, 'mse = 0.0\\nsamples = 1\\nvalue = 21.0'),\n",
       " Text(220.90590901243095, 190.26, 'X[0] <= 6.992\\nmse = 19.276\\nsamples = 175\\nvalue = 14.956'),\n",
       " Text(194.44980145027625, 179.388, 'X[4] <= 0.531\\nmse = 11.391\\nsamples = 101\\nvalue = 17.138'),\n",
       " Text(174.87596685082875, 168.516, 'X[7] <= 5.57\\nmse = 9.016\\nsamples = 24\\nvalue = 20.021'),\n",
       " Text(170.48287292817682, 157.644, 'X[6] <= 88.55\\nmse = 2.862\\nsamples = 13\\nvalue = 21.454'),\n",
       " Text(168.01657458563537, 146.772, 'X[11] <= 385.375\\nmse = 0.792\\nsamples = 6\\nvalue = 22.967'),\n",
       " Text(166.78342541436464, 135.9, 'X[3] <= 0.5\\nmse = 0.122\\nsamples = 2\\nvalue = 24.05'),\n",
       " Text(166.16685082872928, 125.02799999999999, 'mse = 0.0\\nsamples = 1\\nvalue = 23.7'),\n",
       " Text(167.4, 125.02799999999999, 'mse = 0.0\\nsamples = 1\\nvalue = 24.4'),\n",
       " Text(169.2497237569061, 135.9, 'X[1] <= 6.25\\nmse = 0.247\\nsamples = 4\\nvalue = 22.425'),\n",
       " Text(168.63314917127073, 125.02799999999999, 'X[4] <= 0.499\\nmse = 0.096\\nsamples = 3\\nvalue = 22.667'),\n",
       " Text(168.01657458563537, 114.156, 'X[7] <= 4.004\\nmse = 0.003\\nsamples = 2\\nvalue = 22.45'),\n",
       " Text(167.4, 103.28399999999999, 'mse = 0.0\\nsamples = 1\\nvalue = 22.4'),\n",
       " Text(168.63314917127073, 103.28399999999999, 'mse = 0.0\\nsamples = 1\\nvalue = 22.5'),\n",
       " Text(169.2497237569061, 114.156, 'mse = -0.0\\nsamples = 1\\nvalue = 23.1'),\n",
       " Text(169.86629834254146, 125.02799999999999, 'mse = -0.0\\nsamples = 1\\nvalue = 21.7'),\n",
       " Text(172.94917127071824, 146.772, 'X[5] <= 5.905\\nmse = 0.994\\nsamples = 7\\nvalue = 20.157'),\n",
       " Text(171.7160220994475, 135.9, 'X[7] <= 3.77\\nmse = 0.067\\nsamples = 4\\nvalue = 19.575'),\n",
       " Text(171.09944751381218, 125.02799999999999, 'X[6] <= 90.25\\nmse = 0.009\\nsamples = 3\\nvalue = 19.433'),\n",
       " Text(170.48287292817682, 114.156, 'mse = 0.0\\nsamples = 1\\nvalue = 19.3'),\n",
       " Text(171.7160220994475, 114.156, 'mse = 0.0\\nsamples = 2\\nvalue = 19.5'),\n",
       " Text(172.33259668508288, 125.02799999999999, 'mse = 0.0\\nsamples = 1\\nvalue = 20.0'),\n",
       " Text(174.18232044198896, 135.9, 'X[5] <= 6.197\\nmse = 1.176\\nsamples = 3\\nvalue = 20.933'),\n",
       " Text(173.5657458563536, 125.02799999999999, 'mse = 0.0\\nsamples = 2\\nvalue = 21.7'),\n",
       " Text(174.79889502762433, 125.02799999999999, 'mse = -0.0\\nsamples = 1\\nvalue = 19.4'),\n",
       " Text(179.26906077348067, 157.644, 'X[0] <= 0.157\\nmse = 10.993\\nsamples = 11\\nvalue = 18.327'),\n",
       " Text(177.26519337016575, 146.772, 'X[6] <= 77.05\\nmse = 12.827\\nsamples = 3\\nvalue = 22.1'),\n",
       " Text(176.6486187845304, 135.9, 'X[1] <= 37.5\\nmse = 0.49\\nsamples = 2\\nvalue = 19.6'),\n",
       " Text(176.03204419889505, 125.02799999999999, 'mse = 0.0\\nsamples = 1\\nvalue = 20.3'),\n",
       " Text(177.26519337016575, 125.02799999999999, 'mse = -0.0\\nsamples = 1\\nvalue = 18.9'),\n",
       " Text(177.8817679558011, 135.9, 'mse = 0.0\\nsamples = 1\\nvalue = 27.1'),\n",
       " Text(181.2729281767956, 146.772, 'X[6] <= 89.65\\nmse = 2.966\\nsamples = 8\\nvalue = 16.912'),\n",
       " Text(179.11491712707183, 135.9, 'X[7] <= 5.889\\nmse = 1.122\\nsamples = 4\\nvalue = 18.35'),\n",
       " Text(178.49834254143647, 125.02799999999999, 'mse = 0.0\\nsamples = 1\\nvalue = 16.6'),\n",
       " Text(179.7314917127072, 125.02799999999999, 'X[6] <= 66.1\\nmse = 0.136\\nsamples = 3\\nvalue = 18.933'),\n",
       " Text(179.11491712707183, 114.156, 'mse = 0.0\\nsamples = 1\\nvalue = 19.4'),\n",
       " Text(180.34806629834256, 114.156, 'X[7] <= 7.273\\nmse = 0.04\\nsamples = 2\\nvalue = 18.7'),\n",
       " Text(179.7314917127072, 103.28399999999999, 'mse = 0.0\\nsamples = 1\\nvalue = 18.9'),\n",
       " Text(180.96464088397792, 103.28399999999999, 'mse = 0.0\\nsamples = 1\\nvalue = 18.5'),\n",
       " Text(183.43093922651934, 135.9, 'X[0] <= 0.218\\nmse = 0.677\\nsamples = 4\\nvalue = 15.475'),\n",
       " Text(182.19779005524865, 125.02799999999999, 'X[0] <= 0.191\\nmse = 0.062\\nsamples = 2\\nvalue = 16.25'),\n",
       " Text(181.58121546961328, 114.156, 'mse = 0.0\\nsamples = 1\\nvalue = 16.0'),\n",
       " Text(182.81436464088398, 114.156, 'mse = 0.0\\nsamples = 1\\nvalue = 16.5'),\n",
       " Text(184.66408839779007, 125.02799999999999, 'X[2] <= 7.39\\nmse = 0.09\\nsamples = 2\\nvalue = 14.7'),\n",
       " Text(184.0475138121547, 114.156, 'mse = 0.0\\nsamples = 1\\nvalue = 14.4'),\n",
       " Text(185.28066298342543, 114.156, 'mse = 0.0\\nsamples = 1\\nvalue = 15.0'),\n",
       " Text(214.02363604972376, 168.516, 'X[12] <= 18.885\\nmse = 8.733\\nsamples = 77\\nvalue = 16.239'),\n",
       " Text(197.21716160220996, 157.644, 'X[6] <= 85.2\\nmse = 5.952\\nsamples = 53\\nvalue = 17.234'),\n",
       " Text(191.13812154696134, 146.772, 'X[12] <= 15.235\\nmse = 4.531\\nsamples = 12\\nvalue = 19.408'),\n",
       " Text(188.3635359116022, 135.9, 'X[9] <= 534.5\\nmse = 2.29\\nsamples = 5\\nvalue = 17.94'),\n",
       " Text(187.13038674033152, 125.02799999999999, 'X[9] <= 397.0\\nmse = 0.802\\nsamples = 3\\nvalue = 16.867'),\n",
       " Text(186.51381215469615, 114.156, 'mse = 0.0\\nsamples = 2\\nvalue = 17.5'),\n",
       " Text(187.74696132596688, 114.156, 'mse = -0.0\\nsamples = 1\\nvalue = 15.6'),\n",
       " Text(189.59668508287294, 125.02799999999999, 'X[4] <= 0.648\\nmse = 0.202\\nsamples = 2\\nvalue = 19.55'),\n",
       " Text(188.98011049723758, 114.156, 'mse = 0.0\\nsamples = 1\\nvalue = 19.1'),\n",
       " Text(190.2132596685083, 114.156, 'mse = 0.0\\nsamples = 1\\nvalue = 20.0'),\n",
       " Text(193.91270718232045, 135.9, 'X[7] <= 2.835\\nmse = 3.491\\nsamples = 7\\nvalue = 20.457'),\n",
       " Text(192.0629834254144, 125.02799999999999, 'X[11] <= 358.505\\nmse = 1.682\\nsamples = 3\\nvalue = 22.233'),\n",
       " Text(191.44640883977902, 114.156, 'mse = 0.0\\nsamples = 1\\nvalue = 20.4'),\n",
       " Text(192.67955801104975, 114.156, 'X[8] <= 15.0\\nmse = 0.002\\nsamples = 2\\nvalue = 23.15'),\n",
       " Text(192.0629834254144, 103.28399999999999, 'mse = 0.0\\nsamples = 1\\nvalue = 23.1'),\n",
       " Text(193.29613259668508, 103.28399999999999, 'mse = 0.0\\nsamples = 1\\nvalue = 23.2'),\n",
       " Text(195.76243093922653, 125.02799999999999, 'X[12] <= 17.74\\nmse = 0.707\\nsamples = 4\\nvalue = 19.125'),\n",
       " Text(195.14585635359117, 114.156, 'X[6] <= 84.35\\nmse = 0.162\\nsamples = 3\\nvalue = 19.567'),\n",
       " Text(194.5292817679558, 103.28399999999999, 'X[2] <= 14.0\\nmse = 0.002\\nsamples = 2\\nvalue = 19.85'),\n",
       " Text(193.91270718232045, 92.412, 'mse = 0.0\\nsamples = 1\\nvalue = 19.8'),\n",
       " Text(195.14585635359117, 92.412, 'mse = -0.0\\nsamples = 1\\nvalue = 19.9'),\n",
       " Text(195.76243093922653, 103.28399999999999, 'mse = 0.0\\nsamples = 1\\nvalue = 19.0'),\n",
       " Text(196.3790055248619, 114.156, 'mse = 0.0\\nsamples = 1\\nvalue = 17.8'),\n",
       " Text(203.29620165745857, 146.772, 'X[9] <= 291.5\\nmse = 4.579\\nsamples = 41\\nvalue = 16.598'),\n",
       " Text(197.61215469613262, 135.9, 'X[5] <= 5.915\\nmse = 1.173\\nsamples = 4\\nvalue = 20.55'),\n",
       " Text(196.99558011049726, 125.02799999999999, 'mse = 0.0\\nsamples = 1\\nvalue = 18.8'),\n",
       " Text(198.22872928176798, 125.02799999999999, 'X[11] <= 381.555\\nmse = 0.202\\nsamples = 3\\nvalue = 21.133'),\n",
       " Text(197.61215469613262, 114.156, 'mse = 0.0\\nsamples = 1\\nvalue = 20.5'),\n",
       " Text(198.84530386740332, 114.156, 'X[11] <= 390.96\\nmse = 0.003\\nsamples = 2\\nvalue = 21.45'),\n",
       " Text(198.22872928176798, 103.28399999999999, 'mse = 0.0\\nsamples = 1\\nvalue = 21.4'),\n",
       " Text(199.46187845303868, 103.28399999999999, 'mse = 0.0\\nsamples = 1\\nvalue = 21.5'),\n",
       " Text(208.98024861878454, 135.9, 'X[12] <= 17.1\\nmse = 3.076\\nsamples = 37\\nvalue = 16.17'),\n",
       " Text(203.39254143646411, 125.02799999999999, 'X[5] <= 5.668\\nmse = 2.72\\nsamples = 21\\nvalue = 17.0'),\n",
       " Text(201.31160220994477, 114.156, 'X[6] <= 97.0\\nmse = 1.087\\nsamples = 3\\nvalue = 14.2'),\n",
       " Text(200.6950276243094, 103.28399999999999, 'X[11] <= 196.025\\nmse = 0.16\\nsamples = 2\\nvalue = 13.5'),\n",
       " Text(200.07845303867404, 92.412, 'mse = 0.0\\nsamples = 1\\nvalue = 13.1'),\n",
       " Text(201.31160220994477, 92.412, 'mse = 0.0\\nsamples = 1\\nvalue = 13.9'),\n",
       " Text(201.92817679558013, 103.28399999999999, 'mse = -0.0\\nsamples = 1\\nvalue = 15.6'),\n",
       " Text(205.47348066298343, 114.156, 'X[11] <= 177.71\\nmse = 1.468\\nsamples = 18\\nvalue = 17.467'),\n",
       " Text(204.85690607734807, 103.28399999999999, 'mse = 0.0\\nsamples = 1\\nvalue = 14.3'),\n",
       " Text(206.0900552486188, 103.28399999999999, 'X[7] <= 2.582\\nmse = 0.93\\nsamples = 17\\nvalue = 17.653'),\n",
       " Text(202.5447513812155, 92.412, 'X[12] <= 15.255\\nmse = 0.539\\nsamples = 14\\nvalue = 17.964'),\n",
       " Text(199.77016574585636, 81.53999999999999, 'X[7] <= 2.448\\nmse = 0.283\\nsamples = 6\\nvalue = 17.4'),\n",
       " Text(198.53701657458566, 70.668, 'X[12] <= 14.51\\nmse = 0.047\\nsamples = 4\\nvalue = 17.075'),\n",
       " Text(197.9204419889503, 59.79599999999999, 'mse = 0.0\\nsamples = 1\\nvalue = 17.4'),\n",
       " Text(199.153591160221, 59.79599999999999, 'X[6] <= 92.5\\nmse = 0.016\\nsamples = 3\\nvalue = 16.967'),\n",
       " Text(198.53701657458566, 48.92400000000001, 'mse = 0.0\\nsamples = 1\\nvalue = 16.8'),\n",
       " Text(199.77016574585636, 48.92400000000001, 'X[4] <= 0.748\\nmse = 0.002\\nsamples = 2\\nvalue = 17.05'),\n",
       " Text(199.153591160221, 38.05199999999999, 'mse = 0.0\\nsamples = 1\\nvalue = 17.1'),\n",
       " Text(200.38674033149172, 38.05199999999999, 'mse = 0.0\\nsamples = 1\\nvalue = 17.0'),\n",
       " Text(201.00331491712708, 70.668, 'X[4] <= 0.669\\nmse = 0.122\\nsamples = 2\\nvalue = 18.05'),\n",
       " Text(200.38674033149172, 59.79599999999999, 'mse = 0.0\\nsamples = 1\\nvalue = 18.4'),\n",
       " Text(201.61988950276245, 59.79599999999999, 'mse = 0.0\\nsamples = 1\\nvalue = 17.7'),\n",
       " Text(205.3193370165746, 81.53999999999999, 'X[8] <= 4.5\\nmse = 0.314\\nsamples = 8\\nvalue = 18.388'),\n",
       " Text(203.46961325966853, 70.668, 'X[0] <= 0.324\\nmse = 0.096\\nsamples = 3\\nvalue = 17.833'),\n",
       " Text(202.85303867403317, 59.79599999999999, 'mse = 0.0\\nsamples = 1\\nvalue = 17.4'),\n",
       " Text(204.0861878453039, 59.79599999999999, 'X[6] <= 98.5\\nmse = 0.003\\nsamples = 2\\nvalue = 18.05'),\n",
       " Text(203.46961325966853, 48.92400000000001, 'mse = 0.0\\nsamples = 1\\nvalue = 18.1'),\n",
       " Text(204.70276243093923, 48.92400000000001, 'mse = 0.0\\nsamples = 1\\nvalue = 18.0'),\n",
       " Text(207.16906077348068, 70.668, 'X[2] <= 18.84\\nmse = 0.15\\nsamples = 5\\nvalue = 18.72'),\n",
       " Text(206.55248618784532, 59.79599999999999, 'X[6] <= 90.55\\nmse = 0.043\\nsamples = 4\\nvalue = 18.55'),\n",
       " Text(205.93591160220996, 48.92400000000001, 'mse = 0.0\\nsamples = 1\\nvalue = 18.3'),\n",
       " Text(207.16906077348068, 48.92400000000001, 'X[6] <= 97.7\\nmse = 0.029\\nsamples = 3\\nvalue = 18.633'),\n",
       " Text(206.55248618784532, 38.05199999999999, 'X[7] <= 2.451\\nmse = 0.003\\nsamples = 2\\nvalue = 18.75'),\n",
       " Text(205.93591160220996, 27.180000000000007, 'mse = 0.0\\nsamples = 1\\nvalue = 18.8'),\n",
       " Text(207.16906077348068, 27.180000000000007, 'mse = 0.0\\nsamples = 1\\nvalue = 18.7'),\n",
       " Text(207.78563535911604, 38.05199999999999, 'mse = 0.0\\nsamples = 1\\nvalue = 18.4'),\n",
       " Text(207.78563535911604, 59.79599999999999, 'mse = -0.0\\nsamples = 1\\nvalue = 19.4'),\n",
       " Text(209.6353591160221, 92.412, 'X[6] <= 92.2\\nmse = 0.187\\nsamples = 3\\nvalue = 16.2'),\n",
       " Text(209.01878453038677, 81.53999999999999, 'X[2] <= 13.12\\nmse = 0.01\\nsamples = 2\\nvalue = 16.5'),\n",
       " Text(208.4022099447514, 70.668, 'mse = 0.0\\nsamples = 1\\nvalue = 16.6'),\n",
       " Text(209.6353591160221, 70.668, 'mse = -0.0\\nsamples = 1\\nvalue = 16.4'),\n",
       " Text(210.25193370165746, 81.53999999999999, 'mse = -0.0\\nsamples = 1\\nvalue = 15.6'),\n",
       " Text(214.567955801105, 125.02799999999999, 'X[7] <= 1.805\\nmse = 1.453\\nsamples = 16\\nvalue = 15.081'),\n",
       " Text(212.7182320441989, 114.156, 'X[5] <= 5.922\\nmse = 0.64\\nsamples = 2\\nvalue = 17.0'),\n",
       " Text(212.10165745856355, 103.28399999999999, 'mse = 0.0\\nsamples = 1\\nvalue = 16.2'),\n",
       " Text(213.33480662983428, 103.28399999999999, 'mse = -0.0\\nsamples = 1\\nvalue = 17.8'),\n",
       " Text(216.41767955801106, 114.156, 'X[12] <= 18.515\\nmse = 0.968\\nsamples = 14\\nvalue = 14.807'),\n",
       " Text(214.567955801105, 103.28399999999999, 'X[12] <= 18.065\\nmse = 0.781\\nsamples = 12\\nvalue = 14.617'),\n",
       " Text(212.7182320441989, 92.412, 'X[5] <= 6.702\\nmse = 0.532\\nsamples = 8\\nvalue = 15.038'),\n",
       " Text(212.10165745856355, 81.53999999999999, 'X[12] <= 17.275\\nmse = 0.171\\nsamples = 7\\nvalue = 15.271'),\n",
       " Text(210.86850828729283, 70.668, 'X[0] <= 6.026\\nmse = 0.25\\nsamples = 2\\nvalue = 15.6'),\n",
       " Text(210.25193370165746, 59.79599999999999, 'mse = 0.0\\nsamples = 1\\nvalue = 16.1'),\n",
       " Text(211.4850828729282, 59.79599999999999, 'mse = -0.0\\nsamples = 1\\nvalue = 15.1'),\n",
       " Text(213.33480662983428, 70.668, 'X[6] <= 98.3\\nmse = 0.078\\nsamples = 5\\nvalue = 15.14'),\n",
       " Text(212.7182320441989, 59.79599999999999, 'X[11] <= 336.65\\nmse = 0.032\\nsamples = 4\\nvalue = 15.025'),\n",
       " Text(212.10165745856355, 48.92400000000001, 'X[6] <= 92.6\\nmse = 0.002\\nsamples = 2\\nvalue = 14.85'),\n",
       " Text(211.4850828729282, 38.05199999999999, 'mse = 0.0\\nsamples = 1\\nvalue = 14.8'),\n",
       " Text(212.7182320441989, 38.05199999999999, 'mse = -0.0\\nsamples = 1\\nvalue = 14.9'),\n",
       " Text(213.33480662983428, 48.92400000000001, 'mse = -0.0\\nsamples = 2\\nvalue = 15.2'),\n",
       " Text(213.95138121546964, 59.79599999999999, 'mse = -0.0\\nsamples = 1\\nvalue = 15.6'),\n",
       " Text(213.33480662983428, 81.53999999999999, 'mse = -0.0\\nsamples = 1\\nvalue = 13.4'),\n",
       " Text(216.41767955801106, 92.412, 'X[4] <= 0.617\\nmse = 0.217\\nsamples = 4\\nvalue = 13.775'),\n",
       " Text(215.18453038674033, 81.53999999999999, 'X[4] <= 0.574\\nmse = 0.062\\nsamples = 2\\nvalue = 13.35'),\n",
       " Text(214.567955801105, 70.668, 'mse = 0.0\\nsamples = 1\\nvalue = 13.1'),\n",
       " Text(215.8011049723757, 70.668, 'mse = -0.0\\nsamples = 1\\nvalue = 13.6'),\n",
       " Text(217.65082872928178, 81.53999999999999, 'X[5] <= 6.081\\nmse = 0.01\\nsamples = 2\\nvalue = 14.2'),\n",
       " Text(217.03425414364642, 70.668, 'mse = 0.0\\nsamples = 1\\nvalue = 14.3'),\n",
       " Text(218.26740331491715, 70.668, 'mse = 0.0\\nsamples = 1\\nvalue = 14.1'),\n",
       " Text(218.26740331491715, 103.28399999999999, 'X[8] <= 14.0\\nmse = 0.563\\nsamples = 2\\nvalue = 15.95'),\n",
       " Text(217.65082872928178, 92.412, 'mse = 0.0\\nsamples = 1\\nvalue = 15.2'),\n",
       " Text(218.8839779005525, 92.412, 'mse = 0.0\\nsamples = 1\\nvalue = 16.7'),\n",
       " Text(230.8301104972376, 157.644, 'X[9] <= 688.5\\nmse = 7.862\\nsamples = 24\\nvalue = 14.042'),\n",
       " Text(229.59696132596687, 146.772, 'X[6] <= 77.45\\nmse = 4.369\\nsamples = 22\\nvalue = 14.632'),\n",
       " Text(228.9803867403315, 135.9, 'mse = 0.0\\nsamples = 1\\nvalue = 19.7'),\n",
       " Text(230.21353591160224, 135.9, 'X[2] <= 23.77\\nmse = 3.296\\nsamples = 21\\nvalue = 14.39'),\n",
       " Text(227.36187845303868, 125.02799999999999, 'X[6] <= 95.85\\nmse = 3.058\\nsamples = 19\\nvalue = 14.168'),\n",
       " Text(223.5082872928177, 114.156, 'X[7] <= 2.56\\nmse = 4.97\\nsamples = 8\\nvalue = 14.937'),\n",
       " Text(221.35027624309393, 103.28399999999999, 'X[11] <= 372.535\\nmse = 3.802\\nsamples = 5\\nvalue = 16.18'),\n",
       " Text(220.11712707182323, 92.412, 'X[7] <= 1.528\\nmse = 2.349\\nsamples = 3\\nvalue = 17.433'),\n",
       " Text(219.50055248618787, 81.53999999999999, 'mse = 0.0\\nsamples = 1\\nvalue = 15.4'),\n",
       " Text(220.73370165745857, 81.53999999999999, 'X[6] <= 94.15\\nmse = 0.422\\nsamples = 2\\nvalue = 18.45'),\n",
       " Text(220.11712707182323, 70.668, 'mse = 0.0\\nsamples = 1\\nvalue = 17.8'),\n",
       " Text(221.35027624309393, 70.668, 'mse = -0.0\\nsamples = 1\\nvalue = 19.1'),\n",
       " Text(222.58342541436465, 92.412, 'X[12] <= 26.845\\nmse = 0.09\\nsamples = 2\\nvalue = 14.3'),\n",
       " Text(221.9668508287293, 81.53999999999999, 'mse = 0.0\\nsamples = 1\\nvalue = 14.0'),\n",
       " Text(223.20000000000002, 81.53999999999999, 'mse = -0.0\\nsamples = 1\\nvalue = 14.6'),\n",
       " Text(225.66629834254147, 103.28399999999999, 'X[12] <= 25.155\\nmse = 0.056\\nsamples = 3\\nvalue = 12.867'),\n",
       " Text(225.0497237569061, 92.412, 'X[9] <= 486.5\\nmse = 0.0\\nsamples = 2\\nvalue = 12.7'),\n",
       " Text(224.43314917127074, 81.53999999999999, 'mse = 0.0\\nsamples = 1\\nvalue = 12.7'),\n",
       " Text(225.66629834254147, 81.53999999999999, 'mse = 0.0\\nsamples = 1\\nvalue = 12.7'),\n",
       " Text(226.2828729281768, 92.412, 'mse = -0.0\\nsamples = 1\\nvalue = 13.2'),\n",
       " Text(231.2154696132597, 114.156, 'X[6] <= 99.1\\nmse = 0.924\\nsamples = 11\\nvalue = 13.609'),\n",
       " Text(228.74917127071825, 103.28399999999999, 'X[11] <= 394.47\\nmse = 0.413\\nsamples = 6\\nvalue = 13.0'),\n",
       " Text(227.51602209944753, 92.412, 'X[12] <= 21.17\\nmse = 0.017\\nsamples = 4\\nvalue = 13.425'),\n",
       " Text(226.89944751381216, 81.53999999999999, 'X[11] <= 312.44\\nmse = 0.002\\nsamples = 2\\nvalue = 13.55'),\n",
       " Text(226.2828729281768, 70.668, 'mse = 0.0\\nsamples = 1\\nvalue = 13.5'),\n",
       " Text(227.51602209944753, 70.668, 'mse = -0.0\\nsamples = 1\\nvalue = 13.6'),\n",
       " Text(228.1325966850829, 81.53999999999999, 'mse = 0.0\\nsamples = 2\\nvalue = 13.3'),\n",
       " Text(229.98232044198897, 92.412, 'X[12] <= 24.33\\nmse = 0.123\\nsamples = 2\\nvalue = 12.15'),\n",
       " Text(229.3657458563536, 81.53999999999999, 'mse = 0.0\\nsamples = 1\\nvalue = 12.5'),\n",
       " Text(230.59889502762434, 81.53999999999999, 'mse = 0.0\\nsamples = 1\\nvalue = 11.8'),\n",
       " Text(233.68176795580112, 103.28399999999999, 'X[0] <= 3.709\\nmse = 0.558\\nsamples = 5\\nvalue = 14.34'),\n",
       " Text(233.06519337016576, 92.412, 'X[10] <= 17.85\\nmse = 0.202\\nsamples = 4\\nvalue = 14.025'),\n",
       " Text(231.83204419889503, 81.53999999999999, 'X[11] <= 284.905\\nmse = 0.04\\nsamples = 2\\nvalue = 13.6'),\n",
       " Text(231.2154696132597, 70.668, 'mse = 0.0\\nsamples = 1\\nvalue = 13.8'),\n",
       " Text(232.4486187845304, 70.668, 'mse = -0.0\\nsamples = 1\\nvalue = 13.4'),\n",
       " Text(234.29834254143648, 81.53999999999999, 'X[4] <= 0.581\\nmse = 0.003\\nsamples = 2\\nvalue = 14.45'),\n",
       " Text(233.68176795580112, 70.668, 'mse = 0.0\\nsamples = 1\\nvalue = 14.5'),\n",
       " Text(234.91491712707185, 70.668, 'mse = 0.0\\nsamples = 1\\nvalue = 14.4'),\n",
       " Text(234.29834254143648, 92.412, 'mse = -0.0\\nsamples = 1\\nvalue = 15.6'),\n",
       " Text(233.06519337016576, 125.02799999999999, 'X[0] <= 0.269\\nmse = 0.64\\nsamples = 2\\nvalue = 16.5'),\n",
       " Text(232.4486187845304, 114.156, 'mse = 0.0\\nsamples = 1\\nvalue = 17.3'),\n",
       " Text(233.68176795580112, 114.156, 'mse = -0.0\\nsamples = 1\\nvalue = 15.7'),\n",
       " Text(232.0632596685083, 146.772, 'X[11] <= 331.24\\nmse = 0.302\\nsamples = 2\\nvalue = 7.55'),\n",
       " Text(231.44668508287293, 135.9, 'mse = 0.0\\nsamples = 1\\nvalue = 8.1'),\n",
       " Text(232.67983425414366, 135.9, 'mse = 0.0\\nsamples = 1\\nvalue = 7.0'),\n",
       " Text(247.36201657458565, 179.388, 'X[4] <= 0.606\\nmse = 14.674\\nsamples = 74\\nvalue = 11.978'),\n",
       " Text(239.23093922651935, 168.516, 'X[5] <= 6.843\\nmse = 18.606\\nsamples = 12\\nvalue = 16.633'),\n",
       " Text(238.614364640884, 157.644, 'X[0] <= 12.661\\nmse = 8.586\\nsamples = 11\\nvalue = 15.645'),\n",
       " Text(236.14806629834257, 146.772, 'X[6] <= 78.35\\nmse = 4.871\\nsamples = 6\\nvalue = 13.583'),\n",
       " Text(234.91491712707185, 135.9, 'X[5] <= 5.701\\nmse = 0.562\\nsamples = 2\\nvalue = 10.95'),\n",
       " Text(234.29834254143648, 125.02799999999999, 'mse = 0.0\\nsamples = 1\\nvalue = 11.7'),\n",
       " Text(235.5314917127072, 125.02799999999999, 'mse = 0.0\\nsamples = 1\\nvalue = 10.2'),\n",
       " Text(237.38121546961327, 135.9, 'X[4] <= 0.59\\nmse = 1.825\\nsamples = 4\\nvalue = 14.9'),\n",
       " Text(236.7646408839779, 125.02799999999999, 'X[7] <= 2.07\\nmse = 0.082\\nsamples = 3\\nvalue = 14.133'),\n",
       " Text(236.14806629834257, 114.156, 'mse = 0.0\\nsamples = 1\\nvalue = 14.5'),\n",
       " Text(237.38121546961327, 114.156, 'X[11] <= 216.955\\nmse = 0.022\\nsamples = 2\\nvalue = 13.95'),\n",
       " Text(236.7646408839779, 103.28399999999999, 'mse = 0.0\\nsamples = 1\\nvalue = 14.1'),\n",
       " Text(237.99779005524863, 103.28399999999999, 'mse = 0.0\\nsamples = 1\\nvalue = 13.8'),\n",
       " Text(237.99779005524863, 125.02799999999999, 'mse = -0.0\\nsamples = 1\\nvalue = 17.2'),\n",
       " Text(241.08066298342544, 146.772, 'X[12] <= 19.105\\nmse = 1.818\\nsamples = 5\\nvalue = 18.12'),\n",
       " Text(239.84751381215472, 135.9, 'X[7] <= 2.866\\nmse = 0.25\\nsamples = 2\\nvalue = 19.6'),\n",
       " Text(239.23093922651935, 125.02799999999999, 'mse = 0.0\\nsamples = 1\\nvalue = 20.1'),\n",
       " Text(240.46408839779008, 125.02799999999999, 'mse = 0.0\\nsamples = 1\\nvalue = 19.1'),\n",
       " Text(242.31381215469614, 135.9, 'X[7] <= 1.572\\nmse = 0.429\\nsamples = 3\\nvalue = 17.133'),\n",
       " Text(241.6972375690608, 125.02799999999999, 'X[11] <= 31.92\\nmse = 0.123\\nsamples = 2\\nvalue = 17.55'),\n",
       " Text(241.08066298342544, 114.156, 'mse = 0.0\\nsamples = 1\\nvalue = 17.9'),\n",
       " Text(242.31381215469614, 114.156, 'mse = 0.0\\nsamples = 1\\nvalue = 17.2'),\n",
       " Text(242.9303867403315, 125.02799999999999, 'mse = -0.0\\nsamples = 1\\nvalue = 16.3'),\n",
       " Text(239.84751381215472, 157.644, 'mse = 0.0\\nsamples = 1\\nvalue = 27.5'),\n",
       " Text(255.49309392265195, 168.516, 'X[12] <= 19.645\\nmse = 8.908\\nsamples = 62\\nvalue = 11.077'),\n",
       " Text(247.55469613259672, 157.644, 'X[0] <= 12.224\\nmse = 4.18\\nsamples = 18\\nvalue = 13.922'),\n",
       " Text(246.0132596685083, 146.772, 'X[3] <= 0.5\\nmse = 2.334\\nsamples = 14\\nvalue = 14.693'),\n",
       " Text(245.39668508287295, 135.9, 'X[12] <= 19.415\\nmse = 1.713\\nsamples = 13\\nvalue = 14.454'),\n",
       " Text(244.7801104972376, 125.02799999999999, 'X[6] <= 99.4\\nmse = 1.224\\nsamples = 12\\nvalue = 14.233'),\n",
       " Text(243.54696132596686, 114.156, 'X[4] <= 0.729\\nmse = 0.592\\nsamples = 10\\nvalue = 13.87'),\n",
       " Text(242.9303867403315, 103.28399999999999, 'X[6] <= 97.5\\nmse = 0.459\\nsamples = 9\\nvalue = 14.011'),\n",
       " Text(241.38895027624312, 92.412, 'X[5] <= 6.247\\nmse = 0.285\\nsamples = 6\\nvalue = 14.317'),\n",
       " Text(240.77237569060776, 81.53999999999999, 'X[6] <= 93.95\\nmse = 0.172\\nsamples = 4\\nvalue = 14.025'),\n",
       " Text(239.53922651933703, 70.668, 'X[0] <= 8.423\\nmse = 0.023\\nsamples = 2\\nvalue = 13.65'),\n",
       " Text(238.92265193370167, 59.79599999999999, 'mse = 0.0\\nsamples = 1\\nvalue = 13.5'),\n",
       " Text(240.1558011049724, 59.79599999999999, 'mse = 0.0\\nsamples = 1\\nvalue = 13.8'),\n",
       " Text(242.00552486187848, 70.668, 'X[5] <= 6.095\\nmse = 0.04\\nsamples = 2\\nvalue = 14.4'),\n",
       " Text(241.38895027624312, 59.79599999999999, 'mse = 0.0\\nsamples = 1\\nvalue = 14.2'),\n",
       " Text(242.62209944751382, 59.79599999999999, 'mse = 0.0\\nsamples = 1\\nvalue = 14.6'),\n",
       " Text(242.00552486187848, 81.53999999999999, 'mse = -0.0\\nsamples = 2\\nvalue = 14.9'),\n",
       " Text(244.4718232044199, 92.412, 'X[11] <= 394.44\\nmse = 0.247\\nsamples = 3\\nvalue = 13.4'),\n",
       " Text(243.85524861878454, 81.53999999999999, 'X[5] <= 6.444\\nmse = 0.002\\nsamples = 2\\nvalue = 13.05'),\n",
       " Text(243.23867403314918, 70.668, 'mse = 0.0\\nsamples = 1\\nvalue = 13.0'),\n",
       " Text(244.4718232044199, 70.668, 'mse = -0.0\\nsamples = 1\\nvalue = 13.1'),\n",
       " Text(245.08839779005527, 81.53999999999999, 'mse = -0.0\\nsamples = 1\\nvalue = 14.1'),\n",
       " Text(244.16353591160222, 103.28399999999999, 'mse = 0.0\\nsamples = 1\\nvalue = 12.6'),\n",
       " Text(246.0132596685083, 114.156, 'X[0] <= 10.527\\nmse = 0.422\\nsamples = 2\\nvalue = 16.05'),\n",
       " Text(245.39668508287295, 103.28399999999999, 'mse = 0.0\\nsamples = 1\\nvalue = 15.4'),\n",
       " Text(246.62983425414367, 103.28399999999999, 'mse = -0.0\\nsamples = 1\\nvalue = 16.7'),\n",
       " Text(246.0132596685083, 125.02799999999999, 'mse = 0.0\\nsamples = 1\\nvalue = 17.1'),\n",
       " Text(246.62983425414367, 135.9, 'mse = -0.0\\nsamples = 1\\nvalue = 17.8'),\n",
       " Text(249.0961325966851, 146.772, 'X[11] <= 64.06\\nmse = 1.287\\nsamples = 4\\nvalue = 11.225'),\n",
       " Text(247.86298342541437, 135.9, 'X[7] <= 1.933\\nmse = 0.422\\nsamples = 2\\nvalue = 10.25'),\n",
       " Text(247.24640883977904, 125.02799999999999, 'mse = 0.0\\nsamples = 1\\nvalue = 10.9'),\n",
       " Text(248.47955801104973, 125.02799999999999, 'mse = 0.0\\nsamples = 1\\nvalue = 9.6'),\n",
       " Text(250.32928176795582, 135.9, 'X[11] <= 248.765\\nmse = 0.25\\nsamples = 2\\nvalue = 12.2'),\n",
       " Text(249.71270718232046, 125.02799999999999, 'mse = 0.0\\nsamples = 1\\nvalue = 11.7'),\n",
       " Text(250.94585635359118, 125.02799999999999, 'mse = -0.0\\nsamples = 1\\nvalue = 12.7'),\n",
       " Text(263.4314917127072, 157.644, 'X[4] <= 0.675\\nmse = 6.177\\nsamples = 44\\nvalue = 9.914'),\n",
       " Text(255.2618784530387, 146.772, 'X[12] <= 22.51\\nmse = 1.544\\nsamples = 10\\nvalue = 12.63'),\n",
       " Text(252.79558011049727, 135.9, 'X[6] <= 98.95\\nmse = 1.762\\nsamples = 3\\nvalue = 11.467'),\n",
       " Text(252.1790055248619, 125.02799999999999, 'mse = 0.0\\nsamples = 1\\nvalue = 13.3'),\n",
       " Text(253.4121546961326, 125.02799999999999, 'X[7] <= 1.453\\nmse = 0.122\\nsamples = 2\\nvalue = 10.55'),\n",
       " Text(252.79558011049727, 114.156, 'mse = 0.0\\nsamples = 1\\nvalue = 10.2'),\n",
       " Text(254.02872928176797, 114.156, 'mse = -0.0\\nsamples = 1\\nvalue = 10.9'),\n",
       " Text(257.7281767955801, 135.9, 'X[4] <= 0.663\\nmse = 0.622\\nsamples = 7\\nvalue = 13.129'),\n",
       " Text(255.87845303867405, 125.02799999999999, 'X[12] <= 23.315\\nmse = 0.469\\nsamples = 3\\nvalue = 12.433'),\n",
       " Text(255.2618784530387, 114.156, 'mse = 0.0\\nsamples = 1\\nvalue = 13.4'),\n",
       " Text(256.4950276243094, 114.156, 'X[5] <= 4.721\\nmse = 0.003\\nsamples = 2\\nvalue = 11.95'),\n",
       " Text(255.87845303867405, 103.28399999999999, 'mse = 0.0\\nsamples = 1\\nvalue = 11.9'),\n",
       " Text(257.11160220994475, 103.28399999999999, 'mse = 0.0\\nsamples = 1\\nvalue = 12.0'),\n",
       " Text(259.5779005524862, 125.02799999999999, 'X[7] <= 1.366\\nmse = 0.102\\nsamples = 4\\nvalue = 13.65'),\n",
       " Text(258.96132596685084, 114.156, 'X[12] <= 29.005\\nmse = 0.002\\nsamples = 3\\nvalue = 13.833'),\n",
       " Text(258.3447513812155, 103.28399999999999, 'mse = 0.0\\nsamples = 1\\nvalue = 13.9'),\n",
       " Text(259.5779005524862, 103.28399999999999, 'mse = -0.0\\nsamples = 2\\nvalue = 13.8'),\n",
       " Text(260.19447513812156, 114.156, 'mse = -0.0\\nsamples = 1\\nvalue = 13.1'),\n",
       " Text(271.6011049723757, 146.772, 'X[0] <= 13.24\\nmse = 4.731\\nsamples = 34\\nvalue = 9.115'),\n",
       " Text(266.66850828729287, 135.9, 'X[12] <= 25.735\\nmse = 3.989\\nsamples = 15\\nvalue = 10.46'),\n",
       " Text(264.5104972375691, 125.02799999999999, 'X[4] <= 0.729\\nmse = 2.298\\nsamples = 13\\nvalue = 11.008'),\n",
       " Text(262.04419889502765, 114.156, 'X[6] <= 99.45\\nmse = 1.971\\nsamples = 9\\nvalue = 10.478'),\n",
       " Text(260.8110497237569, 103.28399999999999, 'X[0] <= 11.695\\nmse = 1.346\\nsamples = 6\\nvalue = 9.767'),\n",
       " Text(260.19447513812156, 92.412, 'X[7] <= 1.681\\nmse = 1.166\\nsamples = 5\\nvalue = 10.04'),\n",
       " Text(259.5779005524862, 81.53999999999999, 'mse = 0.0\\nsamples = 1\\nvalue = 8.5'),\n",
       " Text(260.8110497237569, 81.53999999999999, 'X[0] <= 8.745\\nmse = 0.717\\nsamples = 4\\nvalue = 10.425'),\n",
       " Text(259.5779005524862, 70.668, 'X[0] <= 7.759\\nmse = 0.062\\nsamples = 2\\nvalue = 11.25'),\n",
       " Text(258.96132596685084, 59.79599999999999, 'mse = 0.0\\nsamples = 1\\nvalue = 11.0'),\n",
       " Text(260.19447513812156, 59.79599999999999, 'mse = 0.0\\nsamples = 1\\nvalue = 11.5'),\n",
       " Text(262.04419889502765, 70.668, 'X[0] <= 10.458\\nmse = 0.01\\nsamples = 2\\nvalue = 9.6'),\n",
       " Text(261.4276243093923, 59.79599999999999, 'mse = 0.0\\nsamples = 1\\nvalue = 9.5'),\n",
       " Text(262.660773480663, 59.79599999999999, 'mse = -0.0\\nsamples = 1\\nvalue = 9.7'),\n",
       " Text(261.4276243093923, 92.412, 'mse = 0.0\\nsamples = 1\\nvalue = 8.4'),\n",
       " Text(263.2773480662984, 103.28399999999999, 'X[7] <= 1.557\\nmse = 0.187\\nsamples = 3\\nvalue = 11.9'),\n",
       " Text(262.660773480663, 92.412, 'mse = 0.0\\nsamples = 1\\nvalue = 12.3'),\n",
       " Text(263.89392265193374, 92.412, 'X[4] <= 0.697\\nmse = 0.16\\nsamples = 2\\nvalue = 11.7'),\n",
       " Text(263.2773480662984, 81.53999999999999, 'mse = 0.0\\nsamples = 1\\nvalue = 12.1'),\n",
       " Text(264.5104972375691, 81.53999999999999, 'mse = 0.0\\nsamples = 1\\nvalue = 11.3'),\n",
       " Text(266.9767955801105, 114.156, 'X[12] <= 23.53\\nmse = 0.98\\nsamples = 4\\nvalue = 12.2'),\n",
       " Text(265.7436464088398, 103.28399999999999, 'X[6] <= 94.25\\nmse = 0.09\\nsamples = 2\\nvalue = 13.1'),\n",
       " Text(265.12707182320446, 92.412, 'mse = 0.0\\nsamples = 1\\nvalue = 12.8'),\n",
       " Text(266.3602209944752, 92.412, 'mse = -0.0\\nsamples = 1\\nvalue = 13.4'),\n",
       " Text(268.2099447513812, 103.28399999999999, 'X[7] <= 1.942\\nmse = 0.25\\nsamples = 2\\nvalue = 11.3'),\n",
       " Text(267.59337016574585, 92.412, 'mse = 0.0\\nsamples = 1\\nvalue = 10.8'),\n",
       " Text(268.8265193370166, 92.412, 'mse = 0.0\\nsamples = 1\\nvalue = 11.8'),\n",
       " Text(268.8265193370166, 125.02799999999999, 'X[4] <= 0.686\\nmse = 0.36\\nsamples = 2\\nvalue = 6.9'),\n",
       " Text(268.2099447513812, 114.156, 'mse = 0.0\\nsamples = 1\\nvalue = 7.5'),\n",
       " Text(269.44309392265194, 114.156, 'mse = -0.0\\nsamples = 1\\nvalue = 6.3'),\n",
       " Text(276.5337016574586, 135.9, 'X[7] <= 1.589\\nmse = 2.76\\nsamples = 19\\nvalue = 8.053'),\n",
       " Text(272.21767955801107, 125.02799999999999, 'X[5] <= 4.826\\nmse = 3.204\\nsamples = 8\\nvalue = 7.088'),\n",
       " Text(270.67624309392266, 114.156, 'X[6] <= 95.6\\nmse = 0.722\\nsamples = 2\\nvalue = 9.65'),\n",
       " Text(270.0596685082873, 103.28399999999999, 'mse = 0.0\\nsamples = 1\\nvalue = 8.8'),\n",
       " Text(271.292817679558, 103.28399999999999, 'mse = -0.0\\nsamples = 1\\nvalue = 10.5'),\n",
       " Text(273.7591160220995, 114.156, 'X[0] <= 23.822\\nmse = 1.112\\nsamples = 6\\nvalue = 6.233'),\n",
       " Text(272.52596685082875, 103.28399999999999, 'X[6] <= 93.8\\nmse = 0.009\\nsamples = 3\\nvalue = 7.267'),\n",
       " Text(271.9093922651934, 92.412, 'mse = 0.0\\nsamples = 1\\nvalue = 7.4'),\n",
       " Text(273.1425414364641, 92.412, 'mse = -0.0\\nsamples = 2\\nvalue = 7.2'),\n",
       " Text(274.9922651933702, 103.28399999999999, 'X[5] <= 5.835\\nmse = 0.08\\nsamples = 3\\nvalue = 5.2'),\n",
       " Text(274.37569060773484, 92.412, 'mse = 0.0\\nsamples = 2\\nvalue = 5.0'),\n",
       " Text(275.60883977900556, 92.412, 'mse = 0.0\\nsamples = 1\\nvalue = 5.6'),\n",
       " Text(280.8497237569061, 125.02799999999999, 'X[11] <= 107.815\\nmse = 1.268\\nsamples = 11\\nvalue = 8.755'),\n",
       " Text(278.6917127071823, 114.156, 'X[11] <= 21.85\\nmse = 0.499\\nsamples = 6\\nvalue = 8.067'),\n",
       " Text(277.45856353591165, 103.28399999999999, 'X[5] <= 5.926\\nmse = 0.047\\nsamples = 3\\nvalue = 8.6'),\n",
       " Text(276.8419889502763, 92.412, 'mse = 0.0\\nsamples = 1\\nvalue = 8.3'),\n",
       " Text(278.07513812154696, 92.412, 'X[5] <= 6.054\\nmse = 0.003\\nsamples = 2\\nvalue = 8.75'),\n",
       " Text(277.45856353591165, 81.53999999999999, 'mse = 0.0\\nsamples = 1\\nvalue = 8.8'),\n",
       " Text(278.6917127071823, 81.53999999999999, 'mse = 0.0\\nsamples = 1\\nvalue = 8.7'),\n",
       " Text(279.92486187845304, 103.28399999999999, 'X[0] <= 15.881\\nmse = 0.382\\nsamples = 3\\nvalue = 7.533'),\n",
       " Text(279.3082872928177, 92.412, 'mse = 0.0\\nsamples = 1\\nvalue = 8.4'),\n",
       " Text(280.5414364640884, 92.412, 'X[5] <= 5.477\\nmse = 0.01\\nsamples = 2\\nvalue = 7.1'),\n",
       " Text(279.92486187845304, 81.53999999999999, 'mse = 0.0\\nsamples = 1\\nvalue = 7.0'),\n",
       " Text(281.15801104972377, 81.53999999999999, 'mse = 0.0\\nsamples = 1\\nvalue = 7.2'),\n",
       " Text(283.00773480662986, 114.156, 'X[12] <= 20.94\\nmse = 0.942\\nsamples = 5\\nvalue = 9.58'),\n",
       " Text(282.3911602209945, 103.28399999999999, 'mse = 0.0\\nsamples = 1\\nvalue = 8.3'),\n",
       " Text(283.6243093922652, 103.28399999999999, 'X[0] <= 33.735\\nmse = 0.665\\nsamples = 4\\nvalue = 9.9'),\n",
       " Text(283.00773480662986, 92.412, 'X[12] <= 28.63\\nmse = 0.016\\nsamples = 3\\nvalue = 10.367'),\n",
       " Text(282.3911602209945, 81.53999999999999, 'X[11] <= 259.405\\nmse = 0.003\\nsamples = 2\\nvalue = 10.45'),\n",
       " Text(281.77458563535913, 70.668, 'mse = 0.0\\nsamples = 1\\nvalue = 10.4'),\n",
       " Text(283.00773480662986, 70.668, 'mse = 0.0\\nsamples = 1\\nvalue = 10.5'),\n",
       " Text(283.6243093922652, 81.53999999999999, 'mse = 0.0\\nsamples = 1\\nvalue = 10.2'),\n",
       " Text(284.2408839779006, 92.412, 'mse = -0.0\\nsamples = 1\\nvalue = 8.5'),\n",
       " Text(313.8364640883978, 201.132, 'X[5] <= 7.437\\nmse = 79.729\\nsamples = 76\\nvalue = 37.238'),\n",
       " Text(303.58591160221, 190.26, 'X[4] <= 0.659\\nmse = 41.296\\nsamples = 46\\nvalue = 32.113'),\n",
       " Text(296.2640883977901, 179.388, 'X[7] <= 1.886\\nmse = 20.111\\nsamples = 43\\nvalue = 33.349'),\n",
       " Text(291.17734806629835, 168.516, 'X[9] <= 534.5\\nmse = 18.923\\nsamples = 2\\nvalue = 45.65'),\n",
       " Text(290.560773480663, 157.644, 'mse = 0.0\\nsamples = 1\\nvalue = 41.3'),\n",
       " Text(291.7939226519337, 157.644, 'mse = 0.0\\nsamples = 1\\nvalue = 50.0'),\n",
       " Text(301.3508287292818, 168.516, 'X[4] <= 0.488\\nmse = 12.427\\nsamples = 41\\nvalue = 32.749'),\n",
       " Text(293.02707182320444, 157.644, 'X[6] <= 11.95\\nmse = 5.014\\nsamples = 27\\nvalue = 34.156'),\n",
       " Text(290.2524861878453, 146.772, 'X[6] <= 8.4\\nmse = 0.09\\nsamples = 2\\nvalue = 29.3'),\n",
       " Text(289.63591160220994, 135.9, 'mse = 0.0\\nsamples = 1\\nvalue = 29.6'),\n",
       " Text(290.86906077348067, 135.9, 'mse = 0.0\\nsamples = 1\\nvalue = 29.0'),\n",
       " Text(295.80165745856357, 146.772, 'X[12] <= 5.44\\nmse = 3.371\\nsamples = 25\\nvalue = 34.544'),\n",
       " Text(292.1022099447514, 135.9, 'X[0] <= 0.049\\nmse = 2.397\\nsamples = 16\\nvalue = 35.306'),\n",
       " Text(288.86519337016574, 125.02799999999999, 'X[12] <= 4.505\\nmse = 0.88\\nsamples = 8\\nvalue = 34.363'),\n",
       " Text(287.3237569060774, 114.156, 'X[7] <= 5.732\\nmse = 0.646\\nsamples = 5\\nvalue = 33.84'),\n",
       " Text(286.09060773480667, 103.28399999999999, 'X[0] <= 0.03\\nmse = 0.01\\nsamples = 2\\nvalue = 34.8'),\n",
       " Text(285.4740331491713, 92.412, 'mse = 0.0\\nsamples = 1\\nvalue = 34.7'),\n",
       " Text(286.70718232044203, 92.412, 'mse = 0.0\\nsamples = 1\\nvalue = 34.9'),\n",
       " Text(288.55690607734806, 103.28399999999999, 'X[1] <= 87.5\\nmse = 0.047\\nsamples = 3\\nvalue = 33.2'),\n",
       " Text(287.94033149171275, 92.412, 'X[2] <= 1.85\\nmse = 0.003\\nsamples = 2\\nvalue = 33.35'),\n",
       " Text(287.3237569060774, 81.53999999999999, 'mse = 0.0\\nsamples = 1\\nvalue = 33.3'),\n",
       " Text(288.55690607734806, 81.53999999999999, 'mse = 0.0\\nsamples = 1\\nvalue = 33.4'),\n",
       " Text(289.1734806629834, 92.412, 'mse = -0.0\\nsamples = 1\\nvalue = 32.9'),\n",
       " Text(290.40662983425415, 114.156, 'X[8] <= 4.0\\nmse = 0.056\\nsamples = 3\\nvalue = 35.233'),\n",
       " Text(289.7900552486188, 103.28399999999999, 'mse = 0.0\\nsamples = 1\\nvalue = 34.9'),\n",
       " Text(291.0232044198895, 103.28399999999999, 'X[6] <= 29.55\\nmse = 0.0\\nsamples = 2\\nvalue = 35.4'),\n",
       " Text(290.40662983425415, 92.412, 'mse = 0.0\\nsamples = 1\\nvalue = 35.4'),\n",
       " Text(291.6397790055249, 92.412, 'mse = 0.0\\nsamples = 1\\nvalue = 35.4'),\n",
       " Text(295.33922651933705, 125.02799999999999, 'X[2] <= 5.52\\nmse = 2.133\\nsamples = 8\\nvalue = 36.25'),\n",
       " Text(294.7226519337017, 114.156, 'X[12] <= 5.36\\nmse = 0.817\\nsamples = 7\\nvalue = 36.7'),\n",
       " Text(294.1060773480663, 103.28399999999999, 'X[7] <= 5.589\\nmse = 0.323\\nsamples = 6\\nvalue = 37.0'),\n",
       " Text(292.8729281767956, 92.412, 'X[0] <= 0.085\\nmse = 0.096\\nsamples = 3\\nvalue = 37.467'),\n",
       " Text(292.25635359116023, 81.53999999999999, 'X[4] <= 0.45\\nmse = 0.003\\nsamples = 2\\nvalue = 37.25'),\n",
       " Text(291.6397790055249, 70.668, 'mse = 0.0\\nsamples = 1\\nvalue = 37.3'),\n",
       " Text(292.8729281767956, 70.668, 'mse = 0.0\\nsamples = 1\\nvalue = 37.2'),\n",
       " Text(293.48950276243096, 81.53999999999999, 'mse = -0.0\\nsamples = 1\\nvalue = 37.9'),\n",
       " Text(295.33922651933705, 92.412, 'X[0] <= 0.089\\nmse = 0.116\\nsamples = 3\\nvalue = 36.533'),\n",
       " Text(294.7226519337017, 81.53999999999999, 'X[2] <= 2.81\\nmse = 0.01\\nsamples = 2\\nvalue = 36.3'),\n",
       " Text(294.1060773480663, 70.668, 'mse = 0.0\\nsamples = 1\\nvalue = 36.2'),\n",
       " Text(295.33922651933705, 70.668, 'mse = 0.0\\nsamples = 1\\nvalue = 36.4'),\n",
       " Text(295.9558011049724, 81.53999999999999, 'mse = 0.0\\nsamples = 1\\nvalue = 37.0'),\n",
       " Text(295.33922651933705, 103.28399999999999, 'mse = -0.0\\nsamples = 1\\nvalue = 34.9'),\n",
       " Text(295.9558011049724, 114.156, 'mse = -0.0\\nsamples = 1\\nvalue = 33.1'),\n",
       " Text(299.5011049723757, 135.9, 'X[6] <= 37.45\\nmse = 2.234\\nsamples = 9\\nvalue = 33.189'),\n",
       " Text(297.8055248618785, 125.02799999999999, 'X[1] <= 85.0\\nmse = 0.903\\nsamples = 2\\nvalue = 31.25'),\n",
       " Text(297.18895027624313, 114.156, 'mse = 0.0\\nsamples = 1\\nvalue = 30.3'),\n",
       " Text(298.42209944751386, 114.156, 'mse = 0.0\\nsamples = 1\\nvalue = 32.2'),\n",
       " Text(301.19668508287293, 125.02799999999999, 'X[6] <= 45.05\\nmse = 1.234\\nsamples = 7\\nvalue = 33.743'),\n",
       " Text(299.6552486187845, 114.156, 'X[5] <= 7.255\\nmse = 0.562\\nsamples = 2\\nvalue = 35.35'),\n",
       " Text(299.0386740331492, 103.28399999999999, 'mse = 0.0\\nsamples = 1\\nvalue = 36.1'),\n",
       " Text(300.2718232044199, 103.28399999999999, 'mse = -0.0\\nsamples = 1\\nvalue = 34.6'),\n",
       " Text(302.73812154696134, 114.156, 'X[4] <= 0.443\\nmse = 0.056\\nsamples = 5\\nvalue = 33.1'),\n",
       " Text(301.5049723756906, 103.28399999999999, 'X[9] <= 250.0\\nmse = 0.022\\nsamples = 2\\nvalue = 32.85'),\n",
       " Text(300.88839779005525, 92.412, 'mse = 0.0\\nsamples = 1\\nvalue = 33.0'),\n",
       " Text(302.121546961326, 92.412, 'mse = -0.0\\nsamples = 1\\nvalue = 32.7'),\n",
       " Text(303.97127071823206, 103.28399999999999, 'X[2] <= 2.535\\nmse = 0.009\\nsamples = 3\\nvalue = 33.267'),\n",
       " Text(303.3546961325967, 92.412, 'mse = 0.0\\nsamples = 1\\nvalue = 33.4'),\n",
       " Text(304.5878453038674, 92.412, 'mse = 0.0\\nsamples = 2\\nvalue = 33.2'),\n",
       " Text(309.67458563535916, 157.644, 'X[5] <= 7.121\\nmse = 15.547\\nsamples = 14\\nvalue = 30.036'),\n",
       " Text(307.0541436464089, 146.772, 'X[12] <= 10.685\\nmse = 7.09\\nsamples = 7\\nvalue = 26.914'),\n",
       " Text(305.82099447513815, 135.9, 'X[6] <= 70.05\\nmse = 3.614\\nsamples = 5\\nvalue = 25.58'),\n",
       " Text(305.2044198895028, 125.02799999999999, 'mse = 0.0\\nsamples = 1\\nvalue = 28.7'),\n",
       " Text(306.4375690607735, 125.02799999999999, 'X[5] <= 6.964\\nmse = 1.475\\nsamples = 4\\nvalue = 24.8'),\n",
       " Text(305.82099447513815, 114.156, 'mse = 0.0\\nsamples = 1\\nvalue = 26.7'),\n",
       " Text(307.0541436464089, 114.156, 'X[12] <= 6.325\\nmse = 0.362\\nsamples = 3\\nvalue = 24.167'),\n",
       " Text(306.4375690607735, 103.28399999999999, 'X[10] <= 19.4\\nmse = 0.023\\nsamples = 2\\nvalue = 23.75'),\n",
       " Text(305.82099447513815, 92.412, 'mse = 0.0\\nsamples = 1\\nvalue = 23.6'),\n",
       " Text(307.0541436464089, 92.412, 'mse = 0.0\\nsamples = 1\\nvalue = 23.9'),\n",
       " Text(307.67071823204424, 103.28399999999999, 'mse = 0.0\\nsamples = 1\\nvalue = 25.0'),\n",
       " Text(308.2872928176796, 135.9, 'X[12] <= 13.225\\nmse = 0.202\\nsamples = 2\\nvalue = 30.25'),\n",
       " Text(307.67071823204424, 125.02799999999999, 'mse = 0.0\\nsamples = 1\\nvalue = 29.8'),\n",
       " Text(308.90386740331496, 125.02799999999999, 'mse = 0.0\\nsamples = 1\\nvalue = 30.7'),\n",
       " Text(312.2950276243094, 146.772, 'X[7] <= 2.004\\nmse = 4.517\\nsamples = 7\\nvalue = 33.157'),\n",
       " Text(310.753591160221, 135.9, 'X[11] <= 385.59\\nmse = 0.062\\nsamples = 2\\nvalue = 36.25'),\n",
       " Text(310.1370165745857, 125.02799999999999, 'mse = 0.0\\nsamples = 1\\nvalue = 36.0'),\n",
       " Text(311.37016574585635, 125.02799999999999, 'mse = 0.0\\nsamples = 1\\nvalue = 36.5'),\n",
       " Text(313.8364640883978, 135.9, 'X[5] <= 7.265\\nmse = 0.942\\nsamples = 5\\nvalue = 31.92'),\n",
       " Text(312.6033149171271, 125.02799999999999, 'X[12] <= 7.975\\nmse = 1.21\\nsamples = 2\\nvalue = 32.7'),\n",
       " Text(311.9867403314917, 114.156, 'mse = 0.0\\nsamples = 1\\nvalue = 31.6'),\n",
       " Text(313.21988950276244, 114.156, 'mse = -0.0\\nsamples = 1\\nvalue = 33.8'),\n",
       " Text(315.06961325966853, 125.02799999999999, 'X[7] <= 2.875\\nmse = 0.087\\nsamples = 3\\nvalue = 31.4'),\n",
       " Text(314.45303867403317, 114.156, 'mse = 0.0\\nsamples = 1\\nvalue = 31.0'),\n",
       " Text(315.6861878453039, 114.156, 'X[6] <= 74.25\\nmse = 0.01\\nsamples = 2\\nvalue = 31.6'),\n",
       " Text(315.06961325966853, 103.28399999999999, 'mse = 0.0\\nsamples = 1\\nvalue = 31.5'),\n",
       " Text(316.30276243093925, 103.28399999999999, 'mse = -0.0\\nsamples = 1\\nvalue = 31.7'),\n",
       " Text(310.90773480662983, 179.388, 'X[6] <= 94.9\\nmse = 9.307\\nsamples = 3\\nvalue = 14.4'),\n",
       " Text(310.29116022099447, 168.516, 'mse = 0.0\\nsamples = 1\\nvalue = 10.4'),\n",
       " Text(311.5243093922652, 168.516, 'X[5] <= 7.353\\nmse = 1.96\\nsamples = 2\\nvalue = 16.4'),\n",
       " Text(310.90773480662983, 157.644, 'mse = 0.0\\nsamples = 1\\nvalue = 15.0'),\n",
       " Text(312.14088397790056, 157.644, 'mse = 0.0\\nsamples = 1\\nvalue = 17.8'),\n",
       " Text(324.0870165745857, 190.26, 'X[10] <= 19.65\\nmse = 36.628\\nsamples = 30\\nvalue = 45.097'),\n",
       " Text(323.4704419889503, 179.388, 'X[10] <= 14.8\\nmse = 18.697\\nsamples = 29\\nvalue = 45.897'),\n",
       " Text(319.38563535911607, 168.516, 'X[5] <= 7.706\\nmse = 8.027\\nsamples = 14\\nvalue = 48.3'),\n",
       " Text(318.15248618784534, 157.644, 'X[0] <= 1.002\\nmse = 9.462\\nsamples = 4\\nvalue = 44.725'),\n",
       " Text(317.53591160221, 146.772, 'X[9] <= 306.0\\nmse = 0.249\\nsamples = 3\\nvalue = 42.967'),\n",
       " Text(316.9193370165746, 135.9, 'X[0] <= 0.537\\nmse = 0.04\\nsamples = 2\\nvalue = 43.3'),\n",
       " Text(316.30276243093925, 125.02799999999999, 'mse = 0.0\\nsamples = 1\\nvalue = 43.1'),\n",
       " Text(317.53591160221, 125.02799999999999, 'mse = 0.0\\nsamples = 1\\nvalue = 43.5'),\n",
       " Text(318.15248618784534, 135.9, 'mse = -0.0\\nsamples = 1\\nvalue = 42.3'),\n",
       " Text(318.7690607734807, 146.772, 'mse = 0.0\\nsamples = 1\\nvalue = 50.0'),\n",
       " Text(320.6187845303868, 157.644, 'X[12] <= 3.755\\nmse = 0.296\\nsamples = 10\\nvalue = 49.73'),\n",
       " Text(320.0022099447514, 146.772, 'mse = 0.0\\nsamples = 6\\nvalue = 50.0'),\n",
       " Text(321.2353591160221, 146.772, 'X[0] <= 0.549\\nmse = 0.467\\nsamples = 4\\nvalue = 49.325'),\n",
       " Text(320.6187845303868, 135.9, 'X[9] <= 244.0\\nmse = 0.023\\nsamples = 2\\nvalue = 48.65'),\n",
       " Text(320.0022099447514, 125.02799999999999, 'mse = 0.0\\nsamples = 1\\nvalue = 48.5'),\n",
       " Text(321.2353591160221, 125.02799999999999, 'mse = 0.0\\nsamples = 1\\nvalue = 48.8'),\n",
       " Text(321.85193370165746, 135.9, 'mse = -0.0\\nsamples = 2\\nvalue = 50.0'),\n",
       " Text(327.55524861878456, 168.516, 'X[11] <= 385.48\\nmse = 18.232\\nsamples = 15\\nvalue = 43.653'),\n",
       " Text(324.93480662983427, 157.644, 'X[0] <= 0.323\\nmse = 3.298\\nsamples = 5\\nvalue = 47.16'),\n",
       " Text(323.70165745856355, 146.772, 'X[5] <= 7.976\\nmse = 0.616\\nsamples = 3\\nvalue = 45.833'),\n",
       " Text(323.0850828729282, 135.9, 'X[6] <= 33.35\\nmse = 0.122\\nsamples = 2\\nvalue = 46.35'),\n",
       " Text(322.4685082872928, 125.02799999999999, 'mse = 0.0\\nsamples = 1\\nvalue = 46.7'),\n",
       " Text(323.70165745856355, 125.02799999999999, 'mse = 0.0\\nsamples = 1\\nvalue = 46.0'),\n",
       " Text(324.3182320441989, 135.9, 'mse = 0.0\\nsamples = 1\\nvalue = 44.8'),\n",
       " Text(326.167955801105, 146.772, 'X[11] <= 380.475\\nmse = 0.722\\nsamples = 2\\nvalue = 49.15'),\n",
       " Text(325.55138121546963, 135.9, 'mse = 0.0\\nsamples = 1\\nvalue = 48.3'),\n",
       " Text(326.78453038674036, 135.9, 'mse = -0.0\\nsamples = 1\\nvalue = 50.0'),\n",
       " Text(330.17569060773485, 157.644, 'X[0] <= 0.061\\nmse = 16.476\\nsamples = 10\\nvalue = 41.9'),\n",
       " Text(328.63425414364644, 146.772, 'X[4] <= 0.465\\nmse = 6.569\\nsamples = 3\\nvalue = 46.467'),\n",
       " Text(328.0176795580111, 135.9, 'X[10] <= 15.4\\nmse = 0.49\\nsamples = 2\\nvalue = 44.7'),\n",
       " Text(327.4011049723757, 125.02799999999999, 'mse = 0.0\\nsamples = 1\\nvalue = 45.4'),\n",
       " Text(328.63425414364644, 125.02799999999999, 'mse = -0.0\\nsamples = 1\\nvalue = 44.0'),\n",
       " Text(329.2508287292818, 135.9, 'mse = 0.0\\nsamples = 1\\nvalue = 50.0'),\n",
       " Text(331.71712707182326, 146.772, 'X[6] <= 44.35\\nmse = 7.954\\nsamples = 7\\nvalue = 39.943'),\n",
       " Text(330.48397790055253, 135.9, 'X[8] <= 4.5\\nmse = 0.25\\nsamples = 2\\nvalue = 43.3'),\n",
       " Text(329.86740331491717, 125.02799999999999, 'mse = 0.0\\nsamples = 1\\nvalue = 43.8'),\n",
       " Text(331.1005524861879, 125.02799999999999, 'mse = 0.0\\nsamples = 1\\nvalue = 42.8'),\n",
       " Text(332.9502762430939, 135.9, 'X[6] <= 62.55\\nmse = 4.724\\nsamples = 5\\nvalue = 38.6'),\n",
       " Text(332.33370165745856, 125.02799999999999, 'mse = 0.0\\nsamples = 1\\nvalue = 35.2'),\n",
       " Text(333.5668508287293, 125.02799999999999, 'X[0] <= 0.479\\nmse = 2.293\\nsamples = 4\\nvalue = 39.45'),\n",
       " Text(332.9502762430939, 114.156, 'X[6] <= 84.9\\nmse = 0.807\\nsamples = 3\\nvalue = 38.7'),\n",
       " Text(332.33370165745856, 103.28399999999999, 'X[4] <= 0.466\\nmse = 0.303\\nsamples = 2\\nvalue = 39.25'),\n",
       " Text(331.71712707182326, 92.412, 'mse = 0.0\\nsamples = 1\\nvalue = 38.7'),\n",
       " Text(332.9502762430939, 92.412, 'mse = 0.0\\nsamples = 1\\nvalue = 39.8'),\n",
       " Text(333.5668508287293, 103.28399999999999, 'mse = 0.0\\nsamples = 1\\nvalue = 37.6'),\n",
       " Text(334.18342541436465, 114.156, 'mse = 0.0\\nsamples = 1\\nvalue = 41.7'),\n",
       " Text(324.70359116022104, 179.388, 'mse = -0.0\\nsamples = 1\\nvalue = 21.9')]"
      ]
     },
     "execution_count": 56,
     "metadata": {},
     "output_type": "execute_result"
    },
    {
     "data": {
      "image/png": "[encoded data removed]",
      "text/plain": [
       "<Figure size 432x288 with 1 Axes>"
      ]
     },
     "metadata": {},
     "output_type": "display_data"
    }
   ],
   "source": [
    "tree.plot_tree(model)"
   ]
  },
  {
   "cell_type": "markdown",
   "metadata": {
    "id": "AROy5ZJZcf0Z"
   },
   "source": [
    "##### graphviz를 사용한 시각화"
   ]
  },
  {
   "cell_type": "code",
   "execution_count": 57,
   "metadata": {
    "id": "YORbOln-yYZB"
   },
   "outputs": [
    {
     "ename": "AttributeError",
     "evalue": "target_names",
     "output_type": "error",
     "traceback": [
      "\u001b[1;31m---------------------------------------------------------------------------\u001b[0m",
      "\u001b[1;31mKeyError\u001b[0m                                  Traceback (most recent call last)",
      "\u001b[1;32m~\\anaconda3\\lib\\site-packages\\sklearn\\utils\\__init__.py\u001b[0m in \u001b[0;36m__getattr__\u001b[1;34m(self, key)\u001b[0m\n\u001b[0;32m     93\u001b[0m         \u001b[1;32mtry\u001b[0m\u001b[1;33m:\u001b[0m\u001b[1;33m\u001b[0m\u001b[1;33m\u001b[0m\u001b[0m\n\u001b[1;32m---> 94\u001b[1;33m             \u001b[1;32mreturn\u001b[0m \u001b[0mself\u001b[0m\u001b[1;33m[\u001b[0m\u001b[0mkey\u001b[0m\u001b[1;33m]\u001b[0m\u001b[1;33m\u001b[0m\u001b[1;33m\u001b[0m\u001b[0m\n\u001b[0m\u001b[0;32m     95\u001b[0m         \u001b[1;32mexcept\u001b[0m \u001b[0mKeyError\u001b[0m\u001b[1;33m:\u001b[0m\u001b[1;33m\u001b[0m\u001b[1;33m\u001b[0m\u001b[0m\n",
      "\u001b[1;31mKeyError\u001b[0m: 'target_names'",
      "\nDuring handling of the above exception, another exception occurred:\n",
      "\u001b[1;31mAttributeError\u001b[0m                            Traceback (most recent call last)",
      "\u001b[1;32m<ipython-input-57-ab7832c6f1ec>\u001b[0m in \u001b[0;36m<module>\u001b[1;34m\u001b[0m\n\u001b[0;32m      1\u001b[0m dot_data = tree.export_graphviz(decision_tree=model,\n\u001b[0;32m      2\u001b[0m                                \u001b[0mfeature_names\u001b[0m\u001b[1;33m=\u001b[0m\u001b[0mboston\u001b[0m\u001b[1;33m.\u001b[0m\u001b[0mfeature_names\u001b[0m\u001b[1;33m,\u001b[0m\u001b[1;33m\u001b[0m\u001b[1;33m\u001b[0m\u001b[0m\n\u001b[1;32m----> 3\u001b[1;33m                                \u001b[0mclass_names\u001b[0m\u001b[1;33m=\u001b[0m\u001b[0mboston\u001b[0m\u001b[1;33m.\u001b[0m\u001b[0mtarget_names\u001b[0m\u001b[1;33m,\u001b[0m\u001b[1;33m\u001b[0m\u001b[1;33m\u001b[0m\u001b[0m\n\u001b[0m\u001b[0;32m      4\u001b[0m                                \u001b[0mfilled\u001b[0m\u001b[1;33m=\u001b[0m\u001b[1;32mTrue\u001b[0m\u001b[1;33m,\u001b[0m \u001b[0mrounded\u001b[0m\u001b[1;33m=\u001b[0m\u001b[1;32mTrue\u001b[0m\u001b[1;33m,\u001b[0m\u001b[1;33m\u001b[0m\u001b[1;33m\u001b[0m\u001b[0m\n\u001b[0;32m      5\u001b[0m                                special_characters=True)\n",
      "\u001b[1;32m~\\anaconda3\\lib\\site-packages\\sklearn\\utils\\__init__.py\u001b[0m in \u001b[0;36m__getattr__\u001b[1;34m(self, key)\u001b[0m\n\u001b[0;32m     94\u001b[0m             \u001b[1;32mreturn\u001b[0m \u001b[0mself\u001b[0m\u001b[1;33m[\u001b[0m\u001b[0mkey\u001b[0m\u001b[1;33m]\u001b[0m\u001b[1;33m\u001b[0m\u001b[1;33m\u001b[0m\u001b[0m\n\u001b[0;32m     95\u001b[0m         \u001b[1;32mexcept\u001b[0m \u001b[0mKeyError\u001b[0m\u001b[1;33m:\u001b[0m\u001b[1;33m\u001b[0m\u001b[1;33m\u001b[0m\u001b[0m\n\u001b[1;32m---> 96\u001b[1;33m             \u001b[1;32mraise\u001b[0m \u001b[0mAttributeError\u001b[0m\u001b[1;33m(\u001b[0m\u001b[0mkey\u001b[0m\u001b[1;33m)\u001b[0m\u001b[1;33m\u001b[0m\u001b[1;33m\u001b[0m\u001b[0m\n\u001b[0m\u001b[0;32m     97\u001b[0m \u001b[1;33m\u001b[0m\u001b[0m\n\u001b[0;32m     98\u001b[0m     \u001b[1;32mdef\u001b[0m \u001b[0m__setstate__\u001b[0m\u001b[1;33m(\u001b[0m\u001b[0mself\u001b[0m\u001b[1;33m,\u001b[0m \u001b[0mstate\u001b[0m\u001b[1;33m)\u001b[0m\u001b[1;33m:\u001b[0m\u001b[1;33m\u001b[0m\u001b[1;33m\u001b[0m\u001b[0m\n",
      "\u001b[1;31mAttributeError\u001b[0m: target_names"
     ]
    }
   ],
   "source": [
    "dot_data = tree.export_graphviz(decision_tree=model,\n",
    "                               feature_names=boston.feature_names,\n",
    "                               class_names=boston.target_names,\n",
    "                               filled=True, rounded=True,\n",
    "                               special_characters=True)\n",
    "graph = graphviz.Source(dot_data)\n",
    "graph"
   ]
  },
  {
   "cell_type": "markdown",
   "metadata": {
    "id": "5oBojyy9wxZ4"
   },
   "source": [
    "#### 시각화"
   ]
  },
  {
   "cell_type": "code",
   "execution_count": null,
   "metadata": {
    "id": "YHlSKnLN3Lva"
   },
   "outputs": [],
   "source": [
    "n_classes = 3\n",
    "plot_colors = 'ryb'\n",
    "plot_step = 0.02"
   ]
  },
  {
   "cell_type": "markdown",
   "metadata": {
    "id": "JDfF8OOX2XkP"
   },
   "source": [
    "##### 결정 경계 시각화"
   ]
  },
  {
   "cell_type": "code",
   "execution_count": null,
   "metadata": {
    "id": "Hy9nQO9s1D5M"
   },
   "outputs": [],
   "source": [
    "plt.figure(figsize=(16,8))\n",
    "\n",
    "for pairidx, pair in enumerate([[0, 1], [0, 2], [0, 3]]):\n",
    "    X = boston.data[:, pair]\n",
    "    y = boston.target\n",
    "    \n",
    "    model = DecisionTreeRegressor()\n",
    "    model = model.fit(X, y)\n",
    "    \n",
    "    plt.subplot(2, 3, pairidx + 1)\n",
    "    \n",
    "    x_min, x_max = X[:, 0].min()-1, X[:, 0].max()+1\n",
    "    y_min, y_max = X[:, 1].min()-1, X[:, 1].max()+1\n",
    "    xx, yy = np.meshgrid(np.arange(x_min, x_max, plot_step),\n",
    "                        np.arange(y_min, y_max, plot_step))\n",
    "    plt.tight_layout(h_pad=0.5, w_pad=0.5, pad=2.5)\n",
    "    \n",
    "    Z = model.predict(np.c_[xx.ravel(), yy.ravel()])\n",
    "    Z = Z.reshape(xx.shape)\n",
    "    cs = plt.contourf(xx, yy, Z, cmap=plt.cm.RdYlBu)\n",
    "    \n",
    "    plt.xlabel(cancer.feature_names[pair[0]])\n",
    "    plt.ylabel(cancer.feature_names[pair[1]])\n",
    "    \n",
    "    for i, color in zip(range(n_classes), plot_colors):\n",
    "        idx = np.where(y == i)\n",
    "        plt.scatter(X[idx, 0], X[idx, 1], c=color, label=cancer.target_names[i],\n",
    "                   cmap=plt.cm.RdYlBu, edgecolors='b', s=15)\n",
    "\n",
    "plt.suptitle('Decision surface')\n",
    "plt.legend(loc='lower right', borderpad=0, handletextpad=0)\n",
    "plt.axis('tight')"
   ]
  },
  {
   "cell_type": "markdown",
   "metadata": {
    "id": "RIkiV_lm5eKu"
   },
   "source": [
    "##### 하이퍼파리미터를 변경해 보면서 결정 경계의 변화 확인"
   ]
  },
  {
   "cell_type": "code",
   "execution_count": null,
   "metadata": {
    "id": "F97kaCJV1yQZ"
   },
   "outputs": [],
   "source": [
    "plt.figure(figsize=(16,8))\n",
    "\n",
    "for pairidx, pair in enumerate([[0, 1], [0, 2], [0, 3],\n",
    "                               [1, 2], [1, 3], [2, 3]]):\n",
    "    X = cancer.data[:, pair]\n",
    "    y = cancer.target\n",
    "    \n",
    "    model = DecisionTreeClassifier(max_depth=2)\n",
    "    model = model.fit(X, y)\n",
    "    \n",
    "    plt.subplot(2, 3, pairidx + 1)\n",
    "    \n",
    "    x_min, x_max = X[:, 0].min()-1, X[:, 0].max()+1\n",
    "    y_min, y_max = X[:, 1].min()-1, X[:, 1].max()+1\n",
    "    xx, yy = np.meshgrid(np.arange(x_min, x_max, plot_step),\n",
    "                        np.arange(y_min, y_max, plot_step))\n",
    "    plt.tight_layout(h_pad=0.5, w_pad=0.5, pad=2.5)\n",
    "    \n",
    "    Z = model.predict(np.c_[xx.ravel(), yy.ravel()])\n",
    "    Z = Z.reshape(xx.shape)\n",
    "    cs = plt.contourf(xx, yy, Z, cmap=plt.cm.RdYlBu)\n",
    "    \n",
    "    plt.xlabel(cancer.feature_names[pair[0]])\n",
    "    plt.ylabel(cancer.feature_names[pair[1]])\n",
    "    \n",
    "    for i, color in zip(range(n_classes), plot_colors):\n",
    "        idx = np.where(y == i)\n",
    "        plt.scatter(X[idx, 0], X[idx, 1], c=color, label=cancer.target_names[i],\n",
    "                   cmap=plt.cm.RdYlBu, edgecolors='b', s=15)\n",
    "\n",
    "plt.suptitle('Decision surface')\n",
    "plt.legend(loc='lower right', borderpad=0, handletextpad=0)\n",
    "plt.axis('tight')"
   ]
  },
  {
   "cell_type": "markdown",
   "metadata": {
    "id": "xK6cyraMxzNK"
   },
   "source": [
    "### 당뇨병 데이터 학습"
   ]
  },
  {
   "cell_type": "markdown",
   "metadata": {
    "id": "mwAey_sjGByg"
   },
   "source": [
    "#### 교차 검증"
   ]
  },
  {
   "cell_type": "code",
   "execution_count": null,
   "metadata": {
    "id": "tYMA6_qhg5EM"
   },
   "outputs": [],
   "source": [
    "model = DecisionTreeClassifier()"
   ]
  },
  {
   "cell_type": "code",
   "execution_count": null,
   "metadata": {
    "id": "SFFybhvChGlB"
   },
   "outputs": [],
   "source": [
    "cross_val_score(\n",
    "    estimator=model,\n",
    "    X=cancer.data, y=cancer.target,\n",
    "    cv=5,\n",
    "    n_jobs=multiprocessing.cpu_count()\n",
    "               )"
   ]
  },
  {
   "cell_type": "markdown",
   "metadata": {
    "id": "04yVAwpllbuW"
   },
   "source": [
    "##### 전처리 후 학습\n",
    "* 결정 트리는 규칙을 학습하기 때문에 전처리에 큰 영향을 받지 않는다."
   ]
  },
  {
   "cell_type": "code",
   "execution_count": null,
   "metadata": {
    "id": "-qb7NpeKi5vi"
   },
   "outputs": [],
   "source": [
    "model = make_pipeline(\n",
    "    StandardScaler(),\n",
    "    DecisionTreeClassifier()\n",
    ")"
   ]
  },
  {
   "cell_type": "code",
   "execution_count": null,
   "metadata": {
    "id": "1Gar4cXjjFzm"
   },
   "outputs": [],
   "source": [
    "cross_val_score(\n",
    "    estimator=model,\n",
    "    X=cancer.data, y=cancer.target,\n",
    "    cv=5,\n",
    "    n_jobs=multiprocessing.cpu_count()\n",
    ")"
   ]
  },
  {
   "cell_type": "markdown",
   "metadata": {
    "id": "mBDxGGoVyRnO"
   },
   "source": [
    "#### 학습된 결정 트리 시각화"
   ]
  },
  {
   "cell_type": "code",
   "execution_count": null,
   "metadata": {
    "id": "jasfz-4UiQEF"
   },
   "outputs": [],
   "source": [
    "model = DecisionTreeClassifier()\n",
    "model.fit(cancer.data, cancer.target)"
   ]
  },
  {
   "cell_type": "markdown",
   "metadata": {
    "id": "ESB60z8ZckQ5"
   },
   "source": [
    "##### 텍스트를 통한 시각화"
   ]
  },
  {
   "cell_type": "code",
   "execution_count": null,
   "metadata": {
    "id": "WE8F0oQjzTSK"
   },
   "outputs": [],
   "source": [
    "r = tree.export_text(decision_tree=model)\n",
    "print(r)"
   ]
  },
  {
   "cell_type": "markdown",
   "metadata": {
    "id": "FL1M2O2ZcZn2"
   },
   "source": [
    "##### plot_tree를 사용한 시각화"
   ]
  },
  {
   "cell_type": "code",
   "execution_count": null,
   "metadata": {
    "id": "Pvq9HEXQyEgu"
   },
   "outputs": [],
   "source": [
    "tree.plot_tree(model)"
   ]
  },
  {
   "cell_type": "markdown",
   "metadata": {
    "id": "AROy5ZJZcf0Z"
   },
   "source": [
    "##### graphviz를 사용한 시각화"
   ]
  },
  {
   "cell_type": "code",
   "execution_count": null,
   "metadata": {
    "id": "YORbOln-yYZB"
   },
   "outputs": [],
   "source": [
    "dot_data = tree.export_graphviz(decision_tree=model,\n",
    "                               feature_names=cancer.feature_names,\n",
    "                               class_names=cancer.target_names,\n",
    "                               filled=True, rounded=True,\n",
    "                               special_characters=True)\n",
    "graph = graphviz.Source(dot_data)\n",
    "graph"
   ]
  },
  {
   "cell_type": "markdown",
   "metadata": {
    "id": "5oBojyy9wxZ4"
   },
   "source": [
    "#### 시각화"
   ]
  },
  {
   "cell_type": "code",
   "execution_count": null,
   "metadata": {
    "id": "YHlSKnLN3Lva"
   },
   "outputs": [],
   "source": [
    "n_classes = 3\n",
    "plot_colors = 'ryb'\n",
    "plot_step = 0.02"
   ]
  },
  {
   "cell_type": "markdown",
   "metadata": {
    "id": "JDfF8OOX2XkP"
   },
   "source": [
    "##### 결정 경계 시각화"
   ]
  },
  {
   "cell_type": "code",
   "execution_count": null,
   "metadata": {
    "id": "Hy9nQO9s1D5M"
   },
   "outputs": [],
   "source": [
    "plt.figure(figsize=(16,8))\n",
    "\n",
    "for pairidx, pair in enumerate([[0, 1], [0, 2], [0, 3]]):\n",
    "    X = cancer.data[:, pair]\n",
    "    y = cancer.target\n",
    "    \n",
    "    model = DecisionTreeClassifier()\n",
    "    model = model.fit(X, y)\n",
    "    \n",
    "    plt.subplot(2, 3, pairidx + 1)\n",
    "    \n",
    "    x_min, x_max = X[:, 0].min()-1, X[:, 0].max()+1\n",
    "    y_min, y_max = X[:, 1].min()-1, X[:, 1].max()+1\n",
    "    xx, yy = np.meshgrid(np.arange(x_min, x_max, plot_step),\n",
    "                        np.arange(y_min, y_max, plot_step))\n",
    "    plt.tight_layout(h_pad=0.5, w_pad=0.5, pad=2.5)\n",
    "    \n",
    "    Z = model.predict(np.c_[xx.ravel(), yy.ravel()])\n",
    "    Z = Z.reshape(xx.shape)\n",
    "    cs = plt.contourf(xx, yy, Z, cmap=plt.cm.RdYlBu)\n",
    "    \n",
    "    plt.xlabel(cancer.feature_names[pair[0]])\n",
    "    plt.ylabel(cancer.feature_names[pair[1]])\n",
    "    \n",
    "    for i, color in zip(range(n_classes), plot_colors):\n",
    "        idx = np.where(y == i)\n",
    "        plt.scatter(X[idx, 0], X[idx, 1], c=color, label=cancer.target_names[i],\n",
    "                   cmap=plt.cm.RdYlBu, edgecolors='b', s=15)\n",
    "\n",
    "plt.suptitle('Decision surface')\n",
    "plt.legend(loc='lower right', borderpad=0, handletextpad=0)\n",
    "plt.axis('tight')"
   ]
  },
  {
   "cell_type": "markdown",
   "metadata": {
    "id": "RIkiV_lm5eKu"
   },
   "source": [
    "##### 하이퍼파리미터를 변경해 보면서 결정 경계의 변화 확인"
   ]
  },
  {
   "cell_type": "code",
   "execution_count": null,
   "metadata": {
    "id": "F97kaCJV1yQZ"
   },
   "outputs": [],
   "source": [
    "plt.figure(figsize=(16,8))\n",
    "\n",
    "for pairidx, pair in enumerate([[0, 1], [0, 2], [0, 3],\n",
    "                               [1, 2], [1, 3], [2, 3]]):\n",
    "    X = cancer.data[:, pair]\n",
    "    y = cancer.target\n",
    "    \n",
    "    model = DecisionTreeClassifier(max_depth=2)\n",
    "    model = model.fit(X, y)\n",
    "    \n",
    "    plt.subplot(2, 3, pairidx + 1)\n",
    "    \n",
    "    x_min, x_max = X[:, 0].min()-1, X[:, 0].max()+1\n",
    "    y_min, y_max = X[:, 1].min()-1, X[:, 1].max()+1\n",
    "    xx, yy = np.meshgrid(np.arange(x_min, x_max, plot_step),\n",
    "                        np.arange(y_min, y_max, plot_step))\n",
    "    plt.tight_layout(h_pad=0.5, w_pad=0.5, pad=2.5)\n",
    "    \n",
    "    Z = model.predict(np.c_[xx.ravel(), yy.ravel()])\n",
    "    Z = Z.reshape(xx.shape)\n",
    "    cs = plt.contourf(xx, yy, Z, cmap=plt.cm.RdYlBu)\n",
    "    \n",
    "    plt.xlabel(cancer.feature_names[pair[0]])\n",
    "    plt.ylabel(cancer.feature_names[pair[1]])\n",
    "    \n",
    "    for i, color in zip(range(n_classes), plot_colors):\n",
    "        idx = np.where(y == i)\n",
    "        plt.scatter(X[idx, 0], X[idx, 1], c=color, label=cancer.target_names[i],\n",
    "                   cmap=plt.cm.RdYlBu, edgecolors='b', s=15)\n",
    "\n",
    "plt.suptitle('Decision surface')\n",
    "plt.legend(loc='lower right', borderpad=0, handletextpad=0)\n",
    "plt.axis('tight')"
   ]
  },
  {
   "cell_type": "markdown",
   "metadata": {
    "id": "g4yrwcljGIMl"
   },
   "source": [
    "##### 전처리 없이 학습"
   ]
  },
  {
   "cell_type": "code",
   "execution_count": null,
   "metadata": {
    "id": "SUSEIHLXGP2t"
   },
   "outputs": [],
   "source": []
  },
  {
   "cell_type": "code",
   "execution_count": null,
   "metadata": {
    "id": "jZMrd6e8GT5d"
   },
   "outputs": [],
   "source": []
  },
  {
   "cell_type": "markdown",
   "metadata": {
    "id": "is53BwuWGK3S"
   },
   "source": [
    "##### 전처리 후 학습"
   ]
  },
  {
   "cell_type": "code",
   "execution_count": null,
   "metadata": {
    "id": "j9U3jI4bG8an"
   },
   "outputs": [],
   "source": []
  },
  {
   "cell_type": "code",
   "execution_count": null,
   "metadata": {
    "id": "NyzFisTGG-Ra"
   },
   "outputs": [],
   "source": []
  },
  {
   "cell_type": "markdown",
   "metadata": {
    "id": "UusEIpcdGBX8"
   },
   "source": [
    "#### 학습된 결정 트리 시각화"
   ]
  },
  {
   "cell_type": "code",
   "execution_count": null,
   "metadata": {
    "id": "i8XMyUKPIKF5"
   },
   "outputs": [],
   "source": []
  },
  {
   "cell_type": "markdown",
   "metadata": {
    "id": "IJJRs8ojHyvm"
   },
   "source": [
    "##### 텍스트를 통한 시각화"
   ]
  },
  {
   "cell_type": "code",
   "execution_count": null,
   "metadata": {
    "id": "anN3zVgcIZBx"
   },
   "outputs": [],
   "source": []
  },
  {
   "cell_type": "markdown",
   "metadata": {
    "id": "43jYoj9PHzmB"
   },
   "source": [
    "##### plot_tree를 사용한 시각화"
   ]
  },
  {
   "cell_type": "code",
   "execution_count": null,
   "metadata": {
    "id": "epYXvCopIRmE"
   },
   "outputs": [],
   "source": []
  },
  {
   "cell_type": "markdown",
   "metadata": {
    "id": "KVwIgM16HzMt"
   },
   "source": [
    "##### graphviz를 사용한 시각화"
   ]
  },
  {
   "cell_type": "code",
   "execution_count": null,
   "metadata": {
    "id": "vm5zLy_PIXht"
   },
   "outputs": [],
   "source": []
  },
  {
   "cell_type": "markdown",
   "metadata": {
    "id": "t-67ZAldGA0J"
   },
   "source": [
    "#### 시각화"
   ]
  },
  {
   "cell_type": "markdown",
   "metadata": {
    "id": "PePsyMLfIvVx"
   },
   "source": [
    "##### 회귀식 시각화"
   ]
  },
  {
   "cell_type": "code",
   "execution_count": null,
   "metadata": {
    "id": "tQdaEZGYKUB7"
   },
   "outputs": [],
   "source": []
  },
  {
   "cell_type": "markdown",
   "metadata": {
    "id": "ww-B2BQ9Iu1P"
   },
   "source": [
    "##### 하이퍼파리미터를 변경해 보면서 회귀식 시각화"
   ]
  },
  {
   "cell_type": "code",
   "execution_count": null,
   "metadata": {
    "id": "E-btkBlwK1Md"
   },
   "outputs": [],
   "source": []
  }
 ],
 "metadata": {
  "colab": {
   "collapsed_sections": [
    "ESB60z8ZckQ5",
    "0BQEXGQywJf2",
    "5uc_ZCPElmVo",
    "xs1ezt7l_dL3",
    "IJJRs8ojHyvm"
   ],
   "name": "_8 결정 트리(Decision Tree).ipynb",
   "provenance": [],
   "toc_visible": true
  },
  "kernelspec": {
   "display_name": "Python 3",
   "language": "python",
   "name": "python3"
  },
  "language_info": {
   "codemirror_mode": {
    "name": "ipython",
    "version": 3
   },
   "file_extension": ".py",
   "mimetype": "text/x-python",
   "name": "python",
   "nbconvert_exporter": "python",
   "pygments_lexer": "ipython3",
   "version": "3.8.8"
  }
 },
 "nbformat": 4,
 "nbformat_minor": 1
}
