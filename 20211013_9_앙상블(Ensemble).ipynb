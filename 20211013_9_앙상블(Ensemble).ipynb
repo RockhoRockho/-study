{
 "cells": [
  {
   "cell_type": "markdown",
   "metadata": {
    "id": "b2MQEkXAYQeB"
   },
   "source": [
    "# 앙상블(Ensemble)\n",
    "\n",
    "* 일반화와 강건성(Robustness)을 향상시키기 위해 여러 모델의 예측 값을 결합하는 방법\n",
    "* 앙상블에는 크게 두가지 종류가 존재\n",
    "  * 평균 방법\n",
    "    * 여러개의 추정값을 독립적으로 구한뒤 평균을 취함\n",
    "    * 결합 추정값은 분산이 줄어들기 때문에 단일 추정값보다 좋은 성능을 보임\n",
    "  * 부스팅 방법\n",
    "    * 순차적으로 모델 생성\n",
    "    * 결합된 모델의 편향을 감소 시키기 위해 노력\n",
    "    * 부스팅 방법의 목표는 여러개의 약한 모델들을 결합해 하나의 강력한 앙상블 모델을 구축하는 것"
   ]
  },
  {
   "cell_type": "markdown",
   "metadata": {
    "id": "nT_iMqd0do5N"
   },
   "source": [
    "## Bagging meta-estimator\n",
    "\n",
    "* bagging은 bootstrap aggregating의 줄임말\n",
    "* 원래 훈련 데이터셋의 일부를 사용해 여러 모델을 훈련\n",
    "* 각각의 결과를 결합해 최종 결과를 생성\n",
    "* 분산을 줄이고 과적합을 막음\n",
    "* 강력하고 복잡한 모델에서 잘 동작"
   ]
  },
  {
   "cell_type": "code",
   "execution_count": 1,
   "metadata": {
    "id": "DeBq-DEl4Mxc"
   },
   "outputs": [],
   "source": [
    "from sklearn.datasets import load_iris, load_wine, load_breast_cancer\n",
    "from sklearn.datasets import load_boston, load_diabetes\n",
    "from sklearn.preprocessing import StandardScaler\n",
    "from sklearn.pipeline import make_pipeline\n",
    "from sklearn.model_selection import cross_validate"
   ]
  },
  {
   "cell_type": "code",
   "execution_count": 2,
   "metadata": {
    "id": "sJK4QMLlYN3G"
   },
   "outputs": [],
   "source": [
    "from sklearn.ensemble import BaggingClassifier\n",
    "from sklearn.neighbors import KNeighborsClassifier\n",
    "from sklearn.svm import SVC\n",
    "from sklearn.tree import DecisionTreeClassifier"
   ]
  },
  {
   "cell_type": "code",
   "execution_count": 3,
   "metadata": {
    "id": "Z9EBwVN94ZMN"
   },
   "outputs": [],
   "source": [
    "from sklearn.ensemble import BaggingRegressor\n",
    "from sklearn.neighbors import KNeighborsRegressor\n",
    "from sklearn.svm import SVR\n",
    "from sklearn.tree import DecisionTreeRegressor"
   ]
  },
  {
   "cell_type": "markdown",
   "metadata": {
    "id": "bnC_CfiDf3kC"
   },
   "source": [
    "### Bagging을 사용한 분류"
   ]
  },
  {
   "cell_type": "markdown",
   "metadata": {
    "id": "yw2FY84r4zQR"
   },
   "source": [
    "#### 데이터셋 불러오기"
   ]
  },
  {
   "cell_type": "code",
   "execution_count": 4,
   "metadata": {
    "id": "6DlynlPmf-3Y"
   },
   "outputs": [],
   "source": [
    "iris = load_iris()\n",
    "wine = load_wine()\n",
    "cancer = load_breast_cancer()"
   ]
  },
  {
   "cell_type": "markdown",
   "metadata": {
    "id": "9XzfsGdL4_YF"
   },
   "source": [
    "#### KNN"
   ]
  },
  {
   "cell_type": "markdown",
   "metadata": {
    "id": "h5TYJLtQ8k70"
   },
   "source": [
    "##### 붓꽃 데이터"
   ]
  },
  {
   "cell_type": "code",
   "execution_count": 5,
   "metadata": {
    "id": "vqMhwq26gIl9"
   },
   "outputs": [],
   "source": [
    "base_model = make_pipeline(\n",
    "    StandardScaler(),\n",
    "    KNeighborsClassifier()\n",
    ")\n",
    "\n",
    "bagging_model = BaggingClassifier(base_model, n_estimators=10, max_samples=0.5, max_features=0.5)"
   ]
  },
  {
   "cell_type": "code",
   "execution_count": 6,
   "metadata": {
    "colab": {
     "base_uri": "https://localhost:8080/",
     "height": 69
    },
    "id": "m-fGDZoD52eY",
    "outputId": "d4567e74-e3ee-4ca6-a8e2-7d3d00233931"
   },
   "outputs": [
    {
     "name": "stdout",
     "output_type": "stream",
     "text": [
      "avg fit time: 0.0011890411376953125 (+/- 0.00040584703867037623)\n",
      "avg score time: 0.001603984832763672 (+/- 0.0004866885261542293)\n",
      "avg test score: 0.96 (+/- 0.024944382578492935)\n"
     ]
    }
   ],
   "source": [
    "cross_val = cross_validate(\n",
    "    estimator=base_model,\n",
    "    X=iris.data, y=iris.target,\n",
    "    cv=5\n",
    ")\n",
    "\n",
    "print('avg fit time: {} (+/- {})'.format(cross_val['fit_time'].mean(), cross_val['fit_time'].std()))\n",
    "print('avg score time: {} (+/- {})'.format(cross_val['score_time'].mean(), cross_val['score_time'].std()))\n",
    "print('avg test score: {} (+/- {})'.format(cross_val['test_score'].mean(), cross_val['test_score'].std()))"
   ]
  },
  {
   "cell_type": "code",
   "execution_count": 7,
   "metadata": {
    "colab": {
     "base_uri": "https://localhost:8080/",
     "height": 69
    },
    "id": "j8UhV67NgiC0",
    "outputId": "be7059c2-0555-448f-cf78-e545169e2c4f",
    "scrolled": true
   },
   "outputs": [
    {
     "name": "stdout",
     "output_type": "stream",
     "text": [
      "avg fit time: 0.014753913879394532 (+/- 0.0011627674503651014)\n",
      "avg score time: 0.005582332611083984 (+/- 0.0004919884623458527)\n",
      "avg test score: 0.9266666666666665 (+/- 0.038873012632301994)\n"
     ]
    }
   ],
   "source": [
    "cross_val = cross_validate(\n",
    "    estimator=bagging_model,\n",
    "    X=iris.data, y=iris.target,\n",
    "    cv=5\n",
    ")\n",
    "\n",
    "print('avg fit time: {} (+/- {})'.format(cross_val['fit_time'].mean(), cross_val['fit_time'].std()))\n",
    "print('avg score time: {} (+/- {})'.format(cross_val['score_time'].mean(), cross_val['score_time'].std()))\n",
    "print('avg test score: {} (+/- {})'.format(cross_val['test_score'].mean(), cross_val['test_score'].std()))"
   ]
  },
  {
   "cell_type": "markdown",
   "metadata": {
    "id": "aake5r8-_FLh"
   },
   "source": [
    "##### 와인 데이터"
   ]
  },
  {
   "cell_type": "code",
   "execution_count": 8,
   "metadata": {
    "id": "vqMhwq26gIl9"
   },
   "outputs": [],
   "source": [
    "base_model = make_pipeline(\n",
    "    StandardScaler(),\n",
    "    KNeighborsClassifier()\n",
    ")\n",
    "\n",
    "bagging_model = BaggingClassifier(base_model, n_estimators=10, max_samples=0.5, max_features=0.5)"
   ]
  },
  {
   "cell_type": "code",
   "execution_count": 9,
   "metadata": {
    "colab": {
     "base_uri": "https://localhost:8080/",
     "height": 69
    },
    "id": "m-fGDZoD52eY",
    "outputId": "d4567e74-e3ee-4ca6-a8e2-7d3d00233931"
   },
   "outputs": [
    {
     "name": "stdout",
     "output_type": "stream",
     "text": [
      "avg fit time: 0.001188039779663086 (+/- 0.0004036507518381963)\n",
      "avg score time: 0.0017988204956054688 (+/- 0.0004011789850626932)\n",
      "avg test score: 0.9493650793650794 (+/- 0.037910929811115976)\n"
     ]
    }
   ],
   "source": [
    "cross_val = cross_validate(\n",
    "    estimator=base_model,\n",
    "    X=wine.data, y=wine.target,\n",
    "    cv=5\n",
    ")\n",
    "\n",
    "print('avg fit time: {} (+/- {})'.format(cross_val['fit_time'].mean(), cross_val['fit_time'].std()))\n",
    "print('avg score time: {} (+/- {})'.format(cross_val['score_time'].mean(), cross_val['score_time'].std()))\n",
    "print('avg test score: {} (+/- {})'.format(cross_val['test_score'].mean(), cross_val['test_score'].std()))"
   ]
  },
  {
   "cell_type": "code",
   "execution_count": 10,
   "metadata": {
    "colab": {
     "base_uri": "https://localhost:8080/",
     "height": 69
    },
    "id": "j8UhV67NgiC0",
    "outputId": "be7059c2-0555-448f-cf78-e545169e2c4f",
    "scrolled": true
   },
   "outputs": [
    {
     "name": "stdout",
     "output_type": "stream",
     "text": [
      "avg fit time: 0.01555328369140625 (+/- 0.0022290852728983545)\n",
      "avg score time: 0.005984067916870117 (+/- 0.0006307510655622034)\n",
      "avg test score: 0.943968253968254 (+/- 0.024675265605019474)\n"
     ]
    }
   ],
   "source": [
    "cross_val = cross_validate(\n",
    "    estimator=bagging_model,\n",
    "    X=wine.data, y=wine.target,\n",
    "    cv=5\n",
    ")\n",
    "\n",
    "print('avg fit time: {} (+/- {})'.format(cross_val['fit_time'].mean(), cross_val['fit_time'].std()))\n",
    "print('avg score time: {} (+/- {})'.format(cross_val['score_time'].mean(), cross_val['score_time'].std()))\n",
    "print('avg test score: {} (+/- {})'.format(cross_val['test_score'].mean(), cross_val['test_score'].std()))"
   ]
  },
  {
   "cell_type": "markdown",
   "metadata": {
    "id": "iPKP6KIy8nso"
   },
   "source": [
    "##### 유방암 데이터"
   ]
  },
  {
   "cell_type": "code",
   "execution_count": 11,
   "metadata": {
    "id": "vqMhwq26gIl9"
   },
   "outputs": [],
   "source": [
    "base_model = make_pipeline(\n",
    "    StandardScaler(),\n",
    "    KNeighborsClassifier()\n",
    ")\n",
    "\n",
    "bagging_model = BaggingClassifier(base_model, n_estimators=10, max_samples=0.5, max_features=0.5)"
   ]
  },
  {
   "cell_type": "code",
   "execution_count": 12,
   "metadata": {
    "colab": {
     "base_uri": "https://localhost:8080/",
     "height": 69
    },
    "id": "m-fGDZoD52eY",
    "outputId": "d4567e74-e3ee-4ca6-a8e2-7d3d00233931"
   },
   "outputs": [
    {
     "name": "stdout",
     "output_type": "stream",
     "text": [
      "avg fit time: 0.0011969566345214843 (+/- 0.00039930346475058545)\n",
      "avg score time: 0.01966385841369629 (+/- 0.031349039077940115)\n",
      "avg test score: 0.9648501785437045 (+/- 0.009609970350036127)\n"
     ]
    }
   ],
   "source": [
    "cross_val = cross_validate(\n",
    "    estimator=base_model,\n",
    "    X=cancer.data, y=cancer.target,\n",
    "    cv=5\n",
    ")\n",
    "\n",
    "print('avg fit time: {} (+/- {})'.format(cross_val['fit_time'].mean(), cross_val['fit_time'].std()))\n",
    "print('avg score time: {} (+/- {})'.format(cross_val['score_time'].mean(), cross_val['score_time'].std()))\n",
    "print('avg test score: {} (+/- {})'.format(cross_val['test_score'].mean(), cross_val['test_score'].std()))"
   ]
  },
  {
   "cell_type": "code",
   "execution_count": 13,
   "metadata": {
    "colab": {
     "base_uri": "https://localhost:8080/",
     "height": 69
    },
    "id": "j8UhV67NgiC0",
    "outputId": "be7059c2-0555-448f-cf78-e545169e2c4f",
    "scrolled": true
   },
   "outputs": [
    {
     "name": "stdout",
     "output_type": "stream",
     "text": [
      "avg fit time: 0.0171539306640625 (+/- 0.000398540525351964)\n",
      "avg score time: 0.010970687866210938 (+/- 6.843900725558913e-07)\n",
      "avg test score: 0.9560627231796305 (+/- 0.009610421824985197)\n"
     ]
    }
   ],
   "source": [
    "cross_val = cross_validate(\n",
    "    estimator=bagging_model,\n",
    "    X=cancer.data, y=cancer.target,\n",
    "    cv=5\n",
    ")\n",
    "\n",
    "print('avg fit time: {} (+/- {})'.format(cross_val['fit_time'].mean(), cross_val['fit_time'].std()))\n",
    "print('avg score time: {} (+/- {})'.format(cross_val['score_time'].mean(), cross_val['score_time'].std()))\n",
    "print('avg test score: {} (+/- {})'.format(cross_val['test_score'].mean(), cross_val['test_score'].std()))"
   ]
  },
  {
   "cell_type": "markdown",
   "metadata": {
    "id": "c6cXnxEZ90NR"
   },
   "source": [
    "#### SVC"
   ]
  },
  {
   "cell_type": "markdown",
   "metadata": {
    "id": "yFolvlY393Pv"
   },
   "source": [
    "##### 붓꽃 데이터"
   ]
  },
  {
   "cell_type": "code",
   "execution_count": 14,
   "metadata": {
    "id": "vqMhwq26gIl9"
   },
   "outputs": [],
   "source": [
    "base_model = make_pipeline(\n",
    "    StandardScaler(),\n",
    "    SVC()\n",
    ")\n",
    "\n",
    "bagging_model = BaggingClassifier(base_model, n_estimators=10, max_samples=0.5, max_features=0.5)"
   ]
  },
  {
   "cell_type": "code",
   "execution_count": 15,
   "metadata": {
    "colab": {
     "base_uri": "https://localhost:8080/",
     "height": 69
    },
    "id": "m-fGDZoD52eY",
    "outputId": "d4567e74-e3ee-4ca6-a8e2-7d3d00233931"
   },
   "outputs": [
    {
     "name": "stdout",
     "output_type": "stream",
     "text": [
      "avg fit time: 0.001997566223144531 (+/- 0.001993399992276271)\n",
      "avg score time: 0.0007948875427246094 (+/- 0.00039757777519665365)\n",
      "avg test score: 0.9666666666666666 (+/- 0.02108185106778919)\n"
     ]
    }
   ],
   "source": [
    "cross_val = cross_validate(\n",
    "    estimator=base_model,\n",
    "    X=iris.data, y=iris.target,\n",
    "    cv=5\n",
    ")\n",
    "\n",
    "print('avg fit time: {} (+/- {})'.format(cross_val['fit_time'].mean(), cross_val['fit_time'].std()))\n",
    "print('avg score time: {} (+/- {})'.format(cross_val['score_time'].mean(), cross_val['score_time'].std()))\n",
    "print('avg test score: {} (+/- {})'.format(cross_val['test_score'].mean(), cross_val['test_score'].std()))"
   ]
  },
  {
   "cell_type": "code",
   "execution_count": 16,
   "metadata": {
    "colab": {
     "base_uri": "https://localhost:8080/",
     "height": 69
    },
    "id": "j8UhV67NgiC0",
    "outputId": "be7059c2-0555-448f-cf78-e545169e2c4f",
    "scrolled": true
   },
   "outputs": [
    {
     "name": "stdout",
     "output_type": "stream",
     "text": [
      "avg fit time: 0.019747114181518553 (+/- 0.0007523536863458791)\n",
      "avg score time: 0.002792501449584961 (+/- 0.00039882662762642264)\n",
      "avg test score: 0.9333333333333333 (+/- 0.05577733510227169)\n"
     ]
    }
   ],
   "source": [
    "cross_val = cross_validate(\n",
    "    estimator=bagging_model,\n",
    "    X=iris.data, y=iris.target,\n",
    "    cv=5\n",
    ")\n",
    "\n",
    "print('avg fit time: {} (+/- {})'.format(cross_val['fit_time'].mean(), cross_val['fit_time'].std()))\n",
    "print('avg score time: {} (+/- {})'.format(cross_val['score_time'].mean(), cross_val['score_time'].std()))\n",
    "print('avg test score: {} (+/- {})'.format(cross_val['test_score'].mean(), cross_val['test_score'].std()))"
   ]
  },
  {
   "cell_type": "markdown",
   "metadata": {
    "id": "aake5r8-_FLh"
   },
   "source": [
    "##### 와인 데이터"
   ]
  },
  {
   "cell_type": "code",
   "execution_count": 17,
   "metadata": {
    "id": "vqMhwq26gIl9"
   },
   "outputs": [],
   "source": [
    "base_model = make_pipeline(\n",
    "    StandardScaler(),\n",
    "    SVC()\n",
    ")\n",
    "\n",
    "bagging_model = BaggingClassifier(base_model, n_estimators=10, max_samples=0.5, max_features=0.5)"
   ]
  },
  {
   "cell_type": "code",
   "execution_count": 18,
   "metadata": {
    "colab": {
     "base_uri": "https://localhost:8080/",
     "height": 69
    },
    "id": "m-fGDZoD52eY",
    "outputId": "d4567e74-e3ee-4ca6-a8e2-7d3d00233931"
   },
   "outputs": [
    {
     "name": "stdout",
     "output_type": "stream",
     "text": [
      "avg fit time: 0.0015943050384521484 (+/- 0.0004907780287321884)\n",
      "avg score time: 0.0008046150207519532 (+/- 0.00040239675555390006)\n",
      "avg test score: 0.9833333333333334 (+/- 0.022222222222222233)\n"
     ]
    }
   ],
   "source": [
    "cross_val = cross_validate(\n",
    "    estimator=base_model,\n",
    "    X=wine.data, y=wine.target,\n",
    "    cv=5\n",
    ")\n",
    "\n",
    "print('avg fit time: {} (+/- {})'.format(cross_val['fit_time'].mean(), cross_val['fit_time'].std()))\n",
    "print('avg score time: {} (+/- {})'.format(cross_val['score_time'].mean(), cross_val['score_time'].std()))\n",
    "print('avg test score: {} (+/- {})'.format(cross_val['test_score'].mean(), cross_val['test_score'].std()))"
   ]
  },
  {
   "cell_type": "code",
   "execution_count": 19,
   "metadata": {
    "colab": {
     "base_uri": "https://localhost:8080/",
     "height": 69
    },
    "id": "j8UhV67NgiC0",
    "outputId": "be7059c2-0555-448f-cf78-e545169e2c4f",
    "scrolled": true
   },
   "outputs": [
    {
     "name": "stdout",
     "output_type": "stream",
     "text": [
      "avg fit time: 0.02074604034423828 (+/- 0.0007543404151875581)\n",
      "avg score time: 0.002982616424560547 (+/- 1.1427191335015275e-05)\n",
      "avg test score: 0.9438095238095239 (+/- 0.017585410476517578)\n"
     ]
    }
   ],
   "source": [
    "cross_val = cross_validate(\n",
    "    estimator=bagging_model,\n",
    "    X=wine.data, y=wine.target,\n",
    "    cv=5\n",
    ")\n",
    "\n",
    "print('avg fit time: {} (+/- {})'.format(cross_val['fit_time'].mean(), cross_val['fit_time'].std()))\n",
    "print('avg score time: {} (+/- {})'.format(cross_val['score_time'].mean(), cross_val['score_time'].std()))\n",
    "print('avg test score: {} (+/- {})'.format(cross_val['test_score'].mean(), cross_val['test_score'].std()))"
   ]
  },
  {
   "cell_type": "markdown",
   "metadata": {
    "id": "iPKP6KIy8nso"
   },
   "source": [
    "##### 유방암 데이터"
   ]
  },
  {
   "cell_type": "code",
   "execution_count": 20,
   "metadata": {
    "id": "vqMhwq26gIl9"
   },
   "outputs": [],
   "source": [
    "base_model = make_pipeline(\n",
    "    StandardScaler(),\n",
    "    SVC()\n",
    ")\n",
    "\n",
    "bagging_model = BaggingClassifier(base_model, n_estimators=10, max_samples=0.5, max_features=0.5)"
   ]
  },
  {
   "cell_type": "code",
   "execution_count": 21,
   "metadata": {
    "colab": {
     "base_uri": "https://localhost:8080/",
     "height": 69
    },
    "id": "m-fGDZoD52eY",
    "outputId": "d4567e74-e3ee-4ca6-a8e2-7d3d00233931"
   },
   "outputs": [
    {
     "name": "stdout",
     "output_type": "stream",
     "text": [
      "avg fit time: 0.0037902355194091796 (+/- 0.0003985644064287823)\n",
      "avg score time: 0.001595306396484375 (+/- 0.00048807173663377933)\n",
      "avg test score: 0.9736376339077782 (+/- 0.014678541667933545)\n"
     ]
    }
   ],
   "source": [
    "cross_val = cross_validate(\n",
    "    estimator=base_model,\n",
    "    X=cancer.data, y=cancer.target,\n",
    "    cv=5\n",
    ")\n",
    "\n",
    "print('avg fit time: {} (+/- {})'.format(cross_val['fit_time'].mean(), cross_val['fit_time'].std()))\n",
    "print('avg score time: {} (+/- {})'.format(cross_val['score_time'].mean(), cross_val['score_time'].std()))\n",
    "print('avg test score: {} (+/- {})'.format(cross_val['test_score'].mean(), cross_val['test_score'].std()))"
   ]
  },
  {
   "cell_type": "code",
   "execution_count": 22,
   "metadata": {
    "colab": {
     "base_uri": "https://localhost:8080/",
     "height": 69
    },
    "id": "j8UhV67NgiC0",
    "outputId": "be7059c2-0555-448f-cf78-e545169e2c4f",
    "scrolled": true
   },
   "outputs": [
    {
     "name": "stdout",
     "output_type": "stream",
     "text": [
      "avg fit time: 0.027336502075195314 (+/- 0.0008043635073473386)\n",
      "avg score time: 0.009569025039672852 (+/- 0.0007894311210094292)\n",
      "avg test score: 0.9736376339077782 (+/- 0.016643827317503784)\n"
     ]
    }
   ],
   "source": [
    "cross_val = cross_validate(\n",
    "    estimator=bagging_model,\n",
    "    X=cancer.data, y=cancer.target,\n",
    "    cv=5\n",
    ")\n",
    "\n",
    "print('avg fit time: {} (+/- {})'.format(cross_val['fit_time'].mean(), cross_val['fit_time'].std()))\n",
    "print('avg score time: {} (+/- {})'.format(cross_val['score_time'].mean(), cross_val['score_time'].std()))\n",
    "print('avg test score: {} (+/- {})'.format(cross_val['test_score'].mean(), cross_val['test_score'].std()))"
   ]
  },
  {
   "cell_type": "markdown",
   "metadata": {
    "id": "Gtpz-2Ly-gF2"
   },
   "source": [
    "#### Decision Tree"
   ]
  },
  {
   "cell_type": "markdown",
   "metadata": {
    "id": "3A4T9Bv--jF-"
   },
   "source": [
    "##### 붓꽃 데이터"
   ]
  },
  {
   "cell_type": "code",
   "execution_count": 23,
   "metadata": {
    "id": "vqMhwq26gIl9"
   },
   "outputs": [],
   "source": [
    "base_model = make_pipeline(\n",
    "    StandardScaler(),\n",
    "    DecisionTreeClassifier()\n",
    ")\n",
    "\n",
    "bagging_model = BaggingClassifier(base_model, n_estimators=10, max_samples=0.5, max_features=0.5)"
   ]
  },
  {
   "cell_type": "code",
   "execution_count": 24,
   "metadata": {
    "colab": {
     "base_uri": "https://localhost:8080/",
     "height": 69
    },
    "id": "m-fGDZoD52eY",
    "outputId": "d4567e74-e3ee-4ca6-a8e2-7d3d00233931"
   },
   "outputs": [
    {
     "name": "stdout",
     "output_type": "stream",
     "text": [
      "avg fit time: 0.001589345932006836 (+/- 0.0011840820696550538)\n",
      "avg score time: 0.00039610862731933596 (+/- 0.0004851497316184131)\n",
      "avg test score: 0.9666666666666668 (+/- 0.036514837167011066)\n"
     ]
    }
   ],
   "source": [
    "cross_val = cross_validate(\n",
    "    estimator=base_model,\n",
    "    X=iris.data, y=iris.target,\n",
    "    cv=5\n",
    ")\n",
    "\n",
    "print('avg fit time: {} (+/- {})'.format(cross_val['fit_time'].mean(), cross_val['fit_time'].std()))\n",
    "print('avg score time: {} (+/- {})'.format(cross_val['score_time'].mean(), cross_val['score_time'].std()))\n",
    "print('avg test score: {} (+/- {})'.format(cross_val['test_score'].mean(), cross_val['test_score'].std()))"
   ]
  },
  {
   "cell_type": "code",
   "execution_count": 25,
   "metadata": {
    "colab": {
     "base_uri": "https://localhost:8080/",
     "height": 69
    },
    "id": "j8UhV67NgiC0",
    "outputId": "be7059c2-0555-448f-cf78-e545169e2c4f",
    "scrolled": true
   },
   "outputs": [
    {
     "name": "stdout",
     "output_type": "stream",
     "text": [
      "avg fit time: 0.018544673919677734 (+/- 0.0013528114813474124)\n",
      "avg score time: 0.0014000892639160155 (+/- 0.0004874640430474884)\n",
      "avg test score: 0.9333333333333333 (+/- 0.06992058987801009)\n"
     ]
    }
   ],
   "source": [
    "cross_val = cross_validate(\n",
    "    estimator=bagging_model,\n",
    "    X=iris.data, y=iris.target,\n",
    "    cv=5\n",
    ")\n",
    "\n",
    "print('avg fit time: {} (+/- {})'.format(cross_val['fit_time'].mean(), cross_val['fit_time'].std()))\n",
    "print('avg score time: {} (+/- {})'.format(cross_val['score_time'].mean(), cross_val['score_time'].std()))\n",
    "print('avg test score: {} (+/- {})'.format(cross_val['test_score'].mean(), cross_val['test_score'].std()))"
   ]
  },
  {
   "cell_type": "markdown",
   "metadata": {
    "id": "aake5r8-_FLh"
   },
   "source": [
    "##### 와인 데이터"
   ]
  },
  {
   "cell_type": "code",
   "execution_count": 26,
   "metadata": {
    "id": "vqMhwq26gIl9"
   },
   "outputs": [],
   "source": [
    "base_model = make_pipeline(\n",
    "    StandardScaler(),\n",
    "    DecisionTreeClassifier()\n",
    ")\n",
    "\n",
    "bagging_model = BaggingClassifier(base_model, n_estimators=10, max_samples=0.5, max_features=0.5)"
   ]
  },
  {
   "cell_type": "code",
   "execution_count": 27,
   "metadata": {
    "colab": {
     "base_uri": "https://localhost:8080/",
     "height": 69
    },
    "id": "m-fGDZoD52eY",
    "outputId": "d4567e74-e3ee-4ca6-a8e2-7d3d00233931"
   },
   "outputs": [
    {
     "name": "stdout",
     "output_type": "stream",
     "text": [
      "avg fit time: 0.001806926727294922 (+/- 0.0004081662124061519)\n",
      "avg score time: 0.00019435882568359376 (+/- 0.0003887176513671875)\n",
      "avg test score: 0.8598412698412699 (+/- 0.06294526450823035)\n"
     ]
    }
   ],
   "source": [
    "cross_val = cross_validate(\n",
    "    estimator=base_model,\n",
    "    X=wine.data, y=wine.target,\n",
    "    cv=5\n",
    ")\n",
    "\n",
    "print('avg fit time: {} (+/- {})'.format(cross_val['fit_time'].mean(), cross_val['fit_time'].std()))\n",
    "print('avg score time: {} (+/- {})'.format(cross_val['score_time'].mean(), cross_val['score_time'].std()))\n",
    "print('avg test score: {} (+/- {})'.format(cross_val['test_score'].mean(), cross_val['test_score'].std()))"
   ]
  },
  {
   "cell_type": "code",
   "execution_count": 28,
   "metadata": {
    "colab": {
     "base_uri": "https://localhost:8080/",
     "height": 69
    },
    "id": "j8UhV67NgiC0",
    "outputId": "be7059c2-0555-448f-cf78-e545169e2c4f",
    "scrolled": true
   },
   "outputs": [
    {
     "name": "stdout",
     "output_type": "stream",
     "text": [
      "avg fit time: 0.01854705810546875 (+/- 0.0010199995218294147)\n",
      "avg score time: 0.0019985198974609374 (+/- 1.9945021624667673e-05)\n",
      "avg test score: 0.9555555555555555 (+/- 0.062360956446232345)\n"
     ]
    }
   ],
   "source": [
    "cross_val = cross_validate(\n",
    "    estimator=bagging_model,\n",
    "    X=wine.data, y=wine.target,\n",
    "    cv=5\n",
    ")\n",
    "\n",
    "print('avg fit time: {} (+/- {})'.format(cross_val['fit_time'].mean(), cross_val['fit_time'].std()))\n",
    "print('avg score time: {} (+/- {})'.format(cross_val['score_time'].mean(), cross_val['score_time'].std()))\n",
    "print('avg test score: {} (+/- {})'.format(cross_val['test_score'].mean(), cross_val['test_score'].std()))"
   ]
  },
  {
   "cell_type": "markdown",
   "metadata": {
    "id": "iPKP6KIy8nso"
   },
   "source": [
    "##### 유방암 데이터"
   ]
  },
  {
   "cell_type": "code",
   "execution_count": 29,
   "metadata": {
    "id": "vqMhwq26gIl9"
   },
   "outputs": [],
   "source": [
    "base_model = make_pipeline(\n",
    "    StandardScaler(),\n",
    "    DecisionTreeClassifier()\n",
    ")\n",
    "\n",
    "bagging_model = BaggingClassifier(base_model, n_estimators=10, max_samples=0.5, max_features=0.5)"
   ]
  },
  {
   "cell_type": "code",
   "execution_count": 30,
   "metadata": {
    "colab": {
     "base_uri": "https://localhost:8080/",
     "height": 69
    },
    "id": "m-fGDZoD52eY",
    "outputId": "d4567e74-e3ee-4ca6-a8e2-7d3d00233931"
   },
   "outputs": [
    {
     "name": "stdout",
     "output_type": "stream",
     "text": [
      "avg fit time: 0.005592203140258789 (+/- 0.0004838067587451514)\n",
      "avg score time: 0.0001995563507080078 (+/- 0.0003991127014160156)\n",
      "avg test score: 0.9208663251047973 (+/- 0.019475339739722514)\n"
     ]
    }
   ],
   "source": [
    "cross_val = cross_validate(\n",
    "    estimator=base_model,\n",
    "    X=cancer.data, y=cancer.target,\n",
    "    cv=5\n",
    ")\n",
    "\n",
    "print('avg fit time: {} (+/- {})'.format(cross_val['fit_time'].mean(), cross_val['fit_time'].std()))\n",
    "print('avg score time: {} (+/- {})'.format(cross_val['score_time'].mean(), cross_val['score_time'].std()))\n",
    "print('avg test score: {} (+/- {})'.format(cross_val['test_score'].mean(), cross_val['test_score'].std()))"
   ]
  },
  {
   "cell_type": "code",
   "execution_count": 31,
   "metadata": {
    "colab": {
     "base_uri": "https://localhost:8080/",
     "height": 69
    },
    "id": "j8UhV67NgiC0",
    "outputId": "be7059c2-0555-448f-cf78-e545169e2c4f",
    "scrolled": true
   },
   "outputs": [
    {
     "name": "stdout",
     "output_type": "stream",
     "text": [
      "avg fit time: 0.025931167602539062 (+/- 0.002089969591261129)\n",
      "avg score time: 0.002197456359863281 (+/- 0.0003949071207792278)\n",
      "avg test score: 0.9525850023288308 (+/- 0.018008381071502738)\n"
     ]
    }
   ],
   "source": [
    "cross_val = cross_validate(\n",
    "    estimator=bagging_model,\n",
    "    X=cancer.data, y=cancer.target,\n",
    "    cv=5\n",
    ")\n",
    "\n",
    "print('avg fit time: {} (+/- {})'.format(cross_val['fit_time'].mean(), cross_val['fit_time'].std()))\n",
    "print('avg score time: {} (+/- {})'.format(cross_val['score_time'].mean(), cross_val['score_time'].std()))\n",
    "print('avg test score: {} (+/- {})'.format(cross_val['test_score'].mean(), cross_val['test_score'].std()))"
   ]
  },
  {
   "cell_type": "markdown",
   "metadata": {
    "id": "G8m4pTeC_Y7Q"
   },
   "source": [
    "### Bagging을 사용한 회귀"
   ]
  },
  {
   "cell_type": "markdown",
   "metadata": {
    "id": "47h6mi6D_cu3"
   },
   "source": [
    "#### 데이터셋 불러오기"
   ]
  },
  {
   "cell_type": "code",
   "execution_count": 32,
   "metadata": {
    "id": "UN7-vRcK_pKZ"
   },
   "outputs": [],
   "source": [
    "boston = load_boston()\n",
    "diabetes = load_diabetes()"
   ]
  },
  {
   "cell_type": "markdown",
   "metadata": {
    "id": "lBSK7rhp_gMV"
   },
   "source": [
    "#### KNN"
   ]
  },
  {
   "cell_type": "markdown",
   "metadata": {
    "id": "Ze7yqMOL_t34"
   },
   "source": [
    "##### 보스턴 주택 가격 데이터"
   ]
  },
  {
   "cell_type": "code",
   "execution_count": 33,
   "metadata": {
    "id": "IE8Slxcu_7jg"
   },
   "outputs": [],
   "source": [
    "base_model = make_pipeline(\n",
    "    StandardScaler(),\n",
    "    KNeighborsRegressor()\n",
    ")\n",
    "\n",
    "bagging_model = BaggingRegressor(base_model, n_estimators=10, max_samples=0.5, max_features=0.5)"
   ]
  },
  {
   "cell_type": "code",
   "execution_count": 34,
   "metadata": {
    "colab": {
     "base_uri": "https://localhost:8080/",
     "height": 69
    },
    "id": "keEufZavATxq",
    "outputId": "43d2dd17-d375-4767-cbea-5d6d48f1d0c4"
   },
   "outputs": [
    {
     "name": "stdout",
     "output_type": "stream",
     "text": [
      "avg fit time: 0.0019976139068603516 (+/- 1.5928502424273444e-05)\n",
      "avg score time: 0.0011939048767089845 (+/- 0.00041202526226733345)\n",
      "avg test score: 0.47357748833823543 (+/- 0.13243123464477455)\n"
     ]
    }
   ],
   "source": [
    "cross_val = cross_validate(\n",
    "    estimator=base_model,\n",
    "    X=boston.data, y=boston.target,\n",
    "    cv=5\n",
    ")\n",
    "\n",
    "print('avg fit time: {} (+/- {})'.format(cross_val['fit_time'].mean(), cross_val['fit_time'].std()))\n",
    "print('avg score time: {} (+/- {})'.format(cross_val['score_time'].mean(), cross_val['score_time'].std()))\n",
    "print('avg test score: {} (+/- {})'.format(cross_val['test_score'].mean(), cross_val['test_score'].std()))"
   ]
  },
  {
   "cell_type": "code",
   "execution_count": 35,
   "metadata": {
    "colab": {
     "base_uri": "https://localhost:8080/",
     "height": 69
    },
    "id": "oJbcuQntAXzE",
    "outputId": "d3352f85-3f52-4769-aab1-5d75b882d6d9"
   },
   "outputs": [
    {
     "name": "stdout",
     "output_type": "stream",
     "text": [
      "avg fit time: 0.014754867553710938 (+/- 0.000972425891399856)\n",
      "avg score time: 0.006776571273803711 (+/- 0.00039586804338128116)\n",
      "avg test score: 0.4738199003806053 (+/- 0.15114924462268764)\n"
     ]
    }
   ],
   "source": [
    "cross_val = cross_validate(\n",
    "    estimator=bagging_model,\n",
    "    X=boston.data, y=boston.target,\n",
    "    cv=5\n",
    ")\n",
    "\n",
    "print('avg fit time: {} (+/- {})'.format(cross_val['fit_time'].mean(), cross_val['fit_time'].std()))\n",
    "print('avg score time: {} (+/- {})'.format(cross_val['score_time'].mean(), cross_val['score_time'].std()))\n",
    "print('avg test score: {} (+/- {})'.format(cross_val['test_score'].mean(), cross_val['test_score'].std()))"
   ]
  },
  {
   "cell_type": "markdown",
   "metadata": {
    "id": "vsCxrkMO_td0"
   },
   "source": [
    "##### 당뇨병 데이터"
   ]
  },
  {
   "cell_type": "code",
   "execution_count": 36,
   "metadata": {
    "id": "IE8Slxcu_7jg"
   },
   "outputs": [],
   "source": [
    "base_model = make_pipeline(\n",
    "    StandardScaler(),\n",
    "    KNeighborsRegressor()\n",
    ")\n",
    "\n",
    "bagging_model = BaggingRegressor(base_model, n_estimators=10, max_samples=0.5, max_features=0.5)"
   ]
  },
  {
   "cell_type": "code",
   "execution_count": 37,
   "metadata": {
    "colab": {
     "base_uri": "https://localhost:8080/",
     "height": 69
    },
    "id": "keEufZavATxq",
    "outputId": "43d2dd17-d375-4767-cbea-5d6d48f1d0c4"
   },
   "outputs": [
    {
     "name": "stdout",
     "output_type": "stream",
     "text": [
      "avg fit time: 0.0013878345489501953 (+/- 0.0004880091115561338)\n",
      "avg score time: 0.000998067855834961 (+/- 1.3598974416660925e-05)\n",
      "avg test score: 0.3689720650295623 (+/- 0.044659049060165365)\n"
     ]
    }
   ],
   "source": [
    "cross_val = cross_validate(\n",
    "    estimator=base_model,\n",
    "    X=diabetes.data, y=diabetes.target,\n",
    "    cv=5\n",
    ")\n",
    "\n",
    "print('avg fit time: {} (+/- {})'.format(cross_val['fit_time'].mean(), cross_val['fit_time'].std()))\n",
    "print('avg score time: {} (+/- {})'.format(cross_val['score_time'].mean(), cross_val['score_time'].std()))\n",
    "print('avg test score: {} (+/- {})'.format(cross_val['test_score'].mean(), cross_val['test_score'].std()))"
   ]
  },
  {
   "cell_type": "code",
   "execution_count": 38,
   "metadata": {
    "colab": {
     "base_uri": "https://localhost:8080/",
     "height": 69
    },
    "id": "oJbcuQntAXzE",
    "outputId": "d3352f85-3f52-4769-aab1-5d75b882d6d9"
   },
   "outputs": [
    {
     "name": "stdout",
     "output_type": "stream",
     "text": [
      "avg fit time: 0.015360212326049805 (+/- 0.0010212071047125554)\n",
      "avg score time: 0.006581544876098633 (+/- 0.00047886716745494147)\n",
      "avg test score: 0.4152891444819421 (+/- 0.07356782771181594)\n"
     ]
    }
   ],
   "source": [
    "cross_val = cross_validate(\n",
    "    estimator=bagging_model,\n",
    "    X=diabetes.data, y=diabetes.target,\n",
    "    cv=5\n",
    ")\n",
    "\n",
    "print('avg fit time: {} (+/- {})'.format(cross_val['fit_time'].mean(), cross_val['fit_time'].std()))\n",
    "print('avg score time: {} (+/- {})'.format(cross_val['score_time'].mean(), cross_val['score_time'].std()))\n",
    "print('avg test score: {} (+/- {})'.format(cross_val['test_score'].mean(), cross_val['test_score'].std()))"
   ]
  },
  {
   "cell_type": "markdown",
   "metadata": {
    "id": "UNWloxDa_fvn"
   },
   "source": [
    "#### SVR"
   ]
  },
  {
   "cell_type": "markdown",
   "metadata": {
    "id": "NRDHG3iX_ygt"
   },
   "source": [
    "##### 보스턴 주택 가격 데이터"
   ]
  },
  {
   "cell_type": "code",
   "execution_count": 39,
   "metadata": {
    "id": "IE8Slxcu_7jg"
   },
   "outputs": [],
   "source": [
    "base_model = make_pipeline(\n",
    "    StandardScaler(),\n",
    "    SVR()\n",
    ")\n",
    "\n",
    "bagging_model = BaggingRegressor(base_model, n_estimators=10, max_samples=0.5, max_features=0.5)"
   ]
  },
  {
   "cell_type": "code",
   "execution_count": 40,
   "metadata": {
    "colab": {
     "base_uri": "https://localhost:8080/",
     "height": 69
    },
    "id": "keEufZavATxq",
    "outputId": "43d2dd17-d375-4767-cbea-5d6d48f1d0c4"
   },
   "outputs": [
    {
     "name": "stdout",
     "output_type": "stream",
     "text": [
      "avg fit time: 0.009969091415405274 (+/- 0.0006221019686617617)\n",
      "avg score time: 0.003993558883666992 (+/- 9.68155586487616e-06)\n",
      "avg test score: 0.17631266230186618 (+/- 0.5224914915128981)\n"
     ]
    }
   ],
   "source": [
    "cross_val = cross_validate(\n",
    "    estimator=base_model,\n",
    "    X=boston.data, y=boston.target,\n",
    "    cv=5\n",
    ")\n",
    "\n",
    "print('avg fit time: {} (+/- {})'.format(cross_val['fit_time'].mean(), cross_val['fit_time'].std()))\n",
    "print('avg score time: {} (+/- {})'.format(cross_val['score_time'].mean(), cross_val['score_time'].std()))\n",
    "print('avg test score: {} (+/- {})'.format(cross_val['test_score'].mean(), cross_val['test_score'].std()))"
   ]
  },
  {
   "cell_type": "code",
   "execution_count": 41,
   "metadata": {
    "colab": {
     "base_uri": "https://localhost:8080/",
     "height": 69
    },
    "id": "oJbcuQntAXzE",
    "outputId": "d3352f85-3f52-4769-aab1-5d75b882d6d9"
   },
   "outputs": [
    {
     "name": "stdout",
     "output_type": "stream",
     "text": [
      "avg fit time: 0.03471617698669434 (+/- 0.0011771797278552478)\n",
      "avg score time: 0.019343471527099608 (+/- 0.0004927052377941607)\n",
      "avg test score: 0.24919090312266173 (+/- 0.2666824591497216)\n"
     ]
    }
   ],
   "source": [
    "cross_val = cross_validate(\n",
    "    estimator=bagging_model,\n",
    "    X=boston.data, y=boston.target,\n",
    "    cv=5\n",
    ")\n",
    "\n",
    "print('avg fit time: {} (+/- {})'.format(cross_val['fit_time'].mean(), cross_val['fit_time'].std()))\n",
    "print('avg score time: {} (+/- {})'.format(cross_val['score_time'].mean(), cross_val['score_time'].std()))\n",
    "print('avg test score: {} (+/- {})'.format(cross_val['test_score'].mean(), cross_val['test_score'].std()))"
   ]
  },
  {
   "cell_type": "markdown",
   "metadata": {
    "id": "vsCxrkMO_td0"
   },
   "source": [
    "##### 당뇨병 데이터"
   ]
  },
  {
   "cell_type": "code",
   "execution_count": 42,
   "metadata": {
    "id": "IE8Slxcu_7jg"
   },
   "outputs": [],
   "source": [
    "base_model = make_pipeline(\n",
    "    StandardScaler(),\n",
    "    SVR()\n",
    ")\n",
    "\n",
    "bagging_model = BaggingRegressor(base_model, n_estimators=10, max_samples=0.5, max_features=0.5)"
   ]
  },
  {
   "cell_type": "code",
   "execution_count": 43,
   "metadata": {
    "colab": {
     "base_uri": "https://localhost:8080/",
     "height": 69
    },
    "id": "keEufZavATxq",
    "outputId": "43d2dd17-d375-4767-cbea-5d6d48f1d0c4"
   },
   "outputs": [
    {
     "name": "stdout",
     "output_type": "stream",
     "text": [
      "avg fit time: 0.006982231140136718 (+/- 2.127816028145033e-05)\n",
      "avg score time: 0.0033953189849853516 (+/- 0.000495599685891243)\n",
      "avg test score: 0.14659936199629428 (+/- 0.021907980033429305)\n"
     ]
    }
   ],
   "source": [
    "cross_val = cross_validate(\n",
    "    estimator=base_model,\n",
    "    X=diabetes.data, y=diabetes.target,\n",
    "    cv=5\n",
    ")\n",
    "\n",
    "print('avg fit time: {} (+/- {})'.format(cross_val['fit_time'].mean(), cross_val['fit_time'].std()))\n",
    "print('avg score time: {} (+/- {})'.format(cross_val['score_time'].mean(), cross_val['score_time'].std()))\n",
    "print('avg test score: {} (+/- {})'.format(cross_val['test_score'].mean(), cross_val['test_score'].std()))"
   ]
  },
  {
   "cell_type": "code",
   "execution_count": 44,
   "metadata": {
    "colab": {
     "base_uri": "https://localhost:8080/",
     "height": 69
    },
    "id": "oJbcuQntAXzE",
    "outputId": "d3352f85-3f52-4769-aab1-5d75b882d6d9"
   },
   "outputs": [
    {
     "name": "stdout",
     "output_type": "stream",
     "text": [
      "avg fit time: 0.029127836227416992 (+/- 0.0011720898189661985)\n",
      "avg score time: 0.015158796310424804 (+/- 0.0007454868623845668)\n",
      "avg test score: 0.06490977513992655 (+/- 0.02007669064293237)\n"
     ]
    }
   ],
   "source": [
    "cross_val = cross_validate(\n",
    "    estimator=bagging_model,\n",
    "    X=diabetes.data, y=diabetes.target,\n",
    "    cv=5\n",
    ")\n",
    "\n",
    "print('avg fit time: {} (+/- {})'.format(cross_val['fit_time'].mean(), cross_val['fit_time'].std()))\n",
    "print('avg score time: {} (+/- {})'.format(cross_val['score_time'].mean(), cross_val['score_time'].std()))\n",
    "print('avg test score: {} (+/- {})'.format(cross_val['test_score'].mean(), cross_val['test_score'].std()))"
   ]
  },
  {
   "cell_type": "markdown",
   "metadata": {
    "id": "Ffge42tG_fFc"
   },
   "source": [
    "#### Decision Tree"
   ]
  },
  {
   "cell_type": "markdown",
   "metadata": {
    "id": "MWWTfD6T_44c"
   },
   "source": [
    "##### 보스턴 주택 가격 데이터"
   ]
  },
  {
   "cell_type": "code",
   "execution_count": 45,
   "metadata": {
    "id": "IE8Slxcu_7jg"
   },
   "outputs": [],
   "source": [
    "base_model = make_pipeline(\n",
    "    StandardScaler(),\n",
    "    DecisionTreeRegressor()\n",
    ")\n",
    "\n",
    "bagging_model = BaggingRegressor(base_model, n_estimators=10, max_samples=0.5, max_features=0.5)"
   ]
  },
  {
   "cell_type": "code",
   "execution_count": 46,
   "metadata": {
    "colab": {
     "base_uri": "https://localhost:8080/",
     "height": 69
    },
    "id": "keEufZavATxq",
    "outputId": "43d2dd17-d375-4767-cbea-5d6d48f1d0c4"
   },
   "outputs": [
    {
     "name": "stdout",
     "output_type": "stream",
     "text": [
      "avg fit time: 0.0034038066864013673 (+/- 0.0007944189142212935)\n",
      "avg score time: 0.00019402503967285155 (+/- 0.00038805007934570305)\n",
      "avg test score: 0.10424590649738627 (+/- 0.9789448023541152)\n"
     ]
    }
   ],
   "source": [
    "cross_val = cross_validate(\n",
    "    estimator=base_model,\n",
    "    X=boston.data, y=boston.target,\n",
    "    cv=5\n",
    ")\n",
    "\n",
    "print('avg fit time: {} (+/- {})'.format(cross_val['fit_time'].mean(), cross_val['fit_time'].std()))\n",
    "print('avg score time: {} (+/- {})'.format(cross_val['score_time'].mean(), cross_val['score_time'].std()))\n",
    "print('avg test score: {} (+/- {})'.format(cross_val['test_score'].mean(), cross_val['test_score'].std()))"
   ]
  },
  {
   "cell_type": "code",
   "execution_count": 47,
   "metadata": {
    "colab": {
     "base_uri": "https://localhost:8080/",
     "height": 69
    },
    "id": "oJbcuQntAXzE",
    "outputId": "d3352f85-3f52-4769-aab1-5d75b882d6d9"
   },
   "outputs": [
    {
     "name": "stdout",
     "output_type": "stream",
     "text": [
      "avg fit time: 0.02174072265625 (+/- 0.0007526360969434471)\n",
      "avg score time: 0.001995754241943359 (+/- 1.715288710461135e-06)\n",
      "avg test score: 0.39657402224638977 (+/- 0.24747331024155292)\n"
     ]
    }
   ],
   "source": [
    "cross_val = cross_validate(\n",
    "    estimator=bagging_model,\n",
    "    X=boston.data, y=boston.target,\n",
    "    cv=5\n",
    ")\n",
    "\n",
    "print('avg fit time: {} (+/- {})'.format(cross_val['fit_time'].mean(), cross_val['fit_time'].std()))\n",
    "print('avg score time: {} (+/- {})'.format(cross_val['score_time'].mean(), cross_val['score_time'].std()))\n",
    "print('avg test score: {} (+/- {})'.format(cross_val['test_score'].mean(), cross_val['test_score'].std()))"
   ]
  },
  {
   "cell_type": "markdown",
   "metadata": {
    "id": "vsCxrkMO_td0"
   },
   "source": [
    "##### 당뇨병 데이터"
   ]
  },
  {
   "cell_type": "code",
   "execution_count": 48,
   "metadata": {
    "id": "IE8Slxcu_7jg"
   },
   "outputs": [],
   "source": [
    "base_model = make_pipeline(\n",
    "    StandardScaler(),\n",
    "    DecisionTreeRegressor()\n",
    ")\n",
    "\n",
    "bagging_model = BaggingRegressor(base_model, n_estimators=10, max_samples=0.5, max_features=0.5)"
   ]
  },
  {
   "cell_type": "code",
   "execution_count": 49,
   "metadata": {
    "colab": {
     "base_uri": "https://localhost:8080/",
     "height": 69
    },
    "id": "keEufZavATxq",
    "outputId": "43d2dd17-d375-4767-cbea-5d6d48f1d0c4"
   },
   "outputs": [
    {
     "name": "stdout",
     "output_type": "stream",
     "text": [
      "avg fit time: 0.002396965026855469 (+/- 0.0004976371047353323)\n",
      "avg score time: 0.0001995563507080078 (+/- 0.0003991127014160156)\n",
      "avg test score: -0.15052107157857061 (+/- 0.09345327037716099)\n"
     ]
    }
   ],
   "source": [
    "cross_val = cross_validate(\n",
    "    estimator=base_model,\n",
    "    X=diabetes.data, y=diabetes.target,\n",
    "    cv=5\n",
    ")\n",
    "\n",
    "print('avg fit time: {} (+/- {})'.format(cross_val['fit_time'].mean(), cross_val['fit_time'].std()))\n",
    "print('avg score time: {} (+/- {})'.format(cross_val['score_time'].mean(), cross_val['score_time'].std()))\n",
    "print('avg test score: {} (+/- {})'.format(cross_val['test_score'].mean(), cross_val['test_score'].std()))"
   ]
  },
  {
   "cell_type": "code",
   "execution_count": 50,
   "metadata": {
    "colab": {
     "base_uri": "https://localhost:8080/",
     "height": 69
    },
    "id": "oJbcuQntAXzE",
    "outputId": "d3352f85-3f52-4769-aab1-5d75b882d6d9"
   },
   "outputs": [
    {
     "name": "stdout",
     "output_type": "stream",
     "text": [
      "avg fit time: 0.021747398376464843 (+/- 0.004250214815432339)\n",
      "avg score time: 0.0017947673797607422 (+/- 0.00039956576429123284)\n",
      "avg test score: 0.319123890456556 (+/- 0.06390541795329292)\n"
     ]
    }
   ],
   "source": [
    "cross_val = cross_validate(\n",
    "    estimator=bagging_model,\n",
    "    X=diabetes.data, y=diabetes.target,\n",
    "    cv=5\n",
    ")\n",
    "\n",
    "print('avg fit time: {} (+/- {})'.format(cross_val['fit_time'].mean(), cross_val['fit_time'].std()))\n",
    "print('avg score time: {} (+/- {})'.format(cross_val['score_time'].mean(), cross_val['score_time'].std()))\n",
    "print('avg test score: {} (+/- {})'.format(cross_val['test_score'].mean(), cross_val['test_score'].std()))"
   ]
  },
  {
   "cell_type": "markdown",
   "metadata": {
    "id": "Hve567xWbywt"
   },
   "source": [
    "## Forests of randomized trees\n",
    "\n",
    "* `sklearn.ensemble` 모듈에는 무작위 결정 트리를 기반으로하는 두 개의 평균화 알고리즘이 존재\n",
    "  * Random Forest\n",
    "  * Extra-Trees\n",
    "* 모델 구성에 임의성을 추가해 다양한 모델 집합이 생성\n",
    "* 앙상블 모델의 예측은 각 모델의 평균"
   ]
  },
  {
   "cell_type": "code",
   "execution_count": 51,
   "metadata": {
    "id": "9dLhSVb7CMIV"
   },
   "outputs": [],
   "source": [
    "from sklearn.ensemble import RandomForestClassifier, ExtraTreesClassifier\n",
    "from sklearn.ensemble import RandomForestRegressor, ExtraTreesRegressor"
   ]
  },
  {
   "cell_type": "markdown",
   "metadata": {
    "id": "oDLPV0rHk_kG"
   },
   "source": [
    "### Random Forests 분류"
   ]
  },
  {
   "cell_type": "code",
   "execution_count": 52,
   "metadata": {
    "id": "rpQvJshtlc-r"
   },
   "outputs": [],
   "source": [
    "model = make_pipeline(\n",
    "    StandardScaler(),\n",
    "    RandomForestClassifier()\n",
    ")"
   ]
  },
  {
   "cell_type": "code",
   "execution_count": 53,
   "metadata": {
    "colab": {
     "base_uri": "https://localhost:8080/",
     "height": 69
    },
    "id": "Vtf-Qegjlsz6",
    "outputId": "9b8b25db-6779-4b6e-bebc-fbdd6bf98dbb"
   },
   "outputs": [
    {
     "name": "stdout",
     "output_type": "stream",
     "text": [
      "avg fit time: 0.08956189155578613 (+/- 0.0026927143842627554)\n",
      "avg score time: 0.0075740814208984375 (+/- 0.0004852001200789068)\n",
      "avg test score: 0.9666666666666668 (+/- 0.02108185106778919)\n"
     ]
    }
   ],
   "source": [
    "cross_val = cross_validate(\n",
    "    estimator=model,\n",
    "    X=iris.data, y=iris.target,\n",
    "    cv=5\n",
    ")\n",
    "\n",
    "print('avg fit time: {} (+/- {})'.format(cross_val['fit_time'].mean(), cross_val['fit_time'].std()))\n",
    "print('avg score time: {} (+/- {})'.format(cross_val['score_time'].mean(), cross_val['score_time'].std()))\n",
    "print('avg test score: {} (+/- {})'.format(cross_val['test_score'].mean(), cross_val['test_score'].std()))"
   ]
  },
  {
   "cell_type": "code",
   "execution_count": 54,
   "metadata": {
    "colab": {
     "base_uri": "https://localhost:8080/",
     "height": 69
    },
    "id": "Zb64WqN6_QGS",
    "outputId": "a64eeffb-dda6-4a6c-807b-ff85c7deebae"
   },
   "outputs": [
    {
     "name": "stdout",
     "output_type": "stream",
     "text": [
      "avg fit time: 0.09175162315368653 (+/- 0.0012554356696182635)\n",
      "avg score time: 0.006980419158935547 (+/- 2.5634155379706598e-06)\n",
      "avg test score: 0.9665079365079364 (+/- 0.020746948644437477)\n"
     ]
    }
   ],
   "source": [
    "cross_val = cross_validate(\n",
    "    estimator=model,\n",
    "    X=wine.data, y=wine.target,\n",
    "    cv=5\n",
    ")\n",
    "\n",
    "print('avg fit time: {} (+/- {})'.format(cross_val['fit_time'].mean(), cross_val['fit_time'].std()))\n",
    "print('avg score time: {} (+/- {})'.format(cross_val['score_time'].mean(), cross_val['score_time'].std()))\n",
    "print('avg test score: {} (+/- {})'.format(cross_val['test_score'].mean(), cross_val['test_score'].std()))"
   ]
  },
  {
   "cell_type": "code",
   "execution_count": 55,
   "metadata": {
    "colab": {
     "base_uri": "https://localhost:8080/",
     "height": 69
    },
    "id": "0bMs-TucC1CH",
    "outputId": "169c0445-4d3c-4ae2-b0fa-9fb9b47ca34f"
   },
   "outputs": [
    {
     "name": "stdout",
     "output_type": "stream",
     "text": [
      "avg fit time: 0.1334500789642334 (+/- 0.0013108896421509834)\n",
      "avg score time: 0.007777261734008789 (+/- 0.0003848662975670733)\n",
      "avg test score: 0.9631113181183046 (+/- 0.021749025602840658)\n"
     ]
    }
   ],
   "source": [
    "cross_val = cross_validate(\n",
    "    estimator=model,\n",
    "    X=cancer.data, y=cancer.target,\n",
    "    cv=5\n",
    ")\n",
    "\n",
    "print('avg fit time: {} (+/- {})'.format(cross_val['fit_time'].mean(), cross_val['fit_time'].std()))\n",
    "print('avg score time: {} (+/- {})'.format(cross_val['score_time'].mean(), cross_val['score_time'].std()))\n",
    "print('avg test score: {} (+/- {})'.format(cross_val['test_score'].mean(), cross_val['test_score'].std()))"
   ]
  },
  {
   "cell_type": "markdown",
   "metadata": {
    "id": "a3earvlLl2RE"
   },
   "source": [
    "### Random Forests 회귀"
   ]
  },
  {
   "cell_type": "code",
   "execution_count": 56,
   "metadata": {
    "id": "rpQvJshtlc-r"
   },
   "outputs": [],
   "source": [
    "model = make_pipeline(\n",
    "    StandardScaler(),\n",
    "    RandomForestRegressor()\n",
    ")"
   ]
  },
  {
   "cell_type": "code",
   "execution_count": 57,
   "metadata": {
    "colab": {
     "base_uri": "https://localhost:8080/",
     "height": 69
    },
    "id": "Vtf-Qegjlsz6",
    "outputId": "9b8b25db-6779-4b6e-bebc-fbdd6bf98dbb"
   },
   "outputs": [
    {
     "name": "stdout",
     "output_type": "stream",
     "text": [
      "avg fit time: 0.20286998748779297 (+/- 0.00526413917044785)\n",
      "avg score time: 0.006775045394897461 (+/- 0.0003956732447187437)\n",
      "avg test score: 0.6089299992936118 (+/- 0.24077735379333123)\n"
     ]
    }
   ],
   "source": [
    "cross_val = cross_validate(\n",
    "    estimator=model,\n",
    "    X=boston.data, y=boston.target,\n",
    "    cv=5\n",
    ")\n",
    "\n",
    "print('avg fit time: {} (+/- {})'.format(cross_val['fit_time'].mean(), cross_val['fit_time'].std()))\n",
    "print('avg score time: {} (+/- {})'.format(cross_val['score_time'].mean(), cross_val['score_time'].std()))\n",
    "print('avg test score: {} (+/- {})'.format(cross_val['test_score'].mean(), cross_val['test_score'].std()))"
   ]
  },
  {
   "cell_type": "code",
   "execution_count": 58,
   "metadata": {
    "colab": {
     "base_uri": "https://localhost:8080/",
     "height": 69
    },
    "id": "Zb64WqN6_QGS",
    "outputId": "a64eeffb-dda6-4a6c-807b-ff85c7deebae"
   },
   "outputs": [
    {
     "name": "stdout",
     "output_type": "stream",
     "text": [
      "avg fit time: 0.17374057769775392 (+/- 0.01145134918189531)\n",
      "avg score time: 0.006587362289428711 (+/- 0.000484461404179827)\n",
      "avg test score: 0.4192382164621053 (+/- 0.03804669033551667)\n"
     ]
    }
   ],
   "source": [
    "cross_val = cross_validate(\n",
    "    estimator=model,\n",
    "    X=diabetes.data, y=diabetes.target,\n",
    "    cv=5\n",
    ")\n",
    "\n",
    "print('avg fit time: {} (+/- {})'.format(cross_val['fit_time'].mean(), cross_val['fit_time'].std()))\n",
    "print('avg score time: {} (+/- {})'.format(cross_val['score_time'].mean(), cross_val['score_time'].std()))\n",
    "print('avg test score: {} (+/- {})'.format(cross_val['test_score'].mean(), cross_val['test_score'].std()))"
   ]
  },
  {
   "cell_type": "markdown",
   "metadata": {
    "id": "EBHcDHNvmot4"
   },
   "source": [
    "### Extremely Randomized Trees 분류"
   ]
  },
  {
   "cell_type": "code",
   "execution_count": 59,
   "metadata": {
    "id": "rpQvJshtlc-r"
   },
   "outputs": [],
   "source": [
    "model = make_pipeline(\n",
    "    StandardScaler(),\n",
    "    ExtraTreesClassifier()\n",
    ")"
   ]
  },
  {
   "cell_type": "code",
   "execution_count": 60,
   "metadata": {
    "colab": {
     "base_uri": "https://localhost:8080/",
     "height": 69
    },
    "id": "Vtf-Qegjlsz6",
    "outputId": "9b8b25db-6779-4b6e-bebc-fbdd6bf98dbb"
   },
   "outputs": [
    {
     "name": "stdout",
     "output_type": "stream",
     "text": [
      "avg fit time: 0.06622838973999023 (+/- 0.0013670993009072632)\n",
      "avg score time: 0.007381153106689453 (+/- 0.000489728276383788)\n",
      "avg test score: 0.9533333333333334 (+/- 0.03399346342395189)\n"
     ]
    }
   ],
   "source": [
    "cross_val = cross_validate(\n",
    "    estimator=model,\n",
    "    X=iris.data, y=iris.target,\n",
    "    cv=5\n",
    ")\n",
    "\n",
    "print('avg fit time: {} (+/- {})'.format(cross_val['fit_time'].mean(), cross_val['fit_time'].std()))\n",
    "print('avg score time: {} (+/- {})'.format(cross_val['score_time'].mean(), cross_val['score_time'].std()))\n",
    "print('avg test score: {} (+/- {})'.format(cross_val['test_score'].mean(), cross_val['test_score'].std()))"
   ]
  },
  {
   "cell_type": "code",
   "execution_count": 61,
   "metadata": {
    "colab": {
     "base_uri": "https://localhost:8080/",
     "height": 69
    },
    "id": "Zb64WqN6_QGS",
    "outputId": "a64eeffb-dda6-4a6c-807b-ff85c7deebae"
   },
   "outputs": [
    {
     "name": "stdout",
     "output_type": "stream",
     "text": [
      "avg fit time: 0.06841621398925782 (+/- 0.0016194959517814456)\n",
      "avg score time: 0.007381725311279297 (+/- 0.0004871197526110787)\n",
      "avg test score: 0.9776190476190475 (+/- 0.020831783767013237)\n"
     ]
    }
   ],
   "source": [
    "cross_val = cross_validate(\n",
    "    estimator=model,\n",
    "    X=wine.data, y=wine.target,\n",
    "    cv=5\n",
    ")\n",
    "\n",
    "print('avg fit time: {} (+/- {})'.format(cross_val['fit_time'].mean(), cross_val['fit_time'].std()))\n",
    "print('avg score time: {} (+/- {})'.format(cross_val['score_time'].mean(), cross_val['score_time'].std()))\n",
    "print('avg test score: {} (+/- {})'.format(cross_val['test_score'].mean(), cross_val['test_score'].std()))"
   ]
  },
  {
   "cell_type": "code",
   "execution_count": 62,
   "metadata": {
    "colab": {
     "base_uri": "https://localhost:8080/",
     "height": 69
    },
    "id": "0bMs-TucC1CH",
    "outputId": "169c0445-4d3c-4ae2-b0fa-9fb9b47ca34f"
   },
   "outputs": [
    {
     "name": "stdout",
     "output_type": "stream",
     "text": [
      "avg fit time: 0.08018159866333008 (+/- 0.001838086504007512)\n",
      "avg score time: 0.007783222198486328 (+/- 0.0004011093521022369)\n",
      "avg test score: 0.9630957925787922 (+/- 0.011628577273852681)\n"
     ]
    }
   ],
   "source": [
    "cross_val = cross_validate(\n",
    "    estimator=model,\n",
    "    X=cancer.data, y=cancer.target,\n",
    "    cv=5\n",
    ")\n",
    "\n",
    "print('avg fit time: {} (+/- {})'.format(cross_val['fit_time'].mean(), cross_val['fit_time'].std()))\n",
    "print('avg score time: {} (+/- {})'.format(cross_val['score_time'].mean(), cross_val['score_time'].std()))\n",
    "print('avg test score: {} (+/- {})'.format(cross_val['test_score'].mean(), cross_val['test_score'].std()))"
   ]
  },
  {
   "cell_type": "markdown",
   "metadata": {
    "id": "JspHMW4YnDON"
   },
   "source": [
    "### Extremely Randomized Trees 회귀"
   ]
  },
  {
   "cell_type": "code",
   "execution_count": 63,
   "metadata": {
    "id": "rpQvJshtlc-r"
   },
   "outputs": [],
   "source": [
    "model = make_pipeline(\n",
    "    StandardScaler(),\n",
    "    ExtraTreesRegressor()\n",
    ")"
   ]
  },
  {
   "cell_type": "code",
   "execution_count": 64,
   "metadata": {
    "colab": {
     "base_uri": "https://localhost:8080/",
     "height": 69
    },
    "id": "Vtf-Qegjlsz6",
    "outputId": "9b8b25db-6779-4b6e-bebc-fbdd6bf98dbb"
   },
   "outputs": [
    {
     "name": "stdout",
     "output_type": "stream",
     "text": [
      "avg fit time: 0.13505005836486816 (+/- 0.0031292997645877697)\n",
      "avg score time: 0.006781387329101563 (+/- 0.0004000902850766651)\n",
      "avg test score: 0.6343552308367718 (+/- 0.2371966074110354)\n"
     ]
    }
   ],
   "source": [
    "cross_val = cross_validate(\n",
    "    estimator=model,\n",
    "    X=boston.data, y=boston.target,\n",
    "    cv=5\n",
    ")\n",
    "\n",
    "print('avg fit time: {} (+/- {})'.format(cross_val['fit_time'].mean(), cross_val['fit_time'].std()))\n",
    "print('avg score time: {} (+/- {})'.format(cross_val['score_time'].mean(), cross_val['score_time'].std()))\n",
    "print('avg test score: {} (+/- {})'.format(cross_val['test_score'].mean(), cross_val['test_score'].std()))"
   ]
  },
  {
   "cell_type": "code",
   "execution_count": 65,
   "metadata": {
    "colab": {
     "base_uri": "https://localhost:8080/",
     "height": 69
    },
    "id": "Zb64WqN6_QGS",
    "outputId": "a64eeffb-dda6-4a6c-807b-ff85c7deebae"
   },
   "outputs": [
    {
     "name": "stdout",
     "output_type": "stream",
     "text": [
      "avg fit time: 0.11909112930297852 (+/- 0.0013619535618792436)\n",
      "avg score time: 0.006975364685058594 (+/- 1.943039746513077e-05)\n",
      "avg test score: 0.4335099844847711 (+/- 0.037685685416215114)\n"
     ]
    }
   ],
   "source": [
    "cross_val = cross_validate(\n",
    "    estimator=model,\n",
    "    X=diabetes.data, y=diabetes.target,\n",
    "    cv=5\n",
    ")\n",
    "\n",
    "print('avg fit time: {} (+/- {})'.format(cross_val['fit_time'].mean(), cross_val['fit_time'].std()))\n",
    "print('avg score time: {} (+/- {})'.format(cross_val['score_time'].mean(), cross_val['score_time'].std()))\n",
    "print('avg test score: {} (+/- {})'.format(cross_val['test_score'].mean(), cross_val['test_score'].std()))"
   ]
  },
  {
   "cell_type": "markdown",
   "metadata": {
    "id": "L4_4LPoirXV2"
   },
   "source": [
    "### Random Forest, Extra Tree 시각화\n",
    "\n",
    "* 결정 트리, Random Forest, Extra Tree의 결정 경계와 회귀식 시각화"
   ]
  },
  {
   "cell_type": "code",
   "execution_count": 75,
   "metadata": {
    "id": "RH-wTt7PzpB_"
   },
   "outputs": [],
   "source": [
    "import numpy as np\n",
    "import matplotlib.pyplot as plt\n",
    "plt.style.use(['seaborn-whitegrid'])\n",
    "from matplotlib.colors import ListedColormap\n",
    "from sklearn.tree import DecisionTreeClassifier"
   ]
  },
  {
   "cell_type": "code",
   "execution_count": 76,
   "metadata": {
    "id": "J-rQtFGZz3r7"
   },
   "outputs": [],
   "source": [
    "n_classes = 3\n",
    "n_estimators = 30\n",
    "cmap = plt.cm.RdYlBu\n",
    "plot_step = 0.02\n",
    "plot_step_coarser = 0.5\n",
    "RANDOM_SEED = 13"
   ]
  },
  {
   "cell_type": "code",
   "execution_count": 77,
   "metadata": {
    "id": "V7F-qnp60DO1"
   },
   "outputs": [],
   "source": [
    "iris = load_iris()\n",
    "plot_idx = 1\n",
    "models = [DecisionTreeClassifier(max_depth=None),\n",
    "         RandomForestClassifier(n_estimators=n_estimators),\n",
    "         ExtraTreesClassifier(n_estimators=n_estimators)]"
   ]
  },
  {
   "cell_type": "code",
   "execution_count": 78,
   "metadata": {
    "colab": {
     "base_uri": "https://localhost:8080/",
     "height": 432
    },
    "id": "frixj9rPnW5w",
    "outputId": "373cce09-80a6-459e-b8b1-0422349bbe44"
   },
   "outputs": [
    {
     "name": "stderr",
     "output_type": "stream",
     "text": [
      "<ipython-input-78-448ab04a989e>:24: MatplotlibDeprecationWarning: Adding an axes using the same arguments as a previous axes currently reuses the earlier instance.  In a future version, a new instance will always be created and returned.  Meanwhile, this warning can be suppressed, and the future behavior ensured, by passing a unique label to each axes instance.\n",
      "  plt.subplot(3, 3, plot_idx)\n",
      "<ipython-input-78-448ab04a989e>:24: MatplotlibDeprecationWarning: Adding an axes using the same arguments as a previous axes currently reuses the earlier instance.  In a future version, a new instance will always be created and returned.  Meanwhile, this warning can be suppressed, and the future behavior ensured, by passing a unique label to each axes instance.\n",
      "  plt.subplot(3, 3, plot_idx)\n",
      "<ipython-input-78-448ab04a989e>:24: MatplotlibDeprecationWarning: Adding an axes using the same arguments as a previous axes currently reuses the earlier instance.  In a future version, a new instance will always be created and returned.  Meanwhile, this warning can be suppressed, and the future behavior ensured, by passing a unique label to each axes instance.\n",
      "  plt.subplot(3, 3, plot_idx)\n",
      "<ipython-input-78-448ab04a989e>:24: MatplotlibDeprecationWarning: Adding an axes using the same arguments as a previous axes currently reuses the earlier instance.  In a future version, a new instance will always be created and returned.  Meanwhile, this warning can be suppressed, and the future behavior ensured, by passing a unique label to each axes instance.\n",
      "  plt.subplot(3, 3, plot_idx)\n",
      "<ipython-input-78-448ab04a989e>:24: MatplotlibDeprecationWarning: Adding an axes using the same arguments as a previous axes currently reuses the earlier instance.  In a future version, a new instance will always be created and returned.  Meanwhile, this warning can be suppressed, and the future behavior ensured, by passing a unique label to each axes instance.\n",
      "  plt.subplot(3, 3, plot_idx)\n",
      "<ipython-input-78-448ab04a989e>:24: MatplotlibDeprecationWarning: Adding an axes using the same arguments as a previous axes currently reuses the earlier instance.  In a future version, a new instance will always be created and returned.  Meanwhile, this warning can be suppressed, and the future behavior ensured, by passing a unique label to each axes instance.\n",
      "  plt.subplot(3, 3, plot_idx)\n"
     ]
    },
    {
     "data": {
      "image/png": "[encoded data removed]",
      "text/plain": [
       "<Figure size 1152x576 with 3 Axes>"
      ]
     },
     "metadata": {},
     "output_type": "display_data"
    }
   ],
   "source": [
    "plt.figure(figsize=(16, 8))\n",
    "\n",
    "for pair in ([0, 1], [0, 2], [2, 3]):\n",
    "    \n",
    "    for model in models:\n",
    "        \n",
    "        X = iris.data[:, pair]\n",
    "        y = iris.target\n",
    "        \n",
    "        idx = np.arange(X.shape[0])\n",
    "        np.random.seed(RANDOM_SEED)\n",
    "        np.random.shuffle(idx)\n",
    "        X = X[idx]\n",
    "        y = y[idx]\n",
    "        \n",
    "        mean = X.mean(axis=0)\n",
    "        std = X.std(axis=0)\n",
    "        X = (X - mean) / std\n",
    "        \n",
    "        model.fit(X, y)\n",
    "        \n",
    "        model_title = str(type(model)).split('.')[-1][:-2][:-len('Classifier')]\n",
    "        \n",
    "        plt.subplot(3, 3, plot_idx)\n",
    "        if plot_idx <= len(models):\n",
    "            plt.title(model_title, fontsize=9)\n",
    "            \n",
    "        x_min, x_max = X[:, 0].min()-1, X[:, 0].max()+1\n",
    "        y_min, y_max = X[:, 1].min()-1, X[:, 1].max()+1\n",
    "        xx, yy = np.meshgrid(np.arange(x_min, x_max, plot_step),\n",
    "                            np.arange(y_min, y_max, plot_step))\n",
    "        \n",
    "        if isinstance(model, DecisionTreeClassifier):\n",
    "            Z = model.predict(np.c_[xx.ravel(), yy.ravel()])\n",
    "            Z = Z.reshape(xx.shape)\n",
    "            cs = plt.contourf(xx, yy, Z, cmap=cmap)\n",
    "        else:\n",
    "            estimator_alpha = 1.0 / len(model.estimators_)\n",
    "            for tree in model.estimators_:\n",
    "                Z = model.predict(np.c_[xx.ravel(), yy.ravel()])\n",
    "            Z = Z.reshape(xx.shape)\n",
    "            cs = plt.contourf(xx, yy, Z, alpha=estimator_alpha, cmap=cmap)\n",
    "            \n",
    "    xx_coarser, yy_coarser = np.meshgrid(np.arange(x_min, x_max, plot_step_coarser),\n",
    "                                        np.arange(y_min, y_max, plot_step_coarser))\n",
    "    Z_points_coarser = model.predict(np.c_[xx_coarser.ravel(),\n",
    "                                          yy_coarser.ravel()]).reshape(xx_coarser.shape)\n",
    "    cs_points = plt.scatter(xx_coarser, yy_coarser, s=15,\n",
    "                           c=Z_points_coarser, cmap=cmap,\n",
    "                           edgecolors='none')\n",
    "    plt.scatter(X[:, 0], X[:, 1], c=y,\n",
    "               cmap=ListedColormap(['r', 'y', 'b']),\n",
    "               edgecolors='k', s=20)\n",
    "    plot_idx += 1\n",
    "    \n",
    "plt.suptitle('Classifiers', fontsize=12)\n",
    "plt.axis('tight')\n",
    "plt.tight_layout(h_pad=0.2, w_pad=0.2, pad=2.5)\n",
    "plt.show()\n",
    "    "
   ]
  },
  {
   "cell_type": "code",
   "execution_count": 79,
   "metadata": {
    "id": "8nqpZSlUEf9P"
   },
   "outputs": [],
   "source": [
    "plot_idx = 1\n",
    "models = [DecisionTreeRegressor(max_depth=None),\n",
    "         RandomForestRegressor(n_estimators=n_estimators),\n",
    "         ExtraTreesRegressor(n_estimators=n_estimators)]"
   ]
  },
  {
   "cell_type": "code",
   "execution_count": 80,
   "metadata": {
    "colab": {
     "base_uri": "https://localhost:8080/",
     "height": 432
    },
    "id": "LN5ECiI5EQmZ",
    "outputId": "ad342d1d-c1d4-4417-c69a-884e043363b4"
   },
   "outputs": [
    {
     "data": {
      "image/png": "[encoded data removed]",
      "text/plain": [
       "<Figure size 1152x576 with 9 Axes>"
      ]
     },
     "metadata": {},
     "output_type": "display_data"
    }
   ],
   "source": [
    "plt.figure(figsize=(16, 8))\n",
    "\n",
    "for pair in (0, 1, 2):\n",
    "    \n",
    "    for model in models:\n",
    "        \n",
    "        X = boston.data[:, pair]\n",
    "        y = boston.target\n",
    "        \n",
    "        idx = np.arange(X.shape[0])\n",
    "        np.random.seed(RANDOM_SEED)\n",
    "        np.random.shuffle(idx)\n",
    "        X = X[idx]\n",
    "        y = y[idx]\n",
    "        \n",
    "        mean = X.mean(axis=0)\n",
    "        std = X.std(axis=0)\n",
    "        X = (X - mean) / std\n",
    "        \n",
    "        model.fit(X.reshape(-1, 1), y)\n",
    "        \n",
    "        model_title = str(type(model)).split('.')[-1][:-2][:-len('Regressor')]\n",
    "        \n",
    "        plt.subplot(3, 3, plot_idx)\n",
    "        if plot_idx <= len(models):\n",
    "            plt.title(model_title, fontsize=9)\n",
    "            \n",
    "        x_min, x_max = X.min()-1, X.max()+1\n",
    "        y_min, y_max = y.min()-1, y.max()+1\n",
    "        xx, yy = np.arange(x_min-1, x_max+1, plot_step), np.arange(y_min-1, y_max+1, plot_step)\n",
    "        \n",
    "        if isinstance(model, DecisionTreeRegressor):\n",
    "            Z = model.predict(xx.reshape(-1, 1))\n",
    "            cs = plt.plot(xx, Z)\n",
    "        else:\n",
    "            estimator_alpha = 1.0 / len(model.estimators_)\n",
    "            for tree in model.estimators_:\n",
    "                Z = tree.predict(xx.reshape(-1, 1))\n",
    "                cs = plt.plot(xx, Z, alpha=estimator_alpha)\n",
    "        \n",
    "        plt.scatter(X, y, edgecolors='k', s=20)\n",
    "        plot_idx += 1\n",
    "        \n",
    "plt.suptitle('Regressor', fontsize=12)\n",
    "plt.axis('tight')\n",
    "plt.tight_layout(h_pad=0.2, w_pad=0.2, pad=2.5)\n",
    "plt.show()"
   ]
  },
  {
   "cell_type": "markdown",
   "metadata": {
    "id": "KBBCR19i3JNP"
   },
   "source": [
    "## AdaBoost\n",
    "\n",
    "* 대표적인 부스팅 알고리즘\n",
    "* 일련의 약한 모델들을 학습\n",
    "* 수정된 버전의 데이터를 반복 학습 (가중치가 적용된)\n",
    "* 가중치 투표(또는 합)을 통해 각 모델의 예측 값을 결합\n",
    "* 첫 단계에서는 원본 데이터를 학습하고 연속적인 반복마다 개별 샘플에 대한 가중치가 수정되고 다시 모델이 학습\n",
    "  * 잘못 예측된 샘플은 가중치 증가, 올바르게 예측된 샘플은 가중치 감소\n",
    "  * 각각의 약한 모델들은 예측하기 어려운 샘플에 집중하게 됨\n",
    "\n",
    "![AdaBoost](https://scikit-learn.org/stable/_images/sphx_glr_plot_adaboost_hastie_10_2_0011.png)"
   ]
  },
  {
   "cell_type": "code",
   "execution_count": 81,
   "metadata": {
    "id": "5QjTkuxWrm2a"
   },
   "outputs": [],
   "source": [
    "from sklearn.ensemble import AdaBoostClassifier\n",
    "from sklearn.ensemble import AdaBoostRegressor"
   ]
  },
  {
   "cell_type": "markdown",
   "metadata": {
    "id": "Za_gsbAZ6o5j"
   },
   "source": [
    "### AdaBoost 분류"
   ]
  },
  {
   "cell_type": "code",
   "execution_count": 82,
   "metadata": {
    "id": "rpQvJshtlc-r"
   },
   "outputs": [],
   "source": [
    "model = make_pipeline(\n",
    "    StandardScaler(),\n",
    "    AdaBoostClassifier()\n",
    ")"
   ]
  },
  {
   "cell_type": "code",
   "execution_count": 83,
   "metadata": {
    "colab": {
     "base_uri": "https://localhost:8080/",
     "height": 69
    },
    "id": "Vtf-Qegjlsz6",
    "outputId": "9b8b25db-6779-4b6e-bebc-fbdd6bf98dbb"
   },
   "outputs": [
    {
     "name": "stdout",
     "output_type": "stream",
     "text": [
      "avg fit time: 0.04707865715026856 (+/- 0.0019191885415740652)\n",
      "avg score time: 0.005181598663330078 (+/- 0.000401577448747494)\n",
      "avg test score: 0.9466666666666667 (+/- 0.03399346342395189)\n"
     ]
    }
   ],
   "source": [
    "cross_val = cross_validate(\n",
    "    estimator=model,\n",
    "    X=iris.data, y=iris.target,\n",
    "    cv=5\n",
    ")\n",
    "\n",
    "print('avg fit time: {} (+/- {})'.format(cross_val['fit_time'].mean(), cross_val['fit_time'].std()))\n",
    "print('avg score time: {} (+/- {})'.format(cross_val['score_time'].mean(), cross_val['score_time'].std()))\n",
    "print('avg test score: {} (+/- {})'.format(cross_val['test_score'].mean(), cross_val['test_score'].std()))"
   ]
  },
  {
   "cell_type": "code",
   "execution_count": 84,
   "metadata": {
    "colab": {
     "base_uri": "https://localhost:8080/",
     "height": 69
    },
    "id": "Zb64WqN6_QGS",
    "outputId": "a64eeffb-dda6-4a6c-807b-ff85c7deebae"
   },
   "outputs": [
    {
     "name": "stdout",
     "output_type": "stream",
     "text": [
      "avg fit time: 0.05145840644836426 (+/- 0.0012035549290191775)\n",
      "avg score time: 0.0049916267395019535 (+/- 8.517384861970111e-06)\n",
      "avg test score: 0.8085714285714285 (+/- 0.16822356718459935)\n"
     ]
    }
   ],
   "source": [
    "cross_val = cross_validate(\n",
    "    estimator=model,\n",
    "    X=wine.data, y=wine.target,\n",
    "    cv=5\n",
    ")\n",
    "\n",
    "print('avg fit time: {} (+/- {})'.format(cross_val['fit_time'].mean(), cross_val['fit_time'].std()))\n",
    "print('avg score time: {} (+/- {})'.format(cross_val['score_time'].mean(), cross_val['score_time'].std()))\n",
    "print('avg test score: {} (+/- {})'.format(cross_val['test_score'].mean(), cross_val['test_score'].std()))"
   ]
  },
  {
   "cell_type": "code",
   "execution_count": 85,
   "metadata": {
    "colab": {
     "base_uri": "https://localhost:8080/",
     "height": 69
    },
    "id": "0bMs-TucC1CH",
    "outputId": "169c0445-4d3c-4ae2-b0fa-9fb9b47ca34f"
   },
   "outputs": [
    {
     "name": "stdout",
     "output_type": "stream",
     "text": [
      "avg fit time: 0.09695324897766114 (+/- 0.0020234564025722605)\n",
      "avg score time: 0.006175804138183594 (+/- 0.0004044872315556832)\n",
      "avg test score: 0.9701133364384411 (+/- 0.019709915473893072)\n"
     ]
    }
   ],
   "source": [
    "cross_val = cross_validate(\n",
    "    estimator=model,\n",
    "    X=cancer.data, y=cancer.target,\n",
    "    cv=5\n",
    ")\n",
    "\n",
    "print('avg fit time: {} (+/- {})'.format(cross_val['fit_time'].mean(), cross_val['fit_time'].std()))\n",
    "print('avg score time: {} (+/- {})'.format(cross_val['score_time'].mean(), cross_val['score_time'].std()))\n",
    "print('avg test score: {} (+/- {})'.format(cross_val['test_score'].mean(), cross_val['test_score'].std()))"
   ]
  },
  {
   "cell_type": "markdown",
   "metadata": {
    "id": "NFx-ob7q6zK1"
   },
   "source": [
    "### AdaBoost 회귀"
   ]
  },
  {
   "cell_type": "code",
   "execution_count": 86,
   "metadata": {
    "id": "rpQvJshtlc-r"
   },
   "outputs": [],
   "source": [
    "model = make_pipeline(\n",
    "    StandardScaler(),\n",
    "    AdaBoostRegressor()\n",
    ")"
   ]
  },
  {
   "cell_type": "code",
   "execution_count": 87,
   "metadata": {
    "colab": {
     "base_uri": "https://localhost:8080/",
     "height": 69
    },
    "id": "Vtf-Qegjlsz6",
    "outputId": "9b8b25db-6779-4b6e-bebc-fbdd6bf98dbb"
   },
   "outputs": [
    {
     "name": "stdout",
     "output_type": "stream",
     "text": [
      "avg fit time: 0.06124348640441894 (+/- 0.0014941650268522205)\n",
      "avg score time: 0.002989339828491211 (+/- 2.484133964086744e-06)\n",
      "avg test score: 0.5985744583807469 (+/- 0.20937548598257683)\n"
     ]
    }
   ],
   "source": [
    "cross_val = cross_validate(\n",
    "    estimator=model,\n",
    "    X=boston.data, y=boston.target,\n",
    "    cv=5\n",
    ")\n",
    "\n",
    "print('avg fit time: {} (+/- {})'.format(cross_val['fit_time'].mean(), cross_val['fit_time'].std()))\n",
    "print('avg score time: {} (+/- {})'.format(cross_val['score_time'].mean(), cross_val['score_time'].std()))\n",
    "print('avg test score: {} (+/- {})'.format(cross_val['test_score'].mean(), cross_val['test_score'].std()))"
   ]
  },
  {
   "cell_type": "code",
   "execution_count": 88,
   "metadata": {
    "colab": {
     "base_uri": "https://localhost:8080/",
     "height": 69
    },
    "id": "Zb64WqN6_QGS",
    "outputId": "a64eeffb-dda6-4a6c-807b-ff85c7deebae"
   },
   "outputs": [
    {
     "name": "stdout",
     "output_type": "stream",
     "text": [
      "avg fit time: 0.05325117111206055 (+/- 0.008705449823058799)\n",
      "avg score time: 0.0027935981750488283 (+/- 0.00039938026720405593)\n",
      "avg test score: 0.41312084500745616 (+/- 0.04091835944493939)\n"
     ]
    }
   ],
   "source": [
    "cross_val = cross_validate(\n",
    "    estimator=model,\n",
    "    X=diabetes.data, y=diabetes.target,\n",
    "    cv=5\n",
    ")\n",
    "\n",
    "print('avg fit time: {} (+/- {})'.format(cross_val['fit_time'].mean(), cross_val['fit_time'].std()))\n",
    "print('avg score time: {} (+/- {})'.format(cross_val['score_time'].mean(), cross_val['score_time'].std()))\n",
    "print('avg test score: {} (+/- {})'.format(cross_val['test_score'].mean(), cross_val['test_score'].std()))"
   ]
  },
  {
   "cell_type": "markdown",
   "metadata": {
    "id": "YeG2y1JB7T6z"
   },
   "source": [
    "## Gradient Tree Boosting\n",
    "\n",
    "* 임의의 차별화 가능한 손실함수로 일반화한 부스팅 알고리즘\n",
    "* 웹 검색, 분류 및 회귀 등 다양한 분야에서 모두 사용 가능"
   ]
  },
  {
   "cell_type": "code",
   "execution_count": 89,
   "metadata": {
    "id": "0K_scQYk7DRm"
   },
   "outputs": [],
   "source": [
    "from sklearn.ensemble import GradientBoostingClassifier\n",
    "from sklearn.ensemble import GradientBoostingRegressor"
   ]
  },
  {
   "cell_type": "markdown",
   "metadata": {
    "id": "UnXayCIq-ANR"
   },
   "source": [
    "### Gradient Tree Boosting 분류"
   ]
  },
  {
   "cell_type": "code",
   "execution_count": 90,
   "metadata": {
    "id": "rpQvJshtlc-r"
   },
   "outputs": [],
   "source": [
    "model = make_pipeline(\n",
    "    StandardScaler(),\n",
    "    GradientBoostingClassifier()\n",
    ")"
   ]
  },
  {
   "cell_type": "code",
   "execution_count": 91,
   "metadata": {
    "colab": {
     "base_uri": "https://localhost:8080/",
     "height": 69
    },
    "id": "Vtf-Qegjlsz6",
    "outputId": "9b8b25db-6779-4b6e-bebc-fbdd6bf98dbb"
   },
   "outputs": [
    {
     "name": "stdout",
     "output_type": "stream",
     "text": [
      "avg fit time: 0.14142775535583496 (+/- 0.003967983262945798)\n",
      "avg score time: 0.0007976055145263672 (+/- 0.0003988032240655926)\n",
      "avg test score: 0.9666666666666668 (+/- 0.02108185106778919)\n"
     ]
    }
   ],
   "source": [
    "cross_val = cross_validate(\n",
    "    estimator=model,\n",
    "    X=iris.data, y=iris.target,\n",
    "    cv=5\n",
    ")\n",
    "\n",
    "print('avg fit time: {} (+/- {})'.format(cross_val['fit_time'].mean(), cross_val['fit_time'].std()))\n",
    "print('avg score time: {} (+/- {})'.format(cross_val['score_time'].mean(), cross_val['score_time'].std()))\n",
    "print('avg test score: {} (+/- {})'.format(cross_val['test_score'].mean(), cross_val['test_score'].std()))"
   ]
  },
  {
   "cell_type": "code",
   "execution_count": 92,
   "metadata": {
    "colab": {
     "base_uri": "https://localhost:8080/",
     "height": 69
    },
    "id": "Zb64WqN6_QGS",
    "outputId": "a64eeffb-dda6-4a6c-807b-ff85c7deebae"
   },
   "outputs": [
    {
     "name": "stdout",
     "output_type": "stream",
     "text": [
      "avg fit time: 0.20564208030700684 (+/- 0.004157791201393763)\n",
      "avg score time: 0.0009992122650146484 (+/- 1.948625253839736e-06)\n",
      "avg test score: 0.9330158730158731 (+/- 0.04127777701479872)\n"
     ]
    }
   ],
   "source": [
    "cross_val = cross_validate(\n",
    "    estimator=model,\n",
    "    X=wine.data, y=wine.target,\n",
    "    cv=5\n",
    ")\n",
    "\n",
    "print('avg fit time: {} (+/- {})'.format(cross_val['fit_time'].mean(), cross_val['fit_time'].std()))\n",
    "print('avg score time: {} (+/- {})'.format(cross_val['score_time'].mean(), cross_val['score_time'].std()))\n",
    "print('avg test score: {} (+/- {})'.format(cross_val['test_score'].mean(), cross_val['test_score'].std()))"
   ]
  },
  {
   "cell_type": "code",
   "execution_count": 93,
   "metadata": {
    "colab": {
     "base_uri": "https://localhost:8080/",
     "height": 69
    },
    "id": "0bMs-TucC1CH",
    "outputId": "169c0445-4d3c-4ae2-b0fa-9fb9b47ca34f"
   },
   "outputs": [
    {
     "name": "stdout",
     "output_type": "stream",
     "text": [
      "avg fit time: 0.26788692474365233 (+/- 0.00704197507818229)\n",
      "avg score time: 0.0006019115447998047 (+/- 0.0004914856515882591)\n",
      "avg test score: 0.9596180717279925 (+/- 0.02453263202329889)\n"
     ]
    }
   ],
   "source": [
    "cross_val = cross_validate(\n",
    "    estimator=model,\n",
    "    X=cancer.data, y=cancer.target,\n",
    "    cv=5\n",
    ")\n",
    "\n",
    "print('avg fit time: {} (+/- {})'.format(cross_val['fit_time'].mean(), cross_val['fit_time'].std()))\n",
    "print('avg score time: {} (+/- {})'.format(cross_val['score_time'].mean(), cross_val['score_time'].std()))\n",
    "print('avg test score: {} (+/- {})'.format(cross_val['test_score'].mean(), cross_val['test_score'].std()))"
   ]
  },
  {
   "cell_type": "markdown",
   "metadata": {
    "id": "-DeP90dJ-Sy2"
   },
   "source": [
    "### Gradient Tree Boosting 회귀"
   ]
  },
  {
   "cell_type": "code",
   "execution_count": 94,
   "metadata": {
    "id": "rpQvJshtlc-r"
   },
   "outputs": [],
   "source": [
    "model = make_pipeline(\n",
    "    StandardScaler(),\n",
    "    GradientBoostingRegressor()\n",
    ")"
   ]
  },
  {
   "cell_type": "code",
   "execution_count": 95,
   "metadata": {
    "colab": {
     "base_uri": "https://localhost:8080/",
     "height": 69
    },
    "id": "Vtf-Qegjlsz6",
    "outputId": "9b8b25db-6779-4b6e-bebc-fbdd6bf98dbb"
   },
   "outputs": [
    {
     "name": "stdout",
     "output_type": "stream",
     "text": [
      "avg fit time: 0.07460050582885742 (+/- 0.0009775211799307336)\n",
      "avg score time: 0.0006035327911376953 (+/- 0.0004928880884389039)\n",
      "avg test score: 0.6752372690883461 (+/- 0.16121836382662494)\n"
     ]
    }
   ],
   "source": [
    "cross_val = cross_validate(\n",
    "    estimator=model,\n",
    "    X=boston.data, y=boston.target,\n",
    "    cv=5\n",
    ")\n",
    "\n",
    "print('avg fit time: {} (+/- {})'.format(cross_val['fit_time'].mean(), cross_val['fit_time'].std()))\n",
    "print('avg score time: {} (+/- {})'.format(cross_val['score_time'].mean(), cross_val['score_time'].std()))\n",
    "print('avg test score: {} (+/- {})'.format(cross_val['test_score'].mean(), cross_val['test_score'].std()))"
   ]
  },
  {
   "cell_type": "code",
   "execution_count": 96,
   "metadata": {
    "colab": {
     "base_uri": "https://localhost:8080/",
     "height": 69
    },
    "id": "Zb64WqN6_QGS",
    "outputId": "a64eeffb-dda6-4a6c-807b-ff85c7deebae"
   },
   "outputs": [
    {
     "name": "stdout",
     "output_type": "stream",
     "text": [
      "avg fit time: 0.059233474731445315 (+/- 0.000783017583156824)\n",
      "avg score time: 0.0 (+/- 0.0)\n",
      "avg test score: 0.4029450867301339 (+/- 0.0688801507855847)\n"
     ]
    }
   ],
   "source": [
    "cross_val = cross_validate(\n",
    "    estimator=model,\n",
    "    X=diabetes.data, y=diabetes.target,\n",
    "    cv=5\n",
    ")\n",
    "\n",
    "print('avg fit time: {} (+/- {})'.format(cross_val['fit_time'].mean(), cross_val['fit_time'].std()))\n",
    "print('avg score time: {} (+/- {})'.format(cross_val['score_time'].mean(), cross_val['score_time'].std()))\n",
    "print('avg test score: {} (+/- {})'.format(cross_val['test_score'].mean(), cross_val['test_score'].std()))"
   ]
  },
  {
   "cell_type": "markdown",
   "metadata": {
    "id": "u7RRhGKEBVdq"
   },
   "source": [
    "## 투표 기반 분류 (Voting Classifier)\n",
    "\n",
    "* 서로 다른 모델들의 결과를 투표를 통해 결합\n",
    "* 두가지 방법으로 투표 가능\n",
    "  * 가장 많이 예측된 클래스를 정답으로 채택 (hard voting)\n",
    "  * 예측된 확률의 가중치 평균 (soft voting)"
   ]
  },
  {
   "cell_type": "code",
   "execution_count": 97,
   "metadata": {
    "id": "a5eAt-Yy-iBz"
   },
   "outputs": [],
   "source": [
    "from sklearn.svm import SVC\n",
    "from sklearn.naive_bayes import GaussianNB\n",
    "from sklearn.ensemble import RandomForestClassifier\n",
    "from sklearn.ensemble import VotingClassifier\n",
    "from sklearn.model_selection import train_test_split, cross_val_score"
   ]
  },
  {
   "cell_type": "code",
   "execution_count": 98,
   "metadata": {
    "id": "toBoZ5I_EEy3"
   },
   "outputs": [],
   "source": [
    "model1 = SVC()\n",
    "model2 = GaussianNB()\n",
    "model3 = RandomForestClassifier()\n",
    "vote_model = VotingClassifier(\n",
    "    estimators= [('svc', model1), ('naive', model2), ('forest', model3)],\n",
    "    voting = 'hard'\n",
    ")"
   ]
  },
  {
   "cell_type": "code",
   "execution_count": 99,
   "metadata": {
    "colab": {
     "base_uri": "https://localhost:8080/",
     "height": 87
    },
    "id": "jvwefdFDEYvz",
    "outputId": "598cbee9-7a8c-46bf-8eec-8de7f8aad2cc"
   },
   "outputs": [
    {
     "name": "stdout",
     "output_type": "stream",
     "text": [
      "Accuracy: 0.97 (+/- 0.02) [SVC]\n",
      "Accuracy: 0.95 (+/- 0.03) [GaussianNB]\n",
      "Accuracy: 0.97 (+/- 0.02) [RandomForestClassifier]\n",
      "Accuracy: 0.97 (+/- 0.02) [VotingClassifier]\n"
     ]
    }
   ],
   "source": [
    "for model in (model1, model2, model3, vote_model):\n",
    "    model_name = str(type(model)).split('.')[-1][:-2]\n",
    "    scores = cross_val_score(model, iris.data, iris.target, cv=5)\n",
    "    print('Accuracy: %0.2f (+/- %0.2f) [%s]' % (scores.mean(), scores.std(), model_name))"
   ]
  },
  {
   "cell_type": "code",
   "execution_count": 100,
   "metadata": {
    "id": "YNhj3WNzFCAb"
   },
   "outputs": [],
   "source": [
    "model1 = SVC(probability=True)\n",
    "model2 = GaussianNB()\n",
    "model3 = RandomForestClassifier()\n",
    "vote_model = VotingClassifier(\n",
    "    estimators= [('svc', model1), ('naive', model2), ('forest', model3)],\n",
    "    voting = 'soft', \n",
    "    weights = [2, 1, 2]\n",
    ")"
   ]
  },
  {
   "cell_type": "code",
   "execution_count": 101,
   "metadata": {
    "colab": {
     "base_uri": "https://localhost:8080/",
     "height": 87
    },
    "id": "g89TYHdZOKL8",
    "outputId": "5e42f758-7c6c-4f07-d412-cfa58dbb74ae"
   },
   "outputs": [
    {
     "name": "stdout",
     "output_type": "stream",
     "text": [
      "Accuracy: 0.97 (+/- 0.02) [SVC]\n",
      "Accuracy: 0.95 (+/- 0.03) [GaussianNB]\n",
      "Accuracy: 0.95 (+/- 0.03) [RandomForestClassifier]\n",
      "Accuracy: 0.96 (+/- 0.02) [VotingClassifier]\n"
     ]
    }
   ],
   "source": [
    "for model in (model1, model2, model3, vote_model):\n",
    "    model_name = str(type(model)).split('.')[-1][:-2]\n",
    "    scores = cross_val_score(model, iris.data, iris.target, cv=5)\n",
    "    print('Accuracy: %0.2f (+/- %0.2f) [%s]' % (scores.mean(), scores.std(), model_name))"
   ]
  },
  {
   "cell_type": "markdown",
   "metadata": {
    "id": "cjNwB2zaPItX"
   },
   "source": [
    "### 결정 경계 시각화"
   ]
  },
  {
   "cell_type": "code",
   "execution_count": 102,
   "metadata": {
    "id": "nn8lgvWYPner"
   },
   "outputs": [],
   "source": [
    "from sklearn.tree import DecisionTreeClassifier\n",
    "from sklearn.neighbors import KNeighborsClassifier\n",
    "from sklearn.ensemble import VotingClassifier\n",
    "from itertools import product"
   ]
  },
  {
   "cell_type": "code",
   "execution_count": 103,
   "metadata": {
    "id": "SB_Bx4hKPs9-"
   },
   "outputs": [],
   "source": [
    "X = iris.data[:, [0, 2]]\n",
    "y = iris.target"
   ]
  },
  {
   "cell_type": "code",
   "execution_count": 105,
   "metadata": {
    "id": "FEpQ0g-0Pwn8"
   },
   "outputs": [],
   "source": [
    "model1 = DecisionTreeClassifier(max_depth=4)\n",
    "model2 = KNeighborsClassifier(n_neighbors=7)\n",
    "model3 = SVC(gamma=.1, kernel='rbf', probability=True)\n",
    "vote_model = VotingClassifier(estimators=[('dt', model1), ('knn', model2), ('svc', model3)],\n",
    "                             voting='soft', weights=[2, 1, 2])\n",
    "model1 = model1.fit(X, y)\n",
    "model2 = model2.fit(X, y)\n",
    "model3 = model3.fit(X, y)\n",
    "vote_model = vote_model.fit(X, y)"
   ]
  },
  {
   "cell_type": "code",
   "execution_count": 106,
   "metadata": {
    "id": "z1o_9XWKQthC"
   },
   "outputs": [],
   "source": [
    "x_min, x_max = X[:, 0].min()-1, X[:, 0].max()+1\n",
    "y_min, y_max = X[:, 1].min()-1, X[:, 1].max()+1\n",
    "xx, yy = np.meshgrid(np.arange(x_min, x_max, 0.1),\n",
    "                    np.arange(y_min, y_max, 0.1))"
   ]
  },
  {
   "cell_type": "code",
   "execution_count": 107,
   "metadata": {
    "colab": {
     "base_uri": "https://localhost:8080/",
     "height": 494
    },
    "id": "umDuzyVDOML5",
    "outputId": "3ddb2381-8133-4a31-d19a-b2269491646a"
   },
   "outputs": [
    {
     "data": {
      "image/png": "[encoded data removed]",
      "text/plain": [
       "<Figure size 864x576 with 4 Axes>"
      ]
     },
     "metadata": {},
     "output_type": "display_data"
    }
   ],
   "source": [
    "f, axarr = plt.subplots(2, 2, sharex='col', sharey='row', figsize=(12, 8))\n",
    "\n",
    "for idx, model, tt in zip(product([0, 1], [0, 1]),\n",
    "                         [model1, model2, model3, vote_model],\n",
    "                         ['Decision Tree (depth=4)', 'KNN (k=7)',\n",
    "                         'Kernel SVM', 'Soft Voting']):\n",
    "    Z = model.predict(np.c_[xx.ravel(), yy.ravel()])\n",
    "    Z = Z.reshape(xx.shape)\n",
    "    \n",
    "    axarr[idx[0], idx[1]].contourf(xx, yy, Z, alpha=0.4)\n",
    "    axarr[idx[0], idx[1]].scatter(X[:, 0], X[:, 1], c=y, s=20, edgecolors='k')\n",
    "    axarr[idx[0], idx[1]].set_title(tt)\n",
    "    \n",
    "plt.show()"
   ]
  },
  {
   "cell_type": "markdown",
   "metadata": {
    "id": "0m5WCAyLSOdK"
   },
   "source": [
    "## 투표 기반 회귀 (Voting Regressor)\n",
    "\n",
    "* 서로 다른 모델의 예측 값의 평균을 사용"
   ]
  },
  {
   "cell_type": "code",
   "execution_count": 108,
   "metadata": {
    "id": "a5eAt-Yy-iBz"
   },
   "outputs": [],
   "source": [
    "from sklearn.linear_model import LinearRegression\n",
    "from sklearn.ensemble import GradientBoostingRegressor\n",
    "from sklearn.ensemble import RandomForestRegressor\n",
    "from sklearn.ensemble import VotingRegressor"
   ]
  },
  {
   "cell_type": "code",
   "execution_count": 110,
   "metadata": {
    "id": "toBoZ5I_EEy3"
   },
   "outputs": [],
   "source": [
    "model1 = LinearRegression()\n",
    "model2 = GradientBoostingRegressor()\n",
    "model3 = RandomForestRegressor()\n",
    "vote_model = VotingRegressor(\n",
    "    estimators= [('linear', model1), ('gbr', model2), ('rfr', model3)],\n",
    "    weights=[1, 1, 1]\n",
    ")"
   ]
  },
  {
   "cell_type": "code",
   "execution_count": 111,
   "metadata": {
    "colab": {
     "base_uri": "https://localhost:8080/",
     "height": 87
    },
    "id": "jvwefdFDEYvz",
    "outputId": "598cbee9-7a8c-46bf-8eec-8de7f8aad2cc"
   },
   "outputs": [
    {
     "name": "stdout",
     "output_type": "stream",
     "text": [
      "R2: 0.35 (+/- 0.38) [LinearRegression]\n",
      "R2: 0.67 (+/- 0.16) [GradientBoostingRegressor]\n",
      "R2: 0.63 (+/- 0.20) [RandomForestRegressor]\n",
      "R2: 0.66 (+/- 0.20) [VotingRegressor]\n"
     ]
    }
   ],
   "source": [
    "for model in (model1, model2, model3, vote_model):\n",
    "    model_name = str(type(model)).split('.')[-1][:-2]\n",
    "    scores = cross_val_score(model, boston.data, boston.target, cv=5)\n",
    "    print('R2: %0.2f (+/- %0.2f) [%s]' % (scores.mean(), scores.std(), model_name))"
   ]
  },
  {
   "cell_type": "markdown",
   "metadata": {
    "id": "ArvS3YLlMgvM"
   },
   "source": [
    "### 회귀식 시각화"
   ]
  },
  {
   "cell_type": "code",
   "execution_count": 119,
   "metadata": {
    "id": "SB_Bx4hKPs9-"
   },
   "outputs": [],
   "source": [
    "X = boston.data[:, 0].reshape(-1, 1)\n",
    "y = boston.target"
   ]
  },
  {
   "cell_type": "code",
   "execution_count": 120,
   "metadata": {
    "id": "FEpQ0g-0Pwn8"
   },
   "outputs": [],
   "source": [
    "model1 = LinearRegression()\n",
    "model2 = GradientBoostingRegressor()\n",
    "model3 = RandomForestRegressor()\n",
    "vote_model = VotingRegressor(\n",
    "    estimators= [('linear', model1), ('gbr', model2), ('rfr', model3)],\n",
    "    weights=[1, 1, 1]\n",
    ")\n",
    "\n",
    "model1 = model1.fit(X, y)\n",
    "model2 = model2.fit(X, y)\n",
    "model3 = model3.fit(X, y)\n",
    "vote_model = vote_model.fit(X, y)"
   ]
  },
  {
   "cell_type": "code",
   "execution_count": 121,
   "metadata": {
    "id": "z1o_9XWKQthC"
   },
   "outputs": [],
   "source": [
    "x_min, x_max = X.min()-1, X.max()+1\n",
    "xx = np.arange(x_min-1, x_max+1, 0.1)"
   ]
  },
  {
   "cell_type": "code",
   "execution_count": 122,
   "metadata": {
    "colab": {
     "base_uri": "https://localhost:8080/",
     "height": 494
    },
    "id": "umDuzyVDOML5",
    "outputId": "3ddb2381-8133-4a31-d19a-b2269491646a"
   },
   "outputs": [
    {
     "data": {
      "image/png": "[encoded data removed]",
      "text/plain": [
       "<Figure size 864x576 with 4 Axes>"
      ]
     },
     "metadata": {},
     "output_type": "display_data"
    }
   ],
   "source": [
    "f, axarr = plt.subplots(2, 2, sharex='col', sharey='row', figsize=(12, 8))\n",
    "\n",
    "for idx, model, tt in zip(product([0, 1], [0, 1]),\n",
    "                         [model1, model2, model3, vote_model],\n",
    "                         ['Linear Regression', 'Gradient Boosting', 'Random Forest', 'Voting']):\n",
    "    Z = model.predict(xx.reshape(-1, 1))\n",
    "    \n",
    "    axarr[idx[0], idx[1]].plot(xx, Z, c='r')\n",
    "    axarr[idx[0], idx[1]].scatter(X, y, s=20, edgecolors='k')\n",
    "    axarr[idx[0], idx[1]].set_title(tt)\n",
    "    \n",
    "plt.show()"
   ]
  },
  {
   "cell_type": "markdown",
   "metadata": {
    "id": "kWWPpi2hVaGe"
   },
   "source": [
    "## 스택 일반화 (Stacked Generalization)\n",
    "\n",
    "* 각 모델의 예측 값을 최종 모델의 입력으로 사용\n",
    "* 모델의 편향을 줄이는데 효과적"
   ]
  },
  {
   "cell_type": "markdown",
   "metadata": {
    "id": "EfJBCBFSXaa3"
   },
   "source": [
    "### 스택 회귀"
   ]
  },
  {
   "cell_type": "code",
   "execution_count": 147,
   "metadata": {
    "id": "Ai4cpbSpUanA"
   },
   "outputs": [],
   "source": [
    "from sklearn.linear_model import Ridge, Lasso\n",
    "from sklearn.svm import SVR\n",
    "from sklearn.ensemble import GradientBoostingRegressor\n",
    "from sklearn.ensemble import StackingRegressor"
   ]
  },
  {
   "cell_type": "code",
   "execution_count": 148,
   "metadata": {
    "id": "22wwT8jDXf6D"
   },
   "outputs": [],
   "source": [
    "estimators = [('ridge', Ridge()),\n",
    "             ('lasso', Lasso()),\n",
    "             ('svr', SVR())]"
   ]
  },
  {
   "cell_type": "code",
   "execution_count": 149,
   "metadata": {
    "id": "GcWHiyQ7YAsh"
   },
   "outputs": [],
   "source": [
    "reg = make_pipeline(\n",
    "    StandardScaler(),\n",
    "    StackingRegressor(\n",
    "        estimators=estimators,\n",
    "        final_estimator=GradientBoostingRegressor()\n",
    "    )\n",
    ")"
   ]
  },
  {
   "cell_type": "code",
   "execution_count": 150,
   "metadata": {
    "colab": {
     "base_uri": "https://localhost:8080/",
     "height": 69
    },
    "id": "Vtf-Qegjlsz6",
    "outputId": "9b8b25db-6779-4b6e-bebc-fbdd6bf98dbb"
   },
   "outputs": [
    {
     "name": "stdout",
     "output_type": "stream",
     "text": [
      "avg fit time: 0.10351815223693847 (+/- 0.0015920563502033686)\n",
      "avg score time: 0.004388141632080078 (+/- 0.0004883829724256475)\n",
      "avg test score: 0.32402821652339664 (+/- 0.32950785867106985)\n"
     ]
    }
   ],
   "source": [
    "cross_val = cross_validate(\n",
    "    estimator=reg,\n",
    "    X=boston.data, y=boston.target,\n",
    "    cv=5\n",
    ")\n",
    "\n",
    "print('avg fit time: {} (+/- {})'.format(cross_val['fit_time'].mean(), cross_val['fit_time'].std()))\n",
    "print('avg score time: {} (+/- {})'.format(cross_val['score_time'].mean(), cross_val['score_time'].std()))\n",
    "print('avg test score: {} (+/- {})'.format(cross_val['test_score'].mean(), cross_val['test_score'].std()))"
   ]
  },
  {
   "cell_type": "markdown",
   "metadata": {
    "id": "Is4akp2ePaax"
   },
   "source": [
    "#### 회귀식 시각화"
   ]
  },
  {
   "cell_type": "code",
   "execution_count": 151,
   "metadata": {
    "id": "SB_Bx4hKPs9-"
   },
   "outputs": [],
   "source": [
    "X = boston.data[:, 0].reshape(-1, 1)\n",
    "y = boston.target"
   ]
  },
  {
   "cell_type": "code",
   "execution_count": 152,
   "metadata": {
    "id": "FEpQ0g-0Pwn8"
   },
   "outputs": [],
   "source": [
    "model1 = Ridge()\n",
    "model2 = Lasso()\n",
    "model3 = SVR()\n",
    "reg = make_pipeline(\n",
    "    StandardScaler(),\n",
    "    StackingRegressor(\n",
    "        estimators=estimators,\n",
    "        final_estimator=GradientBoostingRegressor()\n",
    "    )\n",
    ")\n",
    "\n",
    "model1 = model1.fit(X, y)\n",
    "model2 = model2.fit(X, y)\n",
    "model3 = model3.fit(X, y)\n",
    "reg = reg.fit(X, y)"
   ]
  },
  {
   "cell_type": "code",
   "execution_count": 153,
   "metadata": {
    "colab": {
     "base_uri": "https://localhost:8080/",
     "height": 494
    },
    "id": "umDuzyVDOML5",
    "outputId": "3ddb2381-8133-4a31-d19a-b2269491646a"
   },
   "outputs": [
    {
     "data": {
      "image/png": "[encoded data removed]",
      "text/plain": [
       "<Figure size 864x576 with 4 Axes>"
      ]
     },
     "metadata": {},
     "output_type": "display_data"
    }
   ],
   "source": [
    "x_min, x_max = X.min()-1, X.max()+1\n",
    "xx = np.arange(x_min-1, x_max+1, 0.1)\n",
    "\n",
    "f, axarr = plt.subplots(2, 2, sharex='col', sharey='row', figsize=(12, 8))\n",
    "\n",
    "for idx, model, tt in zip(product([0, 1], [0, 1]),\n",
    "                         [model1, model2, model3, reg],\n",
    "                         ['Ridge', 'Lasso', 'SVR', 'Reg']):\n",
    "    Z = model.predict(xx.reshape(-1, 1))\n",
    "    \n",
    "    axarr[idx[0], idx[1]].plot(xx, Z, c='r')\n",
    "    axarr[idx[0], idx[1]].scatter(X, y, s=20, edgecolors='k')\n",
    "    axarr[idx[0], idx[1]].set_title(tt)\n",
    "    \n",
    "plt.show()"
   ]
  },
  {
   "cell_type": "markdown",
   "metadata": {
    "id": "qcDf7iN1ZybO"
   },
   "source": [
    "### 스택 분류"
   ]
  },
  {
   "cell_type": "code",
   "execution_count": 154,
   "metadata": {
    "id": "_5HNrFRtZxqZ"
   },
   "outputs": [],
   "source": [
    "from sklearn.linear_model import LogisticRegression\n",
    "from sklearn.svm import SVC\n",
    "from sklearn.naive_bayes import GaussianNB\n",
    "from sklearn.ensemble import RandomForestClassifier\n",
    "from sklearn.ensemble import StackingClassifier"
   ]
  },
  {
   "cell_type": "code",
   "execution_count": 155,
   "metadata": {
    "id": "IZn3h6vDaJ8i"
   },
   "outputs": [],
   "source": [
    "estimators = [('logistic', LogisticRegression(max_iter=10000)),\n",
    "           ('svc', SVC()),\n",
    "           ('naive', GaussianNB())]"
   ]
  },
  {
   "cell_type": "code",
   "execution_count": 156,
   "metadata": {
    "id": "KTFUC1IsaarE"
   },
   "outputs": [],
   "source": [
    "clf = StackingClassifier(\n",
    "    estimators=estimators,\n",
    "    final_estimator=RandomForestClassifier()\n",
    ")"
   ]
  },
  {
   "cell_type": "code",
   "execution_count": 157,
   "metadata": {
    "colab": {
     "base_uri": "https://localhost:8080/",
     "height": 69
    },
    "id": "Vtf-Qegjlsz6",
    "outputId": "9b8b25db-6779-4b6e-bebc-fbdd6bf98dbb"
   },
   "outputs": [
    {
     "name": "stdout",
     "output_type": "stream",
     "text": [
      "avg fit time: 0.21582279205322266 (+/- 0.003439988032000522)\n",
      "avg score time: 0.007984113693237305 (+/- 0.0006306363212827301)\n",
      "avg test score: 0.9666666666666666 (+/- 0.02108185106778919)\n"
     ]
    }
   ],
   "source": [
    "cross_val = cross_validate(\n",
    "    estimator=clf,\n",
    "    X=iris.data, y=iris.target,\n",
    "    cv=5\n",
    ")\n",
    "\n",
    "print('avg fit time: {} (+/- {})'.format(cross_val['fit_time'].mean(), cross_val['fit_time'].std()))\n",
    "print('avg score time: {} (+/- {})'.format(cross_val['score_time'].mean(), cross_val['score_time'].std()))\n",
    "print('avg test score: {} (+/- {})'.format(cross_val['test_score'].mean(), cross_val['test_score'].std()))"
   ]
  },
  {
   "cell_type": "markdown",
   "metadata": {
    "id": "m2NyQnIqQxg9"
   },
   "source": [
    "#### 결정 경계 시각화"
   ]
  },
  {
   "cell_type": "code",
   "execution_count": 158,
   "metadata": {
    "id": "SB_Bx4hKPs9-"
   },
   "outputs": [],
   "source": [
    "X = iris.data[:, [0, 2]]\n",
    "y = iris.target"
   ]
  },
  {
   "cell_type": "code",
   "execution_count": 159,
   "metadata": {
    "id": "FEpQ0g-0Pwn8"
   },
   "outputs": [],
   "source": [
    "model1 = LogisticRegression(max_iter=10000)\n",
    "model2 = SVC()\n",
    "model3 = GaussianNB()\n",
    "stack = StackingClassifier(\n",
    "    estimators=estimators,\n",
    "    final_estimator=RandomForestClassifier()\n",
    ")\n",
    "\n",
    "model1 = model1.fit(X, y)\n",
    "model2 = model2.fit(X, y)\n",
    "model3 = model3.fit(X, y)\n",
    "stack = stack.fit(X, y)"
   ]
  },
  {
   "cell_type": "code",
   "execution_count": 160,
   "metadata": {
    "id": "z1o_9XWKQthC"
   },
   "outputs": [],
   "source": [
    "x_min, x_max = X[:, 0].min()-1, X[:, 0].max()+1\n",
    "y_min, y_max = X[:, 1].min()-1, X[:, 1].max()+1\n",
    "xx, yy = np.meshgrid(np.arange(x_min, x_max, 0.1),\n",
    "                    np.arange(y_min, y_max, 0.1))"
   ]
  },
  {
   "cell_type": "code",
   "execution_count": 161,
   "metadata": {
    "colab": {
     "base_uri": "https://localhost:8080/",
     "height": 494
    },
    "id": "umDuzyVDOML5",
    "outputId": "3ddb2381-8133-4a31-d19a-b2269491646a",
    "scrolled": true
   },
   "outputs": [
    {
     "data": {
      "image/png": "[encoded data removed]",
      "text/plain": [
       "<Figure size 864x576 with 4 Axes>"
      ]
     },
     "metadata": {},
     "output_type": "display_data"
    }
   ],
   "source": [
    "f, axarr = plt.subplots(2, 2, sharex='col', sharey='row', figsize=(12, 8))\n",
    "\n",
    "for idx, model, tt in zip(product([0, 1], [0, 1]),\n",
    "                         [model1, model2, model3, stack],\n",
    "                         ['Logistic Regression', 'SVC',\n",
    "                         'GaussianNB', 'Stack']):\n",
    "    Z = model.predict(np.c_[xx.ravel(), yy.ravel()])\n",
    "    Z = Z.reshape(xx.shape)\n",
    "    \n",
    "    axarr[idx[0], idx[1]].contourf(xx, yy, Z, alpha=0.4)\n",
    "    axarr[idx[0], idx[1]].scatter(X[:, 0], X[:, 1], c=y, s=20, edgecolors='k')\n",
    "    axarr[idx[0], idx[1]].set_title(tt)\n",
    "    \n",
    "plt.show()"
   ]
  }
 ],
 "metadata": {
  "colab": {
   "collapsed_sections": [],
   "name": "_9 앙상블(Ensemble).ipynb",
   "provenance": []
  },
  "kernelspec": {
   "display_name": "Python 3",
   "language": "python",
   "name": "python3"
  },
  "language_info": {
   "codemirror_mode": {
    "name": "ipython",
    "version": 3
   },
   "file_extension": ".py",
   "mimetype": "text/x-python",
   "name": "python",
   "nbconvert_exporter": "python",
   "pygments_lexer": "ipython3",
   "version": "3.8.8"
  }
 },
 "nbformat": 4,
 "nbformat_minor": 1
}
