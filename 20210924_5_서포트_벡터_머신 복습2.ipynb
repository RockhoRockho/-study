{
 "cells": [
  {
   "cell_type": "markdown",
   "metadata": {
    "id": "g63soNOvFUSa"
   },
   "source": [
    "# 서포트 벡터 머신(Support Vector Machines)"
   ]
  },
  {
   "cell_type": "markdown",
   "metadata": {
    "id": "Rrbp02Mk5CDA"
   },
   "source": [
    "* 회귀, 분류, 이상치 탐지 등에 사용되는 지도학습 방법\n",
    "* 클래스 사이의 경계에 위치한 데이터 포인트를 서포트 벡터(support vector)라고 함\n",
    "* 각 지지 벡터가 클래스 사이의 결정 경계를 구분하는데 얼마나 중요한지를 학습\n",
    "* 각 지지 벡터 사이의 마진이 가장 큰 방향으로 학습\n",
    "* 지지 벡터 까지의 거리와 지지 벡터의 중요도를 기반으로 예측을 수행\n",
    "\n",
    "![support vector machine](https://upload.wikimedia.org/wikipedia/commons/thumb/2/20/Svm_separating_hyperplanes.png/220px-Svm_separating_hyperplanes.png)\n",
    "\n",
    "* H3은 두 클래스의 점들을 제대로 분류하고 있지 않음\n",
    "* H1과 H2는 두 클래스의 점들을 분류하는데, H2가 H1보다 더 큰 마진을 갖고 분류하는 것을 확인할 수 있음"
   ]
  },
  {
   "cell_type": "code",
   "execution_count": 1,
   "metadata": {
    "id": "zBilnkAn4_U3"
   },
   "outputs": [],
   "source": [
    "import multiprocessing\n",
    "import pandas as pd\n",
    "import numpy as np\n",
    "import matplotlib.pyplot as plt\n",
    "plt.style.use(['seaborn-whitegrid'])"
   ]
  },
  {
   "cell_type": "code",
   "execution_count": 2,
   "metadata": {
    "id": "1YRJRPy6hTe0"
   },
   "outputs": [],
   "source": [
    "from sklearn.svm import SVR, SVC\n",
    "from sklearn.datasets import load_boston, load_diabetes\n",
    "from sklearn.datasets import load_breast_cancer,load_iris, load_wine\n",
    "from sklearn.pipeline import make_pipeline, Pipeline\n",
    "from sklearn.model_selection import train_test_split, cross_validate, GridSearchCV\n",
    "from sklearn.preprocessing import StandardScaler, MinMaxScaler\n",
    "from sklearn.manifold import TSNE"
   ]
  },
  {
   "cell_type": "markdown",
   "metadata": {
    "id": "UxS0mPsCh4l0"
   },
   "source": [
    "## SVM을 이용한 회귀 모델과 분류 모델"
   ]
  },
  {
   "cell_type": "markdown",
   "metadata": {
    "id": "NTtcx3p8wtNX"
   },
   "source": [
    "### SVM을 사용한 회귀 모델 (SVR)"
   ]
  },
  {
   "cell_type": "code",
   "execution_count": 3,
   "metadata": {
    "id": "sCrhSrMf5BqB"
   },
   "outputs": [
    {
     "name": "stdout",
     "output_type": "stream",
     "text": [
      "학습 데이터 점수: 0.21772837063748762\n",
      "평가 데이터 점수: 0.13544178468518187\n"
     ]
    }
   ],
   "source": [
    "X, y = load_boston(return_X_y=True)\n",
    "X_train, X_test, y_train, y_test = train_test_split(X, y, random_state=123)\n",
    "\n",
    "model = SVR()\n",
    "model.fit(X_train, y_train)\n",
    "\n",
    "print(\"학습 데이터 점수: {}\".format(model.score(X_train, y_train)))\n",
    "print(\"평가 데이터 점수: {}\".format(model.score(X_test, y_test)))"
   ]
  },
  {
   "cell_type": "markdown",
   "metadata": {
    "id": "CQraX6MzwvtE"
   },
   "source": [
    "### SVM을 사용한 분류 모델 (SVC)"
   ]
  },
  {
   "cell_type": "code",
   "execution_count": 4,
   "metadata": {
    "id": "bnh5fS8gFbtK"
   },
   "outputs": [
    {
     "name": "stdout",
     "output_type": "stream",
     "text": [
      "학습 데이터 점수: 0.9014084507042254\n",
      "평가 데이터 점수: 0.9230769230769231\n"
     ]
    }
   ],
   "source": [
    "X, y = load_breast_cancer(return_X_y=True)\n",
    "X_train, X_test, y_train, y_test = train_test_split(X, y, random_state=123)\n",
    "\n",
    "model = SVC()\n",
    "model.fit(X_train, y_train)\n",
    "\n",
    "print(\"학습 데이터 점수: {}\".format(model.score(X_train, y_train)))\n",
    "print(\"평가 데이터 점수: {}\".format(model.score(X_test, y_test)))"
   ]
  },
  {
   "cell_type": "markdown",
   "metadata": {
    "id": "zgd_dvKrGeFh"
   },
   "source": [
    "## 커널 기법\n",
    "\n",
    "* 입력 데이터를 고차원 공간에 사상해서 비선형 특징을 학습할 수 있도록 확장하는 방법\n",
    "* scikit-learn에서는 Linear, Polynomial, RBF(Radial Basis Function)등 다양한 커널 기법을 지원\n",
    "\n",
    "![kernel trick](https://scikit-learn.org/stable/_images/sphx_glr_plot_iris_svc_0011.png)"
   ]
  },
  {
   "cell_type": "code",
   "execution_count": 5,
   "metadata": {
    "id": "Azq1UJtZF8sU"
   },
   "outputs": [
    {
     "name": "stdout",
     "output_type": "stream",
     "text": [
      "Linear SVR 학습 데이터 점수: 0.7155066205123104\n",
      "Linear SVR 평가 데이터 점수: 0.6380398541381507\n",
      "Polynomial SVR 학습 데이터 점수: 0.7155066205123104\n",
      "Polynomial SVR 평가 데이터 점수: 0.6380398541381507\n",
      "RBF SVR 학습 데이터 점수: 0.7155066205123104\n",
      "RBF SVR 평가 데이터 점수: 0.6380398541381507\n"
     ]
    }
   ],
   "source": [
    "X, y = load_boston(return_X_y=True)\n",
    "X_train, X_test, y_train, y_test = train_test_split(X, y, random_state=123)\n",
    "\n",
    "linear_svr = SVR(kernel='linear')\n",
    "linear_svr.fit(X_train, y_train)\n",
    "\n",
    "print('Linear SVR 학습 데이터 점수: {}'.format(linear_svr.score(X_train, y_train)))\n",
    "print('Linear SVR 평가 데이터 점수: {}'.format(linear_svr.score(X_test, y_test)))\n",
    "\n",
    "polynomial_svr = SVR(kernel='poly')\n",
    "polynomial_svr.fit(X_train, y_train)\n",
    "\n",
    "print('Polynomial SVR 학습 데이터 점수: {}'.format(linear_svr.score(X_train, y_train)))\n",
    "print('Polynomial SVR 평가 데이터 점수: {}'.format(linear_svr.score(X_test, y_test)))\n",
    "\n",
    "rbf_svr = SVR(kernel='rbf')\n",
    "rbf_svr.fit(X_train, y_train)\n",
    "\n",
    "print('RBF SVR 학습 데이터 점수: {}'.format(linear_svr.score(X_train, y_train)))\n",
    "print('RBF SVR 평가 데이터 점수: {}'.format(linear_svr.score(X_test, y_test)))"
   ]
  },
  {
   "cell_type": "code",
   "execution_count": 6,
   "metadata": {
    "id": "KuvRIzarJO0H"
   },
   "outputs": [
    {
     "name": "stdout",
     "output_type": "stream",
     "text": [
      "Linear SVC 학습 데이터 점수: 0.26057518952257797\n",
      "Linear SVC 평가 데이터 점수: -0.0261508938933126\n",
      "Polynomial SVR 학습 데이터 점수: 0.5492121168675824\n",
      "Polynomial SVR 평가 데이터 점수: 0.33076721394152164\n",
      "RBF SVR 학습 데이터 점수: 0.7141833202421761\n",
      "RBF SVR 평가 데이터 점수: 0.7625209396028008\n"
     ]
    }
   ],
   "source": [
    "X, y = load_breast_cancer(return_X_y=True)\n",
    "X_train, X_test, y_train, y_test = train_test_split(X, y, random_state=123)\n",
    "\n",
    "linear_svr = SVR(kernel='linear')\n",
    "linear_svr.fit(X_train, y_train)\n",
    "\n",
    "print('Linear SVC 학습 데이터 점수: {}'.format(linear_svr.score(X_train, y_train)))\n",
    "print('Linear SVC 평가 데이터 점수: {}'.format(linear_svr.score(X_test, y_test)))\n",
    "\n",
    "polynomial_svr = SVR(kernel='poly')\n",
    "polynomial_svr.fit(X_train, y_train)\n",
    "\n",
    "print('Polynomial SVR 학습 데이터 점수: {}'.format(polynomial_svr.score(X_train, y_train)))\n",
    "print('Polynomial SVR 평가 데이터 점수: {}'.format(polynomial_svr.score(X_test, y_test)))\n",
    "\n",
    "rbf_svr = SVR(kernel='rbf')\n",
    "rbf_svr.fit(X_train, y_train)\n",
    "\n",
    "print('RBF SVR 학습 데이터 점수: {}'.format(rbf_svr.score(X_train, y_train)))\n",
    "print('RBF SVR 평가 데이터 점수: {}'.format(rbf_svr.score(X_test, y_test)))"
   ]
  },
  {
   "cell_type": "markdown",
   "metadata": {
    "id": "ysbUu5o3Lm2V"
   },
   "source": [
    "## 매개변수 튜닝\n",
    "\n",
    "* SVM은 사용하는 커널에 따라 다양한 매개변수 설정 가능\n",
    "* 매개변수를 변경하면서 성능변화를 관찰"
   ]
  },
  {
   "cell_type": "code",
   "execution_count": 7,
   "metadata": {
    "id": "JyCxM4abOZyO"
   },
   "outputs": [],
   "source": [
    "X, y = load_breast_cancer(return_X_y = True)\n",
    "X_train, X_test, y_train, y_test = train_test_split(X, y, random_state=123)"
   ]
  },
  {
   "cell_type": "code",
   "execution_count": 8,
   "metadata": {
    "id": "QN4BSxiaJspb"
   },
   "outputs": [
    {
     "name": "stdout",
     "output_type": "stream",
     "text": [
      "kernel=poly, degree=2, C=-0.1, gamma=auto\n",
      "Polynomial SVC 학습 데이터 점수: 0.993006993006993\n",
      "Polynomial SVC 평가 데이터 점수: 0.993006993006993\n"
     ]
    }
   ],
   "source": [
    "polynomial_svc = SVC(kernel='poly', degree=2, C=0.1, gamma='auto')\n",
    "polynomial_svc.fit(X_train, y_train)\n",
    "\n",
    "print('kernel=poly, degree={}, C={}, gamma={}'.format(2, 0-.1, 'auto'))\n",
    "print('Polynomial SVC 학습 데이터 점수: {}'.format(polynomial_svc.score(X_test, y_test)))\n",
    "print('Polynomial SVC 평가 데이터 점수: {}'.format(polynomial_svc.score(X_test, y_test)))"
   ]
  },
  {
   "cell_type": "code",
   "execution_count": 9,
   "metadata": {
    "id": "P7hOhO1oOvVC"
   },
   "outputs": [
    {
     "name": "stdout",
     "output_type": "stream",
     "text": [
      "kernel=poly, C=2.0, gamma=scale\n",
      "RBF SVC 학습 데이터 점수: 0.9154929577464789\n",
      "RBF SVC 평가 데이터 점수: 0.9370629370629371\n"
     ]
    }
   ],
   "source": [
    "rbf_svc = SVC(kernel='rbf', C=2.0, gamma='scale')\n",
    "rbf_svc.fit(X_train, y_train)\n",
    "\n",
    "print('kernel=poly, C={}, gamma={}'.format(2.0, 'scale'))\n",
    "print('RBF SVC 학습 데이터 점수: {}'.format(rbf_svc.score(X_train, y_train)))\n",
    "print('RBF SVC 평가 데이터 점수: {}'.format(rbf_svc.score(X_test, y_test)))"
   ]
  },
  {
   "cell_type": "markdown",
   "metadata": {
    "id": "aEQL8h8WU0An"
   },
   "source": [
    "## 데이터 전처리\n",
    "\n",
    "* SVM은 입력 데이터가 정규화 되어야 좋은 성능을 보임\n",
    "* 주로 모든 특성 값을 [0, 1] 범위로 맞추는 방법을 사용\n",
    "* scikit-learn의 StandardScaler 또는 MinMaxScaler를 사용해 정규화"
   ]
  },
  {
   "cell_type": "code",
   "execution_count": 10,
   "metadata": {
    "id": "RujhqUOsVU73"
   },
   "outputs": [],
   "source": [
    "X, y = load_breast_cancer(return_X_y=True)\n",
    "X_train, X_test, y_train, y_test = train_test_split(X, y, random_state=123)"
   ]
  },
  {
   "cell_type": "code",
   "execution_count": 11,
   "metadata": {
    "id": "DWau9A6UWds4"
   },
   "outputs": [
    {
     "name": "stdout",
     "output_type": "stream",
     "text": [
      "SVC 학습 데이터 점수: 0.9014084507042254\n",
      "SVC 평가 데이터 점수: 0.9230769230769231\n"
     ]
    }
   ],
   "source": [
    "model = SVC()\n",
    "model.fit(X_train, y_train)\n",
    "\n",
    "print('SVC 학습 데이터 점수: {}'.format(model.score(X_train, y_train)))\n",
    "print('SVC 평가 데이터 점수: {}'.format(model.score(X_test, y_test)))"
   ]
  },
  {
   "cell_type": "code",
   "execution_count": 12,
   "metadata": {
    "id": "y_ScHENS0ssY"
   },
   "outputs": [],
   "source": [
    "scaler = StandardScaler()\n",
    "X_train = scaler.fit_transform(X_train)\n",
    "X_test = scaler.transform(X_test)"
   ]
  },
  {
   "cell_type": "code",
   "execution_count": 13,
   "metadata": {
    "id": "R2_4R6JE0ssi"
   },
   "outputs": [
    {
     "name": "stdout",
     "output_type": "stream",
     "text": [
      "SVC 학습 데이터 점수: 0.9835680751173709\n",
      "SVC 평가 데이터 점수: 0.986013986013986\n"
     ]
    }
   ],
   "source": [
    "model = SVC()\n",
    "model.fit(X_train, y_train)\n",
    "\n",
    "print('SVC 학습 데이터 점수: {}'.format(model.score(X_train, y_train)))\n",
    "print('SVC 평가 데이터 점수: {}'.format(model.score(X_test, y_test)))"
   ]
  },
  {
   "cell_type": "code",
   "execution_count": 14,
   "metadata": {
    "id": "_EVkj33WVQOu"
   },
   "outputs": [],
   "source": [
    "scaler = MinMaxScaler()\n",
    "X_train = scaler.fit_transform(X_train)\n",
    "X_test = scaler.transform(X_test)"
   ]
  },
  {
   "cell_type": "code",
   "execution_count": 15,
   "metadata": {
    "id": "D7Kj3q_bVmeN"
   },
   "outputs": [
    {
     "name": "stdout",
     "output_type": "stream",
     "text": [
      "SVC 학습 데이터 점수: 0.9812206572769953\n",
      "SVC 평가 데이터 점수: 0.986013986013986\n"
     ]
    }
   ],
   "source": [
    "model = SVC()\n",
    "model.fit(X_train, y_train)\n",
    "\n",
    "print('SVC 학습 데이터 점수: {}'.format(model.score(X_train, y_train)))\n",
    "print('SVC 평가 데이터 점수: {}'.format(model.score(X_test, y_test)))"
   ]
  },
  {
   "cell_type": "markdown",
   "metadata": {
    "id": "zLjtZC7gYr7R"
   },
   "source": [
    "## Linear SVR"
   ]
  },
  {
   "cell_type": "markdown",
   "metadata": {
    "id": "tbZicmjAZBZp"
   },
   "source": [
    "### 보스턴 주택 가격"
   ]
  },
  {
   "cell_type": "code",
   "execution_count": 16,
   "metadata": {
    "id": "X39InXCSYuPf"
   },
   "outputs": [],
   "source": [
    "X, y = load_boston(return_X_y=True)\n",
    "X_train, X_test, y_train, y_test = train_test_split(X, y, test_size=0.2)"
   ]
  },
  {
   "cell_type": "code",
   "execution_count": 17,
   "metadata": {
    "id": "I1TKwSKhdLaU"
   },
   "outputs": [],
   "source": [
    "scaler = StandardScaler()\n",
    "scaler.fit(X_train)\n",
    "X_train = scaler.transform(X_train)\n",
    "X_test = scaler.transform(X_test)"
   ]
  },
  {
   "cell_type": "code",
   "execution_count": 18,
   "metadata": {
    "id": "deIvkeKRZqTU"
   },
   "outputs": [
    {
     "data": {
      "text/plain": [
       "SVR(kernel='linear')"
      ]
     },
     "execution_count": 18,
     "metadata": {},
     "output_type": "execute_result"
    }
   ],
   "source": [
    "model = SVR(kernel='linear')\n",
    "model.fit(X_train, y_train)"
   ]
  },
  {
   "cell_type": "code",
   "execution_count": 19,
   "metadata": {
    "id": "zEknoMb5aRBt"
   },
   "outputs": [
    {
     "name": "stdout",
     "output_type": "stream",
     "text": [
      "학습 데이터 점수: 0.6904793500964637\n",
      "평가 데이터 점수: 0.7690742196117539\n"
     ]
    }
   ],
   "source": [
    "print('학습 데이터 점수: {}'.format(model.score(X_train, y_train)))\n",
    "print('평가 데이터 점수: {}'.format(model.score(X_test, y_test)))"
   ]
  },
  {
   "cell_type": "code",
   "execution_count": 20,
   "metadata": {
    "id": "S3ipWjbFiete"
   },
   "outputs": [
    {
     "data": {
      "text/plain": [
       "<matplotlib.collections.PathCollection at 0x2100b30a3a0>"
      ]
     },
     "execution_count": 20,
     "metadata": {},
     "output_type": "execute_result"
    },
    {
     "data": {
      "image/png": "[encoded data removed]",
      "text/plain": [
       "<Figure size 432x288 with 1 Axes>"
      ]
     },
     "metadata": {},
     "output_type": "display_data"
    }
   ],
   "source": [
    "X_comp = TSNE(n_components=1).fit_transform(X)\n",
    "plt.scatter(X_comp, y)"
   ]
  },
  {
   "cell_type": "code",
   "execution_count": 21,
   "metadata": {
    "id": "IqLc69hojcIr"
   },
   "outputs": [
    {
     "data": {
      "text/plain": [
       "<matplotlib.collections.PathCollection at 0x2100ba78910>"
      ]
     },
     "execution_count": 21,
     "metadata": {},
     "output_type": "execute_result"
    },
    {
     "data": {
      "image/png": "[encoded data removed]",
      "text/plain": [
       "<Figure size 432x288 with 1 Axes>"
      ]
     },
     "metadata": {},
     "output_type": "display_data"
    }
   ],
   "source": [
    "model.fit(X_comp, y)\n",
    "predict = model.predict(X_comp)\n",
    "plt.scatter(X_comp, y)\n",
    "plt.scatter(X_comp, predict, color='r')"
   ]
  },
  {
   "cell_type": "code",
   "execution_count": 22,
   "metadata": {
    "id": "YzGeXLmZbGY7"
   },
   "outputs": [
    {
     "name": "stderr",
     "output_type": "stream",
     "text": [
      "[Parallel(n_jobs=6)]: Using backend LokyBackend with 6 concurrent workers.\n",
      "[Parallel(n_jobs=6)]: Done   5 out of   5 | elapsed:    2.3s finished\n"
     ]
    },
    {
     "data": {
      "text/plain": [
       "{'fit_time': array([0.0119679 , 0.01097035, 0.01097083, 0.01196837, 0.01097131]),\n",
       " 'score_time': array([0.00099683, 0.00199437, 0.00099754, 0.00099754, 0.00199461]),\n",
       " 'test_score': array([0.76908568, 0.72180141, 0.56428426, 0.14083339, 0.07810211])}"
      ]
     },
     "execution_count": 22,
     "metadata": {},
     "output_type": "execute_result"
    }
   ],
   "source": [
    "estimator = make_pipeline(StandardScaler(), SVR(kernel='linear'))\n",
    "\n",
    "cross_validate(\n",
    "    estimator=estimator,\n",
    "    X=X, y=y,\n",
    "    cv=5,\n",
    "    n_jobs=multiprocessing.cpu_count(),\n",
    "    verbose=True\n",
    ")"
   ]
  },
  {
   "cell_type": "code",
   "execution_count": 23,
   "metadata": {
    "id": "Hfo2Z6T5jo73"
   },
   "outputs": [
    {
     "name": "stdout",
     "output_type": "stream",
     "text": [
      "Fitting 5 folds for each of 18 candidates, totalling 90 fits\n"
     ]
    },
    {
     "data": {
      "text/plain": [
       "GridSearchCV(cv=5,\n",
       "             estimator=Pipeline(steps=[('scaler', StandardScaler()),\n",
       "                                       ('model', SVR(kernel='linear'))]),\n",
       "             n_jobs=6,\n",
       "             param_grid=[{'model__C': [1.0, 0.1, 0.01],\n",
       "                          'model__epsilon': [1.0, 0.1, 0.01],\n",
       "                          'model__gamma': ['scale', 'auto']}],\n",
       "             verbose=True)"
      ]
     },
     "execution_count": 23,
     "metadata": {},
     "output_type": "execute_result"
    }
   ],
   "source": [
    "pipe = Pipeline([('scaler', StandardScaler()),\n",
    "                ('model', SVR(kernel='linear'))])\n",
    "\n",
    "param_grid = [{'model__gamma': ['scale', 'auto'],\n",
    "              'model__C' : [1.0, 0.1, 0.01],\n",
    "              'model__epsilon': [1.0, 0.1, 0.01]}]\n",
    "gs = GridSearchCV(\n",
    "    estimator=pipe,\n",
    "    param_grid=param_grid,\n",
    "    n_jobs=multiprocessing.cpu_count(),\n",
    "    cv=5,\n",
    "    verbose=True\n",
    ")\n",
    "gs.fit(X, y)"
   ]
  },
  {
   "cell_type": "code",
   "execution_count": 24,
   "metadata": {
    "id": "G1BG0w50iUNF"
   },
   "outputs": [
    {
     "data": {
      "text/plain": [
       "Pipeline(steps=[('scaler', StandardScaler()),\n",
       "                ('model', SVR(C=0.1, epsilon=1.0, kernel='linear'))])"
      ]
     },
     "execution_count": 24,
     "metadata": {},
     "output_type": "execute_result"
    }
   ],
   "source": [
    "gs.best_estimator_"
   ]
  },
  {
   "cell_type": "markdown",
   "metadata": {
    "id": "Tlmsj9sHlB_i"
   },
   "source": [
    "### 당뇨병"
   ]
  },
  {
   "cell_type": "code",
   "execution_count": 25,
   "metadata": {
    "id": "X39InXCSYuPf"
   },
   "outputs": [],
   "source": [
    "X, y = load_diabetes(return_X_y=True)\n",
    "X_train, X_test, y_train, y_test = train_test_split(X, y, test_size=0.2)"
   ]
  },
  {
   "cell_type": "code",
   "execution_count": 26,
   "metadata": {
    "id": "I1TKwSKhdLaU"
   },
   "outputs": [],
   "source": [
    "scaler = StandardScaler()\n",
    "scaler.fit(X_train)\n",
    "X_train = scaler.transform(X_train)\n",
    "X_test = scaler.transform(X_test)"
   ]
  },
  {
   "cell_type": "code",
   "execution_count": 27,
   "metadata": {
    "id": "deIvkeKRZqTU"
   },
   "outputs": [
    {
     "data": {
      "text/plain": [
       "SVR(kernel='linear')"
      ]
     },
     "execution_count": 27,
     "metadata": {},
     "output_type": "execute_result"
    }
   ],
   "source": [
    "model = SVR(kernel='linear')\n",
    "model.fit(X_train, y_train)"
   ]
  },
  {
   "cell_type": "code",
   "execution_count": 28,
   "metadata": {
    "id": "zEknoMb5aRBt"
   },
   "outputs": [
    {
     "name": "stdout",
     "output_type": "stream",
     "text": [
      "학습 데이터 점수: 0.4988178957944511\n",
      "평가 데이터 점수: 0.543874179946564\n"
     ]
    }
   ],
   "source": [
    "print('학습 데이터 점수: {}'.format(model.score(X_train, y_train)))\n",
    "print('평가 데이터 점수: {}'.format(model.score(X_test, y_test)))"
   ]
  },
  {
   "cell_type": "code",
   "execution_count": 29,
   "metadata": {
    "id": "S3ipWjbFiete"
   },
   "outputs": [
    {
     "data": {
      "text/plain": [
       "<matplotlib.collections.PathCollection at 0x2100bb44250>"
      ]
     },
     "execution_count": 29,
     "metadata": {},
     "output_type": "execute_result"
    },
    {
     "data": {
      "image/png": "[encoded data removed]",
      "text/plain": [
       "<Figure size 432x288 with 1 Axes>"
      ]
     },
     "metadata": {},
     "output_type": "display_data"
    }
   ],
   "source": [
    "X_comp = TSNE(n_components=1).fit_transform(X)\n",
    "plt.scatter(X_comp, y)"
   ]
  },
  {
   "cell_type": "code",
   "execution_count": 30,
   "metadata": {
    "id": "IqLc69hojcIr"
   },
   "outputs": [
    {
     "data": {
      "text/plain": [
       "<matplotlib.collections.PathCollection at 0x2100bb940a0>"
      ]
     },
     "execution_count": 30,
     "metadata": {},
     "output_type": "execute_result"
    },
    {
     "data": {
      "image/png": "[encoded data removed]",
      "text/plain": [
       "<Figure size 432x288 with 1 Axes>"
      ]
     },
     "metadata": {},
     "output_type": "display_data"
    }
   ],
   "source": [
    "model.fit(X_comp, y)\n",
    "predict = model.predict(X_comp)\n",
    "plt.scatter(X_comp, y)\n",
    "plt.scatter(X_comp, predict, color='r')"
   ]
  },
  {
   "cell_type": "code",
   "execution_count": 31,
   "metadata": {
    "id": "YzGeXLmZbGY7"
   },
   "outputs": [
    {
     "name": "stderr",
     "output_type": "stream",
     "text": [
      "[Parallel(n_jobs=6)]: Using backend LokyBackend with 6 concurrent workers.\n",
      "[Parallel(n_jobs=6)]: Done   5 out of   5 | elapsed:    0.0s finished\n"
     ]
    },
    {
     "data": {
      "text/plain": [
       "{'fit_time': array([0.00695848, 0.00498605, 0.00498605, 0.00598359, 0.00598407]),\n",
       " 'score_time': array([0.00199628, 0.00099754, 0.00199556, 0.00099802, 0.00199533]),\n",
       " 'test_score': array([0.43037242, 0.51653341, 0.48275332, 0.42247202, 0.53076481])}"
      ]
     },
     "execution_count": 31,
     "metadata": {},
     "output_type": "execute_result"
    }
   ],
   "source": [
    "estimator = make_pipeline(StandardScaler(), SVR(kernel='linear'))\n",
    "\n",
    "cross_validate(\n",
    "    estimator=estimator,\n",
    "    X=X, y=y,\n",
    "    cv=5,\n",
    "    n_jobs=multiprocessing.cpu_count(),\n",
    "    verbose=True\n",
    ")"
   ]
  },
  {
   "cell_type": "code",
   "execution_count": 32,
   "metadata": {
    "id": "Hfo2Z6T5jo73"
   },
   "outputs": [
    {
     "name": "stdout",
     "output_type": "stream",
     "text": [
      "Fitting 5 folds for each of 18 candidates, totalling 90 fits\n"
     ]
    },
    {
     "data": {
      "text/plain": [
       "GridSearchCV(cv=5,\n",
       "             estimator=Pipeline(steps=[('scaler', StandardScaler()),\n",
       "                                       ('model', SVR(kernel='linear'))]),\n",
       "             n_jobs=6,\n",
       "             param_grid=[{'model__C': [1.0, 0.1, 0.01],\n",
       "                          'model__epsilon': [1.0, 0.1, 0.01],\n",
       "                          'model__gamma': ['scale', 'auto']}],\n",
       "             verbose=True)"
      ]
     },
     "execution_count": 32,
     "metadata": {},
     "output_type": "execute_result"
    }
   ],
   "source": [
    "pipe = Pipeline([('scaler', StandardScaler()),\n",
    "                ('model', SVR(kernel='linear'))])\n",
    "\n",
    "param_grid = [{'model__gamma': ['scale', 'auto'],\n",
    "              'model__C' : [1.0, 0.1, 0.01],\n",
    "              'model__epsilon': [1.0, 0.1, 0.01]}]\n",
    "gs = GridSearchCV(\n",
    "    estimator=pipe,\n",
    "    param_grid=param_grid,\n",
    "    n_jobs=multiprocessing.cpu_count(),\n",
    "    cv=5,\n",
    "    verbose=True\n",
    ")\n",
    "gs.fit(X, y)"
   ]
  },
  {
   "cell_type": "code",
   "execution_count": 33,
   "metadata": {
    "id": "G1BG0w50iUNF"
   },
   "outputs": [
    {
     "data": {
      "text/plain": [
       "Pipeline(steps=[('scaler', StandardScaler()),\n",
       "                ('model', SVR(epsilon=1.0, kernel='linear'))])"
      ]
     },
     "execution_count": 33,
     "metadata": {},
     "output_type": "execute_result"
    }
   ],
   "source": [
    "gs.best_estimator_"
   ]
  },
  {
   "cell_type": "markdown",
   "metadata": {
    "id": "4d3ZxGT-rzSF"
   },
   "source": [
    "## Kernel SVR"
   ]
  },
  {
   "cell_type": "markdown",
   "metadata": {
    "id": "sJ4hf_LMr6i4"
   },
   "source": [
    "### 보스턴 주택 가격"
   ]
  },
  {
   "cell_type": "code",
   "execution_count": 34,
   "metadata": {
    "id": "X39InXCSYuPf"
   },
   "outputs": [],
   "source": [
    "X, y = load_boston(return_X_y=True)\n",
    "X_train, X_test, y_train, y_test = train_test_split(X, y, test_size=0.2)"
   ]
  },
  {
   "cell_type": "code",
   "execution_count": 35,
   "metadata": {
    "id": "I1TKwSKhdLaU"
   },
   "outputs": [],
   "source": [
    "scaler = StandardScaler()\n",
    "scaler.fit(X_train)\n",
    "X_train = scaler.transform(X_train)\n",
    "X_test = scaler.transform(X_test)"
   ]
  },
  {
   "cell_type": "code",
   "execution_count": 36,
   "metadata": {
    "id": "deIvkeKRZqTU"
   },
   "outputs": [
    {
     "data": {
      "text/plain": [
       "SVR()"
      ]
     },
     "execution_count": 36,
     "metadata": {},
     "output_type": "execute_result"
    }
   ],
   "source": [
    "model = SVR(kernel='rbf')\n",
    "model.fit(X_train, y_train)"
   ]
  },
  {
   "cell_type": "code",
   "execution_count": 37,
   "metadata": {
    "id": "zEknoMb5aRBt"
   },
   "outputs": [
    {
     "name": "stdout",
     "output_type": "stream",
     "text": [
      "학습 데이터 점수: 0.666122235136994\n",
      "평가 데이터 점수: 0.7264802142083959\n"
     ]
    }
   ],
   "source": [
    "print('학습 데이터 점수: {}'.format(model.score(X_train, y_train)))\n",
    "print('평가 데이터 점수: {}'.format(model.score(X_test, y_test)))"
   ]
  },
  {
   "cell_type": "code",
   "execution_count": 38,
   "metadata": {
    "id": "S3ipWjbFiete"
   },
   "outputs": [
    {
     "data": {
      "text/plain": [
       "<matplotlib.collections.PathCollection at 0x2100bc07e20>"
      ]
     },
     "execution_count": 38,
     "metadata": {},
     "output_type": "execute_result"
    },
    {
     "data": {
      "image/png": "[encoded data removed]",
      "text/plain": [
       "<Figure size 432x288 with 1 Axes>"
      ]
     },
     "metadata": {},
     "output_type": "display_data"
    }
   ],
   "source": [
    "X_comp = TSNE(n_components=1).fit_transform(X)\n",
    "plt.scatter(X_comp, y)"
   ]
  },
  {
   "cell_type": "code",
   "execution_count": 39,
   "metadata": {
    "id": "IqLc69hojcIr"
   },
   "outputs": [
    {
     "data": {
      "text/plain": [
       "<matplotlib.collections.PathCollection at 0x2100bb32d60>"
      ]
     },
     "execution_count": 39,
     "metadata": {},
     "output_type": "execute_result"
    },
    {
     "data": {
      "image/png": "[encoded data removed]",
      "text/plain": [
       "<Figure size 432x288 with 1 Axes>"
      ]
     },
     "metadata": {},
     "output_type": "display_data"
    }
   ],
   "source": [
    "model.fit(X_comp, y)\n",
    "predict = model.predict(X_comp)\n",
    "plt.scatter(X_comp, y)\n",
    "plt.scatter(X_comp, predict, color='r')"
   ]
  },
  {
   "cell_type": "code",
   "execution_count": 40,
   "metadata": {
    "id": "YzGeXLmZbGY7"
   },
   "outputs": [
    {
     "name": "stderr",
     "output_type": "stream",
     "text": [
      "[Parallel(n_jobs=6)]: Using backend LokyBackend with 6 concurrent workers.\n",
      "[Parallel(n_jobs=6)]: Done   5 out of   5 | elapsed:    0.0s finished\n"
     ]
    },
    {
     "data": {
      "text/plain": [
       "{'fit_time': array([0.00997305, 0.00997305, 0.00997305, 0.00897408, 0.0099721 ]),\n",
       " 'score_time': array([0.0039897 , 0.0039897 , 0.0039897 , 0.00498796, 0.00598574]),\n",
       " 'test_score': array([ 0.75781445,  0.50211018,  0.04310107,  0.33851703, -0.75997942])}"
      ]
     },
     "execution_count": 40,
     "metadata": {},
     "output_type": "execute_result"
    }
   ],
   "source": [
    "estimator = make_pipeline(StandardScaler(), SVR(kernel='rbf'))\n",
    "\n",
    "cross_validate(\n",
    "    estimator=estimator,\n",
    "    X=X, y=y,\n",
    "    cv=5,\n",
    "    n_jobs=multiprocessing.cpu_count(),\n",
    "    verbose=True\n",
    ")"
   ]
  },
  {
   "cell_type": "code",
   "execution_count": 41,
   "metadata": {
    "id": "Hfo2Z6T5jo73"
   },
   "outputs": [
    {
     "name": "stdout",
     "output_type": "stream",
     "text": [
      "Fitting 5 folds for each of 3 candidates, totalling 15 fits\n"
     ]
    },
    {
     "name": "stderr",
     "output_type": "stream",
     "text": [
      "C:\\Users\\2020 M\\anaconda3\\lib\\site-packages\\sklearn\\model_selection\\_search.py:918: UserWarning: One or more of the test scores are non-finite: [0.17631266        nan 0.14981591]\n",
      "  warnings.warn(\n"
     ]
    },
    {
     "data": {
      "text/plain": [
       "GridSearchCV(cv=5,\n",
       "             estimator=Pipeline(steps=[('scaler', StandardScaler()),\n",
       "                                       ('model', SVR())]),\n",
       "             n_jobs=6,\n",
       "             param_grid=[{'model__kernel': ['rbf', 'polynomial', 'sigmoid']}],\n",
       "             verbose=True)"
      ]
     },
     "execution_count": 41,
     "metadata": {},
     "output_type": "execute_result"
    }
   ],
   "source": [
    "pipe = Pipeline([('scaler', StandardScaler()),\n",
    "                ('model', SVR(kernel='rbf'))])\n",
    "\n",
    "param_grid = [{'model__kernel': ['rbf', 'polynomial', 'sigmoid']}]\n",
    "gs = GridSearchCV(\n",
    "    estimator=pipe,\n",
    "    param_grid=param_grid,\n",
    "    n_jobs=multiprocessing.cpu_count(),\n",
    "    cv=5,\n",
    "    verbose=True\n",
    ")\n",
    "gs.fit(X, y)"
   ]
  },
  {
   "cell_type": "code",
   "execution_count": 42,
   "metadata": {
    "id": "SLtwEtFNDD2E"
   },
   "outputs": [
    {
     "name": "stdout",
     "output_type": "stream",
     "text": [
      "Fitting 5 folds for each of 18 candidates, totalling 90 fits\n"
     ]
    },
    {
     "data": {
      "text/plain": [
       "GridSearchCV(cv=5,\n",
       "             estimator=Pipeline(steps=[('scaler', StandardScaler()),\n",
       "                                       ('model', SVR())]),\n",
       "             n_jobs=6,\n",
       "             param_grid=[{'model__C': [1.0, 0.1, 0.01],\n",
       "                          'model__epsilon': [1.0, 0.1, 0.01],\n",
       "                          'model__gamma': ['scale', 'auto']}],\n",
       "             verbose=True)"
      ]
     },
     "execution_count": 42,
     "metadata": {},
     "output_type": "execute_result"
    }
   ],
   "source": [
    "pipe = Pipeline([('scaler', StandardScaler()),\n",
    "                ('model', SVR(kernel='rbf'))])\n",
    "\n",
    "param_grid = [{'model__gamma': ['scale', 'auto'],\n",
    "              'model__C' : [1.0, 0.1, 0.01],\n",
    "              'model__epsilon': [1.0, 0.1, 0.01]}]\n",
    "gs = GridSearchCV(\n",
    "    estimator=pipe,\n",
    "    param_grid=param_grid,\n",
    "    n_jobs=multiprocessing.cpu_count(),\n",
    "    cv=5,\n",
    "    verbose=True\n",
    ")\n",
    "gs.fit(X, y)"
   ]
  },
  {
   "cell_type": "code",
   "execution_count": 43,
   "metadata": {
    "id": "G1BG0w50iUNF"
   },
   "outputs": [
    {
     "data": {
      "text/plain": [
       "Pipeline(steps=[('scaler', StandardScaler()), ('model', SVR(epsilon=0.01))])"
      ]
     },
     "execution_count": 43,
     "metadata": {},
     "output_type": "execute_result"
    }
   ],
   "source": [
    "gs.best_estimator_"
   ]
  },
  {
   "cell_type": "markdown",
   "metadata": {
    "id": "WjmIL-u1r9qU"
   },
   "source": [
    "### 당뇨병"
   ]
  },
  {
   "cell_type": "code",
   "execution_count": 44,
   "metadata": {
    "id": "X39InXCSYuPf"
   },
   "outputs": [],
   "source": [
    "X, y = load_diabetes(return_X_y=True)\n",
    "X_train, X_test, y_train, y_test = train_test_split(X, y, test_size=0.2)"
   ]
  },
  {
   "cell_type": "code",
   "execution_count": 45,
   "metadata": {
    "id": "I1TKwSKhdLaU"
   },
   "outputs": [],
   "source": [
    "scaler = StandardScaler()\n",
    "scaler.fit(X_train)\n",
    "X_train = scaler.transform(X_train)\n",
    "X_test = scaler.transform(X_test)"
   ]
  },
  {
   "cell_type": "code",
   "execution_count": 46,
   "metadata": {
    "id": "deIvkeKRZqTU"
   },
   "outputs": [
    {
     "data": {
      "text/plain": [
       "SVR()"
      ]
     },
     "execution_count": 46,
     "metadata": {},
     "output_type": "execute_result"
    }
   ],
   "source": [
    "model = SVR(kernel='rbf')\n",
    "model.fit(X_train, y_train)"
   ]
  },
  {
   "cell_type": "code",
   "execution_count": 47,
   "metadata": {
    "id": "zEknoMb5aRBt"
   },
   "outputs": [
    {
     "name": "stdout",
     "output_type": "stream",
     "text": [
      "학습 데이터 점수: 0.1594497095590972\n",
      "평가 데이터 점수: 0.18743302044951915\n"
     ]
    }
   ],
   "source": [
    "print('학습 데이터 점수: {}'.format(model.score(X_train, y_train)))\n",
    "print('평가 데이터 점수: {}'.format(model.score(X_test, y_test)))"
   ]
  },
  {
   "cell_type": "code",
   "execution_count": 48,
   "metadata": {
    "id": "S3ipWjbFiete"
   },
   "outputs": [
    {
     "data": {
      "text/plain": [
       "<matplotlib.collections.PathCollection at 0x2100bceb400>"
      ]
     },
     "execution_count": 48,
     "metadata": {},
     "output_type": "execute_result"
    },
    {
     "data": {
      "image/png": "[encoded data removed]",
      "text/plain": [
       "<Figure size 432x288 with 1 Axes>"
      ]
     },
     "metadata": {},
     "output_type": "display_data"
    }
   ],
   "source": [
    "X_comp = TSNE(n_components=1).fit_transform(X)\n",
    "plt.scatter(X_comp, y)"
   ]
  },
  {
   "cell_type": "code",
   "execution_count": 49,
   "metadata": {
    "id": "IqLc69hojcIr"
   },
   "outputs": [
    {
     "data": {
      "text/plain": [
       "<matplotlib.collections.PathCollection at 0x2100bd39580>"
      ]
     },
     "execution_count": 49,
     "metadata": {},
     "output_type": "execute_result"
    },
    {
     "data": {
      "image/png": "[encoded data removed]",
      "text/plain": [
       "<Figure size 432x288 with 1 Axes>"
      ]
     },
     "metadata": {},
     "output_type": "display_data"
    }
   ],
   "source": [
    "model.fit(X_comp, y)\n",
    "predict = model.predict(X_comp)\n",
    "plt.scatter(X_comp, y)\n",
    "plt.scatter(X_comp, predict, color='r')"
   ]
  },
  {
   "cell_type": "code",
   "execution_count": 50,
   "metadata": {
    "id": "YzGeXLmZbGY7"
   },
   "outputs": [
    {
     "name": "stderr",
     "output_type": "stream",
     "text": [
      "[Parallel(n_jobs=6)]: Using backend LokyBackend with 6 concurrent workers.\n",
      "[Parallel(n_jobs=6)]: Done   5 out of   5 | elapsed:    0.0s finished\n"
     ]
    },
    {
     "data": {
      "text/plain": [
       "{'fit_time': array([0.00698137, 0.00698137, 0.0069809 , 0.00797796, 0.00698066]),\n",
       " 'score_time': array([0.0039897 , 0.0039897 , 0.00398898, 0.00299191, 0.00299191]),\n",
       " 'test_score': array([0.14580789, 0.12539919, 0.18163816, 0.12223073, 0.15792085])}"
      ]
     },
     "execution_count": 50,
     "metadata": {},
     "output_type": "execute_result"
    }
   ],
   "source": [
    "estimator = make_pipeline(StandardScaler(), SVR(kernel='rbf'))\n",
    "\n",
    "cross_validate(\n",
    "    estimator=estimator,\n",
    "    X=X, y=y,\n",
    "    cv=5,\n",
    "    n_jobs=multiprocessing.cpu_count(),\n",
    "    verbose=True\n",
    ")"
   ]
  },
  {
   "cell_type": "code",
   "execution_count": 51,
   "metadata": {
    "id": "Hfo2Z6T5jo73"
   },
   "outputs": [
    {
     "name": "stdout",
     "output_type": "stream",
     "text": [
      "Fitting 5 folds for each of 3 candidates, totalling 15 fits\n"
     ]
    },
    {
     "name": "stderr",
     "output_type": "stream",
     "text": [
      "C:\\Users\\2020 M\\anaconda3\\lib\\site-packages\\sklearn\\model_selection\\_search.py:918: UserWarning: One or more of the test scores are non-finite: [0.14659936        nan 0.34913589]\n",
      "  warnings.warn(\n"
     ]
    },
    {
     "data": {
      "text/plain": [
       "GridSearchCV(cv=5,\n",
       "             estimator=Pipeline(steps=[('scaler', StandardScaler()),\n",
       "                                       ('model', SVR())]),\n",
       "             n_jobs=6,\n",
       "             param_grid=[{'model__kernel': ['rbf', 'polynomial', 'sigmoid']}],\n",
       "             verbose=True)"
      ]
     },
     "execution_count": 51,
     "metadata": {},
     "output_type": "execute_result"
    }
   ],
   "source": [
    "pipe = Pipeline([('scaler', StandardScaler()),\n",
    "                ('model', SVR(kernel='rbf'))])\n",
    "\n",
    "param_grid = [{'model__kernel': ['rbf', 'polynomial', 'sigmoid']}]\n",
    "gs = GridSearchCV(\n",
    "    estimator=pipe,\n",
    "    param_grid=param_grid,\n",
    "    n_jobs=multiprocessing.cpu_count(),\n",
    "    cv=5,\n",
    "    verbose=True\n",
    ")\n",
    "gs.fit(X, y)"
   ]
  },
  {
   "cell_type": "code",
   "execution_count": 52,
   "metadata": {
    "id": "SLtwEtFNDD2E"
   },
   "outputs": [
    {
     "name": "stdout",
     "output_type": "stream",
     "text": [
      "Fitting 5 folds for each of 18 candidates, totalling 90 fits\n"
     ]
    },
    {
     "data": {
      "text/plain": [
       "GridSearchCV(cv=5,\n",
       "             estimator=Pipeline(steps=[('scaler', StandardScaler()),\n",
       "                                       ('model', SVR())]),\n",
       "             n_jobs=6,\n",
       "             param_grid=[{'model__C': [1.0, 0.1, 0.01],\n",
       "                          'model__epsilon': [1.0, 0.1, 0.01],\n",
       "                          'model__gamma': ['scale', 'auto']}],\n",
       "             verbose=True)"
      ]
     },
     "execution_count": 52,
     "metadata": {},
     "output_type": "execute_result"
    }
   ],
   "source": [
    "pipe = Pipeline([('scaler', StandardScaler()),\n",
    "                ('model', SVR(kernel='rbf'))])\n",
    "\n",
    "param_grid = [{'model__gamma': ['scale', 'auto'],\n",
    "              'model__C' : [1.0, 0.1, 0.01],\n",
    "              'model__epsilon': [1.0, 0.1, 0.01]}]\n",
    "gs = GridSearchCV(\n",
    "    estimator=pipe,\n",
    "    param_grid=param_grid,\n",
    "    n_jobs=multiprocessing.cpu_count(),\n",
    "    cv=5,\n",
    "    verbose=True\n",
    ")\n",
    "gs.fit(X, y)"
   ]
  },
  {
   "cell_type": "code",
   "execution_count": 53,
   "metadata": {
    "id": "G1BG0w50iUNF"
   },
   "outputs": [
    {
     "data": {
      "text/plain": [
       "Pipeline(steps=[('scaler', StandardScaler()), ('model', SVR(epsilon=0.01))])"
      ]
     },
     "execution_count": 53,
     "metadata": {},
     "output_type": "execute_result"
    }
   ],
   "source": [
    "gs.best_estimator_"
   ]
  },
  {
   "cell_type": "code",
   "execution_count": 54,
   "metadata": {
    "id": "UlnjMwqOI1_0"
   },
   "outputs": [
    {
     "data": {
      "text/plain": [
       "Pipeline(steps=[('scaler', StandardScaler()), ('model', SVR(epsilon=0.01))])"
      ]
     },
     "execution_count": 54,
     "metadata": {},
     "output_type": "execute_result"
    }
   ],
   "source": [
    "model = gs.best_estimator_\n",
    "model.fit(X_train, y_train)"
   ]
  },
  {
   "cell_type": "code",
   "execution_count": 55,
   "metadata": {
    "id": "AmFCvtJlI99z"
   },
   "outputs": [
    {
     "name": "stdout",
     "output_type": "stream",
     "text": [
      "학습 데이터 점수: 0.1594639016249212\n",
      "평가 데이터 점수: 0.18745254438394443\n"
     ]
    }
   ],
   "source": [
    "print('학습 데이터 점수: {}'.format(model.score(X_train, y_train)))\n",
    "print('평가 데이터 점수: {}'.format(model.score(X_test, y_test)))"
   ]
  },
  {
   "cell_type": "markdown",
   "metadata": {
    "id": "iW0DXTLrNya-"
   },
   "source": [
    "## Linear SVC"
   ]
  },
  {
   "cell_type": "markdown",
   "metadata": {
    "id": "1b30IAFxN8XR"
   },
   "source": [
    "### 유방암"
   ]
  },
  {
   "cell_type": "code",
   "execution_count": 56,
   "metadata": {
    "id": "JA62MGlxT5wP"
   },
   "outputs": [],
   "source": [
    "X, y = load_breast_cancer(return_X_y=True)\n",
    "X_train, X_test, y_train, y_test = train_test_split(X, y, test_size=0.2)"
   ]
  },
  {
   "cell_type": "code",
   "execution_count": 57,
   "metadata": {
    "id": "QLeBYuyrWQDw"
   },
   "outputs": [],
   "source": [
    "scaler = StandardScaler()\n",
    "scaler.fit(X_train)\n",
    "X_train = scaler.transform(X_train)\n",
    "X_test = scaler.transform(X_test)"
   ]
  },
  {
   "cell_type": "code",
   "execution_count": 58,
   "metadata": {
    "id": "9MW3gKwJWaoQ"
   },
   "outputs": [
    {
     "data": {
      "text/plain": [
       "SVC(kernel='linear')"
      ]
     },
     "execution_count": 58,
     "metadata": {},
     "output_type": "execute_result"
    }
   ],
   "source": [
    "model = SVC(kernel='linear')\n",
    "model.fit(X_train, y_train)"
   ]
  },
  {
   "cell_type": "code",
   "execution_count": 59,
   "metadata": {
    "id": "WBcgn7-0Whn6"
   },
   "outputs": [
    {
     "name": "stdout",
     "output_type": "stream",
     "text": [
      "학습 데이터 점수: 0.9934065934065934\n",
      "평가 데이터 점수: 0.9385964912280702\n"
     ]
    }
   ],
   "source": [
    "print('학습 데이터 점수: {}'.format(model.score(X_train, y_train)))\n",
    "print('평가 데이터 점수: {}'.format(model.score(X_test, y_test)))"
   ]
  },
  {
   "cell_type": "code",
   "execution_count": 60,
   "metadata": {
    "id": "bi1dYEBWmoxH"
   },
   "outputs": [],
   "source": [
    "def make_meshgrid(x, y, h=.02):\n",
    "    x_min, x_max = x.min()-1, x.max()+1\n",
    "    y_min, y_max = y.min()-1, y.max()+1\n",
    "    xx, yy = np.meshgrid(np.arange(x_min, x_max, h),\n",
    "                        np.arange(y_min, y_max, h))\n",
    "    \n",
    "    return xx, yy"
   ]
  },
  {
   "cell_type": "code",
   "execution_count": 61,
   "metadata": {
    "id": "wThzdvIimoxN"
   },
   "outputs": [],
   "source": [
    "def plot_contours(clf, xx, yy, **params):\n",
    "    Z = clf.predict(np.c_[xx.ravel(), yy.ravel()])\n",
    "    Z = Z.reshape(xx.shape)\n",
    "    out = plt.contourf(xx, yy, Z, **params)\n",
    "    \n",
    "    return out"
   ]
  },
  {
   "cell_type": "code",
   "execution_count": 62,
   "metadata": {
    "id": "wFMmUxkXXBAB"
   },
   "outputs": [],
   "source": [
    "X_comp = TSNE(n_components=2).fit_transform(X)\n",
    "X0, X1 = X_comp[:, 0], X_comp[:, 1]\n",
    "xx, yy = make_meshgrid(X0, X1)"
   ]
  },
  {
   "cell_type": "code",
   "execution_count": 63,
   "metadata": {
    "id": "ys_mdw5TXHSU"
   },
   "outputs": [
    {
     "data": {
      "text/plain": [
       "<matplotlib.collections.PathCollection at 0x2100bdcd280>"
      ]
     },
     "execution_count": 63,
     "metadata": {},
     "output_type": "execute_result"
    },
    {
     "data": {
      "image/png": "[encoded data removed]",
      "text/plain": [
       "<Figure size 432x288 with 1 Axes>"
      ]
     },
     "metadata": {},
     "output_type": "display_data"
    }
   ],
   "source": [
    "model.fit(X_comp, y)\n",
    "\n",
    "plot_contours(model, xx, yy, cmap=plt.cm.coolwarm, alpha=0.7)\n",
    "plt.scatter(X0, X1, c=y, cmap=plt.cm.coolwarm, s=20, edgecolors='k')"
   ]
  },
  {
   "cell_type": "code",
   "execution_count": 64,
   "metadata": {
    "id": "pvmNxo6tY8WY"
   },
   "outputs": [
    {
     "name": "stderr",
     "output_type": "stream",
     "text": [
      "[Parallel(n_jobs=6)]: Using backend LokyBackend with 6 concurrent workers.\n",
      "[Parallel(n_jobs=6)]: Done   5 out of   5 | elapsed:    0.0s finished\n"
     ]
    },
    {
     "data": {
      "text/plain": [
       "{'fit_time': array([0.0039897 , 0.00299191, 0.00398898, 0.00299168, 0.00299168]),\n",
       " 'score_time': array([0.00099707, 0.        , 0.        , 0.        , 0.00099802]),\n",
       " 'test_score': array([0.96491228, 0.98245614, 0.96491228, 0.96491228, 0.98230088])}"
      ]
     },
     "execution_count": 64,
     "metadata": {},
     "output_type": "execute_result"
    }
   ],
   "source": [
    "estimator = make_pipeline(StandardScaler(), SVC(kernel='linear'))\n",
    "\n",
    "cross_validate(\n",
    "    estimator=estimator,\n",
    "    X=X, y=y,\n",
    "    cv=5,\n",
    "    n_jobs = multiprocessing.cpu_count(),\n",
    "    verbose=True\n",
    ")"
   ]
  },
  {
   "cell_type": "code",
   "execution_count": 65,
   "metadata": {
    "id": "wAXU-TMyY8B7"
   },
   "outputs": [
    {
     "name": "stdout",
     "output_type": "stream",
     "text": [
      "Fitting 5 folds for each of 6 candidates, totalling 30 fits\n"
     ]
    },
    {
     "data": {
      "text/plain": [
       "GridSearchCV(cv=5,\n",
       "             estimator=Pipeline(steps=[('scaler', StandardScaler()),\n",
       "                                       ('model', SVC(kernel='linear'))]),\n",
       "             n_jobs=6,\n",
       "             param_grid=[{'model__C': [1.0, 0.1, 0.01],\n",
       "                          'model__gamma': ['scale', 'auto']}],\n",
       "             verbose=True)"
      ]
     },
     "execution_count": 65,
     "metadata": {},
     "output_type": "execute_result"
    }
   ],
   "source": [
    "pipe = Pipeline([('scaler', StandardScaler()),\n",
    "                ('model', SVC(kernel='linear'))])\n",
    "\n",
    "param_grid = [{'model__gamma': ['scale', 'auto'],\n",
    "              'model__C': [1.0, 0.1, 0.01]}]\n",
    "gs = GridSearchCV(\n",
    "    estimator=pipe,\n",
    "    param_grid=param_grid,\n",
    "    n_jobs=multiprocessing.cpu_count(),\n",
    "    cv=5,\n",
    "    verbose=True\n",
    ")\n",
    "gs.fit(X, y)"
   ]
  },
  {
   "cell_type": "code",
   "execution_count": 66,
   "metadata": {
    "id": "u0RrlLHdY7nX"
   },
   "outputs": [
    {
     "data": {
      "text/plain": [
       "Pipeline(steps=[('scaler', StandardScaler()),\n",
       "                ('model', SVC(C=0.1, kernel='linear'))])"
      ]
     },
     "execution_count": 66,
     "metadata": {},
     "output_type": "execute_result"
    }
   ],
   "source": [
    "gs.best_estimator_"
   ]
  },
  {
   "cell_type": "code",
   "execution_count": 67,
   "metadata": {
    "id": "THwH-7nJZDtd"
   },
   "outputs": [
    {
     "data": {
      "text/plain": [
       "Pipeline(steps=[('scaler', StandardScaler()),\n",
       "                ('model', SVC(C=0.1, kernel='linear'))])"
      ]
     },
     "execution_count": 67,
     "metadata": {},
     "output_type": "execute_result"
    }
   ],
   "source": [
    "model = gs.best_estimator_\n",
    "model.fit(X_train, y_train)"
   ]
  },
  {
   "cell_type": "code",
   "execution_count": 68,
   "metadata": {},
   "outputs": [
    {
     "name": "stdout",
     "output_type": "stream",
     "text": [
      "학습 데이터 점수: 0.989010989010989\n",
      "평가 데이터 점수: 0.956140350877193\n"
     ]
    }
   ],
   "source": [
    "print('학습 데이터 점수: {}'.format(model.score(X_train, y_train)))\n",
    "print('평가 데이터 점수: {}'.format(model.score(X_test, y_test)))"
   ]
  },
  {
   "cell_type": "markdown",
   "metadata": {
    "id": "jJfcIODbN6ec"
   },
   "source": [
    "### 붓꽃"
   ]
  },
  {
   "cell_type": "code",
   "execution_count": 69,
   "metadata": {
    "id": "JA62MGlxT5wP"
   },
   "outputs": [],
   "source": [
    "X, y = load_iris(return_X_y=True)\n",
    "X_train, X_test, y_train, y_test = train_test_split(X, y, test_size=0.2)"
   ]
  },
  {
   "cell_type": "code",
   "execution_count": 70,
   "metadata": {
    "id": "QLeBYuyrWQDw"
   },
   "outputs": [],
   "source": [
    "scaler = StandardScaler()\n",
    "scaler.fit(X_train)\n",
    "X_train = scaler.transform(X_train)\n",
    "X_test = scaler.transform(X_test)"
   ]
  },
  {
   "cell_type": "code",
   "execution_count": 71,
   "metadata": {
    "id": "9MW3gKwJWaoQ"
   },
   "outputs": [
    {
     "data": {
      "text/plain": [
       "SVC(kernel='linear')"
      ]
     },
     "execution_count": 71,
     "metadata": {},
     "output_type": "execute_result"
    }
   ],
   "source": [
    "model = SVC(kernel='linear')\n",
    "model.fit(X_train, y_train)"
   ]
  },
  {
   "cell_type": "code",
   "execution_count": 72,
   "metadata": {
    "id": "WBcgn7-0Whn6"
   },
   "outputs": [
    {
     "name": "stdout",
     "output_type": "stream",
     "text": [
      "학습 데이터 점수: 0.9666666666666667\n",
      "평가 데이터 점수: 0.9666666666666667\n"
     ]
    }
   ],
   "source": [
    "print('학습 데이터 점수: {}'.format(model.score(X_train, y_train)))\n",
    "print('평가 데이터 점수: {}'.format(model.score(X_test, y_test)))"
   ]
  },
  {
   "cell_type": "code",
   "execution_count": 73,
   "metadata": {
    "id": "bi1dYEBWmoxH"
   },
   "outputs": [],
   "source": [
    "def make_meshgrid(x, y, h=.02):\n",
    "    x_min, x_max = x.min()-1, x.max()+1\n",
    "    y_min, y_max = y.min()-1, y.max()+1\n",
    "    xx, yy = np.meshgrid(np.arange(x_min, x_max, h),\n",
    "                        np.arange(y_min, y_max, h))\n",
    "    \n",
    "    return xx, yy"
   ]
  },
  {
   "cell_type": "code",
   "execution_count": 74,
   "metadata": {
    "id": "wThzdvIimoxN"
   },
   "outputs": [],
   "source": [
    "def plot_contours(clf, xx, yy, **params):\n",
    "    Z = clf.predict(np.c_[xx.ravel(), yy.ravel()])\n",
    "    Z = Z.reshape(xx.shape)\n",
    "    out = plt.contourf(xx, yy, Z, **params)\n",
    "    \n",
    "    return out"
   ]
  },
  {
   "cell_type": "code",
   "execution_count": 75,
   "metadata": {
    "id": "wFMmUxkXXBAB"
   },
   "outputs": [],
   "source": [
    "X_comp = TSNE(n_components=2).fit_transform(X)\n",
    "X0, X1 = X_comp[:, 0], X_comp[:, 1]\n",
    "xx, yy = make_meshgrid(X0, X1)"
   ]
  },
  {
   "cell_type": "code",
   "execution_count": 76,
   "metadata": {
    "id": "ys_mdw5TXHSU"
   },
   "outputs": [
    {
     "data": {
      "text/plain": [
       "<matplotlib.collections.PathCollection at 0x2100be223a0>"
      ]
     },
     "execution_count": 76,
     "metadata": {},
     "output_type": "execute_result"
    },
    {
     "data": {
      "image/png": "[encoded data removed]",
      "text/plain": [
       "<Figure size 432x288 with 1 Axes>"
      ]
     },
     "metadata": {},
     "output_type": "display_data"
    }
   ],
   "source": [
    "model.fit(X_comp, y)\n",
    "\n",
    "plot_contours(model, xx, yy, cmap=plt.cm.coolwarm, alpha=0.7)\n",
    "plt.scatter(X0, X1, c=y, cmap=plt.cm.coolwarm, s=20, edgecolors='k')"
   ]
  },
  {
   "cell_type": "code",
   "execution_count": 77,
   "metadata": {
    "id": "pvmNxo6tY8WY"
   },
   "outputs": [
    {
     "name": "stderr",
     "output_type": "stream",
     "text": [
      "[Parallel(n_jobs=6)]: Using backend LokyBackend with 6 concurrent workers.\n",
      "[Parallel(n_jobs=6)]: Done   5 out of   5 | elapsed:    0.0s finished\n"
     ]
    },
    {
     "data": {
      "text/plain": [
       "{'fit_time': array([0.00099683, 0.00099683, 0.00199556, 0.00099874, 0.00199556]),\n",
       " 'score_time': array([0.        , 0.00099874, 0.        , 0.        , 0.        ]),\n",
       " 'test_score': array([0.96666667, 1.        , 0.93333333, 0.93333333, 1.        ])}"
      ]
     },
     "execution_count": 77,
     "metadata": {},
     "output_type": "execute_result"
    }
   ],
   "source": [
    "estimator = make_pipeline(StandardScaler(), SVC(kernel='linear'))\n",
    "\n",
    "cross_validate(\n",
    "    estimator=estimator,\n",
    "    X=X, y=y,\n",
    "    cv=5,\n",
    "    n_jobs = multiprocessing.cpu_count(),\n",
    "    verbose=True\n",
    ")"
   ]
  },
  {
   "cell_type": "code",
   "execution_count": 78,
   "metadata": {
    "id": "wAXU-TMyY8B7"
   },
   "outputs": [
    {
     "name": "stdout",
     "output_type": "stream",
     "text": [
      "Fitting 5 folds for each of 6 candidates, totalling 30 fits\n"
     ]
    },
    {
     "data": {
      "text/plain": [
       "GridSearchCV(cv=5,\n",
       "             estimator=Pipeline(steps=[('scaler', StandardScaler()),\n",
       "                                       ('model', SVC(kernel='linear'))]),\n",
       "             n_jobs=6,\n",
       "             param_grid=[{'model__C': [1.0, 0.1, 0.01],\n",
       "                          'model__gamma': ['scale', 'auto']}],\n",
       "             verbose=True)"
      ]
     },
     "execution_count": 78,
     "metadata": {},
     "output_type": "execute_result"
    }
   ],
   "source": [
    "pipe = Pipeline([('scaler', StandardScaler()),\n",
    "                ('model', SVC(kernel='linear'))])\n",
    "\n",
    "param_grid = [{'model__gamma': ['scale', 'auto'],\n",
    "              'model__C': [1.0, 0.1, 0.01]}]\n",
    "gs = GridSearchCV(\n",
    "    estimator=pipe,\n",
    "    param_grid=param_grid,\n",
    "    n_jobs=multiprocessing.cpu_count(),\n",
    "    cv=5,\n",
    "    verbose=True\n",
    ")\n",
    "gs.fit(X, y)"
   ]
  },
  {
   "cell_type": "code",
   "execution_count": 79,
   "metadata": {
    "id": "u0RrlLHdY7nX"
   },
   "outputs": [
    {
     "data": {
      "text/plain": [
       "Pipeline(steps=[('scaler', StandardScaler()), ('model', SVC(kernel='linear'))])"
      ]
     },
     "execution_count": 79,
     "metadata": {},
     "output_type": "execute_result"
    }
   ],
   "source": [
    "gs.best_estimator_"
   ]
  },
  {
   "cell_type": "code",
   "execution_count": 80,
   "metadata": {
    "id": "THwH-7nJZDtd"
   },
   "outputs": [
    {
     "data": {
      "text/plain": [
       "Pipeline(steps=[('scaler', StandardScaler()), ('model', SVC(kernel='linear'))])"
      ]
     },
     "execution_count": 80,
     "metadata": {},
     "output_type": "execute_result"
    }
   ],
   "source": [
    "model = gs.best_estimator_\n",
    "model.fit(X_train, y_train)"
   ]
  },
  {
   "cell_type": "code",
   "execution_count": 81,
   "metadata": {},
   "outputs": [
    {
     "name": "stdout",
     "output_type": "stream",
     "text": [
      "학습 데이터 점수: 0.9666666666666667\n",
      "평가 데이터 점수: 0.9666666666666667\n"
     ]
    }
   ],
   "source": [
    "print('학습 데이터 점수: {}'.format(model.score(X_train, y_train)))\n",
    "print('평가 데이터 점수: {}'.format(model.score(X_test, y_test)))"
   ]
  },
  {
   "cell_type": "markdown",
   "metadata": {
    "id": "fGErBCXR3P_p"
   },
   "source": [
    "### 와인"
   ]
  },
  {
   "cell_type": "code",
   "execution_count": 82,
   "metadata": {
    "id": "JA62MGlxT5wP"
   },
   "outputs": [],
   "source": [
    "X, y = load_wine(return_X_y=True)\n",
    "X_train, X_test, y_train, y_test = train_test_split(X, y, test_size=0.2)"
   ]
  },
  {
   "cell_type": "code",
   "execution_count": 83,
   "metadata": {
    "id": "QLeBYuyrWQDw"
   },
   "outputs": [],
   "source": [
    "scaler = StandardScaler()\n",
    "scaler.fit(X_train)\n",
    "X_train = scaler.transform(X_train)\n",
    "X_test = scaler.transform(X_test)"
   ]
  },
  {
   "cell_type": "code",
   "execution_count": 84,
   "metadata": {
    "id": "9MW3gKwJWaoQ"
   },
   "outputs": [
    {
     "data": {
      "text/plain": [
       "SVC(kernel='linear')"
      ]
     },
     "execution_count": 84,
     "metadata": {},
     "output_type": "execute_result"
    }
   ],
   "source": [
    "model = SVC(kernel='linear')\n",
    "model.fit(X_train, y_train)"
   ]
  },
  {
   "cell_type": "code",
   "execution_count": 85,
   "metadata": {
    "id": "WBcgn7-0Whn6"
   },
   "outputs": [
    {
     "name": "stdout",
     "output_type": "stream",
     "text": [
      "학습 데이터 점수: 1.0\n",
      "평가 데이터 점수: 0.9722222222222222\n"
     ]
    }
   ],
   "source": [
    "print('학습 데이터 점수: {}'.format(model.score(X_train, y_train)))\n",
    "print('평가 데이터 점수: {}'.format(model.score(X_test, y_test)))"
   ]
  },
  {
   "cell_type": "code",
   "execution_count": 86,
   "metadata": {
    "id": "bi1dYEBWmoxH"
   },
   "outputs": [],
   "source": [
    "def make_meshgrid(x, y, h=.02):\n",
    "    x_min, x_max = x.min()-1, x.max()+1\n",
    "    y_min, y_max = y.min()-1, y.max()+1\n",
    "    xx, yy = np.meshgrid(np.arange(x_min, x_max, h),\n",
    "                        np.arange(y_min, y_max, h))\n",
    "    \n",
    "    return xx, yy"
   ]
  },
  {
   "cell_type": "code",
   "execution_count": 87,
   "metadata": {
    "id": "wThzdvIimoxN"
   },
   "outputs": [],
   "source": [
    "def plot_contours(clf, xx, yy, **params):\n",
    "    Z = clf.predict(np.c_[xx.ravel(), yy.ravel()])\n",
    "    Z = Z.reshape(xx.shape)\n",
    "    out = plt.contourf(xx, yy, Z, **params)\n",
    "    \n",
    "    return out"
   ]
  },
  {
   "cell_type": "code",
   "execution_count": 88,
   "metadata": {
    "id": "wFMmUxkXXBAB"
   },
   "outputs": [],
   "source": [
    "X_comp = TSNE(n_components=2).fit_transform(X)\n",
    "X0, X1 = X_comp[:, 0], X_comp[:, 1]\n",
    "xx, yy = make_meshgrid(X0, X1)"
   ]
  },
  {
   "cell_type": "code",
   "execution_count": 89,
   "metadata": {
    "id": "ys_mdw5TXHSU"
   },
   "outputs": [
    {
     "data": {
      "text/plain": [
       "<matplotlib.collections.PathCollection at 0x2100be9ee20>"
      ]
     },
     "execution_count": 89,
     "metadata": {},
     "output_type": "execute_result"
    },
    {
     "data": {
      "image/png": "[encoded data removed]",
      "text/plain": [
       "<Figure size 432x288 with 1 Axes>"
      ]
     },
     "metadata": {},
     "output_type": "display_data"
    }
   ],
   "source": [
    "model.fit(X_comp, y)\n",
    "\n",
    "plot_contours(model, xx, yy, cmap=plt.cm.coolwarm, alpha=0.7)\n",
    "plt.scatter(X0, X1, c=y, cmap=plt.cm.coolwarm, s=20, edgecolors='k')"
   ]
  },
  {
   "cell_type": "code",
   "execution_count": 90,
   "metadata": {
    "id": "pvmNxo6tY8WY"
   },
   "outputs": [
    {
     "name": "stderr",
     "output_type": "stream",
     "text": [
      "[Parallel(n_jobs=6)]: Using backend LokyBackend with 6 concurrent workers.\n",
      "[Parallel(n_jobs=6)]: Done   5 out of   5 | elapsed:    0.0s finished\n"
     ]
    },
    {
     "data": {
      "text/plain": [
       "{'fit_time': array([0.00099802, 0.00199604, 0.00099802, 0.00199604, 0.00199223]),\n",
       " 'score_time': array([0.00099802, 0.        , 0.00099802, 0.        , 0.        ]),\n",
       " 'test_score': array([0.94444444, 0.97222222, 0.97222222, 0.97142857, 0.94285714])}"
      ]
     },
     "execution_count": 90,
     "metadata": {},
     "output_type": "execute_result"
    }
   ],
   "source": [
    "estimator = make_pipeline(StandardScaler(), SVC(kernel='linear'))\n",
    "\n",
    "cross_validate(\n",
    "    estimator=estimator,\n",
    "    X=X, y=y,\n",
    "    cv=5,\n",
    "    n_jobs = multiprocessing.cpu_count(),\n",
    "    verbose=True\n",
    ")"
   ]
  },
  {
   "cell_type": "code",
   "execution_count": 91,
   "metadata": {
    "id": "wAXU-TMyY8B7"
   },
   "outputs": [
    {
     "name": "stdout",
     "output_type": "stream",
     "text": [
      "Fitting 5 folds for each of 6 candidates, totalling 30 fits\n"
     ]
    },
    {
     "data": {
      "text/plain": [
       "GridSearchCV(cv=5,\n",
       "             estimator=Pipeline(steps=[('scaler', StandardScaler()),\n",
       "                                       ('model', SVC(kernel='linear'))]),\n",
       "             n_jobs=6,\n",
       "             param_grid=[{'model__C': [1.0, 0.1, 0.01],\n",
       "                          'model__gamma': ['scale', 'auto']}],\n",
       "             verbose=True)"
      ]
     },
     "execution_count": 91,
     "metadata": {},
     "output_type": "execute_result"
    }
   ],
   "source": [
    "pipe = Pipeline([('scaler', StandardScaler()),\n",
    "                ('model', SVC(kernel='linear'))])\n",
    "\n",
    "param_grid = [{'model__gamma': ['scale', 'auto'],\n",
    "              'model__C': [1.0, 0.1, 0.01]}]\n",
    "gs = GridSearchCV(\n",
    "    estimator=pipe,\n",
    "    param_grid=param_grid,\n",
    "    n_jobs=multiprocessing.cpu_count(),\n",
    "    cv=5,\n",
    "    verbose=True\n",
    ")\n",
    "gs.fit(X, y)"
   ]
  },
  {
   "cell_type": "code",
   "execution_count": 92,
   "metadata": {
    "id": "u0RrlLHdY7nX"
   },
   "outputs": [
    {
     "data": {
      "text/plain": [
       "Pipeline(steps=[('scaler', StandardScaler()),\n",
       "                ('model', SVC(C=0.1, kernel='linear'))])"
      ]
     },
     "execution_count": 92,
     "metadata": {},
     "output_type": "execute_result"
    }
   ],
   "source": [
    "gs.best_estimator_"
   ]
  },
  {
   "cell_type": "code",
   "execution_count": 93,
   "metadata": {
    "id": "THwH-7nJZDtd"
   },
   "outputs": [
    {
     "data": {
      "text/plain": [
       "Pipeline(steps=[('scaler', StandardScaler()),\n",
       "                ('model', SVC(C=0.1, kernel='linear'))])"
      ]
     },
     "execution_count": 93,
     "metadata": {},
     "output_type": "execute_result"
    }
   ],
   "source": [
    "model = gs.best_estimator_\n",
    "model.fit(X_train, y_train)"
   ]
  },
  {
   "cell_type": "code",
   "execution_count": 94,
   "metadata": {},
   "outputs": [
    {
     "name": "stdout",
     "output_type": "stream",
     "text": [
      "학습 데이터 점수: 0.9929577464788732\n",
      "평가 데이터 점수: 1.0\n"
     ]
    }
   ],
   "source": [
    "print('학습 데이터 점수: {}'.format(model.score(X_train, y_train)))\n",
    "print('평가 데이터 점수: {}'.format(model.score(X_test, y_test)))"
   ]
  },
  {
   "cell_type": "markdown",
   "metadata": {
    "id": "NKavNYlxN1fB"
   },
   "source": [
    "## Kernel SVC"
   ]
  },
  {
   "cell_type": "markdown",
   "metadata": {
    "id": "M7QkeGrdOAxV"
   },
   "source": [
    "### 유방암"
   ]
  },
  {
   "cell_type": "code",
   "execution_count": 96,
   "metadata": {
    "id": "LtHeKTDjhF24"
   },
   "outputs": [],
   "source": [
    "X, y = load_breast_cancer(return_X_y=True)\n",
    "X_train, X_test, y_train, y_test = train_test_split(X, y, test_size=0.2)"
   ]
  },
  {
   "cell_type": "code",
   "execution_count": 99,
   "metadata": {
    "id": "UmSGCO2nhIsv"
   },
   "outputs": [],
   "source": [
    "scaler = StandardScaler()\n",
    "scaler.fit(X_train)\n",
    "X_train = scaler.transform(X_train)\n",
    "X_test = scaler.transform(X_test)"
   ]
  },
  {
   "cell_type": "code",
   "execution_count": 100,
   "metadata": {
    "id": "Js0bF-5dhMFu"
   },
   "outputs": [
    {
     "data": {
      "text/plain": [
       "SVC()"
      ]
     },
     "execution_count": 100,
     "metadata": {},
     "output_type": "execute_result"
    }
   ],
   "source": [
    "model = SVC(kernel='rbf')\n",
    "model.fit(X_train, y_train)"
   ]
  },
  {
   "cell_type": "code",
   "execution_count": 101,
   "metadata": {
    "id": "tqM1jJtQhPTD"
   },
   "outputs": [
    {
     "name": "stdout",
     "output_type": "stream",
     "text": [
      "학습 데이터 점수: 0.9824175824175824\n",
      "평가 데이터 점수: 0.32456140350877194\n"
     ]
    }
   ],
   "source": [
    "print('학습 데이터 점수: {}'.format(model.score(X_train, y_train)))\n",
    "print('평가 데이터 점수: {}'.format(model.score(X_test, y_test)))"
   ]
  },
  {
   "cell_type": "code",
   "execution_count": 102,
   "metadata": {
    "id": "pnbf0GgMm0Bl"
   },
   "outputs": [],
   "source": [
    "def make_meshgrid(x, y, h=.02):\n",
    "    x_min, x_max = x.min()-1, x.max()+1\n",
    "    y_min, y_max = y.min()-1, y.max()+1\n",
    "    xx, yy = np.meshgrid(np.arange(x_min, x_max, h),\n",
    "                        np.arange(y_min, y_max, h))\n",
    "    \n",
    "    return xx, yy"
   ]
  },
  {
   "cell_type": "code",
   "execution_count": 103,
   "metadata": {
    "id": "h-5OjkXRm0Br"
   },
   "outputs": [],
   "source": [
    "def plot_contours(clf, xx, yy, **params):\n",
    "    Z = clf.predict(np.c_[xx.ravel(), yy.ravel()])\n",
    "    Z = Z.reshape(xx.shape)\n",
    "    out = plt.contourf(xx, yy, Z, **params)\n",
    "    \n",
    "    return out"
   ]
  },
  {
   "cell_type": "code",
   "execution_count": 104,
   "metadata": {
    "id": "Lz5Bw7wIhS6q"
   },
   "outputs": [],
   "source": [
    "X_comp = TSNE(n_components=2).fit_transform(X)\n",
    "X0, X1 = X_comp[:, 0], X_comp[:, 1]\n",
    "xx, yy = make_meshgrid(X0, X1)"
   ]
  },
  {
   "cell_type": "code",
   "execution_count": 105,
   "metadata": {
    "id": "Hg9cHUlnhXfG"
   },
   "outputs": [
    {
     "data": {
      "text/plain": [
       "<matplotlib.collections.PathCollection at 0x210123d2cd0>"
      ]
     },
     "execution_count": 105,
     "metadata": {},
     "output_type": "execute_result"
    },
    {
     "data": {
      "image/png": "[encoded data removed]",
      "text/plain": [
       "<Figure size 432x288 with 1 Axes>"
      ]
     },
     "metadata": {},
     "output_type": "display_data"
    }
   ],
   "source": [
    "model.fit(X_comp, y)\n",
    "\n",
    "plot_contours(model, xx, yy, cmap=plt.cm.coolwarm, alpha=0.7)\n",
    "plt.scatter(X0, X1, c=y, cmap=plt.cm.coolwarm, s=20, edgecolor='k')"
   ]
  },
  {
   "cell_type": "code",
   "execution_count": 107,
   "metadata": {
    "id": "lBRJHuzThp9Y"
   },
   "outputs": [
    {
     "name": "stderr",
     "output_type": "stream",
     "text": [
      "[Parallel(n_jobs=6)]: Using backend LokyBackend with 6 concurrent workers.\n",
      "[Parallel(n_jobs=6)]: Done   5 out of   5 | elapsed:    2.2s finished\n"
     ]
    },
    {
     "data": {
      "text/plain": [
       "{'fit_time': array([0.00398946, 0.00398946, 0.004987  , 0.0039885 , 0.00498581]),\n",
       " 'score_time': array([0.00199437, 0.00199437, 0.00299001, 0.00199389, 0.00099659]),\n",
       " 'test_score': array([0.97368421, 0.95614035, 1.        , 0.96491228, 0.97345133])}"
      ]
     },
     "execution_count": 107,
     "metadata": {},
     "output_type": "execute_result"
    }
   ],
   "source": [
    "estimator = make_pipeline(StandardScaler(), SVC(kernel='rbf'))\n",
    "\n",
    "\n",
    "cross_validate(\n",
    "    estimator=estimator,\n",
    "    X=X, y=y,\n",
    "    cv=5,\n",
    "    n_jobs = multiprocessing.cpu_count(),\n",
    "    verbose=True\n",
    ")"
   ]
  },
  {
   "cell_type": "code",
   "execution_count": 111,
   "metadata": {
    "id": "VorKONXah5JG"
   },
   "outputs": [
    {
     "name": "stdout",
     "output_type": "stream",
     "text": [
      "Fitting 5 folds for each of 8 candidates, totalling 40 fits\n"
     ]
    },
    {
     "name": "stderr",
     "output_type": "stream",
     "text": [
      "C:\\Users\\2020 M\\anaconda3\\lib\\site-packages\\sklearn\\model_selection\\_search.py:918: UserWarning: One or more of the test scores are non-finite: [       nan 0.94553641        nan        nan        nan 0.97363763\n",
      "        nan 0.6274181 ]\n",
      "  warnings.warn(\n"
     ]
    },
    {
     "data": {
      "text/plain": [
       "GridSearchCV(cv=5,\n",
       "             estimator=Pipeline(steps=[('scaler', StandardScaler()),\n",
       "                                       ('model', SVC())]),\n",
       "             n_jobs=6,\n",
       "             param_grid=[{'model__C': [0.1, 0, 1, 0.01],\n",
       "                          'model__gamma': ['scaler', 'auto']}],\n",
       "             verbose=True)"
      ]
     },
     "execution_count": 111,
     "metadata": {},
     "output_type": "execute_result"
    }
   ],
   "source": [
    "pipe = Pipeline([('scaler', StandardScaler()),\n",
    "                ('model', SVC(kernel='rbf'))])\n",
    "param_grid = [{'model__gamma': ['scaler', 'auto'],\n",
    "              'model__C': [0.1, 0,1, 0.01]}]\n",
    "\n",
    "gs = GridSearchCV(\n",
    "    estimator=pipe,\n",
    "    param_grid=param_grid,\n",
    "    n_jobs=multiprocessing.cpu_count(),\n",
    "    cv=5,\n",
    "    verbose=True\n",
    ")\n",
    "gs.fit(X, y)"
   ]
  },
  {
   "cell_type": "code",
   "execution_count": 112,
   "metadata": {
    "id": "xqwLlKzSh9Un"
   },
   "outputs": [
    {
     "data": {
      "text/plain": [
       "Pipeline(steps=[('scaler', StandardScaler()),\n",
       "                ('model', SVC(C=1, gamma='auto'))])"
      ]
     },
     "execution_count": 112,
     "metadata": {},
     "output_type": "execute_result"
    }
   ],
   "source": [
    "gs.best_estimator_"
   ]
  },
  {
   "cell_type": "code",
   "execution_count": 113,
   "metadata": {
    "id": "d0Otann9iEOk"
   },
   "outputs": [
    {
     "data": {
      "text/plain": [
       "Pipeline(steps=[('scaler', StandardScaler()),\n",
       "                ('model', SVC(C=1, gamma='auto'))])"
      ]
     },
     "execution_count": 113,
     "metadata": {},
     "output_type": "execute_result"
    }
   ],
   "source": [
    "model = gs.best_estimator_\n",
    "model.fit(X_train, y_train)"
   ]
  },
  {
   "cell_type": "code",
   "execution_count": 114,
   "metadata": {
    "id": "zc_xkMfHiI-N"
   },
   "outputs": [
    {
     "name": "stdout",
     "output_type": "stream",
     "text": [
      "학습 데이터 점수: 0.9824175824175824\n",
      "평가 데이터 점수: 0.32456140350877194\n"
     ]
    }
   ],
   "source": [
    "print('학습 데이터 점수: {}'.format(model.score(X_train, y_train)))\n",
    "print('평가 데이터 점수: {}'.format(model.score(X_test, y_test)))"
   ]
  },
  {
   "cell_type": "markdown",
   "metadata": {
    "id": "8488abTBN-GA"
   },
   "source": [
    "### 붓꽃"
   ]
  },
  {
   "cell_type": "code",
   "execution_count": 115,
   "metadata": {
    "id": "LtHeKTDjhF24"
   },
   "outputs": [],
   "source": [
    "X, y = load_iris(return_X_y=True)\n",
    "X_train, X_test, y_train, y_test = train_test_split(X, y, test_size=0.2)"
   ]
  },
  {
   "cell_type": "code",
   "execution_count": 116,
   "metadata": {
    "id": "UmSGCO2nhIsv"
   },
   "outputs": [],
   "source": [
    "scaler = StandardScaler()\n",
    "scaler.fit(X_train)\n",
    "X_train = scaler.transform(X_train)\n",
    "X_test = scaler.transform(X_test)"
   ]
  },
  {
   "cell_type": "code",
   "execution_count": 117,
   "metadata": {
    "id": "Js0bF-5dhMFu"
   },
   "outputs": [
    {
     "data": {
      "text/plain": [
       "SVC()"
      ]
     },
     "execution_count": 117,
     "metadata": {},
     "output_type": "execute_result"
    }
   ],
   "source": [
    "model = SVC(kernel='rbf')\n",
    "model.fit(X_train, y_train)"
   ]
  },
  {
   "cell_type": "code",
   "execution_count": 118,
   "metadata": {
    "id": "tqM1jJtQhPTD"
   },
   "outputs": [
    {
     "name": "stdout",
     "output_type": "stream",
     "text": [
      "학습 데이터 점수: 0.9666666666666667\n",
      "평가 데이터 점수: 1.0\n"
     ]
    }
   ],
   "source": [
    "print('학습 데이터 점수: {}'.format(model.score(X_train, y_train)))\n",
    "print('평가 데이터 점수: {}'.format(model.score(X_test, y_test)))"
   ]
  },
  {
   "cell_type": "code",
   "execution_count": 119,
   "metadata": {
    "id": "pnbf0GgMm0Bl"
   },
   "outputs": [],
   "source": [
    "def make_meshgrid(x, y, h=.02):\n",
    "    x_min, x_max = x.min()-1, x.max()+1\n",
    "    y_min, y_max = y.min()-1, y.max()+1\n",
    "    xx, yy = np.meshgrid(np.arange(x_min, x_max, h),\n",
    "                        np.arange(y_min, y_max, h))\n",
    "    \n",
    "    return xx, yy"
   ]
  },
  {
   "cell_type": "code",
   "execution_count": 120,
   "metadata": {
    "id": "h-5OjkXRm0Br"
   },
   "outputs": [],
   "source": [
    "def plot_contours(clf, xx, yy, **params):\n",
    "    Z = clf.predict(np.c_[xx.ravel(), yy.ravel()])\n",
    "    Z = Z.reshape(xx.shape)\n",
    "    out = plt.contourf(xx, yy, Z, **params)\n",
    "    \n",
    "    return out"
   ]
  },
  {
   "cell_type": "code",
   "execution_count": 121,
   "metadata": {
    "id": "Lz5Bw7wIhS6q"
   },
   "outputs": [],
   "source": [
    "X_comp = TSNE(n_components=2).fit_transform(X)\n",
    "X0, X1 = X_comp[:, 0], X_comp[:, 1]\n",
    "xx, yy = make_meshgrid(X0, X1)"
   ]
  },
  {
   "cell_type": "code",
   "execution_count": 122,
   "metadata": {
    "id": "Hg9cHUlnhXfG"
   },
   "outputs": [
    {
     "data": {
      "text/plain": [
       "<matplotlib.collections.PathCollection at 0x2101c0fda30>"
      ]
     },
     "execution_count": 122,
     "metadata": {},
     "output_type": "execute_result"
    },
    {
     "data": {
      "image/png": "[encoded data removed]",
      "text/plain": [
       "<Figure size 432x288 with 1 Axes>"
      ]
     },
     "metadata": {},
     "output_type": "display_data"
    }
   ],
   "source": [
    "model.fit(X_comp, y)\n",
    "\n",
    "plot_contours(model, xx, yy, cmap=plt.cm.coolwarm, alpha=0.7)\n",
    "plt.scatter(X0, X1, c=y, cmap=plt.cm.coolwarm, s=20, edgecolor='k')"
   ]
  },
  {
   "cell_type": "code",
   "execution_count": 123,
   "metadata": {
    "id": "lBRJHuzThp9Y"
   },
   "outputs": [
    {
     "name": "stderr",
     "output_type": "stream",
     "text": [
      "[Parallel(n_jobs=6)]: Using backend LokyBackend with 6 concurrent workers.\n",
      "[Parallel(n_jobs=6)]: Done   5 out of   5 | elapsed:    2.2s finished\n"
     ]
    },
    {
     "data": {
      "text/plain": [
       "{'fit_time': array([0.00199556, 0.00199294, 0.00199556, 0.00199485, 0.00199485]),\n",
       " 'score_time': array([0.        , 0.        , 0.        , 0.00099778, 0.00099778]),\n",
       " 'test_score': array([0.96666667, 0.96666667, 0.96666667, 0.93333333, 1.        ])}"
      ]
     },
     "execution_count": 123,
     "metadata": {},
     "output_type": "execute_result"
    }
   ],
   "source": [
    "estimator = make_pipeline(StandardScaler(), SVC(kernel='rbf'))\n",
    "\n",
    "\n",
    "cross_validate(\n",
    "    estimator=estimator,\n",
    "    X=X, y=y,\n",
    "    cv=5,\n",
    "    n_jobs = multiprocessing.cpu_count(),\n",
    "    verbose=True\n",
    ")"
   ]
  },
  {
   "cell_type": "code",
   "execution_count": 124,
   "metadata": {
    "id": "VorKONXah5JG"
   },
   "outputs": [
    {
     "name": "stdout",
     "output_type": "stream",
     "text": [
      "Fitting 5 folds for each of 8 candidates, totalling 40 fits\n"
     ]
    },
    {
     "name": "stderr",
     "output_type": "stream",
     "text": [
      "C:\\Users\\2020 M\\anaconda3\\lib\\site-packages\\sklearn\\model_selection\\_search.py:918: UserWarning: One or more of the test scores are non-finite: [       nan 0.92              nan        nan        nan 0.96666667\n",
      "        nan 0.88666667]\n",
      "  warnings.warn(\n"
     ]
    },
    {
     "data": {
      "text/plain": [
       "GridSearchCV(cv=5,\n",
       "             estimator=Pipeline(steps=[('scaler', StandardScaler()),\n",
       "                                       ('model', SVC())]),\n",
       "             n_jobs=6,\n",
       "             param_grid=[{'model__C': [0.1, 0, 1, 0.01],\n",
       "                          'model__gamma': ['scaler', 'auto']}],\n",
       "             verbose=True)"
      ]
     },
     "execution_count": 124,
     "metadata": {},
     "output_type": "execute_result"
    }
   ],
   "source": [
    "pipe = Pipeline([('scaler', StandardScaler()),\n",
    "                ('model', SVC(kernel='rbf'))])\n",
    "param_grid = [{'model__gamma': ['scaler', 'auto'],\n",
    "              'model__C': [0.1, 0,1, 0.01]}]\n",
    "\n",
    "gs = GridSearchCV(\n",
    "    estimator=pipe,\n",
    "    param_grid=param_grid,\n",
    "    n_jobs=multiprocessing.cpu_count(),\n",
    "    cv=5,\n",
    "    verbose=True\n",
    ")\n",
    "gs.fit(X, y)"
   ]
  },
  {
   "cell_type": "code",
   "execution_count": 125,
   "metadata": {
    "id": "xqwLlKzSh9Un"
   },
   "outputs": [
    {
     "data": {
      "text/plain": [
       "Pipeline(steps=[('scaler', StandardScaler()),\n",
       "                ('model', SVC(C=1, gamma='auto'))])"
      ]
     },
     "execution_count": 125,
     "metadata": {},
     "output_type": "execute_result"
    }
   ],
   "source": [
    "gs.best_estimator_"
   ]
  },
  {
   "cell_type": "code",
   "execution_count": 126,
   "metadata": {
    "id": "d0Otann9iEOk"
   },
   "outputs": [
    {
     "data": {
      "text/plain": [
       "Pipeline(steps=[('scaler', StandardScaler()),\n",
       "                ('model', SVC(C=1, gamma='auto'))])"
      ]
     },
     "execution_count": 126,
     "metadata": {},
     "output_type": "execute_result"
    }
   ],
   "source": [
    "model = gs.best_estimator_\n",
    "model.fit(X_train, y_train)"
   ]
  },
  {
   "cell_type": "code",
   "execution_count": 127,
   "metadata": {
    "id": "zc_xkMfHiI-N"
   },
   "outputs": [
    {
     "name": "stdout",
     "output_type": "stream",
     "text": [
      "학습 데이터 점수: 0.9666666666666667\n",
      "평가 데이터 점수: 1.0\n"
     ]
    }
   ],
   "source": [
    "print('학습 데이터 점수: {}'.format(model.score(X_train, y_train)))\n",
    "print('평가 데이터 점수: {}'.format(model.score(X_test, y_test)))"
   ]
  },
  {
   "cell_type": "markdown",
   "metadata": {
    "id": "nidX5eMZ3ncE"
   },
   "source": [
    "### 와인"
   ]
  },
  {
   "cell_type": "code",
   "execution_count": 128,
   "metadata": {
    "id": "LtHeKTDjhF24"
   },
   "outputs": [],
   "source": [
    "X, y = load_wine(return_X_y=True)\n",
    "X_train, X_test, y_train, y_test = train_test_split(X, y, test_size=0.2)"
   ]
  },
  {
   "cell_type": "code",
   "execution_count": 129,
   "metadata": {
    "id": "UmSGCO2nhIsv"
   },
   "outputs": [],
   "source": [
    "scaler = StandardScaler()\n",
    "scaler.fit(X_train)\n",
    "X_train = scaler.transform(X_train)\n",
    "X_test = scaler.transform(X_test)"
   ]
  },
  {
   "cell_type": "code",
   "execution_count": 130,
   "metadata": {
    "id": "Js0bF-5dhMFu"
   },
   "outputs": [
    {
     "data": {
      "text/plain": [
       "SVC()"
      ]
     },
     "execution_count": 130,
     "metadata": {},
     "output_type": "execute_result"
    }
   ],
   "source": [
    "model = SVC(kernel='rbf')\n",
    "model.fit(X_train, y_train)"
   ]
  },
  {
   "cell_type": "code",
   "execution_count": 131,
   "metadata": {
    "id": "tqM1jJtQhPTD"
   },
   "outputs": [
    {
     "name": "stdout",
     "output_type": "stream",
     "text": [
      "학습 데이터 점수: 1.0\n",
      "평가 데이터 점수: 1.0\n"
     ]
    }
   ],
   "source": [
    "print('학습 데이터 점수: {}'.format(model.score(X_train, y_train)))\n",
    "print('평가 데이터 점수: {}'.format(model.score(X_test, y_test)))"
   ]
  },
  {
   "cell_type": "code",
   "execution_count": 132,
   "metadata": {
    "id": "pnbf0GgMm0Bl"
   },
   "outputs": [],
   "source": [
    "def make_meshgrid(x, y, h=.02):\n",
    "    x_min, x_max = x.min()-1, x.max()+1\n",
    "    y_min, y_max = y.min()-1, y.max()+1\n",
    "    xx, yy = np.meshgrid(np.arange(x_min, x_max, h),\n",
    "                        np.arange(y_min, y_max, h))\n",
    "    \n",
    "    return xx, yy"
   ]
  },
  {
   "cell_type": "code",
   "execution_count": 133,
   "metadata": {
    "id": "h-5OjkXRm0Br"
   },
   "outputs": [],
   "source": [
    "def plot_contours(clf, xx, yy, **params):\n",
    "    Z = clf.predict(np.c_[xx.ravel(), yy.ravel()])\n",
    "    Z = Z.reshape(xx.shape)\n",
    "    out = plt.contourf(xx, yy, Z, **params)\n",
    "    \n",
    "    return out"
   ]
  },
  {
   "cell_type": "code",
   "execution_count": 134,
   "metadata": {
    "id": "Lz5Bw7wIhS6q"
   },
   "outputs": [],
   "source": [
    "X_comp = TSNE(n_components=2).fit_transform(X)\n",
    "X0, X1 = X_comp[:, 0], X_comp[:, 1]\n",
    "xx, yy = make_meshgrid(X0, X1)"
   ]
  },
  {
   "cell_type": "code",
   "execution_count": 135,
   "metadata": {
    "id": "Hg9cHUlnhXfG"
   },
   "outputs": [
    {
     "data": {
      "text/plain": [
       "<matplotlib.collections.PathCollection at 0x2101be004c0>"
      ]
     },
     "execution_count": 135,
     "metadata": {},
     "output_type": "execute_result"
    },
    {
     "data": {
      "image/png": "[encoded data removed]",
      "text/plain": [
       "<Figure size 432x288 with 1 Axes>"
      ]
     },
     "metadata": {},
     "output_type": "display_data"
    }
   ],
   "source": [
    "model.fit(X_comp, y)\n",
    "\n",
    "plot_contours(model, xx, yy, cmap=plt.cm.coolwarm, alpha=0.7)\n",
    "plt.scatter(X0, X1, c=y, cmap=plt.cm.coolwarm, s=20, edgecolor='k')"
   ]
  },
  {
   "cell_type": "code",
   "execution_count": 136,
   "metadata": {
    "id": "lBRJHuzThp9Y"
   },
   "outputs": [
    {
     "name": "stderr",
     "output_type": "stream",
     "text": [
      "[Parallel(n_jobs=6)]: Using backend LokyBackend with 6 concurrent workers.\n",
      "[Parallel(n_jobs=6)]: Done   5 out of   5 | elapsed:    0.0s finished\n"
     ]
    },
    {
     "data": {
      "text/plain": [
       "{'fit_time': array([0.00099802, 0.00199509, 0.00199509, 0.00199437, 0.00199437]),\n",
       " 'score_time': array([0.00099707, 0.        , 0.0009973 , 0.        , 0.00099659]),\n",
       " 'test_score': array([1.        , 0.97222222, 0.94444444, 1.        , 1.        ])}"
      ]
     },
     "execution_count": 136,
     "metadata": {},
     "output_type": "execute_result"
    }
   ],
   "source": [
    "estimator = make_pipeline(StandardScaler(), SVC(kernel='rbf'))\n",
    "\n",
    "\n",
    "cross_validate(\n",
    "    estimator=estimator,\n",
    "    X=X, y=y,\n",
    "    cv=5,\n",
    "    n_jobs = multiprocessing.cpu_count(),\n",
    "    verbose=True\n",
    ")"
   ]
  },
  {
   "cell_type": "code",
   "execution_count": 137,
   "metadata": {
    "id": "VorKONXah5JG"
   },
   "outputs": [
    {
     "name": "stdout",
     "output_type": "stream",
     "text": [
      "Fitting 5 folds for each of 8 candidates, totalling 40 fits\n"
     ]
    },
    {
     "name": "stderr",
     "output_type": "stream",
     "text": [
      "C:\\Users\\2020 M\\anaconda3\\lib\\site-packages\\sklearn\\model_selection\\_search.py:918: UserWarning: One or more of the test scores are non-finite: [       nan 0.96634921        nan        nan        nan 0.98333333\n",
      "        nan 0.39904762]\n",
      "  warnings.warn(\n"
     ]
    },
    {
     "data": {
      "text/plain": [
       "GridSearchCV(cv=5,\n",
       "             estimator=Pipeline(steps=[('scaler', StandardScaler()),\n",
       "                                       ('model', SVC())]),\n",
       "             n_jobs=6,\n",
       "             param_grid=[{'model__C': [0.1, 0, 1, 0.01],\n",
       "                          'model__gamma': ['scaler', 'auto']}],\n",
       "             verbose=True)"
      ]
     },
     "execution_count": 137,
     "metadata": {},
     "output_type": "execute_result"
    }
   ],
   "source": [
    "pipe = Pipeline([('scaler', StandardScaler()),\n",
    "                ('model', SVC(kernel='rbf'))])\n",
    "param_grid = [{'model__gamma': ['scaler', 'auto'],\n",
    "              'model__C': [0.1, 0,1, 0.01]}]\n",
    "\n",
    "gs = GridSearchCV(\n",
    "    estimator=pipe,\n",
    "    param_grid=param_grid,\n",
    "    n_jobs=multiprocessing.cpu_count(),\n",
    "    cv=5,\n",
    "    verbose=True\n",
    ")\n",
    "gs.fit(X, y)"
   ]
  },
  {
   "cell_type": "code",
   "execution_count": 138,
   "metadata": {
    "id": "xqwLlKzSh9Un"
   },
   "outputs": [
    {
     "data": {
      "text/plain": [
       "Pipeline(steps=[('scaler', StandardScaler()),\n",
       "                ('model', SVC(C=1, gamma='auto'))])"
      ]
     },
     "execution_count": 138,
     "metadata": {},
     "output_type": "execute_result"
    }
   ],
   "source": [
    "gs.best_estimator_"
   ]
  },
  {
   "cell_type": "code",
   "execution_count": 139,
   "metadata": {
    "id": "d0Otann9iEOk"
   },
   "outputs": [
    {
     "data": {
      "text/plain": [
       "Pipeline(steps=[('scaler', StandardScaler()),\n",
       "                ('model', SVC(C=1, gamma='auto'))])"
      ]
     },
     "execution_count": 139,
     "metadata": {},
     "output_type": "execute_result"
    }
   ],
   "source": [
    "model = gs.best_estimator_\n",
    "model.fit(X_train, y_train)"
   ]
  },
  {
   "cell_type": "code",
   "execution_count": 140,
   "metadata": {
    "id": "zc_xkMfHiI-N"
   },
   "outputs": [
    {
     "name": "stdout",
     "output_type": "stream",
     "text": [
      "학습 데이터 점수: 1.0\n",
      "평가 데이터 점수: 1.0\n"
     ]
    }
   ],
   "source": [
    "print('학습 데이터 점수: {}'.format(model.score(X_train, y_train)))\n",
    "print('평가 데이터 점수: {}'.format(model.score(X_test, y_test)))"
   ]
  }
 ],
 "metadata": {
  "colab": {
   "collapsed_sections": [],
   "name": "_5 서포트 벡터 머신(Support Vector Machines).ipynb",
   "provenance": []
  },
  "kernelspec": {
   "display_name": "Python 3",
   "language": "python",
   "name": "python3"
  },
  "language_info": {
   "codemirror_mode": {
    "name": "ipython",
    "version": 3
   },
   "file_extension": ".py",
   "mimetype": "text/x-python",
   "name": "python",
   "nbconvert_exporter": "python",
   "pygments_lexer": "ipython3",
   "version": "3.8.8"
  }
 },
 "nbformat": 4,
 "nbformat_minor": 1
}
