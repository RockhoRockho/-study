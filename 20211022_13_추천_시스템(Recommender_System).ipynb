{
  "nbformat": 4,
  "nbformat_minor": 0,
  "metadata": {
    "colab": {
      "name": "_13 추천 시스템(Recommender System).ipynb",
      "provenance": [],
      "collapsed_sections": [],
      "toc_visible": true,
      "include_colab_link": true
    },
    "kernelspec": {
      "name": "python3",
      "display_name": "Python 3"
    }
  },
  "cells": [
    {
      "cell_type": "markdown",
      "metadata": {
        "id": "view-in-github",
        "colab_type": "text"
      },
      "source": [
        "<a href=\"https://colab.research.google.com/github/RockhoRockho/ScikitLearn-study/blob/main/20211022_13_%EC%B6%94%EC%B2%9C_%EC%8B%9C%EC%8A%A4%ED%85%9C(Recommender_System).ipynb\" target=\"_parent\"><img src=\"https://colab.research.google.com/assets/colab-badge.svg\" alt=\"Open In Colab\"/></a>"
      ]
    },
    {
      "cell_type": "markdown",
      "metadata": {
        "id": "oIAnNuuX2EOr"
      },
      "source": [
        "# 추천 시스템 (Recommender Systems)\n",
        "\n",
        "* 추천 시스템은 크게 두가지로 구분 가능\n",
        "  * 컨텐츠 기반 필터링 (content-based filtering)\n",
        "  * 협업 필터링 (collaborative filtering)\n",
        "* 두가지를 조합한 hybrid 방식도 가능\n",
        "* 컨텐츠 기반 필터링은 지금까지 사용자의 이전 행동과 명시적 피드백을 통해 사용자가 좋아하는 것과 유사한 항목을 추천\n",
        "* 협업 필터링은 사용자와 항목간의 유사성을 동시에 사용해 추천"
      ]
    },
    {
      "cell_type": "markdown",
      "metadata": {
        "id": "pKQvtsfX2bRf"
      },
      "source": [
        "## Surprise\n",
        "\n",
        "* 추천 시스템 개발을 위한 라이브러리\n",
        "* 다양한 모델과 데이터 제공\n",
        "* scikit-learn과 유사한 사용 방법"
      ]
    },
    {
      "cell_type": "code",
      "metadata": {
        "id": "AvuLuP8J16Eb",
        "colab": {
          "base_uri": "https://localhost:8080/"
        },
        "outputId": "9168d416-4ada-4501-c139-47f33b8a4ada"
      },
      "source": [
        "!pip install scikit-surprise"
      ],
      "execution_count": 1,
      "outputs": [
        {
          "output_type": "stream",
          "name": "stdout",
          "text": [
            "Collecting scikit-surprise\n",
            "  Downloading scikit-surprise-1.1.1.tar.gz (11.8 MB)\n",
            "\u001b[K     |████████████████████████████████| 11.8 MB 52 kB/s \n",
            "\u001b[?25hRequirement already satisfied: joblib>=0.11 in /usr/local/lib/python3.7/dist-packages (from scikit-surprise) (1.0.1)\n",
            "Requirement already satisfied: numpy>=1.11.2 in /usr/local/lib/python3.7/dist-packages (from scikit-surprise) (1.19.5)\n",
            "Requirement already satisfied: scipy>=1.0.0 in /usr/local/lib/python3.7/dist-packages (from scikit-surprise) (1.4.1)\n",
            "Requirement already satisfied: six>=1.10.0 in /usr/local/lib/python3.7/dist-packages (from scikit-surprise) (1.15.0)\n",
            "Building wheels for collected packages: scikit-surprise\n",
            "  Building wheel for scikit-surprise (setup.py) ... \u001b[?25l\u001b[?25hdone\n",
            "  Created wheel for scikit-surprise: filename=scikit_surprise-1.1.1-cp37-cp37m-linux_x86_64.whl size=1619410 sha256=3d6c7ab35cff2a267aff349639f4feaff72dd6ef4d4b21f8857adf4758c8c6de\n",
            "  Stored in directory: /root/.cache/pip/wheels/76/44/74/b498c42be47b2406bd27994e16c5188e337c657025ab400c1c\n",
            "Successfully built scikit-surprise\n",
            "Installing collected packages: scikit-surprise\n",
            "Successfully installed scikit-surprise-1.1.1\n"
          ]
        }
      ]
    },
    {
      "cell_type": "markdown",
      "metadata": {
        "id": "f8S2mbY13TPl"
      },
      "source": [
        "간단한 surprise 실습"
      ]
    },
    {
      "cell_type": "code",
      "metadata": {
        "id": "FXrDk0XH2vbx"
      },
      "source": [
        "from surprise import SVD\n",
        "from surprise import Dataset\n",
        "from surprise.model_selection import cross_validate"
      ],
      "execution_count": 3,
      "outputs": []
    },
    {
      "cell_type": "code",
      "metadata": {
        "id": "M0SJB24k3ReQ",
        "colab": {
          "base_uri": "https://localhost:8080/"
        },
        "outputId": "d96307d9-c3c2-4136-c9c8-91e28e1e091a"
      },
      "source": [
        "data = Dataset.load_builtin('ml-100k', prompt=False)\n",
        "data.raw_ratings[:10]"
      ],
      "execution_count": 5,
      "outputs": [
        {
          "output_type": "execute_result",
          "data": {
            "text/plain": [
              "[('196', '242', 3.0, '881250949'),\n",
              " ('186', '302', 3.0, '891717742'),\n",
              " ('22', '377', 1.0, '878887116'),\n",
              " ('244', '51', 2.0, '880606923'),\n",
              " ('166', '346', 1.0, '886397596'),\n",
              " ('298', '474', 4.0, '884182806'),\n",
              " ('115', '265', 2.0, '881171488'),\n",
              " ('253', '465', 5.0, '891628467'),\n",
              " ('305', '451', 3.0, '886324817'),\n",
              " ('6', '86', 3.0, '883603013')]"
            ]
          },
          "metadata": {},
          "execution_count": 5
        }
      ]
    },
    {
      "cell_type": "code",
      "metadata": {
        "id": "IGZjsosZ3jwy"
      },
      "source": [
        "model = SVD()"
      ],
      "execution_count": 6,
      "outputs": []
    },
    {
      "cell_type": "code",
      "metadata": {
        "id": "nAF9VVHt9qz9",
        "colab": {
          "base_uri": "https://localhost:8080/"
        },
        "outputId": "1396b3b7-9325-44c7-c89e-86aa4266c8b5"
      },
      "source": [
        "cross_validate(model, data, measures=['rmse', 'mae'], cv=5, verbose=True)"
      ],
      "execution_count": 7,
      "outputs": [
        {
          "output_type": "stream",
          "name": "stdout",
          "text": [
            "Evaluating RMSE, MAE of algorithm SVD on 5 split(s).\n",
            "\n",
            "                  Fold 1  Fold 2  Fold 3  Fold 4  Fold 5  Mean    Std     \n",
            "RMSE (testset)    0.9439  0.9249  0.9446  0.9362  0.9358  0.9371  0.0071  \n",
            "MAE (testset)     0.7435  0.7311  0.7429  0.7379  0.7382  0.7387  0.0044  \n",
            "Fit time          4.63    4.64    4.61    4.64    4.65    4.63    0.01    \n",
            "Test time         0.16    0.26    0.25    0.29    0.20    0.23    0.05    \n"
          ]
        },
        {
          "output_type": "execute_result",
          "data": {
            "text/plain": [
              "{'fit_time': (4.628915548324585,\n",
              "  4.635348796844482,\n",
              "  4.609632253646851,\n",
              "  4.638245344161987,\n",
              "  4.650753021240234),\n",
              " 'test_mae': array([0.74352602, 0.73114729, 0.7428806 , 0.7378849 , 0.738203  ]),\n",
              " 'test_rmse': array([0.94390839, 0.92487421, 0.94459058, 0.93622973, 0.93583518]),\n",
              " 'test_time': (0.16227126121520996,\n",
              "  0.26148533821105957,\n",
              "  0.25231409072875977,\n",
              "  0.2864875793457031,\n",
              "  0.19741415977478027)}"
            ]
          },
          "metadata": {},
          "execution_count": 7
        }
      ]
    },
    {
      "cell_type": "markdown",
      "metadata": {
        "id": "tP5L65zvCRlv"
      },
      "source": [
        "## 컨텐츠 기반 필터링 (Content-based Filtering)\n",
        "\n",
        "* 컨텐츠 기반 필터링은 이전의 행동과 명시적 피드백을 통해 좋아하는 것과 유사한 항목을 추천\n",
        "  * ex) 내가 지금 까지 시청한 영화 목록과 다른 사용자의 시청 목록을 비교해 나와 비슷한 취향의 사용자가 시청한 영화를 추천\n",
        "* 유사도를 기반으로 추천\n",
        "* 컨텐츠 기반 필터링은 다음과 같은 장단점이 있다.\n",
        "  * 장점\n",
        "    * 많은 수의 사용자를 대상으로 쉽게 확장 가능\n",
        "    * 사용자가 관심을 갖지 않던 상품 추천 가능\n",
        "  * 단점\n",
        "    * 입력 특성을 직접 설계해야 하기 때문에 많은 도메인 지식이 필요\n",
        "    * 사용자의 기존 관심사항을 기반으로만 추천 가능"
      ]
    },
    {
      "cell_type": "code",
      "metadata": {
        "id": "M81hRKa9-9pK"
      },
      "source": [
        "import numpy as np\n",
        "from surprise import Dataset"
      ],
      "execution_count": 8,
      "outputs": []
    },
    {
      "cell_type": "markdown",
      "metadata": {
        "id": "0NyTt1u8LLCP"
      },
      "source": [
        "* 이진 벡터의 내적을 통해 다른 사용자들과의 유사도 구하기\n",
        "* 나와 가장 높은 유사도를 가진 사용자의 시청 목록을 추천"
      ]
    },
    {
      "cell_type": "code",
      "metadata": {
        "id": "-Y3Y_rNWH-zT"
      },
      "source": [
        "data = Dataset.load_builtin('ml-100k', prompt=False)\n",
        "raw_data = np.array(data.raw_ratings, dtype=int)"
      ],
      "execution_count": 10,
      "outputs": []
    },
    {
      "cell_type": "code",
      "metadata": {
        "id": "z60YDlPOJzSr"
      },
      "source": [
        "raw_data[:, 0] -= 1\n",
        "raw_data[:, 1] -= 1"
      ],
      "execution_count": 11,
      "outputs": []
    },
    {
      "cell_type": "code",
      "metadata": {
        "id": "4f20U_BFIbQA",
        "colab": {
          "base_uri": "https://localhost:8080/"
        },
        "outputId": "8fc7bd72-7f52-4273-a496-04a609484cc5"
      },
      "source": [
        "n_users = np.max(raw_data[:, 0])\n",
        "n_movies = np.max(raw_data[:, 1])\n",
        "shape = (n_users + 1, n_movies + 1)\n",
        "shape"
      ],
      "execution_count": 13,
      "outputs": [
        {
          "output_type": "execute_result",
          "data": {
            "text/plain": [
              "(943, 1682)"
            ]
          },
          "metadata": {},
          "execution_count": 13
        }
      ]
    },
    {
      "cell_type": "code",
      "metadata": {
        "id": "JT6HXk_8I4Zd",
        "colab": {
          "base_uri": "https://localhost:8080/"
        },
        "outputId": "d1ca284c-6c38-4d88-c2cc-34130353a54a"
      },
      "source": [
        "adj_matrix = np.ndarray(shape, dtype=int)\n",
        "for user_id, movie_id, rating, time in raw_data:\n",
        "  adj_matrix[user_id][movie_id] = 1.\n",
        "adj_matrix"
      ],
      "execution_count": 14,
      "outputs": [
        {
          "output_type": "execute_result",
          "data": {
            "text/plain": [
              "array([[1, 1, 1, ..., 0, 0, 0],\n",
              "       [1, 0, 0, ..., 0, 0, 0],\n",
              "       [0, 0, 0, ..., 0, 0, 0],\n",
              "       ...,\n",
              "       [1, 0, 0, ..., 0, 0, 0],\n",
              "       [0, 0, 0, ..., 0, 0, 0],\n",
              "       [0, 1, 0, ..., 0, 0, 0]])"
            ]
          },
          "metadata": {},
          "execution_count": 14
        }
      ]
    },
    {
      "cell_type": "code",
      "metadata": {
        "id": "bVShJje-Jn0x",
        "colab": {
          "base_uri": "https://localhost:8080/"
        },
        "outputId": "eec0c6dd-dd22-4d97-a89b-d58b6ed4e0d5"
      },
      "source": [
        "my_id, my_vector = 0, adj_matrix[0]\n",
        "best_match, best_match_id, best_match_vector = -1, -1, []\n",
        "\n",
        "for user_id, user_vector in enumerate(adj_matrix):\n",
        "  if my_id != user_id:\n",
        "    similarity = np.dot(my_vector, user_vector)\n",
        "    if similarity > best_match:\n",
        "      best_match = similarity\n",
        "      best_match_id = user_id\n",
        "      best_match_vector = user_vector\n",
        "print('Best Match: {}, Best Match ID: {}'.format(best_match, best_match_id))"
      ],
      "execution_count": 16,
      "outputs": [
        {
          "output_type": "stream",
          "name": "stdout",
          "text": [
            "Best Match: 183, Best Match ID: 275\n"
          ]
        }
      ]
    },
    {
      "cell_type": "code",
      "metadata": {
        "id": "mRr8UnD7MB7U",
        "colab": {
          "base_uri": "https://localhost:8080/"
        },
        "outputId": "44a06ae8-8b6e-4b22-a6b2-fd94bcb148ef"
      },
      "source": [
        "recommend_list = []\n",
        "for i, log in enumerate(zip(my_vector, best_match_vector)):\n",
        "  log1, log2 = log\n",
        "  if log1 < 1. and log2 > 0.:\n",
        "    recommend_list.append(i)\n",
        "print(recommend_list)"
      ],
      "execution_count": 17,
      "outputs": [
        {
          "output_type": "stream",
          "name": "stdout",
          "text": [
            "[272, 273, 275, 280, 281, 283, 287, 288, 289, 290, 292, 293, 297, 299, 300, 301, 302, 306, 312, 314, 315, 316, 317, 321, 322, 323, 324, 327, 330, 331, 332, 333, 339, 342, 345, 346, 353, 354, 355, 356, 357, 363, 364, 365, 366, 372, 374, 378, 379, 381, 382, 383, 384, 385, 386, 387, 390, 391, 392, 394, 395, 396, 398, 400, 401, 402, 403, 404, 405, 406, 407, 408, 409, 410, 412, 414, 416, 417, 418, 419, 420, 422, 424, 425, 426, 427, 428, 430, 431, 432, 435, 442, 446, 447, 448, 449, 450, 451, 452, 454, 455, 457, 460, 461, 462, 468, 469, 470, 471, 472, 473, 474, 478, 495, 500, 507, 517, 522, 525, 530, 539, 540, 543, 545, 546, 548, 549, 550, 551, 553, 557, 558, 560, 561, 562, 563, 565, 566, 567, 568, 570, 571, 574, 575, 576, 577, 580, 581, 582, 585, 587, 589, 590, 594, 596, 602, 623, 626, 627, 630, 633, 635, 639, 646, 648, 651, 652, 654, 657, 664, 668, 671, 677, 678, 681, 683, 684, 685, 690, 691, 692, 695, 696, 708, 709, 714, 718, 719, 720, 724, 726, 727, 731, 733, 734, 736, 738, 741, 742, 745, 746, 747, 749, 750, 754, 758, 762, 764, 767, 768, 769, 770, 771, 772, 773, 778, 779, 782, 785, 788, 789, 793, 795, 796, 799, 800, 801, 802, 805, 806, 808, 815, 819, 822, 824, 830, 839, 842, 843, 844, 852, 853, 870, 875, 878, 880, 889, 901, 914, 915, 918, 921, 927, 929, 930, 938, 940, 941, 942, 948, 950, 958, 968, 973, 974, 976, 992, 999, 1005, 1009, 1010, 1012, 1015, 1018, 1027, 1030, 1034, 1035, 1041, 1043, 1045, 1046, 1051, 1055, 1072, 1073, 1078, 1080, 1082, 1088, 1089, 1090, 1094, 1097, 1108, 1109, 1117, 1128, 1130, 1134, 1139, 1140, 1144, 1156, 1169, 1171, 1179, 1193, 1198, 1207, 1209, 1212, 1217, 1219, 1220, 1227, 1231, 1238, 1239, 1243, 1244, 1252, 1266, 1272, 1273, 1300, 1313, 1406, 1412, 1415, 1470, 1477, 1480, 1481, 1482]\n"
          ]
        }
      ]
    },
    {
      "cell_type": "markdown",
      "metadata": {
        "id": "zR7-LITWZQnJ"
      },
      "source": [
        "* 유클리드 거리를 사용해 추천\n",
        "$$euclidean = \\sqrt{\\sum_{d=1}^{D}(A_i - B_i)^2}$$\n",
        "* 거리가 가까울 수록(값이 작을 수록) 나와 유사한 사용자"
      ]
    },
    {
      "cell_type": "code",
      "metadata": {
        "colab": {
          "base_uri": "https://localhost:8080/"
        },
        "id": "HEdvYWgsuWFq",
        "outputId": "e26194c9-b18b-4e6e-822c-022b34152278"
      },
      "source": [
        "my_id, my_vector = 0, adj_matrix[0]\n",
        "best_match, best_match_id, best_match_vector = 9999, -1, []\n",
        "\n",
        "for user_id, user_vector in enumerate(adj_matrix):\n",
        "  if my_id != user_id:\n",
        "    euclidean_dist = np.sqrt(np.sum(np.square(my_vector-user_vector)))\n",
        "    if euclidean_dist < best_match:\n",
        "      best_match = euclidean_dist\n",
        "      best_match_id = user_id\n",
        "      best_match_vector = user_vector\n",
        "print('Best Match: {}, Best Match ID: {}'.format(best_match, best_match_id))"
      ],
      "execution_count": 19,
      "outputs": [
        {
          "output_type": "stream",
          "name": "stdout",
          "text": [
            "Best Match: 14.832396974191326, Best Match ID: 737\n"
          ]
        }
      ]
    },
    {
      "cell_type": "code",
      "metadata": {
        "colab": {
          "base_uri": "https://localhost:8080/"
        },
        "id": "2d67NWATuWFq",
        "outputId": "4ce215f3-8e0b-4038-ccd7-5273a99f5dfb"
      },
      "source": [
        "recommend_list = []\n",
        "for i, log in enumerate(zip(my_vector, best_match_vector)):\n",
        "  log1, log2 = log\n",
        "  if log1 < 1. and log2 > 0.:\n",
        "    recommend_list.append(i)\n",
        "print(recommend_list)"
      ],
      "execution_count": 20,
      "outputs": [
        {
          "output_type": "stream",
          "name": "stdout",
          "text": [
            "[297, 312, 317, 342, 356, 366, 379, 384, 392, 402, 404, 407, 417, 422, 428, 433, 448, 454, 469, 473, 495, 510, 516, 526, 527, 549, 567, 602, 635, 649, 650, 654, 658, 661, 664, 696, 731, 746, 750, 754, 915, 918, 925, 929, 950, 968, 1015, 1046]\n"
          ]
        }
      ]
    },
    {
      "cell_type": "markdown",
      "metadata": {
        "id": "52c6nfonct7x"
      },
      "source": [
        "* 코사인 유사도를 사용해 추천\n",
        "\n",
        "\\begin{equation}\n",
        "cos \\theta = \\frac{A \\cdot B}{||A|| \\times ||B||}\n",
        "\\end{equation}\n",
        "* 두 벡터가 이루고 있는 각을 계산"
      ]
    },
    {
      "cell_type": "code",
      "metadata": {
        "id": "WEJMnmAYejJW"
      },
      "source": [
        "def compute_cos_similarity(v1, v2):\n",
        "  norm1 = np.sqrt(np.sum(np.square(v1)))\n",
        "  norm2 = np.sqrt(np.sum(np.square(v2)))\n",
        "  dot = np.dot(v1, v2)\n",
        "  return dot / (norm1 * norm2)"
      ],
      "execution_count": 21,
      "outputs": []
    },
    {
      "cell_type": "code",
      "metadata": {
        "colab": {
          "base_uri": "https://localhost:8080/"
        },
        "id": "3O9gZLL2vBlo",
        "outputId": "15bbd471-f99c-480d-b988-c19c8be968ad"
      },
      "source": [
        "my_id, my_vector = 0, adj_matrix[0]\n",
        "best_match, best_match_id, best_match_vector = -1, -1, []\n",
        "\n",
        "for user_id, user_vector in enumerate(adj_matrix):\n",
        "  if my_id != user_id:\n",
        "    similarity = np.dot(my_vector, user_vector)\n",
        "    if similarity > best_match:\n",
        "      best_match = similarity\n",
        "      best_match_id = user_id\n",
        "      best_match_vector = user_vector\n",
        "print('Best Match: {}, Best Match ID: {}'.format(best_match, best_match_id))"
      ],
      "execution_count": 22,
      "outputs": [
        {
          "output_type": "stream",
          "name": "stdout",
          "text": [
            "Best Match: 183, Best Match ID: 275\n"
          ]
        }
      ]
    },
    {
      "cell_type": "code",
      "metadata": {
        "colab": {
          "base_uri": "https://localhost:8080/"
        },
        "id": "PH44olyBvBlq",
        "outputId": "3e7c8dba-1094-422e-b657-608b9324b173"
      },
      "source": [
        "recommend_list = []\n",
        "for i, log in enumerate(zip(my_vector, best_match_vector)):\n",
        "  log1, log2 = log\n",
        "  if log1 < 1. and log2 > 0.:\n",
        "    recommend_list.append(i)\n",
        "print(recommend_list)"
      ],
      "execution_count": 23,
      "outputs": [
        {
          "output_type": "stream",
          "name": "stdout",
          "text": [
            "[272, 273, 275, 280, 281, 283, 287, 288, 289, 290, 292, 293, 297, 299, 300, 301, 302, 306, 312, 314, 315, 316, 317, 321, 322, 323, 324, 327, 330, 331, 332, 333, 339, 342, 345, 346, 353, 354, 355, 356, 357, 363, 364, 365, 366, 372, 374, 378, 379, 381, 382, 383, 384, 385, 386, 387, 390, 391, 392, 394, 395, 396, 398, 400, 401, 402, 403, 404, 405, 406, 407, 408, 409, 410, 412, 414, 416, 417, 418, 419, 420, 422, 424, 425, 426, 427, 428, 430, 431, 432, 435, 442, 446, 447, 448, 449, 450, 451, 452, 454, 455, 457, 460, 461, 462, 468, 469, 470, 471, 472, 473, 474, 478, 495, 500, 507, 517, 522, 525, 530, 539, 540, 543, 545, 546, 548, 549, 550, 551, 553, 557, 558, 560, 561, 562, 563, 565, 566, 567, 568, 570, 571, 574, 575, 576, 577, 580, 581, 582, 585, 587, 589, 590, 594, 596, 602, 623, 626, 627, 630, 633, 635, 639, 646, 648, 651, 652, 654, 657, 664, 668, 671, 677, 678, 681, 683, 684, 685, 690, 691, 692, 695, 696, 708, 709, 714, 718, 719, 720, 724, 726, 727, 731, 733, 734, 736, 738, 741, 742, 745, 746, 747, 749, 750, 754, 758, 762, 764, 767, 768, 769, 770, 771, 772, 773, 778, 779, 782, 785, 788, 789, 793, 795, 796, 799, 800, 801, 802, 805, 806, 808, 815, 819, 822, 824, 830, 839, 842, 843, 844, 852, 853, 870, 875, 878, 880, 889, 901, 914, 915, 918, 921, 927, 929, 930, 938, 940, 941, 942, 948, 950, 958, 968, 973, 974, 976, 992, 999, 1005, 1009, 1010, 1012, 1015, 1018, 1027, 1030, 1034, 1035, 1041, 1043, 1045, 1046, 1051, 1055, 1072, 1073, 1078, 1080, 1082, 1088, 1089, 1090, 1094, 1097, 1108, 1109, 1117, 1128, 1130, 1134, 1139, 1140, 1144, 1156, 1169, 1171, 1179, 1193, 1198, 1207, 1209, 1212, 1217, 1219, 1220, 1227, 1231, 1238, 1239, 1243, 1244, 1252, 1266, 1272, 1273, 1300, 1313, 1406, 1412, 1415, 1470, 1477, 1480, 1481, 1482]\n"
          ]
        }
      ]
    },
    {
      "cell_type": "markdown",
      "metadata": {
        "id": "0dbZPgC4gZYw"
      },
      "source": [
        "기존 방법에 명시적 피드백(사용자가 평가한 영화 점수)을 추가해 실험"
      ]
    },
    {
      "cell_type": "code",
      "metadata": {
        "id": "_5udkr1PfGAD",
        "colab": {
          "base_uri": "https://localhost:8080/"
        },
        "outputId": "072483d1-23fe-40f8-ecee-6f202aa11d45"
      },
      "source": [
        "adj_matrix = np.ndarray(shape, dtype=int)\n",
        "for user_id, movie_id, rating, time in raw_data:\n",
        "  adj_matrix[user_id][movie_id] = rating\n",
        "adj_matrix"
      ],
      "execution_count": 24,
      "outputs": [
        {
          "output_type": "execute_result",
          "data": {
            "text/plain": [
              "array([[5, 3, 4, ..., 0, 0, 0],\n",
              "       [4, 0, 0, ..., 0, 0, 0],\n",
              "       [0, 0, 0, ..., 0, 0, 0],\n",
              "       ...,\n",
              "       [5, 0, 0, ..., 0, 0, 0],\n",
              "       [0, 0, 0, ..., 0, 0, 0],\n",
              "       [0, 5, 0, ..., 0, 0, 0]])"
            ]
          },
          "metadata": {},
          "execution_count": 24
        }
      ]
    },
    {
      "cell_type": "code",
      "metadata": {
        "colab": {
          "base_uri": "https://localhost:8080/"
        },
        "id": "XB8BeBK3vgDK",
        "outputId": "dd6dec98-4229-48ea-e4f8-4b1238e08590"
      },
      "source": [
        "my_id, my_vector = 0, adj_matrix[0]\n",
        "best_match, best_match_id, best_match_vector = 9999, -1, []\n",
        "\n",
        "for user_id, user_vector in enumerate(adj_matrix):\n",
        "  if my_id != user_id:\n",
        "    euclidean_dist = np.sqrt(np.sum(np.square(my_vector-user_vector)))\n",
        "    if euclidean_dist < best_match:\n",
        "      best_match = euclidean_dist\n",
        "      best_match_id = user_id\n",
        "      best_match_vector = user_vector\n",
        "print('Best Match: {}, Best Match ID: {}'.format(best_match, best_match_id))"
      ],
      "execution_count": 27,
      "outputs": [
        {
          "output_type": "stream",
          "name": "stdout",
          "text": [
            "Best Match: 55.06359959174482, Best Match ID: 737\n"
          ]
        }
      ]
    },
    {
      "cell_type": "code",
      "metadata": {
        "colab": {
          "base_uri": "https://localhost:8080/"
        },
        "id": "qONNOBDCvgDK",
        "outputId": "2494faba-197f-46a7-f180-16c29818e074"
      },
      "source": [
        "my_id, my_vector = 0, adj_matrix[0]\n",
        "best_match, best_match_id, best_match_vector = -1, -1, []\n",
        "\n",
        "for user_id, user_vector in enumerate(adj_matrix):\n",
        "  if my_id != user_id:\n",
        "    cos_similarity = compute_cos_similarity(my_vector, user_vector)\n",
        "    if cos_similarity > best_match:\n",
        "      best_match = cos_similarity\n",
        "      best_match_id = user_id\n",
        "      best_match_vector = user_vector\n",
        "print('Best Match: {}, Best Match ID: {}'.format(best_match, best_match_id))"
      ],
      "execution_count": 30,
      "outputs": [
        {
          "output_type": "stream",
          "name": "stdout",
          "text": [
            "Best Match: 0.569065731527988, Best Match ID: 915\n"
          ]
        }
      ]
    },
    {
      "cell_type": "markdown",
      "metadata": {
        "id": "HreRrslahd32"
      },
      "source": [
        "## 협업 필터링(Collaborative Filtering)\n",
        "\n",
        "* 사용자와 항목의 유사성을 동시에 고려해 추천\n",
        "* 기존에 내 관심사가 아닌 항목이라도 추천 가능\n",
        "* 자동으로 임베딩 학습 가능\n",
        "* 협업 필터링은 다음과 같은 장단점을 갖고 있다.\n",
        "  * 장점\n",
        "    * 자동으로 임베딩을 학습하기 때문에 도메인 지식이 필요 없다.\n",
        "    * 기존의 관심사가 아니더라도 추천 가능\n",
        "  * 단점\n",
        "    * 학습 과정에 나오지 않은 항목은 임베딩을 만들 수 없음\n",
        "    * 추가 특성을 사용하기 어려움"
      ]
    },
    {
      "cell_type": "code",
      "metadata": {
        "id": "BSj5Ex6yhPxq"
      },
      "source": [
        "from surprise import KNNBasic, SVD, SVDpp, NMF\n",
        "from surprise import Dataset\n",
        "from surprise.model_selection import cross_validate"
      ],
      "execution_count": 31,
      "outputs": []
    },
    {
      "cell_type": "code",
      "metadata": {
        "id": "mWAiO62WkH2U"
      },
      "source": [
        "data = Dataset.load_builtin('ml-100k', prompt=False)"
      ],
      "execution_count": 32,
      "outputs": []
    },
    {
      "cell_type": "markdown",
      "metadata": {
        "id": "LKP-UxZkkc8n"
      },
      "source": [
        "* KNN을 사용한 협업 필터링"
      ]
    },
    {
      "cell_type": "code",
      "metadata": {
        "id": "x9LlEDqvkayg",
        "colab": {
          "base_uri": "https://localhost:8080/"
        },
        "outputId": "238eeaa4-e7ad-431b-f255-2da0e3e8643e"
      },
      "source": [
        "model = KNNBasic()\n",
        "cross_validate(model, data, measures=['rmse', 'mae'], cv=5, n_jobs=4, verbose=True)"
      ],
      "execution_count": 33,
      "outputs": [
        {
          "output_type": "stream",
          "name": "stdout",
          "text": [
            "Evaluating RMSE, MAE of algorithm KNNBasic on 5 split(s).\n",
            "\n",
            "                  Fold 1  Fold 2  Fold 3  Fold 4  Fold 5  Mean    Std     \n",
            "RMSE (testset)    0.9831  0.9754  0.9805  0.9752  0.9745  0.9778  0.0034  \n",
            "MAE (testset)     0.7767  0.7706  0.7756  0.7699  0.7696  0.7725  0.0030  \n",
            "Fit time          0.42    0.55    0.68    0.63    0.39    0.53    0.11    \n",
            "Test time         6.85    8.52    7.89    6.37    4.08    6.74    1.53    \n"
          ]
        },
        {
          "output_type": "execute_result",
          "data": {
            "text/plain": [
              "{'fit_time': (0.4220609664916992,\n",
              "  0.5488920211791992,\n",
              "  0.6776840686798096,\n",
              "  0.6299347877502441,\n",
              "  0.38897252082824707),\n",
              " 'test_mae': array([0.77670081, 0.7705668 , 0.77556379, 0.76986431, 0.76957507]),\n",
              " 'test_rmse': array([0.9830988 , 0.97543468, 0.98054586, 0.9751861 , 0.97454575]),\n",
              " 'test_time': (6.847189664840698,\n",
              "  8.517900705337524,\n",
              "  7.894656658172607,\n",
              "  6.371650695800781,\n",
              "  4.084866523742676)}"
            ]
          },
          "metadata": {},
          "execution_count": 33
        }
      ]
    },
    {
      "cell_type": "markdown",
      "metadata": {
        "id": "QFEFPuSflHew"
      },
      "source": [
        "* SVD를 사용한 협업 필터링"
      ]
    },
    {
      "cell_type": "code",
      "metadata": {
        "id": "H6HJ5bKOlHIb",
        "colab": {
          "base_uri": "https://localhost:8080/"
        },
        "outputId": "49e3c030-9db3-4541-dfde-3a4e23c88e9f"
      },
      "source": [
        "model = SVD()\n",
        "cross_validate(model, data, measures=['rmse', 'mae'], cv=5, n_jobs=4, verbose=True)"
      ],
      "execution_count": 34,
      "outputs": [
        {
          "output_type": "stream",
          "name": "stdout",
          "text": [
            "Evaluating RMSE, MAE of algorithm SVD on 5 split(s).\n",
            "\n",
            "                  Fold 1  Fold 2  Fold 3  Fold 4  Fold 5  Mean    Std     \n",
            "RMSE (testset)    0.9389  0.9431  0.9344  0.9390  0.9201  0.9351  0.0080  \n",
            "MAE (testset)     0.7408  0.7425  0.7363  0.7393  0.7266  0.7371  0.0056  \n",
            "Fit time          11.88   14.96   14.95   12.62   8.45    12.57   2.40    \n",
            "Test time         0.59    0.58    0.42    0.28    0.17    0.41    0.17    \n"
          ]
        },
        {
          "output_type": "execute_result",
          "data": {
            "text/plain": [
              "{'fit_time': (11.882544040679932,\n",
              "  14.95928406715393,\n",
              "  14.948237419128418,\n",
              "  12.621994972229004,\n",
              "  8.445727586746216),\n",
              " 'test_mae': array([0.74081017, 0.74250274, 0.73630227, 0.73925096, 0.72657497]),\n",
              " 'test_rmse': array([0.93890163, 0.94306537, 0.93441975, 0.93898764, 0.92007635]),\n",
              " 'test_time': (0.5946190357208252,\n",
              "  0.5818500518798828,\n",
              "  0.41957974433898926,\n",
              "  0.2841765880584717,\n",
              "  0.17056632041931152)}"
            ]
          },
          "metadata": {},
          "execution_count": 34
        }
      ]
    },
    {
      "cell_type": "markdown",
      "metadata": {
        "id": "MqK8Xgeglkmj"
      },
      "source": [
        "* NMF를 사용한 협업 필터링"
      ]
    },
    {
      "cell_type": "code",
      "metadata": {
        "id": "zSwGKHEDkyue",
        "colab": {
          "base_uri": "https://localhost:8080/"
        },
        "outputId": "a5aca3f5-7396-4da4-e36f-1ee8f5b22996"
      },
      "source": [
        "model = NMF()\n",
        "cross_validate(model, data, measures=['rmse', 'mae'], cv=5, n_jobs=4, verbose=True)"
      ],
      "execution_count": 35,
      "outputs": [
        {
          "output_type": "stream",
          "name": "stdout",
          "text": [
            "Evaluating RMSE, MAE of algorithm NMF on 5 split(s).\n",
            "\n",
            "                  Fold 1  Fold 2  Fold 3  Fold 4  Fold 5  Mean    Std     \n",
            "RMSE (testset)    0.9594  0.9682  0.9703  0.9574  0.9662  0.9643  0.0050  \n",
            "MAE (testset)     0.7531  0.7628  0.7643  0.7537  0.7614  0.7591  0.0047  \n",
            "Fit time          13.36   15.76   15.64   13.42   8.57    13.35   2.60    \n",
            "Test time         0.66    0.57    0.44    0.24    0.15    0.41    0.19    \n"
          ]
        },
        {
          "output_type": "execute_result",
          "data": {
            "text/plain": [
              "{'fit_time': (13.358543872833252,\n",
              "  15.755715131759644,\n",
              "  15.638553619384766,\n",
              "  13.420872449874878,\n",
              "  8.57331395149231),\n",
              " 'test_mae': array([0.75311815, 0.76282741, 0.76433801, 0.75367906, 0.76140314]),\n",
              " 'test_rmse': array([0.9594007 , 0.96818746, 0.97030869, 0.95743618, 0.96620357]),\n",
              " 'test_time': (0.6575870513916016,\n",
              "  0.5665805339813232,\n",
              "  0.4378321170806885,\n",
              "  0.23763370513916016,\n",
              "  0.1462864875793457)}"
            ]
          },
          "metadata": {},
          "execution_count": 35
        }
      ]
    },
    {
      "cell_type": "markdown",
      "metadata": {
        "id": "odXxXkX0mi_7"
      },
      "source": [
        "* SVD++를 사용한 협업 필터링"
      ]
    },
    {
      "cell_type": "code",
      "metadata": {
        "id": "Ck153w1Tlsxa",
        "colab": {
          "base_uri": "https://localhost:8080/"
        },
        "outputId": "df66c7ee-28c2-45be-e008-354e68fb3590"
      },
      "source": [
        "model = SVDpp()\n",
        "cross_validate(model, data, measures=['rmse', 'mae'], cv=5, n_jobs=4, verbose=True)"
      ],
      "execution_count": 36,
      "outputs": [
        {
          "output_type": "stream",
          "name": "stdout",
          "text": [
            "Evaluating RMSE, MAE of algorithm SVDpp on 5 split(s).\n",
            "\n",
            "                  Fold 1  Fold 2  Fold 3  Fold 4  Fold 5  Mean    Std     \n",
            "RMSE (testset)    0.9216  0.9257  0.9194  0.9122  0.9253  0.9208  0.0049  \n",
            "MAE (testset)     0.7189  0.7286  0.7200  0.7146  0.7285  0.7221  0.0055  \n",
            "Fit time          623.79  639.20  637.36  643.34  176.68  544.07  183.81  \n",
            "Test time         11.94   12.20   11.49   6.27    3.13    9.01    3.66    \n"
          ]
        },
        {
          "output_type": "execute_result",
          "data": {
            "text/plain": [
              "{'fit_time': (623.787816286087,\n",
              "  639.1952817440033,\n",
              "  637.3615119457245,\n",
              "  643.3427932262421,\n",
              "  176.68298721313477),\n",
              " 'test_mae': array([0.7189476 , 0.7286295 , 0.72000857, 0.71463269, 0.72845989]),\n",
              " 'test_rmse': array([0.92155568, 0.92565722, 0.91943667, 0.91223522, 0.92530726]),\n",
              " 'test_time': (11.936380863189697,\n",
              "  12.201005458831787,\n",
              "  11.494808197021484,\n",
              "  6.267462253570557,\n",
              "  3.130169153213501)}"
            ]
          },
          "metadata": {},
          "execution_count": 36
        }
      ]
    },
    {
      "cell_type": "markdown",
      "metadata": {
        "id": "hMNwOXpjqeWq"
      },
      "source": [
        "## 하이브리드(Hybrid)\n",
        "\n",
        "* 컨텐츠 기반 필터링과 협업 필터링을 조합한 방식\n",
        "* 많은 하이브리드 방식이 존재\n",
        "* 실습에서는 협업 필터링으로 임베딩을 학습하고 컨텐츠 기반 필터링으로 유사도 기반 추천을 수행하는 추천 엔진 개발"
      ]
    },
    {
      "cell_type": "code",
      "metadata": {
        "id": "9mDHmnwFmzwd"
      },
      "source": [
        "import numpy as np\n",
        "from sklearn.decomposition import randomized_svd, non_negative_factorization\n",
        "from surprise import Dataset"
      ],
      "execution_count": 51,
      "outputs": []
    },
    {
      "cell_type": "code",
      "metadata": {
        "id": "MtEuyQGGMmor"
      },
      "source": [
        "data = Dataset.load_builtin('ml-100k', prompt=False)\n",
        "raw_data = np.array(data.raw_ratings, dtype=int)\n",
        "raw_data[:, 0] -= 1\n",
        "raw_data[:, 1] -= 1"
      ],
      "execution_count": 52,
      "outputs": []
    },
    {
      "cell_type": "code",
      "metadata": {
        "id": "esDSrjm_NshD",
        "colab": {
          "base_uri": "https://localhost:8080/"
        },
        "outputId": "1e145a14-d129-457a-f9e7-182c5d51e118"
      },
      "source": [
        "n_users = np.max(raw_data[:, 0])\n",
        "n_movies = np.max(raw_data[:, 1])\n",
        "shape = (n_users + 1, n_movies + 1)\n",
        "shape"
      ],
      "execution_count": 53,
      "outputs": [
        {
          "output_type": "execute_result",
          "data": {
            "text/plain": [
              "(943, 1682)"
            ]
          },
          "metadata": {},
          "execution_count": 53
        }
      ]
    },
    {
      "cell_type": "code",
      "metadata": {
        "id": "v6lc4h2sNY_7",
        "colab": {
          "base_uri": "https://localhost:8080/"
        },
        "outputId": "304fb015-eef5-4b0c-bf08-7ab3fe317837"
      },
      "source": [
        "adj_matrix"
      ],
      "execution_count": 54,
      "outputs": [
        {
          "output_type": "execute_result",
          "data": {
            "text/plain": [
              "array([[5, 3, 4, ..., 0, 0, 0],\n",
              "       [4, 0, 0, ..., 0, 0, 0],\n",
              "       [0, 0, 0, ..., 0, 0, 0],\n",
              "       ...,\n",
              "       [5, 0, 0, ..., 0, 0, 0],\n",
              "       [0, 0, 0, ..., 0, 0, 0],\n",
              "       [0, 5, 0, ..., 0, 0, 0]])"
            ]
          },
          "metadata": {},
          "execution_count": 54
        }
      ]
    },
    {
      "cell_type": "code",
      "metadata": {
        "id": "bZnx294OTntk"
      },
      "source": [
        "U, S, V = randomized_svd(adj_matrix, n_components=2)\n",
        "S = np.diag(S)"
      ],
      "execution_count": 55,
      "outputs": []
    },
    {
      "cell_type": "code",
      "metadata": {
        "id": "mpw7bmE-SVon",
        "colab": {
          "base_uri": "https://localhost:8080/"
        },
        "outputId": "21c6fd88-586f-4d16-abeb-2efc8c7e0f96"
      },
      "source": [
        "print(U.shape)\n",
        "print(S.shape)\n",
        "print(V.shape)"
      ],
      "execution_count": 56,
      "outputs": [
        {
          "output_type": "stream",
          "name": "stdout",
          "text": [
            "(943, 2)\n",
            "(2, 2)\n",
            "(2, 1682)\n"
          ]
        }
      ]
    },
    {
      "cell_type": "code",
      "metadata": {
        "id": "sdnXxd6lODFy",
        "colab": {
          "base_uri": "https://localhost:8080/"
        },
        "outputId": "cbd1b444-29da-4ddf-c215-2e6b0a1f6985"
      },
      "source": [
        "np.matmul(np.matmul(U, S), V)"
      ],
      "execution_count": 57,
      "outputs": [
        {
          "output_type": "execute_result",
          "data": {
            "text/plain": [
              "array([[ 3.91732663e+00,  1.47276644e+00,  7.98261988e-01, ...,\n",
              "         6.24907189e-04,  1.41100852e-02,  1.36545878e-02],\n",
              "       [ 1.85777226e+00,  3.96191175e-01,  5.05705740e-01, ...,\n",
              "         5.38862978e-03,  1.77237914e-03,  5.26968095e-04],\n",
              "       [ 8.94989517e-01,  1.71578497e-01,  2.51738682e-01, ...,\n",
              "         2.92094923e-03,  5.39937171e-04, -1.25733753e-04],\n",
              "       ...,\n",
              "       [ 9.92051955e-01,  2.10814957e-01,  2.70363365e-01, ...,\n",
              "         2.89019297e-03,  9.34221962e-04,  2.66612193e-04],\n",
              "       [ 1.30425401e+00,  5.27669941e-01,  2.50080165e-01, ...,\n",
              "        -4.20677765e-04,  5.30525683e-03,  5.28069948e-03],\n",
              "       [ 2.82999397e+00,  9.70812247e-01,  6.15871694e-01, ...,\n",
              "         2.02091492e-03,  8.67740813e-03,  8.03107892e-03]])"
            ]
          },
          "metadata": {},
          "execution_count": 57
        }
      ]
    },
    {
      "cell_type": "code",
      "metadata": {
        "id": "zBvnhmuhOxDx",
        "colab": {
          "base_uri": "https://localhost:8080/"
        },
        "outputId": "4ee8cd0a-9584-4426-8d7a-ba3a942517c6"
      },
      "source": [
        "my_id, my_vector = 0, U[0]\n",
        "best_match, best_match_id"
      ],
      "execution_count": 58,
      "outputs": [
        {
          "output_type": "execute_result",
          "data": {
            "text/plain": [
              "(0.569065731527988, 915)"
            ]
          },
          "metadata": {},
          "execution_count": 58
        }
      ]
    },
    {
      "cell_type": "markdown",
      "metadata": {
        "id": "3pSBMfF7d74E"
      },
      "source": [
        "* 사용자 기반 추천\n",
        "* 나와 비슷한 취향을 가진 다른 사용자의 행동을 추천\n",
        "* 사용자 특징 벡터의 유사도 사용"
      ]
    },
    {
      "cell_type": "code",
      "metadata": {
        "id": "N6nYexy6cq9V",
        "colab": {
          "base_uri": "https://localhost:8080/"
        },
        "outputId": "7f104666-5a08-4547-b8f2-71379d6efd2c"
      },
      "source": [
        "my_id, my_vector = 0, U[0]\n",
        "best_match, best_match_id, best_match_vector = -1, -1, []\n",
        "\n",
        "for user_id, user_vector in enumerate(U):\n",
        "  if my_id != user_id:\n",
        "    cos_similarity = compute_cos_similarity(my_vector, user_vector)\n",
        "    if cos_similarity > best_match:\n",
        "      best_match = cos_similarity\n",
        "      best_match_id = user_id\n",
        "      best_match_vector = user_vector\n",
        "print('Best Match: {}, Best Match ID: {}'.format(best_match, best_match_id))"
      ],
      "execution_count": 59,
      "outputs": [
        {
          "output_type": "stream",
          "name": "stdout",
          "text": [
            "Best Match: 0.9999942295956324, Best Match ID: 235\n"
          ]
        }
      ]
    },
    {
      "cell_type": "code",
      "metadata": {
        "id": "wdISUAEIfoHi",
        "colab": {
          "base_uri": "https://localhost:8080/"
        },
        "outputId": "e8a9757e-e20a-4987-b09d-af5bc90e7612"
      },
      "source": [
        "recommend_list = []\n",
        "for i, log in enumerate(zip(adj_matrix[my_id], adj_matrix[best_match_id])):\n",
        "  log1, log2 = log\n",
        "  if log1 < 1. and log2 > 0.:\n",
        "    recommend_list.append(i)\n",
        "print(recommend_list)"
      ],
      "execution_count": 60,
      "outputs": [
        {
          "output_type": "stream",
          "name": "stdout",
          "text": [
            "[272, 273, 274, 281, 285, 288, 293, 297, 303, 306, 312, 317, 327, 332, 369, 410, 418, 419, 422, 426, 428, 431, 434, 442, 461, 475, 477, 482, 495, 503, 504, 505, 506, 509, 519, 520, 522, 525, 531, 545, 548, 590, 594, 595, 613, 631, 654, 658, 660, 672, 684, 685, 691, 695, 698, 704, 716, 728, 734, 749, 755, 863, 865, 933, 1012, 1038, 1101, 1327, 1400]\n"
          ]
        }
      ]
    },
    {
      "cell_type": "markdown",
      "metadata": {
        "id": "0nSD2izbhJix"
      },
      "source": [
        "* 항목 기반 추천\n",
        "* 내가 본 항목과 비슷한 항목을 추천\n",
        "* 항목 특징 벡터의 유사도 사용"
      ]
    },
    {
      "cell_type": "code",
      "metadata": {
        "colab": {
          "base_uri": "https://localhost:8080/"
        },
        "id": "Oi_ECJdWxSQJ",
        "outputId": "7ab90d03-5fae-4582-cf21-8f307759a41c"
      },
      "source": [
        "my_id, my_vector = 0, V.T[0]\n",
        "best_match, best_match_id, best_match_vector = -1, -1, []\n",
        "\n",
        "for user_id, user_vector in enumerate(V.T):\n",
        "  if my_id != user_id:\n",
        "    cos_similarity = compute_cos_similarity(my_vector, user_vector)\n",
        "    if cos_similarity > best_match:\n",
        "      best_match = cos_similarity\n",
        "      best_match_id = user_id\n",
        "      best_match_vector = user_vector\n",
        "print('Best Match: {}, Best Match ID: {}'.format(best_match, best_match_id))"
      ],
      "execution_count": 61,
      "outputs": [
        {
          "output_type": "stream",
          "name": "stdout",
          "text": [
            "Best Match: 0.9999999951364145, Best Match ID: 1287\n"
          ]
        }
      ]
    },
    {
      "cell_type": "code",
      "metadata": {
        "colab": {
          "base_uri": "https://localhost:8080/"
        },
        "id": "cJ1W9oAIxSQP",
        "outputId": "e6921789-c7ef-4851-d1d3-ddf9b8df3e97"
      },
      "source": [
        "recommend_list = []\n",
        "for i, user_vector in enumerate(adj_matrix):\n",
        "  if adj_matrix[i][my_id] > 0.9:\n",
        "    recommend_list.append(i)\n",
        "print(recommend_list)"
      ],
      "execution_count": 62,
      "outputs": [
        {
          "output_type": "stream",
          "name": "stdout",
          "text": [
            "[0, 1, 4, 5, 9, 12, 14, 15, 16, 17, 19, 20, 22, 24, 25, 37, 40, 41, 42, 43, 44, 48, 53, 55, 56, 57, 58, 61, 62, 63, 64, 65, 66, 69, 71, 72, 74, 76, 78, 80, 81, 82, 83, 88, 91, 92, 93, 94, 95, 96, 98, 100, 101, 105, 107, 108, 116, 119, 120, 123, 124, 127, 129, 130, 133, 136, 137, 140, 143, 144, 147, 149, 150, 156, 157, 159, 161, 167, 173, 176, 177, 180, 181, 183, 188, 192, 193, 197, 198, 199, 200, 201, 202, 203, 208, 209, 212, 215, 221, 222, 229, 230, 231, 233, 234, 241, 242, 243, 245, 246, 247, 248, 249, 250, 251, 252, 253, 255, 261, 262, 264, 267, 270, 273, 274, 275, 276, 278, 279, 285, 286, 288, 289, 290, 291, 292, 293, 294, 295, 296, 297, 298, 300, 302, 304, 306, 307, 310, 311, 312, 313, 319, 321, 323, 324, 325, 326, 329, 330, 331, 335, 337, 338, 339, 342, 343, 344, 346, 347, 349, 356, 358, 359, 362, 364, 370, 373, 377, 378, 379, 380, 386, 387, 388, 389, 392, 393, 394, 395, 397, 398, 400, 401, 402, 405, 406, 410, 411, 415, 416, 418, 421, 423, 424, 428, 431, 433, 434, 437, 440, 444, 446, 449, 453, 454, 455, 456, 457, 458, 459, 462, 464, 466, 467, 469, 470, 471, 477, 478, 482, 483, 485, 486, 487, 489, 492, 493, 494, 496, 499, 502, 504, 507, 511, 513, 516, 517, 520, 522, 524, 525, 531, 532, 533, 534, 535, 536, 539, 540, 541, 544, 547, 548, 549, 551, 552, 553, 559, 560, 561, 566, 568, 575, 576, 578, 579, 581, 587, 591, 592, 596, 598, 601, 604, 605, 608, 609, 611, 612, 613, 617, 619, 620, 621, 623, 629, 631, 633, 634, 635, 636, 641, 642, 647, 648, 649, 652, 653, 654, 656, 657, 659, 660, 662, 663, 664, 668, 673, 675, 676, 677, 678, 679, 681, 683, 688, 689, 690, 691, 696, 697, 698, 700, 702, 704, 705, 707, 708, 709, 713, 714, 715, 720, 722, 725, 726, 729, 730, 732, 734, 737, 741, 743, 744, 745, 746, 747, 748, 750, 755, 756, 758, 760, 762, 763, 766, 767, 768, 769, 770, 772, 776, 778, 784, 785, 787, 788, 789, 791, 792, 793, 794, 795, 797, 799, 803, 804, 805, 806, 814, 816, 820, 821, 822, 825, 828, 829, 830, 834, 837, 838, 842, 846, 851, 853, 863, 864, 866, 867, 869, 871, 878, 879, 880, 881, 882, 884, 885, 886, 888, 889, 891, 892, 893, 894, 895, 896, 898, 900, 901, 902, 906, 909, 912, 915, 916, 917, 918, 920, 921, 922, 923, 926, 928, 929, 931, 932, 933, 934, 935, 937, 940]\n"
          ]
        }
      ]
    },
    {
      "cell_type": "code",
      "metadata": {
        "id": "vCLxtkLdgM-s",
        "colab": {
          "base_uri": "https://localhost:8080/"
        },
        "outputId": "4afe4a30-2708-4905-d9b6-a10d2f5af24b"
      },
      "source": [
        "adj_matrix"
      ],
      "execution_count": 63,
      "outputs": [
        {
          "output_type": "execute_result",
          "data": {
            "text/plain": [
              "array([[5, 3, 4, ..., 0, 0, 0],\n",
              "       [4, 0, 0, ..., 0, 0, 0],\n",
              "       [0, 0, 0, ..., 0, 0, 0],\n",
              "       ...,\n",
              "       [5, 0, 0, ..., 0, 0, 0],\n",
              "       [0, 0, 0, ..., 0, 0, 0],\n",
              "       [0, 5, 0, ..., 0, 0, 0]])"
            ]
          },
          "metadata": {},
          "execution_count": 63
        }
      ]
    },
    {
      "cell_type": "code",
      "metadata": {
        "id": "IZ49Abk7iBeU"
      },
      "source": [
        "A, B, iter = non_negative_factorization(adj_matrix, n_components=2, init=None)"
      ],
      "execution_count": 64,
      "outputs": []
    },
    {
      "cell_type": "markdown",
      "metadata": {
        "id": "7uAlUROxj2nA"
      },
      "source": [
        "* 비음수 행렬 분해를 사용한 하이브리드 추천"
      ]
    },
    {
      "cell_type": "code",
      "metadata": {
        "id": "Ou2UGuXMTY39",
        "colab": {
          "base_uri": "https://localhost:8080/"
        },
        "outputId": "78476591-6297-49b6-ef2f-f85d2ea5459a"
      },
      "source": [
        "np.matmul(A, B)"
      ],
      "execution_count": 65,
      "outputs": [
        {
          "output_type": "execute_result",
          "data": {
            "text/plain": [
              "array([[3.71108858e+00, 1.48454102e+00, 7.39535363e-01, ...,\n",
              "        3.64490531e-03, 1.45506510e-02, 1.44110916e-02],\n",
              "       [2.11724416e+00, 2.37338725e-01, 5.51650703e-01, ...,\n",
              "        4.76092332e-03, 3.03585167e-05, 0.00000000e+00],\n",
              "       [9.85272360e-01, 1.10447010e-01, 2.56713988e-01, ...,\n",
              "        2.21552443e-03, 1.41275191e-05, 0.00000000e+00],\n",
              "       ...,\n",
              "       [1.04485667e+00, 1.17126289e-01, 2.72238757e-01, ...,\n",
              "        2.34950819e-03, 1.49818804e-05, 0.00000000e+00],\n",
              "       [1.45758857e+00, 5.42112787e-01, 2.99181695e-01, ...,\n",
              "        1.61177659e-03, 5.15921394e-03, 5.10771005e-03],\n",
              "       [2.44733103e+00, 9.41208708e-01, 4.95740038e-01, ...,\n",
              "        2.56992125e-03, 9.08287324e-03, 8.99389282e-03]])"
            ]
          },
          "metadata": {},
          "execution_count": 65
        }
      ]
    },
    {
      "cell_type": "markdown",
      "metadata": {
        "id": "6DGX9EtEop4i"
      },
      "source": [
        "* 사용자 기반 추천"
      ]
    },
    {
      "cell_type": "code",
      "metadata": {
        "colab": {
          "base_uri": "https://localhost:8080/"
        },
        "id": "gXpBGLrXz2KA",
        "outputId": "14443c58-92e2-4f9f-f138-f462dc9608e4"
      },
      "source": [
        "my_id, my_vector = 0, A[0]\n",
        "best_match, best_match_id, best_match_vector = -1, -1, []\n",
        "\n",
        "for user_id, user_vector in enumerate(A):\n",
        "  if my_id != user_id:\n",
        "    cos_similarity = compute_cos_similarity(my_vector, user_vector)\n",
        "    if cos_similarity > best_match:\n",
        "      best_match = cos_similarity\n",
        "      best_match_id = user_id\n",
        "      best_match_vector = user_vector\n",
        "print('Best Match: {}, Best Match ID: {}'.format(best_match, best_match_id))"
      ],
      "execution_count": 66,
      "outputs": [
        {
          "output_type": "stream",
          "name": "stdout",
          "text": [
            "Best Match: 0.9999996856299423, Best Match ID: 314\n"
          ]
        }
      ]
    },
    {
      "cell_type": "code",
      "metadata": {
        "colab": {
          "base_uri": "https://localhost:8080/"
        },
        "id": "Jjl0kyGWz2KG",
        "outputId": "6d879f28-0a1e-4b60-c1f0-152b3a49ea88"
      },
      "source": [
        "recommend_list = []\n",
        "for i, log in enumerate(zip(adj_matrix[my_id], adj_matrix[best_match_id])):\n",
        "  log1, log2 = log\n",
        "  if log1 < 1. and log2 > 0.:\n",
        "    recommend_list.append(i)\n",
        "print(recommend_list)"
      ],
      "execution_count": 69,
      "outputs": [
        {
          "output_type": "stream",
          "name": "stdout",
          "text": [
            "[272, 275, 284, 285, 287, 300, 301, 302, 304, 317, 323, 326, 339, 381, 427, 430, 432, 460, 465, 474, 503, 507, 512, 519, 522, 530, 602, 641, 644, 650, 653, 656, 672, 708, 731, 740, 745, 769, 791, 1064, 1083]\n"
          ]
        }
      ]
    },
    {
      "cell_type": "markdown",
      "metadata": {
        "id": "F21eqO8dosUE"
      },
      "source": [
        "* 항목 기반 추천"
      ]
    },
    {
      "cell_type": "code",
      "metadata": {
        "colab": {
          "base_uri": "https://localhost:8080/"
        },
        "id": "HVuFoU-Lz2h0",
        "outputId": "e4a4e192-e309-499d-85be-74a31ebf24c6"
      },
      "source": [
        "my_id, my_vector = 0, B.T[0]\n",
        "best_match, best_match_id, best_match_vector = -1, -1, []\n",
        "\n",
        "for user_id, user_vector in enumerate(B.T):\n",
        "  if my_id != user_id:\n",
        "    cos_similarity = compute_cos_similarity(my_vector, user_vector)\n",
        "    if cos_similarity > best_match:\n",
        "      best_match = cos_similarity\n",
        "      best_match_id = user_id\n",
        "      best_match_vector = user_vector\n",
        "print('Best Match: {}, Best Match ID: {}'.format(best_match, best_match_id))"
      ],
      "execution_count": 70,
      "outputs": [
        {
          "output_type": "stream",
          "name": "stdout",
          "text": [
            "Best Match: 0.9999999946284726, Best Match ID: 255\n"
          ]
        }
      ]
    },
    {
      "cell_type": "code",
      "metadata": {
        "colab": {
          "base_uri": "https://localhost:8080/"
        },
        "id": "6yeiNoCNz2h2",
        "outputId": "de1394b5-3f89-4d9d-9759-dddce9aa29c2"
      },
      "source": [
        "recommend_list = []\n",
        "for i, user_vector in enumerate(adj_matrix):\n",
        "  if adj_matrix[i][my_id] > 0.9:\n",
        "    recommend_list.append(i)\n",
        "print(recommend_list)"
      ],
      "execution_count": 71,
      "outputs": [
        {
          "output_type": "stream",
          "name": "stdout",
          "text": [
            "[0, 1, 4, 5, 9, 12, 14, 15, 16, 17, 19, 20, 22, 24, 25, 37, 40, 41, 42, 43, 44, 48, 53, 55, 56, 57, 58, 61, 62, 63, 64, 65, 66, 69, 71, 72, 74, 76, 78, 80, 81, 82, 83, 88, 91, 92, 93, 94, 95, 96, 98, 100, 101, 105, 107, 108, 116, 119, 120, 123, 124, 127, 129, 130, 133, 136, 137, 140, 143, 144, 147, 149, 150, 156, 157, 159, 161, 167, 173, 176, 177, 180, 181, 183, 188, 192, 193, 197, 198, 199, 200, 201, 202, 203, 208, 209, 212, 215, 221, 222, 229, 230, 231, 233, 234, 241, 242, 243, 245, 246, 247, 248, 249, 250, 251, 252, 253, 255, 261, 262, 264, 267, 270, 273, 274, 275, 276, 278, 279, 285, 286, 288, 289, 290, 291, 292, 293, 294, 295, 296, 297, 298, 300, 302, 304, 306, 307, 310, 311, 312, 313, 319, 321, 323, 324, 325, 326, 329, 330, 331, 335, 337, 338, 339, 342, 343, 344, 346, 347, 349, 356, 358, 359, 362, 364, 370, 373, 377, 378, 379, 380, 386, 387, 388, 389, 392, 393, 394, 395, 397, 398, 400, 401, 402, 405, 406, 410, 411, 415, 416, 418, 421, 423, 424, 428, 431, 433, 434, 437, 440, 444, 446, 449, 453, 454, 455, 456, 457, 458, 459, 462, 464, 466, 467, 469, 470, 471, 477, 478, 482, 483, 485, 486, 487, 489, 492, 493, 494, 496, 499, 502, 504, 507, 511, 513, 516, 517, 520, 522, 524, 525, 531, 532, 533, 534, 535, 536, 539, 540, 541, 544, 547, 548, 549, 551, 552, 553, 559, 560, 561, 566, 568, 575, 576, 578, 579, 581, 587, 591, 592, 596, 598, 601, 604, 605, 608, 609, 611, 612, 613, 617, 619, 620, 621, 623, 629, 631, 633, 634, 635, 636, 641, 642, 647, 648, 649, 652, 653, 654, 656, 657, 659, 660, 662, 663, 664, 668, 673, 675, 676, 677, 678, 679, 681, 683, 688, 689, 690, 691, 696, 697, 698, 700, 702, 704, 705, 707, 708, 709, 713, 714, 715, 720, 722, 725, 726, 729, 730, 732, 734, 737, 741, 743, 744, 745, 746, 747, 748, 750, 755, 756, 758, 760, 762, 763, 766, 767, 768, 769, 770, 772, 776, 778, 784, 785, 787, 788, 789, 791, 792, 793, 794, 795, 797, 799, 803, 804, 805, 806, 814, 816, 820, 821, 822, 825, 828, 829, 830, 834, 837, 838, 842, 846, 851, 853, 863, 864, 866, 867, 869, 871, 878, 879, 880, 881, 882, 884, 885, 886, 888, 889, 891, 892, 893, 894, 895, 896, 898, 900, 901, 902, 906, 909, 912, 915, 916, 917, 918, 920, 921, 922, 923, 926, 928, 929, 931, 932, 933, 934, 935, 937, 940]\n"
          ]
        }
      ]
    }
  ]
}